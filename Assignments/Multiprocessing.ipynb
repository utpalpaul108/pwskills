{
 "cells": [
  {
   "cell_type": "markdown",
   "id": "be6cad9e-5cbe-46a6-aea6-211ba95028df",
   "metadata": {},
   "source": [
    "## Assignment on Multiprocessing"
   ]
  },
  {
   "cell_type": "markdown",
   "id": "5c9e2181-8007-41da-9f91-3c8ad70b3875",
   "metadata": {},
   "source": [
    "**Q1. What is multiprocessing in python? Why is it useful?**"
   ]
  },
  {
   "cell_type": "markdown",
   "id": "296dc183-ff55-4aa6-b623-169b82b860b3",
   "metadata": {},
   "source": [
    "Multiprocessing in Python refers to the ability to run multiple processes simultaneously using multiple CPUs or cores, which enables parallel processing of data and thus can significantly reduce the execution time of CPU-bound tasks.\n",
    "\n",
    "In Python, the multiprocessing module provides a way to create and manage processes, similar to how the threading module provides a way to create and manage threads. The multiprocessing module allows developers to write parallel and concurrent programs in Python by spawning multiple processes that can run concurrently and communicate with each other using interprocess communication mechanisms.\n",
    "\n",
    "The main advantage of multiprocessing is that it enables Python programs to take advantage of multiple processors or cores, which can lead to significant improvements in performance for certain types of programs, such as those that perform intensive computational tasks. Additionally, multiprocessing can help to improve the overall responsiveness of a program by allowing tasks to be executed concurrently and asynchronously, rather than waiting for one task to complete before starting another.\n",
    "\n",
    "Some examples of use cases where multiprocessing can be useful include image processing, data analysis, scientific computing, and machine learning, among others. By using multiprocessing, Python programs can take advantage of the available hardware resources and achieve higher levels of performance and efficiency."
   ]
  },
  {
   "cell_type": "code",
   "execution_count": null,
   "id": "67168fb7-d861-4de7-b299-f4c191ebefd2",
   "metadata": {},
   "outputs": [],
   "source": []
  },
  {
   "cell_type": "markdown",
   "id": "8516a512-d226-4ba5-8f16-4efcb9717fd1",
   "metadata": {
    "tags": []
   },
   "source": [
    "**Q2. What are the differences between multiprocessing and multithreading?**"
   ]
  },
  {
   "cell_type": "markdown",
   "id": "535f35f7-06ae-432f-a271-c2623848c72b",
   "metadata": {},
   "source": [
    "Multiprocessing and multithreading are both techniques used to achieve parallelism and improve performance in software applications, but they differ in their approach to parallelism.\n",
    "\n",
    "In multiprocessing, multiple processes are created, each running in a separate memory space, and each process can execute tasks concurrently. Each process has its own memory space and system resources, and interprocess communication mechanisms are used to share data between processes.\n",
    "\n",
    "On the other hand, multithreading involves creating multiple threads within a single process. Each thread shares the same memory space and system resources as the main thread, and each thread can perform a different task concurrently. Threads within a process share the same memory space and can access the same data structures, which makes them suitable for tasks that require sharing of data between threads.\n",
    "\n",
    "Some of the key differences between multiprocessing and multithreading are:\n",
    "\n",
    "* **Memory Management:** In multiprocessing, each process has its own memory space, while in multithreading, all threads within a process share the same memory space.\n",
    "\n",
    "* **Inter-Process Communication:** In multiprocessing, inter-process communication mechanisms like pipes, queues, and shared memory are used to share data between processes, while in multithreading, threads can access shared memory and data structures within a process.\n",
    "\n",
    "* **Resource Allocation:** In multiprocessing, each process has its own system resources like CPU and memory, while in multithreading, threads within a process share the same system resources.\n",
    "\n",
    "* **Scalability:** Multiprocessing can be more scalable than multithreading since it can take advantage of multiple CPUs or cores on a machine, while multithreading is limited by the number of available CPUs or cores within a machine.\n",
    "\n",
    "In summary, multiprocessing is suitable for tasks that require significant parallelism, involve intensive CPU computations, and can benefit from multiple CPUs or cores. On the other hand, multithreading is suitable for tasks that require lightweight parallelism, involve I/O-bound tasks, and require sharing of data within a single process."
   ]
  },
  {
   "cell_type": "code",
   "execution_count": null,
   "id": "8fd0d720-7572-4838-8d4c-d45e4f74ee97",
   "metadata": {},
   "outputs": [],
   "source": []
  },
  {
   "cell_type": "markdown",
   "id": "0afadd7d-3ef9-47bb-b321-53a468c1c48b",
   "metadata": {},
   "source": [
    "**Q3. Write a python code to create a process using the multiprocessing module.**"
   ]
  },
  {
   "cell_type": "code",
   "execution_count": 2,
   "id": "da6fee51-33bd-4338-828a-827aa46440ff",
   "metadata": {
    "tags": []
   },
   "outputs": [
    {
     "name": "stdout",
     "output_type": "stream",
     "text": [
      "Processed Started by : Hasan\n",
      "Processed Started by : Utpal\n",
      "All process END\n"
     ]
    }
   ],
   "source": [
    "import multiprocessing\n",
    "\n",
    "def test(name):\n",
    "    print(f\"Processed Started by : {name}\")\n",
    "\n",
    "if __name__ == \"__main__\":\n",
    "    p1 = multiprocessing.Process(target=test, args=(\"Utpal\", ))\n",
    "    p2 = multiprocessing.Process(target=test, args=(\"Hasan\", ))\n",
    "    \n",
    "    p1.start()\n",
    "    p2.start()\n",
    "    \n",
    "    p1.join()\n",
    "    p2.join()\n",
    "    print(\"All process END\")"
   ]
  },
  {
   "cell_type": "code",
   "execution_count": null,
   "id": "a03604fa-ab31-4614-80e4-6fa07675eae5",
   "metadata": {},
   "outputs": [],
   "source": []
  },
  {
   "cell_type": "markdown",
   "id": "5011ad71-90dd-4c16-80fb-691bf359e8a9",
   "metadata": {},
   "source": [
    "**Q4. What is a multiprocessing pool in python? Why is it used?**"
   ]
  },
  {
   "cell_type": "markdown",
   "id": "959dea17-5c44-48d1-8171-a29f8f55e0ee",
   "metadata": {},
   "source": [
    "A multiprocessing pool in Python is a way of distributing a set of tasks across a fixed number of worker processes to speed up the execution time. It is part of the multiprocessing module, which provides a way to spawn processes using an API similar to the threading module.\n",
    "\n",
    "The pool object in multiprocessing provides a convenient way of parallelizing the execution of a function across multiple input values, distributing the data across processes, and collecting the results in a single object. The pool object creates a fixed number of worker processes, and each process is assigned a task to perform.\n",
    "\n",
    "The multiprocessing.Pool() constructor takes a single argument, which is the number of worker processes to create. By default, it uses the number of processors available on the machine.\n",
    "\n",
    "Using a multiprocessing pool is often useful when you have a large amount of data to process or a function that needs to be applied to a large number of inputs. It can significantly reduce the processing time by parallelizing the computation and taking advantage of multiple cores or CPUs available on the machine."
   ]
  },
  {
   "cell_type": "code",
   "execution_count": null,
   "id": "73561143-4ead-4a36-8c0c-615f3c77cb1a",
   "metadata": {},
   "outputs": [],
   "source": []
  },
  {
   "cell_type": "markdown",
   "id": "46347107-80a8-40c1-9d4e-8e35cd61f637",
   "metadata": {},
   "source": [
    "**Q5. How can we create a pool of worker processes in python using the multiprocessing module?**"
   ]
  },
  {
   "cell_type": "code",
   "execution_count": 4,
   "id": "83335757-059d-404e-91bb-d7be25490aed",
   "metadata": {
    "tags": []
   },
   "outputs": [
    {
     "name": "stdout",
     "output_type": "stream",
     "text": [
      "[1, 4, 9, 16, 25]\n"
     ]
    }
   ],
   "source": [
    "import multiprocessing\n",
    "\n",
    "def square(number):\n",
    "    return number**2\n",
    "\n",
    "if __name__ == '__main__':\n",
    "    with multiprocessing.Pool(processes=8) as pool:\n",
    "        results = pool.map(square, [1,2,3,4,5])\n",
    "    print(results)\n"
   ]
  },
  {
   "cell_type": "code",
   "execution_count": null,
   "id": "101927ef-eb75-4349-9340-742e05927d37",
   "metadata": {},
   "outputs": [],
   "source": []
  },
  {
   "cell_type": "markdown",
   "id": "979734d9-0840-4458-a483-aa5e729d5d25",
   "metadata": {},
   "source": [
    "**Q6. Write a python program to create 4 processes, each process should print a different number using the\n",
    "multiprocessing module in python.**"
   ]
  },
  {
   "cell_type": "code",
   "execution_count": 5,
   "id": "2ad72671-301e-4dcf-9435-512861142a68",
   "metadata": {
    "tags": []
   },
   "outputs": [
    {
     "name": "stdout",
     "output_type": "stream",
     "text": [
      "Process 4: 4Process 1: 1Process 2: 2Process 3: 3\n",
      "\n",
      "\n",
      "\n"
     ]
    }
   ],
   "source": [
    "import multiprocessing\n",
    "\n",
    "def print_number(number):\n",
    "    # Prints a number\n",
    "    print(f\"Process {number}: {number}\")\n",
    "\n",
    "if __name__ == '__main__':\n",
    "    # create a list of numbers to pass to each process\n",
    "    numbers = [1, 2, 3, 4]\n",
    "\n",
    "    # create a pool of worker processes with 4 processes\n",
    "    with multiprocessing.Pool(processes=4) as pool:\n",
    "        # apply the print_number function to each number\n",
    "        pool.map(print_number, numbers)\n"
   ]
  }
 ],
 "metadata": {
  "kernelspec": {
   "display_name": "Python 3 (ipykernel)",
   "language": "python",
   "name": "python3"
  },
  "language_info": {
   "codemirror_mode": {
    "name": "ipython",
    "version": 3
   },
   "file_extension": ".py",
   "mimetype": "text/x-python",
   "name": "python",
   "nbconvert_exporter": "python",
   "pygments_lexer": "ipython3",
   "version": "3.10.6"
  }
 },
 "nbformat": 4,
 "nbformat_minor": 5
}
