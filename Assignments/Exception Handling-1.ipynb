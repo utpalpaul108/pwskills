{
 "cells": [
  {
   "cell_type": "markdown",
   "id": "ba4abb92-069a-4dad-9223-f1710fae89b6",
   "metadata": {},
   "source": [
    "## Assignment on Exception Handling-1"
   ]
  },
  {
   "cell_type": "markdown",
   "id": "1f107f6e-70ca-4ed6-9540-5609ffae0869",
   "metadata": {},
   "source": [
    "**Q1. What is on Exception in python? Write the difference between Exceptions and Syntax errors.**"
   ]
  },
  {
   "cell_type": "markdown",
   "id": "584f58c1-68ff-463b-bca9-cc894521d5c7",
   "metadata": {},
   "source": [
    "In Python, an exception is an error that occurs during the execution of a program. Exceptions can occur for a variety of reasons, such as attempting to divide by zero, accessing an invalid index of a list, or attempting to open a file that does not exist.\n",
    "\n",
    "When an exception occurs, Python generates an exception object that contains information about the error, including its type and a message that describes the error. By default, if an exception is not caught by the program, Python prints a traceback that shows the sequence of function calls that led to the exception and the line of code where the exception occurred.\n",
    "\n",
    "On the other hand, a syntax error is a type of error that occurs when the Python interpreter encounters an error in the syntax of a program. Syntax errors are typically caused by typos, missing or misplaced punctuation, or incorrect indentation. Syntax errors prevent the program from executing and must be fixed before the program can run.\n",
    "\n",
    "The key difference between exceptions and syntax errors is that exceptions occur during the execution of a program, while syntax errors occur before the program is executed. Exceptions are runtime errors that can occur for a variety of reasons, while syntax errors are caused by errors in the structure of the code."
   ]
  },
  {
   "cell_type": "code",
   "execution_count": null,
   "id": "d4c86466-2824-4bde-b3cd-c8bb7ea23b9a",
   "metadata": {},
   "outputs": [],
   "source": []
  },
  {
   "cell_type": "markdown",
   "id": "2e3719cd-7787-4105-b946-d7d8da52b279",
   "metadata": {},
   "source": [
    "**Q2. What happens when on exception is not handled? Explain with on example.**"
   ]
  },
  {
   "cell_type": "markdown",
   "id": "7fe8844d-d4c3-46cc-b9b0-42703c753ef4",
   "metadata": {},
   "source": [
    "When an exception is not handled in a Python program, it causes the program to terminate and displays a traceback that shows the sequence of function calls that led to the exception and the line of code where the exception occurred. This can make it difficult to debug the program and determine the cause of the error.\n",
    "\n",
    "Here's an example of a program that generates an exception but does not handle it:"
   ]
  },
  {
   "cell_type": "code",
   "execution_count": 1,
   "id": "364d9b0a-94bc-48d3-8504-dd98aa22881d",
   "metadata": {
    "tags": []
   },
   "outputs": [
    {
     "ename": "IndexError",
     "evalue": "list index out of range",
     "output_type": "error",
     "traceback": [
      "\u001b[0;31m---------------------------------------------------------------------------\u001b[0m",
      "\u001b[0;31mIndexError\u001b[0m                                Traceback (most recent call last)",
      "Cell \u001b[0;32mIn[1], line 3\u001b[0m\n\u001b[1;32m      1\u001b[0m \u001b[38;5;66;03m# Attempt to access an invalid index of a list\u001b[39;00m\n\u001b[1;32m      2\u001b[0m my_list \u001b[38;5;241m=\u001b[39m [\u001b[38;5;241m1\u001b[39m, \u001b[38;5;241m2\u001b[39m, \u001b[38;5;241m3\u001b[39m]\n\u001b[0;32m----> 3\u001b[0m \u001b[38;5;28mprint\u001b[39m(\u001b[43mmy_list\u001b[49m\u001b[43m[\u001b[49m\u001b[38;5;241;43m3\u001b[39;49m\u001b[43m]\u001b[49m)\n",
      "\u001b[0;31mIndexError\u001b[0m: list index out of range"
     ]
    }
   ],
   "source": [
    "# Attempt to access an invalid index of a list\n",
    "my_list = [1, 2, 3]\n",
    "print(my_list[3])"
   ]
  },
  {
   "cell_type": "markdown",
   "id": "751d6acc-4025-4b42-843b-432738f9d70c",
   "metadata": {},
   "source": [
    "In this program, the list my_list contains three elements, but the program attempts to access an element at index 3, which is outside the bounds of the list. This generates an IndexError exception."
   ]
  },
  {
   "cell_type": "code",
   "execution_count": null,
   "id": "17aab9c9-1dda-4f1b-a2c2-184991d27a76",
   "metadata": {},
   "outputs": [],
   "source": []
  },
  {
   "cell_type": "markdown",
   "id": "cd8e100d-1365-4b04-a75e-c6adf62c9040",
   "metadata": {},
   "source": [
    "**Q3. Which Python statements ore used to catch and handle exceptions? Explain with on example.**"
   ]
  },
  {
   "cell_type": "markdown",
   "id": "2c939d77-c533-4224-9741-a0822c9345d9",
   "metadata": {},
   "source": [
    "In Python, the try-except block is used to catch and handle exceptions.\n",
    "\n",
    "The try block contains the code that may raise an exception, and the except block contains the code that will handle the exception if one is raised. The ExceptionType in the except block specifies the type of exception that will be handled. If an exception of that type is raised in the try block, the code in the except block will be executed to handle the exception.\n",
    "\n",
    "Here's an example of a try-except block that handles an exception:"
   ]
  },
  {
   "cell_type": "code",
   "execution_count": 4,
   "id": "b1462ed3-19de-4845-8ea5-d1f6a3ec554f",
   "metadata": {
    "tags": []
   },
   "outputs": [
    {
     "name": "stdout",
     "output_type": "stream",
     "text": [
      "Invalid Index\n"
     ]
    }
   ],
   "source": [
    "try:\n",
    "    my_list = [1, 2, 3]\n",
    "    print(my_list[3])\n",
    "except IndexError:\n",
    "    print(\"Invalid Index\")\n",
    "except Exception as e:\n",
    "    print(e)"
   ]
  },
  {
   "cell_type": "code",
   "execution_count": null,
   "id": "73cef80d-8bfb-438a-b3ec-0430d1d2e988",
   "metadata": {},
   "outputs": [],
   "source": []
  },
  {
   "cell_type": "markdown",
   "id": "aef31fa3-ea6b-47a1-9ba8-66825f0eb1c9",
   "metadata": {},
   "source": [
    "**Q4. Explain with on example:**\n",
    "* try and else\n",
    "* finally\n",
    "* raise"
   ]
  },
  {
   "cell_type": "markdown",
   "id": "e35e9cce-9737-44f7-95a8-dc9bb87a288d",
   "metadata": {},
   "source": [
    "**try and else block:** In Python, a try block can be followed by an else block. The code inside the else block will be executed only if the try block executes successfully and does not raise any exceptions. The else block is typically used for code that should be executed when no exceptions occur, as opposed to the except block which is used to handle exceptions. Here is an example of a try and else block:"
   ]
  },
  {
   "cell_type": "code",
   "execution_count": 6,
   "id": "28dcac7f-d235-4b8c-8496-f4e8aa67803b",
   "metadata": {
    "tags": []
   },
   "outputs": [
    {
     "name": "stdin",
     "output_type": "stream",
     "text": [
      "Input a number abc\n"
     ]
    },
    {
     "name": "stdout",
     "output_type": "stream",
     "text": [
      "Invalid Input\n"
     ]
    }
   ],
   "source": [
    "try:\n",
    "    num = int(input(\"Input a number\"))\n",
    "except ValueError:\n",
    "    print(\"Invalid Input\")\n",
    "else:\n",
    "    print(f\"Square of the number : {num**2}\")"
   ]
  },
  {
   "cell_type": "code",
   "execution_count": null,
   "id": "e97abfe6-5c4e-4ddb-8bd6-e9b48d5db47d",
   "metadata": {},
   "outputs": [],
   "source": []
  },
  {
   "cell_type": "markdown",
   "id": "b2295ee0-b010-4104-a96e-121f54541e12",
   "metadata": {},
   "source": [
    "**finally block:** In Python, a try block can also be followed by a finally block. The code inside the finally block will be executed regardless of whether an exception occurs or not. The finally block is typically used for code that must be executed even if an exception occurs, such as closing a file or releasing a resource. Here is an example of a try and finally block:"
   ]
  },
  {
   "cell_type": "code",
   "execution_count": null,
   "id": "2643752e-bb05-419b-bd49-152529668ee9",
   "metadata": {},
   "outputs": [],
   "source": [
    "try:\n",
    "    file = open(\"data.txt\", \"r\")\n",
    "    data = file.read()\n",
    "    print(data)\n",
    "except FileNotFoundError:\n",
    "    print(\"File Not Found\")\n",
    "finally:\n",
    "    file.close()"
   ]
  },
  {
   "cell_type": "code",
   "execution_count": null,
   "id": "84976058-5a73-4e6d-a274-45af68fda3da",
   "metadata": {
    "tags": []
   },
   "outputs": [],
   "source": []
  },
  {
   "cell_type": "markdown",
   "id": "12e0d993-24cc-4faf-a7b0-3690546f3baf",
   "metadata": {},
   "source": [
    "**raise statement:** In Python, the raise statement is used to manually raise an exception. This can be useful when a specific error condition occurs that is not handled by an existing exception type. Here is an example of a raise statement:"
   ]
  },
  {
   "cell_type": "code",
   "execution_count": 13,
   "id": "455db308-9819-4be9-b16c-da24c7967ab4",
   "metadata": {
    "tags": []
   },
   "outputs": [
    {
     "name": "stdout",
     "output_type": "stream",
     "text": [
      "Cannot divided by ZERO\n"
     ]
    }
   ],
   "source": [
    "def divide(num1, num2):\n",
    "    if num2 == 0:\n",
    "        raise ZeroDivisionError(\"Cannot divided by ZERO\")\n",
    "    return num1/num2\n",
    "\n",
    "try:\n",
    "    result = divide(10, 0)\n",
    "    print(result)\n",
    "except ZeroDivisionError as e:\n",
    "    print(e)"
   ]
  },
  {
   "cell_type": "code",
   "execution_count": null,
   "id": "9c39f929-814e-4ec6-8d25-1e70be1d5c7b",
   "metadata": {},
   "outputs": [],
   "source": []
  },
  {
   "cell_type": "markdown",
   "id": "61d0225d-cd02-474a-b753-37f62f1e3791",
   "metadata": {},
   "source": [
    "**Q5. What are Custom Exceptions in python? Why do we need Custom Exceptions? Explain with on example.**"
   ]
  },
  {
   "cell_type": "markdown",
   "id": "0801738b-a2dd-4d0a-90f1-9f3bafdfb01b",
   "metadata": {},
   "source": [
    "Custom exceptions are user-defined exceptions that extend the functionality of the built-in exceptions. They raised when a specific error occurs in our program that is not covered by the built-in exceptions.\n",
    "\n",
    "We need custom exceptions in Python to handle specific errors in our programs. For example, imagine we are writing a program that performs calculations on a list of numbers, and we want to make sure that the list is not empty. We can create a custom exception called EmptyListError that is raised when the list is empty, so that we can handle this error more gracefully in our program.\n",
    "\n",
    "Here is an example of a custom exception in Python:"
   ]
  },
  {
   "cell_type": "code",
   "execution_count": 6,
   "id": "3044e756-76c9-4368-92f5-39b8f8036ddb",
   "metadata": {
    "tags": []
   },
   "outputs": [
    {
     "name": "stdout",
     "output_type": "stream",
     "text": [
      "Empty List\n"
     ]
    }
   ],
   "source": [
    "class EmptyListError(Exception):\n",
    "    def __init__(self, message):\n",
    "        self.message=message\n",
    "        super().__init__(self.message)\n",
    "\n",
    "def cal_avg(numbers):\n",
    "    if len(numbers)==0:\n",
    "        raise EmptyListError(\"Empty List\")\n",
    "    else:\n",
    "        return sum(numbers)/len(numbers)\n",
    "    \n",
    "numbers=[]\n",
    "\n",
    "try:\n",
    "    result = cal_avg(numbers)\n",
    "except EmptyListError as e:\n",
    "    print(e)\n",
    "else:\n",
    "    print(result)\n"
   ]
  },
  {
   "cell_type": "code",
   "execution_count": null,
   "id": "2553e62d-79e8-4103-883d-1102155d96a3",
   "metadata": {},
   "outputs": [],
   "source": []
  },
  {
   "cell_type": "markdown",
   "id": "5c484d2e-a631-4878-bea9-93be01dcabed",
   "metadata": {},
   "source": [
    "**Q6. Create a custom exception class. Use this class to handle on exception.**"
   ]
  },
  {
   "cell_type": "code",
   "execution_count": 13,
   "id": "17a30160-a4bc-4491-8115-904e82d37b38",
   "metadata": {},
   "outputs": [],
   "source": [
    "class InsufficientBalanceError(Exception):\n",
    "    def __init__(self, msg):\n",
    "        super().__init__(msg)"
   ]
  },
  {
   "cell_type": "code",
   "execution_count": 14,
   "id": "b7fd42cf-4691-4f7d-90f8-86bfb4c7dc9e",
   "metadata": {
    "tags": []
   },
   "outputs": [],
   "source": [
    "class BankAccount:\n",
    "    def __init__(self, balance):\n",
    "        self.balance = balance\n",
    "    \n",
    "    def withdraw(self, amount):\n",
    "        if self.balance<amount:\n",
    "            raise InsufficientBalanceError(\"Insufficient Balance\")\n",
    "        else:\n",
    "            self.balance -= amount\n",
    "            return \"Processed Successfully\""
   ]
  },
  {
   "cell_type": "code",
   "execution_count": 29,
   "id": "4c2e5fdf-d8ff-45d8-b5f9-1af02720e660",
   "metadata": {
    "tags": []
   },
   "outputs": [],
   "source": [
    "bank_account = BankAccount(5000)"
   ]
  },
  {
   "cell_type": "code",
   "execution_count": 30,
   "id": "c664c8c6-5e9c-4bec-8fff-e66ffddf72d9",
   "metadata": {
    "tags": []
   },
   "outputs": [
    {
     "name": "stdout",
     "output_type": "stream",
     "text": [
      "Processed Successfully\n"
     ]
    }
   ],
   "source": [
    "try:\n",
    "    process_status = bank_account.withdraw(1000)\n",
    "    print(process_status)\n",
    "except InsufficientBalanceError as e:\n",
    "    print(e)"
   ]
  }
 ],
 "metadata": {
  "kernelspec": {
   "display_name": "Python 3 (ipykernel)",
   "language": "python",
   "name": "python3"
  },
  "language_info": {
   "codemirror_mode": {
    "name": "ipython",
    "version": 3
   },
   "file_extension": ".py",
   "mimetype": "text/x-python",
   "name": "python",
   "nbconvert_exporter": "python",
   "pygments_lexer": "ipython3",
   "version": "3.10.6"
  }
 },
 "nbformat": 4,
 "nbformat_minor": 5
}
