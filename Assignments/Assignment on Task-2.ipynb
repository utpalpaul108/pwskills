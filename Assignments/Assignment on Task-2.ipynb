{
 "cells": [
  {
   "cell_type": "markdown",
   "id": "0581d17a-8c3f-46d3-82d7-793bcd0944a1",
   "metadata": {},
   "source": [
    "## Assignment on Task-2"
   ]
  },
  {
   "cell_type": "markdown",
   "id": "c8cf5b3d-827b-4915-8d08-5b4cebbe89c7",
   "metadata": {},
   "source": [
    "**Q1. You are writing code for a company. The requirement of the company is that you create a python\n",
    "function that will check whether the password entered by the user is correct or not. The function should\n",
    "take the password as input and return the string “Valid Password” if the entered password follows the\n",
    "below-given password guidelines else it should return “Invalid Password”.**\n",
    "<br>\n",
    "\n",
    "Note:\n",
    "1. The Password should contain at least two uppercase letters and at least two lowercase letters.\n",
    "2. The Password should contain at least a number and three special characters.\n",
    "3. The length of the password should be 10 characters long."
   ]
  },
  {
   "cell_type": "code",
   "execution_count": 39,
   "id": "bc9a003f-1a90-432b-bb35-cceb37222caf",
   "metadata": {
    "tags": []
   },
   "outputs": [],
   "source": [
    "def checkPassword(myPass):\n",
    "    if len(myPass)==10:\n",
    "        \n",
    "        no_of_upper=0\n",
    "        no_of_lower=0\n",
    "        no_of_numeric=0\n",
    "        no_of_spec=0\n",
    "\n",
    "        for x in myPass:\n",
    "            if x.isupper():\n",
    "                no_of_upper+=1\n",
    "            elif x.islower():\n",
    "                no_of_lower+=1\n",
    "            elif x.isnumeric():\n",
    "                no_of_numeric+=1\n",
    "            else:\n",
    "                no_of_spec+=1\n",
    "\n",
    "        if no_of_upper>=2 and no_of_lower>=2 and no_of_numeric>=1 and no_of_spec>=3:\n",
    "            print(\"Valid Password\")\n",
    "        else:\n",
    "            print(\"Invalid Password\")\n",
    "    \n",
    "    else:\n",
    "        print(\"Invalid Password\")\n",
    "    "
   ]
  },
  {
   "cell_type": "code",
   "execution_count": 43,
   "id": "081870eb-6146-429d-ae42-48225d5b5fb6",
   "metadata": {
    "tags": []
   },
   "outputs": [
    {
     "name": "stdin",
     "output_type": "stream",
     "text": [
      "Type Your Password :  Utp@Pa#*u4\n"
     ]
    },
    {
     "name": "stdout",
     "output_type": "stream",
     "text": [
      "Valid Password\n"
     ]
    }
   ],
   "source": [
    "password = input(\"Type Your Password : \")\n",
    "checkPassword(password)"
   ]
  },
  {
   "cell_type": "code",
   "execution_count": null,
   "id": "c83f8465-9b7d-44cc-b02a-36eb0dccaafb",
   "metadata": {},
   "outputs": [],
   "source": []
  },
  {
   "cell_type": "markdown",
   "id": "b7d1484a-743e-497a-a4f3-8a44d80a5b40",
   "metadata": {},
   "source": [
    "**Q2. Solve the below-given questions using at least one of the following:**\n",
    "1. Lambda function\n",
    "2. Filter function\n",
    "3. Map function\n",
    "4. List Comprehension\n",
    "* Check if the string starts with a particular letter.\n",
    "* Check if the string is numeric.\n",
    "* Sort a list of tuples having fruit names and their quantity. [(\"mango\",99),(\"orange\",80),(\"grapes\", 1000)]\n",
    "* Find the squares of numbers from 1 to 10\n",
    "* Find the cube root of numbers from 1 to 10\n",
    "* Check if a given number is even\n",
    "* Filter odd numbers from the given list.[1,2,3,4,5,6,7,8,9,10]\n",
    "* Sort a list of integers into positive and negative integers lists.[1,2,3,4,5,6,-1,-2,-3,-4,-5,0]"
   ]
  },
  {
   "cell_type": "code",
   "execution_count": 47,
   "id": "25bae155-18b0-427e-867e-517d36857278",
   "metadata": {
    "tags": []
   },
   "outputs": [
    {
     "data": {
      "text/plain": [
       "True"
      ]
     },
     "execution_count": 47,
     "metadata": {},
     "output_type": "execute_result"
    }
   ],
   "source": [
    "# Check if the string starts with a particular letter.\n",
    "\n",
    "testString = \"Hello World\"\n",
    "x = lambda i: i.startswith(\"H\")\n",
    "x(testString)"
   ]
  },
  {
   "cell_type": "code",
   "execution_count": null,
   "id": "d3b15538-613e-47f0-a9a3-6e0661a2091a",
   "metadata": {},
   "outputs": [],
   "source": []
  },
  {
   "cell_type": "code",
   "execution_count": 50,
   "id": "13effb57-d545-4024-a84d-ec050c970803",
   "metadata": {
    "tags": []
   },
   "outputs": [
    {
     "data": {
      "text/plain": [
       "True"
      ]
     },
     "execution_count": 50,
     "metadata": {},
     "output_type": "execute_result"
    }
   ],
   "source": [
    "# Check if the string is numeric.\n",
    "\n",
    "testString = \"12345\"\n",
    "x = lambda i: i.isnumeric()\n",
    "x(testString)"
   ]
  },
  {
   "cell_type": "code",
   "execution_count": null,
   "id": "fa37ee22-5490-4e68-b674-6c21f2270fa2",
   "metadata": {},
   "outputs": [],
   "source": []
  },
  {
   "cell_type": "code",
   "execution_count": 64,
   "id": "9ede47ee-ebe3-473f-867a-2a36e5458396",
   "metadata": {
    "tags": []
   },
   "outputs": [
    {
     "name": "stdout",
     "output_type": "stream",
     "text": [
      "[('grapes', 1000), ('mango', 99), ('orange', 80)]\n"
     ]
    }
   ],
   "source": [
    "# Sort a list of tuples having fruit names and their quantity. [(\"mango\",99),(\"orange\",80),(\"grapes\", 1000)]\n",
    "def myFunc(e):\n",
    "    return e[1]\n",
    "\n",
    "fruits = [(\"mango\",99),(\"orange\",80),(\"grapes\", 1000)]\n",
    "fruits.sort(key=myFunc, reverse=True)\n",
    "\n",
    "new_fruits = [x for x in fruits]\n",
    "print(new_fruits)"
   ]
  },
  {
   "cell_type": "code",
   "execution_count": 55,
   "id": "e56748a5-ffe7-427a-92eb-e6d60231201e",
   "metadata": {
    "tags": []
   },
   "outputs": [],
   "source": []
  },
  {
   "cell_type": "code",
   "execution_count": 66,
   "id": "236edbad-82c1-4f5d-874a-ec47bcaad7cb",
   "metadata": {
    "tags": []
   },
   "outputs": [
    {
     "data": {
      "text/plain": [
       "[1, 4, 9, 16, 25, 36, 49, 64, 81, 100]"
      ]
     },
     "execution_count": 66,
     "metadata": {},
     "output_type": "execute_result"
    }
   ],
   "source": [
    "# Find the squares of numbers from 1 to 10\n",
    "\n",
    "[x**2 for x in range(1,11)]"
   ]
  },
  {
   "cell_type": "code",
   "execution_count": null,
   "id": "ae37b435-c39d-4ec1-93e0-4af96812cd58",
   "metadata": {},
   "outputs": [],
   "source": []
  },
  {
   "cell_type": "code",
   "execution_count": 67,
   "id": "d9d17351-2b6d-4af1-a394-793fe1bbc4a9",
   "metadata": {
    "tags": []
   },
   "outputs": [
    {
     "data": {
      "text/plain": [
       "[1.0,\n",
       " 1.2599210498948732,\n",
       " 1.4422495703074083,\n",
       " 1.5874010519681994,\n",
       " 1.7099759466766968,\n",
       " 1.8171205928321397,\n",
       " 1.912931182772389,\n",
       " 2.0,\n",
       " 2.080083823051904,\n",
       " 2.154434690031884]"
      ]
     },
     "execution_count": 67,
     "metadata": {},
     "output_type": "execute_result"
    }
   ],
   "source": [
    "# Find the cube root of numbers from 1 to 10\n",
    "\n",
    "[x**(1/3) for x in range(1,11)]"
   ]
  },
  {
   "cell_type": "code",
   "execution_count": null,
   "id": "7361ea95-c496-4080-8b50-5ed950d71f81",
   "metadata": {},
   "outputs": [],
   "source": []
  },
  {
   "cell_type": "code",
   "execution_count": 68,
   "id": "35967669-ab01-4edb-8707-3cebc789c68a",
   "metadata": {
    "tags": []
   },
   "outputs": [
    {
     "data": {
      "text/plain": [
       "True"
      ]
     },
     "execution_count": 68,
     "metadata": {},
     "output_type": "execute_result"
    }
   ],
   "source": [
    "# Check if a given number is even\n",
    "\n",
    "is_even=lambda x : x%2==0\n",
    "is_even(10)"
   ]
  },
  {
   "cell_type": "code",
   "execution_count": null,
   "id": "a9e22a3c-19c2-4c7d-9ad5-c8a187b54304",
   "metadata": {},
   "outputs": [],
   "source": []
  },
  {
   "cell_type": "code",
   "execution_count": 79,
   "id": "f9cb8355-0104-49cc-8860-e60ce0f2580d",
   "metadata": {
    "tags": []
   },
   "outputs": [],
   "source": [
    "# Filter odd numbers from the given list.[1,2,3,4,5,6,7,8,9,10]\n",
    "\n",
    "myNumbers = [1,2,3,4,5,6,7,8,9,10]\n",
    "\n",
    "oddNumbers = list(filter(lambda x: x%2 !=0, myNumbers))"
   ]
  },
  {
   "cell_type": "code",
   "execution_count": 80,
   "id": "84eb2727-b0c9-4846-9d47-6554cd3defcd",
   "metadata": {
    "tags": []
   },
   "outputs": [
    {
     "data": {
      "text/plain": [
       "[1, 3, 5, 7, 9]"
      ]
     },
     "execution_count": 80,
     "metadata": {},
     "output_type": "execute_result"
    }
   ],
   "source": [
    "oddNumbers"
   ]
  },
  {
   "cell_type": "code",
   "execution_count": null,
   "id": "c4f347fc-aba0-4815-9c1c-fa40be9cd88b",
   "metadata": {},
   "outputs": [],
   "source": []
  },
  {
   "cell_type": "code",
   "execution_count": 93,
   "id": "b8b365e2-59c1-4f23-abcb-75b068e0bde5",
   "metadata": {
    "tags": []
   },
   "outputs": [],
   "source": [
    "# Sort a list of integers into positive and negative integers lists.[1,2,3,4,5,6,-1,-2,-3,-4,-5,0]\n",
    "\n",
    "myNumbers = [1,2,3,4,5,6,-1,-2,-3,-4,-5,0]\n",
    "positive_integers = list(filter((lambda x:x>=0), myNumbers))\n",
    "negative_integers = list(filter((lambda x:x<0), myNumbers))"
   ]
  },
  {
   "cell_type": "code",
   "execution_count": 94,
   "id": "11f403fa-a767-4bac-b02f-b4ec04904493",
   "metadata": {
    "tags": []
   },
   "outputs": [],
   "source": [
    "positive_integers.sort()\n",
    "negative_integers.sort()"
   ]
  },
  {
   "cell_type": "code",
   "execution_count": 95,
   "id": "3debb95c-1b03-4d53-82ea-e59cc6bb7d27",
   "metadata": {
    "tags": []
   },
   "outputs": [
    {
     "data": {
      "text/plain": [
       "([0, 1, 2, 3, 4, 5, 6], [-5, -4, -3, -2, -1])"
      ]
     },
     "execution_count": 95,
     "metadata": {},
     "output_type": "execute_result"
    }
   ],
   "source": [
    "positive_integers, negative_integers"
   ]
  }
 ],
 "metadata": {
  "kernelspec": {
   "display_name": "Python 3 (ipykernel)",
   "language": "python",
   "name": "python3"
  },
  "language_info": {
   "codemirror_mode": {
    "name": "ipython",
    "version": 3
   },
   "file_extension": ".py",
   "mimetype": "text/x-python",
   "name": "python",
   "nbconvert_exporter": "python",
   "pygments_lexer": "ipython3",
   "version": "3.10.6"
  }
 },
 "nbformat": 4,
 "nbformat_minor": 5
}
