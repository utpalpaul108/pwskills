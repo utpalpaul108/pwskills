{
 "cells": [
  {
   "cell_type": "markdown",
   "id": "8980a8e3-2aeb-4739-8f80-3c5a7bb9fcb2",
   "metadata": {},
   "source": [
    "## Assignment on OOPs Task"
   ]
  },
  {
   "cell_type": "markdown",
   "id": "0bd163ef-9f1a-4170-8c23-4b7b6ce9680d",
   "metadata": {},
   "source": [
    "**Q1. Create a vehicle class with an init method having instance variables as name_of_vehicle, max_speed\n",
    "and average_of_vehicle.**"
   ]
  },
  {
   "cell_type": "code",
   "execution_count": 3,
   "id": "9e8d46ab-cc7d-4bb0-bd0b-dcb68eecfac6",
   "metadata": {
    "tags": []
   },
   "outputs": [],
   "source": [
    "class Vehicle:\n",
    "    def __init__(self, name_of_vehicle, max_speed, average_of_vehicle):\n",
    "        self.name_of_vehicle = name_of_vehicle\n",
    "        self.max_speed =  max_speed\n",
    "        self.average_of_vehicle = average_of_vehicle"
   ]
  },
  {
   "cell_type": "code",
   "execution_count": 4,
   "id": "c70c8e14-8c9d-466c-90a2-7087b1ba6833",
   "metadata": {
    "tags": []
   },
   "outputs": [
    {
     "data": {
      "text/plain": [
       "'Tata Tiago EV'"
      ]
     },
     "execution_count": 4,
     "metadata": {},
     "output_type": "execute_result"
    }
   ],
   "source": [
    "myVehicle =  Vehicle(\"Tata Tiago EV\", 120, 315)\n",
    "myVehicle.name_of_vehicle"
   ]
  },
  {
   "cell_type": "code",
   "execution_count": null,
   "id": "18bfbe2f-1726-4a72-a106-89cf1e64f2d6",
   "metadata": {},
   "outputs": [],
   "source": []
  },
  {
   "cell_type": "markdown",
   "id": "aeb1713f-99c3-4ce6-8215-d06ce12e2710",
   "metadata": {},
   "source": [
    "**Q2. Create a child class car from the vehicle class created in Que 1, which will inherit the vehicle class.\n",
    "Create a method named seating_capacity which takes capacity as an argument and returns the name of\n",
    "the vehicle and its seating capacity.**"
   ]
  },
  {
   "cell_type": "code",
   "execution_count": 66,
   "id": "5b8157be-ad9a-4c93-9530-734d4548c7f2",
   "metadata": {
    "tags": []
   },
   "outputs": [],
   "source": [
    "class FirstCar(Vehicle):\n",
    "    def seating_capacity(self, capacity):\n",
    "        self.capacity = capacity\n",
    "        return f\"Vehicle Name: {self.name_of_vehicle}\\nSetting Capacity: {self.capacity}\""
   ]
  },
  {
   "cell_type": "code",
   "execution_count": 67,
   "id": "b05c970c-8701-4432-a38d-b976033a48ad",
   "metadata": {
    "tags": []
   },
   "outputs": [
    {
     "name": "stdout",
     "output_type": "stream",
     "text": [
      "Vehicle Name: Tata Tiago EV\n",
      "Setting Capacity: 5\n"
     ]
    }
   ],
   "source": [
    "firstCar = FirstCar(\"Tata Tiago EV\", 120, 315)\n",
    "carInfo = firstCar.seating_capacity(5)\n",
    "print(carInfo)"
   ]
  },
  {
   "cell_type": "code",
   "execution_count": null,
   "id": "f10d982c-3a79-47eb-b132-6e161afb241c",
   "metadata": {},
   "outputs": [],
   "source": []
  },
  {
   "cell_type": "markdown",
   "id": "d93617f0-f5b9-40b3-b771-2da8d6dc7c88",
   "metadata": {},
   "source": [
    "**Q3. What is multiple inheritance? Write a python code to demonstrate multiple inheritance.**"
   ]
  },
  {
   "cell_type": "markdown",
   "id": "f242c96b-e7bf-44f0-9218-1a67e6341c4e",
   "metadata": {},
   "source": [
    "Multiple inheritance is a feature of object-oriented programming languages where a class can inherit attributes and methods from more than one parent class. In other words, a subclass can inherit from multiple superclasses.\n",
    "\n",
    "Here's an example of multiple inheritance in Python:"
   ]
  },
  {
   "cell_type": "code",
   "execution_count": 28,
   "id": "3ec0dd80-8eb2-4ffc-8bae-6343b99b4ba5",
   "metadata": {
    "tags": []
   },
   "outputs": [],
   "source": [
    "class Car:\n",
    "    def __init__(self, make, model):\n",
    "        self.make = make\n",
    "        self.model = model\n",
    "        \n",
    "    def start(self):\n",
    "        print(\"Starting the CAR\")\n",
    "        \n",
    "    def stop(self):\n",
    "        print(\"Stopping the CAR\")"
   ]
  },
  {
   "cell_type": "code",
   "execution_count": 29,
   "id": "4f8e0bcb-7b2b-4412-9b0b-c54b3084904c",
   "metadata": {
    "tags": []
   },
   "outputs": [],
   "source": [
    "class Electric:\n",
    "    def __init__(self, battery_level=50):\n",
    "        self.battery_level=battery_level\n",
    "    \n",
    "    def charge(self):\n",
    "        print(\"Charging the battery\")"
   ]
  },
  {
   "cell_type": "code",
   "execution_count": 30,
   "id": "f2c5307b-563b-4331-80e0-75dec06f3284",
   "metadata": {
    "tags": []
   },
   "outputs": [],
   "source": [
    "class HybridCar(Car, Electric):\n",
    "    def __init__(self, make, model, battery_level):\n",
    "        Car.__init__(self, make, model)\n",
    "        Electric.__init__(self, battery_level)\n",
    "        \n",
    "    def start(self):\n",
    "        print(\"Starting the Hybrid Car\")\n",
    "        if self.battery_level <= 0:\n",
    "            print(\"Battery is Dead. Starting the GAS Energy.\")\n",
    "        else:\n",
    "            print(\"Battery is Charged. Starting the Elecric Motor.\")\n",
    "        \n",
    "        super().start() "
   ]
  },
  {
   "cell_type": "code",
   "execution_count": 31,
   "id": "4f0403ac-a4f6-4261-b755-e310f8e7aa9c",
   "metadata": {
    "tags": []
   },
   "outputs": [
    {
     "name": "stdout",
     "output_type": "stream",
     "text": [
      "Starting the Hybrid Car\n",
      "Battery is Charged. Starting the Elecric Motor.\n",
      "Starting the CAR\n",
      "Charging the battery\n",
      "Stopping the CAR\n"
     ]
    }
   ],
   "source": [
    "hybrid_car = HybridCar(\"Toyota\", \"Prius\", 20)\n",
    "hybrid_car.start()\n",
    "hybrid_car.charge()\n",
    "hybrid_car.stop() "
   ]
  },
  {
   "cell_type": "code",
   "execution_count": null,
   "id": "6fa1123b-f8c0-4899-a73b-701ab2fdd376",
   "metadata": {},
   "outputs": [],
   "source": []
  },
  {
   "cell_type": "markdown",
   "id": "3f185607-1bb5-418e-b3f4-d26a6b71b166",
   "metadata": {},
   "source": [
    "**Q4. What are getter and setter in python? Create a class and create a getter and a setter method in this\n",
    "class.**"
   ]
  },
  {
   "cell_type": "markdown",
   "id": "0d0e82dc-d474-4d7b-85be-917972a4578f",
   "metadata": {},
   "source": [
    "Getter and setter methods are a way to control access to an object's attributes in Python. A getter method returns the value of an attribute, while a setter method sets the value of an attribute. They are commonly used to enforce encapsulation and data validation in object-oriented programming."
   ]
  },
  {
   "cell_type": "code",
   "execution_count": 63,
   "id": "e6006dab-e688-43f8-961b-a526a8c0c19c",
   "metadata": {
    "tags": []
   },
   "outputs": [],
   "source": [
    "class Person:\n",
    "    def __init__(self, name, age):\n",
    "        self.name = name\n",
    "        self.__age = age\n",
    "    \n",
    "    def get_age(self):\n",
    "        return self.__age\n",
    "    \n",
    "    def set_age(self, age):\n",
    "        self.__age = age"
   ]
  },
  {
   "cell_type": "code",
   "execution_count": 64,
   "id": "6b813c21-cf86-4ce4-bdc7-8aca7278ae0c",
   "metadata": {
    "tags": []
   },
   "outputs": [
    {
     "data": {
      "text/plain": [
       "25"
      ]
     },
     "execution_count": 64,
     "metadata": {},
     "output_type": "execute_result"
    }
   ],
   "source": [
    "person01 = Person(\"Utpal\", 25)\n",
    "person01.get_age()"
   ]
  },
  {
   "cell_type": "code",
   "execution_count": 65,
   "id": "a220057b-dad6-4ad5-ab12-a5d6a8f85fc1",
   "metadata": {
    "tags": []
   },
   "outputs": [
    {
     "data": {
      "text/plain": [
       "28"
      ]
     },
     "execution_count": 65,
     "metadata": {},
     "output_type": "execute_result"
    }
   ],
   "source": [
    "person01.set_age(28)\n",
    "person01.get_age()"
   ]
  },
  {
   "cell_type": "code",
   "execution_count": null,
   "id": "ba423df8-e18d-406a-a4aa-458ff7f32880",
   "metadata": {},
   "outputs": [],
   "source": []
  },
  {
   "cell_type": "markdown",
   "id": "2c054d30-a8b3-4bec-aa95-e836bc3fa33a",
   "metadata": {},
   "source": [
    "Here is an example of Getter, Setter and Deletter using property decorators"
   ]
  },
  {
   "cell_type": "code",
   "execution_count": 36,
   "id": "4836dce5-1d48-4742-825b-be1592337651",
   "metadata": {
    "tags": []
   },
   "outputs": [],
   "source": [
    "class Student:\n",
    "    def __init__(self, name, student_id, marks):\n",
    "        self.name=name\n",
    "        self.student_id=student_id\n",
    "        self.__marks=marks\n",
    "    \n",
    "    @property\n",
    "    def marks(self):\n",
    "        return self.__marks\n",
    "    \n",
    "    @marks.setter\n",
    "    def marks(self, marks):\n",
    "        self.__marks = marks\n",
    "    \n",
    "    @marks.deleter\n",
    "    def marks(self):\n",
    "        self.__marks = 0\n",
    "    "
   ]
  },
  {
   "cell_type": "code",
   "execution_count": 37,
   "id": "da64676a-15c4-495f-a440-974014a5ddb4",
   "metadata": {
    "tags": []
   },
   "outputs": [
    {
     "data": {
      "text/plain": [
       "85"
      ]
     },
     "execution_count": 37,
     "metadata": {},
     "output_type": "execute_result"
    }
   ],
   "source": [
    "student01 = Student(\"Utpal Paul\", \"939393\", 85)\n",
    "student01.marks"
   ]
  },
  {
   "cell_type": "code",
   "execution_count": 38,
   "id": "00bb855e-fe7e-4a21-bb99-51c5747caf57",
   "metadata": {
    "tags": []
   },
   "outputs": [
    {
     "data": {
      "text/plain": [
       "90"
      ]
     },
     "execution_count": 38,
     "metadata": {},
     "output_type": "execute_result"
    }
   ],
   "source": [
    "student01.marks = 90\n",
    "student01.marks"
   ]
  },
  {
   "cell_type": "code",
   "execution_count": 39,
   "id": "abb06347-0263-488e-a082-d9e7e364479c",
   "metadata": {
    "tags": []
   },
   "outputs": [
    {
     "data": {
      "text/plain": [
       "0"
      ]
     },
     "execution_count": 39,
     "metadata": {},
     "output_type": "execute_result"
    }
   ],
   "source": [
    "del student01.marks\n",
    "student01.marks"
   ]
  },
  {
   "cell_type": "code",
   "execution_count": null,
   "id": "afa72052-5e32-4d36-9709-a7688cd7f864",
   "metadata": {},
   "outputs": [],
   "source": []
  },
  {
   "cell_type": "markdown",
   "id": "0256e9a7-5e78-4d6b-a93c-b962a2e6a181",
   "metadata": {},
   "source": [
    "**Q5.What is method overriding in python? Write a python code to demonstrate method overriding.**"
   ]
  },
  {
   "cell_type": "markdown",
   "id": "f4e9481f-f031-4362-992c-5393cd011ec8",
   "metadata": {},
   "source": [
    "Method overriding is a feature in object-oriented programming where a subclass provides its own implementation of a method that is already defined in its superclass. The subclass's method \"overrides\" the implementation in the superclass.\n",
    "\n",
    "In Python, method overriding is achieved by defining a method in the subclass with the same name as a method in the superclass. When the method is called on an instance of the subclass, the subclass's method will be called instead of the superclass's method.\n",
    "\n",
    "Here's an example of method overriding in Python:"
   ]
  },
  {
   "cell_type": "code",
   "execution_count": 58,
   "id": "f21b4320-7642-45fd-a2d2-936e283b8c2b",
   "metadata": {
    "tags": []
   },
   "outputs": [],
   "source": [
    "class Shape:\n",
    "    def area(self):\n",
    "        print(\"Calculate Area\")"
   ]
  },
  {
   "cell_type": "code",
   "execution_count": 59,
   "id": "9da0e701-e7bc-43a5-91f1-043ed2ed2e6e",
   "metadata": {
    "tags": []
   },
   "outputs": [],
   "source": [
    "class Square(Shape):\n",
    "    def __init__(self, length):\n",
    "        self.length = length\n",
    "    \n",
    "    def area(self):\n",
    "        area = self.length**2\n",
    "        print(f\"Area of a SQUARE: {area}\")"
   ]
  },
  {
   "cell_type": "code",
   "execution_count": 60,
   "id": "41e0d1b8-8c8d-432a-a6d3-94efda50d441",
   "metadata": {
    "tags": []
   },
   "outputs": [],
   "source": [
    "class Circle(Shape):\n",
    "    def __init__(self, radius):\n",
    "        self.radius = radius\n",
    "    \n",
    "    def area(self):\n",
    "        area = 3.1416*(self.radius**2)\n",
    "        print(f\"Area of a CIRCLE: {area}\")"
   ]
  },
  {
   "cell_type": "code",
   "execution_count": 61,
   "id": "29a4643b-73f7-48e6-affd-a2be563328fa",
   "metadata": {
    "tags": []
   },
   "outputs": [],
   "source": [
    "shape = Shape()\n",
    "square = Square(10)\n",
    "circle = Circle(2)"
   ]
  },
  {
   "cell_type": "code",
   "execution_count": 62,
   "id": "75a2a801-54b9-4162-a860-d2162464a296",
   "metadata": {
    "tags": []
   },
   "outputs": [
    {
     "name": "stdout",
     "output_type": "stream",
     "text": [
      "Calculate Area\n",
      "Area of a SQUARE: 100\n",
      "Area of a CIRCLE: 12.5664\n"
     ]
    }
   ],
   "source": [
    "shape.area()\n",
    "square.area()\n",
    "circle.area()\n"
   ]
  }
 ],
 "metadata": {
  "kernelspec": {
   "display_name": "Python 3 (ipykernel)",
   "language": "python",
   "name": "python3"
  },
  "language_info": {
   "codemirror_mode": {
    "name": "ipython",
    "version": 3
   },
   "file_extension": ".py",
   "mimetype": "text/x-python",
   "name": "python",
   "nbconvert_exporter": "python",
   "pygments_lexer": "ipython3",
   "version": "3.10.6"
  }
 },
 "nbformat": 4,
 "nbformat_minor": 5
}
