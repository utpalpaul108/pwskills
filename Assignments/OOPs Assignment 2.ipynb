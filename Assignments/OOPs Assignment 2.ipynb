{
 "cells": [
  {
   "cell_type": "markdown",
   "id": "c04ba8a5-c022-4ace-8c34-1c2774944196",
   "metadata": {},
   "source": [
    "## OOPs Assignment"
   ]
  },
  {
   "cell_type": "markdown",
   "id": "83b4e089-d302-48d5-90e9-56ab6685e459",
   "metadata": {},
   "source": [
    "**Q1. Which function is used to open a file? What are the different modes of opening a file? Explain each mode\n",
    "of file opening.**"
   ]
  },
  {
   "cell_type": "markdown",
   "id": "79eb740a-fe9f-48fc-b4f4-107dab8ff6a4",
   "metadata": {},
   "source": [
    "In Python, the **open()** function is used to open a file. It takes two arguments: the name of the file to open and the mode in which to open the file.\n",
    "\n",
    "There are different modes of opening a file in Python, which are:\n",
    "\n",
    "* **\"r\"**: This is the default mode and is used for reading files. It opens a file for reading only and returns an error if the file does not exist.\n",
    "\n",
    "* **\"w\"**: This mode is used for writing to a file. It opens a file for writing only, and if the file does not exist, it creates it. If the file already exists, it will be truncated.\n",
    "\n",
    "* **\"a\"**: This mode is used for appending data to a file. It opens a file for writing only, but appends data to the end of the file instead of overwriting it. If the file does not exist, it creates it.\n",
    "\n",
    "* **\"x\"**: This mode is used for creating a file. It opens a file for exclusive creation, meaning it will return an error if the file already exists.\n",
    "\n",
    "* **\"b\"**: This mode is used to open a file in binary mode. It is used in conjunction with other modes, such as \"r\" or \"w\", to indicate that the file should be opened in binary mode.\n",
    "\n",
    "* **\"t\"**: This mode is used to open a file in text mode. It is used in conjunction with other modes, such as \"r\" or \"w\", to indicate that the file should be opened in text mode."
   ]
  },
  {
   "cell_type": "code",
   "execution_count": null,
   "id": "66613563-2ef9-45de-a2eb-c69d556a80fe",
   "metadata": {},
   "outputs": [],
   "source": []
  },
  {
   "cell_type": "markdown",
   "id": "dd712b43-43df-4a85-9ef0-c47949b3dd88",
   "metadata": {
    "tags": []
   },
   "source": [
    "**Q2. Why close() function is used? Why is it important to close a file?**"
   ]
  },
  {
   "cell_type": "markdown",
   "id": "773ddda9-faf8-40dd-a39a-72b0bb2ee266",
   "metadata": {},
   "source": [
    "The **close()** function is used to close a file that has been opened using the open() function in Python. It is important to close a file after opening it because it frees up system resources that were being used by the file, and also ensures that any changes made to the file are saved properly.\n",
    "\n",
    "When a file is opened, the operating system reserves system resources such as file descriptors to enable reading and writing of the file. If a large number of files are opened and not closed properly, it can lead to system resource exhaustion, which can cause problems for other programs running on the system.\n",
    "\n",
    "Furthermore, if a file is not closed properly, any changes made to the file may not be saved, leading to data loss or file corruption. This is because the changes made to the file are usually buffered in memory and not written to disk until the file is closed or the buffer is flushed.\n",
    "\n",
    "Therefore, it is good programming practice to always close a file after it has been opened and used. This can be done using the **close()** function, which releases the system resources used by the file and ensures that any changes made to the file are saved properly. It is also a good idea to use the **with** statement to automatically close the file after the block of code that uses the file has finished executing."
   ]
  },
  {
   "cell_type": "code",
   "execution_count": null,
   "id": "c754d4af-8808-44f9-a75d-15cceb353102",
   "metadata": {},
   "outputs": [],
   "source": []
  },
  {
   "cell_type": "markdown",
   "id": "eb486c7b-31e6-4340-b299-03b8a1a3d41e",
   "metadata": {},
   "source": [
    "**Q3. Write a python program to create a text file. Write ‘I want to become a Data Scientist’ in that file. Then\n",
    "close the file. Open this file and read the content of the file.**"
   ]
  },
  {
   "cell_type": "code",
   "execution_count": 4,
   "id": "96b94766-a968-4cc2-95f8-3e070e62bca2",
   "metadata": {
    "tags": []
   },
   "outputs": [
    {
     "name": "stdout",
     "output_type": "stream",
     "text": [
      "I want to become a Data Scientist\n"
     ]
    }
   ],
   "source": [
    "with open(\"dataset/test.txt\",\"w\") as f:\n",
    "    f.write(\"I want to become a Data Scientist\")\n",
    "    \n",
    "with open(\"dataset/test.txt\",\"r\") as f:\n",
    "    data = f.read()\n",
    "    print(data)"
   ]
  },
  {
   "cell_type": "code",
   "execution_count": null,
   "id": "3cbd5023-5166-4fe1-bdcb-6eb9f0e2f606",
   "metadata": {},
   "outputs": [],
   "source": []
  },
  {
   "cell_type": "markdown",
   "id": "2b14ed8c-c6a2-4512-8941-a9a381f6033d",
   "metadata": {},
   "source": [
    "**Q4. Explain the following with python code: read(), readline() and readlines().**"
   ]
  },
  {
   "cell_type": "markdown",
   "id": "838eae33-8624-48bc-93b3-20d9a027858a",
   "metadata": {},
   "source": [
    "**read():** The read() method is used to read the entire contents of a file as a string. It takes an optional argument that specifies the number of bytes to read from the file. If no argument is specified, the entire file is read. Here's an example:"
   ]
  },
  {
   "cell_type": "code",
   "execution_count": 12,
   "id": "f8f07ab3-a6d6-446b-a09b-5ac2d08ede2a",
   "metadata": {
    "tags": []
   },
   "outputs": [
    {
     "name": "stdout",
     "output_type": "stream",
     "text": [
      "I want to become a Data Scientist\n"
     ]
    }
   ],
   "source": [
    "file = open(\"dataset/test.txt\", \"r\")\n",
    "content = file.read()\n",
    "file.close()\n",
    "print(content)"
   ]
  },
  {
   "cell_type": "markdown",
   "id": "4a4b4f89-db95-43fe-8ce1-67ce28cb3141",
   "metadata": {},
   "source": [
    "**readline():** The readline() method is used to read a single line from a file. It returns the line as a string. If called again, it will return the next line in the file. Here's an example:"
   ]
  },
  {
   "cell_type": "code",
   "execution_count": 27,
   "id": "2bf93385-048f-4878-8503-217a3813f172",
   "metadata": {
    "tags": []
   },
   "outputs": [
    {
     "name": "stdout",
     "output_type": "stream",
     "text": [
      "This is the first line.\n",
      "\n",
      "This is the second line.\n",
      "\n",
      "This is the third line.\n",
      "\n"
     ]
    }
   ],
   "source": [
    "file = open(\"dataset/test.txt\", \"w\")\n",
    "lines = [\"This is the first line.\\n\", \"This is the second line.\\n\", \"This is the third line.\\n\"]\n",
    "file.writelines(lines)\n",
    "file.close()\n",
    "\n",
    "file = open(\"dataset/test.txt\", \"r\")\n",
    "line1 = file.readline()\n",
    "line2 = file.readline()\n",
    "line3 = file.readline()\n",
    "\n",
    "file.close()\n",
    "print(line1)\n",
    "print(line2)\n",
    "print(line3)"
   ]
  },
  {
   "cell_type": "markdown",
   "id": "e619d7d7-86f1-45fc-ba66-9febd3a65343",
   "metadata": {},
   "source": [
    "**readlines():** The readlines() method is used to read all the lines of a file and return them as a list of strings. Each string in the list represents a single line of the file, including the newline character at the end of the line. Here's an example:"
   ]
  },
  {
   "cell_type": "code",
   "execution_count": 28,
   "id": "e349417f-f44f-4178-bced-11b2e3ddf424",
   "metadata": {
    "tags": []
   },
   "outputs": [
    {
     "name": "stdout",
     "output_type": "stream",
     "text": [
      "This is the first line.\n",
      "\n",
      "This is the second line.\n",
      "\n",
      "This is the third line.\n",
      "\n"
     ]
    }
   ],
   "source": [
    "file = open(\"dataset/test.txt\", \"r\")\n",
    "lines = file.readlines()\n",
    "for line in lines:\n",
    "    print(line)"
   ]
  },
  {
   "cell_type": "code",
   "execution_count": null,
   "id": "941d1e22-a6d4-4445-a34e-1e5050c56644",
   "metadata": {},
   "outputs": [],
   "source": []
  },
  {
   "cell_type": "markdown",
   "id": "a6805f3a-8846-4165-b57e-806555e1b797",
   "metadata": {},
   "source": [
    "**Q5. Explain why with statement is used with open(). What is the advantage of using with statement and\n",
    "open() together?**"
   ]
  },
  {
   "cell_type": "markdown",
   "id": "01456044-fb9e-419f-8e34-dfbf906d9b9a",
   "metadata": {},
   "source": [
    "In Python, the with statement is used with the open() function to ensure that a file is properly closed after its use. The with statement provides a way to execute a block of code with an associated context, which can be used to automatically set up and tear down resources, such as files.\n",
    "\n",
    "When used with open(), the with statement automatically closes the file after the block of code that uses the file has finished executing. This ensures that any changes made to the file are saved properly and that system resources used by the file are released. Here's an example:"
   ]
  },
  {
   "cell_type": "code",
   "execution_count": 22,
   "id": "103123d4-af80-49a7-b874-504a89df6962",
   "metadata": {
    "tags": []
   },
   "outputs": [
    {
     "name": "stdout",
     "output_type": "stream",
     "text": [
      "I want to become a Data Scientist\n",
      "\n"
     ]
    }
   ],
   "source": [
    "with open(\"dataset/test.txt\", \"r\") as f:\n",
    "    line1 = f.readline()\n",
    "    print(line1)"
   ]
  },
  {
   "cell_type": "markdown",
   "id": "c7473fd6-bc81-4d57-a1ef-5e1a01ac00e1",
   "metadata": {},
   "source": [
    "The advantage of using with statement with open() is that it simplifies the code and makes it more readable. It eliminates the need for an explicit call to the close() method, which can be easily forgotten and lead to resource leaks if the code is not properly maintained.\n",
    "\n",
    "Using with statement with open() also ensures that the file is closed even if an exception is raised within the block of code that uses the file. This is because the with statement sets up a context that ensures that the file is closed even if an error occurs. This helps to prevent resource leaks and ensures that the code is more robust."
   ]
  },
  {
   "cell_type": "code",
   "execution_count": null,
   "id": "e0f55399-ddc1-4a7b-ad30-167f00f5e1c4",
   "metadata": {},
   "outputs": [],
   "source": []
  },
  {
   "cell_type": "markdown",
   "id": "7c2a5b52-4e42-4d96-934b-5e53342d1005",
   "metadata": {},
   "source": [
    "**Q6. Explain the write() and writelines() functions. Give a suitable example.**"
   ]
  },
  {
   "cell_type": "markdown",
   "id": "28ce6137-d319-4be8-831b-43c675035d03",
   "metadata": {},
   "source": [
    "**write():** The write() function is used to write a string to a file. If the file already exists, the write() function overwrites its contents. If the file does not exist, it creates a new file. Here's an example:"
   ]
  },
  {
   "cell_type": "code",
   "execution_count": 23,
   "id": "acd1d983-dd25-4301-aa55-bf6329dd9733",
   "metadata": {
    "tags": []
   },
   "outputs": [],
   "source": [
    "with open(\"dataset/test.txt\", \"w\") as f:\n",
    "    f.write(\"I want to become a Data Scientist\")"
   ]
  },
  {
   "cell_type": "markdown",
   "id": "8f45ca34-1f77-4cd8-9f8a-44b37224316e",
   "metadata": {},
   "source": [
    "**writelines():** The writelines() function is used to write a list of strings to a file. Each string in the list represents a single line of the file, including the newline character at the end of the line. Here's an example:"
   ]
  },
  {
   "cell_type": "code",
   "execution_count": 26,
   "id": "de59989e-23e9-4f29-bb23-40d98c06b0e2",
   "metadata": {
    "tags": []
   },
   "outputs": [],
   "source": [
    "with open(\"dataset/test.txt\", \"w\") as f:\n",
    "    lines = [\"This is the first line.\\n\", \"This is the second line.\\n\", \"This is the third line.\\n\"]\n",
    "    f.writelines(lines)"
   ]
  }
 ],
 "metadata": {
  "kernelspec": {
   "display_name": "Python 3 (ipykernel)",
   "language": "python",
   "name": "python3"
  },
  "language_info": {
   "codemirror_mode": {
    "name": "ipython",
    "version": 3
   },
   "file_extension": ".py",
   "mimetype": "text/x-python",
   "name": "python",
   "nbconvert_exporter": "python",
   "pygments_lexer": "ipython3",
   "version": "3.10.6"
  }
 },
 "nbformat": 4,
 "nbformat_minor": 5
}
