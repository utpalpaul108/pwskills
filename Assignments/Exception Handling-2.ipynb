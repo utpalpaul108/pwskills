{
 "cells": [
  {
   "cell_type": "markdown",
   "id": "ef9b86e2-21be-488b-b3f2-c79416779f39",
   "metadata": {},
   "source": [
    "## Assignment on Exception Handling-2"
   ]
  },
  {
   "cell_type": "markdown",
   "id": "551966fa-6031-4329-84ce-8f058129281b",
   "metadata": {},
   "source": [
    "**Q1. Explain why we have to use the Exception class while creating a Custom Exception.**<br>\n",
    "**Note:** Here Exception class refers to the base class for all the exceptions."
   ]
  },
  {
   "cell_type": "markdown",
   "id": "dc048562-895a-46df-aed9-6f4af04a9bdd",
   "metadata": {},
   "source": [
    "In Python, the Exception class is the base class for all built-in exceptions. When we create a custom exception, we should inherit from this base class in order to follow best practices and ensure consistency with the built-in exception hierarchy.\n",
    "\n",
    "By inheriting from the Exception class, we get access to all of its functionality, including the ability to raise and catch the exception, as well as any methods or attributes defined by the base class.\n",
    "\n",
    "Additionally, by using the Exception class as the base class for our custom exception, we signal to other developers and users of our code that our exception is intended to be used in the same way as other built-in exceptions. This makes our code more consistent and easier to understand, as it follows the same conventions as the rest of the Python language.\n",
    "\n",
    "Overall, using the Exception class as the base class for our custom exception is considered a best practice in Python programming, as it ensures consistency, ease of use, and interoperability with other code that uses built-in exceptions."
   ]
  },
  {
   "cell_type": "code",
   "execution_count": null,
   "id": "ad929af1-96d5-4051-addf-5315cb831127",
   "metadata": {},
   "outputs": [],
   "source": []
  },
  {
   "cell_type": "markdown",
   "id": "f870e16d-ae20-41bf-8d8e-3f1c494ed202",
   "metadata": {},
   "source": [
    "**Q2. Write a python program to print Python Exception Hierarchy.**"
   ]
  },
  {
   "cell_type": "code",
   "execution_count": 8,
   "id": "a3dc0a95-61f6-4129-9f92-254be9f942f2",
   "metadata": {
    "collapsed": true,
    "jupyter": {
     "outputs_hidden": true
    },
    "tags": []
   },
   "outputs": [
    {
     "name": "stdout",
     "output_type": "stream",
     "text": [
      "Inbuilt exceptions is: \n",
      " BaseException\n",
      "--- Exception\n",
      "------ TypeError\n",
      "--------- FloatOperation\n",
      "--------- MultipartConversionError\n",
      "------ StopAsyncIteration\n",
      "------ StopIteration\n",
      "------ ImportError\n",
      "--------- ModuleNotFoundError\n",
      "------------ PackageNotFoundError\n",
      "--------- ZipImportError\n",
      "------ OSError\n",
      "--------- ConnectionError\n",
      "------------ BrokenPipeError\n",
      "------------ ConnectionAbortedError\n",
      "------------ ConnectionRefusedError\n",
      "------------ ConnectionResetError\n",
      "--------------- RemoteDisconnected\n",
      "--------- BlockingIOError\n",
      "--------- ChildProcessError\n",
      "--------- FileExistsError\n",
      "--------- FileNotFoundError\n",
      "--------- IsADirectoryError\n",
      "--------- NotADirectoryError\n",
      "--------- InterruptedError\n",
      "------------ InterruptedSystemCall\n",
      "--------- PermissionError\n",
      "--------- ProcessLookupError\n",
      "--------- TimeoutError\n",
      "--------- UnsupportedOperation\n",
      "--------- itimer_error\n",
      "--------- herror\n",
      "--------- gaierror\n",
      "--------- SSLError\n",
      "------------ SSLCertVerificationError\n",
      "------------ SSLZeroReturnError\n",
      "------------ SSLWantWriteError\n",
      "------------ SSLWantReadError\n",
      "------------ SSLSyscallError\n",
      "------------ SSLEOFError\n",
      "--------- Error\n",
      "------------ SameFileError\n",
      "--------- SpecialFileError\n",
      "--------- ExecError\n",
      "--------- ReadError\n",
      "--------- URLError\n",
      "------------ HTTPError\n",
      "------------ ContentTooShortError\n",
      "--------- BadGzipFile\n",
      "------ EOFError\n",
      "--------- IncompleteReadError\n",
      "------ RuntimeError\n",
      "--------- RecursionError\n",
      "--------- NotImplementedError\n",
      "------------ ZMQVersionError\n",
      "------------ StdinNotImplementedError\n",
      "--------- _DeadlockError\n",
      "--------- BrokenBarrierError\n",
      "--------- BrokenExecutor\n",
      "------------ BrokenThreadPool\n",
      "--------- SendfileNotAvailableError\n",
      "--------- ExtractionError\n",
      "--------- VariableError\n",
      "------ NameError\n",
      "--------- UnboundLocalError\n",
      "------ AttributeError\n",
      "--------- FrozenInstanceError\n",
      "------ SyntaxError\n",
      "--------- IndentationError\n",
      "------------ TabError\n",
      "------ LookupError\n",
      "--------- IndexError\n",
      "--------- KeyError\n",
      "------------ NoSuchKernel\n",
      "------------ UnknownBackend\n",
      "--------- CodecRegistryError\n",
      "------ ValueError\n",
      "--------- UnicodeError\n",
      "------------ UnicodeEncodeError\n",
      "------------ UnicodeDecodeError\n",
      "------------ UnicodeTranslateError\n",
      "--------- UnsupportedOperation\n",
      "--------- JSONDecodeError\n",
      "--------- SSLCertVerificationError\n",
      "--------- Error\n",
      "--------- UnsupportedDigestmodError\n",
      "--------- IllegalMonthError\n",
      "--------- IllegalWeekdayError\n",
      "--------- ParserError\n",
      "--------- MessageDefect\n",
      "------------ NoBoundaryInMultipartDefect\n",
      "------------ StartBoundaryNotFoundDefect\n",
      "------------ CloseBoundaryNotFoundDefect\n",
      "------------ FirstHeaderLineIsContinuationDefect\n",
      "------------ MisplacedEnvelopeHeaderDefect\n",
      "------------ MissingHeaderBodySeparatorDefect\n",
      "------------ MultipartInvariantViolationDefect\n",
      "------------ InvalidMultipartContentTransferEncodingDefect\n",
      "------------ UndecodableBytesDefect\n",
      "------------ InvalidBase64PaddingDefect\n",
      "------------ InvalidBase64CharactersDefect\n",
      "------------ InvalidBase64LengthDefect\n",
      "------------ HeaderDefect\n",
      "--------------- InvalidHeaderDefect\n",
      "--------------- HeaderMissingRequiredValue\n",
      "--------------- NonPrintableDefect\n",
      "--------------- ObsoleteHeaderDefect\n",
      "--------------- NonASCIILocalPartDefect\n",
      "--------------- InvalidDateDefect\n",
      "--------- ClassNotFound\n",
      "--------- ClipboardEmpty\n",
      "--------- MacroToEdit\n",
      "--------- InvalidFileException\n",
      "--------- InvalidVersion\n",
      "--------- _InvalidELFFileHeader\n",
      "--------- InvalidWheelFilename\n",
      "--------- InvalidSdistFilename\n",
      "--------- InvalidSpecifier\n",
      "--------- InvalidMarker\n",
      "--------- UndefinedComparison\n",
      "--------- UndefinedEnvironmentName\n",
      "--------- InvalidRequirement\n",
      "------------ RequirementParseError\n",
      "--------- InvalidVersion\n",
      "------ AssertionError\n",
      "------ ArithmeticError\n",
      "--------- FloatingPointError\n",
      "--------- OverflowError\n",
      "--------- ZeroDivisionError\n",
      "------------ DivisionByZero\n",
      "------------ DivisionUndefined\n",
      "--------- DecimalException\n",
      "------------ Clamped\n",
      "------------ Rounded\n",
      "--------------- Underflow\n",
      "--------------- Overflow\n",
      "------------ Inexact\n",
      "--------------- Underflow\n",
      "--------------- Overflow\n",
      "------------ Subnormal\n",
      "--------------- Underflow\n",
      "------------ DivisionByZero\n",
      "------------ FloatOperation\n",
      "------------ InvalidOperation\n",
      "--------------- ConversionSyntax\n",
      "--------------- DivisionImpossible\n",
      "--------------- DivisionUndefined\n",
      "--------------- InvalidContext\n",
      "------ SystemError\n",
      "--------- CodecRegistryError\n",
      "------ ReferenceError\n",
      "------ MemoryError\n",
      "------ BufferError\n",
      "------ Warning\n",
      "--------- UserWarning\n",
      "------------ GetPassWarning\n",
      "------------ FormatterWarning\n",
      "--------- EncodingWarning\n",
      "--------- DeprecationWarning\n",
      "------------ ProvisionalWarning\n",
      "--------- PendingDeprecationWarning\n",
      "--------- SyntaxWarning\n",
      "--------- RuntimeWarning\n",
      "------------ ProactorSelectorThreadWarning\n",
      "------------ UnknownTimezoneWarning\n",
      "------------ PEP440Warning\n",
      "--------- FutureWarning\n",
      "------------ ProvisionalCompleterWarning\n",
      "--------- ImportWarning\n",
      "--------- UnicodeWarning\n",
      "--------- BytesWarning\n",
      "--------- ResourceWarning\n",
      "--------- DeprecatedTzFormatWarning\n",
      "--------- PkgResourcesDeprecationWarning\n",
      "------ _OptionError\n",
      "------ _Error\n",
      "------ error\n",
      "------ Verbose\n",
      "------ Error\n",
      "------ SubprocessError\n",
      "--------- CalledProcessError\n",
      "--------- TimeoutExpired\n",
      "------ ArgumentError\n",
      "------ error\n",
      "------ ZMQBaseError\n",
      "--------- ZMQError\n",
      "------------ ContextTerminated\n",
      "------------ Again\n",
      "------------ InterruptedSystemCall\n",
      "--------- ZMQBindError\n",
      "--------- NotDone\n",
      "------ Error\n",
      "------ PickleError\n",
      "--------- PicklingError\n",
      "--------- UnpicklingError\n",
      "------ _Stop\n",
      "------ TokenError\n",
      "------ StopTokenizing\n",
      "------ Error\n",
      "--------- CancelledError\n",
      "--------- TimeoutError\n",
      "--------- InvalidStateError\n",
      "------ _GiveupOnSendfile\n",
      "------ Incomplete\n",
      "------ ClassFoundException\n",
      "------ EndOfBlock\n",
      "------ TimeoutError\n",
      "------ InvalidStateError\n",
      "------ LimitOverrunError\n",
      "------ QueueEmpty\n",
      "------ QueueFull\n",
      "------ TraitError\n",
      "------ Empty\n",
      "------ Full\n",
      "------ error\n",
      "------ error\n",
      "------ ReturnValueIgnoredError\n",
      "------ ArgumentError\n",
      "------ ArgumentTypeError\n",
      "------ ConfigError\n",
      "--------- ConfigLoaderError\n",
      "------------ ArgumentError\n",
      "--------- ConfigFileNotFound\n",
      "------ ConfigurableError\n",
      "--------- MultipleInstanceError\n",
      "------ ApplicationError\n",
      "------ InvalidPortNumber\n",
      "------ error\n",
      "------ LZMAError\n",
      "------ RegistryError\n",
      "------ _GiveupOnFastCopy\n",
      "------ Error\n",
      "--------- NoSectionError\n",
      "--------- DuplicateSectionError\n",
      "--------- DuplicateOptionError\n",
      "--------- NoOptionError\n",
      "--------- InterpolationError\n",
      "------------ InterpolationMissingOptionError\n",
      "------------ InterpolationSyntaxError\n",
      "------------ InterpolationDepthError\n",
      "--------- ParsingError\n",
      "------------ MissingSectionHeaderError\n",
      "------ NoIPAddresses\n",
      "------ Error\n",
      "------ BadZipFile\n",
      "------ LargeZipFile\n",
      "------ Error\n",
      "------ MessageError\n",
      "--------- MessageParseError\n",
      "------------ HeaderParseError\n",
      "------------ BoundaryError\n",
      "--------- MultipartConversionError\n",
      "--------- CharsetError\n",
      "------ DuplicateKernelError\n",
      "------ ErrorDuringImport\n",
      "------ NotOneValueFound\n",
      "------ CannotEval\n",
      "------ OptionError\n",
      "------ BdbQuit\n",
      "------ Restart\n",
      "------ ExceptionPexpect\n",
      "--------- EOF\n",
      "--------- TIMEOUT\n",
      "------ PtyProcessError\n",
      "------ FindCmdError\n",
      "------ HomeDirError\n",
      "------ ProfileDirError\n",
      "------ IPythonCoreError\n",
      "--------- TryNext\n",
      "--------- UsageError\n",
      "--------- StdinNotImplementedError\n",
      "------ InputRejected\n",
      "------ GetoptError\n",
      "------ ErrorToken\n",
      "------ PrefilterError\n",
      "------ AliasError\n",
      "--------- InvalidAliasError\n",
      "------ Error\n",
      "--------- InterfaceError\n",
      "--------- DatabaseError\n",
      "------------ InternalError\n",
      "------------ OperationalError\n",
      "------------ ProgrammingError\n",
      "------------ IntegrityError\n",
      "------------ DataError\n",
      "------------ NotSupportedError\n",
      "------ Warning\n",
      "------ SpaceInInput\n",
      "------ DOMException\n",
      "--------- IndexSizeErr\n",
      "--------- DomstringSizeErr\n",
      "--------- HierarchyRequestErr\n",
      "--------- WrongDocumentErr\n",
      "--------- InvalidCharacterErr\n",
      "--------- NoDataAllowedErr\n",
      "--------- NoModificationAllowedErr\n",
      "--------- NotFoundErr\n",
      "--------- NotSupportedErr\n",
      "--------- InuseAttributeErr\n",
      "--------- InvalidStateErr\n",
      "--------- SyntaxErr\n",
      "--------- InvalidModificationErr\n",
      "--------- NamespaceErr\n",
      "--------- InvalidAccessErr\n",
      "--------- ValidationErr\n",
      "------ ValidationError\n",
      "------ EditReadOnlyBuffer\n",
      "------ _Retry\n",
      "------ InvalidLayoutError\n",
      "------ HeightIsUnknownError\n",
      "------ GuardRejection\n",
      "------ ParserSyntaxError\n",
      "------ InternalParseError\n",
      "------ _PositionUpdatingFinished\n",
      "------ SimpleGetItemNotFound\n",
      "------ UncaughtAttributeError\n",
      "------ HasNoContext\n",
      "------ ParamIssue\n",
      "------ _JediError\n",
      "--------- InternalError\n",
      "--------- WrongVersion\n",
      "--------- RefactoringError\n",
      "------ OnErrorLeaf\n",
      "------ InvalidPythonEnvironment\n",
      "------ HTTPException\n",
      "--------- NotConnected\n",
      "--------- InvalidURL\n",
      "--------- UnknownProtocol\n",
      "--------- UnknownTransferEncoding\n",
      "--------- UnimplementedFileMode\n",
      "--------- IncompleteRead\n",
      "--------- ImproperConnectionState\n",
      "------------ CannotSendRequest\n",
      "------------ CannotSendHeader\n",
      "------------ ResponseNotReady\n",
      "--------- BadStatusLine\n",
      "------------ RemoteDisconnected\n",
      "--------- LineTooLong\n",
      "------ InteractivelyDefined\n",
      "------ KillEmbedded\n",
      "------ Error\n",
      "--------- NoSuchProcess\n",
      "------------ ZombieProcess\n",
      "--------- AccessDenied\n",
      "--------- TimeoutExpired\n",
      "------ _Ipv6UnsupportedError\n",
      "------ KeyReuseError\n",
      "------ UnknownKeyError\n",
      "------ LeakedCallbackError\n",
      "------ BadYieldError\n",
      "------ ReturnValueIgnoredError\n",
      "------ Return\n",
      "------ QueueEmpty\n",
      "------ QueueFull\n",
      "------ DebuggerInitializationError\n",
      "------ ExpatError\n",
      "------ Error\n",
      "--------- ProtocolError\n",
      "--------- ResponseError\n",
      "--------- Fault\n",
      "------ ParseBaseException\n",
      "--------- ParseException\n",
      "--------- ParseFatalException\n",
      "------------ ParseSyntaxException\n",
      "------ RecursiveGrammarException\n",
      "------ ResolutionError\n",
      "--------- VersionConflict\n",
      "------------ ContextualVersionConflict\n",
      "--------- DistributionNotFound\n",
      "--------- UnknownExtra\n",
      "------ _Error\n",
      "------ UnableToResolveVariableException\n",
      "------ InvalidTypeInArgsException\n",
      "--- GeneratorExit\n",
      "--- SystemExit\n",
      "--- KeyboardInterrupt\n",
      "--- CancelledError\n"
     ]
    }
   ],
   "source": [
    "import inspect as ipt\n",
    "\n",
    "def tree_class(cls, ind = 0):\n",
    "    print ('-' * ind, cls.__name__)\n",
    "    for K in cls.__subclasses__():\n",
    "        tree_class(K, ind + 3)\n",
    "print (\"Inbuilt exceptions is: \")\n",
    "\n",
    "ipt.getclasstree(ipt.getmro(BaseException))\n",
    "tree_class(BaseException)"
   ]
  },
  {
   "cell_type": "markdown",
   "id": "4fe30208-452d-4b55-9817-1ab4a76adfe2",
   "metadata": {},
   "source": [
    "**Q3. What errors are defined in the ArithmeticError class? Explain any two with an example.**"
   ]
  },
  {
   "cell_type": "markdown",
   "id": "d8f7447d-ce72-4c72-a702-c09681f692b1",
   "metadata": {},
   "source": [
    "In Python, ArithmeticError is a built-in exception class that is raised when an arithmetic operation fails. It is the base class for a number of more specific arithmetic exception classes, each of which represents a different kind of arithmetic error.\n",
    "\n",
    "Two examples of exceptions that are derived from the ArithmeticError class are **ZeroDivisionError** and **OverflowError**.\n",
    "\n",
    "**ZeroDivisionError:** This exception is raised when an attempt is made to divide a number by zero. For example, consider the following code:"
   ]
  },
  {
   "cell_type": "code",
   "execution_count": 9,
   "id": "ce75e041-18d8-4294-90f6-5e6eff4f1371",
   "metadata": {
    "tags": []
   },
   "outputs": [
    {
     "name": "stdout",
     "output_type": "stream",
     "text": [
      "Devision By Zero is not Valid\n"
     ]
    }
   ],
   "source": [
    "try:\n",
    "    x=10\n",
    "    y=0\n",
    "    z=x/y\n",
    "except ZeroDivisionError as e:\n",
    "    print(\"Devision By Zero is not Valid\")"
   ]
  },
  {
   "cell_type": "markdown",
   "id": "d1771fb0-e803-43c1-8f02-b6236c74ff9f",
   "metadata": {},
   "source": [
    "**OverflowError:** This exception is raised when an arithmetic operation exceeds the maximum representable value for a numerical data type. For example, consider the following code:"
   ]
  },
  {
   "cell_type": "code",
   "execution_count": 15,
   "id": "59e764ad-3a20-4d51-abfd-f8e516058bf4",
   "metadata": {
    "tags": []
   },
   "outputs": [],
   "source": [
    "try:\n",
    "    x = 1e1000\n",
    "    y = x * x\n",
    "except OverflowError as e:\n",
    "    print(\"Exceeds maximum representable value for INTEGER\")"
   ]
  },
  {
   "cell_type": "code",
   "execution_count": null,
   "id": "468b52b5-bf5d-40b2-a200-87eec643ad46",
   "metadata": {},
   "outputs": [],
   "source": []
  },
  {
   "cell_type": "markdown",
   "id": "d9b60f14-d377-4dbd-9180-3b30cc50ecd4",
   "metadata": {},
   "source": [
    "**Q4. Why LookupError class is used? Explain with an example KeyError and IndexError.**"
   ]
  },
  {
   "cell_type": "markdown",
   "id": "5b3ae9a4-895e-42df-9edd-22352c7d0839",
   "metadata": {
    "tags": []
   },
   "source": [
    "The LookupError class is a built-in exception class in Python that is the base class for all exceptions that occur when an index or key is not found in a sequence or mapping.<br>\n",
    "**KeyError:** This exception is raised when a key is not found in a dictionary.<br> For example:"
   ]
  },
  {
   "cell_type": "code",
   "execution_count": 17,
   "id": "9475434c-71b0-474e-bce7-c04e5853995a",
   "metadata": {
    "tags": []
   },
   "outputs": [
    {
     "name": "stdout",
     "output_type": "stream",
     "text": [
      "Key Not Found\n"
     ]
    }
   ],
   "source": [
    "d = {\"a\":1, \"b\":2, \"c\":3}\n",
    "\n",
    "try:\n",
    "    value = d[\"e\"]\n",
    "except KeyError as e:\n",
    "    print(\"Key Not Found\")"
   ]
  },
  {
   "cell_type": "markdown",
   "id": "12646112-bd47-40b9-a404-06da069a5f72",
   "metadata": {},
   "source": [
    "**IndexError:** This exception is raised when an index is out of range in a sequence, such as a list or a string.<br> For example:"
   ]
  },
  {
   "cell_type": "code",
   "execution_count": 18,
   "id": "e08c28db-ff41-4e6e-85d7-49a1501d51d1",
   "metadata": {
    "tags": []
   },
   "outputs": [
    {
     "name": "stdout",
     "output_type": "stream",
     "text": [
      "Index Out of Range\n"
     ]
    }
   ],
   "source": [
    "numbers = [1,2,3,4,5]\n",
    "\n",
    "try:\n",
    "    my_val = numbers[5]\n",
    "except IndexError:\n",
    "    print(\"Index Out of Range\")"
   ]
  },
  {
   "cell_type": "code",
   "execution_count": null,
   "id": "995abb2a-abab-4a8e-a4c4-54b690b6c196",
   "metadata": {},
   "outputs": [],
   "source": []
  },
  {
   "cell_type": "markdown",
   "id": "1b99ff14-27d6-4b6d-be7f-669f880f6a8a",
   "metadata": {},
   "source": [
    "**Q5. Explain ImportError. What is ModuleNotFoundError?**"
   ]
  },
  {
   "cell_type": "markdown",
   "id": "8e88df57-457c-4d46-92f6-707ad3687293",
   "metadata": {},
   "source": [
    "**ImportError** is a built-in exception class in Python that is raised when a module or package cannot be imported. This error can occur for several reasons, such as when a required module is not installed, the module is not in the search path, or there is a circular import.<br> For example, suppose we have a module called **my_module** that we want to import:"
   ]
  },
  {
   "cell_type": "code",
   "execution_count": null,
   "id": "8fe8a381-d08c-4b87-aa7d-5a8f3dafbaae",
   "metadata": {
    "tags": []
   },
   "outputs": [],
   "source": [
    "import my_module"
   ]
  },
  {
   "cell_type": "markdown",
   "id": "75102ebf-1d7c-4248-a3f6-a454260ca224",
   "metadata": {},
   "source": [
    "If **my_module** is not installed, or if it is not in the search path, an **ImportError** exception will be raised."
   ]
  },
  {
   "cell_type": "markdown",
   "id": "9415af71-7d28-4cea-8027-b3087a25273e",
   "metadata": {},
   "source": [
    "**ModuleNotFoundError** is raised when an imported module cannot be found in the system. This error is raised specifically when the module could not be found, as opposed to other errors that may occur during the import process."
   ]
  },
  {
   "cell_type": "code",
   "execution_count": null,
   "id": "ffd97d1b-2323-49ce-b53d-8c6079b12c50",
   "metadata": {},
   "outputs": [],
   "source": []
  },
  {
   "cell_type": "markdown",
   "id": "450fbdf5-72eb-4840-9ad4-b4f3c643ee36",
   "metadata": {},
   "source": [
    "**Q6. List down some best practices for exception handling in python.**"
   ]
  },
  {
   "cell_type": "markdown",
   "id": "0de41f78-ca92-4dbd-bd39-02a537485648",
   "metadata": {},
   "source": [
    "* **We should be specific with our exception handling:** Instead of using a generic try-except block to catch all exceptions, we should use specific exception types to catch only the errors we are expecting. This helps us to handle errors more effectively and debug code more efficiently.\n",
    "* **We should try to keep our blocks as small as possible:** By placing only the code that can raise an exception inside the try block, and keep the rest of the code outside, helps to minimize the risk of catching unintended exceptions.\n",
    "* **We should use multiple except blocks:** When we use a try block, we should use multiple except blocks to handle different types of exceptions. This makes our code more robust and easier to understand.\n",
    "* **Handle exceptions gracefully:** When an exception is raised, we should handle it gracefully by providing a helpful error message that explains the problem to the user. This helps the user to understand what went wrong and how to fix it.\n",
    "* **Don't use bare except clauses:** Using a bare except clause (except:) to catch all exceptions is not recommended. It can mask errors and make debugging more difficult. Instead, we should use specific exception types to catch only the errors we are expecting.\n",
    "* **We should use the finally block:** We should use the finally block to perform cleanup actions, such as closing files or database connections, regardless of whether an exception is raised or not.\n",
    "* **We should use custom exceptions:** Create custom exceptions when needed, to provide more informative error messages and make it easier to handle errors in a specific way.\n",
    "* **Avoid unnecessary try-except blocks:** We should only use a try-except block when necessary. If an exception is not likely to be raised, we should not use a try-except block. This can improve the performance of our code."
   ]
  }
 ],
 "metadata": {
  "kernelspec": {
   "display_name": "Python 3 (ipykernel)",
   "language": "python",
   "name": "python3"
  },
  "language_info": {
   "codemirror_mode": {
    "name": "ipython",
    "version": 3
   },
   "file_extension": ".py",
   "mimetype": "text/x-python",
   "name": "python",
   "nbconvert_exporter": "python",
   "pygments_lexer": "ipython3",
   "version": "3.10.6"
  }
 },
 "nbformat": 4,
 "nbformat_minor": 5
}
