{
 "cells": [
  {
   "cell_type": "markdown",
   "id": "c933097b-dcb7-41c5-8d45-34af46fe28eb",
   "metadata": {},
   "source": [
    "## Assignment On MySql"
   ]
  },
  {
   "cell_type": "markdown",
   "id": "85996373-c498-4c8d-9eaf-d04555c9d3ab",
   "metadata": {},
   "source": [
    "**Q1. What is a database? Differentiate between SQL and NoSQL databases.**"
   ]
  },
  {
   "cell_type": "markdown",
   "id": "7bd48433-46c3-40a8-b89d-1ad3ac2b02fe",
   "metadata": {},
   "source": [
    "A database is a structured collection of data that is organized in a way that allows it to be easily accessed, managed, and updated. Databases are used in a wide variety of applications, including websites, mobile apps, financial systems, healthcare systems, and many others.\n",
    "\n",
    "SQL and NoSQL are two different types of databases. SQL (Structured Query Language) databases are relational databases that use tables to store and organize data. Data is typically organized into columns and rows, and tables can be linked together using primary keys and foreign keys to establish relationships between different tables. SQL databases use SQL to manage and manipulate data, and they are widely used in many different industries.\n",
    "\n",
    "NoSQL databases, on the other hand, are non-relational databases that store data in a variety of different ways, such as document-oriented, key-value, or graph databases. NoSQL databases are designed to be highly scalable and flexible, and they can handle large amounts of unstructured or semi-structured data more easily than SQL databases. NoSQL databases use different query languages and data models depending on the type of database.\n",
    "\n",
    "The choice between SQL and NoSQL databases depends on the specific needs of the application. SQL databases are good for applications that require a lot of structured data and require complex queries, while NoSQL databases are good for applications that need to handle large amounts of unstructured or semi-structured data, and require high scalability and flexibility."
   ]
  },
  {
   "cell_type": "code",
   "execution_count": null,
   "id": "80040849-6f99-420b-aec3-415196a988de",
   "metadata": {},
   "outputs": [],
   "source": []
  },
  {
   "cell_type": "markdown",
   "id": "99317935-f4b1-4d24-94b1-0cb6a68ed8d1",
   "metadata": {},
   "source": [
    "**Q2. What is DDL? Explain why CREATE, DROP, ALTER, and TRUNCATE are used with an example.**"
   ]
  },
  {
   "cell_type": "markdown",
   "id": "d61a9379-1e38-4edb-bb44-b563025e80de",
   "metadata": {},
   "source": [
    "DDL stands for Data Definition Language. It is a set of SQL statements that are used to define, modify, and delete database objects such as tables, views, indexes, and constraints.\n",
    "\n",
    "Here are some examples of how the DDL statements CREATE, DROP, ALTER, and TRUNCATE are used:\n",
    "\n",
    "**CREATE:** The CREATE statement is used to create new database objects such as tables, views, and indexes. For example, to create a new table named \"customers\" with columns for customer ID, name, and email, the following SQL statement could be used:"
   ]
  },
  {
   "cell_type": "code",
   "execution_count": null,
   "id": "891ccb89-7f0c-4f2e-b674-090b321f37df",
   "metadata": {
    "tags": []
   },
   "outputs": [],
   "source": [
    "CREATE TABLE customers (\n",
    "    customer_id INT PRIMARY KEY,\n",
    "    name VARCHAR(50),\n",
    "    email VARCHAR(100)\n",
    ");"
   ]
  },
  {
   "cell_type": "markdown",
   "id": "9d50fab9-d14d-4c4d-ba30-e21499bebd9a",
   "metadata": {},
   "source": [
    "**DROP:** The DROP statement is used to remove existing database objects. For example, to remove the \"customers\" table created in the previous example, the following SQL statement could be used:"
   ]
  },
  {
   "cell_type": "code",
   "execution_count": null,
   "id": "583469bd-41e9-4ad7-a360-88293ff0f3b3",
   "metadata": {},
   "outputs": [],
   "source": [
    "DROP TABLE customers;"
   ]
  },
  {
   "cell_type": "markdown",
   "id": "328535b3-40da-4231-a482-00c6c8b7d937",
   "metadata": {},
   "source": [
    "**ALTER:** The ALTER statement is used to modify existing database objects. For example, to add a new column named \"phone\" to the \"customers\" table, the following SQL statement could be used:"
   ]
  },
  {
   "cell_type": "code",
   "execution_count": null,
   "id": "6a0a9ccf-448d-40f8-9c80-99356b9c089b",
   "metadata": {},
   "outputs": [],
   "source": [
    "ALTER TABLE customers ADD COLUMN phone VARCHAR(20);"
   ]
  },
  {
   "cell_type": "markdown",
   "id": "c40d0045-cf3d-4659-a24d-fc113bc6d382",
   "metadata": {},
   "source": [
    "**TRUNCATE:** The TRUNCATE statement is used to delete all data from an existing table while keeping its structure intact. For example, to delete all data from the \"customers\" table without deleting the table itself, the following SQL statement could be used:"
   ]
  },
  {
   "cell_type": "code",
   "execution_count": null,
   "id": "7e711252-fcfa-4649-a843-24eadd120046",
   "metadata": {},
   "outputs": [],
   "source": [
    "TRUNCATE TABLE customers;"
   ]
  },
  {
   "cell_type": "markdown",
   "id": "61d538fc-bb0e-4a87-a44f-c82ecc09b001",
   "metadata": {},
   "source": [
    "Overall, DDL statements are used to define, modify, and delete database objects, allowing developers and administrators to manage the structure and contents of a database."
   ]
  },
  {
   "cell_type": "code",
   "execution_count": null,
   "id": "f9feb604-8152-40ee-9eeb-dde252b00e0c",
   "metadata": {},
   "outputs": [],
   "source": []
  },
  {
   "cell_type": "markdown",
   "id": "702bdd4f-6ef0-4d02-bf1b-0fbb607bb09d",
   "metadata": {},
   "source": [
    "**Q3. What is DML? Explain INSERT, UPDATE, and DELETE with an example.**"
   ]
  },
  {
   "cell_type": "markdown",
   "id": "0dbc34a4-90e7-400d-8691-0c118450d140",
   "metadata": {},
   "source": [
    "DML stands for Data Manipulation Language. It is a set of SQL statements that are used to manipulate the data stored in a database.\n",
    "\n",
    "Here are some examples of how the DML statements INSERT, UPDATE, and DELETE are used:\n",
    "\n",
    "**INSERT:** The INSERT statement is used to add new data to a table. For example, to add a new customer to the \"customers\" table created in the previous example, the following SQL statement could be used:"
   ]
  },
  {
   "cell_type": "code",
   "execution_count": null,
   "id": "de68825a-7572-42b0-9362-9c491cc3907b",
   "metadata": {},
   "outputs": [],
   "source": [
    "INSERT INTO customers (customer_id, name, email, phone)\n",
    "VALUES (1, 'John Smith', 'john.smith@example.com', '555-1234');"
   ]
  },
  {
   "cell_type": "markdown",
   "id": "98beea98-c683-4fae-98a4-a804f07fc513",
   "metadata": {},
   "source": [
    "This statement will insert a new row into the \"customers\" table with the specified values."
   ]
  },
  {
   "cell_type": "markdown",
   "id": "8320b6fa-788f-4e40-8c33-fc123021a1d3",
   "metadata": {},
   "source": [
    "**UPDATE:** The UPDATE statement is used to modify existing data in a table. For example, to update the email address of the customer with ID 1 in the \"customers\" table, the following SQL statement could be used:"
   ]
  },
  {
   "cell_type": "code",
   "execution_count": null,
   "id": "66b78565-977d-4970-9197-0d58bc91f6d8",
   "metadata": {},
   "outputs": [],
   "source": [
    "UPDATE customers SET email = 'john.smith.updated@example.com'\n",
    "WHERE customer_id = 1;"
   ]
  },
  {
   "cell_type": "markdown",
   "id": "b6d950a7-4e33-464f-aa30-958b0d177ad0",
   "metadata": {},
   "source": [
    "This statement will update the email address of the customer with ID 1 to the specified value."
   ]
  },
  {
   "cell_type": "markdown",
   "id": "c28622aa-2dcf-4c97-8279-5bd6274a11eb",
   "metadata": {},
   "source": [
    "**DELETE:** The DELETE statement is used to remove data from a table. For example, to delete the customer with ID 1 from the \"customers\" table, the following SQL statement could be used:"
   ]
  },
  {
   "cell_type": "code",
   "execution_count": null,
   "id": "de01b86b-0fa6-4056-bddb-a8e46c362c88",
   "metadata": {},
   "outputs": [],
   "source": [
    "DELETE FROM customers WHERE customer_id = 1;"
   ]
  },
  {
   "cell_type": "markdown",
   "id": "3eec7651-f2b2-48cb-82ca-d6f554b85299",
   "metadata": {},
   "source": [
    "This statement will remove the row with ID 1 from the \"customers\" table."
   ]
  },
  {
   "cell_type": "markdown",
   "id": "c19db5e1-179f-4ed9-a7d1-8d3d16a603f7",
   "metadata": {},
   "source": [
    "Overall, DML statements are used to manipulate the data stored in a database, allowing developers and administrators to insert, update, and delete data as needed."
   ]
  },
  {
   "cell_type": "code",
   "execution_count": null,
   "id": "ce3b3f52-bd83-4582-a709-be887acfc149",
   "metadata": {},
   "outputs": [],
   "source": []
  },
  {
   "cell_type": "markdown",
   "id": "d8c075c9-c235-443e-a408-87f90583ffa7",
   "metadata": {},
   "source": [
    "**Q4. What is DQL? Explain SELECT with an example.**"
   ]
  },
  {
   "cell_type": "markdown",
   "id": "0e9b2c52-dc24-4c2d-ae4b-2a7ea4b69070",
   "metadata": {},
   "source": [
    "DQL stands for Data Query Language. It is a set of SQL statements that are used to retrieve data from a database. The most commonly used DQL statement is the SELECT statement.\n",
    "\n",
    "Here is an example of how the SELECT statement is used:\n",
    "\n",
    "Suppose we have a table named \"customers\" with the following columns: customer_id, name, email, and phone. We want to retrieve the names and email addresses of all customers from the table. To do this, we would use the following SQL statement:"
   ]
  },
  {
   "cell_type": "code",
   "execution_count": null,
   "id": "c40dfa49-395a-4171-b752-8312ad26d97f",
   "metadata": {},
   "outputs": [],
   "source": [
    "SELECT name, email FROM customers;"
   ]
  },
  {
   "cell_type": "markdown",
   "id": "f78d7946-c220-4dcf-9564-83e324d486ba",
   "metadata": {},
   "source": [
    "This statement will retrieve the values of the \"name\" and \"email\" columns from all rows in the \"customers\" table and return the results as a table. "
   ]
  },
  {
   "cell_type": "code",
   "execution_count": null,
   "id": "634ad1a7-22bf-4029-bf4c-3c021f9a4000",
   "metadata": {},
   "outputs": [],
   "source": []
  },
  {
   "cell_type": "markdown",
   "id": "a68c5731-8263-424a-8811-163f47919744",
   "metadata": {},
   "source": [
    "**Q5. Explain Primary Key and Foreign Key.**"
   ]
  },
  {
   "cell_type": "markdown",
   "id": "fe9dccaa-d861-4148-b6d4-60a71621b577",
   "metadata": {},
   "source": [
    "A primary key is a field or combination of fields in a database table that uniquely identifies each record in the table. It is a column or set of columns in a table that serves as a unique identifier for the table's records. The primary key is used to enforce data integrity and ensure that each record in the table is unique. Primary keys are used as the basis for relationships between tables.\n",
    "\n",
    "A foreign key is a field in a database table that refers to the primary key of another table. It is a column or set of columns in a table that references the primary key of another table. The foreign key establishes a relationship between two tables and ensures that the data in the foreign key column matches the data in the primary key column of the other table. This relationship between tables is used to retrieve and manipulate data from multiple tables simultaneously, allowing for more complex queries and more efficient data management."
   ]
  },
  {
   "cell_type": "code",
   "execution_count": null,
   "id": "b63586e5-2412-4bf2-b554-7f0f380d6c91",
   "metadata": {},
   "outputs": [],
   "source": []
  },
  {
   "cell_type": "markdown",
   "id": "d64ca19a-3bf0-4de6-8c14-9268035b6dd3",
   "metadata": {},
   "source": [
    "**Q6. Write a python code to connect MySQL to python. Explain the cursor() and execute() method.**"
   ]
  },
  {
   "cell_type": "code",
   "execution_count": null,
   "id": "c0f45180-b1ff-4e69-a072-67785f986c64",
   "metadata": {},
   "outputs": [],
   "source": [
    "import mysql.connector\n",
    "\n",
    "mydb = mysql.connector.connect(\n",
    "  host=\"localhost\",\n",
    "  user=\"yourusername\",\n",
    "  password=\"yourpassword\"\n",
    ")\n",
    "\n",
    "mycursor = mydb.cursor()\n",
    "\n",
    "mycursor.execute(\"SHOW DATABASES\")\n",
    "\n",
    "for x in mycursor:\n",
    "  print(x)"
   ]
  },
  {
   "cell_type": "markdown",
   "id": "14d970e5-1f53-4a4d-8442-14c5b1c24a05",
   "metadata": {},
   "source": [
    "The **cursor()** method creates a cursor object that can be used to execute SQL queries against the database. The cursor is used to navigate the result set and retrieve data.\n",
    "\n",
    "The **execute()** method of the cursor object is used to execute an SQL query against the database. It takes an SQL query as a parameter and executes it against the database. This method returns a result set, which can be accessed using the cursor's methods such as **fetchall()**, **fetchone()**, etc."
   ]
  },
  {
   "cell_type": "markdown",
   "id": "38344c1d-788c-4886-85bb-a47ecdb5a1a7",
   "metadata": {},
   "source": [
    "**Q7. Give the order of execution of SQL clauses in an SQL query.**"
   ]
  },
  {
   "cell_type": "markdown",
   "id": "e3671219-9257-4c79-9818-4bb5707afb0e",
   "metadata": {},
   "source": [
    "The order of execution of SQL clauses in an SQL query is as follows:\n",
    "\n",
    "**FROM:** The FROM clause specifies the table or tables from which data is to be retrieved.\n",
    "\n",
    "**JOIN:** The JOIN clause is used to combine rows from two or more tables based on a related column between them.\n",
    "\n",
    "**WHERE:** The WHERE clause filters the rows retrieved by specifying a condition that must be met.\n",
    "\n",
    "**GROUP BY:** The GROUP BY clause groups the rows based on a specified column or columns.\n",
    "\n",
    "**HAVING:** The HAVING clause is used to filter the groups created by the GROUP BY clause.\n",
    "\n",
    "**SELECT:** The SELECT clause specifies the columns to be retrieved from the table or tables.\n",
    "\n",
    "**DISTINCT:** The DISTINCT keyword is used to remove duplicates from the result set.\n",
    "\n",
    "**ORDER BY:** The ORDER BY clause is used to sort the rows in the result set based on one or more columns.\n",
    "\n",
    "**LIMIT:** The LIMIT clause is used to limit the number of rows retrieved from the result set.\n",
    "\n",
    "It is important to note that not all of these clauses are required in every SQL query, and they can be used in different orders depending on the requirements of the query. However, this is the general order of execution when all of these clauses are used in a query."
   ]
  }
 ],
 "metadata": {
  "kernelspec": {
   "display_name": "Python 3 (ipykernel)",
   "language": "python",
   "name": "python3"
  },
  "language_info": {
   "codemirror_mode": {
    "name": "ipython",
    "version": 3
   },
   "file_extension": ".py",
   "mimetype": "text/x-python",
   "name": "python",
   "nbconvert_exporter": "python",
   "pygments_lexer": "ipython3",
   "version": "3.10.6"
  }
 },
 "nbformat": 4,
 "nbformat_minor": 5
}
