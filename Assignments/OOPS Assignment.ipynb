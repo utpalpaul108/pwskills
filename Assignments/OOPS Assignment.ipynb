{
 "cells": [
  {
   "cell_type": "markdown",
   "id": "9bdcdab0-f5bc-4efb-ba01-cd83492ac648",
   "metadata": {},
   "source": [
    "## **PWSKILLS OOPS Assignment**\n",
    "-----------------------------------------"
   ]
  },
  {
   "cell_type": "markdown",
   "id": "9ce9e580-9e8b-48c3-9063-84f13686d936",
   "metadata": {},
   "source": [
    "#### **Q1. Explain Class and Object with respect to Object-Oriented Programming. Give a suitable example.**"
   ]
  },
  {
   "cell_type": "markdown",
   "id": "8126cd21-791d-4fcc-83a8-32c2ad8a0b4d",
   "metadata": {},
   "source": [
    "A **class** is a blueprint for creating objects (instances). It defines a set of attributes and methods that characterize any object of the class. A class can be seen as a blueprint for creating objects, a factory that produces objects of a similar kind. To create a class, we use the keyword **class**"
   ]
  },
  {
   "cell_type": "code",
   "execution_count": 9,
   "id": "f7af3666-5270-46fb-b4d4-6743a1eba89f",
   "metadata": {},
   "outputs": [],
   "source": [
    "class carInfo:\n",
    "    brand = \"Toyota\"\n",
    "    ctype =\"EV\""
   ]
  },
  {
   "cell_type": "markdown",
   "id": "c833322b-06f7-4289-b6d0-8507ee77d837",
   "metadata": {},
   "source": [
    "An object is an instance of a class, and represents a real-world entity. Objects can have attributes (variables) and methods (functions) that operate on those attributes. Objects are created using the class as a blueprint and can be manipulated using the methods and attributes defined in the class."
   ]
  },
  {
   "cell_type": "code",
   "execution_count": 11,
   "id": "ae2a6cc1-d709-4521-94dc-d164c28db891",
   "metadata": {},
   "outputs": [
    {
     "name": "stdout",
     "output_type": "stream",
     "text": [
      "Toyota\n"
     ]
    }
   ],
   "source": [
    "myCar = carInfo()\n",
    "print(myCar.brand)"
   ]
  },
  {
   "cell_type": "markdown",
   "id": "ea1ccf0e-4b8a-496f-8725-aebdfee24d39",
   "metadata": {},
   "source": [
    "#### **Q2. Name the four pillars of OOPs.**"
   ]
  },
  {
   "cell_type": "markdown",
   "id": "ba4ff391-eb43-41a2-997f-e08e57c4e77e",
   "metadata": {},
   "source": [
    "The four pillars of Object-Oriented Programming (OOP) are:\n",
    "\n",
    "**1. Abstraction:** Hiding the implementation details and showing only the essential features of the object.\n",
    "\n",
    "**2. Encapsulation:** Wrapping data and functions within an object to protect the object's internal state from external modification.\n",
    "\n",
    "**3. Inheritance:** Creating a new class by inheriting the attributes and methods of an existing class. This allows code reuse and promotes the DRY (Don't Repeat Yourself) principle.\n",
    "\n",
    "**4. Polymorphism:** The ability of objects of different classes to respond to the same method call in a way that is specific to their class. This allows for flexible and dynamic code, as the right method is called automatically at runtime."
   ]
  },
  {
   "cell_type": "markdown",
   "id": "85924d70-509f-4ee1-8421-5127392a2cf5",
   "metadata": {},
   "source": [
    "####  **Q3. Explain why the __init__() function is used. Give a suitable example.**"
   ]
  },
  {
   "cell_type": "markdown",
   "id": "4a7171e3-dcd3-45ba-81b7-df59ad6c56f2",
   "metadata": {},
   "source": [
    "All classes have a function called __init__(), which is always executed when the class is being initiated.\n",
    "We can use the __init__() function to assign values to object properties, or other operations that are necessary to do when the object is being created.\n",
    "The __init__() function is called automatically every time the class is being used to create a new object."
   ]
  },
  {
   "cell_type": "code",
   "execution_count": 6,
   "id": "e4ffe65e-f65d-4dc5-8149-2579ad7e4fe4",
   "metadata": {},
   "outputs": [
    {
     "name": "stdout",
     "output_type": "stream",
     "text": [
      "Name: Utpal Paul, Email : utpalseu@gmail.com\n"
     ]
    }
   ],
   "source": [
    "class userInfo:\n",
    "    def __init__(self, first_name, last_name, email):\n",
    "        self.fname = first_name\n",
    "        self.lname = last_name\n",
    "        self.email = email\n",
    "        \n",
    "user01 = userInfo(\"Utpal\",\"Paul\",\"utpalseu@gmail.com\")\n",
    "print(f\"Name: {user01.fname} {user01.lname}, Email : {user01.email}\")"
   ]
  },
  {
   "cell_type": "markdown",
   "id": "8d6874d1-0560-40ab-8f98-45668e51d697",
   "metadata": {},
   "source": [
    "#### **Q4. Why self is used in OOPs?**"
   ]
  },
  {
   "cell_type": "markdown",
   "id": "7849c07c-4a98-4945-9848-db0425d7f7d8",
   "metadata": {},
   "source": [
    "The self parameter is a reference to the current instance of the class, and is used to access variables that belongs to the class.\n",
    "It does not have to be named self , we can call it whatever you like, but it has to be the first parameter of any function in the class."
   ]
  },
  {
   "cell_type": "markdown",
   "id": "5564a533-836a-4050-a0f7-d3a507aabc94",
   "metadata": {},
   "source": [
    "#### **Q5. What is inheritance? Give an example for each type of inheritance.**"
   ]
  },
  {
   "cell_type": "markdown",
   "id": "2c93ea80-5a78-45b3-8c10-8eb325600d76",
   "metadata": {},
   "source": [
    "Inheritance is a mechanism in Object-Oriented Programming (OOP) where a new class can be derived from an existing class. The derived class is called the child class or subclass, and the existing class is called the parent class or superclass. The child class inherits all attributes and methods from the parent class and can also have its own attributes and methods. This allows for code reuse and promotes the DRY (Don't Repeat Yourself) principle. There are several types of inheritance in Python."
   ]
  },
  {
   "cell_type": "markdown",
   "id": "bd8a173a-9c32-469a-a790-c891daadcdb0",
   "metadata": {},
   "source": [
    "**1. Single Inheritance:** In single inheritance, a child class inherits from only one parent class."
   ]
  },
  {
   "cell_type": "code",
   "execution_count": 13,
   "id": "b531cacb-f54e-47e6-a5cf-49bdfe9a90e3",
   "metadata": {},
   "outputs": [],
   "source": [
    "class Person:\n",
    "    def __init__(self, name, age):\n",
    "        self.name = name\n",
    "        self.age = age\n",
    " \n",
    "    def display(self):\n",
    "        print(\"Name:\", self.name)\n",
    "        print(\"Age:\", self.age)\n",
    " \n",
    "class Student(Person):\n",
    "    def __init__(self, name, age, rollno):\n",
    "        Person.__init__(self, name, age)\n",
    "        self.rollno = rollno\n",
    " \n",
    "    def display(self):\n",
    "        Person.display(self)\n",
    "        print(\"Roll No:\", self.rollno)\n"
   ]
  },
  {
   "cell_type": "markdown",
   "id": "237cdc3a-52f2-49a3-9149-eb732ee4d728",
   "metadata": {},
   "source": [
    "**2. Multiple Inheritance:** In multiple inheritance, a child class inherits from more than one parent class."
   ]
  },
  {
   "cell_type": "code",
   "execution_count": 14,
   "id": "605b768c-7a42-4ca9-958b-46222b04c142",
   "metadata": {},
   "outputs": [],
   "source": [
    "class Parent1:\n",
    "    def display(self):\n",
    "        print(\"Parent1 Display Method\")\n",
    " \n",
    "class Parent2:\n",
    "    def display(self):\n",
    "        print(\"Parent2 Display Method\")\n",
    " \n",
    "class Child(Parent1, Parent2):\n",
    "    pass\n"
   ]
  },
  {
   "cell_type": "markdown",
   "id": "0eb4aacc-2627-4e37-8cba-4018ad5116da",
   "metadata": {},
   "source": [
    "**3. Multi-level Inheritance:** In multi-level inheritance, a child class inherits from a parent class, which in turn inherits from a grandparent class."
   ]
  },
  {
   "cell_type": "code",
   "execution_count": 16,
   "id": "1420d8d9-86b7-4abd-bc62-d9a8722c5d98",
   "metadata": {},
   "outputs": [],
   "source": [
    "class GrandParent:\n",
    "    def display(self):\n",
    "        print(\"GrandParent Display Method\")\n",
    " \n",
    "class Parent(GrandParent):\n",
    "    pass\n",
    " \n",
    "class Child(Parent):\n",
    "    pass\n"
   ]
  },
  {
   "cell_type": "markdown",
   "id": "5010c0e3-d2c0-406f-ab3f-ff8df4309a62",
   "metadata": {},
   "source": [
    "**4. Hierarchical Inheritance:** In hierarchical inheritance, multiple child classes inherit from a single parent class."
   ]
  },
  {
   "cell_type": "code",
   "execution_count": 17,
   "id": "f049a5d8-0209-4a6b-bea0-45061652120e",
   "metadata": {},
   "outputs": [],
   "source": [
    "class Parent:\n",
    "    def display(self):\n",
    "        print(\"Parent Display Method\")\n",
    " \n",
    "class Child1(Parent):\n",
    "    pass\n",
    " \n",
    "class Child2(Parent):\n",
    "    pass\n"
   ]
  }
 ],
 "metadata": {
  "kernelspec": {
   "display_name": "Python 3 (ipykernel)",
   "language": "python",
   "name": "python3"
  },
  "language_info": {
   "codemirror_mode": {
    "name": "ipython",
    "version": 3
   },
   "file_extension": ".py",
   "mimetype": "text/x-python",
   "name": "python",
   "nbconvert_exporter": "python",
   "pygments_lexer": "ipython3",
   "version": "3.10.6"
  }
 },
 "nbformat": 4,
 "nbformat_minor": 5
}
