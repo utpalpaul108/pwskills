{
 "cells": [
  {
   "cell_type": "markdown",
   "id": "baadbcd3-0e7f-41b1-9baa-db3c427b1e22",
   "metadata": {},
   "source": [
    "## Class Methods"
   ]
  },
  {
   "cell_type": "code",
   "execution_count": 94,
   "id": "b3131af1-a5f9-4fd6-9986-0ea19bb8a8c4",
   "metadata": {},
   "outputs": [],
   "source": [
    "class students:\n",
    "    def __init__(self, name, email, student_rank):\n",
    "        self.name = name\n",
    "        self._email = email\n",
    "        self.__student_rank = student_rank\n",
    "    \n",
    "    @property\n",
    "    def show_student_rank(self):\n",
    "        return self.__student_rank"
   ]
  },
  {
   "cell_type": "code",
   "execution_count": 95,
   "id": "59238dad-baf6-43ce-a257-3ed6ef73cf22",
   "metadata": {},
   "outputs": [
    {
     "name": "stdout",
     "output_type": "stream",
     "text": [
      "Utpal\n"
     ]
    }
   ],
   "source": [
    "student_info = students(\"Utpal\", \"utpalseu@gmail.com\", 20)\n",
    "print(student_info.name)"
   ]
  },
  {
   "cell_type": "code",
   "execution_count": 96,
   "id": "d95e069c-c135-4cf7-90ab-ea989e82685b",
   "metadata": {},
   "outputs": [
    {
     "name": "stdout",
     "output_type": "stream",
     "text": [
      "utpalseu@gmail.com\n"
     ]
    }
   ],
   "source": [
    "print(student_info._email)"
   ]
  },
  {
   "cell_type": "code",
   "execution_count": 97,
   "id": "0a21e813-f6ae-4884-8fff-2bed5eba6c36",
   "metadata": {},
   "outputs": [],
   "source": [
    "student_info._email = \"rajesh@gmail.com\""
   ]
  },
  {
   "cell_type": "code",
   "execution_count": 98,
   "id": "2c8fe09f-c338-4f88-8558-e98c97492082",
   "metadata": {},
   "outputs": [
    {
     "name": "stdout",
     "output_type": "stream",
     "text": [
      "rajesh@gmail.com\n"
     ]
    }
   ],
   "source": [
    "print(student_info._email)"
   ]
  },
  {
   "cell_type": "code",
   "execution_count": 99,
   "id": "23b34c70-81e2-443a-b332-c2327d7d736a",
   "metadata": {},
   "outputs": [
    {
     "data": {
      "text/plain": [
       "20"
      ]
     },
     "execution_count": 99,
     "metadata": {},
     "output_type": "execute_result"
    }
   ],
   "source": [
    "student_info.show_student_rank"
   ]
  },
  {
   "cell_type": "code",
   "execution_count": null,
   "id": "75d3c988-cba3-4f45-bd94-72d0c0fb7329",
   "metadata": {},
   "outputs": [],
   "source": []
  },
  {
   "cell_type": "code",
   "execution_count": 113,
   "id": "b11db901-427c-47a8-b4c0-dba0f62503ec",
   "metadata": {
    "tags": []
   },
   "outputs": [],
   "source": [
    "class Student:\n",
    "    school = \"CSE\"\n",
    "    __m1 = 100\n",
    "    \n",
    "    def __init__(self, m1, m2, m3):\n",
    "        self.m1 = m1\n",
    "        self.m2 = m2\n",
    "        self.m3 = m3\n",
    "    \n",
    "    def avg(self):\n",
    "        return (self.m1 + self.m2 + self.m3)/3\n",
    "    \n",
    "    @classmethod\n",
    "    def info(cls):\n",
    "        return cls.__m1\n",
    "        \n",
    "    @classmethod\n",
    "    def studentDetails(cls, m1, m2, m3):\n",
    "        m1=m1\n",
    "        m2=m2\n",
    "        m3=m3\n",
    "        return cls(m1, m2, m3)\n",
    "    \n",
    "    @classmethod\n",
    "    def changeSchool(cls, school_name):\n",
    "        Student.school = school_name\n",
    "    \n",
    "    @staticmethod\n",
    "    def schooInfo():\n",
    "        return \"Hello\""
   ]
  },
  {
   "cell_type": "code",
   "execution_count": 141,
   "id": "cabdc6a2-d77d-4ae3-a8ce-4c1811be6707",
   "metadata": {
    "tags": []
   },
   "outputs": [],
   "source": [
    "student1 = Student(20, 60, 80)\n",
    "student2 = Student(40, 50, 60)\n",
    "student3 = Student.studentDetails(80,80,80)\n",
    "student4 = Student.studentDetails(90,90,90)"
   ]
  },
  {
   "cell_type": "code",
   "execution_count": 142,
   "id": "ea4ac64f-7577-4069-b16a-e2f545abe86a",
   "metadata": {
    "tags": []
   },
   "outputs": [
    {
     "name": "stdout",
     "output_type": "stream",
     "text": [
      "20\n",
      "40\n",
      "80\n",
      "90\n"
     ]
    }
   ],
   "source": [
    "print(student1.m1)\n",
    "print(student2.m1)\n",
    "print(student3.m1)\n",
    "print(student4.m1)"
   ]
  },
  {
   "cell_type": "code",
   "execution_count": 144,
   "id": "c449b174-7a0a-4586-b97f-9c047b1b845d",
   "metadata": {
    "tags": []
   },
   "outputs": [],
   "source": [
    "# Add external class method\n",
    "def course_details(cls, course_name):\n",
    "    print(course_name)\n",
    "    \n",
    "Student.course_details = classmethod(course_details)"
   ]
  },
  {
   "cell_type": "code",
   "execution_count": 146,
   "id": "4c122229-c70f-40c4-b36d-6243cb8bba7d",
   "metadata": {
    "tags": []
   },
   "outputs": [
    {
     "name": "stdout",
     "output_type": "stream",
     "text": [
      "CSE\n"
     ]
    }
   ],
   "source": [
    "student2.course_details(\"CSE\")"
   ]
  },
  {
   "cell_type": "code",
   "execution_count": 147,
   "id": "f21da509-312a-4fbc-a3bb-51f135fa0f87",
   "metadata": {
    "tags": []
   },
   "outputs": [],
   "source": [
    "# Delete class method\n",
    "del Student.info"
   ]
  },
  {
   "cell_type": "code",
   "execution_count": 152,
   "id": "a78dccd1-af1c-4239-8409-81c16dc4e583",
   "metadata": {
    "tags": []
   },
   "outputs": [],
   "source": [
    "del Student.avg"
   ]
  },
  {
   "cell_type": "code",
   "execution_count": 154,
   "id": "fbf93907-d930-4fa7-9588-c45957e53b2b",
   "metadata": {
    "tags": []
   },
   "outputs": [],
   "source": [
    "delattr(Student, \"changeSchool\")"
   ]
  },
  {
   "cell_type": "code",
   "execution_count": 159,
   "id": "724b3877-ef98-4b8f-908a-340da93bb6ba",
   "metadata": {
    "tags": []
   },
   "outputs": [],
   "source": [
    "delattr(Student, \"school\")"
   ]
  },
  {
   "cell_type": "code",
   "execution_count": 155,
   "id": "5043db30-df84-4ee8-b5b2-3270ae1cc95a",
   "metadata": {
    "tags": []
   },
   "outputs": [
    {
     "ename": "AttributeError",
     "evalue": "'Student' object has no attribute 'changeSchool'",
     "output_type": "error",
     "traceback": [
      "\u001b[0;31m---------------------------------------------------------------------------\u001b[0m",
      "\u001b[0;31mAttributeError\u001b[0m                            Traceback (most recent call last)",
      "Cell \u001b[0;32mIn[155], line 1\u001b[0m\n\u001b[0;32m----> 1\u001b[0m \u001b[43mstudent1\u001b[49m\u001b[38;5;241;43m.\u001b[39;49m\u001b[43mchangeSchool\u001b[49m(\u001b[38;5;124m\"\u001b[39m\u001b[38;5;124mtest\u001b[39m\u001b[38;5;124m\"\u001b[39m)\n",
      "\u001b[0;31mAttributeError\u001b[0m: 'Student' object has no attribute 'changeSchool'"
     ]
    }
   ],
   "source": [
    "student1.changeSchool(\"test\")"
   ]
  },
  {
   "cell_type": "code",
   "execution_count": null,
   "id": "9143bebf-d7e0-48f5-a663-534f33877f19",
   "metadata": {},
   "outputs": [],
   "source": []
  },
  {
   "cell_type": "code",
   "execution_count": 160,
   "id": "054df33b-3f25-43e9-89c2-c1938a7eef05",
   "metadata": {
    "tags": []
   },
   "outputs": [
    {
     "ename": "AttributeError",
     "evalue": "'Student' object has no attribute 'school'",
     "output_type": "error",
     "traceback": [
      "\u001b[0;31m---------------------------------------------------------------------------\u001b[0m",
      "\u001b[0;31mAttributeError\u001b[0m                            Traceback (most recent call last)",
      "Cell \u001b[0;32mIn[160], line 1\u001b[0m\n\u001b[0;32m----> 1\u001b[0m \u001b[43mstudent1\u001b[49m\u001b[38;5;241;43m.\u001b[39;49m\u001b[43mschool\u001b[49m\n",
      "\u001b[0;31mAttributeError\u001b[0m: 'Student' object has no attribute 'school'"
     ]
    }
   ],
   "source": [
    "student1.school"
   ]
  },
  {
   "cell_type": "code",
   "execution_count": 137,
   "id": "d965d93f-c7a9-44d0-800b-c34973e57944",
   "metadata": {
    "tags": []
   },
   "outputs": [
    {
     "data": {
      "text/plain": [
       "40"
      ]
     },
     "execution_count": 137,
     "metadata": {},
     "output_type": "execute_result"
    }
   ],
   "source": [
    "student2.m1"
   ]
  },
  {
   "cell_type": "code",
   "execution_count": 138,
   "id": "b407ce2b-4849-4aab-b93d-91f65b0ff467",
   "metadata": {
    "tags": []
   },
   "outputs": [
    {
     "data": {
      "text/plain": [
       "50"
      ]
     },
     "execution_count": 138,
     "metadata": {},
     "output_type": "execute_result"
    }
   ],
   "source": [
    "data01 = student1.studentDetails(50,60,70)\n",
    "data01.m1"
   ]
  },
  {
   "cell_type": "code",
   "execution_count": 139,
   "id": "14a5dcc6-c5af-4729-8f05-40bc6a16d103",
   "metadata": {
    "tags": []
   },
   "outputs": [
    {
     "data": {
      "text/plain": [
       "60"
      ]
     },
     "execution_count": 139,
     "metadata": {},
     "output_type": "execute_result"
    }
   ],
   "source": [
    "data01.m2"
   ]
  },
  {
   "cell_type": "code",
   "execution_count": 127,
   "id": "b361fa21-8756-4c5f-a7ab-bbd9addbf708",
   "metadata": {
    "tags": []
   },
   "outputs": [
    {
     "data": {
      "text/plain": [
       "'Ideal School and College'"
      ]
     },
     "execution_count": 127,
     "metadata": {},
     "output_type": "execute_result"
    }
   ],
   "source": [
    "data01.changeSchool(\"Ideal School and College\")\n",
    "data01.school"
   ]
  },
  {
   "cell_type": "code",
   "execution_count": 112,
   "id": "c882492c-ef32-40a1-9103-f6d0e1cae589",
   "metadata": {
    "tags": []
   },
   "outputs": [
    {
     "data": {
      "text/plain": [
       "53.333333333333336"
      ]
     },
     "execution_count": 112,
     "metadata": {},
     "output_type": "execute_result"
    }
   ],
   "source": [
    "student1.avg()"
   ]
  },
  {
   "cell_type": "code",
   "execution_count": 77,
   "id": "fde8cc3d-7f77-40ce-bb07-2f2bbdae78f0",
   "metadata": {
    "tags": []
   },
   "outputs": [
    {
     "data": {
      "text/plain": [
       "100"
      ]
     },
     "execution_count": 77,
     "metadata": {},
     "output_type": "execute_result"
    }
   ],
   "source": [
    "Student.info()"
   ]
  },
  {
   "cell_type": "code",
   "execution_count": 78,
   "id": "13fe66a3-7163-46fc-8cad-ed5492d09d9f",
   "metadata": {
    "tags": []
   },
   "outputs": [
    {
     "data": {
      "text/plain": [
       "'Hello'"
      ]
     },
     "execution_count": 78,
     "metadata": {},
     "output_type": "execute_result"
    }
   ],
   "source": [
    "Student.schooInfo()"
   ]
  },
  {
   "cell_type": "code",
   "execution_count": 114,
   "id": "3985d736-cf84-4ada-b769-062d482d28ca",
   "metadata": {
    "tags": []
   },
   "outputs": [
    {
     "data": {
      "text/plain": [
       "'CSE'"
      ]
     },
     "execution_count": 114,
     "metadata": {},
     "output_type": "execute_result"
    }
   ],
   "source": [
    "Student.school"
   ]
  },
  {
   "cell_type": "code",
   "execution_count": 116,
   "id": "b237a529-d459-49af-8560-f9bb68e4d8c9",
   "metadata": {
    "tags": []
   },
   "outputs": [
    {
     "data": {
      "text/plain": [
       "'Hollo Cross'"
      ]
     },
     "execution_count": 116,
     "metadata": {},
     "output_type": "execute_result"
    }
   ],
   "source": [
    "Student.changeSchool(\"Hollo Cross\")\n",
    "Student.school"
   ]
  },
  {
   "cell_type": "code",
   "execution_count": 108,
   "id": "88729f16-ab81-481c-ad09-367c14c20cf0",
   "metadata": {
    "tags": []
   },
   "outputs": [],
   "source": [
    "stu01 = Student.studentDetails(10,10,10)"
   ]
  },
  {
   "cell_type": "code",
   "execution_count": 109,
   "id": "27aa4bf7-e451-4d8f-a592-9bb99709956b",
   "metadata": {
    "tags": []
   },
   "outputs": [
    {
     "data": {
      "text/plain": [
       "10"
      ]
     },
     "execution_count": 109,
     "metadata": {},
     "output_type": "execute_result"
    }
   ],
   "source": [
    "stu01.m1"
   ]
  },
  {
   "cell_type": "code",
   "execution_count": 111,
   "id": "06d61a46-c804-464d-a46b-7e35db014296",
   "metadata": {
    "tags": []
   },
   "outputs": [
    {
     "data": {
      "text/plain": [
       "10.0"
      ]
     },
     "execution_count": 111,
     "metadata": {},
     "output_type": "execute_result"
    }
   ],
   "source": [
    "stu01.avg()"
   ]
  },
  {
   "cell_type": "code",
   "execution_count": 110,
   "id": "efbbf47c-aa81-426b-bde7-a42348e2c38a",
   "metadata": {
    "tags": []
   },
   "outputs": [
    {
     "data": {
      "text/plain": [
       "20"
      ]
     },
     "execution_count": 110,
     "metadata": {},
     "output_type": "execute_result"
    }
   ],
   "source": [
    "student1.m1"
   ]
  },
  {
   "cell_type": "code",
   "execution_count": null,
   "id": "f43c0aee-e43b-4e24-ab89-ca687a47e2d2",
   "metadata": {},
   "outputs": [],
   "source": []
  },
  {
   "cell_type": "code",
   "execution_count": 4,
   "id": "cbac293a-184a-4240-92bf-3082fd74771d",
   "metadata": {
    "tags": []
   },
   "outputs": [],
   "source": [
    "class MyClass:\n",
    "    def __init__(self, var1, var2):\n",
    "        self.var1 = var1\n",
    "        self.var2 = var2\n",
    "\n",
    "    @classmethod\n",
    "    def from_values(cls, val1, val2):\n",
    "        val1 = val1\n",
    "        val2 = val2\n",
    "        \n",
    "        return cls(val1, val2)"
   ]
  },
  {
   "cell_type": "code",
   "execution_count": 5,
   "id": "d150fbf4-b88f-48b8-b703-0df0abbb4aeb",
   "metadata": {
    "tags": []
   },
   "outputs": [
    {
     "name": "stdout",
     "output_type": "stream",
     "text": [
      "1\n",
      "2\n"
     ]
    }
   ],
   "source": [
    "my_instance1 = MyClass(1, 2)\n",
    "print(my_instance1.var1)  # Output: 1\n",
    "print(my_instance1.var2)  # Output: 2"
   ]
  },
  {
   "cell_type": "code",
   "execution_count": 6,
   "id": "af231829-0d98-4110-90fa-21bab1acb9fc",
   "metadata": {
    "tags": []
   },
   "outputs": [
    {
     "name": "stdout",
     "output_type": "stream",
     "text": [
      "20\n",
      "30\n"
     ]
    }
   ],
   "source": [
    "my_instance2 = MyClass.from_values(20, 30)\n",
    "print(my_instance2.var1)  # Output: 1\n",
    "print(my_instance2.var2)  # Output: 2"
   ]
  },
  {
   "cell_type": "code",
   "execution_count": 7,
   "id": "06febd8f-b4e2-4d73-a17f-bd6114d00e3c",
   "metadata": {
    "tags": []
   },
   "outputs": [
    {
     "name": "stdout",
     "output_type": "stream",
     "text": [
      "1\n",
      "2\n"
     ]
    }
   ],
   "source": [
    "print(my_instance1.var1)  # Output: 1\n",
    "print(my_instance1.var2)  # Output: 2"
   ]
  },
  {
   "cell_type": "code",
   "execution_count": null,
   "id": "2a45f8ca-68aa-4e2a-a680-22278ce05d7b",
   "metadata": {},
   "outputs": [],
   "source": []
  }
 ],
 "metadata": {
  "kernelspec": {
   "display_name": "Python 3 (ipykernel)",
   "language": "python",
   "name": "python3"
  },
  "language_info": {
   "codemirror_mode": {
    "name": "ipython",
    "version": 3
   },
   "file_extension": ".py",
   "mimetype": "text/x-python",
   "name": "python",
   "nbconvert_exporter": "python",
   "pygments_lexer": "ipython3",
   "version": "3.10.6"
  }
 },
 "nbformat": 4,
 "nbformat_minor": 5
}
