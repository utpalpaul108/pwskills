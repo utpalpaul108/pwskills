{
 "cells": [
  {
   "cell_type": "markdown",
   "id": "baadbcd3-0e7f-41b1-9baa-db3c427b1e22",
   "metadata": {},
   "source": [
    "## Decorators"
   ]
  },
  {
   "cell_type": "code",
   "execution_count": 25,
   "id": "ef5c9885-7e50-4f10-ae7f-8071928004ba",
   "metadata": {},
   "outputs": [],
   "source": [
    "def my_dec(func):\n",
    "    def my_inner_deco(msg):\n",
    "        print(\"Start of the function\")\n",
    "        func(msg)\n",
    "        print(\"End of the function\")\n",
    "    \n",
    "    return my_inner_deco"
   ]
  },
  {
   "cell_type": "code",
   "execution_count": 26,
   "id": "d8247b7c-7fc2-443c-a5ab-1c18c953a927",
   "metadata": {},
   "outputs": [],
   "source": [
    "@my_dec\n",
    "def my_func(message):\n",
    "    print(message)"
   ]
  },
  {
   "cell_type": "code",
   "execution_count": 27,
   "id": "edea300a-31e7-4ad5-af8b-794ffcfc76e2",
   "metadata": {},
   "outputs": [
    {
     "name": "stdout",
     "output_type": "stream",
     "text": [
      "Start of the function\n",
      "Hello World\n",
      "End of the function\n"
     ]
    }
   ],
   "source": [
    "my_func(\"Hello World\")"
   ]
  },
  {
   "cell_type": "code",
   "execution_count": null,
   "id": "1d551fc5-a972-4078-a72e-0f3bf80bb1ac",
   "metadata": {},
   "outputs": [],
   "source": []
  },
  {
   "cell_type": "code",
   "execution_count": 29,
   "id": "a1ac4193-89db-4209-9be7-57f7509eceb6",
   "metadata": {},
   "outputs": [],
   "source": [
    "def add(x):\n",
    "    return x+1\n",
    "\n",
    "def sub(x):\n",
    "    return x-1\n",
    "    \n",
    "def my_func(func, x):\n",
    "    x = func(x)\n",
    "    return x"
   ]
  },
  {
   "cell_type": "code",
   "execution_count": 30,
   "id": "c61872fd-fdc2-41ee-ae72-8b15faf0848f",
   "metadata": {},
   "outputs": [
    {
     "data": {
      "text/plain": [
       "11"
      ]
     },
     "execution_count": 30,
     "metadata": {},
     "output_type": "execute_result"
    }
   ],
   "source": [
    "my_func(add,10)"
   ]
  },
  {
   "cell_type": "code",
   "execution_count": 32,
   "id": "bb6ab14a-e07f-402a-91cb-1ac3e900f9de",
   "metadata": {},
   "outputs": [
    {
     "data": {
      "text/plain": [
       "9"
      ]
     },
     "execution_count": 32,
     "metadata": {},
     "output_type": "execute_result"
    }
   ],
   "source": [
    "my_func(sub,10)"
   ]
  },
  {
   "cell_type": "code",
   "execution_count": 48,
   "id": "159ad71f-3081-4bb6-a2b3-fa3f4ded932e",
   "metadata": {},
   "outputs": [],
   "source": [
    "def hello():\n",
    "    def hi():\n",
    "        return \"Hello Everyone\"\n",
    "    def hy():\n",
    "        return \"Hy Everyone\"\n",
    "    return hi"
   ]
  },
  {
   "cell_type": "code",
   "execution_count": 49,
   "id": "fc943415-e517-4be7-b257-c68c9a5a2ebf",
   "metadata": {},
   "outputs": [
    {
     "data": {
      "text/plain": [
       "'Hello Everyone'"
      ]
     },
     "execution_count": 49,
     "metadata": {},
     "output_type": "execute_result"
    }
   ],
   "source": [
    "x = hello()\n",
    "x()"
   ]
  },
  {
   "cell_type": "code",
   "execution_count": 71,
   "id": "7428172f-4b6d-4d05-a099-792889706027",
   "metadata": {},
   "outputs": [],
   "source": [
    "def devide(x,y):\n",
    "    print(x/y)\n",
    "\n",
    "def outer_func(func):\n",
    "    def inner_func(x,y):\n",
    "        if x<y:\n",
    "            x,y = y,x\n",
    "        func(x,y)\n",
    "    return inner_func"
   ]
  },
  {
   "cell_type": "code",
   "execution_count": 72,
   "id": "b921ee22-3044-4bda-aeb8-5dedfd581400",
   "metadata": {},
   "outputs": [],
   "source": [
    "my_func = outer_func(devide)"
   ]
  },
  {
   "cell_type": "code",
   "execution_count": 73,
   "id": "798af9ed-6457-4345-8d23-fa1b49c85645",
   "metadata": {},
   "outputs": [
    {
     "name": "stdout",
     "output_type": "stream",
     "text": [
      "5.0\n"
     ]
    }
   ],
   "source": [
    "x = my_func(2,10)\n",
    "x"
   ]
  },
  {
   "cell_type": "code",
   "execution_count": 75,
   "id": "f67a2f8d-f0fb-4ac3-bf0d-22aca4e36a70",
   "metadata": {},
   "outputs": [],
   "source": [
    "@outer_func\n",
    "def devide(x,y):\n",
    "    print(x/y)"
   ]
  },
  {
   "cell_type": "code",
   "execution_count": 78,
   "id": "80da2356-1cf7-4d5b-ab48-6748f0bc041b",
   "metadata": {},
   "outputs": [
    {
     "name": "stdout",
     "output_type": "stream",
     "text": [
      "5.0\n"
     ]
    }
   ],
   "source": [
    "x = devide(2,10)\n",
    "x"
   ]
  },
  {
   "cell_type": "code",
   "execution_count": 96,
   "id": "4bbc5b7e-beaa-4cbf-98b3-023d7e1bdf1e",
   "metadata": {},
   "outputs": [],
   "source": [
    "def outer_twice(func):\n",
    "    def inner_twice():\n",
    "        print(\"Start of the function\")\n",
    "        func()\n",
    "        func()\n",
    "        print(\"End of the Function\")\n",
    "    return inner_twice"
   ]
  },
  {
   "cell_type": "code",
   "execution_count": 97,
   "id": "c4637615-da68-4b08-b39f-5608d0100dfc",
   "metadata": {},
   "outputs": [],
   "source": [
    "@outer_twice\n",
    "\n",
    "def gretting(*arg):\n",
    "    print(\"Welcome to all\")"
   ]
  },
  {
   "cell_type": "code",
   "execution_count": 98,
   "id": "c43e421e-e3af-4ce7-9c90-652732368517",
   "metadata": {},
   "outputs": [
    {
     "name": "stdout",
     "output_type": "stream",
     "text": [
      "Start of the function\n",
      "Welcome to all\n",
      "Welcome to all\n",
      "End of the Function\n"
     ]
    }
   ],
   "source": [
    "gretting()"
   ]
  },
  {
   "cell_type": "code",
   "execution_count": 120,
   "id": "2af43ded-3da7-4fe6-9be1-3f42078240c3",
   "metadata": {},
   "outputs": [],
   "source": [
    "def outer_twice(func):\n",
    "    def inner_twice(*arg,**kewarg):\n",
    "        print(\"Start of the function\")\n",
    "        func(*arg,**kewarg)\n",
    "        func(*arg,**kewarg)\n",
    "        print(\"End of the Function\")\n",
    "    return inner_twice"
   ]
  },
  {
   "cell_type": "code",
   "execution_count": 121,
   "id": "59505ee6-48e0-47d9-9b41-70e9d7cbe777",
   "metadata": {},
   "outputs": [],
   "source": [
    "@outer_twice\n",
    "\n",
    "def my_func(name):\n",
    "    print(f\"My name is {name}\")\n",
    "    return f\"Hi, {name}\""
   ]
  },
  {
   "cell_type": "code",
   "execution_count": 123,
   "id": "58b0ca5f-5a10-4be5-8786-d3b4409264b6",
   "metadata": {},
   "outputs": [
    {
     "name": "stdout",
     "output_type": "stream",
     "text": [
      "Start of the function\n",
      "My name is Utpal\n",
      "My name is Utpal\n",
      "End of the Function\n"
     ]
    }
   ],
   "source": [
    "x= my_func(\"Utpal\")"
   ]
  },
  {
   "cell_type": "code",
   "execution_count": 145,
   "id": "3c05bfaa-bcba-493a-952b-4e1f280aa40e",
   "metadata": {},
   "outputs": [
    {
     "data": {
      "text/plain": [
       "1676131004.7633321"
      ]
     },
     "execution_count": 145,
     "metadata": {},
     "output_type": "execute_result"
    }
   ],
   "source": [
    "import time\n",
    "float(time.time())"
   ]
  },
  {
   "cell_type": "code",
   "execution_count": 1,
   "id": "ed39376e-bdfe-408f-949b-60a2c5b30c6b",
   "metadata": {},
   "outputs": [],
   "source": [
    "import time\n",
    "\n",
    "def timer_outer(func):\n",
    "    def timer_inner(*arg):\n",
    "        start = float(time.time())\n",
    "        func(*arg)\n",
    "        end = float(time.time())\n",
    "        return (end-start)\n",
    "    return timer_inner"
   ]
  },
  {
   "cell_type": "code",
   "execution_count": 2,
   "id": "73a60fdb-a8d2-47d0-8449-b2030e4e507a",
   "metadata": {},
   "outputs": [],
   "source": [
    "@timer_outer\n",
    "\n",
    "def my_func(items):\n",
    "    sum=0\n",
    "    for item in range(items):\n",
    "        sum+=item\n",
    "    return sum"
   ]
  },
  {
   "cell_type": "code",
   "execution_count": 3,
   "id": "b58a7ca9-7047-409f-930b-0610c8e88ee2",
   "metadata": {},
   "outputs": [
    {
     "data": {
      "text/plain": [
       "3.3643288612365723"
      ]
     },
     "execution_count": 3,
     "metadata": {},
     "output_type": "execute_result"
    }
   ],
   "source": [
    "my_func(100000000)"
   ]
  },
  {
   "cell_type": "code",
   "execution_count": null,
   "id": "b3131af1-a5f9-4fd6-9986-0ea19bb8a8c4",
   "metadata": {},
   "outputs": [],
   "source": []
  },
  {
   "cell_type": "code",
   "execution_count": null,
   "id": "115d7e29-3fcd-4875-91e7-107009b28a7b",
   "metadata": {},
   "outputs": [],
   "source": []
  },
  {
   "cell_type": "code",
   "execution_count": 1,
   "id": "f37b76ad-e6f5-4c73-9dcf-7a5d23ac5413",
   "metadata": {
    "tags": []
   },
   "outputs": [],
   "source": [
    "## Timer\n",
    "import time\n",
    "def timmer(func):\n",
    "    def opt(num):\n",
    "        start = time.time()\n",
    "        func(num)\n",
    "        end = time.time()\n",
    "        total_time = end - start\n",
    "        print(f\"Total Time Taken: {total_time}\")\n",
    "    return opt\n",
    "        "
   ]
  },
  {
   "cell_type": "code",
   "execution_count": 2,
   "id": "1a9f0861-1b36-4014-ab2e-6d8529454193",
   "metadata": {
    "tags": []
   },
   "outputs": [],
   "source": [
    "@timmer\n",
    "def add(num):\n",
    "    x = 0\n",
    "    for i in range(num):\n",
    "        x += i\n",
    "    print(f\"Sumation of the Numbers {x}:\")"
   ]
  },
  {
   "cell_type": "code",
   "execution_count": 3,
   "id": "e6d98e35-98df-457e-8be4-5efa410e2f91",
   "metadata": {
    "tags": []
   },
   "outputs": [
    {
     "name": "stdout",
     "output_type": "stream",
     "text": [
      "Sumation of the Numbers 499500:\n",
      "Total Time Taken: 0.00015687942504882812\n"
     ]
    }
   ],
   "source": [
    "add(1000)"
   ]
  },
  {
   "cell_type": "code",
   "execution_count": null,
   "id": "10670e62-8634-4f3b-9135-59fefbb93c45",
   "metadata": {},
   "outputs": [],
   "source": []
  },
  {
   "cell_type": "code",
   "execution_count": 14,
   "id": "ed8e2415-4614-4348-a45c-0219bda590e4",
   "metadata": {
    "tags": []
   },
   "outputs": [],
   "source": [
    "@timmer\n",
    "def multiply(num):\n",
    "    x = 1\n",
    "    for i in range(1,num):\n",
    "        x *= i\n",
    "    print(f\"Multiplication of the Numbers {x}:\")"
   ]
  },
  {
   "cell_type": "code",
   "execution_count": 15,
   "id": "bf59c633-7d44-4ae3-aaea-44545358ba85",
   "metadata": {
    "tags": []
   },
   "outputs": [
    {
     "name": "stdout",
     "output_type": "stream",
     "text": [
      "Multiplication of the Numbers 362880:\n",
      "Total Time Taken: 5.6743621826171875e-05\n"
     ]
    }
   ],
   "source": [
    "multiply(10)"
   ]
  },
  {
   "cell_type": "code",
   "execution_count": null,
   "id": "20780b78-7727-4f97-a43b-84e948e7f82f",
   "metadata": {},
   "outputs": [],
   "source": []
  }
 ],
 "metadata": {
  "kernelspec": {
   "display_name": "Python 3 (ipykernel)",
   "language": "python",
   "name": "python3"
  },
  "language_info": {
   "codemirror_mode": {
    "name": "ipython",
    "version": 3
   },
   "file_extension": ".py",
   "mimetype": "text/x-python",
   "name": "python",
   "nbconvert_exporter": "python",
   "pygments_lexer": "ipython3",
   "version": "3.10.6"
  }
 },
 "nbformat": 4,
 "nbformat_minor": 5
}
