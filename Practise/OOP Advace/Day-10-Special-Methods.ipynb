{
 "cells": [
  {
   "cell_type": "markdown",
   "id": "baadbcd3-0e7f-41b1-9baa-db3c427b1e22",
   "metadata": {},
   "source": [
    "## Special (Magic or Dunder) Methods"
   ]
  },
  {
   "cell_type": "code",
   "execution_count": 14,
   "id": "b3131af1-a5f9-4fd6-9986-0ea19bb8a8c4",
   "metadata": {},
   "outputs": [],
   "source": [
    "class Student:\n",
    "    # def __new__(cls):\n",
    "    #     print(\"New Magic Method\")\n",
    "    \n",
    "    def __init__(self):\n",
    "        print(\"Init Magic Method, which internally called new magic Method\")\n",
    "    \n",
    "    def __str__(self):\n",
    "        return \"String Magic Method\""
   ]
  },
  {
   "cell_type": "code",
   "execution_count": 15,
   "id": "8b38ffb6-d8ba-42fd-88db-09387b9e0a80",
   "metadata": {
    "tags": []
   },
   "outputs": [
    {
     "name": "stdout",
     "output_type": "stream",
     "text": [
      "Init Magic Method, which internally called new magic Method\n"
     ]
    }
   ],
   "source": [
    "st1 = Student()"
   ]
  },
  {
   "cell_type": "code",
   "execution_count": 16,
   "id": "27ee46e0-f4d2-48e9-bc15-7a4ebfd429c9",
   "metadata": {
    "tags": []
   },
   "outputs": [
    {
     "name": "stdout",
     "output_type": "stream",
     "text": [
      "String Magic Method\n"
     ]
    }
   ],
   "source": [
    "print(st1)"
   ]
  },
  {
   "cell_type": "code",
   "execution_count": null,
   "id": "4f95e4a6-9f01-440c-a13e-469133ee2894",
   "metadata": {},
   "outputs": [],
   "source": []
  }
 ],
 "metadata": {
  "kernelspec": {
   "display_name": "Python 3 (ipykernel)",
   "language": "python",
   "name": "python3"
  },
  "language_info": {
   "codemirror_mode": {
    "name": "ipython",
    "version": 3
   },
   "file_extension": ".py",
   "mimetype": "text/x-python",
   "name": "python",
   "nbconvert_exporter": "python",
   "pygments_lexer": "ipython3",
   "version": "3.10.6"
  }
 },
 "nbformat": 4,
 "nbformat_minor": 5
}
