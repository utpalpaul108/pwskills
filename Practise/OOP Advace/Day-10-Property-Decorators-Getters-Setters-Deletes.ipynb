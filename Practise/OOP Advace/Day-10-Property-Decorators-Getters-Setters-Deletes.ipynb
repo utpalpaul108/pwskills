{
 "cells": [
  {
   "cell_type": "markdown",
   "id": "baadbcd3-0e7f-41b1-9baa-db3c427b1e22",
   "metadata": {},
   "source": [
    "## Property Decorators"
   ]
  },
  {
   "cell_type": "code",
   "execution_count": 56,
   "id": "b3131af1-a5f9-4fd6-9986-0ea19bb8a8c4",
   "metadata": {
    "tags": []
   },
   "outputs": [],
   "source": [
    "class Student:\n",
    "    def __init__(self, suddent_id, name, marks):\n",
    "        self.suddent_id = suddent_id\n",
    "        self._name = name\n",
    "        self.__marks = marks\n",
    "    \n",
    "    @property\n",
    "    def student_marks(self):\n",
    "        return self.__marks\n",
    "    \n",
    "    @student_marks.setter\n",
    "    def student_marks(self, marks):\n",
    "        self.__marks=marks\n",
    "        \n",
    "    @student_marks.deleter\n",
    "    def student_marks(self):\n",
    "        self.__marks = 0\n",
    "    "
   ]
  },
  {
   "cell_type": "code",
   "execution_count": 57,
   "id": "1b6e9b9c-b7d3-4a9a-a067-f733acff16d2",
   "metadata": {
    "tags": []
   },
   "outputs": [],
   "source": [
    "student01 = Student('21MAI0071', \"Utpal Paul\", 85)"
   ]
  },
  {
   "cell_type": "code",
   "execution_count": 58,
   "id": "4423d56a-38ff-4aba-8171-12c6ebf7669d",
   "metadata": {
    "tags": []
   },
   "outputs": [
    {
     "data": {
      "text/plain": [
       "'21MAI0071'"
      ]
     },
     "execution_count": 58,
     "metadata": {},
     "output_type": "execute_result"
    }
   ],
   "source": [
    "student01.suddent_id"
   ]
  },
  {
   "cell_type": "code",
   "execution_count": 59,
   "id": "22dcdbf1-e927-4d9a-8c80-223388bbdbb3",
   "metadata": {
    "tags": []
   },
   "outputs": [
    {
     "data": {
      "text/plain": [
       "85"
      ]
     },
     "execution_count": 59,
     "metadata": {},
     "output_type": "execute_result"
    }
   ],
   "source": [
    "student01.student_marks"
   ]
  },
  {
   "cell_type": "code",
   "execution_count": 60,
   "id": "c4e7b761-e2ea-43f6-b7e6-c4a1487a343d",
   "metadata": {
    "tags": []
   },
   "outputs": [],
   "source": [
    "student01.student_marks=90"
   ]
  },
  {
   "cell_type": "code",
   "execution_count": 61,
   "id": "d32fa5f2-9c9d-4986-9737-18028d11d5bc",
   "metadata": {
    "tags": []
   },
   "outputs": [
    {
     "data": {
      "text/plain": [
       "90"
      ]
     },
     "execution_count": 61,
     "metadata": {},
     "output_type": "execute_result"
    }
   ],
   "source": [
    "student01.student_marks"
   ]
  },
  {
   "cell_type": "code",
   "execution_count": 62,
   "id": "655bd0a0-67f4-4208-bcc1-210cdb1f6c64",
   "metadata": {
    "tags": []
   },
   "outputs": [],
   "source": [
    "del student01.student_marks"
   ]
  },
  {
   "cell_type": "code",
   "execution_count": 63,
   "id": "66e78339-e2af-4726-96ee-1d79e4c51d4e",
   "metadata": {
    "tags": []
   },
   "outputs": [
    {
     "data": {
      "text/plain": [
       "0"
      ]
     },
     "execution_count": 63,
     "metadata": {},
     "output_type": "execute_result"
    }
   ],
   "source": [
    "student01.student_marks"
   ]
  },
  {
   "cell_type": "code",
   "execution_count": null,
   "id": "eb2166b8-3a66-4baa-a4cc-c937415de7c2",
   "metadata": {},
   "outputs": [],
   "source": []
  },
  {
   "cell_type": "code",
   "execution_count": 31,
   "id": "b5b493b9-7550-4f7a-b1bc-8d657b6c55f7",
   "metadata": {
    "tags": []
   },
   "outputs": [
    {
     "data": {
      "text/plain": [
       "'Utpal Paul'"
      ]
     },
     "execution_count": 31,
     "metadata": {},
     "output_type": "execute_result"
    }
   ],
   "source": [
    "student01._name"
   ]
  },
  {
   "cell_type": "code",
   "execution_count": 32,
   "id": "23cfc4ff-4fd2-48d7-8c54-5fb78cbfd769",
   "metadata": {
    "tags": []
   },
   "outputs": [],
   "source": [
    "student01._name = \"Rajesh Gosh\""
   ]
  },
  {
   "cell_type": "code",
   "execution_count": 33,
   "id": "ac1d6c6a-b01c-45f5-bdc6-a69aa1f56af5",
   "metadata": {
    "tags": []
   },
   "outputs": [
    {
     "data": {
      "text/plain": [
       "85"
      ]
     },
     "execution_count": 33,
     "metadata": {},
     "output_type": "execute_result"
    }
   ],
   "source": [
    "student01.student_marks"
   ]
  },
  {
   "cell_type": "code",
   "execution_count": 27,
   "id": "eac0c38c-3ac4-4413-8b08-75c48deeb019",
   "metadata": {
    "tags": []
   },
   "outputs": [
    {
     "data": {
      "text/plain": [
       "'Rajesh Gosh'"
      ]
     },
     "execution_count": 27,
     "metadata": {},
     "output_type": "execute_result"
    }
   ],
   "source": [
    "student01._name"
   ]
  },
  {
   "cell_type": "code",
   "execution_count": null,
   "id": "5afdebb4-b77f-4f0f-b075-6392af04d3cf",
   "metadata": {},
   "outputs": [],
   "source": []
  }
 ],
 "metadata": {
  "kernelspec": {
   "display_name": "Python 3 (ipykernel)",
   "language": "python",
   "name": "python3"
  },
  "language_info": {
   "codemirror_mode": {
    "name": "ipython",
    "version": 3
   },
   "file_extension": ".py",
   "mimetype": "text/x-python",
   "name": "python",
   "nbconvert_exporter": "python",
   "pygments_lexer": "ipython3",
   "version": "3.10.6"
  }
 },
 "nbformat": 4,
 "nbformat_minor": 5
}
