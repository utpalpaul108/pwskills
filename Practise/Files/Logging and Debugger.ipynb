{
 "cells": [
  {
   "cell_type": "markdown",
   "id": "065a0ef3-444d-43f1-af28-1bca66b52f81",
   "metadata": {},
   "source": [
    "## Logging and Debugger"
   ]
  },
  {
   "cell_type": "code",
   "execution_count": 2,
   "id": "84e322d9-8cf0-457f-a611-9cf191d66c1f",
   "metadata": {
    "tags": []
   },
   "outputs": [],
   "source": [
    "import logging"
   ]
  },
  {
   "cell_type": "code",
   "execution_count": 4,
   "id": "85ea35e7-9dc8-44cb-a255-bd7cf2527356",
   "metadata": {
    "tags": []
   },
   "outputs": [],
   "source": [
    "logging.basicConfig(filename=\"test.log\", level=logging.INFO)"
   ]
  },
  {
   "cell_type": "code",
   "execution_count": null,
   "id": "e712f4a9-451f-4b87-ab29-d8bc6cd28d5a",
   "metadata": {},
   "outputs": [],
   "source": [
    "logging.info(\"Test logging 01\")"
   ]
  },
  {
   "cell_type": "code",
   "execution_count": 4,
   "id": "4a8baaf6-8d75-4910-a86c-7683a96b4f63",
   "metadata": {
    "tags": []
   },
   "outputs": [],
   "source": [
    "logging.error(\"Test logging 02\")"
   ]
  },
  {
   "cell_type": "markdown",
   "id": "22867c4e-d2e5-4fac-a5d7-4450dc8f002e",
   "metadata": {},
   "source": [
    "1. NOSET\n",
    "2. DEBUG\n",
    "3. INFO\n",
    "4. WARNING\n",
    "5. ERROR\n",
    "6. CRITICAL"
   ]
  },
  {
   "cell_type": "code",
   "execution_count": 10,
   "id": "854fc2c9-7a9f-4f46-a4b4-468b0a7dd0db",
   "metadata": {
    "tags": []
   },
   "outputs": [],
   "source": [
    "logging.debug(\"Test logging 02\")"
   ]
  },
  {
   "cell_type": "code",
   "execution_count": 11,
   "id": "8ca337ab-f358-40c8-a603-01a6085eb850",
   "metadata": {},
   "outputs": [],
   "source": [
    "logging.shutdown()"
   ]
  },
  {
   "cell_type": "code",
   "execution_count": null,
   "id": "9b47ffa3-7d66-45dd-89f5-b33db8d61c79",
   "metadata": {},
   "outputs": [],
   "source": []
  },
  {
   "cell_type": "code",
   "execution_count": 2,
   "id": "3ef39464-4d8d-4627-91ac-32a5473c925d",
   "metadata": {
    "tags": []
   },
   "outputs": [],
   "source": [
    "logging.basicConfig(filename=\"test.log\", level=logging.DEBUG, format=\"%(asctime)s %(message)s\")"
   ]
  },
  {
   "cell_type": "code",
   "execution_count": 3,
   "id": "52ae41de-ea7a-4210-9cb4-7db983b8d99d",
   "metadata": {
    "tags": []
   },
   "outputs": [],
   "source": [
    "logging.debug(\"Test logging 01\")"
   ]
  },
  {
   "cell_type": "code",
   "execution_count": 5,
   "id": "abf85c44-bd94-4be3-a5fa-2c4fe358d5e4",
   "metadata": {
    "tags": []
   },
   "outputs": [],
   "source": [
    "logging.shutdown()"
   ]
  },
  {
   "cell_type": "code",
   "execution_count": null,
   "id": "47bed400-5bc5-4036-956f-a8263e56024e",
   "metadata": {},
   "outputs": [],
   "source": []
  },
  {
   "cell_type": "code",
   "execution_count": 3,
   "id": "c84b3552-57ca-4833-b04d-b6e9debfb514",
   "metadata": {
    "tags": []
   },
   "outputs": [],
   "source": [
    "logging.basicConfig(filename=\"test.log\", level=logging.DEBUG, format=\"%(asctime)s %(name)s %(levelname)s %(message)s\")"
   ]
  },
  {
   "cell_type": "code",
   "execution_count": 4,
   "id": "a6a122c8-5525-4a50-b065-4141f418dba5",
   "metadata": {
    "tags": []
   },
   "outputs": [],
   "source": [
    "logging.debug(\"Test logging 01\")"
   ]
  },
  {
   "cell_type": "code",
   "execution_count": null,
   "id": "1fd74b0b-2500-42af-ab63-b11677053415",
   "metadata": {},
   "outputs": [],
   "source": []
  },
  {
   "cell_type": "code",
   "execution_count": 7,
   "id": "d021d300-ebc6-4509-8b7f-1768f74283a3",
   "metadata": {
    "tags": []
   },
   "outputs": [
    {
     "data": {
      "text/plain": [
       "str"
      ]
     },
     "execution_count": 7,
     "metadata": {},
     "output_type": "execute_result"
    }
   ],
   "source": [
    "type(\"tt\")"
   ]
  },
  {
   "cell_type": "code",
   "execution_count": 24,
   "id": "c862660a-2759-4973-89b0-cb3bf6d46faa",
   "metadata": {
    "tags": []
   },
   "outputs": [],
   "source": [
    "l = [1,2,3,4,[4,5,[6,\"Kumar\",109]],9,\"utpal\",\"paul\"]\n",
    "\n",
    "intList=[]\n",
    "strList=[]\n",
    "\n",
    "def extractString(items):\n",
    "    try:\n",
    "        for x in items:\n",
    "            type_of_var=type(x)\n",
    "\n",
    "            if type_of_var == int:\n",
    "                intList.append(x)\n",
    "            elif type_of_var == str:\n",
    "                strList.append(x)\n",
    "            if type(x)==list:\n",
    "                extractString(x)\n",
    "                \n",
    "                \n",
    "        logging.info(\"Final Result, Integer List : {} and String List {}\".format(intList, strList))\n",
    "        return [intList,strList]\n",
    "            \n",
    "    except:\n",
    "        logging.error(\"Someting went wrong\")\n",
    "            "
   ]
  },
  {
   "cell_type": "code",
   "execution_count": 25,
   "id": "a0cd631e-6d87-4e66-83df-6eb5436ddc36",
   "metadata": {
    "tags": []
   },
   "outputs": [
    {
     "data": {
      "text/plain": [
       "[[1, 2, 3, 4, 4, 5, 6, 109, 9], ['Kumar', 'utpal', 'paul']]"
      ]
     },
     "execution_count": 25,
     "metadata": {},
     "output_type": "execute_result"
    }
   ],
   "source": [
    "extractString(l)"
   ]
  }
 ],
 "metadata": {
  "kernelspec": {
   "display_name": "Python 3 (ipykernel)",
   "language": "python",
   "name": "python3"
  },
  "language_info": {
   "codemirror_mode": {
    "name": "ipython",
    "version": 3
   },
   "file_extension": ".py",
   "mimetype": "text/x-python",
   "name": "python",
   "nbconvert_exporter": "python",
   "pygments_lexer": "ipython3",
   "version": "3.10.6"
  }
 },
 "nbformat": 4,
 "nbformat_minor": 5
}
