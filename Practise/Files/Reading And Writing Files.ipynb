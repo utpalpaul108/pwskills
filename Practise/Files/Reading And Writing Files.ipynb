{
 "cells": [
  {
   "cell_type": "markdown",
   "id": "43199294-b41f-49fb-929f-7b26b9d12064",
   "metadata": {},
   "source": [
    "## Reading and Writing Files"
   ]
  },
  {
   "cell_type": "code",
   "execution_count": 1,
   "id": "b5300ae8-7295-48a7-8fe1-c2bf267add3e",
   "metadata": {
    "tags": []
   },
   "outputs": [],
   "source": [
    "data = {\n",
    "    \"name\":\"Utpal Paul\",\n",
    "    \"email\":\"utpalpaul108@gmail.com\",\n",
    "    \"phone_no\":14567676767,\n",
    "    \"subject\":[\"AI\", \"ML\", \"DL\", \"Computer Vision\"]\n",
    "}"
   ]
  },
  {
   "cell_type": "code",
   "execution_count": 4,
   "id": "5ccc67cb-c3ac-47b3-8f0d-f9979f742196",
   "metadata": {
    "tags": []
   },
   "outputs": [],
   "source": [
    "import json"
   ]
  },
  {
   "cell_type": "code",
   "execution_count": 5,
   "id": "5f125ad0-5be6-44c9-bc80-7e6c88778b91",
   "metadata": {
    "tags": []
   },
   "outputs": [],
   "source": [
    "with open(\"data.json\",\"w\") as f:\n",
    "    json.dump(data,f)"
   ]
  },
  {
   "cell_type": "code",
   "execution_count": 8,
   "id": "38aa9a40-bbb5-4c7b-a479-d5a1ebeaa356",
   "metadata": {
    "tags": []
   },
   "outputs": [],
   "source": [
    "with open(\"data.json\",\"r\") as f:\n",
    "    data1=json.load(f)"
   ]
  },
  {
   "cell_type": "code",
   "execution_count": 9,
   "id": "1abc1895-7754-449b-921b-ea3325994db6",
   "metadata": {
    "tags": []
   },
   "outputs": [
    {
     "data": {
      "text/plain": [
       "{'name': 'Utpal Paul',\n",
       " 'email': 'utpalpaul108@gmail.com',\n",
       " 'phone_no': 14567676767,\n",
       " 'subject': ['AI', 'ML', 'DL', 'Computer Vision']}"
      ]
     },
     "execution_count": 9,
     "metadata": {},
     "output_type": "execute_result"
    }
   ],
   "source": [
    "data1"
   ]
  },
  {
   "cell_type": "code",
   "execution_count": 10,
   "id": "4430c07a-fa9a-40e6-b1ec-a47596d2d8c9",
   "metadata": {
    "tags": []
   },
   "outputs": [
    {
     "data": {
      "text/plain": [
       "['AI', 'ML', 'DL', 'Computer Vision']"
      ]
     },
     "execution_count": 10,
     "metadata": {},
     "output_type": "execute_result"
    }
   ],
   "source": [
    "data1['subject']"
   ]
  },
  {
   "cell_type": "code",
   "execution_count": null,
   "id": "9202a752-d37a-4d70-99d3-7935125397d8",
   "metadata": {},
   "outputs": [],
   "source": []
  },
  {
   "cell_type": "code",
   "execution_count": 11,
   "id": "16bc4d51-aa9d-47cc-a150-670db0d4c957",
   "metadata": {
    "tags": []
   },
   "outputs": [],
   "source": [
    "# Write In CSV\n",
    "\n",
    "data = [[\"name\", \"email\", \"phone_no\"],\n",
    "        [\"Utpal Paul\", \"utpal@gmail.com\", 1234568],\n",
    "        [\"Rajesh Gosh\", \"rajesh@gamil.com\", 8494949]\n",
    "       ]"
   ]
  },
  {
   "cell_type": "code",
   "execution_count": 12,
   "id": "2a5bd7a0-33f7-4740-877b-9ada57c13ca8",
   "metadata": {
    "tags": []
   },
   "outputs": [],
   "source": [
    "import csv"
   ]
  },
  {
   "cell_type": "code",
   "execution_count": 13,
   "id": "ad989565-bd37-460f-99de-30b61dbc5616",
   "metadata": {
    "tags": []
   },
   "outputs": [],
   "source": [
    "with open(\"data.csv\", \"w\") as f:\n",
    "    w = csv.writer(f)\n",
    "    for i in data:\n",
    "        w.writerow(i)"
   ]
  },
  {
   "cell_type": "code",
   "execution_count": 16,
   "id": "6bdf1719-ea6d-4049-9f93-ac22eee6001f",
   "metadata": {
    "tags": []
   },
   "outputs": [
    {
     "name": "stdout",
     "output_type": "stream",
     "text": [
      "name,email,phone_no\n",
      "Utpal Paul,utpal@gmail.com,1234568\n",
      "Rajesh Gosh,rajesh@gamil.com,8494949\n",
      "\n"
     ]
    }
   ],
   "source": [
    "with open(\"data.csv\", \"r\") as f:\n",
    "    print(f.read())"
   ]
  },
  {
   "cell_type": "code",
   "execution_count": 18,
   "id": "1591623b-754c-4a4c-bed8-2b678e71a032",
   "metadata": {
    "tags": []
   },
   "outputs": [
    {
     "name": "stdout",
     "output_type": "stream",
     "text": [
      "['name', 'email', 'phone_no']\n",
      "['Utpal Paul', 'utpal@gmail.com', '1234568']\n",
      "['Rajesh Gosh', 'rajesh@gamil.com', '8494949']\n"
     ]
    }
   ],
   "source": [
    "with open(\"data.csv\", \"r\") as f:\n",
    "    read = csv.reader(f)\n",
    "    for x in read:\n",
    "        print(x)"
   ]
  },
  {
   "cell_type": "code",
   "execution_count": null,
   "id": "34420586-6d37-4c33-903b-e8ae3e513fb0",
   "metadata": {},
   "outputs": [],
   "source": []
  },
  {
   "cell_type": "code",
   "execution_count": 20,
   "id": "214e37b1-c3d8-4b18-82e0-6f25cc7825b0",
   "metadata": {
    "tags": []
   },
   "outputs": [],
   "source": [
    "# For Binary\n",
    "with open(\"data.bin\", \"wb\") as f:\n",
    "    f.write(b\"\\x01\\x02\\x03\")"
   ]
  },
  {
   "cell_type": "code",
   "execution_count": 22,
   "id": "4a1597a8-e200-4fbd-9dcb-f50a4ca5922d",
   "metadata": {
    "tags": []
   },
   "outputs": [
    {
     "name": "stdout",
     "output_type": "stream",
     "text": [
      "b'\\x01\\x02\\x03'\n"
     ]
    }
   ],
   "source": [
    "with open(\"data.bin\", \"rb\") as f:\n",
    "    print(f.read())"
   ]
  },
  {
   "cell_type": "code",
   "execution_count": null,
   "id": "c93df798-7e96-4b69-a1c0-b7825ffb9a6b",
   "metadata": {},
   "outputs": [],
   "source": []
  }
 ],
 "metadata": {
  "kernelspec": {
   "display_name": "Python 3 (ipykernel)",
   "language": "python",
   "name": "python3"
  },
  "language_info": {
   "codemirror_mode": {
    "name": "ipython",
    "version": 3
   },
   "file_extension": ".py",
   "mimetype": "text/x-python",
   "name": "python",
   "nbconvert_exporter": "python",
   "pygments_lexer": "ipython3",
   "version": "3.10.6"
  }
 },
 "nbformat": 4,
 "nbformat_minor": 5
}
