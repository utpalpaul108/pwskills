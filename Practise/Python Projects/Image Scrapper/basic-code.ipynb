{
 "cells": [
  {
   "cell_type": "code",
   "execution_count": 38,
   "id": "4a8db419-839d-49d7-948a-422a7dd96205",
   "metadata": {},
   "outputs": [],
   "source": [
    "import requests\n",
    "from bs4 import BeautifulSoup\n",
    "import os"
   ]
  },
  {
   "cell_type": "code",
   "execution_count": 39,
   "id": "a2df17ee-4f2b-442d-bf43-1605c6ad23eb",
   "metadata": {},
   "outputs": [],
   "source": [
    "# Create image directory to save the image\n",
    "save_img =\"images/\"\n",
    "if not os.path.exists(save_img):\n",
    "    os.makedirs(save_img)"
   ]
  },
  {
   "cell_type": "code",
   "execution_count": 40,
   "id": "79fc4afa-f741-4f32-b92a-1125a46d2d60",
   "metadata": {},
   "outputs": [],
   "source": [
    "query = \"elon musk\"\n",
    "search_query = query.replace(\" \",\"+\")\n",
    "search_url = f\"https://www.google.com/search?q={ search_query }&sxsrf=AJOqlzXxMs9UlWzdFZrOcMGGgMQTnUm3fw:1677605397224&source=lnms&tbm=isch&sa=X&ved=2ahUKEwjnh5mO37j9AhWn3HMBHeNZB5AQ_AUoAnoECAEQBA&biw=1280&bih=569&dpr=1.5\""
   ]
  },
  {
   "cell_type": "code",
   "execution_count": 41,
   "id": "93a24cb8-887d-4e1a-bd8c-6b6e800e6a2a",
   "metadata": {},
   "outputs": [],
   "source": [
    "response = requests.get(search_url)\n",
    "soup = BeautifulSoup(response.content, \"html.parser\")"
   ]
  },
  {
   "cell_type": "code",
   "execution_count": 42,
   "id": "be8abb4c-9689-4a04-af00-130e9a03e351",
   "metadata": {},
   "outputs": [],
   "source": [
    "image_list = soup.find_all(\"img\")[:10]"
   ]
  },
  {
   "cell_type": "code",
   "execution_count": 43,
   "id": "dfbbecaa-97c4-4c44-895a-6b4bbad23585",
   "metadata": {},
   "outputs": [],
   "source": [
    "del image_list[0]"
   ]
  },
  {
   "cell_type": "code",
   "execution_count": 44,
   "id": "d9446559-90be-46b9-baf9-bd67db5a8193",
   "metadata": {},
   "outputs": [
    {
     "data": {
      "text/plain": [
       "[<img alt=\"\" class=\"yWs4tf\" src=\"https://encrypted-tbn0.gstatic.com/images?q=tbn:ANd9GcT7fw7kVSa0pAlOlk9KJUjj5ZrqwrdkYe2evnyR-jyfmL30WD2LvZAYV3ynTw&amp;s\"/>,\n",
       " <img alt=\"\" class=\"yWs4tf\" src=\"https://encrypted-tbn0.gstatic.com/images?q=tbn:ANd9GcTAi3vMEx5Xjp1MlZWDyQL5wdUX_BNgHVOiXME-UhCDm6RdWsaJ4tTPESZKl90&amp;s\"/>,\n",
       " <img alt=\"\" class=\"yWs4tf\" src=\"https://encrypted-tbn0.gstatic.com/images?q=tbn:ANd9GcR2lc_6RYuRVr4RhMVZXd7V2xGFENHPtdrKC1O5vdiH5o25MGMcS9fDJsOxNw&amp;s\"/>,\n",
       " <img alt=\"\" class=\"yWs4tf\" src=\"https://encrypted-tbn0.gstatic.com/images?q=tbn:ANd9GcQY_R5NSNoZkSlMo3hf86COGJ4fCv0s6Nx4k8uCGkWc6YGOn_m4-rIOQ3GhOhg&amp;s\"/>,\n",
       " <img alt=\"\" class=\"yWs4tf\" src=\"https://encrypted-tbn0.gstatic.com/images?q=tbn:ANd9GcRaySzytYrf02OioPRHtphQsYIAYHk99ItzVD0hCxoTjGQaJkoM61xP_oBUeg&amp;s\"/>,\n",
       " <img alt=\"\" class=\"yWs4tf\" src=\"https://encrypted-tbn0.gstatic.com/images?q=tbn:ANd9GcScGGbu3dk7ajQXHCfagUKtwf5p8tRxiGX3cc4PxvkuzIxNIwjKeWLnrDu8Bto&amp;s\"/>,\n",
       " <img alt=\"\" class=\"yWs4tf\" src=\"https://encrypted-tbn0.gstatic.com/images?q=tbn:ANd9GcRSUdtrDgdLhEtmKo_ZE6jM4AZ82I_o3L8u_hpqfR7GMpxQW9qOyo1FsT2UGAo&amp;s\"/>,\n",
       " <img alt=\"\" class=\"yWs4tf\" src=\"https://encrypted-tbn0.gstatic.com/images?q=tbn:ANd9GcRs--BICqX6SvS2kq4_lpY9yAqc2cqB1X6m4jLWeDxg9UKemZdC9HOE_X9KvDo&amp;s\"/>,\n",
       " <img alt=\"\" class=\"yWs4tf\" src=\"https://encrypted-tbn0.gstatic.com/images?q=tbn:ANd9GcQpB28BETq3fEzOiQI6z_RQ1wJu5Y5C1i-a2i7c5YTRU5BZcqknlLTCyELzqnk&amp;s\"/>]"
      ]
     },
     "execution_count": 44,
     "metadata": {},
     "output_type": "execute_result"
    }
   ],
   "source": [
    "image_list"
   ]
  },
  {
   "cell_type": "code",
   "execution_count": null,
   "id": "058a0d6d-5523-4319-99e8-895ed29cfe30",
   "metadata": {},
   "outputs": [],
   "source": []
  },
  {
   "cell_type": "code",
   "execution_count": 55,
   "id": "1a0e98ae-3156-48e5-ab60-22f081e95297",
   "metadata": {},
   "outputs": [],
   "source": [
    "for image in image_list:\n",
    "    img_url = image[\"src\"]\n",
    "    img_data = requests.get(img_url).content\n",
    "    img_path = os.path.join(save_img,f\"{query}_{image_list.index(image)}.jpg\")\n",
    "    f = open(img_path, \"wb\")\n",
    "    f.write(img_data)"
   ]
  },
  {
   "cell_type": "code",
   "execution_count": 56,
   "id": "47586561-7869-42db-8909-4bb216072c51",
   "metadata": {},
   "outputs": [],
   "source": [
    "img_path = os.path.join(save_img,f\"{query}_{index}.jpg\")"
   ]
  },
  {
   "cell_type": "code",
   "execution_count": 54,
   "id": "d2e7d939-2d09-4946-bd3a-01b1272266a2",
   "metadata": {},
   "outputs": [
    {
     "data": {
      "text/plain": [
       "<img alt=\"\" class=\"yWs4tf\" src=\"https://encrypted-tbn0.gstatic.com/images?q=tbn:ANd9GcT7fw7kVSa0pAlOlk9KJUjj5ZrqwrdkYe2evnyR-jyfmL30WD2LvZAYV3ynTw&amp;s\"/>"
      ]
     },
     "execution_count": 54,
     "metadata": {},
     "output_type": "execute_result"
    }
   ],
   "source": [
    "image_list[0]"
   ]
  },
  {
   "cell_type": "code",
   "execution_count": null,
   "id": "2605b130-7c9f-4ece-a414-78f62c8fde17",
   "metadata": {},
   "outputs": [],
   "source": []
  }
 ],
 "metadata": {
  "kernelspec": {
   "display_name": "Python 3 (ipykernel)",
   "language": "python",
   "name": "python3"
  },
  "language_info": {
   "codemirror_mode": {
    "name": "ipython",
    "version": 3
   },
   "file_extension": ".py",
   "mimetype": "text/x-python",
   "name": "python",
   "nbconvert_exporter": "python",
   "pygments_lexer": "ipython3",
   "version": "3.10.9"
  }
 },
 "nbformat": 4,
 "nbformat_minor": 5
}
