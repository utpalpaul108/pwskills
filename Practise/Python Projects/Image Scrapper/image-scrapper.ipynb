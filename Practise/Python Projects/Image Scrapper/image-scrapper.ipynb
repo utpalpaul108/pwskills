{
 "cells": [
  {
   "cell_type": "markdown",
   "id": "0217ae53-63d2-4244-914c-4902c32a1172",
   "metadata": {},
   "source": [
    "## Image Scrapper"
   ]
  },
  {
   "cell_type": "code",
   "execution_count": 10,
   "id": "b7d69d98-fe5e-4d74-a061-1bb611b4a84e",
   "metadata": {},
   "outputs": [],
   "source": [
    "import requests\n",
    "from bs4 import BeautifulSoup\n",
    "from urllib.request import urlopen\n",
    "import os\n"
   ]
  },
  {
   "cell_type": "code",
   "execution_count": 11,
   "id": "1e049a95-1558-42ac-ad6f-c7c3336e4c6c",
   "metadata": {},
   "outputs": [],
   "source": [
    "## Create Directory To Save all of the images\n",
    "\n",
    "save_dir = \"images/\"\n",
    "if not os.path.exists(save_dir):\n",
    "    os.makedirs(save_dir)"
   ]
  },
  {
   "cell_type": "code",
   "execution_count": 12,
   "id": "148f6693-23f1-43f9-bb27-bf89342676b2",
   "metadata": {},
   "outputs": [],
   "source": [
    "headers = {\"User-Agent\": \"Mozilla/5.0 (Windows NT 10.0; Win64; x64) AppleWebKit/537.36 (KHTML, like Gecko) Chrome/58.0.3029.110 Safari/537.36\"}"
   ]
  },
  {
   "cell_type": "code",
   "execution_count": 13,
   "id": "9a4d7893-c847-4d2a-bee8-470eba21de38",
   "metadata": {},
   "outputs": [],
   "source": [
    "query = \"elonmusk\"\n",
    "url = f\"https://www.google.com/search?q={query}&sxsrf=AJOqlzUw0k-_e_M52HRVNUlQWoGvvoC1-Q:1677164129900&source=lnms&tbm=isch&sa=X&ved=2ahUKEwip_8Sh86v9AhUe23MBHT4BDHMQ_AUoAnoECAEQBA&biw=1280&bih=569&dpr=1.5\""
   ]
  },
  {
   "cell_type": "code",
   "execution_count": 17,
   "id": "a9d33a57-e7be-4dd3-a9b4-ec1d8ec6dbff",
   "metadata": {},
   "outputs": [],
   "source": [
    "response = requests.get(url)\n",
    "# response.content\n",
    "# response.text"
   ]
  },
  {
   "cell_type": "code",
   "execution_count": 21,
   "id": "7eae7d4b-9b46-4797-b54c-58390931c4d7",
   "metadata": {},
   "outputs": [],
   "source": [
    "response_html = BeautifulSoup(response.text, \"html.parser\")"
   ]
  },
  {
   "cell_type": "code",
   "execution_count": 23,
   "id": "b672f024-8259-47cf-9409-d081344a5e16",
   "metadata": {},
   "outputs": [],
   "source": [
    "image_list = response_html.find_all(\"img\")"
   ]
  },
  {
   "cell_type": "code",
   "execution_count": 24,
   "id": "ac03b954-03c9-4546-8a5b-2601db5ec3bf",
   "metadata": {},
   "outputs": [],
   "source": [
    "del image_list[0]"
   ]
  },
  {
   "cell_type": "code",
   "execution_count": 26,
   "id": "f4860a1d-c640-4150-a875-07261c8e7e2a",
   "metadata": {},
   "outputs": [
    {
     "data": {
      "text/plain": [
       "20"
      ]
     },
     "execution_count": 26,
     "metadata": {},
     "output_type": "execute_result"
    }
   ],
   "source": [
    "len(image_list)"
   ]
  },
  {
   "cell_type": "code",
   "execution_count": 35,
   "id": "a94e6cd0-e04f-4163-ad7a-ec36371b4300",
   "metadata": {},
   "outputs": [],
   "source": [
    "#requests.get(image_list[0]['src']).content"
   ]
  },
  {
   "cell_type": "code",
   "execution_count": 36,
   "id": "5cf58b40-2186-410b-ae6b-6e26d6cf1f59",
   "metadata": {},
   "outputs": [
    {
     "data": {
      "text/plain": [
       "0"
      ]
     },
     "execution_count": 36,
     "metadata": {},
     "output_type": "execute_result"
    }
   ],
   "source": [
    "image_list.index(image_list[0])"
   ]
  },
  {
   "cell_type": "code",
   "execution_count": 42,
   "id": "53591410-7497-4b04-a976-f5718c3dbb4a",
   "metadata": {},
   "outputs": [],
   "source": [
    "mongo_image_data = []\n",
    "\n",
    "for index,single_image in enumerate(image_list):\n",
    "    image_url = single_image['src']\n",
    "    image_data = requests.get(image_url).content\n",
    "    img_dict = {\"index\": image_url, \"image\": image_data}\n",
    "    mongo_image_data.append(img_dict)\n",
    "    \n",
    "    f = open(os.path.join(save_dir,f\"{query}_{index}.jpg\"), \"wb\")\n",
    "    f.write(image_data)"
   ]
  },
  {
   "cell_type": "code",
   "execution_count": 28,
   "id": "05931051-07e5-4afb-83cc-028714318428",
   "metadata": {},
   "outputs": [
    {
     "data": {
      "text/plain": [
       "['https://encrypted-tbn0.gstatic.com/images?q=tbn:ANd9GcRrZNzYQxi1a-qn4UAQIHAseCjJ0_ewPp2-Su3ImZe_cD-HPueyeQFHT6PGxA&s',\n",
       " 'https://encrypted-tbn0.gstatic.com/images?q=tbn:ANd9GcQdOp3ZpYbou1yMlj2sgHy7eCNp2ua5Hj2PFAONLM8ppB9TWUPsy644Z0PaXP0&s',\n",
       " 'https://encrypted-tbn0.gstatic.com/images?q=tbn:ANd9GcQY_R5NSNoZkSlMo3hf86COGJ4fCv0s6Nx4k8uCGkWc6YGOn_m4-rIOQ3GhOhg&s',\n",
       " 'https://encrypted-tbn0.gstatic.com/images?q=tbn:ANd9GcS6Ati5W_eLUHgusJezxxmtEJTT0Jdx0t4a5Ot2Kuh-mEnTRWxzXhTwIbR-dw&s',\n",
       " 'https://encrypted-tbn0.gstatic.com/images?q=tbn:ANd9GcRbKvNDNb1mIwzqXvxlafdUxBoqshMRcaUHUoPrMph85aFqcXiW7vaDQcqznA&s',\n",
       " 'https://encrypted-tbn0.gstatic.com/images?q=tbn:ANd9GcS6mPr1g683xgMlTnJfswzPyIjixDUJCLKR_GUOYd43dGj0LB8Uum64r_cOjl4&s',\n",
       " 'https://encrypted-tbn0.gstatic.com/images?q=tbn:ANd9GcSmSrYC5H1bUXC7zmC4gbcgMpNG-eQGAgRCfOjAfy-YjrFf8aA6qzU0z23jB9o&s',\n",
       " 'https://encrypted-tbn0.gstatic.com/images?q=tbn:ANd9GcQkPcYneaAYWIy5TtrSD5gBlU_Ne088B_VoRRCeg3fc7zMoqp4ZiRaEjVii0w&s',\n",
       " 'https://encrypted-tbn0.gstatic.com/images?q=tbn:ANd9GcQCc76awVLOEwp6n7mVvY5e8DhT6-BySn47PzeVcHQ7yEUpqXn6MgJCZRuUvg&s',\n",
       " 'https://encrypted-tbn0.gstatic.com/images?q=tbn:ANd9GcRNAYo_nwhFnCXIJAEY5yM_zkf5PeSYGsVa2tWz1HTd14fZTBFrQytEOm23zA&s',\n",
       " 'https://encrypted-tbn0.gstatic.com/images?q=tbn:ANd9GcTSjlbYVebi1LPLe9pKVrcF5wyL9alRd7aMoyu6snm1gB2y_lV-UAC52KMTS88&s',\n",
       " 'https://encrypted-tbn0.gstatic.com/images?q=tbn:ANd9GcT8ZfOwIzVBy57xEaAtG8565dpbuTkjTLix5W-BK8JXUV13VVgYJeeWZHBy0g&s',\n",
       " 'https://encrypted-tbn0.gstatic.com/images?q=tbn:ANd9GcQ3NgGSNAOcxba3M_do1aKbyOBgbZ1_nNLAtUvmAMURTOg4a2W7llIt_MIWXQ&s',\n",
       " 'https://encrypted-tbn0.gstatic.com/images?q=tbn:ANd9GcSvHaRD58vcOoHsOLr5rxMrIcurcOlsP4HAbIPymOqtV-5V8LP8QxxXRt8d2Gw&s',\n",
       " 'https://encrypted-tbn0.gstatic.com/images?q=tbn:ANd9GcT7RFGdcXR99HTJ2RBiMEKlTpo60gay-sGzRK7tijEyNXiCemsRSt3yxMt9UZE&s',\n",
       " 'https://encrypted-tbn0.gstatic.com/images?q=tbn:ANd9GcQkqgOWpGbsjvlfXgAzldcUv97Lh_0WqwpXwlrwCzhWF2YHLJO7PQgFKZR7gSg&s',\n",
       " 'https://encrypted-tbn0.gstatic.com/images?q=tbn:ANd9GcTiLeu5Xn8DJcCzwgk_kVzbogaiOzEmFT11ibix7fIxjwJ5opS_ShH5JQymBPY&s',\n",
       " 'https://encrypted-tbn0.gstatic.com/images?q=tbn:ANd9GcRvaHYL6oK4Q7uJiu7PI_E9SsrYGsUFjCeftoz44A9Te2gXcEoH0VRZxDY-fw&s',\n",
       " 'https://encrypted-tbn0.gstatic.com/images?q=tbn:ANd9GcQj-hGzuThBMjP8_EQdU0UY3l6uvxMJRG9YvlQHiB_jN4341pLeNtBO2dW6mQ&s',\n",
       " 'https://encrypted-tbn0.gstatic.com/images?q=tbn:ANd9GcRcEgNOq33BkxTq1U6Yxb2N_7quKaoLZI0rwww79WqDMECkyoXdiPeUYv8WpDU&s']"
      ]
     },
     "execution_count": 28,
     "metadata": {},
     "output_type": "execute_result"
    }
   ],
   "source": [
    "all_image_data"
   ]
  },
  {
   "cell_type": "code",
   "execution_count": null,
   "id": "3f925854-b060-48b8-ae82-182a2d01de25",
   "metadata": {},
   "outputs": [],
   "source": []
  }
 ],
 "metadata": {
  "kernelspec": {
   "display_name": "Python 3 (ipykernel)",
   "language": "python",
   "name": "python3"
  },
  "language_info": {
   "codemirror_mode": {
    "name": "ipython",
    "version": 3
   },
   "file_extension": ".py",
   "mimetype": "text/x-python",
   "name": "python",
   "nbconvert_exporter": "python",
   "pygments_lexer": "ipython3",
   "version": "3.10.9"
  }
 },
 "nbformat": 4,
 "nbformat_minor": 5
}
