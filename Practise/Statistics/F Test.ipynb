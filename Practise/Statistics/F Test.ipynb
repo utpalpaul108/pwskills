{
 "cells": [
  {
   "cell_type": "markdown",
   "id": "8c4cf624-2a42-4b6e-8673-e15bf86a9650",
   "metadata": {
    "tags": []
   },
   "source": [
    "## F Test"
   ]
  },
  {
   "cell_type": "code",
   "execution_count": 10,
   "id": "cd9bc9ea-380b-4e87-b682-c25e875584bf",
   "metadata": {
    "tags": []
   },
   "outputs": [],
   "source": [
    "import numpy as np\n",
    "import scipy.stats as stat"
   ]
  },
  {
   "cell_type": "code",
   "execution_count": 3,
   "id": "c24e8233-5d3e-4afd-853e-f99c685ebb2e",
   "metadata": {
    "tags": []
   },
   "outputs": [],
   "source": [
    "worker1 = [18,19,22,25,27,28,41,45,51,55]\n",
    "worker2 = [14,15,15,17,18,22,25,25,27,34]"
   ]
  },
  {
   "cell_type": "code",
   "execution_count": 8,
   "id": "0065b537-bcca-483e-b65e-6f1e1b8b7b62",
   "metadata": {
    "tags": []
   },
   "outputs": [
    {
     "data": {
      "text/plain": [
       "4.387122002085506"
      ]
     },
     "execution_count": 8,
     "metadata": {},
     "output_type": "execute_result"
    }
   ],
   "source": [
    "# Calculate F-Test Value\n",
    "\n",
    "s1 = np.var(worker1)\n",
    "s2 = np.var(worker2)\n",
    "F = s1/s2\n",
    "F"
   ]
  },
  {
   "cell_type": "code",
   "execution_count": 12,
   "id": "ad8707c7-ceca-4d6a-bfeb-94142c9d0d92",
   "metadata": {
    "tags": []
   },
   "outputs": [
    {
     "data": {
      "text/plain": [
       "3.178893104458269"
      ]
     },
     "execution_count": 12,
     "metadata": {},
     "output_type": "execute_result"
    }
   ],
   "source": [
    "# Calculate Critical Value\n",
    "df1 = len(worker1)-1  # Degree of freedom for worker-1\n",
    "df2 = len(worker2)-1  # Degree of freedom for worker-2\n",
    "\n",
    "significance_value = 0.05\n",
    "critical_value = stat.f.ppf(q=1-significance_value, dfn=df1, dfd=df2)\n",
    "critical_value"
   ]
  },
  {
   "cell_type": "code",
   "execution_count": 14,
   "id": "44391ff5-7351-44d8-b8be-90be9d9efa33",
   "metadata": {
    "tags": []
   },
   "outputs": [
    {
     "name": "stdout",
     "output_type": "stream",
     "text": [
      "Null Hypothesis is Accepted\n"
     ]
    }
   ],
   "source": [
    "if F >= critical_value:\n",
    "    print(\"Null Hypothesis is Accepted\")\n",
    "else:\n",
    "    print(\"Null Hypothesis is Rejected\")"
   ]
  },
  {
   "cell_type": "code",
   "execution_count": null,
   "id": "d0a86291-f08a-49fd-911d-161e954dd424",
   "metadata": {},
   "outputs": [],
   "source": []
  }
 ],
 "metadata": {
  "kernelspec": {
   "display_name": "Python 3 (ipykernel)",
   "language": "python",
   "name": "python3"
  },
  "language_info": {
   "codemirror_mode": {
    "name": "ipython",
    "version": 3
   },
   "file_extension": ".py",
   "mimetype": "text/x-python",
   "name": "python",
   "nbconvert_exporter": "python",
   "pygments_lexer": "ipython3",
   "version": "3.10.6"
  }
 },
 "nbformat": 4,
 "nbformat_minor": 5
}
