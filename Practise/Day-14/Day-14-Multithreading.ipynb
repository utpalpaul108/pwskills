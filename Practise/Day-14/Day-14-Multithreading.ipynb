{
 "cells": [
  {
   "cell_type": "markdown",
   "id": "3d349289-6367-4075-bedd-61f4bff65fd7",
   "metadata": {},
   "source": [
    "## Multithreading"
   ]
  },
  {
   "cell_type": "code",
   "execution_count": 33,
   "id": "dad712e0-0ca5-4f39-9592-d50811775886",
   "metadata": {},
   "outputs": [],
   "source": [
    "import time\n",
    "\n",
    "def cal_square(numbers):\n",
    "    print(\"Calcumate Square Numbers\\n\")\n",
    "    for number in numbers:\n",
    "        time.sleep(0.2)\n",
    "        print(\"Square :\",number**2,end=\"\\n\")\n",
    "        \n",
    "def cal_cube(numbers):\n",
    "    print(\"Calcumate Cube Numbers\\n\")\n",
    "    for number in numbers:\n",
    "        time.sleep(0.2)\n",
    "        print(\"Cube :\",number**3,end=\"\\n\")"
   ]
  },
  {
   "cell_type": "code",
   "execution_count": 37,
   "id": "61002a68-ddec-4bca-b8a8-8fde3f88afa3",
   "metadata": {},
   "outputs": [
    {
     "name": "stdout",
     "output_type": "stream",
     "text": [
      "Calcumate Square Numbers\n",
      "\n",
      "Square : 4\n",
      "Square : 9\n",
      "Square : 16\n",
      "Square : 25\n",
      "Square : 36\n",
      "Calcumate Cube Numbers\n",
      "\n",
      "Cube : 8\n",
      "Cube : 27\n",
      "Cube : 64\n",
      "Cube : 125\n",
      "Cube : 216\n",
      "\n",
      "Time Taken : 2.0364534854888916\n"
     ]
    }
   ],
   "source": [
    "myNumbers = [2,3,4,5,6]\n",
    "start = time.time()\n",
    "cal_square(myNumbers)\n",
    "cal_cube(myNumbers)\n",
    "end = time.time()\n",
    "print(\"\\nTime Taken :\",end-start)"
   ]
  },
  {
   "cell_type": "code",
   "execution_count": null,
   "id": "7cb0d7a9-9dcd-4e05-9d07-ac729665f1a4",
   "metadata": {},
   "outputs": [],
   "source": []
  },
  {
   "cell_type": "code",
   "execution_count": 38,
   "id": "f37189fd-c79d-419f-9a66-6f1aca6f06d2",
   "metadata": {},
   "outputs": [],
   "source": [
    "import threading\n",
    "\n",
    "start = time.time()\n",
    "\n",
    "t1 = threading.Thread(target=cal_square, args=(myNumbers,))\n",
    "t2 = threading.Thread(target=cal_cube, args=(myNumbers,))"
   ]
  },
  {
   "cell_type": "code",
   "execution_count": 39,
   "id": "bbe74f27-574d-47aa-b6ef-10aa9e16183a",
   "metadata": {},
   "outputs": [
    {
     "name": "stdout",
     "output_type": "stream",
     "text": [
      "Calcumate Square Numbers\n",
      "Calcumate Cube Numbers\n",
      "\n",
      "\n",
      "Square : 4\n",
      "Cube : 8\n",
      "Cube : 27\n",
      "Square : 9\n",
      "Square :Cube : 64\n",
      " 16\n",
      "Cube : 125\n",
      "Square : 25\n",
      "Square : 36\n",
      "Cube : 216\n",
      "\n",
      "Time Taken : 1.8379368782043457\n"
     ]
    }
   ],
   "source": [
    "t1.start()\n",
    "t2.start()\n",
    "\n",
    "t1.join()\n",
    "t2.join()\n",
    "\n",
    "end = time.time()\n",
    "print(\"\\nTime Taken :\",end-start)"
   ]
  },
  {
   "cell_type": "code",
   "execution_count": null,
   "id": "60cb2f19-5339-45a0-b947-3fea703d0c6b",
   "metadata": {},
   "outputs": [],
   "source": []
  },
  {
   "cell_type": "code",
   "execution_count": 58,
   "id": "0652f351-7d14-47d6-a210-1e9495bbd715",
   "metadata": {},
   "outputs": [],
   "source": [
    "def test(id):\n",
    "    print(f\"My Test ID: {id}\",end=\"\\n\")"
   ]
  },
  {
   "cell_type": "code",
   "execution_count": 59,
   "id": "8e5cae2a-fea9-48ac-9b64-309e53582d3b",
   "metadata": {},
   "outputs": [
    {
     "name": "stdout",
     "output_type": "stream",
     "text": [
      "My Test ID: 10\n",
      "My Test ID: 1\n",
      "My Test ID: 3\n"
     ]
    }
   ],
   "source": [
    "import threading\n",
    "\n",
    "## Using Traditional Way\n",
    "\n",
    "t1 = threading.Thread(target=test, args=(10,))\n",
    "t2 = threading.Thread(target=test, args=(1,))\n",
    "t3 = threading.Thread(target=test, args=(3,))\n",
    "\n",
    "t1.start()\n",
    "t2.start()\n",
    "t3.start()"
   ]
  },
  {
   "cell_type": "code",
   "execution_count": 60,
   "id": "16b0f79f-8cf5-420b-90e7-f3a267df12ef",
   "metadata": {},
   "outputs": [
    {
     "name": "stdout",
     "output_type": "stream",
     "text": [
      "My Test ID: 10\n",
      "My Test ID: 1\n",
      "My Test ID: 3\n"
     ]
    }
   ],
   "source": [
    "## Using List Comprehension\n",
    "\n",
    "all_threads = [threading.Thread(target=test, args=(x,)) for x in [10,1,3]]\n",
    "\n",
    "for single_thread in all_threads:\n",
    "    single_thread.start()"
   ]
  },
  {
   "cell_type": "code",
   "execution_count": null,
   "id": "17f060b3-795d-4533-a850-fcf7527fc6c5",
   "metadata": {},
   "outputs": [],
   "source": []
  },
  {
   "cell_type": "code",
   "execution_count": 62,
   "id": "1286034f-2c9e-4740-8b15-110047cd9014",
   "metadata": {},
   "outputs": [],
   "source": [
    "import urllib.request\n",
    "\n",
    "def download_from_url(url, file_path):\n",
    "    urllib.request.urlretrieve(url, file_path)\n",
    "    "
   ]
  },
  {
   "cell_type": "code",
   "execution_count": 67,
   "id": "da36129a-b32c-420d-ba54-e377ae578a4e",
   "metadata": {},
   "outputs": [],
   "source": [
    "url_list = ['https://raw.githubusercontent.com/itsfoss/text-files/master/agatha.txt' , 'https://raw.githubusercontent.com/itsfoss/text-files/master/sherlock.txt' ,'https://raw.githubusercontent.com/itsfoss/text-files/master/sample_log_file.txt' ]\n",
    "file_path_list = [\"test1.txt\", \"test2.txt\", \"test3.txt\"]\n",
    "\n",
    "all_threads = [threading.Thread(target=download_from_url, args=(url_list[i],file_path_list[i])) for i in range(len(url_list))]\n",
    "\n",
    "for single_thread in all_threads:\n",
    "    single_thread.start()"
   ]
  },
  {
   "cell_type": "code",
   "execution_count": null,
   "id": "15b0e5fa-c580-4227-b520-2cc3d49c1f3d",
   "metadata": {},
   "outputs": [],
   "source": []
  },
  {
   "cell_type": "code",
   "execution_count": 75,
   "id": "c1da14fe-77a5-45b1-92ee-639862dfb8cb",
   "metadata": {},
   "outputs": [],
   "source": [
    "import time\n",
    "\n",
    "def test2(x):\n",
    "    for i in range(10):\n",
    "        print(\"My Input is %d and Index is %d\\n\" %(x,i))\n",
    "        time.sleep(0.5)"
   ]
  },
  {
   "cell_type": "code",
   "execution_count": 76,
   "id": "0e0f82b9-9ab7-480b-9c4d-b5bec59125fc",
   "metadata": {},
   "outputs": [
    {
     "name": "stdout",
     "output_type": "stream",
     "text": [
      "My Input is 20 and Index is 0\n",
      "\n",
      "My Input is 30 and Index is 0\n",
      "\n",
      "My Input is 40 and Index is 0\n",
      "\n",
      "My Input is 50 and Index is 0\n",
      "\n",
      "My Input is 20 and Index is 1\n",
      "My Input is 50 and Index is 1\n",
      "\n",
      "My Input is 40 and Index is 1\n",
      "\n",
      "My Input is 30 and Index is 1\n",
      "\n",
      "\n",
      "My Input is 40 and Index is 2\n",
      "My Input is 20 and Index is 2\n",
      "\n",
      "My Input is 50 and Index is 2\n",
      "\n",
      "My Input is 30 and Index is 2\n",
      "\n",
      "\n",
      "My Input is 30 and Index is 3\n",
      "My Input is 20 and Index is 3\n",
      "\n",
      "My Input is 40 and Index is 3\n",
      "\n",
      "My Input is 50 and Index is 3\n",
      "\n",
      "\n",
      "My Input is 50 and Index is 4\n",
      "My Input is 30 and Index is 4\n",
      "\n",
      "My Input is 40 and Index is 4\n",
      "\n",
      "My Input is 20 and Index is 4\n",
      "\n",
      "\n",
      "My Input is 40 and Index is 5\n",
      "My Input is 20 and Index is 5\n",
      "\n",
      "My Input is 50 and Index is 5\n",
      "\n",
      "My Input is 30 and Index is 5\n",
      "\n",
      "\n",
      "My Input is 40 and Index is 6\n",
      "My Input is 30 and Index is 6\n",
      "\n",
      "My Input is 50 and Index is 6\n",
      "\n",
      "My Input is 20 and Index is 6\n",
      "\n",
      "\n",
      "My Input is 40 and Index is 7\n",
      "My Input is 20 and Index is 7\n",
      "\n",
      "My Input is 50 and Index is 7\n",
      "\n",
      "My Input is 30 and Index is 7\n",
      "\n",
      "\n",
      "My Input is 40 and Index is 8\n",
      "My Input is 30 and Index is 8\n",
      "\n",
      "My Input is 50 and Index is 8\n",
      "\n",
      "My Input is 20 and Index is 8\n",
      "\n",
      "\n",
      "My Input is 40 and Index is 9\n",
      "My Input is 20 and Index is 9\n",
      "\n",
      "My Input is 50 and Index is 9\n",
      "\n",
      "My Input is 30 and Index is 9\n",
      "\n",
      "\n"
     ]
    }
   ],
   "source": [
    "all_threads = [threading.Thread(target=test2, args=(x,)) for x in [20,30,40,50]]\n",
    "\n",
    "for single_thread in all_threads:\n",
    "    single_thread.start()"
   ]
  },
  {
   "cell_type": "markdown",
   "id": "d45cddf9-8111-4617-a7f9-bc3082ee8ca6",
   "metadata": {},
   "source": [
    "#### Share Resources"
   ]
  },
  {
   "cell_type": "code",
   "execution_count": 83,
   "id": "1f928542-e749-44e2-8680-55510c873011",
   "metadata": {},
   "outputs": [],
   "source": [
    "shared_variable = 0\n",
    "lock_var = threading.Lock()\n",
    "\n",
    "def test03(x):\n",
    "    global shared_variable\n",
    "    with lock_var:\n",
    "        shared_variable+=x\n",
    "        print (f\"Local Value : {x}, Shared Variable : {shared_variable}\")\n",
    "        time.sleep(0.5)\n",
    "    "
   ]
  },
  {
   "cell_type": "code",
   "execution_count": 84,
   "id": "ed65dc0c-c93c-40f8-a878-e549cb864639",
   "metadata": {},
   "outputs": [
    {
     "name": "stdout",
     "output_type": "stream",
     "text": [
      "Local Value : 10, Shared Variable : 10\n"
     ]
    }
   ],
   "source": [
    "test03(10)"
   ]
  },
  {
   "cell_type": "code",
   "execution_count": 79,
   "id": "278f4195-f234-4fab-a02a-4cf372047c14",
   "metadata": {},
   "outputs": [
    {
     "name": "stdout",
     "output_type": "stream",
     "text": [
      "Local Value : 5, Shared Variable : 15\n"
     ]
    }
   ],
   "source": [
    "test03(5)"
   ]
  },
  {
   "cell_type": "code",
   "execution_count": 85,
   "id": "4229fc9b-11ad-4ab8-bf20-71939359e8ac",
   "metadata": {},
   "outputs": [
    {
     "name": "stdout",
     "output_type": "stream",
     "text": [
      "Local Value : 10, Shared Variable : 20\n",
      "Local Value : 5, Shared Variable : 25\n",
      "Local Value : 20, Shared Variable : 45\n"
     ]
    }
   ],
   "source": [
    "all_threads = [threading.Thread(target=test03, args=(x,)) for x in [10, 5, 20]]\n",
    "\n",
    "for single_thread in all_threads:\n",
    "    single_thread.start()"
   ]
  },
  {
   "cell_type": "code",
   "execution_count": null,
   "id": "7b5b7667-2973-44a1-8e3d-290964d508f4",
   "metadata": {},
   "outputs": [],
   "source": []
  }
 ],
 "metadata": {
  "kernelspec": {
   "display_name": "Python 3 (ipykernel)",
   "language": "python",
   "name": "python3"
  },
  "language_info": {
   "codemirror_mode": {
    "name": "ipython",
    "version": 3
   },
   "file_extension": ".py",
   "mimetype": "text/x-python",
   "name": "python",
   "nbconvert_exporter": "python",
   "pygments_lexer": "ipython3",
   "version": "3.10.6"
  }
 },
 "nbformat": 4,
 "nbformat_minor": 5
}
