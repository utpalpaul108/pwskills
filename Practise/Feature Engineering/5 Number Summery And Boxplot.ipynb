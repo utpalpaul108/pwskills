{
 "cells": [
  {
   "cell_type": "markdown",
   "id": "65afa9dc-0d3a-468d-9efe-7889fdc4c5cf",
   "metadata": {},
   "source": [
    "## 5 Numbers Summery and Boxplot"
   ]
  },
  {
   "cell_type": "code",
   "execution_count": 2,
   "id": "690e6913-dfbb-466a-a19b-5cdd08498b24",
   "metadata": {
    "tags": []
   },
   "outputs": [],
   "source": [
    "import numpy as np"
   ]
  },
  {
   "cell_type": "code",
   "execution_count": 3,
   "id": "5815d58e-47a2-4e93-a68f-9f4963b387c4",
   "metadata": {
    "tags": []
   },
   "outputs": [],
   "source": [
    "list_of_numbers = [-13, -12, -5, -6, 3, 4, 5, 6, 7, 7, 8, 10, 10, 11, 55]\n",
    "minimum,Q1,median,Q3,maximum = np.quantile(list_of_numbers, [0,0.25,0.50,0.75,1.0])"
   ]
  },
  {
   "cell_type": "code",
   "execution_count": 6,
   "id": "b3809cb6-1af6-4ec5-8a0c-7c6a986614de",
   "metadata": {
    "tags": []
   },
   "outputs": [
    {
     "data": {
      "text/plain": [
       "(-13.0, -1.0, 6.0, 9.0, 55.0)"
      ]
     },
     "execution_count": 6,
     "metadata": {},
     "output_type": "execute_result"
    }
   ],
   "source": [
    "minimum,Q1,median,Q3,maximum"
   ]
  },
  {
   "cell_type": "code",
   "execution_count": 8,
   "id": "0a42928a-e91f-4fc5-a187-b60c7c0fabbe",
   "metadata": {
    "tags": []
   },
   "outputs": [
    {
     "data": {
      "text/plain": [
       "10.0"
      ]
     },
     "execution_count": 8,
     "metadata": {},
     "output_type": "execute_result"
    }
   ],
   "source": [
    "IQR = Q3-Q1\n",
    "IQR"
   ]
  },
  {
   "cell_type": "code",
   "execution_count": 9,
   "id": "6aeda879-5e66-4727-8dd8-0fea50e74f7c",
   "metadata": {
    "tags": []
   },
   "outputs": [
    {
     "data": {
      "text/plain": [
       "-16.0"
      ]
     },
     "execution_count": 9,
     "metadata": {},
     "output_type": "execute_result"
    }
   ],
   "source": [
    "lower_fence= Q1-1.5*IQR\n",
    "lower_fence"
   ]
  },
  {
   "cell_type": "code",
   "execution_count": 10,
   "id": "d972f542-038b-4f10-8257-cbffa915c7fe",
   "metadata": {
    "tags": []
   },
   "outputs": [
    {
     "data": {
      "text/plain": [
       "24.0"
      ]
     },
     "execution_count": 10,
     "metadata": {},
     "output_type": "execute_result"
    }
   ],
   "source": [
    "higher_fence= Q3+1.5*IQR\n",
    "higher_fence"
   ]
  },
  {
   "cell_type": "code",
   "execution_count": 11,
   "id": "d8b285ab-c48e-4278-b1ab-84ef55b1ec6c",
   "metadata": {
    "tags": []
   },
   "outputs": [
    {
     "data": {
      "text/plain": [
       "<Axes: >"
      ]
     },
     "execution_count": 11,
     "metadata": {},
     "output_type": "execute_result"
    },
    {
     "data": {
      "image/png": "[encoded data removed]",
      "text/plain": [
       "<Figure size 640x480 with 1 Axes>"
      ]
     },
     "metadata": {},
     "output_type": "display_data"
    }
   ],
   "source": [
    "import seaborn as sns\n",
    "sns.boxplot(list_of_numbers)"
   ]
  },
  {
   "cell_type": "code",
   "execution_count": null,
   "id": "7494d167-561d-4f47-8cad-a803d924ea78",
   "metadata": {},
   "outputs": [],
   "source": []
  }
 ],
 "metadata": {
  "kernelspec": {
   "display_name": "Python 3 (ipykernel)",
   "language": "python",
   "name": "python3"
  },
  "language_info": {
   "codemirror_mode": {
    "name": "ipython",
    "version": 3
   },
   "file_extension": ".py",
   "mimetype": "text/x-python",
   "name": "python",
   "nbconvert_exporter": "python",
   "pygments_lexer": "ipython3",
   "version": "3.10.6"
  }
 },
 "nbformat": 4,
 "nbformat_minor": 5
}
