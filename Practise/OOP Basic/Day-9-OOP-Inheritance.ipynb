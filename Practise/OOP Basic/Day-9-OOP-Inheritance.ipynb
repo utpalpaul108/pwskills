{
 "cells": [
  {
   "cell_type": "markdown",
   "id": "2757a8e0-03e8-4d18-9b3e-b325230a4b68",
   "metadata": {},
   "source": [
    "## Inheritance"
   ]
  },
  {
   "cell_type": "code",
   "execution_count": 5,
   "id": "658db469-7bf2-4952-9b75-d56facc188c6",
   "metadata": {},
   "outputs": [],
   "source": [
    "class parent:\n",
    "    def welcome(self):\n",
    "        return \"Welcome to OOP\"\n",
    "\n",
    "class child(parent):\n",
    "    pass"
   ]
  },
  {
   "cell_type": "code",
   "execution_count": 6,
   "id": "0a7bba53-1188-406c-965b-0d68a5b1a3fd",
   "metadata": {},
   "outputs": [
    {
     "data": {
      "text/plain": [
       "'Welcome to OOP'"
      ]
     },
     "execution_count": 6,
     "metadata": {},
     "output_type": "execute_result"
    }
   ],
   "source": [
    "myObj = child()\n",
    "myObj.welcome()"
   ]
  },
  {
   "cell_type": "code",
   "execution_count": null,
   "id": "f81494bd-3e23-45cb-8f7e-52a51e00b7bf",
   "metadata": {},
   "outputs": [],
   "source": []
  },
  {
   "cell_type": "code",
   "execution_count": 7,
   "id": "e3542084-538f-4038-9a03-1ccd26815fa2",
   "metadata": {},
   "outputs": [],
   "source": [
    "class class1:\n",
    "    def test_class1(self):\n",
    "        return \"From class 01\""
   ]
  },
  {
   "cell_type": "code",
   "execution_count": 11,
   "id": "e56eda3e-7a0a-44f7-b19d-f827547edf54",
   "metadata": {},
   "outputs": [],
   "source": [
    "class class2(class1):\n",
    "    def test_class2(self):\n",
    "        return \"From class 02\""
   ]
  },
  {
   "cell_type": "code",
   "execution_count": 12,
   "id": "d8e9c24e-1ce2-4a36-9a36-51f44b0383e8",
   "metadata": {},
   "outputs": [],
   "source": [
    "class class3(class2):\n",
    "    def test_class3(self):\n",
    "        return \"From class 03\""
   ]
  },
  {
   "cell_type": "code",
   "execution_count": 13,
   "id": "c36f1d69-1aba-4563-b8e2-331a1f20d001",
   "metadata": {},
   "outputs": [],
   "source": [
    "obj_class3 = class3()"
   ]
  },
  {
   "cell_type": "code",
   "execution_count": 14,
   "id": "a8f995bc-6260-456c-8173-8ca6ae7498d2",
   "metadata": {},
   "outputs": [
    {
     "data": {
      "text/plain": [
       "'From class 01'"
      ]
     },
     "execution_count": 14,
     "metadata": {},
     "output_type": "execute_result"
    }
   ],
   "source": [
    "obj_class3.test_class1()"
   ]
  },
  {
   "cell_type": "code",
   "execution_count": 15,
   "id": "f726362a-32b0-4e5f-8e2b-2be6748bcf10",
   "metadata": {},
   "outputs": [
    {
     "data": {
      "text/plain": [
       "'From class 02'"
      ]
     },
     "execution_count": 15,
     "metadata": {},
     "output_type": "execute_result"
    }
   ],
   "source": [
    "obj_class3.test_class2()"
   ]
  },
  {
   "cell_type": "code",
   "execution_count": 16,
   "id": "17262869-d4be-4f54-97b6-bb7ce0e508ba",
   "metadata": {},
   "outputs": [
    {
     "data": {
      "text/plain": [
       "'From class 03'"
      ]
     },
     "execution_count": 16,
     "metadata": {},
     "output_type": "execute_result"
    }
   ],
   "source": [
    "obj_class3.test_class3()"
   ]
  },
  {
   "cell_type": "code",
   "execution_count": null,
   "id": "e70976fc-016a-47c1-88c1-07db3a71abf0",
   "metadata": {},
   "outputs": [],
   "source": []
  },
  {
   "cell_type": "code",
   "execution_count": 25,
   "id": "c7d68444-c2da-4686-b0c3-8ccabf9cfec0",
   "metadata": {},
   "outputs": [],
   "source": [
    "class class1:\n",
    "    def test_class1(self):\n",
    "        return \"From class 01\"\n",
    "    \n",
    "    def test_duplicate(self, name):\n",
    "        return f\"From class 01 : {name}\""
   ]
  },
  {
   "cell_type": "code",
   "execution_count": 34,
   "id": "69aeb72f-d735-410a-8d36-4807d6bc6292",
   "metadata": {},
   "outputs": [],
   "source": [
    "class class2:\n",
    "    def test_class2(self):\n",
    "        return \"From class 02\"\n",
    "    \n",
    "    def test_duplicate(self):\n",
    "        return \"From class 02\""
   ]
  },
  {
   "cell_type": "code",
   "execution_count": 35,
   "id": "a7ef9ce8-e520-4b83-bad4-3728e5053a18",
   "metadata": {},
   "outputs": [],
   "source": [
    "class class3(class1, class2):\n",
    "    pass"
   ]
  },
  {
   "cell_type": "code",
   "execution_count": 36,
   "id": "a2caf144-bffe-4f62-a52c-1d78ae780044",
   "metadata": {},
   "outputs": [],
   "source": [
    "class3_obj = class3()"
   ]
  },
  {
   "cell_type": "code",
   "execution_count": 37,
   "id": "1f5d3e24-8de6-4b55-bf11-baaedb8aa4a3",
   "metadata": {},
   "outputs": [
    {
     "data": {
      "text/plain": [
       "'From class 01'"
      ]
     },
     "execution_count": 37,
     "metadata": {},
     "output_type": "execute_result"
    }
   ],
   "source": [
    "class3_obj.test_class1()"
   ]
  },
  {
   "cell_type": "code",
   "execution_count": 38,
   "id": "5d807434-26df-4040-a568-8a4985526318",
   "metadata": {},
   "outputs": [
    {
     "data": {
      "text/plain": [
       "'From class 02'"
      ]
     },
     "execution_count": 38,
     "metadata": {},
     "output_type": "execute_result"
    }
   ],
   "source": [
    "class3_obj.test_class2()"
   ]
  },
  {
   "cell_type": "code",
   "execution_count": 41,
   "id": "fa13f945-17ec-4c9e-8cc0-a418cac79e26",
   "metadata": {},
   "outputs": [
    {
     "data": {
      "text/plain": [
       "'From class 01 : Utpal'"
      ]
     },
     "execution_count": 41,
     "metadata": {},
     "output_type": "execute_result"
    }
   ],
   "source": [
    "class3_obj.test_duplicate(\"Utpal\")"
   ]
  },
  {
   "cell_type": "code",
   "execution_count": null,
   "id": "2b611c14-dd83-4843-908f-a8f4763a5e81",
   "metadata": {},
   "outputs": [],
   "source": []
  }
 ],
 "metadata": {
  "kernelspec": {
   "display_name": "Python 3 (ipykernel)",
   "language": "python",
   "name": "python3"
  },
  "language_info": {
   "codemirror_mode": {
    "name": "ipython",
    "version": 3
   },
   "file_extension": ".py",
   "mimetype": "text/x-python",
   "name": "python",
   "nbconvert_exporter": "python",
   "pygments_lexer": "ipython3",
   "version": "3.10.9"
  }
 },
 "nbformat": 4,
 "nbformat_minor": 5
}
