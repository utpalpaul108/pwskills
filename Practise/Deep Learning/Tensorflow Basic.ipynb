{
 "cells": [
  {
   "cell_type": "markdown",
   "id": "cc194d4d-1445-4719-abca-e4e10054ec92",
   "metadata": {},
   "source": [
    "## Tensorflow Basic"
   ]
  },
  {
   "cell_type": "code",
   "execution_count": 1,
   "id": "03dfdb53-7c84-4621-8d2e-5ddf5469cb56",
   "metadata": {
    "collapsed": true,
    "jupyter": {
     "outputs_hidden": true
    },
    "tags": []
   },
   "outputs": [
    {
     "name": "stdout",
     "output_type": "stream",
     "text": [
      "Defaulting to user installation because normal site-packages is not writeable\n",
      "Requirement already satisfied: tensorflow in /home/utpal/.local/lib/python3.10/site-packages (2.12.0)\n",
      "Requirement already satisfied: astunparse>=1.6.0 in /home/utpal/.local/lib/python3.10/site-packages (from tensorflow) (1.6.3)\n",
      "Requirement already satisfied: tensorflow-estimator<2.13,>=2.12.0 in /home/utpal/.local/lib/python3.10/site-packages (from tensorflow) (2.12.0)\n",
      "Requirement already satisfied: h5py>=2.9.0 in /home/utpal/.local/lib/python3.10/site-packages (from tensorflow) (3.8.0)\n",
      "Requirement already satisfied: keras<2.13,>=2.12.0 in /home/utpal/.local/lib/python3.10/site-packages (from tensorflow) (2.12.0)\n",
      "Requirement already satisfied: grpcio<2.0,>=1.24.3 in /home/utpal/.local/lib/python3.10/site-packages (from tensorflow) (1.51.3)\n",
      "Requirement already satisfied: numpy<1.24,>=1.22 in /home/utpal/.local/lib/python3.10/site-packages (from tensorflow) (1.22.4)\n",
      "Requirement already satisfied: opt-einsum>=2.3.2 in /home/utpal/.local/lib/python3.10/site-packages (from tensorflow) (3.3.0)\n",
      "Requirement already satisfied: absl-py>=1.0.0 in /home/utpal/.local/lib/python3.10/site-packages (from tensorflow) (1.0.0)\n",
      "Requirement already satisfied: protobuf!=4.21.0,!=4.21.1,!=4.21.2,!=4.21.3,!=4.21.4,!=4.21.5,<5.0.0dev,>=3.20.3 in /home/utpal/.local/lib/python3.10/site-packages (from tensorflow) (3.20.3)\n",
      "Requirement already satisfied: gast<=0.4.0,>=0.2.1 in /home/utpal/.local/lib/python3.10/site-packages (from tensorflow) (0.4.0)\n",
      "Requirement already satisfied: typing-extensions>=3.6.6 in /home/utpal/.local/lib/python3.10/site-packages (from tensorflow) (4.4.0)\n",
      "Requirement already satisfied: jax>=0.3.15 in /home/utpal/.local/lib/python3.10/site-packages (from tensorflow) (0.3.15)\n",
      "Requirement already satisfied: google-pasta>=0.1.1 in /home/utpal/.local/lib/python3.10/site-packages (from tensorflow) (0.2.0)\n",
      "Collecting tensorboard<2.13,>=2.12\n",
      "  Downloading tensorboard-2.12.3-py3-none-any.whl (5.6 MB)\n",
      "\u001b[2K     \u001b[38;2;114;156;31m━━━━━━━━━━━━━━━━━━━━━━━━━━━━━━━━━━━━━━━━\u001b[0m \u001b[32m5.6/5.6 MB\u001b[0m \u001b[31m1.5 MB/s\u001b[0m eta \u001b[36m0:00:00\u001b[0mm eta \u001b[36m0:00:01\u001b[0m0:01\u001b[0m:01\u001b[0m\n",
      "\u001b[?25hRequirement already satisfied: wrapt<1.15,>=1.11.0 in /home/utpal/.local/lib/python3.10/site-packages (from tensorflow) (1.14.1)\n",
      "Requirement already satisfied: packaging in /home/utpal/.local/lib/python3.10/site-packages (from tensorflow) (22.0)\n",
      "Requirement already satisfied: termcolor>=1.1.0 in /home/utpal/.local/lib/python3.10/site-packages (from tensorflow) (2.2.0)\n",
      "Requirement already satisfied: libclang>=13.0.0 in /home/utpal/.local/lib/python3.10/site-packages (from tensorflow) (15.0.6.1)\n",
      "Requirement already satisfied: flatbuffers>=2.0 in /home/utpal/.local/lib/python3.10/site-packages (from tensorflow) (2.0.7)\n",
      "Requirement already satisfied: six>=1.12.0 in /usr/lib/python3/dist-packages (from tensorflow) (1.16.0)\n",
      "Requirement already satisfied: setuptools in /usr/lib/python3/dist-packages (from tensorflow) (59.6.0)\n",
      "Requirement already satisfied: tensorflow-io-gcs-filesystem>=0.23.1 in /home/utpal/.local/lib/python3.10/site-packages (from tensorflow) (0.31.0)\n",
      "Requirement already satisfied: wheel<1.0,>=0.23.0 in /usr/lib/python3/dist-packages (from astunparse>=1.6.0->tensorflow) (0.37.1)\n",
      "Requirement already satisfied: scipy>=1.5 in /home/utpal/.local/lib/python3.10/site-packages (from jax>=0.3.15->tensorflow) (1.10.1)\n",
      "Requirement already satisfied: etils[epath] in /home/utpal/.local/lib/python3.10/site-packages (from jax>=0.3.15->tensorflow) (1.1.0)\n",
      "Requirement already satisfied: markdown>=2.6.8 in /home/utpal/.local/lib/python3.10/site-packages (from tensorboard<2.13,>=2.12->tensorflow) (3.4.1)\n",
      "Requirement already satisfied: werkzeug>=1.0.1 in /home/utpal/.local/lib/python3.10/site-packages (from tensorboard<2.13,>=2.12->tensorflow) (2.3.3)\n",
      "Requirement already satisfied: requests<3,>=2.21.0 in /home/utpal/.local/lib/python3.10/site-packages (from tensorboard<2.13,>=2.12->tensorflow) (2.28.2)\n",
      "Requirement already satisfied: google-auth<3,>=1.6.3 in /home/utpal/.local/lib/python3.10/site-packages (from tensorboard<2.13,>=2.12->tensorflow) (2.16.2)\n",
      "Requirement already satisfied: google-auth-oauthlib<1.1,>=0.5 in /home/utpal/.local/lib/python3.10/site-packages (from tensorboard<2.13,>=2.12->tensorflow) (1.0.0)\n",
      "Requirement already satisfied: tensorboard-data-server<0.8.0,>=0.7.0 in /home/utpal/.local/lib/python3.10/site-packages (from tensorboard<2.13,>=2.12->tensorflow) (0.7.0)\n",
      "Requirement already satisfied: cachetools<6.0,>=2.0.0 in /home/utpal/.local/lib/python3.10/site-packages (from google-auth<3,>=1.6.3->tensorboard<2.13,>=2.12->tensorflow) (3.1.1)\n",
      "Requirement already satisfied: pyasn1-modules>=0.2.1 in /home/utpal/.local/lib/python3.10/site-packages (from google-auth<3,>=1.6.3->tensorboard<2.13,>=2.12->tensorflow) (0.2.8)\n",
      "Requirement already satisfied: rsa<5,>=3.1.4 in /home/utpal/.local/lib/python3.10/site-packages (from google-auth<3,>=1.6.3->tensorboard<2.13,>=2.12->tensorflow) (4.9)\n",
      "Requirement already satisfied: requests-oauthlib>=0.7.0 in /home/utpal/.local/lib/python3.10/site-packages (from google-auth-oauthlib<1.1,>=0.5->tensorboard<2.13,>=2.12->tensorflow) (1.3.1)\n",
      "Requirement already satisfied: urllib3<1.27,>=1.21.1 in /usr/lib/python3/dist-packages (from requests<3,>=2.21.0->tensorboard<2.13,>=2.12->tensorflow) (1.26.5)\n",
      "Requirement already satisfied: charset-normalizer<4,>=2 in /home/utpal/.local/lib/python3.10/site-packages (from requests<3,>=2.21.0->tensorboard<2.13,>=2.12->tensorflow) (3.1.0)\n",
      "Requirement already satisfied: idna<4,>=2.5 in /usr/lib/python3/dist-packages (from requests<3,>=2.21.0->tensorboard<2.13,>=2.12->tensorflow) (3.3)\n",
      "Requirement already satisfied: certifi>=2017.4.17 in /usr/lib/python3/dist-packages (from requests<3,>=2.21.0->tensorboard<2.13,>=2.12->tensorflow) (2020.6.20)\n",
      "Requirement already satisfied: MarkupSafe>=2.1.1 in /home/utpal/.local/lib/python3.10/site-packages (from werkzeug>=1.0.1->tensorboard<2.13,>=2.12->tensorflow) (2.1.2)\n",
      "Requirement already satisfied: zipp in /usr/lib/python3/dist-packages (from etils[epath]->jax>=0.3.15->tensorflow) (1.0.0)\n",
      "Requirement already satisfied: importlib_resources in /home/utpal/.local/lib/python3.10/site-packages (from etils[epath]->jax>=0.3.15->tensorflow) (5.12.0)\n",
      "Requirement already satisfied: pyasn1<0.5.0,>=0.4.6 in /home/utpal/.local/lib/python3.10/site-packages (from pyasn1-modules>=0.2.1->google-auth<3,>=1.6.3->tensorboard<2.13,>=2.12->tensorflow) (0.4.8)\n",
      "Requirement already satisfied: oauthlib>=3.0.0 in /usr/lib/python3/dist-packages (from requests-oauthlib>=0.7.0->google-auth-oauthlib<1.1,>=0.5->tensorboard<2.13,>=2.12->tensorflow) (3.2.0)\n",
      "Installing collected packages: tensorboard\n",
      "Successfully installed tensorboard-2.12.3\n"
     ]
    }
   ],
   "source": [
    "# Install Tensorflow\n",
    "!pip install tensorflow"
   ]
  },
  {
   "cell_type": "code",
   "execution_count": 2,
   "id": "def2fc78-96e3-4585-9c3b-476a78cffb40",
   "metadata": {
    "tags": []
   },
   "outputs": [
    {
     "name": "stderr",
     "output_type": "stream",
     "text": [
      "2023-08-18 12:06:07.017766: I tensorflow/tsl/cuda/cudart_stub.cc:28] Could not find cuda drivers on your machine, GPU will not be used.\n",
      "2023-08-18 12:06:07.194728: I tensorflow/tsl/cuda/cudart_stub.cc:28] Could not find cuda drivers on your machine, GPU will not be used.\n",
      "2023-08-18 12:06:07.195583: I tensorflow/core/platform/cpu_feature_guard.cc:182] This TensorFlow binary is optimized to use available CPU instructions in performance-critical operations.\n",
      "To enable the following instructions: AVX2 FMA, in other operations, rebuild TensorFlow with the appropriate compiler flags.\n",
      "2023-08-18 12:06:08.107691: W tensorflow/compiler/tf2tensorrt/utils/py_utils.cc:38] TF-TRT Warning: Could not find TensorRT\n"
     ]
    }
   ],
   "source": [
    "import tensorflow as tf"
   ]
  },
  {
   "cell_type": "code",
   "execution_count": null,
   "id": "e804ca9c-8ad3-42e5-99cf-8ec5e349675d",
   "metadata": {},
   "outputs": [],
   "source": []
  },
  {
   "cell_type": "markdown",
   "id": "c650847e-e4bb-4113-88ab-aad0d04a4e5b",
   "metadata": {},
   "source": [
    "### GPU/CPU Check"
   ]
  },
  {
   "cell_type": "code",
   "execution_count": 28,
   "id": "a7b44e51-5efa-449b-aa45-c0defedbc0cb",
   "metadata": {
    "tags": []
   },
   "outputs": [
    {
     "data": {
      "text/plain": [
       "[]"
      ]
     },
     "execution_count": 28,
     "metadata": {},
     "output_type": "execute_result"
    }
   ],
   "source": [
    "gpu_list = tf.config.list_physical_devices('GPU')\n",
    "gpu_list"
   ]
  },
  {
   "cell_type": "code",
   "execution_count": 30,
   "id": "045915d1-4b0b-4912-8912-9a78ca3d6a7a",
   "metadata": {
    "tags": []
   },
   "outputs": [
    {
     "data": {
      "text/plain": [
       "[PhysicalDevice(name='/physical_device:CPU:0', device_type='CPU')]"
      ]
     },
     "execution_count": 30,
     "metadata": {},
     "output_type": "execute_result"
    }
   ],
   "source": [
    "cpu_list = tf.config.list_physical_devices('CPU')\n",
    "cpu_list"
   ]
  },
  {
   "cell_type": "code",
   "execution_count": null,
   "id": "2ea7705a-f53f-4acf-a972-06769466310b",
   "metadata": {},
   "outputs": [],
   "source": []
  },
  {
   "cell_type": "markdown",
   "id": "6e3c9c4e-5865-4b9e-b41c-efe8bf5c8acd",
   "metadata": {},
   "source": [
    "### Check the version"
   ]
  },
  {
   "cell_type": "code",
   "execution_count": 2,
   "id": "1de32500-7ed9-4d07-881c-9dc0aa087f5d",
   "metadata": {
    "tags": []
   },
   "outputs": [
    {
     "name": "stdout",
     "output_type": "stream",
     "text": [
      "Tensorlfow Version : 2.12.0\n",
      "Keras Version : 2.12.0\n",
      "Eager Execution Is : True\n"
     ]
    }
   ],
   "source": [
    "# Check the version\n",
    "print(f\"Tensorlfow Version : {tf.__version__}\")\n",
    "print(f\"Keras Version : {tf.keras.__version__}\")\n",
    "print(f\"Eager Execution Is : {tf.executing_eagerly()}\")"
   ]
  },
  {
   "cell_type": "code",
   "execution_count": null,
   "id": "0e7519c0-0661-4ac5-803c-a0b6e7f04786",
   "metadata": {},
   "outputs": [],
   "source": []
  },
  {
   "cell_type": "markdown",
   "id": "06828066-abdc-4384-aa58-e89398e0708a",
   "metadata": {},
   "source": [
    "### Tensorflow Constant "
   ]
  },
  {
   "cell_type": "code",
   "execution_count": 3,
   "id": "0a96015d-10ff-4592-82c2-042f6cfa612a",
   "metadata": {
    "tags": []
   },
   "outputs": [
    {
     "data": {
      "text/plain": [
       "(<tf.Tensor: shape=(), dtype=int32, numpy=1>,\n",
       " <tf.Tensor: shape=(2, 2), dtype=float32, numpy=\n",
       " array([[1., 2.],\n",
       "        [3., 4.]], dtype=float32)>)"
      ]
     },
     "execution_count": 3,
     "metadata": {},
     "output_type": "execute_result"
    }
   ],
   "source": [
    "# Tensorflow Constant contains three parameters : data, dtype and shape\n",
    "x = tf.constant(1)\n",
    "y = tf.constant([1,2,3,4], dtype=tf.float32, shape=[2,2])\n",
    "x,y"
   ]
  },
  {
   "cell_type": "code",
   "execution_count": 13,
   "id": "ebfbc05a-9fc2-4822-a65f-1e6227603350",
   "metadata": {
    "tags": []
   },
   "outputs": [
    {
     "data": {
      "text/plain": [
       "TensorShape([2, 2])"
      ]
     },
     "execution_count": 13,
     "metadata": {},
     "output_type": "execute_result"
    }
   ],
   "source": [
    "y.shape"
   ]
  },
  {
   "cell_type": "code",
   "execution_count": 14,
   "id": "49e3aeeb-95d0-443c-b90c-6ef802f4575c",
   "metadata": {
    "tags": []
   },
   "outputs": [
    {
     "data": {
      "text/plain": [
       "tf.float32"
      ]
     },
     "execution_count": 14,
     "metadata": {},
     "output_type": "execute_result"
    }
   ],
   "source": [
    "y.dtype"
   ]
  },
  {
   "cell_type": "code",
   "execution_count": 15,
   "id": "53a6caed-c83a-4d59-b383-5d3b059696b4",
   "metadata": {
    "tags": []
   },
   "outputs": [
    {
     "data": {
      "text/plain": [
       "array([[1., 2.],\n",
       "       [3., 4.]], dtype=float32)"
      ]
     },
     "execution_count": 15,
     "metadata": {},
     "output_type": "execute_result"
    }
   ],
   "source": [
    "y.numpy()"
   ]
  },
  {
   "cell_type": "code",
   "execution_count": 5,
   "id": "f0850d9b-d4cd-4bf0-82f1-1242666d408d",
   "metadata": {},
   "outputs": [
    {
     "data": {
      "text/plain": [
       "numpy.ndarray"
      ]
     },
     "execution_count": 5,
     "metadata": {},
     "output_type": "execute_result"
    }
   ],
   "source": [
    "type(y.numpy())"
   ]
  },
  {
   "cell_type": "code",
   "execution_count": null,
   "id": "a21eefe1-e815-497f-b993-234a381718d7",
   "metadata": {},
   "outputs": [],
   "source": []
  },
  {
   "cell_type": "markdown",
   "id": "dd101088-cea9-4f5e-9959-10d3bd2a5ed8",
   "metadata": {},
   "source": [
    "### Random Constant"
   ]
  },
  {
   "cell_type": "code",
   "execution_count": 45,
   "id": "b32017d7-c8ef-49f0-9386-ff7146d746e6",
   "metadata": {
    "tags": []
   },
   "outputs": [
    {
     "data": {
      "text/plain": [
       "<tf.Tensor: shape=(10, 1), dtype=float32, numpy=\n",
       "array([[ 0.06604511],\n",
       "       [ 0.4542782 ],\n",
       "       [-0.14563298],\n",
       "       [ 1.1440861 ],\n",
       "       [ 0.29841045],\n",
       "       [-0.21712814],\n",
       "       [-0.7914236 ],\n",
       "       [-0.76791537],\n",
       "       [-1.8703556 ],\n",
       "       [-0.47358176]], dtype=float32)>"
      ]
     },
     "execution_count": 45,
     "metadata": {},
     "output_type": "execute_result"
    }
   ],
   "source": [
    "# Normal Distribution\n",
    "x_rand = tf.random.normal(shape=(10,1), mean=0, stddev=1)\n",
    "x_rand"
   ]
  },
  {
   "cell_type": "code",
   "execution_count": 44,
   "id": "23ce4b94-dd78-4d0f-8057-0e74e6b178a9",
   "metadata": {
    "tags": []
   },
   "outputs": [
    {
     "data": {
      "text/plain": [
       "array([[-0.5818397 ],\n",
       "       [-1.7558296 ],\n",
       "       [ 0.47948423],\n",
       "       [-0.33096197],\n",
       "       [-1.4122254 ],\n",
       "       [-0.34713823],\n",
       "       [ 0.04052497],\n",
       "       [ 0.67595303],\n",
       "       [-0.4493795 ],\n",
       "       [ 0.05804604]], dtype=float32)"
      ]
     },
     "execution_count": 44,
     "metadata": {},
     "output_type": "execute_result"
    }
   ],
   "source": [
    "x_rand.numpy()"
   ]
  },
  {
   "cell_type": "code",
   "execution_count": 10,
   "id": "423d8b1b-88fc-43df-bd59-c4952236269c",
   "metadata": {},
   "outputs": [
    {
     "data": {
      "text/plain": [
       "<tf.Tensor: shape=(2, 2), dtype=float32, numpy=\n",
       "array([[0., 0.],\n",
       "       [0., 0.]], dtype=float32)>"
      ]
     },
     "execution_count": 10,
     "metadata": {},
     "output_type": "execute_result"
    }
   ],
   "source": [
    "tf.zeros(shape=(2,2))"
   ]
  },
  {
   "cell_type": "code",
   "execution_count": 48,
   "id": "9e4e2155-4823-4411-86b0-361204f660aa",
   "metadata": {
    "tags": []
   },
   "outputs": [
    {
     "data": {
      "text/plain": [
       "<tf.Tensor: shape=(10,), dtype=float32, numpy=\n",
       "array([46.45287  , 51.489567 , 84.41675  , 52.806377 ,  5.9336066,\n",
       "       76.44321  , 58.18106  , 90.87975  , 42.225204 , 44.46894  ],\n",
       "      dtype=float32)>"
      ]
     },
     "execution_count": 48,
     "metadata": {},
     "output_type": "execute_result"
    }
   ],
   "source": [
    "# Uniform Distribution\n",
    "x_rand = tf.random.uniform(shape=[10], minval=0, maxval=100)\n",
    "x_rand"
   ]
  },
  {
   "cell_type": "code",
   "execution_count": 49,
   "id": "37119412-fc92-48f8-9a10-73106cd8d07e",
   "metadata": {
    "tags": []
   },
   "outputs": [
    {
     "data": {
      "text/plain": [
       "array([46.45287  , 51.489567 , 84.41675  , 52.806377 ,  5.9336066,\n",
       "       76.44321  , 58.18106  , 90.87975  , 42.225204 , 44.46894  ],\n",
       "      dtype=float32)"
      ]
     },
     "execution_count": 49,
     "metadata": {},
     "output_type": "execute_result"
    }
   ],
   "source": [
    "x_rand.numpy()"
   ]
  },
  {
   "cell_type": "code",
   "execution_count": null,
   "id": "1a918cba-4b76-4a3d-b82d-bab227317281",
   "metadata": {},
   "outputs": [],
   "source": []
  },
  {
   "cell_type": "markdown",
   "id": "40348793-493d-4712-8cbe-deae9e39156e",
   "metadata": {},
   "source": [
    "### Tensorflow Methods"
   ]
  },
  {
   "cell_type": "code",
   "execution_count": 27,
   "id": "fc7a0d31-2faf-4c98-b38a-d6b8106f3d56",
   "metadata": {
    "tags": []
   },
   "outputs": [
    {
     "data": {
      "text/plain": [
       "<tf.Tensor: shape=(2, 3), dtype=int32, numpy=\n",
       "array([[0, 0, 0],\n",
       "       [0, 0, 0]], dtype=int32)>"
      ]
     },
     "execution_count": 27,
     "metadata": {},
     "output_type": "execute_result"
    }
   ],
   "source": [
    "x = tf.zeros(shape=(2,3), dtype=tf.int32)\n",
    "x"
   ]
  },
  {
   "cell_type": "code",
   "execution_count": 29,
   "id": "1e5d0013-adb1-4ec4-92ef-326c35ceca31",
   "metadata": {
    "tags": []
   },
   "outputs": [
    {
     "data": {
      "text/plain": [
       "array([[0, 0, 0],\n",
       "       [0, 0, 0]], dtype=int32)"
      ]
     },
     "execution_count": 29,
     "metadata": {},
     "output_type": "execute_result"
    }
   ],
   "source": [
    "x.numpy()"
   ]
  },
  {
   "cell_type": "code",
   "execution_count": null,
   "id": "e412b852-554e-4dfb-b00e-7cb55f98189e",
   "metadata": {},
   "outputs": [],
   "source": []
  },
  {
   "cell_type": "code",
   "execution_count": 12,
   "id": "0c1ed3f5-b5b9-4bbf-ad59-dd69041d9846",
   "metadata": {
    "tags": []
   },
   "outputs": [
    {
     "data": {
      "text/plain": [
       "<tf.Tensor: shape=(2, 3), dtype=int32, numpy=\n",
       "array([[1, 1, 1],\n",
       "       [1, 1, 1]], dtype=int32)>"
      ]
     },
     "execution_count": 12,
     "metadata": {},
     "output_type": "execute_result"
    }
   ],
   "source": [
    "x = tf.ones(shape=(2,3), dtype=tf.int32)\n",
    "x"
   ]
  },
  {
   "cell_type": "code",
   "execution_count": 22,
   "id": "e69aca15-9c17-49ba-89f1-f2cdc4ad7cee",
   "metadata": {
    "tags": []
   },
   "outputs": [
    {
     "data": {
      "text/plain": [
       "<tf.Tensor: shape=(4, 3), dtype=int32, numpy=\n",
       "array([[10, 10, 10],\n",
       "       [10, 10, 10],\n",
       "       [10, 10, 10],\n",
       "       [10, 10, 10]], dtype=int32)>"
      ]
     },
     "execution_count": 22,
     "metadata": {},
     "output_type": "execute_result"
    }
   ],
   "source": [
    "x = tf.fill([4,3], 10)\n",
    "x"
   ]
  },
  {
   "cell_type": "code",
   "execution_count": 33,
   "id": "62a8185c-cfc6-4fb8-9ee2-001d817361df",
   "metadata": {
    "tags": []
   },
   "outputs": [
    {
     "data": {
      "text/plain": [
       "array([[1., 1., 1.],\n",
       "       [1., 1., 1.]], dtype=float32)"
      ]
     },
     "execution_count": 33,
     "metadata": {},
     "output_type": "execute_result"
    }
   ],
   "source": [
    "x.numpy()"
   ]
  },
  {
   "cell_type": "code",
   "execution_count": 34,
   "id": "8d12ccd5-8873-4ff5-8318-7fdaa3aafa64",
   "metadata": {
    "tags": []
   },
   "outputs": [
    {
     "data": {
      "text/plain": [
       "5"
      ]
     },
     "execution_count": 34,
     "metadata": {},
     "output_type": "execute_result"
    }
   ],
   "source": [
    "y"
   ]
  },
  {
   "cell_type": "code",
   "execution_count": 36,
   "id": "aef9d167-c035-403c-9d63-73e0e06d030b",
   "metadata": {
    "tags": []
   },
   "outputs": [
    {
     "data": {
      "text/plain": [
       "<tf.Tensor: shape=(2, 3), dtype=float32, numpy=\n",
       "array([[6., 6., 6.],\n",
       "       [6., 6., 6.]], dtype=float32)>"
      ]
     },
     "execution_count": 36,
     "metadata": {},
     "output_type": "execute_result"
    }
   ],
   "source": [
    "z = tf.add(x,y)\n",
    "z"
   ]
  },
  {
   "cell_type": "code",
   "execution_count": 37,
   "id": "cf01b328-104c-48e4-b534-3e666a129508",
   "metadata": {
    "tags": []
   },
   "outputs": [
    {
     "data": {
      "text/plain": [
       "array([[6., 6., 6.],\n",
       "       [6., 6., 6.]], dtype=float32)"
      ]
     },
     "execution_count": 37,
     "metadata": {},
     "output_type": "execute_result"
    }
   ],
   "source": [
    "z.numpy()"
   ]
  },
  {
   "cell_type": "code",
   "execution_count": null,
   "id": "b9858eef-656c-47fa-a4d5-940a58ae53fa",
   "metadata": {},
   "outputs": [],
   "source": []
  },
  {
   "cell_type": "code",
   "execution_count": null,
   "id": "5da75bcf-c377-4101-88b3-35ebb0223eb0",
   "metadata": {},
   "outputs": [],
   "source": []
  }
 ],
 "metadata": {
  "kernelspec": {
   "display_name": "Python 3 (ipykernel)",
   "language": "python",
   "name": "python3"
  },
  "language_info": {
   "codemirror_mode": {
    "name": "ipython",
    "version": 3
   },
   "file_extension": ".py",
   "mimetype": "text/x-python",
   "name": "python",
   "nbconvert_exporter": "python",
   "pygments_lexer": "ipython3",
   "version": "3.10.12"
  }
 },
 "nbformat": 4,
 "nbformat_minor": 5
}
