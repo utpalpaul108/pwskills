{
 "cells": [
  {
   "cell_type": "markdown",
   "id": "cc194d4d-1445-4719-abca-e4e10054ec92",
   "metadata": {},
   "source": [
    "## Tensorflow Basic"
   ]
  },
  {
   "cell_type": "code",
   "execution_count": 2,
   "id": "def2fc78-96e3-4585-9c3b-476a78cffb40",
   "metadata": {
    "tags": []
   },
   "outputs": [
    {
     "name": "stderr",
     "output_type": "stream",
     "text": [
      "2023-09-10 08:46:18.412666: I tensorflow/tsl/cuda/cudart_stub.cc:28] Could not find cuda drivers on your machine, GPU will not be used.\n",
      "2023-09-10 08:46:18.571043: I tensorflow/tsl/cuda/cudart_stub.cc:28] Could not find cuda drivers on your machine, GPU will not be used.\n",
      "2023-09-10 08:46:18.572290: I tensorflow/core/platform/cpu_feature_guard.cc:182] This TensorFlow binary is optimized to use available CPU instructions in performance-critical operations.\n",
      "To enable the following instructions: AVX2 FMA, in other operations, rebuild TensorFlow with the appropriate compiler flags.\n",
      "2023-09-10 08:46:19.405466: W tensorflow/compiler/tf2tensorrt/utils/py_utils.cc:38] TF-TRT Warning: Could not find TensorRT\n"
     ]
    }
   ],
   "source": [
    "import tensorflow as tf"
   ]
  },
  {
   "cell_type": "code",
   "execution_count": null,
   "id": "e804ca9c-8ad3-42e5-99cf-8ec5e349675d",
   "metadata": {},
   "outputs": [],
   "source": []
  },
  {
   "cell_type": "markdown",
   "id": "c650847e-e4bb-4113-88ab-aad0d04a4e5b",
   "metadata": {},
   "source": [
    "### GPU/CPU Check"
   ]
  },
  {
   "cell_type": "code",
   "execution_count": 3,
   "id": "a7b44e51-5efa-449b-aa45-c0defedbc0cb",
   "metadata": {
    "tags": []
   },
   "outputs": [
    {
     "data": {
      "text/plain": [
       "[]"
      ]
     },
     "execution_count": 3,
     "metadata": {},
     "output_type": "execute_result"
    }
   ],
   "source": [
    "gpu_list = tf.config.list_physical_devices('GPU')\n",
    "gpu_list"
   ]
  },
  {
   "cell_type": "code",
   "execution_count": 4,
   "id": "045915d1-4b0b-4912-8912-9a78ca3d6a7a",
   "metadata": {
    "tags": []
   },
   "outputs": [
    {
     "data": {
      "text/plain": [
       "[PhysicalDevice(name='/physical_device:CPU:0', device_type='CPU')]"
      ]
     },
     "execution_count": 4,
     "metadata": {},
     "output_type": "execute_result"
    }
   ],
   "source": [
    "cpu_list = tf.config.list_physical_devices('CPU')\n",
    "cpu_list"
   ]
  },
  {
   "cell_type": "code",
   "execution_count": null,
   "id": "2ea7705a-f53f-4acf-a972-06769466310b",
   "metadata": {},
   "outputs": [],
   "source": []
  },
  {
   "cell_type": "markdown",
   "id": "6e3c9c4e-5865-4b9e-b41c-efe8bf5c8acd",
   "metadata": {},
   "source": [
    "### Check the version"
   ]
  },
  {
   "cell_type": "code",
   "execution_count": 2,
   "id": "1de32500-7ed9-4d07-881c-9dc0aa087f5d",
   "metadata": {
    "tags": []
   },
   "outputs": [
    {
     "name": "stdout",
     "output_type": "stream",
     "text": [
      "Tensorlfow Version : 2.12.0\n",
      "Keras Version : 2.12.0\n",
      "Eager Execution Is : True\n"
     ]
    }
   ],
   "source": [
    "# Check the version\n",
    "print(f\"Tensorlfow Version : {tf.__version__}\")\n",
    "print(f\"Keras Version : {tf.keras.__version__}\")\n",
    "print(f\"Eager Execution Is : {tf.executing_eagerly()}\")"
   ]
  },
  {
   "cell_type": "code",
   "execution_count": null,
   "id": "0e7519c0-0661-4ac5-803c-a0b6e7f04786",
   "metadata": {},
   "outputs": [],
   "source": []
  },
  {
   "cell_type": "markdown",
   "id": "06828066-abdc-4384-aa58-e89398e0708a",
   "metadata": {},
   "source": [
    "### Tensorflow Constant "
   ]
  },
  {
   "cell_type": "code",
   "execution_count": 5,
   "id": "808fe138-3ed8-4ee4-9ee7-0ebd389d2862",
   "metadata": {},
   "outputs": [],
   "source": [
    "x = tf.constant(42)"
   ]
  },
  {
   "cell_type": "code",
   "execution_count": 22,
   "id": "a74d7aa7-bbe2-4824-a589-d2b883f0cf20",
   "metadata": {},
   "outputs": [
    {
     "data": {
      "text/plain": [
       "42"
      ]
     },
     "execution_count": 22,
     "metadata": {},
     "output_type": "execute_result"
    }
   ],
   "source": [
    "x.numpy()"
   ]
  },
  {
   "cell_type": "code",
   "execution_count": 20,
   "id": "8850e93d-e1ef-4527-ae1b-e8197ebed2c2",
   "metadata": {},
   "outputs": [
    {
     "data": {
      "text/plain": [
       "TensorShape([])"
      ]
     },
     "execution_count": 20,
     "metadata": {},
     "output_type": "execute_result"
    }
   ],
   "source": [
    "x.shape"
   ]
  },
  {
   "cell_type": "code",
   "execution_count": 21,
   "id": "3cfdbed7-df00-4209-b314-7367688c9753",
   "metadata": {},
   "outputs": [
    {
     "data": {
      "text/plain": [
       "tf.int32"
      ]
     },
     "execution_count": 21,
     "metadata": {},
     "output_type": "execute_result"
    }
   ],
   "source": [
    "x.dtype"
   ]
  },
  {
   "cell_type": "code",
   "execution_count": null,
   "id": "2f63d150-c629-4852-982c-b39ba1d7b690",
   "metadata": {},
   "outputs": [],
   "source": []
  },
  {
   "cell_type": "code",
   "execution_count": 6,
   "id": "a140d9ea-1598-4f3d-8c32-68a521563409",
   "metadata": {},
   "outputs": [
    {
     "name": "stdout",
     "output_type": "stream",
     "text": [
      "Value :  42.0\n",
      "Shape :  ()\n",
      "Data Type :  <dtype: 'float64'>\n"
     ]
    }
   ],
   "source": [
    "x = tf.constant(42, dtype=tf.float64)\n",
    "print('Value : ', x.numpy())\n",
    "print('Shape : ', x.shape)\n",
    "print('Data Type : ', x.dtype)"
   ]
  },
  {
   "cell_type": "code",
   "execution_count": null,
   "id": "d35f9ad6-ba69-4493-8f59-a75c0474b621",
   "metadata": {},
   "outputs": [],
   "source": []
  },
  {
   "cell_type": "code",
   "execution_count": 3,
   "id": "0a96015d-10ff-4592-82c2-042f6cfa612a",
   "metadata": {
    "tags": []
   },
   "outputs": [
    {
     "data": {
      "text/plain": [
       "(<tf.Tensor: shape=(), dtype=int32, numpy=1>,\n",
       " <tf.Tensor: shape=(2, 2), dtype=float32, numpy=\n",
       " array([[1., 2.],\n",
       "        [3., 4.]], dtype=float32)>)"
      ]
     },
     "execution_count": 3,
     "metadata": {},
     "output_type": "execute_result"
    }
   ],
   "source": [
    "# Tensorflow Constant contains three parameters : data, dtype and shape\n",
    "x = tf.constant(1)\n",
    "y = tf.constant([1,2,3,4], dtype=tf.float32, shape=[2,2])\n",
    "x,y"
   ]
  },
  {
   "cell_type": "code",
   "execution_count": 13,
   "id": "ebfbc05a-9fc2-4822-a65f-1e6227603350",
   "metadata": {
    "tags": []
   },
   "outputs": [
    {
     "data": {
      "text/plain": [
       "TensorShape([2, 2])"
      ]
     },
     "execution_count": 13,
     "metadata": {},
     "output_type": "execute_result"
    }
   ],
   "source": [
    "y.shape"
   ]
  },
  {
   "cell_type": "code",
   "execution_count": 14,
   "id": "49e3aeeb-95d0-443c-b90c-6ef802f4575c",
   "metadata": {
    "tags": []
   },
   "outputs": [
    {
     "data": {
      "text/plain": [
       "tf.float32"
      ]
     },
     "execution_count": 14,
     "metadata": {},
     "output_type": "execute_result"
    }
   ],
   "source": [
    "y.dtype"
   ]
  },
  {
   "cell_type": "code",
   "execution_count": 15,
   "id": "53a6caed-c83a-4d59-b383-5d3b059696b4",
   "metadata": {
    "tags": []
   },
   "outputs": [
    {
     "data": {
      "text/plain": [
       "array([[1., 2.],\n",
       "       [3., 4.]], dtype=float32)"
      ]
     },
     "execution_count": 15,
     "metadata": {},
     "output_type": "execute_result"
    }
   ],
   "source": [
    "y.numpy()"
   ]
  },
  {
   "cell_type": "code",
   "execution_count": 5,
   "id": "f0850d9b-d4cd-4bf0-82f1-1242666d408d",
   "metadata": {},
   "outputs": [
    {
     "data": {
      "text/plain": [
       "numpy.ndarray"
      ]
     },
     "execution_count": 5,
     "metadata": {},
     "output_type": "execute_result"
    }
   ],
   "source": [
    "type(y.numpy())"
   ]
  },
  {
   "cell_type": "code",
   "execution_count": null,
   "id": "a21eefe1-e815-497f-b993-234a381718d7",
   "metadata": {},
   "outputs": [],
   "source": []
  },
  {
   "cell_type": "code",
   "execution_count": 11,
   "id": "01e82b1a-3854-47f2-8315-8668de216c24",
   "metadata": {},
   "outputs": [
    {
     "name": "stdout",
     "output_type": "stream",
     "text": [
      "[[1 2 3]\n",
      " [4 5 6]] \n",
      "\n",
      "[[10 20 30]\n",
      " [40 50 50]] \n",
      "\n",
      "[[11 22 33]\n",
      " [44 55 56]] \n",
      "\n"
     ]
    }
   ],
   "source": [
    "# Add two tensorflow constant\n",
    "x = tf.constant([[1,2,3,4,5,6]], shape=[2,3])\n",
    "y = tf.constant([[10,20,30,40,50,50]], shape=[2,3])\n",
    "z = tf.add(x,y)\n",
    "print(x.numpy(),'\\n')\n",
    "print(y.numpy(),'\\n')\n",
    "print(z.numpy(),'\\n')"
   ]
  },
  {
   "cell_type": "code",
   "execution_count": 12,
   "id": "acc72a47-f8ec-492a-8140-9f87b8b4b359",
   "metadata": {},
   "outputs": [],
   "source": [
    "x = tf.constant(42)"
   ]
  },
  {
   "cell_type": "markdown",
   "id": "dd101088-cea9-4f5e-9959-10d3bd2a5ed8",
   "metadata": {},
   "source": [
    "### Random Constant"
   ]
  },
  {
   "cell_type": "code",
   "execution_count": 45,
   "id": "b32017d7-c8ef-49f0-9386-ff7146d746e6",
   "metadata": {
    "tags": []
   },
   "outputs": [
    {
     "data": {
      "text/plain": [
       "<tf.Tensor: shape=(10, 1), dtype=float32, numpy=\n",
       "array([[ 0.06604511],\n",
       "       [ 0.4542782 ],\n",
       "       [-0.14563298],\n",
       "       [ 1.1440861 ],\n",
       "       [ 0.29841045],\n",
       "       [-0.21712814],\n",
       "       [-0.7914236 ],\n",
       "       [-0.76791537],\n",
       "       [-1.8703556 ],\n",
       "       [-0.47358176]], dtype=float32)>"
      ]
     },
     "execution_count": 45,
     "metadata": {},
     "output_type": "execute_result"
    }
   ],
   "source": [
    "# Normal Distribution\n",
    "x_rand = tf.random.normal(shape=(10,1), mean=0, stddev=1)\n",
    "x_rand"
   ]
  },
  {
   "cell_type": "code",
   "execution_count": 44,
   "id": "23ce4b94-dd78-4d0f-8057-0e74e6b178a9",
   "metadata": {
    "tags": []
   },
   "outputs": [
    {
     "data": {
      "text/plain": [
       "array([[-0.5818397 ],\n",
       "       [-1.7558296 ],\n",
       "       [ 0.47948423],\n",
       "       [-0.33096197],\n",
       "       [-1.4122254 ],\n",
       "       [-0.34713823],\n",
       "       [ 0.04052497],\n",
       "       [ 0.67595303],\n",
       "       [-0.4493795 ],\n",
       "       [ 0.05804604]], dtype=float32)"
      ]
     },
     "execution_count": 44,
     "metadata": {},
     "output_type": "execute_result"
    }
   ],
   "source": [
    "x_rand.numpy()"
   ]
  },
  {
   "cell_type": "code",
   "execution_count": 10,
   "id": "423d8b1b-88fc-43df-bd59-c4952236269c",
   "metadata": {},
   "outputs": [
    {
     "data": {
      "text/plain": [
       "<tf.Tensor: shape=(2, 2), dtype=float32, numpy=\n",
       "array([[0., 0.],\n",
       "       [0., 0.]], dtype=float32)>"
      ]
     },
     "execution_count": 10,
     "metadata": {},
     "output_type": "execute_result"
    }
   ],
   "source": [
    "tf.zeros(shape=(2,2))"
   ]
  },
  {
   "cell_type": "code",
   "execution_count": 48,
   "id": "9e4e2155-4823-4411-86b0-361204f660aa",
   "metadata": {
    "tags": []
   },
   "outputs": [
    {
     "data": {
      "text/plain": [
       "<tf.Tensor: shape=(10,), dtype=float32, numpy=\n",
       "array([46.45287  , 51.489567 , 84.41675  , 52.806377 ,  5.9336066,\n",
       "       76.44321  , 58.18106  , 90.87975  , 42.225204 , 44.46894  ],\n",
       "      dtype=float32)>"
      ]
     },
     "execution_count": 48,
     "metadata": {},
     "output_type": "execute_result"
    }
   ],
   "source": [
    "# Uniform Distribution\n",
    "x_rand = tf.random.uniform(shape=[10], minval=0, maxval=100)\n",
    "x_rand"
   ]
  },
  {
   "cell_type": "code",
   "execution_count": 49,
   "id": "37119412-fc92-48f8-9a10-73106cd8d07e",
   "metadata": {
    "tags": []
   },
   "outputs": [
    {
     "data": {
      "text/plain": [
       "array([46.45287  , 51.489567 , 84.41675  , 52.806377 ,  5.9336066,\n",
       "       76.44321  , 58.18106  , 90.87975  , 42.225204 , 44.46894  ],\n",
       "      dtype=float32)"
      ]
     },
     "execution_count": 49,
     "metadata": {},
     "output_type": "execute_result"
    }
   ],
   "source": [
    "x_rand.numpy()"
   ]
  },
  {
   "cell_type": "code",
   "execution_count": null,
   "id": "1a918cba-4b76-4a3d-b82d-bab227317281",
   "metadata": {},
   "outputs": [],
   "source": []
  },
  {
   "cell_type": "markdown",
   "id": "40348793-493d-4712-8cbe-deae9e39156e",
   "metadata": {},
   "source": [
    "### Tensorflow Methods"
   ]
  },
  {
   "cell_type": "code",
   "execution_count": 27,
   "id": "fc7a0d31-2faf-4c98-b38a-d6b8106f3d56",
   "metadata": {
    "tags": []
   },
   "outputs": [
    {
     "data": {
      "text/plain": [
       "<tf.Tensor: shape=(2, 3), dtype=int32, numpy=\n",
       "array([[0, 0, 0],\n",
       "       [0, 0, 0]], dtype=int32)>"
      ]
     },
     "execution_count": 27,
     "metadata": {},
     "output_type": "execute_result"
    }
   ],
   "source": [
    "x = tf.zeros(shape=(2,3), dtype=tf.int32)\n",
    "x"
   ]
  },
  {
   "cell_type": "code",
   "execution_count": 29,
   "id": "1e5d0013-adb1-4ec4-92ef-326c35ceca31",
   "metadata": {
    "tags": []
   },
   "outputs": [
    {
     "data": {
      "text/plain": [
       "array([[0, 0, 0],\n",
       "       [0, 0, 0]], dtype=int32)"
      ]
     },
     "execution_count": 29,
     "metadata": {},
     "output_type": "execute_result"
    }
   ],
   "source": [
    "x.numpy()"
   ]
  },
  {
   "cell_type": "code",
   "execution_count": null,
   "id": "e412b852-554e-4dfb-b00e-7cb55f98189e",
   "metadata": {},
   "outputs": [],
   "source": []
  },
  {
   "cell_type": "code",
   "execution_count": 12,
   "id": "0c1ed3f5-b5b9-4bbf-ad59-dd69041d9846",
   "metadata": {
    "tags": []
   },
   "outputs": [
    {
     "data": {
      "text/plain": [
       "<tf.Tensor: shape=(2, 3), dtype=int32, numpy=\n",
       "array([[1, 1, 1],\n",
       "       [1, 1, 1]], dtype=int32)>"
      ]
     },
     "execution_count": 12,
     "metadata": {},
     "output_type": "execute_result"
    }
   ],
   "source": [
    "x = tf.ones(shape=(2,3), dtype=tf.int32)\n",
    "x"
   ]
  },
  {
   "cell_type": "code",
   "execution_count": 22,
   "id": "e69aca15-9c17-49ba-89f1-f2cdc4ad7cee",
   "metadata": {
    "tags": []
   },
   "outputs": [
    {
     "data": {
      "text/plain": [
       "<tf.Tensor: shape=(4, 3), dtype=int32, numpy=\n",
       "array([[10, 10, 10],\n",
       "       [10, 10, 10],\n",
       "       [10, 10, 10],\n",
       "       [10, 10, 10]], dtype=int32)>"
      ]
     },
     "execution_count": 22,
     "metadata": {},
     "output_type": "execute_result"
    }
   ],
   "source": [
    "x = tf.fill([4,3], 10)\n",
    "x"
   ]
  },
  {
   "cell_type": "code",
   "execution_count": 33,
   "id": "62a8185c-cfc6-4fb8-9ee2-001d817361df",
   "metadata": {
    "tags": []
   },
   "outputs": [
    {
     "data": {
      "text/plain": [
       "array([[1., 1., 1.],\n",
       "       [1., 1., 1.]], dtype=float32)"
      ]
     },
     "execution_count": 33,
     "metadata": {},
     "output_type": "execute_result"
    }
   ],
   "source": [
    "x.numpy()"
   ]
  },
  {
   "cell_type": "code",
   "execution_count": 34,
   "id": "8d12ccd5-8873-4ff5-8318-7fdaa3aafa64",
   "metadata": {
    "tags": []
   },
   "outputs": [
    {
     "data": {
      "text/plain": [
       "5"
      ]
     },
     "execution_count": 34,
     "metadata": {},
     "output_type": "execute_result"
    }
   ],
   "source": [
    "y"
   ]
  },
  {
   "cell_type": "code",
   "execution_count": 36,
   "id": "aef9d167-c035-403c-9d63-73e0e06d030b",
   "metadata": {
    "tags": []
   },
   "outputs": [
    {
     "data": {
      "text/plain": [
       "<tf.Tensor: shape=(2, 3), dtype=float32, numpy=\n",
       "array([[6., 6., 6.],\n",
       "       [6., 6., 6.]], dtype=float32)>"
      ]
     },
     "execution_count": 36,
     "metadata": {},
     "output_type": "execute_result"
    }
   ],
   "source": [
    "z = tf.add(x,y)\n",
    "z"
   ]
  },
  {
   "cell_type": "code",
   "execution_count": 37,
   "id": "cf01b328-104c-48e4-b534-3e666a129508",
   "metadata": {
    "tags": []
   },
   "outputs": [
    {
     "data": {
      "text/plain": [
       "array([[6., 6., 6.],\n",
       "       [6., 6., 6.]], dtype=float32)"
      ]
     },
     "execution_count": 37,
     "metadata": {},
     "output_type": "execute_result"
    }
   ],
   "source": [
    "z.numpy()"
   ]
  },
  {
   "cell_type": "code",
   "execution_count": null,
   "id": "b9858eef-656c-47fa-a4d5-940a58ae53fa",
   "metadata": {},
   "outputs": [],
   "source": []
  },
  {
   "cell_type": "code",
   "execution_count": 17,
   "id": "5da75bcf-c377-4101-88b3-35ebb0223eb0",
   "metadata": {},
   "outputs": [
    {
     "data": {
      "text/plain": [
       "<tf.Tensor: shape=(), dtype=float32, numpy=42.0>"
      ]
     },
     "execution_count": 17,
     "metadata": {},
     "output_type": "execute_result"
    }
   ],
   "source": [
    "named_constant = tf.constant(42.0, name=\"my_constant\")\n",
    "named_constant"
   ]
  },
  {
   "cell_type": "code",
   "execution_count": null,
   "id": "31795613-2831-4891-a51d-b19e2f607618",
   "metadata": {},
   "outputs": [],
   "source": []
  },
  {
   "cell_type": "markdown",
   "id": "8d981d0c-ccbf-48ab-a0d3-b78c15d2059a",
   "metadata": {},
   "source": [
    "\n",
    "## Tensorflow Variable"
   ]
  },
  {
   "cell_type": "code",
   "execution_count": 95,
   "id": "6ac3ef1c-4d12-4337-8f2b-52ae28d0d4aa",
   "metadata": {},
   "outputs": [
    {
     "data": {
      "text/plain": [
       "<tf.Variable 'Variable:0' shape=(6,) dtype=float32, numpy=array([1., 2., 3., 4., 5., 6.], dtype=float32)>"
      ]
     },
     "execution_count": 95,
     "metadata": {},
     "output_type": "execute_result"
    }
   ],
   "source": [
    "a = tf.Variable([1,2,3,4,5,6], dtype=tf.float32, validate_shape=False)\n",
    "a"
   ]
  },
  {
   "cell_type": "code",
   "execution_count": 96,
   "id": "39b3898b-c928-4faa-a191-6b72bec4b694",
   "metadata": {},
   "outputs": [
    {
     "data": {
      "text/plain": [
       "'Variable:0'"
      ]
     },
     "execution_count": 96,
     "metadata": {},
     "output_type": "execute_result"
    }
   ],
   "source": [
    "a.name"
   ]
  },
  {
   "cell_type": "code",
   "execution_count": 97,
   "id": "f26f9403-b0fa-496b-b701-ce2d31969fc3",
   "metadata": {},
   "outputs": [
    {
     "data": {
      "text/plain": [
       "tf.float32"
      ]
     },
     "execution_count": 97,
     "metadata": {},
     "output_type": "execute_result"
    }
   ],
   "source": [
    "a.dtype"
   ]
  },
  {
   "cell_type": "code",
   "execution_count": 98,
   "id": "0a83ccc7-bec8-4602-979a-252f09a349c1",
   "metadata": {},
   "outputs": [
    {
     "data": {
      "text/plain": [
       "array([1., 2., 3., 4., 5., 6.], dtype=float32)"
      ]
     },
     "execution_count": 98,
     "metadata": {},
     "output_type": "execute_result"
    }
   ],
   "source": [
    "a.numpy()"
   ]
  },
  {
   "cell_type": "code",
   "execution_count": null,
   "id": "c4076888-6fe7-4fdd-87b1-8b74dac87e0d",
   "metadata": {},
   "outputs": [],
   "source": []
  },
  {
   "cell_type": "code",
   "execution_count": 94,
   "id": "242b3bce-75c0-49e8-ac1c-d6817903f54a",
   "metadata": {},
   "outputs": [
    {
     "data": {
      "text/plain": [
       "<tf.Variable 'Variable:0' shape=(2, 2) dtype=float32, numpy=\n",
       "array([[1., 2.],\n",
       "       [3., 4.]], dtype=float32)>"
      ]
     },
     "execution_count": 94,
     "metadata": {},
     "output_type": "execute_result"
    }
   ],
   "source": [
    "# Create Variable from Constant\n",
    "a_con = tf.constant([1,2,3,4], shape=(2,2), dtype=tf.float32)\n",
    "a_var = tf.Variable(a_con)\n",
    "a_var"
   ]
  },
  {
   "cell_type": "code",
   "execution_count": 61,
   "id": "e6e4c62b-f0f1-420f-b83c-8affcf75b7d4",
   "metadata": {},
   "outputs": [
    {
     "data": {
      "text/plain": [
       "array([[1., 2.],\n",
       "       [3., 4.]], dtype=float32)"
      ]
     },
     "execution_count": 61,
     "metadata": {},
     "output_type": "execute_result"
    }
   ],
   "source": [
    "a_var.numpy()"
   ]
  },
  {
   "cell_type": "code",
   "execution_count": null,
   "id": "2cbb4f91-dbea-4135-a00d-bcb2290ba496",
   "metadata": {},
   "outputs": [],
   "source": []
  },
  {
   "cell_type": "code",
   "execution_count": 57,
   "id": "d8c8c09e-3377-4cb1-ac2a-51379b3360f1",
   "metadata": {},
   "outputs": [
    {
     "data": {
      "text/plain": [
       "<tf.Tensor: shape=(3, 2), dtype=float32, numpy=\n",
       "array([[1., 2.],\n",
       "       [3., 4.],\n",
       "       [5., 6.]], dtype=float32)>"
      ]
     },
     "execution_count": 57,
     "metadata": {},
     "output_type": "execute_result"
    }
   ],
   "source": [
    "# Reshape Variable\n",
    "tf.reshape(a, (3,2))"
   ]
  },
  {
   "cell_type": "code",
   "execution_count": 113,
   "id": "ec6ad50f-6a58-4da0-9f0d-237bf084032e",
   "metadata": {},
   "outputs": [
    {
     "data": {
      "text/plain": [
       "<tf.Variable 'Variable:0' shape=(4,) dtype=int32, numpy=array([1, 2, 3, 4], dtype=int32)>"
      ]
     },
     "execution_count": 113,
     "metadata": {},
     "output_type": "execute_result"
    }
   ],
   "source": [
    "x = tf.Variable([1,2,3,4])\n",
    "x"
   ]
  },
  {
   "cell_type": "code",
   "execution_count": 114,
   "id": "dc60610b-f578-48a2-b84a-99a07e158f0a",
   "metadata": {},
   "outputs": [
    {
     "data": {
      "text/plain": [
       "array([1, 2, 3, 4], dtype=int32)"
      ]
     },
     "execution_count": 114,
     "metadata": {},
     "output_type": "execute_result"
    }
   ],
   "source": [
    "x.numpy()"
   ]
  },
  {
   "cell_type": "code",
   "execution_count": 117,
   "id": "4bdcfc90-b0af-43b0-8b00-12f58af0a607",
   "metadata": {},
   "outputs": [],
   "source": [
    "y = tf.reshape(x, (2,2))"
   ]
  },
  {
   "cell_type": "code",
   "execution_count": 118,
   "id": "facb98e7-7880-4132-9036-276d0a30af32",
   "metadata": {},
   "outputs": [
    {
     "data": {
      "text/plain": [
       "array([[1, 2],\n",
       "       [3, 4]], dtype=int32)"
      ]
     },
     "execution_count": 118,
     "metadata": {},
     "output_type": "execute_result"
    }
   ],
   "source": [
    "y.numpy()"
   ]
  },
  {
   "cell_type": "code",
   "execution_count": null,
   "id": "88b23842-ee37-4623-ad43-a9edd6fcbedf",
   "metadata": {},
   "outputs": [],
   "source": []
  },
  {
   "cell_type": "code",
   "execution_count": 64,
   "id": "0f8540ab-6ec2-4448-b9ed-967600b01d75",
   "metadata": {},
   "outputs": [
    {
     "data": {
      "text/plain": [
       "<tf.Tensor: shape=(2,), dtype=int64, numpy=array([1, 1])>"
      ]
     },
     "execution_count": 64,
     "metadata": {},
     "output_type": "execute_result"
    }
   ],
   "source": [
    "# Get Index of highest value\n",
    "tf.argmax(a_var)"
   ]
  },
  {
   "cell_type": "code",
   "execution_count": null,
   "id": "d74e631c-ebd0-45c3-89e6-4c7e13177341",
   "metadata": {},
   "outputs": [],
   "source": []
  },
  {
   "cell_type": "code",
   "execution_count": 67,
   "id": "846c60f4-002e-4447-89f9-cb3ea7a4b4d3",
   "metadata": {},
   "outputs": [
    {
     "data": {
      "text/plain": [
       "<tf.Tensor: shape=(6,), dtype=float32, numpy=array([1., 2., 3., 4., 5., 6.], dtype=float32)>"
      ]
     },
     "execution_count": 67,
     "metadata": {},
     "output_type": "execute_result"
    }
   ],
   "source": [
    "# Convert to Tensor\n",
    "tf.convert_to_tensor(a)"
   ]
  },
  {
   "cell_type": "code",
   "execution_count": null,
   "id": "1ed34cab-c8bb-4755-8f15-6a0298432ce4",
   "metadata": {},
   "outputs": [],
   "source": []
  },
  {
   "cell_type": "code",
   "execution_count": 101,
   "id": "5f5465f3-8e05-4b26-9667-f1a069ed6850",
   "metadata": {},
   "outputs": [
    {
     "data": {
      "text/plain": [
       "<tf.Variable 'UnreadVariable' shape=(6,) dtype=float32, numpy=array([4., 5., 6., 7., 8., 9.], dtype=float32)>"
      ]
     },
     "execution_count": 101,
     "metadata": {},
     "output_type": "execute_result"
    }
   ],
   "source": [
    "# Change Variable Vaues\n",
    "a.assign([4,5,6,7,8,9])"
   ]
  },
  {
   "cell_type": "code",
   "execution_count": 74,
   "id": "f1dfa436-7be3-4e5c-b1f6-b6857f6ce6ce",
   "metadata": {},
   "outputs": [
    {
     "data": {
      "text/plain": [
       "'Variable:0'"
      ]
     },
     "execution_count": 74,
     "metadata": {},
     "output_type": "execute_result"
    }
   ],
   "source": [
    "a.name"
   ]
  },
  {
   "cell_type": "code",
   "execution_count": 73,
   "id": "8924b4a0-a799-4c4b-9f56-3899132c40cf",
   "metadata": {},
   "outputs": [
    {
     "data": {
      "text/plain": [
       "array([4., 5., 6., 7., 8., 9.], dtype=float32)"
      ]
     },
     "execution_count": 73,
     "metadata": {},
     "output_type": "execute_result"
    }
   ],
   "source": [
    "a.numpy()"
   ]
  },
  {
   "cell_type": "code",
   "execution_count": null,
   "id": "5257f4ad-6c4d-4c90-9b02-9b94f19dd3d6",
   "metadata": {},
   "outputs": [],
   "source": []
  },
  {
   "cell_type": "code",
   "execution_count": 79,
   "id": "8eb55369-843d-4c42-a63f-7148fac617cd",
   "metadata": {},
   "outputs": [
    {
     "data": {
      "text/plain": [
       "<tf.Variable 'UnreadVariable' shape=(2, 2) dtype=float32, numpy=\n",
       "array([[10., 20.],\n",
       "       [30., 40.]], dtype=float32)>"
      ]
     },
     "execution_count": 79,
     "metadata": {},
     "output_type": "execute_result"
    }
   ],
   "source": [
    "a_var.assign([[10,20],[30,40]])"
   ]
  },
  {
   "cell_type": "code",
   "execution_count": 77,
   "id": "21c31097-0ee3-45a6-aa5c-a8c262d3d0e8",
   "metadata": {},
   "outputs": [
    {
     "data": {
      "text/plain": [
       "array([[10., 20.],\n",
       "       [30., 40.]], dtype=float32)"
      ]
     },
     "execution_count": 77,
     "metadata": {},
     "output_type": "execute_result"
    }
   ],
   "source": [
    "a_var.numpy()"
   ]
  },
  {
   "cell_type": "code",
   "execution_count": null,
   "id": "749791d8-830e-4e55-bed7-b3b8686be785",
   "metadata": {},
   "outputs": [],
   "source": []
  },
  {
   "cell_type": "code",
   "execution_count": 90,
   "id": "3999c986-f277-4969-9e10-8764162d2733",
   "metadata": {},
   "outputs": [
    {
     "data": {
      "text/plain": [
       "array([1., 2., 3., 4., 5., 6.], dtype=float32)"
      ]
     },
     "execution_count": 90,
     "metadata": {},
     "output_type": "execute_result"
    }
   ],
   "source": [
    "a.numpy()"
   ]
  },
  {
   "cell_type": "code",
   "execution_count": 91,
   "id": "f2adf2da-b44c-43f5-a3bd-ac697edead76",
   "metadata": {},
   "outputs": [
    {
     "data": {
      "text/plain": [
       "<tf.Variable 'UnreadVariable' shape=(6,) dtype=float32, numpy=array([7., 7., 7., 7., 7., 7.], dtype=float32)>"
      ]
     },
     "execution_count": 91,
     "metadata": {},
     "output_type": "execute_result"
    }
   ],
   "source": [
    "a.assign_add([6,5,4,3,2,1])"
   ]
  },
  {
   "cell_type": "code",
   "execution_count": 92,
   "id": "7152f939-d2ee-494e-9c44-6344d77ed279",
   "metadata": {},
   "outputs": [
    {
     "data": {
      "text/plain": [
       "<tf.Variable 'Variable:0' shape=(6,) dtype=float32, numpy=array([7., 7., 7., 7., 7., 7.], dtype=float32)>"
      ]
     },
     "execution_count": 92,
     "metadata": {},
     "output_type": "execute_result"
    }
   ],
   "source": [
    "a"
   ]
  },
  {
   "cell_type": "code",
   "execution_count": null,
   "id": "7d35ddfd-cfdf-4871-88fd-03f7033e1f9c",
   "metadata": {},
   "outputs": [],
   "source": []
  },
  {
   "cell_type": "code",
   "execution_count": null,
   "id": "38e53d10-9c21-4be7-bcc5-068f70169e1a",
   "metadata": {},
   "outputs": [],
   "source": []
  },
  {
   "cell_type": "markdown",
   "id": "ee88d3a7-2168-4519-bcde-4627c99760c3",
   "metadata": {},
   "source": [
    "## Rank/Dimension of a Tensor"
   ]
  },
  {
   "cell_type": "code",
   "execution_count": 155,
   "id": "9cd7f615-19c6-4223-9367-a8406539dc48",
   "metadata": {},
   "outputs": [],
   "source": [
    "a = tf.Variable([1,2,3,4])\n",
    "b = tf.Variable([[[1,2,3],[3,4,5],[5,6,7]]])\n",
    "c = tf.constant([1,2,3,4,5,6])\n",
    "d = tf.Variable([[[1,2,3],[3,4,5]],[[5,6,7],[10,20,30]]])"
   ]
  },
  {
   "cell_type": "code",
   "execution_count": 140,
   "id": "e82ade8b-1676-4136-b669-b7405ddbdde2",
   "metadata": {},
   "outputs": [
    {
     "data": {
      "text/plain": [
       "<tf.Tensor: shape=(), dtype=int32, numpy=1>"
      ]
     },
     "execution_count": 140,
     "metadata": {},
     "output_type": "execute_result"
    }
   ],
   "source": [
    "tf.rank(a)"
   ]
  },
  {
   "cell_type": "code",
   "execution_count": 145,
   "id": "0c6b3a58-ce31-444b-a7c5-69ee805e81fe",
   "metadata": {},
   "outputs": [
    {
     "data": {
      "text/plain": [
       "<tf.Tensor: shape=(), dtype=int32, numpy=3>"
      ]
     },
     "execution_count": 145,
     "metadata": {},
     "output_type": "execute_result"
    }
   ],
   "source": [
    "tf.rank(b)"
   ]
  },
  {
   "cell_type": "code",
   "execution_count": 138,
   "id": "6c0b93eb-7e2c-4e35-913f-d677a53fa176",
   "metadata": {},
   "outputs": [
    {
     "data": {
      "text/plain": [
       "<tf.Tensor: shape=(), dtype=int32, numpy=1>"
      ]
     },
     "execution_count": 138,
     "metadata": {},
     "output_type": "execute_result"
    }
   ],
   "source": [
    "tf.rank(c)"
   ]
  },
  {
   "cell_type": "code",
   "execution_count": 153,
   "id": "16c59679-052f-4b8d-a749-fc9126f049da",
   "metadata": {},
   "outputs": [
    {
     "data": {
      "text/plain": [
       "TensorShape([1, 3, 3])"
      ]
     },
     "execution_count": 153,
     "metadata": {},
     "output_type": "execute_result"
    }
   ],
   "source": [
    "b.shape"
   ]
  },
  {
   "cell_type": "code",
   "execution_count": 144,
   "id": "a954d1e6-c9c8-46a4-be4a-95252661f158",
   "metadata": {},
   "outputs": [
    {
     "data": {
      "text/plain": [
       "array([[[1, 2, 3],\n",
       "        [3, 4, 5],\n",
       "        [5, 6, 7]]], dtype=int32)"
      ]
     },
     "execution_count": 144,
     "metadata": {},
     "output_type": "execute_result"
    }
   ],
   "source": [
    "b.numpy()"
   ]
  },
  {
   "cell_type": "code",
   "execution_count": 150,
   "id": "752db70a-4564-49f1-8c97-5c5d547b7d7f",
   "metadata": {},
   "outputs": [
    {
     "data": {
      "text/plain": [
       "2"
      ]
     },
     "execution_count": 150,
     "metadata": {},
     "output_type": "execute_result"
    }
   ],
   "source": [
    "b.numpy()[0][0][1]"
   ]
  },
  {
   "cell_type": "code",
   "execution_count": 151,
   "id": "c4bcb65e-8514-4ec6-a9ed-68c9a612e36d",
   "metadata": {},
   "outputs": [
    {
     "data": {
      "text/plain": [
       "<tf.Tensor: shape=(), dtype=int32, numpy=2>"
      ]
     },
     "execution_count": 151,
     "metadata": {},
     "output_type": "execute_result"
    }
   ],
   "source": [
    "b[0,0,1]"
   ]
  },
  {
   "cell_type": "code",
   "execution_count": 156,
   "id": "9f61558d-38e2-41ca-983d-30cb0e464f07",
   "metadata": {},
   "outputs": [
    {
     "data": {
      "text/plain": [
       "<tf.Variable 'Variable:0' shape=(2, 2, 3) dtype=int32, numpy=\n",
       "array([[[ 1,  2,  3],\n",
       "        [ 3,  4,  5]],\n",
       "\n",
       "       [[ 5,  6,  7],\n",
       "        [10, 20, 30]]], dtype=int32)>"
      ]
     },
     "execution_count": 156,
     "metadata": {},
     "output_type": "execute_result"
    }
   ],
   "source": [
    "d"
   ]
  },
  {
   "cell_type": "code",
   "execution_count": 157,
   "id": "d3ae51e8-07af-450a-80b7-8fee09cc6276",
   "metadata": {},
   "outputs": [
    {
     "data": {
      "text/plain": [
       "<tf.Tensor: shape=(), dtype=int32, numpy=3>"
      ]
     },
     "execution_count": 157,
     "metadata": {},
     "output_type": "execute_result"
    }
   ],
   "source": [
    "tf.rank(d)"
   ]
  },
  {
   "cell_type": "code",
   "execution_count": 164,
   "id": "c1060d5c-1031-4342-8040-2410a7aa717f",
   "metadata": {},
   "outputs": [
    {
     "data": {
      "text/plain": [
       "<tf.Tensor: shape=(), dtype=int32, numpy=30>"
      ]
     },
     "execution_count": 164,
     "metadata": {},
     "output_type": "execute_result"
    }
   ],
   "source": [
    "d[1][1][2]"
   ]
  },
  {
   "cell_type": "code",
   "execution_count": 165,
   "id": "0bf3aa3d-215a-49fa-8999-16fadd82ec97",
   "metadata": {},
   "outputs": [
    {
     "data": {
      "text/plain": [
       "<tf.Tensor: shape=(), dtype=int32, numpy=30>"
      ]
     },
     "execution_count": 165,
     "metadata": {},
     "output_type": "execute_result"
    }
   ],
   "source": [
    "d[1,1,2]"
   ]
  },
  {
   "cell_type": "code",
   "execution_count": null,
   "id": "cf49a7cd-ad72-4d6f-9c5a-d3a2c962fcf9",
   "metadata": {},
   "outputs": [],
   "source": []
  },
  {
   "cell_type": "markdown",
   "id": "28c93e57-804e-413a-bb1b-d7c2bf51c9c5",
   "metadata": {},
   "source": [
    "## Casting Tensor to NumPy/Python Variable"
   ]
  },
  {
   "cell_type": "code",
   "execution_count": 171,
   "id": "e457fd54-1810-4fb4-94c4-ae80b5e6f8d0",
   "metadata": {},
   "outputs": [
    {
     "data": {
      "text/plain": [
       "array([[[ 1,  2,  3],\n",
       "        [ 3,  4,  5]],\n",
       "\n",
       "       [[ 5,  6,  7],\n",
       "        [10, 20, 30]]], dtype=int32)"
      ]
     },
     "execution_count": 171,
     "metadata": {},
     "output_type": "execute_result"
    }
   ],
   "source": [
    "d.numpy()"
   ]
  },
  {
   "cell_type": "code",
   "execution_count": 169,
   "id": "1c267780-74b6-4f8c-b3ec-532404729791",
   "metadata": {},
   "outputs": [
    {
     "data": {
      "text/plain": [
       "30"
      ]
     },
     "execution_count": 169,
     "metadata": {},
     "output_type": "execute_result"
    }
   ],
   "source": [
    "d[1,1,2].numpy()"
   ]
  },
  {
   "cell_type": "code",
   "execution_count": null,
   "id": "ed9832e7-9d7c-4302-afd0-7eebec888d9b",
   "metadata": {},
   "outputs": [],
   "source": []
  },
  {
   "cell_type": "markdown",
   "id": "37798b7d-2d21-4409-ae96-6ed2283b9532",
   "metadata": {},
   "source": [
    "## Tensor Size"
   ]
  },
  {
   "cell_type": "code",
   "execution_count": 178,
   "id": "54ab6d00-52e6-4fa1-ab31-2972beb866ed",
   "metadata": {},
   "outputs": [
    {
     "data": {
      "text/plain": [
       "<tf.Tensor: shape=(), dtype=int32, numpy=12>"
      ]
     },
     "execution_count": 178,
     "metadata": {},
     "output_type": "execute_result"
    }
   ],
   "source": [
    "tf.size(d)"
   ]
  },
  {
   "cell_type": "code",
   "execution_count": 179,
   "id": "225c6ad1-48dd-41f4-a5b9-bddcd3f513de",
   "metadata": {},
   "outputs": [
    {
     "data": {
      "text/plain": [
       "12"
      ]
     },
     "execution_count": 179,
     "metadata": {},
     "output_type": "execute_result"
    }
   ],
   "source": [
    "tf.size(d).numpy()"
   ]
  },
  {
   "cell_type": "code",
   "execution_count": null,
   "id": "ad6eee29-ee7b-4beb-8350-028ebc7acf51",
   "metadata": {},
   "outputs": [],
   "source": []
  }
 ],
 "metadata": {
  "kernelspec": {
   "display_name": "Python 3 (ipykernel)",
   "language": "python",
   "name": "python3"
  },
  "language_info": {
   "codemirror_mode": {
    "name": "ipython",
    "version": 3
   },
   "file_extension": ".py",
   "mimetype": "text/x-python",
   "name": "python",
   "nbconvert_exporter": "python",
   "pygments_lexer": "ipython3",
   "version": "3.10.12"
  }
 },
 "nbformat": 4,
 "nbformat_minor": 5
}
