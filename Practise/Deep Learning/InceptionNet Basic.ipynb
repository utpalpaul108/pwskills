{
 "cells": [
  {
   "cell_type": "markdown",
   "id": "c2693af1-2797-4d04-bea3-cae63b233b09",
   "metadata": {},
   "source": [
    "## InceptionNet Basic"
   ]
  },
  {
   "cell_type": "code",
   "execution_count": 1,
   "id": "31c810a8-113b-4052-88c3-a8548808a7a9",
   "metadata": {},
   "outputs": [
    {
     "name": "stderr",
     "output_type": "stream",
     "text": [
      "2023-09-16 21:43:56.318686: I tensorflow/tsl/cuda/cudart_stub.cc:28] Could not find cuda drivers on your machine, GPU will not be used.\n",
      "2023-09-16 21:43:56.506430: I tensorflow/tsl/cuda/cudart_stub.cc:28] Could not find cuda drivers on your machine, GPU will not be used.\n",
      "2023-09-16 21:43:56.508103: I tensorflow/core/platform/cpu_feature_guard.cc:182] This TensorFlow binary is optimized to use available CPU instructions in performance-critical operations.\n",
      "To enable the following instructions: AVX2 FMA, in other operations, rebuild TensorFlow with the appropriate compiler flags.\n",
      "2023-09-16 21:43:57.532460: W tensorflow/compiler/tf2tensorrt/utils/py_utils.cc:38] TF-TRT Warning: Could not find TensorRT\n"
     ]
    }
   ],
   "source": [
    "import tensorflow as tf\n",
    "from tensorflow import keras\n",
    "from keras.layers import Input, Conv2D, MaxPool2D, AveragePooling2D, Flatten, concatenate, Dense\n",
    "from keras.models import Model\n",
    "from keras.optimizers import Adam\n",
    "from keras.utils import to_categorical\n",
    "\n",
    "from PIL import Image\n",
    "import cv2\n",
    "import numpy as np\n",
    "import os\n",
    "\n",
    "from sklearn.preprocessing import LabelEncoder"
   ]
  },
  {
   "cell_type": "code",
   "execution_count": 2,
   "id": "a03aef40-58cd-419e-8571-d92e11382388",
   "metadata": {},
   "outputs": [],
   "source": [
    "# Load Image\n",
    "def load_images(folder_path):\n",
    "    X = []\n",
    "    y = []\n",
    "    valid_extensions = ['.jpg', '.jpeg', '.png']\n",
    "\n",
    "    img_folders = sorted(os.listdir(folder_path))\n",
    "\n",
    "    for folder_name in img_folders:\n",
    "        image_folder_path = os.path.join(folder_path,folder_name)\n",
    "        images_path = os.listdir(image_folder_path)\n",
    "        for image_path in images_path:\n",
    "            file_extension = os.path.splitext(image_path)[-1].lower()\n",
    "            if file_extension in valid_extensions:\n",
    "                image_path = os.path.join(image_folder_path, image_path)\n",
    "                image = Image.open(image_path)\n",
    "                image = image.resize((224,224)) \n",
    "                image = np.array(image)\n",
    "                # Or\n",
    "                # image = cv2.imread(image_path)\n",
    "                # image = image.resize((224,224))\n",
    "                # image = np.array(image)\n",
    "                X.append(image)\n",
    "                y.append(os.path.basename(folder_name))\n",
    "\n",
    "    return np.array(X), np.array(y)"
   ]
  },
  {
   "cell_type": "code",
   "execution_count": 3,
   "id": "8909c766-b6c0-4fc9-bd9b-e1ba94a11822",
   "metadata": {},
   "outputs": [],
   "source": [
    "img_folder_path = 'artifacts/17flowers/jpg'\n",
    "X, y = load_images(img_folder_path)"
   ]
  },
  {
   "cell_type": "code",
   "execution_count": 4,
   "id": "fcb3e414-6d14-410b-ad7d-b4543ab5e408",
   "metadata": {},
   "outputs": [
    {
     "data": {
      "text/plain": [
       "array(['Bluebell', 'Bluebell', 'Bluebell', ..., 'Violet', 'Violet',\n",
       "       'Violet'], dtype='<U10')"
      ]
     },
     "execution_count": 4,
     "metadata": {},
     "output_type": "execute_result"
    }
   ],
   "source": [
    "y"
   ]
  },
  {
   "cell_type": "code",
   "execution_count": 5,
   "id": "f0926ff5-7ee7-4537-8a03-a95a596f50ce",
   "metadata": {},
   "outputs": [
    {
     "data": {
      "text/plain": [
       "(1360, 224, 224, 3)"
      ]
     },
     "execution_count": 5,
     "metadata": {},
     "output_type": "execute_result"
    }
   ],
   "source": [
    "X.shape"
   ]
  },
  {
   "cell_type": "code",
   "execution_count": 6,
   "id": "8ec1a236-7fc9-49b3-b5e4-1dec04a327db",
   "metadata": {},
   "outputs": [
    {
     "data": {
      "text/plain": [
       "(1360,)"
      ]
     },
     "execution_count": 6,
     "metadata": {},
     "output_type": "execute_result"
    }
   ],
   "source": [
    "y.shape"
   ]
  },
  {
   "cell_type": "code",
   "execution_count": 7,
   "id": "f428cc5f-0b7e-420d-8ff3-ffe28cad27cf",
   "metadata": {},
   "outputs": [],
   "source": [
    "x_train = X.astype('float32') / 255.0"
   ]
  },
  {
   "cell_type": "code",
   "execution_count": 8,
   "id": "9ee919fc-e0a6-42a8-80b4-e85ab34739d5",
   "metadata": {},
   "outputs": [
    {
     "data": {
      "text/plain": [
       "(1360, 224, 224, 3)"
      ]
     },
     "execution_count": 8,
     "metadata": {},
     "output_type": "execute_result"
    }
   ],
   "source": [
    "x_train.shape"
   ]
  },
  {
   "cell_type": "code",
   "execution_count": 9,
   "id": "91f1734a-5489-4a68-b4c4-ec6945321fe0",
   "metadata": {},
   "outputs": [],
   "source": [
    "label_encoder = LabelEncoder()\n",
    "integer_labels = label_encoder.fit_transform(y)"
   ]
  },
  {
   "cell_type": "code",
   "execution_count": 10,
   "id": "37bb8369-7e28-4a90-bb95-70f2effd08a7",
   "metadata": {},
   "outputs": [
    {
     "data": {
      "text/plain": [
       "array([ 0,  0,  0, ..., 16, 16, 16])"
      ]
     },
     "execution_count": 10,
     "metadata": {},
     "output_type": "execute_result"
    }
   ],
   "source": [
    "integer_labels"
   ]
  },
  {
   "cell_type": "code",
   "execution_count": 11,
   "id": "d3a3386d-a785-42ee-b8c0-b6135603e7b6",
   "metadata": {},
   "outputs": [],
   "source": [
    "y_train = to_categorical(integer_labels, num_classes=17)"
   ]
  },
  {
   "cell_type": "code",
   "execution_count": 12,
   "id": "16429f37-7beb-40b9-a4a7-95631ff4ecb5",
   "metadata": {},
   "outputs": [
    {
     "data": {
      "text/plain": [
       "(1360, 17)"
      ]
     },
     "execution_count": 12,
     "metadata": {},
     "output_type": "execute_result"
    }
   ],
   "source": [
    "y_train.shape"
   ]
  },
  {
   "cell_type": "code",
   "execution_count": 13,
   "id": "908b9de0-4b6f-4c1c-a238-6fb69b76f746",
   "metadata": {},
   "outputs": [],
   "source": [
    "# Make Inception Block\n",
    "# https://www.analyticsvidhya.com/blog/2018/10/understanding-inception-network-from-scratch/\n",
    "\n",
    "def inception_block(x, filters):\n",
    "    tower_1 = Conv2D(filters[0], (1,1), padding='same', activation='relu')(x)\n",
    "    tower_1 = Conv2D(filters[1], (3,3), padding='same', activation='relu')(tower_1)\n",
    "\n",
    "    tower_2 = Conv2D(filters[2], (1,1), padding='same', activation='relu')(x)\n",
    "    tower_2 = Conv2D(filters[3], (5,5), padding='same', activation='relu')(tower_2)\n",
    "\n",
    "    tower_3 = MaxPool2D((3,3), padding='same', strides=(1,1))(x)\n",
    "    tower_3 = Conv2D(filters[4], (1,1), padding='same', activation='relu')(tower_3)\n",
    "    \n",
    "    output = concatenate([tower_1, tower_2, tower_3], axis=3)\n",
    "    return output\n",
    "    "
   ]
  },
  {
   "cell_type": "code",
   "execution_count": 14,
   "id": "826f8c52-97f6-4d56-a11f-7c1e5574ddaa",
   "metadata": {},
   "outputs": [],
   "source": [
    "# Make Inception Model\n",
    "def inception(input_shape, num_classes):\n",
    "    inputs = Input(shape=input_shape)\n",
    "\n",
    "    x = Conv2D(64, (3,3), padding='same', activation='relu')(inputs)\n",
    "    x = MaxPool2D((2,2))(x)\n",
    "\n",
    "    x = inception_block(x, filters=[64,96,128,16,32])\n",
    "    x = inception_block(x, filters=[128,128,192,32,96])\n",
    "    x = MaxPool2D((2,2))(x)\n",
    "\n",
    "    x = inception_block(x, filters=[192,96,208,16,48])\n",
    "    x = inception_block(x, filters=[160,112,224,24,64])\n",
    "    x = inception_block(x, filters=[128,128,256,24,64])\n",
    "    x = inception_block(x, filters=[112,144,288,32,64])\n",
    "    x = MaxPool2D((2,2))(x)\n",
    "\n",
    "    x = inception_block(x, filters=[256,160,320,32,128])\n",
    "    x = inception_block(x, filters=[256,160,320,32,128])\n",
    "    x = inception_block(x, filters=[384,192,384,48,128])\n",
    "\n",
    "    x = AveragePooling2D((4,4))(x)\n",
    "    x = Flatten()(x)\n",
    "    outputs = Dense(num_classes, activation='softmax')(x)\n",
    "\n",
    "    model = Model(inputs=inputs, outputs=outputs)\n",
    "    return model    "
   ]
  },
  {
   "cell_type": "code",
   "execution_count": 15,
   "id": "827fde6f-d3e5-4113-825f-bfd493ad2b5a",
   "metadata": {},
   "outputs": [],
   "source": [
    "# Create the Inception Model\n",
    "model = inception(input_shape=(224,224,3), num_classes=17)"
   ]
  },
  {
   "cell_type": "code",
   "execution_count": 16,
   "id": "091d1c3c-bb4a-4a47-b3bf-7039b4d2cf3b",
   "metadata": {},
   "outputs": [],
   "source": [
    "# Compile the Model\n",
    "model.compile(optimizer=Adam(learning_rate=0.001), loss='categorical_crossentropy', metrics=['accuracy'])"
   ]
  },
  {
   "cell_type": "code",
   "execution_count": 17,
   "id": "e517379f-e4da-44a6-8b53-454168e7ed98",
   "metadata": {},
   "outputs": [
    {
     "name": "stdout",
     "output_type": "stream",
     "text": [
      "Model: \"model\"\n",
      "__________________________________________________________________________________________________\n",
      " Layer (type)                Output Shape                 Param #   Connected to                  \n",
      "==================================================================================================\n",
      " input_1 (InputLayer)        [(None, 224, 224, 3)]        0         []                            \n",
      "                                                                                                  \n",
      " conv2d (Conv2D)             (None, 224, 224, 64)         1792      ['input_1[0][0]']             \n",
      "                                                                                                  \n",
      " max_pooling2d (MaxPooling2  (None, 112, 112, 64)         0         ['conv2d[0][0]']              \n",
      " D)                                                                                               \n",
      "                                                                                                  \n",
      " conv2d_1 (Conv2D)           (None, 112, 112, 64)         4160      ['max_pooling2d[0][0]']       \n",
      "                                                                                                  \n",
      " conv2d_3 (Conv2D)           (None, 112, 112, 128)        8320      ['max_pooling2d[0][0]']       \n",
      "                                                                                                  \n",
      " max_pooling2d_1 (MaxPoolin  (None, 112, 112, 64)         0         ['max_pooling2d[0][0]']       \n",
      " g2D)                                                                                             \n",
      "                                                                                                  \n",
      " conv2d_2 (Conv2D)           (None, 112, 112, 96)         55392     ['conv2d_1[0][0]']            \n",
      "                                                                                                  \n",
      " conv2d_4 (Conv2D)           (None, 112, 112, 16)         51216     ['conv2d_3[0][0]']            \n",
      "                                                                                                  \n",
      " conv2d_5 (Conv2D)           (None, 112, 112, 32)         2080      ['max_pooling2d_1[0][0]']     \n",
      "                                                                                                  \n",
      " concatenate (Concatenate)   (None, 112, 112, 144)        0         ['conv2d_2[0][0]',            \n",
      "                                                                     'conv2d_4[0][0]',            \n",
      "                                                                     'conv2d_5[0][0]']            \n",
      "                                                                                                  \n",
      " conv2d_6 (Conv2D)           (None, 112, 112, 128)        18560     ['concatenate[0][0]']         \n",
      "                                                                                                  \n",
      " conv2d_8 (Conv2D)           (None, 112, 112, 192)        27840     ['concatenate[0][0]']         \n",
      "                                                                                                  \n",
      " max_pooling2d_2 (MaxPoolin  (None, 112, 112, 144)        0         ['concatenate[0][0]']         \n",
      " g2D)                                                                                             \n",
      "                                                                                                  \n",
      " conv2d_7 (Conv2D)           (None, 112, 112, 128)        147584    ['conv2d_6[0][0]']            \n",
      "                                                                                                  \n",
      " conv2d_9 (Conv2D)           (None, 112, 112, 32)         153632    ['conv2d_8[0][0]']            \n",
      "                                                                                                  \n",
      " conv2d_10 (Conv2D)          (None, 112, 112, 96)         13920     ['max_pooling2d_2[0][0]']     \n",
      "                                                                                                  \n",
      " concatenate_1 (Concatenate  (None, 112, 112, 256)        0         ['conv2d_7[0][0]',            \n",
      " )                                                                   'conv2d_9[0][0]',            \n",
      "                                                                     'conv2d_10[0][0]']           \n",
      "                                                                                                  \n",
      " max_pooling2d_3 (MaxPoolin  (None, 56, 56, 256)          0         ['concatenate_1[0][0]']       \n",
      " g2D)                                                                                             \n",
      "                                                                                                  \n",
      " conv2d_11 (Conv2D)          (None, 56, 56, 192)          49344     ['max_pooling2d_3[0][0]']     \n",
      "                                                                                                  \n",
      " conv2d_13 (Conv2D)          (None, 56, 56, 208)          53456     ['max_pooling2d_3[0][0]']     \n",
      "                                                                                                  \n",
      " max_pooling2d_4 (MaxPoolin  (None, 56, 56, 256)          0         ['max_pooling2d_3[0][0]']     \n",
      " g2D)                                                                                             \n",
      "                                                                                                  \n",
      " conv2d_12 (Conv2D)          (None, 56, 56, 96)           165984    ['conv2d_11[0][0]']           \n",
      "                                                                                                  \n",
      " conv2d_14 (Conv2D)          (None, 56, 56, 16)           83216     ['conv2d_13[0][0]']           \n",
      "                                                                                                  \n",
      " conv2d_15 (Conv2D)          (None, 56, 56, 48)           12336     ['max_pooling2d_4[0][0]']     \n",
      "                                                                                                  \n",
      " concatenate_2 (Concatenate  (None, 56, 56, 160)          0         ['conv2d_12[0][0]',           \n",
      " )                                                                   'conv2d_14[0][0]',           \n",
      "                                                                     'conv2d_15[0][0]']           \n",
      "                                                                                                  \n",
      " conv2d_16 (Conv2D)          (None, 56, 56, 160)          25760     ['concatenate_2[0][0]']       \n",
      "                                                                                                  \n",
      " conv2d_18 (Conv2D)          (None, 56, 56, 224)          36064     ['concatenate_2[0][0]']       \n",
      "                                                                                                  \n",
      " max_pooling2d_5 (MaxPoolin  (None, 56, 56, 160)          0         ['concatenate_2[0][0]']       \n",
      " g2D)                                                                                             \n",
      "                                                                                                  \n",
      " conv2d_17 (Conv2D)          (None, 56, 56, 112)          161392    ['conv2d_16[0][0]']           \n",
      "                                                                                                  \n",
      " conv2d_19 (Conv2D)          (None, 56, 56, 24)           134424    ['conv2d_18[0][0]']           \n",
      "                                                                                                  \n",
      " conv2d_20 (Conv2D)          (None, 56, 56, 64)           10304     ['max_pooling2d_5[0][0]']     \n",
      "                                                                                                  \n",
      " concatenate_3 (Concatenate  (None, 56, 56, 200)          0         ['conv2d_17[0][0]',           \n",
      " )                                                                   'conv2d_19[0][0]',           \n",
      "                                                                     'conv2d_20[0][0]']           \n",
      "                                                                                                  \n",
      " conv2d_21 (Conv2D)          (None, 56, 56, 128)          25728     ['concatenate_3[0][0]']       \n",
      "                                                                                                  \n",
      " conv2d_23 (Conv2D)          (None, 56, 56, 256)          51456     ['concatenate_3[0][0]']       \n",
      "                                                                                                  \n",
      " max_pooling2d_6 (MaxPoolin  (None, 56, 56, 200)          0         ['concatenate_3[0][0]']       \n",
      " g2D)                                                                                             \n",
      "                                                                                                  \n",
      " conv2d_22 (Conv2D)          (None, 56, 56, 128)          147584    ['conv2d_21[0][0]']           \n",
      "                                                                                                  \n",
      " conv2d_24 (Conv2D)          (None, 56, 56, 24)           153624    ['conv2d_23[0][0]']           \n",
      "                                                                                                  \n",
      " conv2d_25 (Conv2D)          (None, 56, 56, 64)           12864     ['max_pooling2d_6[0][0]']     \n",
      "                                                                                                  \n",
      " concatenate_4 (Concatenate  (None, 56, 56, 216)          0         ['conv2d_22[0][0]',           \n",
      " )                                                                   'conv2d_24[0][0]',           \n",
      "                                                                     'conv2d_25[0][0]']           \n",
      "                                                                                                  \n",
      " conv2d_26 (Conv2D)          (None, 56, 56, 112)          24304     ['concatenate_4[0][0]']       \n",
      "                                                                                                  \n",
      " conv2d_28 (Conv2D)          (None, 56, 56, 288)          62496     ['concatenate_4[0][0]']       \n",
      "                                                                                                  \n",
      " max_pooling2d_7 (MaxPoolin  (None, 56, 56, 216)          0         ['concatenate_4[0][0]']       \n",
      " g2D)                                                                                             \n",
      "                                                                                                  \n",
      " conv2d_27 (Conv2D)          (None, 56, 56, 144)          145296    ['conv2d_26[0][0]']           \n",
      "                                                                                                  \n",
      " conv2d_29 (Conv2D)          (None, 56, 56, 32)           230432    ['conv2d_28[0][0]']           \n",
      "                                                                                                  \n",
      " conv2d_30 (Conv2D)          (None, 56, 56, 64)           13888     ['max_pooling2d_7[0][0]']     \n",
      "                                                                                                  \n",
      " concatenate_5 (Concatenate  (None, 56, 56, 240)          0         ['conv2d_27[0][0]',           \n",
      " )                                                                   'conv2d_29[0][0]',           \n",
      "                                                                     'conv2d_30[0][0]']           \n",
      "                                                                                                  \n",
      " max_pooling2d_8 (MaxPoolin  (None, 28, 28, 240)          0         ['concatenate_5[0][0]']       \n",
      " g2D)                                                                                             \n",
      "                                                                                                  \n",
      " conv2d_31 (Conv2D)          (None, 28, 28, 256)          61696     ['max_pooling2d_8[0][0]']     \n",
      "                                                                                                  \n",
      " conv2d_33 (Conv2D)          (None, 28, 28, 320)          77120     ['max_pooling2d_8[0][0]']     \n",
      "                                                                                                  \n",
      " max_pooling2d_9 (MaxPoolin  (None, 28, 28, 240)          0         ['max_pooling2d_8[0][0]']     \n",
      " g2D)                                                                                             \n",
      "                                                                                                  \n",
      " conv2d_32 (Conv2D)          (None, 28, 28, 160)          368800    ['conv2d_31[0][0]']           \n",
      "                                                                                                  \n",
      " conv2d_34 (Conv2D)          (None, 28, 28, 32)           256032    ['conv2d_33[0][0]']           \n",
      "                                                                                                  \n",
      " conv2d_35 (Conv2D)          (None, 28, 28, 128)          30848     ['max_pooling2d_9[0][0]']     \n",
      "                                                                                                  \n",
      " concatenate_6 (Concatenate  (None, 28, 28, 320)          0         ['conv2d_32[0][0]',           \n",
      " )                                                                   'conv2d_34[0][0]',           \n",
      "                                                                     'conv2d_35[0][0]']           \n",
      "                                                                                                  \n",
      " conv2d_36 (Conv2D)          (None, 28, 28, 256)          82176     ['concatenate_6[0][0]']       \n",
      "                                                                                                  \n",
      " conv2d_38 (Conv2D)          (None, 28, 28, 320)          102720    ['concatenate_6[0][0]']       \n",
      "                                                                                                  \n",
      " max_pooling2d_10 (MaxPooli  (None, 28, 28, 320)          0         ['concatenate_6[0][0]']       \n",
      " ng2D)                                                                                            \n",
      "                                                                                                  \n",
      " conv2d_37 (Conv2D)          (None, 28, 28, 160)          368800    ['conv2d_36[0][0]']           \n",
      "                                                                                                  \n",
      " conv2d_39 (Conv2D)          (None, 28, 28, 32)           256032    ['conv2d_38[0][0]']           \n",
      "                                                                                                  \n",
      " conv2d_40 (Conv2D)          (None, 28, 28, 128)          41088     ['max_pooling2d_10[0][0]']    \n",
      "                                                                                                  \n",
      " concatenate_7 (Concatenate  (None, 28, 28, 320)          0         ['conv2d_37[0][0]',           \n",
      " )                                                                   'conv2d_39[0][0]',           \n",
      "                                                                     'conv2d_40[0][0]']           \n",
      "                                                                                                  \n",
      " conv2d_41 (Conv2D)          (None, 28, 28, 384)          123264    ['concatenate_7[0][0]']       \n",
      "                                                                                                  \n",
      " conv2d_43 (Conv2D)          (None, 28, 28, 384)          123264    ['concatenate_7[0][0]']       \n",
      "                                                                                                  \n",
      " max_pooling2d_11 (MaxPooli  (None, 28, 28, 320)          0         ['concatenate_7[0][0]']       \n",
      " ng2D)                                                                                            \n",
      "                                                                                                  \n",
      " conv2d_42 (Conv2D)          (None, 28, 28, 192)          663744    ['conv2d_41[0][0]']           \n",
      "                                                                                                  \n",
      " conv2d_44 (Conv2D)          (None, 28, 28, 48)           460848    ['conv2d_43[0][0]']           \n",
      "                                                                                                  \n",
      " conv2d_45 (Conv2D)          (None, 28, 28, 128)          41088     ['max_pooling2d_11[0][0]']    \n",
      "                                                                                                  \n",
      " concatenate_8 (Concatenate  (None, 28, 28, 368)          0         ['conv2d_42[0][0]',           \n",
      " )                                                                   'conv2d_44[0][0]',           \n",
      "                                                                     'conv2d_45[0][0]']           \n",
      "                                                                                                  \n",
      " average_pooling2d (Average  (None, 7, 7, 368)            0         ['concatenate_8[0][0]']       \n",
      " Pooling2D)                                                                                       \n",
      "                                                                                                  \n",
      " flatten (Flatten)           (None, 18032)                0         ['average_pooling2d[0][0]']   \n",
      "                                                                                                  \n",
      " dense (Dense)               (None, 17)                   306561    ['flatten[0][0]']             \n",
      "                                                                                                  \n",
      "==================================================================================================\n",
      "Total params: 5448529 (20.78 MB)\n",
      "Trainable params: 5448529 (20.78 MB)\n",
      "Non-trainable params: 0 (0.00 Byte)\n",
      "__________________________________________________________________________________________________\n"
     ]
    }
   ],
   "source": [
    "# Print the Summery of the Model\n",
    "model.summary()"
   ]
  },
  {
   "cell_type": "code",
   "execution_count": null,
   "id": "69640ee1-cd84-420a-b210-643b5545ab04",
   "metadata": {},
   "outputs": [
    {
     "name": "stdout",
     "output_type": "stream",
     "text": [
      "Epoch 1/5\n",
      "28/28 [==============================] - 815s 29s/step - loss: 2.7009 - accuracy: 0.0818 - val_loss: 22.8555 - val_accuracy: 0.0000e+00\n",
      "Epoch 2/5\n",
      "28/28 [==============================] - 787s 28s/step - loss: 2.6948 - accuracy: 0.0800 - val_loss: 5.7992 - val_accuracy: 0.0000e+00\n",
      "Epoch 3/5\n"
     ]
    }
   ],
   "source": [
    "# Train the model\n",
    "history = model.fit(x_train, y_train, batch_size=40, epochs=5, verbose=1, validation_split=0.2, shuffle=True)"
   ]
  },
  {
   "cell_type": "code",
   "execution_count": null,
   "id": "14af6b1c-24fb-4987-80dc-86a10f7ceedc",
   "metadata": {},
   "outputs": [],
   "source": []
  }
 ],
 "metadata": {
  "kernelspec": {
   "display_name": "Python 3 (ipykernel)",
   "language": "python",
   "name": "python3"
  },
  "language_info": {
   "codemirror_mode": {
    "name": "ipython",
    "version": 3
   },
   "file_extension": ".py",
   "mimetype": "text/x-python",
   "name": "python",
   "nbconvert_exporter": "python",
   "pygments_lexer": "ipython3",
   "version": "3.10.12"
  }
 },
 "nbformat": 4,
 "nbformat_minor": 5
}
