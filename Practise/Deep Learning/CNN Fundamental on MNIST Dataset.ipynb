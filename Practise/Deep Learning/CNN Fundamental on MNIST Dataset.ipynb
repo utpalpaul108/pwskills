{
 "cells": [
  {
   "cell_type": "markdown",
   "id": "da5dc287-0d17-4614-9b6c-801578902279",
   "metadata": {},
   "source": [
    "## CNN Fundamental on MNIST Dataset"
   ]
  },
  {
   "cell_type": "code",
   "execution_count": 30,
   "id": "e86dfe3d-1f7b-4058-9e4e-3b9c29d4f574",
   "metadata": {
    "tags": []
   },
   "outputs": [],
   "source": [
    "import pandas as pd\n",
    "import numpy as np\n",
    "import tensorflow as tf\n",
    "from sklearn.model_selection import train_test_split\n",
    "import matplotlib.pyplot as plt\n",
    "from tensorflow.keras.layers import Flatten, Dense, Conv2D, MaxPool2D\n",
    "from tensorflow.keras.callbacks import ModelCheckpoint\n",
    "from tensorflow.keras.models import load_model\n",
    "import cv2"
   ]
  },
  {
   "cell_type": "code",
   "execution_count": 3,
   "id": "2cc6526a-f76d-4e07-9de4-21c7431f686d",
   "metadata": {
    "tags": []
   },
   "outputs": [],
   "source": [
    "# Load MNIST Dataset From Keras Datasets\n",
    "mnist = tf.keras.datasets.mnist\n",
    "(train_images, train_labels), (test_images, test_labels) = mnist.load_data()"
   ]
  },
  {
   "cell_type": "code",
   "execution_count": 4,
   "id": "7829bff9-9d04-41ff-b981-f8a8bb2743b9",
   "metadata": {
    "tags": []
   },
   "outputs": [
    {
     "data": {
      "text/plain": [
       "(60000, 28, 28)"
      ]
     },
     "execution_count": 4,
     "metadata": {},
     "output_type": "execute_result"
    }
   ],
   "source": [
    "train_images.shape"
   ]
  },
  {
   "cell_type": "code",
   "execution_count": 5,
   "id": "f98f297d-1b08-47e5-8ca0-39d7d53b55b2",
   "metadata": {},
   "outputs": [],
   "source": [
    "# Scaling the Image\n",
    "train_images = train_images.astype('float32')/255.0\n",
    "test_images = test_images.astype('float32')/255.0"
   ]
  },
  {
   "cell_type": "code",
   "execution_count": 6,
   "id": "015bbd5c-b536-4f6c-b0b4-559de07be3b2",
   "metadata": {
    "tags": []
   },
   "outputs": [],
   "source": [
    "# Reshape the Data\n",
    "train_images = np.expand_dims(train_images,axis=-1)\n",
    "test_images = np.expand_dims(test_images,axis=-1)\n",
    "train_labels = tf.keras.utils.to_categorical(train_labels, 10)\n",
    "test_labels = tf.keras.utils.to_categorical(test_labels, 10)"
   ]
  },
  {
   "cell_type": "code",
   "execution_count": 7,
   "id": "70eb6b9e-6a43-4563-a8e1-d199003d3f49",
   "metadata": {
    "tags": []
   },
   "outputs": [
    {
     "data": {
      "text/plain": [
       "((60000, 28, 28, 1), (10000, 28, 28, 1))"
      ]
     },
     "execution_count": 7,
     "metadata": {},
     "output_type": "execute_result"
    }
   ],
   "source": [
    "train_images.shape, test_images.shape"
   ]
  },
  {
   "cell_type": "code",
   "execution_count": 8,
   "id": "aab21e27-6248-408a-b8fb-56967b3a0117",
   "metadata": {
    "tags": []
   },
   "outputs": [
    {
     "data": {
      "text/plain": [
       "(60000, 10)"
      ]
     },
     "execution_count": 8,
     "metadata": {},
     "output_type": "execute_result"
    }
   ],
   "source": [
    "train_labels.shape"
   ]
  },
  {
   "cell_type": "code",
   "execution_count": 9,
   "id": "6cd9ab3f-aa62-4723-bc3f-004c2e36271c",
   "metadata": {
    "tags": []
   },
   "outputs": [],
   "source": [
    "# Split the Train data into Train and Validation\n",
    "train_images, validation_images, train_labels, validation_labels = train_test_split(\n",
    "    train_images, train_labels, test_size=0.20, random_state=42\n",
    ")"
   ]
  },
  {
   "cell_type": "code",
   "execution_count": 10,
   "id": "16511d75-b2c7-4ba9-a82d-733e8e1614a6",
   "metadata": {
    "tags": []
   },
   "outputs": [
    {
     "data": {
      "text/plain": [
       "((48000, 28, 28, 1), (48000, 10))"
      ]
     },
     "execution_count": 10,
     "metadata": {},
     "output_type": "execute_result"
    }
   ],
   "source": [
    "train_images.shape, train_labels.shape"
   ]
  },
  {
   "cell_type": "code",
   "execution_count": 11,
   "id": "fd3db423-025f-4770-a931-27051dac8bab",
   "metadata": {
    "tags": []
   },
   "outputs": [
    {
     "data": {
      "text/plain": [
       "((12000, 28, 28, 1), (12000, 10))"
      ]
     },
     "execution_count": 11,
     "metadata": {},
     "output_type": "execute_result"
    }
   ],
   "source": [
    "validation_images.shape, validation_labels.shape"
   ]
  },
  {
   "cell_type": "code",
   "execution_count": null,
   "id": "13b3afb8-2313-434b-ba9f-9bf5e23bd79e",
   "metadata": {},
   "outputs": [],
   "source": []
  },
  {
   "cell_type": "code",
   "execution_count": 12,
   "id": "b5f18648-8abb-41c5-9a3e-0afd3cbc53eb",
   "metadata": {
    "tags": []
   },
   "outputs": [
    {
     "data": {
      "image/png": "[encoded data removed]",
      "text/plain": [
       "<Figure size 640x480 with 1 Axes>"
      ]
     },
     "metadata": {},
     "output_type": "display_data"
    }
   ],
   "source": [
    "# Show a single Image\n",
    "plt.imshow(train_images[0], cmap='binary')\n",
    "plt.show()"
   ]
  },
  {
   "cell_type": "code",
   "execution_count": null,
   "id": "500205d3-239c-4c90-89c3-d7c6b87ad26d",
   "metadata": {},
   "outputs": [],
   "source": []
  },
  {
   "cell_type": "code",
   "execution_count": 13,
   "id": "e9ac2f21-64c9-4530-b667-a47f97dd21f4",
   "metadata": {
    "tags": []
   },
   "outputs": [],
   "source": [
    "# Make the Convoulation Layers\n",
    "layers = [\n",
    "    tf.keras.layers.Conv2D(32, (3,3), input_shape=(28,28,1), activation='relu', padding='same', name='convLayer01'),\n",
    "    tf.keras.layers.MaxPool2D((2,2), name='MaxPoolingLayer01'),\n",
    "    tf.keras.layers.Conv2D(64, (3,3), activation='relu', padding='same', name='convLayer02'),\n",
    "    tf.keras.layers.MaxPool2D((2,2), name='MaxPoolingLayer02'),\n",
    "    tf.keras.layers.Flatten(),\n",
    "    tf.keras.layers.Dense(64, activation='relu', name='denseLayer01'),\n",
    "    tf.keras.layers.Dense(10, activation='softmax', name='outputLayer')\n",
    "]\n",
    "\n",
    "model_clf = tf.keras.models.Sequential(layers)"
   ]
  },
  {
   "cell_type": "code",
   "execution_count": 14,
   "id": "58631c9d-374f-4031-9567-7eeee0c7d153",
   "metadata": {
    "tags": []
   },
   "outputs": [
    {
     "data": {
      "text/plain": [
       "[<keras.layers.convolutional.conv2d.Conv2D at 0x7f5a1adb09a0>,\n",
       " <keras.layers.pooling.max_pooling2d.MaxPooling2D at 0x7f5a1adf8d30>,\n",
       " <keras.layers.convolutional.conv2d.Conv2D at 0x7f5a1adf9810>,\n",
       " <keras.layers.pooling.max_pooling2d.MaxPooling2D at 0x7f5a1adfa020>,\n",
       " <keras.layers.reshaping.flatten.Flatten at 0x7f5a1adf9cc0>,\n",
       " <keras.layers.core.dense.Dense at 0x7f5a1adf8a00>,\n",
       " <keras.layers.core.dense.Dense at 0x7f5a1adfa110>]"
      ]
     },
     "execution_count": 14,
     "metadata": {},
     "output_type": "execute_result"
    }
   ],
   "source": [
    "model_clf.layers"
   ]
  },
  {
   "cell_type": "code",
   "execution_count": 15,
   "id": "03c14abe-e1c0-4d26-8f74-07e5cab3300f",
   "metadata": {
    "tags": []
   },
   "outputs": [
    {
     "name": "stdout",
     "output_type": "stream",
     "text": [
      "Model: \"sequential\"\n",
      "_________________________________________________________________\n",
      " Layer (type)                Output Shape              Param #   \n",
      "=================================================================\n",
      " convLayer01 (Conv2D)        (None, 28, 28, 32)        320       \n",
      "                                                                 \n",
      " MaxPoolingLayer01 (MaxPooli  (None, 14, 14, 32)       0         \n",
      " ng2D)                                                           \n",
      "                                                                 \n",
      " convLayer02 (Conv2D)        (None, 14, 14, 64)        18496     \n",
      "                                                                 \n",
      " MaxPoolingLayer02 (MaxPooli  (None, 7, 7, 64)         0         \n",
      " ng2D)                                                           \n",
      "                                                                 \n",
      " flatten (Flatten)           (None, 3136)              0         \n",
      "                                                                 \n",
      " denseLayer01 (Dense)        (None, 64)                200768    \n",
      "                                                                 \n",
      " outputLayer (Dense)         (None, 10)                650       \n",
      "                                                                 \n",
      "=================================================================\n",
      "Total params: 220,234\n",
      "Trainable params: 220,234\n",
      "Non-trainable params: 0\n",
      "_________________________________________________________________\n"
     ]
    }
   ],
   "source": [
    "model_clf.summary()"
   ]
  },
  {
   "cell_type": "code",
   "execution_count": null,
   "id": "ef7f023c-ba8a-4ccb-970f-b2c4a2744627",
   "metadata": {},
   "outputs": [],
   "source": []
  },
  {
   "cell_type": "code",
   "execution_count": 16,
   "id": "6cf50104-6023-4d11-af9f-32a1b7e953b4",
   "metadata": {
    "tags": []
   },
   "outputs": [],
   "source": [
    "# Compile the Model\n",
    "loss_function = 'categorical_crossentropy'\n",
    "optimizer = 'adam'\n",
    "metrics = ['accuracy']\n",
    "\n",
    "model_clf.compile(loss=loss_function, optimizer=optimizer, metrics=metrics)"
   ]
  },
  {
   "cell_type": "code",
   "execution_count": 17,
   "id": "02e52d0a-e3f1-4a36-a008-e0a3c168af60",
   "metadata": {
    "tags": []
   },
   "outputs": [
    {
     "name": "stdout",
     "output_type": "stream",
     "text": [
      "Epoch 1/10\n",
      "480/480 [==============================] - 15s 31ms/step - loss: 0.2199 - accuracy: 0.9353 - val_loss: 0.0806 - val_accuracy: 0.9753\n",
      "Epoch 2/10\n",
      "480/480 [==============================] - 15s 31ms/step - loss: 0.0591 - accuracy: 0.9820 - val_loss: 0.0483 - val_accuracy: 0.9861\n",
      "Epoch 3/10\n",
      "480/480 [==============================] - 15s 31ms/step - loss: 0.0423 - accuracy: 0.9866 - val_loss: 0.0470 - val_accuracy: 0.9863\n",
      "Epoch 4/10\n",
      "480/480 [==============================] - 14s 30ms/step - loss: 0.0323 - accuracy: 0.9895 - val_loss: 0.0372 - val_accuracy: 0.9886\n",
      "Epoch 5/10\n",
      "480/480 [==============================] - 15s 30ms/step - loss: 0.0241 - accuracy: 0.9924 - val_loss: 0.0385 - val_accuracy: 0.9887\n",
      "Epoch 6/10\n",
      "480/480 [==============================] - 20s 41ms/step - loss: 0.0195 - accuracy: 0.9936 - val_loss: 0.0465 - val_accuracy: 0.9862\n",
      "Epoch 7/10\n",
      "480/480 [==============================] - 15s 32ms/step - loss: 0.0160 - accuracy: 0.9946 - val_loss: 0.0392 - val_accuracy: 0.9891\n",
      "Epoch 8/10\n",
      "480/480 [==============================] - 15s 31ms/step - loss: 0.0130 - accuracy: 0.9958 - val_loss: 0.0401 - val_accuracy: 0.9893\n",
      "Epoch 9/10\n",
      "480/480 [==============================] - 15s 31ms/step - loss: 0.0097 - accuracy: 0.9969 - val_loss: 0.0400 - val_accuracy: 0.9891\n",
      "Epoch 10/10\n",
      "480/480 [==============================] - 15s 31ms/step - loss: 0.0089 - accuracy: 0.9968 - val_loss: 0.0565 - val_accuracy: 0.9863\n"
     ]
    }
   ],
   "source": [
    "# Train the Model\n",
    "validation_set = (validation_images, validation_labels)\n",
    "checkpoint = ModelCheckpoint(\n",
    "    filepath='artifacts/cnn_mnist.h5',\n",
    "    save_weights_only=False,\n",
    "    save_best_only=True\n",
    ")\n",
    "history = model_clf.fit(train_images, train_labels, epochs=10, batch_size=100, validation_data=validation_set, callbacks=[checkpoint], verbose=1)"
   ]
  },
  {
   "cell_type": "code",
   "execution_count": null,
   "id": "a946e8e9-d494-457a-a971-ec3409752f35",
   "metadata": {
    "tags": []
   },
   "outputs": [],
   "source": []
  },
  {
   "cell_type": "code",
   "execution_count": 18,
   "id": "ac531c0c-5059-436c-87bf-4d5cf63dc2b7",
   "metadata": {
    "tags": []
   },
   "outputs": [
    {
     "data": {
      "text/plain": [
       "{'verbose': 1, 'epochs': 10, 'steps': 480}"
      ]
     },
     "execution_count": 18,
     "metadata": {},
     "output_type": "execute_result"
    }
   ],
   "source": [
    "# Params of the Trained Model\n",
    "history.params"
   ]
  },
  {
   "cell_type": "code",
   "execution_count": 19,
   "id": "59b63cff-0401-4ada-aea1-2870dbc9092e",
   "metadata": {
    "tags": []
   },
   "outputs": [
    {
     "data": {
      "text/html": [
       "<div>\n",
       "<style scoped>\n",
       "    .dataframe tbody tr th:only-of-type {\n",
       "        vertical-align: middle;\n",
       "    }\n",
       "\n",
       "    .dataframe tbody tr th {\n",
       "        vertical-align: top;\n",
       "    }\n",
       "\n",
       "    .dataframe thead th {\n",
       "        text-align: right;\n",
       "    }\n",
       "</style>\n",
       "<table border=\"1\" class=\"dataframe\">\n",
       "  <thead>\n",
       "    <tr style=\"text-align: right;\">\n",
       "      <th></th>\n",
       "      <th>loss</th>\n",
       "      <th>accuracy</th>\n",
       "      <th>val_loss</th>\n",
       "      <th>val_accuracy</th>\n",
       "    </tr>\n",
       "  </thead>\n",
       "  <tbody>\n",
       "    <tr>\n",
       "      <th>0</th>\n",
       "      <td>0.219859</td>\n",
       "      <td>0.935313</td>\n",
       "      <td>0.080569</td>\n",
       "      <td>0.975250</td>\n",
       "    </tr>\n",
       "    <tr>\n",
       "      <th>1</th>\n",
       "      <td>0.059114</td>\n",
       "      <td>0.981958</td>\n",
       "      <td>0.048349</td>\n",
       "      <td>0.986083</td>\n",
       "    </tr>\n",
       "    <tr>\n",
       "      <th>2</th>\n",
       "      <td>0.042348</td>\n",
       "      <td>0.986646</td>\n",
       "      <td>0.046964</td>\n",
       "      <td>0.986333</td>\n",
       "    </tr>\n",
       "    <tr>\n",
       "      <th>3</th>\n",
       "      <td>0.032310</td>\n",
       "      <td>0.989542</td>\n",
       "      <td>0.037202</td>\n",
       "      <td>0.988583</td>\n",
       "    </tr>\n",
       "    <tr>\n",
       "      <th>4</th>\n",
       "      <td>0.024103</td>\n",
       "      <td>0.992417</td>\n",
       "      <td>0.038496</td>\n",
       "      <td>0.988667</td>\n",
       "    </tr>\n",
       "    <tr>\n",
       "      <th>5</th>\n",
       "      <td>0.019508</td>\n",
       "      <td>0.993646</td>\n",
       "      <td>0.046495</td>\n",
       "      <td>0.986250</td>\n",
       "    </tr>\n",
       "    <tr>\n",
       "      <th>6</th>\n",
       "      <td>0.016039</td>\n",
       "      <td>0.994646</td>\n",
       "      <td>0.039152</td>\n",
       "      <td>0.989083</td>\n",
       "    </tr>\n",
       "    <tr>\n",
       "      <th>7</th>\n",
       "      <td>0.012983</td>\n",
       "      <td>0.995792</td>\n",
       "      <td>0.040141</td>\n",
       "      <td>0.989250</td>\n",
       "    </tr>\n",
       "    <tr>\n",
       "      <th>8</th>\n",
       "      <td>0.009737</td>\n",
       "      <td>0.996896</td>\n",
       "      <td>0.040046</td>\n",
       "      <td>0.989083</td>\n",
       "    </tr>\n",
       "    <tr>\n",
       "      <th>9</th>\n",
       "      <td>0.008863</td>\n",
       "      <td>0.996792</td>\n",
       "      <td>0.056542</td>\n",
       "      <td>0.986333</td>\n",
       "    </tr>\n",
       "  </tbody>\n",
       "</table>\n",
       "</div>"
      ],
      "text/plain": [
       "       loss  accuracy  val_loss  val_accuracy\n",
       "0  0.219859  0.935313  0.080569      0.975250\n",
       "1  0.059114  0.981958  0.048349      0.986083\n",
       "2  0.042348  0.986646  0.046964      0.986333\n",
       "3  0.032310  0.989542  0.037202      0.988583\n",
       "4  0.024103  0.992417  0.038496      0.988667\n",
       "5  0.019508  0.993646  0.046495      0.986250\n",
       "6  0.016039  0.994646  0.039152      0.989083\n",
       "7  0.012983  0.995792  0.040141      0.989250\n",
       "8  0.009737  0.996896  0.040046      0.989083\n",
       "9  0.008863  0.996792  0.056542      0.986333"
      ]
     },
     "execution_count": 19,
     "metadata": {},
     "output_type": "execute_result"
    }
   ],
   "source": [
    "# History of the Model Training\n",
    "pd.DataFrame(history.history)"
   ]
  },
  {
   "cell_type": "code",
   "execution_count": 20,
   "id": "10996577-ee95-4818-9096-f4b00043fa92",
   "metadata": {
    "tags": []
   },
   "outputs": [
    {
     "data": {
      "image/png": "[encoded data removed]",
      "text/plain": [
       "<Figure size 1500x600 with 1 Axes>"
      ]
     },
     "metadata": {},
     "output_type": "display_data"
    }
   ],
   "source": [
    "# Plot Loss and Accuracy From the History\n",
    "plt.figure(figsize=(15,6))\n",
    "plt.plot(pd.DataFrame(history.history))\n",
    "plt.xlabel(\"No Of Epochs\")\n",
    "plt.xticks(fontsize=12)\n",
    "plt.yticks(fontsize=12)\n",
    "plt.legend(['Loss','Accuracy','Validation Loss','Validation Accuracy'])\n",
    "plt.show()"
   ]
  },
  {
   "cell_type": "code",
   "execution_count": null,
   "id": "d5eb9722-d0c5-4df7-8179-c6c91c115b63",
   "metadata": {},
   "outputs": [],
   "source": []
  },
  {
   "cell_type": "code",
   "execution_count": 21,
   "id": "575d73b9-ce26-4441-83c6-a0ca783ac1f1",
   "metadata": {
    "tags": []
   },
   "outputs": [
    {
     "name": "stdout",
     "output_type": "stream",
     "text": [
      "313/313 [==============================] - 1s 3ms/step - loss: 0.0458 - accuracy: 0.9871\n"
     ]
    },
    {
     "data": {
      "text/plain": [
       "[0.045800261199474335, 0.9871000051498413]"
      ]
     },
     "execution_count": 21,
     "metadata": {},
     "output_type": "execute_result"
    }
   ],
   "source": [
    "# Evaluate the Model\n",
    "model_clf.evaluate(test_images, test_labels)"
   ]
  },
  {
   "cell_type": "code",
   "execution_count": 22,
   "id": "eae8c135-841b-4b3f-af49-78dedc4e2972",
   "metadata": {},
   "outputs": [
    {
     "data": {
      "text/plain": [
       "(28, 28, 1)"
      ]
     },
     "execution_count": 22,
     "metadata": {},
     "output_type": "execute_result"
    }
   ],
   "source": [
    "x_actual = train_images[4]\n",
    "x_actual.shape"
   ]
  },
  {
   "cell_type": "code",
   "execution_count": 23,
   "id": "a429361d-dc4d-49a9-8e46-d5e29c732b2d",
   "metadata": {
    "tags": []
   },
   "outputs": [
    {
     "data": {
      "text/plain": [
       "(1, 28, 28, 1)"
      ]
     },
     "execution_count": 23,
     "metadata": {},
     "output_type": "execute_result"
    }
   ],
   "source": [
    "np.expand_dims(x_actual, axis=0).shape"
   ]
  },
  {
   "cell_type": "code",
   "execution_count": 24,
   "id": "798fda2b-6d2b-46a6-a1dd-3160c9025697",
   "metadata": {
    "tags": []
   },
   "outputs": [
    {
     "name": "stdout",
     "output_type": "stream",
     "text": [
      "1/1 [==============================] - 0s 62ms/step\n"
     ]
    },
    {
     "data": {
      "text/plain": [
       "8"
      ]
     },
     "execution_count": 24,
     "metadata": {},
     "output_type": "execute_result"
    }
   ],
   "source": [
    "# Predict the Model\n",
    "x_actual = train_images[7]\n",
    "y_actual = train_labels[7]\n",
    "y_predict = model_clf.predict(np.expand_dims(x_actual, axis=0))\n",
    "np.argmax(y_predict)"
   ]
  },
  {
   "cell_type": "code",
   "execution_count": 25,
   "id": "c88f2d7c-3f63-4792-9b58-195115feac79",
   "metadata": {
    "tags": []
   },
   "outputs": [
    {
     "data": {
      "text/plain": [
       "8"
      ]
     },
     "execution_count": 25,
     "metadata": {},
     "output_type": "execute_result"
    }
   ],
   "source": [
    "np.argmax(y_actual)"
   ]
  },
  {
   "cell_type": "code",
   "execution_count": 26,
   "id": "ad3827ef-af30-40d0-8f24-6dfa1e5278a2",
   "metadata": {
    "tags": []
   },
   "outputs": [
    {
     "data": {
      "image/png": "[encoded data removed]",
      "text/plain": [
       "<Figure size 640x480 with 1 Axes>"
      ]
     },
     "metadata": {},
     "output_type": "display_data"
    }
   ],
   "source": [
    "plt.imshow(x_actual, cmap='binary')\n",
    "plt.show()"
   ]
  },
  {
   "cell_type": "code",
   "execution_count": null,
   "id": "3b0f539e-138a-419d-832d-1cb713456ea4",
   "metadata": {},
   "outputs": [],
   "source": []
  },
  {
   "cell_type": "code",
   "execution_count": null,
   "id": "5164fdfc-2d4d-4dbc-802e-1b5377aff393",
   "metadata": {},
   "outputs": [],
   "source": []
  },
  {
   "cell_type": "code",
   "execution_count": 28,
   "id": "b13e9a46-2255-4460-a750-e394f0899961",
   "metadata": {
    "tags": []
   },
   "outputs": [],
   "source": [
    "# Load the Model\n",
    "model = load_model('artifacts/cnn_mnist.h5')"
   ]
  },
  {
   "cell_type": "code",
   "execution_count": 29,
   "id": "b2432d19-2d7a-4e0f-9da5-57ac5ab4d569",
   "metadata": {
    "tags": []
   },
   "outputs": [
    {
     "name": "stdout",
     "output_type": "stream",
     "text": [
      "313/313 [==============================] - 1s 3ms/step - loss: 0.0297 - accuracy: 0.9902\n"
     ]
    },
    {
     "data": {
      "text/plain": [
       "[0.029696399345993996, 0.9901999831199646]"
      ]
     },
     "execution_count": 29,
     "metadata": {},
     "output_type": "execute_result"
    }
   ],
   "source": [
    "model.evaluate(test_images, test_labels)"
   ]
  },
  {
   "cell_type": "code",
   "execution_count": 65,
   "id": "0262989f-2185-45f1-bab1-0eb620f6f4ff",
   "metadata": {
    "tags": []
   },
   "outputs": [],
   "source": [
    "input_image = cv2.imread('artifacts/hw_number.png')\n",
    "input_image = cv2.cvtColor(input_image, cv2.COLOR_RGB2GRAY)"
   ]
  },
  {
   "cell_type": "code",
   "execution_count": 66,
   "id": "b815d2b4-194d-4dad-b7b1-c270d7667422",
   "metadata": {
    "tags": []
   },
   "outputs": [
    {
     "data": {
      "image/png": "[encoded data removed]",
      "text/plain": [
       "<Figure size 640x480 with 1 Axes>"
      ]
     },
     "metadata": {},
     "output_type": "display_data"
    }
   ],
   "source": [
    "plt.imshow(input_image, cmap='gray')\n",
    "plt.show()"
   ]
  },
  {
   "cell_type": "code",
   "execution_count": 67,
   "id": "71769d46-aa1f-496b-baa1-388e6663588f",
   "metadata": {
    "tags": []
   },
   "outputs": [
    {
     "data": {
      "text/plain": [
       "(1, 28, 28)"
      ]
     },
     "execution_count": 67,
     "metadata": {},
     "output_type": "execute_result"
    }
   ],
   "source": [
    "input_image = cv2.resize(input_image, (28,28))\n",
    "input_image = np.expand_dims(input_image, axis=0)\n",
    "input_image.shape"
   ]
  },
  {
   "cell_type": "code",
   "execution_count": 70,
   "id": "15f6b5d2-a155-4013-907d-9316bf14bf2e",
   "metadata": {
    "tags": []
   },
   "outputs": [
    {
     "name": "stdout",
     "output_type": "stream",
     "text": [
      "1/1 [==============================] - 0s 15ms/step\n"
     ]
    },
    {
     "data": {
      "text/plain": [
       "3"
      ]
     },
     "execution_count": 70,
     "metadata": {},
     "output_type": "execute_result"
    }
   ],
   "source": [
    "# Predict the Number from the image\n",
    "y_pred = model.predict(input_image)\n",
    "np.argmax(y_pred)"
   ]
  }
 ],
 "metadata": {
  "kernelspec": {
   "display_name": "Python 3 (ipykernel)",
   "language": "python",
   "name": "python3"
  },
  "language_info": {
   "codemirror_mode": {
    "name": "ipython",
    "version": 3
   },
   "file_extension": ".py",
   "mimetype": "text/x-python",
   "name": "python",
   "nbconvert_exporter": "python",
   "pygments_lexer": "ipython3",
   "version": "3.10.12"
  }
 },
 "nbformat": 4,
 "nbformat_minor": 5
}
