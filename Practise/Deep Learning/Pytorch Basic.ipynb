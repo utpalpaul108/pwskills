{
 "cells": [
  {
   "cell_type": "markdown",
   "id": "e12b090e-4386-4411-82ce-9e16a884dbbf",
   "metadata": {},
   "source": [
    "## Pytorch Basic"
   ]
  },
  {
   "cell_type": "code",
   "execution_count": 2,
   "id": "14755db7-d1ca-4f9f-be11-43431e63981d",
   "metadata": {
    "tags": []
   },
   "outputs": [],
   "source": [
    "import torch"
   ]
  },
  {
   "cell_type": "code",
   "execution_count": 3,
   "id": "f65f248f-be57-41c9-a6a8-ac7d9da4974f",
   "metadata": {
    "tags": []
   },
   "outputs": [
    {
     "data": {
      "text/plain": [
       "'2.0.1+cpu'"
      ]
     },
     "execution_count": 3,
     "metadata": {},
     "output_type": "execute_result"
    }
   ],
   "source": [
    "torch.__version__"
   ]
  },
  {
   "cell_type": "code",
   "execution_count": null,
   "id": "481cae47-9b29-4298-abc1-dc32bb1bb32a",
   "metadata": {},
   "outputs": [],
   "source": []
  },
  {
   "cell_type": "markdown",
   "id": "6b56338f-32da-4323-a353-80a4c8cedd29",
   "metadata": {},
   "source": [
    "### Create a Tensor with a scaler value"
   ]
  },
  {
   "cell_type": "code",
   "execution_count": 9,
   "id": "d30a5350-4537-40c7-a169-7838bbbf7987",
   "metadata": {
    "tags": []
   },
   "outputs": [
    {
     "data": {
      "text/plain": [
       "tensor(2, dtype=torch.int32)"
      ]
     },
     "execution_count": 9,
     "metadata": {},
     "output_type": "execute_result"
    }
   ],
   "source": [
    "t1 = torch.tensor(2, dtype=torch.int32, )\n",
    "t1"
   ]
  },
  {
   "cell_type": "code",
   "execution_count": 10,
   "id": "522203a9-357c-4e44-a81c-83d080a9a255",
   "metadata": {
    "tags": []
   },
   "outputs": [
    {
     "data": {
      "text/plain": [
       "torch.int32"
      ]
     },
     "execution_count": 10,
     "metadata": {},
     "output_type": "execute_result"
    }
   ],
   "source": [
    "t1.dtype"
   ]
  },
  {
   "cell_type": "code",
   "execution_count": null,
   "id": "8ecd477e-2955-40f6-bc00-bd7fad86fd6e",
   "metadata": {},
   "outputs": [],
   "source": []
  }
 ],
 "metadata": {
  "kernelspec": {
   "display_name": "Python 3 (ipykernel)",
   "language": "python",
   "name": "python3"
  },
  "language_info": {
   "codemirror_mode": {
    "name": "ipython",
    "version": 3
   },
   "file_extension": ".py",
   "mimetype": "text/x-python",
   "name": "python",
   "nbconvert_exporter": "python",
   "pygments_lexer": "ipython3",
   "version": "3.10.12"
  }
 },
 "nbformat": 4,
 "nbformat_minor": 5
}
