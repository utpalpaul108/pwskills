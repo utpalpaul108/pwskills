{
 "cells": [
  {
   "cell_type": "markdown",
   "id": "e12b090e-4386-4411-82ce-9e16a884dbbf",
   "metadata": {},
   "source": [
    "## Pytorch Basic"
   ]
  },
  {
   "cell_type": "code",
   "execution_count": 2,
   "id": "14755db7-d1ca-4f9f-be11-43431e63981d",
   "metadata": {
    "tags": []
   },
   "outputs": [],
   "source": [
    "import torch"
   ]
  },
  {
   "cell_type": "code",
   "execution_count": 3,
   "id": "f65f248f-be57-41c9-a6a8-ac7d9da4974f",
   "metadata": {
    "tags": []
   },
   "outputs": [
    {
     "data": {
      "text/plain": [
       "'2.0.1+cpu'"
      ]
     },
     "execution_count": 3,
     "metadata": {},
     "output_type": "execute_result"
    }
   ],
   "source": [
    "torch.__version__"
   ]
  },
  {
   "cell_type": "code",
   "execution_count": null,
   "id": "481cae47-9b29-4298-abc1-dc32bb1bb32a",
   "metadata": {},
   "outputs": [],
   "source": []
  },
  {
   "cell_type": "markdown",
   "id": "6b56338f-32da-4323-a353-80a4c8cedd29",
   "metadata": {},
   "source": [
    "### Create a Tensor with a scaler value"
   ]
  },
  {
   "cell_type": "code",
   "execution_count": 3,
   "id": "d30a5350-4537-40c7-a169-7838bbbf7987",
   "metadata": {
    "tags": []
   },
   "outputs": [
    {
     "data": {
      "text/plain": [
       "tensor(2, dtype=torch.int32)"
      ]
     },
     "execution_count": 3,
     "metadata": {},
     "output_type": "execute_result"
    }
   ],
   "source": [
    "t1 = torch.tensor(2, dtype=torch.int32, )\n",
    "t1"
   ]
  },
  {
   "cell_type": "code",
   "execution_count": 4,
   "id": "522203a9-357c-4e44-a81c-83d080a9a255",
   "metadata": {
    "tags": []
   },
   "outputs": [
    {
     "data": {
      "text/plain": [
       "torch.int32"
      ]
     },
     "execution_count": 4,
     "metadata": {},
     "output_type": "execute_result"
    }
   ],
   "source": [
    "t1.dtype"
   ]
  },
  {
   "cell_type": "code",
   "execution_count": null,
   "id": "8ecd477e-2955-40f6-bc00-bd7fad86fd6e",
   "metadata": {},
   "outputs": [],
   "source": []
  },
  {
   "cell_type": "markdown",
   "id": "a76d9492-e631-442d-9d54-a91f64dab7de",
   "metadata": {},
   "source": [
    "## Load an Image and Convert it into Tensor"
   ]
  },
  {
   "cell_type": "code",
   "execution_count": 1,
   "id": "e92fcdf1-1ada-4873-b218-eaff99f0d000",
   "metadata": {},
   "outputs": [],
   "source": [
    "import torch\n",
    "from torchvision import io"
   ]
  },
  {
   "cell_type": "code",
   "execution_count": 14,
   "id": "69cb69ff-5c94-4c83-8033-15b47a8f8933",
   "metadata": {},
   "outputs": [
    {
     "name": "stdout",
     "output_type": "stream",
     "text": [
      "tensor([[[165, 165, 165,  ..., 169, 170, 170],\n",
      "         [167, 166, 167,  ..., 170, 171, 171],\n",
      "         [169, 169, 170,  ..., 166, 168, 168],\n",
      "         ...,\n",
      "         [101, 101,  94,  ...,  99,  87,  81],\n",
      "         [116, 104,  92,  ...,  64,  69,  90],\n",
      "         [110,  97,  90,  ...,  64,  69,  90]],\n",
      "\n",
      "        [[213, 213, 213,  ..., 205, 205, 205],\n",
      "         [214, 214, 214,  ..., 208, 207, 207],\n",
      "         [214, 216, 215,  ..., 211, 211, 211],\n",
      "         ...,\n",
      "         [142, 142, 135,  ..., 142, 130, 124],\n",
      "         [158, 146, 132,  ..., 106, 113, 134],\n",
      "         [152, 139, 130,  ..., 106, 113, 134]],\n",
      "\n",
      "        [[233, 233, 233,  ..., 227, 227, 227],\n",
      "         [234, 234, 234,  ..., 229, 229, 229],\n",
      "         [233, 234, 234,  ..., 232, 230, 230],\n",
      "         ...,\n",
      "         [ 66,  66,  59,  ...,  62,  50,  44],\n",
      "         [ 84,  72,  59,  ...,  30,  36,  57],\n",
      "         [ 78,  65,  57,  ...,  32,  38,  59]]], dtype=torch.uint8)\n"
     ]
    }
   ],
   "source": [
    "tensor = io.read_image('artifacts/horse.jpeg')\n",
    "print(tensor)"
   ]
  },
  {
   "cell_type": "code",
   "execution_count": 15,
   "id": "bfd14927-1b67-4264-a4ad-8c63ce36bf3d",
   "metadata": {},
   "outputs": [
    {
     "data": {
      "text/plain": [
       "torch.Size([3, 194, 259])"
      ]
     },
     "execution_count": 15,
     "metadata": {},
     "output_type": "execute_result"
    }
   ],
   "source": [
    "tensor.shape"
   ]
  },
  {
   "cell_type": "code",
   "execution_count": 16,
   "id": "ae5dce61-f9da-461b-aeb6-188eb62f1c75",
   "metadata": {},
   "outputs": [
    {
     "data": {
      "text/plain": [
       "tensor([[[0.6471, 0.6471, 0.6471,  ..., 0.6627, 0.6667, 0.6667],\n",
       "         [0.6549, 0.6510, 0.6549,  ..., 0.6667, 0.6706, 0.6706],\n",
       "         [0.6627, 0.6627, 0.6667,  ..., 0.6510, 0.6588, 0.6588],\n",
       "         ...,\n",
       "         [0.3961, 0.3961, 0.3686,  ..., 0.3882, 0.3412, 0.3176],\n",
       "         [0.4549, 0.4078, 0.3608,  ..., 0.2510, 0.2706, 0.3529],\n",
       "         [0.4314, 0.3804, 0.3529,  ..., 0.2510, 0.2706, 0.3529]],\n",
       "\n",
       "        [[0.8353, 0.8353, 0.8353,  ..., 0.8039, 0.8039, 0.8039],\n",
       "         [0.8392, 0.8392, 0.8392,  ..., 0.8157, 0.8118, 0.8118],\n",
       "         [0.8392, 0.8471, 0.8431,  ..., 0.8275, 0.8275, 0.8275],\n",
       "         ...,\n",
       "         [0.5569, 0.5569, 0.5294,  ..., 0.5569, 0.5098, 0.4863],\n",
       "         [0.6196, 0.5725, 0.5176,  ..., 0.4157, 0.4431, 0.5255],\n",
       "         [0.5961, 0.5451, 0.5098,  ..., 0.4157, 0.4431, 0.5255]],\n",
       "\n",
       "        [[0.9137, 0.9137, 0.9137,  ..., 0.8902, 0.8902, 0.8902],\n",
       "         [0.9176, 0.9176, 0.9176,  ..., 0.8980, 0.8980, 0.8980],\n",
       "         [0.9137, 0.9176, 0.9176,  ..., 0.9098, 0.9020, 0.9020],\n",
       "         ...,\n",
       "         [0.2588, 0.2588, 0.2314,  ..., 0.2431, 0.1961, 0.1725],\n",
       "         [0.3294, 0.2824, 0.2314,  ..., 0.1176, 0.1412, 0.2235],\n",
       "         [0.3059, 0.2549, 0.2235,  ..., 0.1255, 0.1490, 0.2314]]])"
      ]
     },
     "execution_count": 16,
     "metadata": {},
     "output_type": "execute_result"
    }
   ],
   "source": [
    "tensor/255"
   ]
  },
  {
   "cell_type": "code",
   "execution_count": 7,
   "id": "a437bf8f-4f06-4182-9e80-09c1c907e628",
   "metadata": {},
   "outputs": [],
   "source": [
    "from PIL import Image\n",
    "import matplotlib.pyplot as plt"
   ]
  },
  {
   "cell_type": "code",
   "execution_count": 9,
   "id": "91ae882b-f1e2-44ba-8a92-8340534b5512",
   "metadata": {},
   "outputs": [
    {
     "data": {
      "text/plain": [
       "<matplotlib.image.AxesImage at 0x7fdef65571c0>"
      ]
     },
     "execution_count": 9,
     "metadata": {},
     "output_type": "execute_result"
    },
    {
     "data": {
      "image/png": "[encoded data removed]",
      "text/plain": [
       "<Figure size 640x480 with 1 Axes>"
      ]
     },
     "metadata": {},
     "output_type": "display_data"
    }
   ],
   "source": [
    "image = Image.open('artifacts/horse.jpeg')\n",
    "plt.imshow(image)"
   ]
  },
  {
   "cell_type": "code",
   "execution_count": 10,
   "id": "5ec6820e-201e-47f6-8c3c-f8c9c05d3b2e",
   "metadata": {},
   "outputs": [],
   "source": [
    "import torch\n",
    "from torchvision import transforms"
   ]
  },
  {
   "cell_type": "code",
   "execution_count": 28,
   "id": "6a2a638c-8831-49cd-8f97-2ce06c632007",
   "metadata": {},
   "outputs": [
    {
     "data": {
      "text/plain": [
       "tensor([[0.6471, 0.6471, 0.6471,  ..., 0.6627, 0.6667, 0.6667],\n",
       "        [0.6549, 0.6510, 0.6549,  ..., 0.6667, 0.6706, 0.6706],\n",
       "        [0.6627, 0.6627, 0.6667,  ..., 0.6510, 0.6588, 0.6588],\n",
       "        ...,\n",
       "        [0.3961, 0.3961, 0.3686,  ..., 0.3882, 0.3412, 0.3176],\n",
       "        [0.4549, 0.4078, 0.3608,  ..., 0.2510, 0.2706, 0.3529],\n",
       "        [0.4314, 0.3804, 0.3529,  ..., 0.2510, 0.2706, 0.3529]])"
      ]
     },
     "execution_count": 28,
     "metadata": {},
     "output_type": "execute_result"
    }
   ],
   "source": [
    "tensor = transforms.ToTensor()(image)\n",
    "tensor[0]"
   ]
  },
  {
   "cell_type": "code",
   "execution_count": 27,
   "id": "0e6b2914-9ccc-4b79-af53-673948c95bb7",
   "metadata": {},
   "outputs": [
    {
     "data": {
      "text/plain": [
       "torch.Size([194, 259])"
      ]
     },
     "execution_count": 27,
     "metadata": {},
     "output_type": "execute_result"
    }
   ],
   "source": [
    "tensor[0].shape"
   ]
  },
  {
   "cell_type": "code",
   "execution_count": null,
   "id": "c57368f8-463d-4ac2-9ebc-2c9f0889d627",
   "metadata": {},
   "outputs": [],
   "source": []
  },
  {
   "cell_type": "code",
   "execution_count": 4,
   "id": "83202203-98be-409f-922a-4bd059f02e5b",
   "metadata": {},
   "outputs": [
    {
     "data": {
      "text/plain": [
       "tensor(7)"
      ]
     },
     "execution_count": 4,
     "metadata": {},
     "output_type": "execute_result"
    }
   ],
   "source": [
    "# Scalar (Zero Dimension Tensor)\n",
    "scalar = torch.tensor(7)\n",
    "scalar"
   ]
  },
  {
   "cell_type": "code",
   "execution_count": 5,
   "id": "a6fb4a59-18e9-4d65-b62c-6b7e41b39959",
   "metadata": {},
   "outputs": [
    {
     "data": {
      "text/plain": [
       "0"
      ]
     },
     "execution_count": 5,
     "metadata": {},
     "output_type": "execute_result"
    }
   ],
   "source": [
    "# Check the dimension of the tensor\n",
    "scalar.ndim"
   ]
  },
  {
   "cell_type": "code",
   "execution_count": 6,
   "id": "e4cb7193-a4f6-4a48-8586-543251a9c5d2",
   "metadata": {},
   "outputs": [
    {
     "data": {
      "text/plain": [
       "7"
      ]
     },
     "execution_count": 6,
     "metadata": {},
     "output_type": "execute_result"
    }
   ],
   "source": [
    "scalar.item()"
   ]
  },
  {
   "cell_type": "code",
   "execution_count": 17,
   "id": "e6061743-bbd3-432b-8eb4-d616862aa77c",
   "metadata": {},
   "outputs": [
    {
     "data": {
      "text/plain": [
       "tensor([1, 2, 3, 4, 5])"
      ]
     },
     "execution_count": 17,
     "metadata": {},
     "output_type": "execute_result"
    }
   ],
   "source": [
    "# Vector (A single dimension tensor but can contain many numbers)\n",
    "vector = torch.tensor([1,2,3,4,5])\n",
    "vector"
   ]
  },
  {
   "cell_type": "code",
   "execution_count": 18,
   "id": "1062bc66-52f2-436a-983c-89699be92b22",
   "metadata": {},
   "outputs": [
    {
     "data": {
      "text/plain": [
       "1"
      ]
     },
     "execution_count": 18,
     "metadata": {},
     "output_type": "execute_result"
    }
   ],
   "source": [
    "vector.ndim"
   ]
  },
  {
   "cell_type": "code",
   "execution_count": 14,
   "id": "94b1c671-ad67-41a9-b09d-7768b67552c3",
   "metadata": {},
   "outputs": [
    {
     "data": {
      "text/plain": [
       "torch.Size([5])"
      ]
     },
     "execution_count": 14,
     "metadata": {},
     "output_type": "execute_result"
    }
   ],
   "source": [
    "# Check the shape of the tensor\n",
    "vector.shape"
   ]
  },
  {
   "cell_type": "code",
   "execution_count": 26,
   "id": "e722adca-6cf6-4124-8842-b10ee8cc16fe",
   "metadata": {},
   "outputs": [
    {
     "data": {
      "text/plain": [
       "tensor([[1, 2],\n",
       "        [3, 4],\n",
       "        [5, 6]])"
      ]
     },
     "execution_count": 26,
     "metadata": {},
     "output_type": "execute_result"
    }
   ],
   "source": [
    "# Matrix\n",
    "matrix = torch.tensor([[1,2],[3,4],[5,6]])\n",
    "matrix"
   ]
  },
  {
   "cell_type": "code",
   "execution_count": 27,
   "id": "83fa1d24-cb38-4908-92d4-d510f6af0b5a",
   "metadata": {},
   "outputs": [
    {
     "data": {
      "text/plain": [
       "2"
      ]
     },
     "execution_count": 27,
     "metadata": {},
     "output_type": "execute_result"
    }
   ],
   "source": [
    "matrix.ndim"
   ]
  },
  {
   "cell_type": "code",
   "execution_count": 25,
   "id": "25b1bcf9-f666-440e-a7bf-1a9dd4060561",
   "metadata": {},
   "outputs": [
    {
     "data": {
      "text/plain": [
       "torch.Size([1, 3, 2])"
      ]
     },
     "execution_count": 25,
     "metadata": {},
     "output_type": "execute_result"
    }
   ],
   "source": [
    "matrix.shape"
   ]
  },
  {
   "cell_type": "code",
   "execution_count": null,
   "id": "3f148f4b-db7b-4fb6-96a8-6344998d3c43",
   "metadata": {},
   "outputs": [],
   "source": []
  },
  {
   "cell_type": "code",
   "execution_count": 1,
   "id": "e9855a1e-bdc8-438b-b5b8-a564ad585f03",
   "metadata": {},
   "outputs": [],
   "source": [
    "import torch"
   ]
  },
  {
   "cell_type": "code",
   "execution_count": 4,
   "id": "4111a218-be61-41ba-a446-096094d116ff",
   "metadata": {},
   "outputs": [
    {
     "data": {
      "text/plain": [
       "'2.0.1+cpu'"
      ]
     },
     "execution_count": 4,
     "metadata": {},
     "output_type": "execute_result"
    }
   ],
   "source": [
    "torch.__version__"
   ]
  },
  {
   "cell_type": "code",
   "execution_count": 3,
   "id": "25da98f3-87b6-477d-98ae-1c2d5ae60d7a",
   "metadata": {},
   "outputs": [
    {
     "data": {
      "text/plain": [
       "tensor(7)"
      ]
     },
     "execution_count": 3,
     "metadata": {},
     "output_type": "execute_result"
    }
   ],
   "source": [
    "# Scalar tensor\n",
    "scalar = torch.tensor(7)\n",
    "scalar"
   ]
  },
  {
   "cell_type": "code",
   "execution_count": 5,
   "id": "e5947a31-ca95-4272-ab9f-b3cbeccebd19",
   "metadata": {},
   "outputs": [
    {
     "data": {
      "text/plain": [
       "0"
      ]
     },
     "execution_count": 5,
     "metadata": {},
     "output_type": "execute_result"
    }
   ],
   "source": [
    "# Dimension of the variable\n",
    "scalar.ndim"
   ]
  },
  {
   "cell_type": "code",
   "execution_count": 6,
   "id": "084854a3-e9a1-43e6-a074-d8d562082555",
   "metadata": {},
   "outputs": [
    {
     "data": {
      "text/plain": [
       "7"
      ]
     },
     "execution_count": 6,
     "metadata": {},
     "output_type": "execute_result"
    }
   ],
   "source": [
    "# Get tensor back as Python int\n",
    "scalar.item()"
   ]
  },
  {
   "cell_type": "code",
   "execution_count": null,
   "id": "c5b9489c-4328-4381-b777-8663ffb02d4d",
   "metadata": {},
   "outputs": [],
   "source": []
  },
  {
   "cell_type": "code",
   "execution_count": 8,
   "id": "7b828743-4a91-429c-a86c-75a123e4c868",
   "metadata": {},
   "outputs": [
    {
     "data": {
      "text/plain": [
       "tensor([10, 20, 30])"
      ]
     },
     "execution_count": 8,
     "metadata": {},
     "output_type": "execute_result"
    }
   ],
   "source": [
    "# Vector\n",
    "vector = torch.tensor([10,20,30])\n",
    "vector"
   ]
  },
  {
   "cell_type": "code",
   "execution_count": 9,
   "id": "2a5c7851-4989-4b21-a6e3-fddbaa3b6ab1",
   "metadata": {},
   "outputs": [
    {
     "data": {
      "text/plain": [
       "1"
      ]
     },
     "execution_count": 9,
     "metadata": {},
     "output_type": "execute_result"
    }
   ],
   "source": [
    "vector.ndim"
   ]
  },
  {
   "cell_type": "code",
   "execution_count": 14,
   "id": "030d82d2-b850-40b9-946a-c4092d9205ca",
   "metadata": {},
   "outputs": [
    {
     "data": {
      "text/plain": [
       "torch.Size([3])"
      ]
     },
     "execution_count": 14,
     "metadata": {},
     "output_type": "execute_result"
    }
   ],
   "source": [
    "vector.shape"
   ]
  },
  {
   "cell_type": "code",
   "execution_count": null,
   "id": "54f5781d-cac0-42c1-ac0d-a29bf2162fe1",
   "metadata": {},
   "outputs": [],
   "source": []
  },
  {
   "cell_type": "code",
   "execution_count": 15,
   "id": "6cfb8fe0-5810-4c56-b0db-d0453111fa5b",
   "metadata": {},
   "outputs": [
    {
     "data": {
      "text/plain": [
       "tensor([[1, 2],\n",
       "        [3, 4],\n",
       "        [5, 6]])"
      ]
     },
     "execution_count": 15,
     "metadata": {},
     "output_type": "execute_result"
    }
   ],
   "source": [
    "# Matrix\n",
    "matrix = torch.tensor([[1,2],[3,4],[5,6]])\n",
    "matrix"
   ]
  },
  {
   "cell_type": "code",
   "execution_count": 17,
   "id": "259ca2d0-a13e-4479-ab60-e80cc20916fc",
   "metadata": {},
   "outputs": [
    {
     "data": {
      "text/plain": [
       "torch.Size([3, 2])"
      ]
     },
     "execution_count": 17,
     "metadata": {},
     "output_type": "execute_result"
    }
   ],
   "source": [
    "matrix.shape"
   ]
  },
  {
   "cell_type": "code",
   "execution_count": 18,
   "id": "285506e0-04d9-4667-a02e-493c19116e67",
   "metadata": {},
   "outputs": [
    {
     "data": {
      "text/plain": [
       "2"
      ]
     },
     "execution_count": 18,
     "metadata": {},
     "output_type": "execute_result"
    }
   ],
   "source": [
    "matrix.ndim"
   ]
  },
  {
   "cell_type": "code",
   "execution_count": 23,
   "id": "07bf2833-62f4-489d-8d0c-a36f06dbb001",
   "metadata": {},
   "outputs": [
    {
     "data": {
      "text/plain": [
       "(tensor([1, 2]), tensor([3, 4]), tensor([5, 6]))"
      ]
     },
     "execution_count": 23,
     "metadata": {},
     "output_type": "execute_result"
    }
   ],
   "source": [
    "matrix[0], matrix[1], matrix[2]"
   ]
  },
  {
   "cell_type": "code",
   "execution_count": null,
   "id": "978989b9-10da-441f-be33-31e2d0e64d7a",
   "metadata": {},
   "outputs": [],
   "source": []
  },
  {
   "cell_type": "code",
   "execution_count": 24,
   "id": "aabd66d0-7f92-47fc-8651-f8f3128675cc",
   "metadata": {},
   "outputs": [
    {
     "data": {
      "text/plain": [
       "tensor([[[1, 2],\n",
       "         [3, 4],\n",
       "         [5, 6]]])"
      ]
     },
     "execution_count": 24,
     "metadata": {},
     "output_type": "execute_result"
    }
   ],
   "source": [
    "# Tensor\n",
    "TENSOR = torch.tensor([[[1,2],[3,4],[5,6]]])\n",
    "TENSOR"
   ]
  },
  {
   "cell_type": "code",
   "execution_count": 25,
   "id": "ff0d842d-035e-4d7e-8ac2-bb2a8caf4c1e",
   "metadata": {},
   "outputs": [
    {
     "data": {
      "text/plain": [
       "3"
      ]
     },
     "execution_count": 25,
     "metadata": {},
     "output_type": "execute_result"
    }
   ],
   "source": [
    "TENSOR.ndim"
   ]
  },
  {
   "cell_type": "code",
   "execution_count": 26,
   "id": "e356fb02-2683-4a3d-9c9a-2ee5d053f994",
   "metadata": {},
   "outputs": [
    {
     "data": {
      "text/plain": [
       "torch.Size([1, 3, 2])"
      ]
     },
     "execution_count": 26,
     "metadata": {},
     "output_type": "execute_result"
    }
   ],
   "source": [
    "TENSOR.shape"
   ]
  },
  {
   "cell_type": "code",
   "execution_count": 32,
   "id": "7a93ffef-29bd-4ab6-8b7d-4741948f57e5",
   "metadata": {},
   "outputs": [
    {
     "data": {
      "text/plain": [
       "tensor([[[0.7681, 0.7452, 0.7852,  ..., 0.2937, 0.8181, 0.7130],\n",
       "         [0.4508, 0.9888, 0.5498,  ..., 0.8200, 0.1177, 0.2761],\n",
       "         [0.7266, 0.6814, 0.3193,  ..., 0.9547, 0.0210, 0.5687],\n",
       "         ...,\n",
       "         [0.9350, 0.8656, 0.4914,  ..., 0.4048, 0.1293, 0.7499],\n",
       "         [0.9866, 0.3973, 0.2719,  ..., 0.6365, 0.1509, 0.0134],\n",
       "         [0.3975, 0.6605, 0.5663,  ..., 0.5744, 0.8235, 0.6971]],\n",
       "\n",
       "        [[0.4132, 0.3092, 0.4019,  ..., 0.7523, 0.4715, 0.2005],\n",
       "         [0.3407, 0.3589, 0.9131,  ..., 0.2692, 0.5994, 0.0377],\n",
       "         [0.7463, 0.7786, 0.9513,  ..., 0.5186, 0.4058, 0.7645],\n",
       "         ...,\n",
       "         [0.6582, 0.3727, 0.1866,  ..., 0.4842, 0.0579, 0.4303],\n",
       "         [0.6532, 0.4655, 0.3658,  ..., 0.9600, 0.7482, 0.4889],\n",
       "         [0.2771, 0.1258, 0.8422,  ..., 0.6930, 0.5720, 0.7329]],\n",
       "\n",
       "        [[0.8675, 0.8977, 0.5733,  ..., 0.6445, 0.1655, 0.3521],\n",
       "         [0.7127, 0.9933, 0.5136,  ..., 0.3537, 0.0689, 0.6955],\n",
       "         [0.1158, 0.6191, 0.1518,  ..., 0.0012, 0.1113, 0.0814],\n",
       "         ...,\n",
       "         [0.1769, 0.7527, 0.7767,  ..., 0.8370, 0.6697, 0.9588],\n",
       "         [0.9314, 0.2601, 0.4877,  ..., 0.8031, 0.0431, 0.7438],\n",
       "         [0.6578, 0.1732, 0.9186,  ..., 0.1929, 0.7882, 0.9665]]])"
      ]
     },
     "execution_count": 32,
     "metadata": {},
     "output_type": "execute_result"
    }
   ],
   "source": [
    "# Random Tensor\n",
    "random_image_size_tensor = torch.rand(size=(3,224,224))\n",
    "random_image_size_tensor"
   ]
  },
  {
   "cell_type": "code",
   "execution_count": 30,
   "id": "7954c51e-d3c2-42dc-8386-c2b642388bfe",
   "metadata": {},
   "outputs": [
    {
     "data": {
      "text/plain": [
       "torch.Size([3, 224, 224])"
      ]
     },
     "execution_count": 30,
     "metadata": {},
     "output_type": "execute_result"
    }
   ],
   "source": [
    "random_image_size_tensor.shape"
   ]
  },
  {
   "cell_type": "code",
   "execution_count": 31,
   "id": "c8b91f44-f994-4123-b50d-9e2fe6933764",
   "metadata": {},
   "outputs": [
    {
     "data": {
      "text/plain": [
       "3"
      ]
     },
     "execution_count": 31,
     "metadata": {},
     "output_type": "execute_result"
    }
   ],
   "source": [
    "random_image_size_tensor.ndim"
   ]
  },
  {
   "cell_type": "code",
   "execution_count": 34,
   "id": "fcda123a-1375-46dd-9bd8-b95e72b6ca32",
   "metadata": {},
   "outputs": [
    {
     "data": {
      "text/plain": [
       "torch.Size([224, 224])"
      ]
     },
     "execution_count": 34,
     "metadata": {},
     "output_type": "execute_result"
    }
   ],
   "source": [
    "random_image_size_tensor[0].shape"
   ]
  },
  {
   "cell_type": "code",
   "execution_count": 35,
   "id": "8510692d-c6eb-476b-bbc6-5abf7c887e5c",
   "metadata": {},
   "outputs": [
    {
     "data": {
      "text/plain": [
       "torch.Size([224, 224])"
      ]
     },
     "execution_count": 35,
     "metadata": {},
     "output_type": "execute_result"
    }
   ],
   "source": [
    "random_image_size_tensor[1].shape"
   ]
  },
  {
   "cell_type": "code",
   "execution_count": 36,
   "id": "73dbde66-832b-45ad-a3d8-8159c13e22ab",
   "metadata": {},
   "outputs": [
    {
     "data": {
      "text/plain": [
       "torch.Size([224, 224])"
      ]
     },
     "execution_count": 36,
     "metadata": {},
     "output_type": "execute_result"
    }
   ],
   "source": [
    "random_image_size_tensor[2].shape"
   ]
  },
  {
   "cell_type": "code",
   "execution_count": null,
   "id": "250665a3-eaa4-48dd-82c2-3f9c5ef30bb0",
   "metadata": {},
   "outputs": [],
   "source": []
  },
  {
   "cell_type": "markdown",
   "id": "51dcd93e-7823-4baa-b275-948321376428",
   "metadata": {},
   "source": [
    "## Zero Tensor"
   ]
  },
  {
   "cell_type": "code",
   "execution_count": 7,
   "id": "04365ac1-517b-4ebf-8889-b64c384dda74",
   "metadata": {},
   "outputs": [
    {
     "data": {
      "text/plain": [
       "tensor([[0., 0., 0.],\n",
       "        [0., 0., 0.],\n",
       "        [0., 0., 0.]])"
      ]
     },
     "execution_count": 7,
     "metadata": {},
     "output_type": "execute_result"
    }
   ],
   "source": [
    "ZERO = torch.zeros(3,3)\n",
    "ZERO"
   ]
  },
  {
   "cell_type": "code",
   "execution_count": 11,
   "id": "26108e6b-9fe5-41a8-8024-9b48f36b571d",
   "metadata": {},
   "outputs": [
    {
     "data": {
      "text/plain": [
       "tensor([[0.4357, 0.0330, 0.3575],\n",
       "        [0.9753, 0.1223, 0.1918],\n",
       "        [0.8802, 0.0784, 0.4068]])"
      ]
     },
     "execution_count": 11,
     "metadata": {},
     "output_type": "execute_result"
    }
   ],
   "source": [
    "RANDOM_TENSOR = torch.rand(3,3)\n",
    "RANDOM_TENSOR"
   ]
  },
  {
   "cell_type": "code",
   "execution_count": 12,
   "id": "4195d819-5e93-4446-a670-e2d91577752c",
   "metadata": {},
   "outputs": [
    {
     "data": {
      "text/plain": [
       "tensor([[0., 0., 0.],\n",
       "        [0., 0., 0.],\n",
       "        [0., 0., 0.]])"
      ]
     },
     "execution_count": 12,
     "metadata": {},
     "output_type": "execute_result"
    }
   ],
   "source": [
    "RANDOM_TENSOR*ZERO"
   ]
  },
  {
   "cell_type": "code",
   "execution_count": null,
   "id": "e23e9e7d-1cb5-4a6e-87c6-7e6a7a0422dc",
   "metadata": {},
   "outputs": [],
   "source": []
  },
  {
   "cell_type": "markdown",
   "id": "9e2822ad-5f73-4dfc-bf49-b12b4948db2c",
   "metadata": {},
   "source": [
    "## One Tensor"
   ]
  },
  {
   "cell_type": "code",
   "execution_count": 14,
   "id": "14e2442b-ac3f-4d5f-8c5c-3967ea138a2e",
   "metadata": {},
   "outputs": [
    {
     "data": {
      "text/plain": [
       "tensor([[1., 1., 1.],\n",
       "        [1., 1., 1.],\n",
       "        [1., 1., 1.]])"
      ]
     },
     "execution_count": 14,
     "metadata": {},
     "output_type": "execute_result"
    }
   ],
   "source": [
    "ONE = torch.ones(3,3)\n",
    "ONE"
   ]
  },
  {
   "cell_type": "code",
   "execution_count": 16,
   "id": "2febd04a-1fff-4171-8902-2e307953121f",
   "metadata": {},
   "outputs": [
    {
     "data": {
      "text/plain": [
       "torch.float32"
      ]
     },
     "execution_count": 16,
     "metadata": {},
     "output_type": "execute_result"
    }
   ],
   "source": [
    "ZERO.dtype"
   ]
  },
  {
   "cell_type": "code",
   "execution_count": null,
   "id": "2f8138c5-f3a0-4c22-b2f8-b00bc507d6de",
   "metadata": {},
   "outputs": [],
   "source": []
  },
  {
   "cell_type": "markdown",
   "id": "5df7bf4b-3b58-4379-bd5f-2b0c851b26bf",
   "metadata": {},
   "source": [
    "## Creating a Range of Tensor"
   ]
  },
  {
   "cell_type": "code",
   "execution_count": 29,
   "id": "b68f4129-279f-4c0f-be69-06b6db43cc88",
   "metadata": {},
   "outputs": [
    {
     "data": {
      "text/plain": [
       "tensor([0, 1, 2, 3, 4])"
      ]
     },
     "execution_count": 29,
     "metadata": {},
     "output_type": "execute_result"
    }
   ],
   "source": [
    "arange_tensor = torch.arange(0,5)\n",
    "arange_tensor"
   ]
  },
  {
   "cell_type": "code",
   "execution_count": 25,
   "id": "1985694d-d6bf-4e32-9a24-6fee433273c9",
   "metadata": {},
   "outputs": [
    {
     "data": {
      "text/plain": [
       "tensor([0, 2, 4, 6, 8])"
      ]
     },
     "execution_count": 25,
     "metadata": {},
     "output_type": "execute_result"
    }
   ],
   "source": [
    "torch.arange(0,10,2)"
   ]
  },
  {
   "cell_type": "code",
   "execution_count": 30,
   "id": "e159c3cc-1c15-4919-99ce-5e333139a1b7",
   "metadata": {},
   "outputs": [
    {
     "data": {
      "text/plain": [
       "tensor([0, 0, 0, 0, 0])"
      ]
     },
     "execution_count": 30,
     "metadata": {},
     "output_type": "execute_result"
    }
   ],
   "source": [
    "torch.zeros_like(arange_tensor)"
   ]
  },
  {
   "cell_type": "code",
   "execution_count": 38,
   "id": "4e4a4fb1-64d9-43e7-930a-4897ed5f4f0f",
   "metadata": {},
   "outputs": [
    {
     "data": {
      "text/plain": [
       "tensor([[0.3353, 0.4674, 0.6119],\n",
       "        [0.8208, 0.9106, 0.8305],\n",
       "        [0.7019, 0.1492, 0.1183]])"
      ]
     },
     "execution_count": 38,
     "metadata": {},
     "output_type": "execute_result"
    }
   ],
   "source": [
    "RAND_TENSOR = torch.rand(3,3)\n",
    "RAND_TENSOR"
   ]
  },
  {
   "cell_type": "code",
   "execution_count": 35,
   "id": "58fba675-cda5-4aba-aad7-6a4b2d529e67",
   "metadata": {},
   "outputs": [
    {
     "data": {
      "text/plain": [
       "tensor([[0., 0., 0.],\n",
       "        [0., 0., 0.],\n",
       "        [0., 0., 0.]])"
      ]
     },
     "execution_count": 35,
     "metadata": {},
     "output_type": "execute_result"
    }
   ],
   "source": [
    "torch.zeros_like(RAND_TENSOR)"
   ]
  },
  {
   "cell_type": "code",
   "execution_count": null,
   "id": "3d8ff2ea-aa9b-44f8-ae43-a0297433cb32",
   "metadata": {},
   "outputs": [],
   "source": []
  },
  {
   "cell_type": "markdown",
   "id": "332276db-f6c3-4079-9b4e-23f7648f0a49",
   "metadata": {},
   "source": [
    "## TENSOR Datatypes"
   ]
  },
  {
   "cell_type": "code",
   "execution_count": 58,
   "id": "ac33302d-05ff-44a1-9e9b-549ade93da7d",
   "metadata": {},
   "outputs": [
    {
     "data": {
      "text/plain": [
       "tensor([1., 2., 3.])"
      ]
     },
     "execution_count": 58,
     "metadata": {},
     "output_type": "execute_result"
    }
   ],
   "source": [
    "float_32_tensor = torch.tensor([1.0,2,3], dtype=None)\n",
    "float_32_tensor"
   ]
  },
  {
   "cell_type": "code",
   "execution_count": 59,
   "id": "1d600c6b-63b7-4370-a7ef-4b4a2b17e647",
   "metadata": {},
   "outputs": [
    {
     "data": {
      "text/plain": [
       "torch.float32"
      ]
     },
     "execution_count": 59,
     "metadata": {},
     "output_type": "execute_result"
    }
   ],
   "source": [
    "float_32_tensor.dtype"
   ]
  },
  {
   "cell_type": "code",
   "execution_count": 65,
   "id": "5a4ca92e-339d-4016-a81b-aebdba5554cc",
   "metadata": {},
   "outputs": [
    {
     "data": {
      "text/plain": [
       "tensor([1, 2, 3])"
      ]
     },
     "execution_count": 65,
     "metadata": {},
     "output_type": "execute_result"
    }
   ],
   "source": [
    "float_16_tensor = torch.tensor([1.0,2,3], dtype=torch.int64)\n",
    "float_16_tensor"
   ]
  },
  {
   "cell_type": "code",
   "execution_count": 66,
   "id": "dd8e2314-49b6-4808-aad8-b0364690051d",
   "metadata": {},
   "outputs": [
    {
     "data": {
      "text/plain": [
       "torch.int64"
      ]
     },
     "execution_count": 66,
     "metadata": {},
     "output_type": "execute_result"
    }
   ],
   "source": [
    "float_16_tensor.dtype"
   ]
  },
  {
   "cell_type": "code",
   "execution_count": 57,
   "id": "b9359324-b7fa-4799-bc37-2005241b7d30",
   "metadata": {},
   "outputs": [
    {
     "data": {
      "text/plain": [
       "tensor([1., 2., 3.], dtype=torch.float16)"
      ]
     },
     "execution_count": 57,
     "metadata": {},
     "output_type": "execute_result"
    }
   ],
   "source": [
    "float_16_tensor = float_32_tensor.type(torch.float16)\n",
    "float_16_tensor"
   ]
  },
  {
   "cell_type": "code",
   "execution_count": 67,
   "id": "b9849061-1b6b-452a-94b4-531773edce37",
   "metadata": {},
   "outputs": [
    {
     "data": {
      "text/plain": [
       "tensor([1., 4., 9.])"
      ]
     },
     "execution_count": 67,
     "metadata": {},
     "output_type": "execute_result"
    }
   ],
   "source": [
    "float_32_tensor * float_16_tensor"
   ]
  },
  {
   "cell_type": "code",
   "execution_count": null,
   "id": "a509be49-bca7-46bc-9748-892d633e07c2",
   "metadata": {},
   "outputs": [],
   "source": []
  },
  {
   "cell_type": "markdown",
   "id": "1ee5a401-8532-499b-9e6a-24c505ffcdc3",
   "metadata": {},
   "source": [
    "## Tensor Attributes"
   ]
  },
  {
   "cell_type": "code",
   "execution_count": 3,
   "id": "c6cccafa-f0a4-473c-a2fb-80ae8d96abee",
   "metadata": {},
   "outputs": [
    {
     "data": {
      "text/plain": [
       "tensor([[0.1230, 0.4845, 0.3443],\n",
       "        [0.9828, 0.8259, 0.7232],\n",
       "        [0.8944, 0.5039, 0.2507]])"
      ]
     },
     "execution_count": 3,
     "metadata": {},
     "output_type": "execute_result"
    }
   ],
   "source": [
    "RAND_TENSOR = torch.rand(3,3)\n",
    "RAND_TENSOR"
   ]
  },
  {
   "cell_type": "code",
   "execution_count": 4,
   "id": "9b4bb6c1-9e65-4337-aef4-5251635b200f",
   "metadata": {},
   "outputs": [
    {
     "data": {
      "text/plain": [
       "torch.Size([3, 3])"
      ]
     },
     "execution_count": 4,
     "metadata": {},
     "output_type": "execute_result"
    }
   ],
   "source": [
    "RAND_TENSOR.shape"
   ]
  },
  {
   "cell_type": "code",
   "execution_count": 5,
   "id": "73720db5-9b01-452a-bb76-e1bac0d99731",
   "metadata": {},
   "outputs": [
    {
     "data": {
      "text/plain": [
       "device(type='cpu')"
      ]
     },
     "execution_count": 5,
     "metadata": {},
     "output_type": "execute_result"
    }
   ],
   "source": [
    "RAND_TENSOR.device"
   ]
  },
  {
   "cell_type": "code",
   "execution_count": 6,
   "id": "6110e205-2c9a-45bc-89d6-90c11af33d39",
   "metadata": {},
   "outputs": [
    {
     "data": {
      "text/plain": [
       "torch.float32"
      ]
     },
     "execution_count": 6,
     "metadata": {},
     "output_type": "execute_result"
    }
   ],
   "source": [
    "RAND_TENSOR.dtype"
   ]
  },
  {
   "cell_type": "code",
   "execution_count": 8,
   "id": "084591c6-97e3-4337-ac50-32386b5297df",
   "metadata": {},
   "outputs": [
    {
     "data": {
      "text/plain": [
       "torch.Size([3, 3])"
      ]
     },
     "execution_count": 8,
     "metadata": {},
     "output_type": "execute_result"
    }
   ],
   "source": [
    "RAND_TENSOR.size()"
   ]
  },
  {
   "cell_type": "code",
   "execution_count": null,
   "id": "5334acea-4038-4341-9f50-1d5fa65191d0",
   "metadata": {},
   "outputs": [],
   "source": []
  },
  {
   "cell_type": "markdown",
   "id": "d10aefdc-f806-4e50-8f4d-2a1a5bb797d7",
   "metadata": {},
   "source": [
    "## Tensor Operations"
   ]
  },
  {
   "cell_type": "code",
   "execution_count": 9,
   "id": "bdc5d39b-45aa-4d72-ad77-26c476e7d872",
   "metadata": {},
   "outputs": [
    {
     "data": {
      "text/plain": [
       "tensor([[10.1230, 10.4845, 10.3443],\n",
       "        [10.9828, 10.8259, 10.7232],\n",
       "        [10.8944, 10.5039, 10.2507]])"
      ]
     },
     "execution_count": 9,
     "metadata": {},
     "output_type": "execute_result"
    }
   ],
   "source": [
    "RAND_TENSOR+10"
   ]
  },
  {
   "cell_type": "code",
   "execution_count": 10,
   "id": "fdf89096-4ed8-4e7e-9ba2-42bad12ab7b2",
   "metadata": {},
   "outputs": [
    {
     "data": {
      "text/plain": [
       "tensor([[-9.8770, -9.5155, -9.6557],\n",
       "        [-9.0172, -9.1741, -9.2768],\n",
       "        [-9.1056, -9.4961, -9.7493]])"
      ]
     },
     "execution_count": 10,
     "metadata": {},
     "output_type": "execute_result"
    }
   ],
   "source": [
    "RAND_TENSOR-10"
   ]
  },
  {
   "cell_type": "code",
   "execution_count": 11,
   "id": "2fd05e5d-d2ee-4fbb-8c4d-0965a8efca3d",
   "metadata": {},
   "outputs": [
    {
     "data": {
      "text/plain": [
       "tensor([[1.2304, 4.8446, 3.4429],\n",
       "        [9.8275, 8.2588, 7.2320],\n",
       "        [8.9439, 5.0393, 2.5073]])"
      ]
     },
     "execution_count": 11,
     "metadata": {},
     "output_type": "execute_result"
    }
   ],
   "source": [
    "RAND_TENSOR*10"
   ]
  },
  {
   "cell_type": "code",
   "execution_count": 12,
   "id": "d0964fff-a24d-4914-a544-1a125a5e5251",
   "metadata": {},
   "outputs": [
    {
     "data": {
      "text/plain": [
       "tensor([[0.0123, 0.0484, 0.0344],\n",
       "        [0.0983, 0.0826, 0.0723],\n",
       "        [0.0894, 0.0504, 0.0251]])"
      ]
     },
     "execution_count": 12,
     "metadata": {},
     "output_type": "execute_result"
    }
   ],
   "source": [
    "RAND_TENSOR/10"
   ]
  },
  {
   "cell_type": "code",
   "execution_count": 2,
   "id": "47fa7f6c-c368-4c64-bf58-bc7f57625e81",
   "metadata": {},
   "outputs": [],
   "source": [
    "var_01 = torch.tensor([[1,2,3],[4,5,6]])\n",
    "var_02 = torch.tensor([[7,8],[9,10],[11,12]])"
   ]
  },
  {
   "cell_type": "code",
   "execution_count": 3,
   "id": "364b31b2-54ce-43ec-91cc-1d7927c62d6b",
   "metadata": {},
   "outputs": [
    {
     "data": {
      "text/plain": [
       "tensor([[1, 2, 3],\n",
       "        [4, 5, 6]])"
      ]
     },
     "execution_count": 3,
     "metadata": {},
     "output_type": "execute_result"
    }
   ],
   "source": [
    "var_01"
   ]
  },
  {
   "cell_type": "code",
   "execution_count": 4,
   "id": "44356410-440d-40ea-91ae-7714fba8231d",
   "metadata": {},
   "outputs": [
    {
     "data": {
      "text/plain": [
       "tensor([[ 7,  8],\n",
       "        [ 9, 10],\n",
       "        [11, 12]])"
      ]
     },
     "execution_count": 4,
     "metadata": {},
     "output_type": "execute_result"
    }
   ],
   "source": [
    "var_02"
   ]
  },
  {
   "cell_type": "code",
   "execution_count": 5,
   "id": "15d2db22-7aed-4838-a91d-8a55ba9fc587",
   "metadata": {},
   "outputs": [
    {
     "name": "stdout",
     "output_type": "stream",
     "text": [
      "CPU times: user 2.58 ms, sys: 3.27 ms, total: 5.85 ms\n",
      "Wall time: 13.8 ms\n"
     ]
    },
    {
     "data": {
      "text/plain": [
       "tensor([[ 58,  64],\n",
       "        [139, 154]])"
      ]
     },
     "execution_count": 5,
     "metadata": {},
     "output_type": "execute_result"
    }
   ],
   "source": [
    "%%time\n",
    "torch.matmul(var_01, var_02)"
   ]
  },
  {
   "cell_type": "code",
   "execution_count": null,
   "id": "40bc1e1b-b17f-4763-923c-f51a5d0a4a11",
   "metadata": {},
   "outputs": [],
   "source": []
  },
  {
   "cell_type": "code",
   "execution_count": 6,
   "id": "ce8433be-073f-49af-b44d-8288dcd5a4aa",
   "metadata": {},
   "outputs": [
    {
     "data": {
      "text/plain": [
       "tensor([[ 58,  64],\n",
       "        [139, 154]])"
      ]
     },
     "execution_count": 6,
     "metadata": {},
     "output_type": "execute_result"
    }
   ],
   "source": [
    "var_01 @ var_02"
   ]
  },
  {
   "cell_type": "code",
   "execution_count": null,
   "id": "e0192fab-1b9b-4c5e-84ca-a2f96ff044f2",
   "metadata": {},
   "outputs": [],
   "source": []
  },
  {
   "cell_type": "markdown",
   "id": "5847133b-96b9-4402-9ebb-52fe0cedcef1",
   "metadata": {},
   "source": [
    "## Matrix Transpose"
   ]
  },
  {
   "cell_type": "code",
   "execution_count": 36,
   "id": "40aee28c-2b9a-4597-a27a-b40051e7567d",
   "metadata": {},
   "outputs": [
    {
     "data": {
      "text/plain": [
       "tensor([[1, 2, 3],\n",
       "        [4, 5, 6]])"
      ]
     },
     "execution_count": 36,
     "metadata": {},
     "output_type": "execute_result"
    }
   ],
   "source": [
    "matrix_a = torch.tensor([[1,2,3],[4,5,6]])\n",
    "matrix_a"
   ]
  },
  {
   "cell_type": "code",
   "execution_count": 8,
   "id": "d0f186f0-78bb-4324-9e96-096fe64c5765",
   "metadata": {},
   "outputs": [
    {
     "data": {
      "text/plain": [
       "tensor([[1, 4],\n",
       "        [2, 5],\n",
       "        [3, 6]])"
      ]
     },
     "execution_count": 8,
     "metadata": {},
     "output_type": "execute_result"
    }
   ],
   "source": [
    "matrix_a.T"
   ]
  },
  {
   "cell_type": "code",
   "execution_count": null,
   "id": "90c0a2b6-e883-4568-bf36-a35366355d35",
   "metadata": {},
   "outputs": [],
   "source": []
  },
  {
   "cell_type": "code",
   "execution_count": 14,
   "id": "ce1aad94-d250-4a4f-89a0-4a3ea0027df8",
   "metadata": {},
   "outputs": [
    {
     "data": {
      "text/plain": [
       "(tensor(1), tensor(1))"
      ]
     },
     "execution_count": 14,
     "metadata": {},
     "output_type": "execute_result"
    }
   ],
   "source": [
    "## Tensor Aggregaion (Min, Max, Mean, Sum)\n",
    "torch.min(matrix_a), matrix_a.min()"
   ]
  },
  {
   "cell_type": "code",
   "execution_count": 15,
   "id": "013a9429-1f60-4b04-8dcb-d583edfaaf18",
   "metadata": {},
   "outputs": [
    {
     "data": {
      "text/plain": [
       "(tensor(6), tensor(6))"
      ]
     },
     "execution_count": 15,
     "metadata": {},
     "output_type": "execute_result"
    }
   ],
   "source": [
    "torch.max(matrix_a), matrix_a.max()"
   ]
  },
  {
   "cell_type": "code",
   "execution_count": 16,
   "id": "52ac8b40-9ad3-46ac-981c-f3c08b094142",
   "metadata": {},
   "outputs": [
    {
     "data": {
      "text/plain": [
       "(tensor(21), tensor(21))"
      ]
     },
     "execution_count": 16,
     "metadata": {},
     "output_type": "execute_result"
    }
   ],
   "source": [
    "torch.sum(matrix_a), matrix_a.sum()"
   ]
  },
  {
   "cell_type": "code",
   "execution_count": 37,
   "id": "f8cb368f-ed60-4887-8ba5-2be75d88a48f",
   "metadata": {},
   "outputs": [
    {
     "data": {
      "text/plain": [
       "torch.int64"
      ]
     },
     "execution_count": 37,
     "metadata": {},
     "output_type": "execute_result"
    }
   ],
   "source": [
    "matrix_a.dtype"
   ]
  },
  {
   "cell_type": "code",
   "execution_count": 38,
   "id": "93190866-618d-45b2-acb7-7dc2c4cb138e",
   "metadata": {},
   "outputs": [
    {
     "data": {
      "text/plain": [
       "tensor([[1., 2., 3.],\n",
       "        [4., 5., 6.]], dtype=torch.float64)"
      ]
     },
     "execution_count": 38,
     "metadata": {},
     "output_type": "execute_result"
    }
   ],
   "source": [
    "matrix_a = matrix_a.to(torch.float64)\n",
    "matrix_a"
   ]
  },
  {
   "cell_type": "code",
   "execution_count": 33,
   "id": "b260a855-da50-4326-8b8a-4b5d824808dc",
   "metadata": {},
   "outputs": [
    {
     "data": {
      "text/plain": [
       "tensor([[1., 2., 3.],\n",
       "        [4., 5., 6.]], dtype=torch.float64)"
      ]
     },
     "execution_count": 33,
     "metadata": {},
     "output_type": "execute_result"
    }
   ],
   "source": [
    "matrix_a = matrix_a.type(torch.float64)\n",
    "matrix_a"
   ]
  },
  {
   "cell_type": "code",
   "execution_count": 34,
   "id": "f354a645-f845-45a1-99db-bda10613f2e3",
   "metadata": {},
   "outputs": [
    {
     "data": {
      "text/plain": [
       "torch.float64"
      ]
     },
     "execution_count": 34,
     "metadata": {},
     "output_type": "execute_result"
    }
   ],
   "source": [
    "matrix_a.dtype"
   ]
  },
  {
   "cell_type": "code",
   "execution_count": 35,
   "id": "70c17b71-9c92-458b-98c5-cce22752add5",
   "metadata": {},
   "outputs": [
    {
     "data": {
      "text/plain": [
       "(tensor(3.5000, dtype=torch.float64), tensor(3.5000, dtype=torch.float64))"
      ]
     },
     "execution_count": 35,
     "metadata": {},
     "output_type": "execute_result"
    }
   ],
   "source": [
    "torch.mean(matrix_a), matrix_a.mean()"
   ]
  },
  {
   "cell_type": "code",
   "execution_count": null,
   "id": "fce89fb2-de3f-4b8d-9289-78f1cc3fd7ea",
   "metadata": {},
   "outputs": [],
   "source": []
  },
  {
   "cell_type": "markdown",
   "id": "7af40ab0-8197-4d36-a1fe-659c7c8bf589",
   "metadata": {},
   "source": [
    "## Positional Min and Max"
   ]
  },
  {
   "cell_type": "code",
   "execution_count": 41,
   "id": "bf2427ab-193c-45e4-8df2-436c0e5c0b0f",
   "metadata": {},
   "outputs": [
    {
     "data": {
      "text/plain": [
       "tensor([[ 3,  6,  8],\n",
       "        [10,  2,  5],\n",
       "        [ 8, 90, -1]])"
      ]
     },
     "execution_count": 41,
     "metadata": {},
     "output_type": "execute_result"
    }
   ],
   "source": [
    "matrix_b = torch.tensor([[3,6,8],[10,2,5],[8,90,-1]])\n",
    "matrix_b"
   ]
  },
  {
   "cell_type": "code",
   "execution_count": 45,
   "id": "02c9730e-d4cb-4849-86e4-67ce44bd34cc",
   "metadata": {},
   "outputs": [
    {
     "data": {
      "text/plain": [
       "(tensor(7), tensor(7))"
      ]
     },
     "execution_count": 45,
     "metadata": {},
     "output_type": "execute_result"
    }
   ],
   "source": [
    "torch.argmax(matrix_b), matrix_b.argmax()"
   ]
  },
  {
   "cell_type": "code",
   "execution_count": 46,
   "id": "0e848b5f-e8a8-41cf-9b7e-55cc9adbaded",
   "metadata": {},
   "outputs": [
    {
     "data": {
      "text/plain": [
       "(tensor(8), tensor(8))"
      ]
     },
     "execution_count": 46,
     "metadata": {},
     "output_type": "execute_result"
    }
   ],
   "source": [
    "torch.argmin(matrix_b), matrix_b.argmin()"
   ]
  },
  {
   "cell_type": "code",
   "execution_count": null,
   "id": "c376e951-8f6e-4872-ad6a-b3a550472ec2",
   "metadata": {},
   "outputs": [],
   "source": []
  },
  {
   "cell_type": "markdown",
   "id": "151f6583-c5bc-4229-9651-12ceb619ceb8",
   "metadata": {},
   "source": [
    "## Tensor Reshaping"
   ]
  },
  {
   "cell_type": "code",
   "execution_count": 51,
   "id": "e8e8582f-fecc-4657-acb5-d76e006bfebe",
   "metadata": {},
   "outputs": [
    {
     "data": {
      "text/plain": [
       "tensor([1, 2, 3, 4, 5, 6, 7, 8, 9])"
      ]
     },
     "execution_count": 51,
     "metadata": {},
     "output_type": "execute_result"
    }
   ],
   "source": [
    "x = torch.arange(1,10)\n",
    "x"
   ]
  },
  {
   "cell_type": "code",
   "execution_count": 52,
   "id": "6438b4ef-3460-4082-814c-6ca65af03c26",
   "metadata": {},
   "outputs": [
    {
     "data": {
      "text/plain": [
       "tensor([[1, 2, 3],\n",
       "        [4, 5, 6],\n",
       "        [7, 8, 9]])"
      ]
     },
     "execution_count": 52,
     "metadata": {},
     "output_type": "execute_result"
    }
   ],
   "source": [
    "x.reshape(3,3)"
   ]
  },
  {
   "cell_type": "code",
   "execution_count": 53,
   "id": "d58e711b-a981-41ad-bc70-d778e185b364",
   "metadata": {},
   "outputs": [
    {
     "data": {
      "text/plain": [
       "tensor([[1],\n",
       "        [2],\n",
       "        [3],\n",
       "        [4],\n",
       "        [5],\n",
       "        [6],\n",
       "        [7],\n",
       "        [8],\n",
       "        [9]])"
      ]
     },
     "execution_count": 53,
     "metadata": {},
     "output_type": "execute_result"
    }
   ],
   "source": [
    "x.reshape(9,1)"
   ]
  },
  {
   "cell_type": "code",
   "execution_count": 55,
   "id": "8672cca8-1738-40a9-9271-056ea441d195",
   "metadata": {},
   "outputs": [
    {
     "name": "stdout",
     "output_type": "stream",
     "text": [
      "tensor([1, 2, 3, 4, 5, 6, 7, 8, 9])\n"
     ]
    }
   ],
   "source": [
    "# Tensor view : Same as reshape but it's share the same memory \n",
    "print(x)"
   ]
  },
  {
   "cell_type": "code",
   "execution_count": 57,
   "id": "f13c20f2-edb9-499b-ab26-c7ff3516601f",
   "metadata": {},
   "outputs": [
    {
     "data": {
      "text/plain": [
       "tensor([[1, 2, 3],\n",
       "        [4, 5, 6],\n",
       "        [7, 8, 9]])"
      ]
     },
     "execution_count": 57,
     "metadata": {},
     "output_type": "execute_result"
    }
   ],
   "source": [
    "y = x.view(3,3)\n",
    "y"
   ]
  },
  {
   "cell_type": "code",
   "execution_count": 62,
   "id": "b51704e2-f16f-4728-be73-b3fc0c25546a",
   "metadata": {},
   "outputs": [],
   "source": [
    "y[0,1] = 20"
   ]
  },
  {
   "cell_type": "code",
   "execution_count": 63,
   "id": "0e4d9020-cc2a-4d64-b405-a79044c38791",
   "metadata": {},
   "outputs": [
    {
     "name": "stdout",
     "output_type": "stream",
     "text": [
      "tensor([ 1, 20,  3,  4,  5,  6,  7,  8,  9])\n",
      "tensor([[ 1, 20,  3],\n",
      "        [ 4,  5,  6],\n",
      "        [ 7,  8,  9]])\n"
     ]
    }
   ],
   "source": [
    "print(x)\n",
    "print(y)"
   ]
  },
  {
   "cell_type": "code",
   "execution_count": 80,
   "id": "7c09a124-4787-4bf9-9161-b90128927144",
   "metadata": {},
   "outputs": [
    {
     "data": {
      "text/plain": [
       "array([ 1, 20,  3,  4,  5,  6,  7,  8,  9])"
      ]
     },
     "execution_count": 80,
     "metadata": {},
     "output_type": "execute_result"
    }
   ],
   "source": [
    "x.numpy()"
   ]
  },
  {
   "cell_type": "code",
   "execution_count": null,
   "id": "9324941c-2da6-429c-b7c9-2fc102914fd0",
   "metadata": {},
   "outputs": [],
   "source": []
  },
  {
   "cell_type": "code",
   "execution_count": 71,
   "id": "932f8e94-0cc8-4a52-a772-f2bbe7af6936",
   "metadata": {},
   "outputs": [
    {
     "data": {
      "text/plain": [
       "tensor([[ 1, 20,  3,  4,  5,  6,  7,  8,  9],\n",
       "        [ 1, 20,  3,  4,  5,  6,  7,  8,  9],\n",
       "        [ 1, 20,  3,  4,  5,  6,  7,  8,  9]])"
      ]
     },
     "execution_count": 71,
     "metadata": {},
     "output_type": "execute_result"
    }
   ],
   "source": [
    "# Troch Stack\n",
    "torch.stack([x,x,x], dim=0)"
   ]
  },
  {
   "cell_type": "code",
   "execution_count": 85,
   "id": "ff04c9d7-482d-483f-83db-8d67cca40d72",
   "metadata": {},
   "outputs": [
    {
     "data": {
      "text/plain": [
       "torch.Size([9])"
      ]
     },
     "execution_count": 85,
     "metadata": {},
     "output_type": "execute_result"
    }
   ],
   "source": [
    "x.shape"
   ]
  },
  {
   "cell_type": "code",
   "execution_count": null,
   "id": "258ca511-3663-402a-b000-f8f12856ea88",
   "metadata": {},
   "outputs": [],
   "source": []
  },
  {
   "cell_type": "markdown",
   "id": "1aea2596-0ce4-416d-b5cd-30c57c12f213",
   "metadata": {},
   "source": [
    "## Torch Squeeze: Remove all single dimensions from a target tensor"
   ]
  },
  {
   "cell_type": "code",
   "execution_count": 1,
   "id": "24bc7e69-aa0c-478d-89e8-15276fd71457",
   "metadata": {},
   "outputs": [],
   "source": [
    "import torch"
   ]
  },
  {
   "cell_type": "code",
   "execution_count": 26,
   "id": "e81a88c4-7598-48ca-9897-6cabe4080fa5",
   "metadata": {},
   "outputs": [
    {
     "data": {
      "text/plain": [
       "tensor([[[3, 3]]])"
      ]
     },
     "execution_count": 26,
     "metadata": {},
     "output_type": "execute_result"
    }
   ],
   "source": [
    "var_x = torch.tensor([[[3,3]]])\n",
    "var_x"
   ]
  },
  {
   "cell_type": "code",
   "execution_count": 27,
   "id": "a7e047fc-c0ac-4001-b563-9bda91e9ac24",
   "metadata": {},
   "outputs": [
    {
     "data": {
      "text/plain": [
       "torch.Size([1, 1, 2])"
      ]
     },
     "execution_count": 27,
     "metadata": {},
     "output_type": "execute_result"
    }
   ],
   "source": [
    "var_x.shape"
   ]
  },
  {
   "cell_type": "code",
   "execution_count": 28,
   "id": "9215f381-c5fa-4c20-a2d5-561b92090c0a",
   "metadata": {},
   "outputs": [
    {
     "data": {
      "text/plain": [
       "tensor([3, 3])"
      ]
     },
     "execution_count": 28,
     "metadata": {},
     "output_type": "execute_result"
    }
   ],
   "source": [
    "var_y = var_x.squeeze()\n",
    "var_y"
   ]
  },
  {
   "cell_type": "code",
   "execution_count": 29,
   "id": "79e9e3fd-d310-40cc-a977-28268747ddb0",
   "metadata": {},
   "outputs": [
    {
     "data": {
      "text/plain": [
       "torch.Size([2])"
      ]
     },
     "execution_count": 29,
     "metadata": {},
     "output_type": "execute_result"
    }
   ],
   "source": [
    "var_y.shape"
   ]
  },
  {
   "cell_type": "code",
   "execution_count": null,
   "id": "4b9484e6-2899-4531-8057-6a4d6f32b1fe",
   "metadata": {},
   "outputs": [],
   "source": []
  },
  {
   "cell_type": "markdown",
   "id": "0e3d44ad-6bf5-4adc-89d3-0856d0491134",
   "metadata": {},
   "source": [
    "## Torch Unsqueeze: Add extra dimension to a target tensor"
   ]
  },
  {
   "cell_type": "code",
   "execution_count": 30,
   "id": "bdbd3aef-e011-4f81-9344-d620837913cc",
   "metadata": {},
   "outputs": [
    {
     "data": {
      "text/plain": [
       "tensor([1, 2, 3])"
      ]
     },
     "execution_count": 30,
     "metadata": {},
     "output_type": "execute_result"
    }
   ],
   "source": [
    "var_a = torch.tensor([1,2,3])\n",
    "var_a"
   ]
  },
  {
   "cell_type": "code",
   "execution_count": 31,
   "id": "aaebc540-4f0a-4274-97dc-47ed7e65cf3f",
   "metadata": {},
   "outputs": [
    {
     "data": {
      "text/plain": [
       "torch.Size([3])"
      ]
     },
     "execution_count": 31,
     "metadata": {},
     "output_type": "execute_result"
    }
   ],
   "source": [
    "var_a.shape"
   ]
  },
  {
   "cell_type": "code",
   "execution_count": 37,
   "id": "7028e081-2ee0-4502-9a60-c8e55e01092d",
   "metadata": {},
   "outputs": [
    {
     "data": {
      "text/plain": [
       "tensor([[1, 2, 3]])"
      ]
     },
     "execution_count": 37,
     "metadata": {},
     "output_type": "execute_result"
    }
   ],
   "source": [
    "var_b = var_a.unsqueeze(dim=0)\n",
    "var_b"
   ]
  },
  {
   "cell_type": "code",
   "execution_count": 42,
   "id": "9eeca526-b207-44f4-8cd5-83b336c3e59d",
   "metadata": {},
   "outputs": [
    {
     "data": {
      "text/plain": [
       "tensor([[[1, 2, 3]]])"
      ]
     },
     "execution_count": 42,
     "metadata": {},
     "output_type": "execute_result"
    }
   ],
   "source": [
    "var_c = var_b.unsqueeze(dim=0)\n",
    "var_c"
   ]
  },
  {
   "cell_type": "code",
   "execution_count": 43,
   "id": "0d6f2dd8-465e-496d-b27a-3ed763f495fd",
   "metadata": {},
   "outputs": [
    {
     "data": {
      "text/plain": [
       "tensor([1, 2, 3])"
      ]
     },
     "execution_count": 43,
     "metadata": {},
     "output_type": "execute_result"
    }
   ],
   "source": [
    "var_a"
   ]
  },
  {
   "cell_type": "code",
   "execution_count": null,
   "id": "5486be49-8406-4e72-aa58-8a5fd3a975dc",
   "metadata": {},
   "outputs": [],
   "source": []
  },
  {
   "cell_type": "markdown",
   "id": "724df9bf-e166-40e0-9332-b85b1724898c",
   "metadata": {},
   "source": [
    "## Torch Permute"
   ]
  },
  {
   "cell_type": "code",
   "execution_count": 51,
   "id": "b5ac9278-b612-4d48-831c-08b92f8b6d5a",
   "metadata": {},
   "outputs": [
    {
     "data": {
      "text/plain": [
       "tensor([[[0.0578, 0.0459, 0.9137],\n",
       "         [0.8686, 0.8768, 0.8686],\n",
       "         [0.7993, 0.3492, 0.9924],\n",
       "         ...,\n",
       "         [0.0743, 0.3495, 0.9759],\n",
       "         [0.0350, 0.1735, 0.7364],\n",
       "         [0.1954, 0.1952, 0.9051]],\n",
       "\n",
       "        [[0.8440, 0.4849, 0.6860],\n",
       "         [0.5571, 0.0773, 0.2800],\n",
       "         [0.8110, 0.0387, 0.8574],\n",
       "         ...,\n",
       "         [0.5903, 0.8346, 0.9171],\n",
       "         [0.2974, 0.0437, 0.2172],\n",
       "         [0.1432, 0.8050, 0.2062]],\n",
       "\n",
       "        [[0.0935, 0.6066, 0.3478],\n",
       "         [0.2234, 0.0880, 0.0150],\n",
       "         [0.2804, 0.6402, 0.4195],\n",
       "         ...,\n",
       "         [0.5016, 0.5538, 0.6625],\n",
       "         [0.9116, 0.5567, 0.3810],\n",
       "         [0.1688, 0.5169, 0.2573]],\n",
       "\n",
       "        ...,\n",
       "\n",
       "        [[0.0825, 0.1407, 0.1235],\n",
       "         [0.6775, 0.6946, 0.7626],\n",
       "         [0.5223, 0.0446, 0.1902],\n",
       "         ...,\n",
       "         [0.3849, 0.2298, 0.8655],\n",
       "         [0.3501, 0.8128, 0.9968],\n",
       "         [0.4515, 0.2764, 0.7101]],\n",
       "\n",
       "        [[0.8700, 0.1784, 0.5098],\n",
       "         [0.4528, 0.7272, 0.0621],\n",
       "         [0.3330, 0.8229, 0.1093],\n",
       "         ...,\n",
       "         [0.2237, 0.8553, 0.5677],\n",
       "         [0.8152, 0.8045, 0.9297],\n",
       "         [0.7652, 0.8042, 0.7441]],\n",
       "\n",
       "        [[0.4062, 0.8990, 0.0983],\n",
       "         [0.4027, 0.2325, 0.3062],\n",
       "         [0.8045, 0.4104, 0.5572],\n",
       "         ...,\n",
       "         [0.6327, 0.0048, 0.5746],\n",
       "         [0.7090, 0.4374, 0.2262],\n",
       "         [0.2825, 0.3360, 0.1482]]])"
      ]
     },
     "execution_count": 51,
     "metadata": {},
     "output_type": "execute_result"
    }
   ],
   "source": [
    "x = torch.rand(size=(224,224,3)) # {height, width, color_channels}\n",
    "x"
   ]
  },
  {
   "cell_type": "code",
   "execution_count": 53,
   "id": "4782c5d2-7a13-4364-b22c-bac013a32253",
   "metadata": {},
   "outputs": [
    {
     "data": {
      "text/plain": [
       "tensor([[[0.0578, 0.8686, 0.7993,  ..., 0.0743, 0.0350, 0.1954],\n",
       "         [0.8440, 0.5571, 0.8110,  ..., 0.5903, 0.2974, 0.1432],\n",
       "         [0.0935, 0.2234, 0.2804,  ..., 0.5016, 0.9116, 0.1688],\n",
       "         ...,\n",
       "         [0.0825, 0.6775, 0.5223,  ..., 0.3849, 0.3501, 0.4515],\n",
       "         [0.8700, 0.4528, 0.3330,  ..., 0.2237, 0.8152, 0.7652],\n",
       "         [0.4062, 0.4027, 0.8045,  ..., 0.6327, 0.7090, 0.2825]],\n",
       "\n",
       "        [[0.0459, 0.8768, 0.3492,  ..., 0.3495, 0.1735, 0.1952],\n",
       "         [0.4849, 0.0773, 0.0387,  ..., 0.8346, 0.0437, 0.8050],\n",
       "         [0.6066, 0.0880, 0.6402,  ..., 0.5538, 0.5567, 0.5169],\n",
       "         ...,\n",
       "         [0.1407, 0.6946, 0.0446,  ..., 0.2298, 0.8128, 0.2764],\n",
       "         [0.1784, 0.7272, 0.8229,  ..., 0.8553, 0.8045, 0.8042],\n",
       "         [0.8990, 0.2325, 0.4104,  ..., 0.0048, 0.4374, 0.3360]],\n",
       "\n",
       "        [[0.9137, 0.8686, 0.9924,  ..., 0.9759, 0.7364, 0.9051],\n",
       "         [0.6860, 0.2800, 0.8574,  ..., 0.9171, 0.2172, 0.2062],\n",
       "         [0.3478, 0.0150, 0.4195,  ..., 0.6625, 0.3810, 0.2573],\n",
       "         ...,\n",
       "         [0.1235, 0.7626, 0.1902,  ..., 0.8655, 0.9968, 0.7101],\n",
       "         [0.5098, 0.0621, 0.1093,  ..., 0.5677, 0.9297, 0.7441],\n",
       "         [0.0983, 0.3062, 0.5572,  ..., 0.5746, 0.2262, 0.1482]]])"
      ]
     },
     "execution_count": 53,
     "metadata": {},
     "output_type": "execute_result"
    }
   ],
   "source": [
    "y = torch.permute(x, (2,0,1)) # {color_channels, height, width}\n",
    "y"
   ]
  },
  {
   "cell_type": "code",
   "execution_count": 55,
   "id": "4cba0d39-0f82-4181-b686-20dfa9efb321",
   "metadata": {},
   "outputs": [],
   "source": [
    "x[0,0,0] = 108"
   ]
  },
  {
   "cell_type": "code",
   "execution_count": 57,
   "id": "b3196ed7-7000-4de3-8b42-dac8c56299e1",
   "metadata": {},
   "outputs": [
    {
     "data": {
      "text/plain": [
       "tensor(108.)"
      ]
     },
     "execution_count": 57,
     "metadata": {},
     "output_type": "execute_result"
    }
   ],
   "source": [
    "x[0,0,0]"
   ]
  },
  {
   "cell_type": "code",
   "execution_count": 58,
   "id": "725ddee9-749c-4585-89c3-98e66f764095",
   "metadata": {},
   "outputs": [
    {
     "data": {
      "text/plain": [
       "tensor(108.)"
      ]
     },
     "execution_count": 58,
     "metadata": {},
     "output_type": "execute_result"
    }
   ],
   "source": [
    "y[0,0,0]"
   ]
  },
  {
   "cell_type": "code",
   "execution_count": 63,
   "id": "2e048e6c-2ed2-417e-860c-b5685fa13f7b",
   "metadata": {},
   "outputs": [
    {
     "data": {
      "text/plain": [
       "tensor([[[1, 2, 3],\n",
       "         [4, 5, 6],\n",
       "         [7, 8, 9]]])"
      ]
     },
     "execution_count": 63,
     "metadata": {},
     "output_type": "execute_result"
    }
   ],
   "source": [
    "var_x = torch.arange(1,10).reshape(1,3,3)\n",
    "var_x"
   ]
  },
  {
   "cell_type": "code",
   "execution_count": 70,
   "id": "87e534a8-d2a0-4435-a3cd-246e52788785",
   "metadata": {},
   "outputs": [
    {
     "data": {
      "text/plain": [
       "tensor([4, 5, 6])"
      ]
     },
     "execution_count": 70,
     "metadata": {},
     "output_type": "execute_result"
    }
   ],
   "source": [
    "var_x[0][1]"
   ]
  },
  {
   "cell_type": "code",
   "execution_count": 65,
   "id": "11f3f2f4-2dee-4802-bbfc-3515abc66811",
   "metadata": {},
   "outputs": [
    {
     "data": {
      "text/plain": [
       "tensor([[4, 5, 6]])"
      ]
     },
     "execution_count": 65,
     "metadata": {},
     "output_type": "execute_result"
    }
   ],
   "source": [
    "var_x[:,1]"
   ]
  },
  {
   "cell_type": "code",
   "execution_count": 74,
   "id": "afe091ba-72e0-4032-a9be-89a0d1b34a25",
   "metadata": {},
   "outputs": [
    {
     "data": {
      "text/plain": [
       "tensor([5])"
      ]
     },
     "execution_count": 74,
     "metadata": {},
     "output_type": "execute_result"
    }
   ],
   "source": [
    "var_x[:,1,1] # Select All"
   ]
  },
  {
   "cell_type": "code",
   "execution_count": 73,
   "id": "db3d0408-f47a-41bf-9ec1-e3e943e75a91",
   "metadata": {},
   "outputs": [
    {
     "data": {
      "text/plain": [
       "tensor(5)"
      ]
     },
     "execution_count": 73,
     "metadata": {},
     "output_type": "execute_result"
    }
   ],
   "source": [
    " var_x[0,1,1] # Select Specificl"
   ]
  },
  {
   "cell_type": "code",
   "execution_count": 76,
   "id": "45f44db1-b9e3-4b15-ae02-9884a8d05d9a",
   "metadata": {},
   "outputs": [
    {
     "data": {
      "text/plain": [
       "tensor([1, 2, 3])"
      ]
     },
     "execution_count": 76,
     "metadata": {},
     "output_type": "execute_result"
    }
   ],
   "source": [
    "var_x[0,0,:]"
   ]
  },
  {
   "cell_type": "code",
   "execution_count": 77,
   "id": "f2711366-78b6-492f-97ff-e97951b7adfa",
   "metadata": {},
   "outputs": [
    {
     "data": {
      "text/plain": [
       "tensor(9)"
      ]
     },
     "execution_count": 77,
     "metadata": {},
     "output_type": "execute_result"
    }
   ],
   "source": [
    "var_x[0,2,2]"
   ]
  },
  {
   "cell_type": "code",
   "execution_count": 78,
   "id": "84f78a3b-1f38-4327-bbaa-ffa75286e051",
   "metadata": {},
   "outputs": [
    {
     "data": {
      "text/plain": [
       "tensor([3, 6, 9])"
      ]
     },
     "execution_count": 78,
     "metadata": {},
     "output_type": "execute_result"
    }
   ],
   "source": [
    "var_x[0,:,2]"
   ]
  },
  {
   "cell_type": "code",
   "execution_count": null,
   "id": "f47921a2-8b48-4e53-8626-831f3ea1cd6c",
   "metadata": {},
   "outputs": [],
   "source": [
    " "
   ]
  },
  {
   "cell_type": "markdown",
   "id": "4db05a40-63e3-4d7e-9c4e-52d87f3722b7",
   "metadata": {},
   "source": [
    "## Numpy on Tensor"
   ]
  },
  {
   "cell_type": "code",
   "execution_count": 82,
   "id": "1a515cb1-c37e-4845-b63d-591d5240d49e",
   "metadata": {},
   "outputs": [
    {
     "data": {
      "text/plain": [
       "array([1, 2, 3, 4, 5, 6, 7, 8, 9])"
      ]
     },
     "execution_count": 82,
     "metadata": {},
     "output_type": "execute_result"
    }
   ],
   "source": [
    "import numpy as np\n",
    "var_a = np.arange(1,10)\n",
    "var_a"
   ]
  },
  {
   "cell_type": "code",
   "execution_count": 83,
   "id": "557de7cf-6afb-4941-8b54-0d39692616ab",
   "metadata": {},
   "outputs": [
    {
     "data": {
      "text/plain": [
       "dtype('int64')"
      ]
     },
     "execution_count": 83,
     "metadata": {},
     "output_type": "execute_result"
    }
   ],
   "source": [
    "var_a.dtype"
   ]
  },
  {
   "cell_type": "code",
   "execution_count": 84,
   "id": "20d3bb39-c59e-41b8-8f99-36b12c0aae9e",
   "metadata": {},
   "outputs": [
    {
     "data": {
      "text/plain": [
       "tensor([1, 2, 3, 4, 5, 6, 7, 8, 9])"
      ]
     },
     "execution_count": 84,
     "metadata": {},
     "output_type": "execute_result"
    }
   ],
   "source": [
    "torch_var_a = torch.from_numpy(var_a)\n",
    "torch_var_a"
   ]
  },
  {
   "cell_type": "code",
   "execution_count": 85,
   "id": "4d1628ec-8beb-4715-82ba-3cb7ccf2802f",
   "metadata": {},
   "outputs": [
    {
     "data": {
      "text/plain": [
       "torch.int64"
      ]
     },
     "execution_count": 85,
     "metadata": {},
     "output_type": "execute_result"
    }
   ],
   "source": [
    "torch_var_a.dtype"
   ]
  },
  {
   "cell_type": "code",
   "execution_count": null,
   "id": "930758c8-4ce6-499c-814d-92493f42f75e",
   "metadata": {},
   "outputs": [],
   "source": []
  },
  {
   "cell_type": "code",
   "execution_count": 92,
   "id": "b717d473-0b62-4db0-8e30-27489cf0921e",
   "metadata": {},
   "outputs": [
    {
     "data": {
      "text/plain": [
       "tensor([1., 2., 3., 4., 5., 6., 7., 8., 9.], dtype=torch.float64)"
      ]
     },
     "execution_count": 92,
     "metadata": {},
     "output_type": "execute_result"
    }
   ],
   "source": [
    "var_b = torch.arange(1,10)\n",
    "var_b.type(torch.float64)"
   ]
  },
  {
   "cell_type": "code",
   "execution_count": 87,
   "id": "cb1c48ce-4a0d-4cd6-b3f1-8055897ab7f6",
   "metadata": {},
   "outputs": [
    {
     "data": {
      "text/plain": [
       "torch.int64"
      ]
     },
     "execution_count": 87,
     "metadata": {},
     "output_type": "execute_result"
    }
   ],
   "source": [
    "var_b.dtype"
   ]
  },
  {
   "cell_type": "code",
   "execution_count": 91,
   "id": "63562559-116f-4bb2-a512-8bbb27892a44",
   "metadata": {},
   "outputs": [
    {
     "data": {
      "text/plain": [
       "array([1, 2, 3, 4, 5, 6, 7, 8, 9])"
      ]
     },
     "execution_count": 91,
     "metadata": {},
     "output_type": "execute_result"
    }
   ],
   "source": [
    "torch_var_b = var_b.numpy()\n",
    "torch_var_b"
   ]
  },
  {
   "cell_type": "code",
   "execution_count": 90,
   "id": "af079eaf-911f-44a8-8f7a-a765c76c14da",
   "metadata": {},
   "outputs": [
    {
     "data": {
      "text/plain": [
       "dtype('int64')"
      ]
     },
     "execution_count": 90,
     "metadata": {},
     "output_type": "execute_result"
    }
   ],
   "source": [
    "torch_var_b.dtype"
   ]
  },
  {
   "cell_type": "code",
   "execution_count": 2,
   "id": "beedb6fa-9163-4066-afbd-84e8003eeb30",
   "metadata": {},
   "outputs": [],
   "source": [
    "import torch"
   ]
  },
  {
   "cell_type": "markdown",
   "id": "f41ff57b-4b73-4642-8baf-b18e1beb566c",
   "metadata": {},
   "source": [
    "## Random Seed"
   ]
  },
  {
   "cell_type": "code",
   "execution_count": 3,
   "id": "eef53728-e62a-4523-9cd1-501bc45c38cd",
   "metadata": {},
   "outputs": [
    {
     "name": "stdout",
     "output_type": "stream",
     "text": [
      "tensor([[0.8823, 0.9150, 0.3829],\n",
      "        [0.9593, 0.3904, 0.6009],\n",
      "        [0.2566, 0.7936, 0.9408]]) \n",
      "\n",
      "tensor([[0.8823, 0.9150, 0.3829],\n",
      "        [0.9593, 0.3904, 0.6009],\n",
      "        [0.2566, 0.7936, 0.9408]]) \n",
      "\n",
      "tensor([[True, True, True],\n",
      "        [True, True, True],\n",
      "        [True, True, True]])\n"
     ]
    }
   ],
   "source": [
    "RANDOM_SEED = 42\n",
    "\n",
    "torch.manual_seed(RANDOM_SEED)\n",
    "var_x = torch.rand(3,3)\n",
    "\n",
    "torch.manual_seed(RANDOM_SEED)\n",
    "var_y = torch.rand(3,3)\n",
    "\n",
    "print(var_x,'\\n')\n",
    "print(var_y, '\\n')\n",
    "print(var_x == var_y)"
   ]
  },
  {
   "cell_type": "code",
   "execution_count": 4,
   "id": "95bf378d-f2d5-4f1f-9f55-b611152dc333",
   "metadata": {},
   "outputs": [
    {
     "data": {
      "text/plain": [
       "'2.0.1+cpu'"
      ]
     },
     "execution_count": 4,
     "metadata": {},
     "output_type": "execute_result"
    }
   ],
   "source": [
    "torch.__version__"
   ]
  },
  {
   "cell_type": "code",
   "execution_count": 5,
   "id": "cb4f3e0b-0fe0-4358-9bfe-e0bf2a6bc16a",
   "metadata": {},
   "outputs": [
    {
     "data": {
      "text/plain": [
       "False"
      ]
     },
     "execution_count": 5,
     "metadata": {},
     "output_type": "execute_result"
    }
   ],
   "source": [
    "torch.cuda.is_available()"
   ]
  },
  {
   "cell_type": "code",
   "execution_count": 6,
   "id": "c8e6af16-101f-4362-bb8b-d594e9abe357",
   "metadata": {},
   "outputs": [
    {
     "data": {
      "text/plain": [
       "'cpu'"
      ]
     },
     "execution_count": 6,
     "metadata": {},
     "output_type": "execute_result"
    }
   ],
   "source": [
    "device = 'cuda' if torch.cuda.is_available() else 'cpu'\n",
    "device"
   ]
  },
  {
   "cell_type": "code",
   "execution_count": 7,
   "id": "ae3633ce-2fd5-4ac4-9c24-b3668bacf350",
   "metadata": {},
   "outputs": [
    {
     "data": {
      "text/plain": [
       "tensor([0.1332, 0.9346, 0.5936, 0.8694, 0.5677, 0.7411, 0.4294, 0.8854, 0.5739,\n",
       "        0.2666])"
      ]
     },
     "execution_count": 7,
     "metadata": {},
     "output_type": "execute_result"
    }
   ],
   "source": [
    "torch.rand(10)"
   ]
  },
  {
   "cell_type": "code",
   "execution_count": 8,
   "id": "614d83bb-8c9e-4904-a91c-6de7e891ea10",
   "metadata": {},
   "outputs": [
    {
     "data": {
      "text/plain": [
       "tensor([0.6274, 0.2696, 0.4414, 0.2969, 0.8317, 0.1053, 0.2695, 0.3588, 0.1994,\n",
       "        0.5472])"
      ]
     },
     "execution_count": 8,
     "metadata": {},
     "output_type": "execute_result"
    }
   ],
   "source": [
    "var_01 = torch.rand(10, device=device)\n",
    "var_01"
   ]
  },
  {
   "cell_type": "code",
   "execution_count": 9,
   "id": "e5a89b1f-636e-49ba-8811-8c02d801ba32",
   "metadata": {},
   "outputs": [
    {
     "data": {
      "text/plain": [
       "tensor([0.6274, 0.2696, 0.4414, 0.2969, 0.8317, 0.1053, 0.2695, 0.3588, 0.1994,\n",
       "        0.5472])"
      ]
     },
     "execution_count": 9,
     "metadata": {},
     "output_type": "execute_result"
    }
   ],
   "source": [
    "new_var_01 = var_01.to(device)\n",
    "new_var_01"
   ]
  },
  {
   "cell_type": "code",
   "execution_count": null,
   "id": "4d8cc2ce-f56e-4c60-9c89-d70f2b36a8af",
   "metadata": {},
   "outputs": [],
   "source": []
  },
  {
   "cell_type": "code",
   "execution_count": 10,
   "id": "5c985aed-6240-4ac3-af1a-af5eb4c69aa2",
   "metadata": {},
   "outputs": [
    {
     "name": "stdout",
     "output_type": "stream",
     "text": [
      "\n",
      " tensor([0.0000, 0.0200, 0.0400, 0.0600, 0.0800, 0.1000, 0.1200, 0.1400, 0.1600,\n",
      "        0.1800, 0.2000, 0.2200, 0.2400, 0.2600, 0.2800, 0.3000, 0.3200, 0.3400,\n",
      "        0.3600, 0.3800, 0.4000, 0.4200, 0.4400, 0.4600, 0.4800, 0.5000, 0.5200,\n",
      "        0.5400, 0.5600, 0.5800, 0.6000, 0.6200, 0.6400, 0.6600, 0.6800, 0.7000,\n",
      "        0.7200, 0.7400, 0.7600, 0.7800, 0.8000, 0.8200, 0.8400, 0.8600, 0.8800,\n",
      "        0.9000, 0.9200, 0.9400, 0.9600, 0.9800]) \n",
      "\n",
      "tensor([[0.0000],\n",
      "        [0.0200],\n",
      "        [0.0400],\n",
      "        [0.0600],\n",
      "        [0.0800],\n",
      "        [0.1000],\n",
      "        [0.1200],\n",
      "        [0.1400],\n",
      "        [0.1600],\n",
      "        [0.1800],\n",
      "        [0.2000],\n",
      "        [0.2200],\n",
      "        [0.2400],\n",
      "        [0.2600],\n",
      "        [0.2800],\n",
      "        [0.3000],\n",
      "        [0.3200],\n",
      "        [0.3400],\n",
      "        [0.3600],\n",
      "        [0.3800],\n",
      "        [0.4000],\n",
      "        [0.4200],\n",
      "        [0.4400],\n",
      "        [0.4600],\n",
      "        [0.4800],\n",
      "        [0.5000],\n",
      "        [0.5200],\n",
      "        [0.5400],\n",
      "        [0.5600],\n",
      "        [0.5800],\n",
      "        [0.6000],\n",
      "        [0.6200],\n",
      "        [0.6400],\n",
      "        [0.6600],\n",
      "        [0.6800],\n",
      "        [0.7000],\n",
      "        [0.7200],\n",
      "        [0.7400],\n",
      "        [0.7600],\n",
      "        [0.7800],\n",
      "        [0.8000],\n",
      "        [0.8200],\n",
      "        [0.8400],\n",
      "        [0.8600],\n",
      "        [0.8800],\n",
      "        [0.9000],\n",
      "        [0.9200],\n",
      "        [0.9400],\n",
      "        [0.9600],\n",
      "        [0.9800]])\n"
     ]
    }
   ],
   "source": [
    "start = 0\n",
    "end = 1\n",
    "step = 0.02\n",
    "\n",
    "X = torch.arange(start, end, step)\n",
    "print('\\n',X,'\\n')\n",
    "X = X.unsqueeze(dim=1)\n",
    "print(X)"
   ]
  },
  {
   "cell_type": "code",
   "execution_count": 11,
   "id": "4cdd60d7-37b2-4a85-b5ca-121a57f3cb65",
   "metadata": {},
   "outputs": [
    {
     "data": {
      "text/plain": [
       "tensor([[0.3000],\n",
       "        [0.3140],\n",
       "        [0.3280],\n",
       "        [0.3420],\n",
       "        [0.3560],\n",
       "        [0.3700],\n",
       "        [0.3840],\n",
       "        [0.3980],\n",
       "        [0.4120],\n",
       "        [0.4260],\n",
       "        [0.4400],\n",
       "        [0.4540],\n",
       "        [0.4680],\n",
       "        [0.4820],\n",
       "        [0.4960],\n",
       "        [0.5100],\n",
       "        [0.5240],\n",
       "        [0.5380],\n",
       "        [0.5520],\n",
       "        [0.5660],\n",
       "        [0.5800],\n",
       "        [0.5940],\n",
       "        [0.6080],\n",
       "        [0.6220],\n",
       "        [0.6360],\n",
       "        [0.6500],\n",
       "        [0.6640],\n",
       "        [0.6780],\n",
       "        [0.6920],\n",
       "        [0.7060],\n",
       "        [0.7200],\n",
       "        [0.7340],\n",
       "        [0.7480],\n",
       "        [0.7620],\n",
       "        [0.7760],\n",
       "        [0.7900],\n",
       "        [0.8040],\n",
       "        [0.8180],\n",
       "        [0.8320],\n",
       "        [0.8460],\n",
       "        [0.8600],\n",
       "        [0.8740],\n",
       "        [0.8880],\n",
       "        [0.9020],\n",
       "        [0.9160],\n",
       "        [0.9300],\n",
       "        [0.9440],\n",
       "        [0.9580],\n",
       "        [0.9720],\n",
       "        [0.9860]])"
      ]
     },
     "execution_count": 11,
     "metadata": {},
     "output_type": "execute_result"
    }
   ],
   "source": [
    "weight = 0.7\n",
    "bias = 0.3\n",
    "\n",
    "y = (weight * X) + bias # y=aX + b\n",
    "y"
   ]
  },
  {
   "cell_type": "code",
   "execution_count": 12,
   "id": "10383260-0ac5-44b5-881c-1b0adc191ef4",
   "metadata": {},
   "outputs": [
    {
     "data": {
      "text/plain": [
       "tensor([[0.0000],\n",
       "        [0.0200],\n",
       "        [0.0400],\n",
       "        [0.0600],\n",
       "        [0.0800],\n",
       "        [0.1000],\n",
       "        [0.1200],\n",
       "        [0.1400],\n",
       "        [0.1600],\n",
       "        [0.1800]])"
      ]
     },
     "execution_count": 12,
     "metadata": {},
     "output_type": "execute_result"
    }
   ],
   "source": [
    "X[:10]"
   ]
  },
  {
   "cell_type": "code",
   "execution_count": 13,
   "id": "93960b52-8229-4104-ae9f-853c94a31bef",
   "metadata": {},
   "outputs": [
    {
     "data": {
      "text/plain": [
       "tensor([[0.3000],\n",
       "        [0.3140],\n",
       "        [0.3280],\n",
       "        [0.3420],\n",
       "        [0.3560],\n",
       "        [0.3700],\n",
       "        [0.3840],\n",
       "        [0.3980],\n",
       "        [0.4120],\n",
       "        [0.4260]])"
      ]
     },
     "execution_count": 13,
     "metadata": {},
     "output_type": "execute_result"
    }
   ],
   "source": [
    "y[:10]"
   ]
  },
  {
   "cell_type": "code",
   "execution_count": null,
   "id": "9fd33a89-0bf6-4aec-b906-71717d6b66ca",
   "metadata": {},
   "outputs": [],
   "source": []
  },
  {
   "cell_type": "code",
   "execution_count": 14,
   "id": "6d94afe7-56d1-4150-bfda-ae25924e8a5c",
   "metadata": {},
   "outputs": [
    {
     "data": {
      "text/plain": [
       "40"
      ]
     },
     "execution_count": 14,
     "metadata": {},
     "output_type": "execute_result"
    }
   ],
   "source": [
    "# Create a train/test split\n",
    "train_split = int(0.8 * len(X))\n",
    "train_split"
   ]
  },
  {
   "cell_type": "code",
   "execution_count": 15,
   "id": "6b2336c2-0c5a-46ec-bfec-2f9d6516de6f",
   "metadata": {},
   "outputs": [],
   "source": [
    "X_train, y_train = X[:train_split], y[:train_split]\n",
    "X_test, y_test = X[train_split:], y[train_split:]"
   ]
  },
  {
   "cell_type": "code",
   "execution_count": 16,
   "id": "c52b6282-3baf-49d5-8ce6-2e77e4ac7f50",
   "metadata": {},
   "outputs": [
    {
     "data": {
      "text/plain": [
       "tensor([[0.8600],\n",
       "        [0.8740],\n",
       "        [0.8880],\n",
       "        [0.9020],\n",
       "        [0.9160],\n",
       "        [0.9300],\n",
       "        [0.9440],\n",
       "        [0.9580],\n",
       "        [0.9720],\n",
       "        [0.9860]])"
      ]
     },
     "execution_count": 16,
     "metadata": {},
     "output_type": "execute_result"
    }
   ],
   "source": [
    "y_test"
   ]
  },
  {
   "cell_type": "code",
   "execution_count": null,
   "id": "278e9521-edf7-40b2-a8cd-832837a41ab0",
   "metadata": {},
   "outputs": [],
   "source": []
  },
  {
   "cell_type": "code",
   "execution_count": 17,
   "id": "4f363e6b-e415-48b7-b067-27d09f579d24",
   "metadata": {},
   "outputs": [],
   "source": [
    "import sklearn\n",
    "from sklearn.datasets import make_circles"
   ]
  },
  {
   "cell_type": "code",
   "execution_count": 18,
   "id": "3c86b8cf-ae16-4d26-89d2-7d484ad7a66b",
   "metadata": {},
   "outputs": [],
   "source": [
    "n_samples = 1000"
   ]
  },
  {
   "cell_type": "code",
   "execution_count": 19,
   "id": "5e137287-4aaf-4d0c-9368-9bdc5cc082ac",
   "metadata": {},
   "outputs": [],
   "source": [
    "X,y = make_circles(n_samples, noise=0.03, random_state=42)"
   ]
  },
  {
   "cell_type": "code",
   "execution_count": 20,
   "id": "1a5cef4d-5b54-4cb6-84bf-c25b975adeb0",
   "metadata": {},
   "outputs": [
    {
     "data": {
      "text/plain": [
       "array([[ 0.75424625,  0.23148074],\n",
       "       [-0.75615888,  0.15325888],\n",
       "       [-0.81539193,  0.17328203]])"
      ]
     },
     "execution_count": 20,
     "metadata": {},
     "output_type": "execute_result"
    }
   ],
   "source": [
    "X[:3]"
   ]
  },
  {
   "cell_type": "code",
   "execution_count": 21,
   "id": "24e3e228-1331-4c48-9989-82be96880471",
   "metadata": {},
   "outputs": [
    {
     "data": {
      "text/plain": [
       "array([1, 1, 1])"
      ]
     },
     "execution_count": 21,
     "metadata": {},
     "output_type": "execute_result"
    }
   ],
   "source": [
    "y[:3]"
   ]
  },
  {
   "cell_type": "code",
   "execution_count": 22,
   "id": "71596fdb-c870-4c55-9faa-979a0ccdacb1",
   "metadata": {},
   "outputs": [
    {
     "data": {
      "text/plain": [
       "numpy.ndarray"
      ]
     },
     "execution_count": 22,
     "metadata": {},
     "output_type": "execute_result"
    }
   ],
   "source": [
    "type(y)"
   ]
  },
  {
   "cell_type": "code",
   "execution_count": 23,
   "id": "3e104ba6-15cb-4c89-896e-872b43d97ce0",
   "metadata": {},
   "outputs": [
    {
     "data": {
      "text/plain": [
       "numpy.ndarray"
      ]
     },
     "execution_count": 23,
     "metadata": {},
     "output_type": "execute_result"
    }
   ],
   "source": [
    "type(X)"
   ]
  },
  {
   "cell_type": "code",
   "execution_count": 24,
   "id": "0d7cbb1b-e88c-4c3d-b297-083466f4e7d9",
   "metadata": {},
   "outputs": [],
   "source": [
    "import numpy as np\n",
    "import pandas as pd"
   ]
  },
  {
   "cell_type": "code",
   "execution_count": 25,
   "id": "5f39422f-6ec3-4e5d-b81b-e5bf6a8a52d1",
   "metadata": {},
   "outputs": [
    {
     "data": {
      "text/plain": [
       "array([0, 1])"
      ]
     },
     "execution_count": 25,
     "metadata": {},
     "output_type": "execute_result"
    }
   ],
   "source": [
    "np.unique(y)"
   ]
  },
  {
   "cell_type": "code",
   "execution_count": 26,
   "id": "85fa20c8-0900-4c05-968e-b63aa217eafe",
   "metadata": {},
   "outputs": [
    {
     "data": {
      "text/html": [
       "<div>\n",
       "<style scoped>\n",
       "    .dataframe tbody tr th:only-of-type {\n",
       "        vertical-align: middle;\n",
       "    }\n",
       "\n",
       "    .dataframe tbody tr th {\n",
       "        vertical-align: top;\n",
       "    }\n",
       "\n",
       "    .dataframe thead th {\n",
       "        text-align: right;\n",
       "    }\n",
       "</style>\n",
       "<table border=\"1\" class=\"dataframe\">\n",
       "  <thead>\n",
       "    <tr style=\"text-align: right;\">\n",
       "      <th></th>\n",
       "      <th>x1</th>\n",
       "      <th>x2</th>\n",
       "      <th>label</th>\n",
       "    </tr>\n",
       "  </thead>\n",
       "  <tbody>\n",
       "    <tr>\n",
       "      <th>0</th>\n",
       "      <td>0.754246</td>\n",
       "      <td>0.231481</td>\n",
       "      <td>1</td>\n",
       "    </tr>\n",
       "    <tr>\n",
       "      <th>1</th>\n",
       "      <td>-0.756159</td>\n",
       "      <td>0.153259</td>\n",
       "      <td>1</td>\n",
       "    </tr>\n",
       "    <tr>\n",
       "      <th>2</th>\n",
       "      <td>-0.815392</td>\n",
       "      <td>0.173282</td>\n",
       "      <td>1</td>\n",
       "    </tr>\n",
       "    <tr>\n",
       "      <th>3</th>\n",
       "      <td>-0.393731</td>\n",
       "      <td>0.692883</td>\n",
       "      <td>1</td>\n",
       "    </tr>\n",
       "    <tr>\n",
       "      <th>4</th>\n",
       "      <td>0.442208</td>\n",
       "      <td>-0.896723</td>\n",
       "      <td>0</td>\n",
       "    </tr>\n",
       "    <tr>\n",
       "      <th>5</th>\n",
       "      <td>-0.479646</td>\n",
       "      <td>0.676435</td>\n",
       "      <td>1</td>\n",
       "    </tr>\n",
       "    <tr>\n",
       "      <th>6</th>\n",
       "      <td>-0.013648</td>\n",
       "      <td>0.803349</td>\n",
       "      <td>1</td>\n",
       "    </tr>\n",
       "    <tr>\n",
       "      <th>7</th>\n",
       "      <td>0.771513</td>\n",
       "      <td>0.147760</td>\n",
       "      <td>1</td>\n",
       "    </tr>\n",
       "    <tr>\n",
       "      <th>8</th>\n",
       "      <td>-0.169322</td>\n",
       "      <td>-0.793456</td>\n",
       "      <td>1</td>\n",
       "    </tr>\n",
       "    <tr>\n",
       "      <th>9</th>\n",
       "      <td>-0.121486</td>\n",
       "      <td>1.021509</td>\n",
       "      <td>0</td>\n",
       "    </tr>\n",
       "  </tbody>\n",
       "</table>\n",
       "</div>"
      ],
      "text/plain": [
       "         x1        x2  label\n",
       "0  0.754246  0.231481      1\n",
       "1 -0.756159  0.153259      1\n",
       "2 -0.815392  0.173282      1\n",
       "3 -0.393731  0.692883      1\n",
       "4  0.442208 -0.896723      0\n",
       "5 -0.479646  0.676435      1\n",
       "6 -0.013648  0.803349      1\n",
       "7  0.771513  0.147760      1\n",
       "8 -0.169322 -0.793456      1\n",
       "9 -0.121486  1.021509      0"
      ]
     },
     "execution_count": 26,
     "metadata": {},
     "output_type": "execute_result"
    }
   ],
   "source": [
    "dataset = pd.DataFrame({'x1':X[:,0], 'x2':X[:,1], 'label':y})\n",
    "dataset.head(10)"
   ]
  },
  {
   "cell_type": "code",
   "execution_count": 27,
   "id": "ab211b43-5f7f-43e6-9859-e34dc7db6d70",
   "metadata": {},
   "outputs": [
    {
     "data": {
      "image/png": "[encoded data removed]",
      "text/plain": [
       "<Figure size 640x480 with 1 Axes>"
      ]
     },
     "metadata": {},
     "output_type": "display_data"
    }
   ],
   "source": [
    "# Visualize the dataset\n",
    "import matplotlib.pyplot as plt\n",
    "plt.scatter(x=dataset['x1'], y=dataset['x2'], c=y, cmap=plt.cm.RdYlBu)\n",
    "plt.show()"
   ]
  },
  {
   "cell_type": "code",
   "execution_count": null,
   "id": "0d981c66-a97d-4451-b0b8-38849f5f715e",
   "metadata": {},
   "outputs": [],
   "source": []
  },
  {
   "cell_type": "code",
   "execution_count": 28,
   "id": "2351679d-79ec-4510-89ec-e08cf33bed30",
   "metadata": {},
   "outputs": [
    {
     "data": {
      "text/plain": [
       "((1000, 2), (1000,))"
      ]
     },
     "execution_count": 28,
     "metadata": {},
     "output_type": "execute_result"
    }
   ],
   "source": [
    "# Check Input and Output Shape\n",
    "X.shape, y.shape"
   ]
  },
  {
   "cell_type": "code",
   "execution_count": null,
   "id": "4333ab2e-79c8-4585-9c5a-c31a2d4573d0",
   "metadata": {},
   "outputs": [],
   "source": []
  },
  {
   "cell_type": "code",
   "execution_count": 29,
   "id": "3f2ea875-2501-44df-b8b0-9f12dc69fc5c",
   "metadata": {},
   "outputs": [],
   "source": [
    "# Turn data into tensor\n",
    "import torch\n",
    "X,y = make_circles(n_samples, noise=0.03, random_state=42)\n",
    "X = torch.from_numpy(X).type(torch.float)\n",
    "y = torch.from_numpy(y).type(torch.float)"
   ]
  },
  {
   "cell_type": "code",
   "execution_count": 30,
   "id": "32b19704-7031-4e11-a725-27a8fcc3d71b",
   "metadata": {},
   "outputs": [
    {
     "data": {
      "text/plain": [
       "torch.float32"
      ]
     },
     "execution_count": 30,
     "metadata": {},
     "output_type": "execute_result"
    }
   ],
   "source": [
    "X.dtype"
   ]
  },
  {
   "cell_type": "code",
   "execution_count": 31,
   "id": "0a91016e-b3be-4cc9-9141-715309427d97",
   "metadata": {},
   "outputs": [
    {
     "data": {
      "text/plain": [
       "torch.float32"
      ]
     },
     "execution_count": 31,
     "metadata": {},
     "output_type": "execute_result"
    }
   ],
   "source": [
    "y.dtype"
   ]
  },
  {
   "cell_type": "code",
   "execution_count": 32,
   "id": "6f5aadf2-7a65-4b78-a915-12412b912c55",
   "metadata": {},
   "outputs": [],
   "source": [
    "# Split data into train and test dataset\n",
    "torch.manual_seed(42)\n",
    "from sklearn.model_selection import train_test_split\n",
    "X_train, X_test, y_train, y_test = train_test_split(X,y, random_state=42, shuffle=True, test_size=0.20)"
   ]
  },
  {
   "cell_type": "code",
   "execution_count": 33,
   "id": "d506a876-5b0e-403b-90d5-5f33ef64399b",
   "metadata": {},
   "outputs": [
    {
     "data": {
      "text/plain": [
       "(800, 200, 800, 200)"
      ]
     },
     "execution_count": 33,
     "metadata": {},
     "output_type": "execute_result"
    }
   ],
   "source": [
    "len(X_train), len(X_test), len(y_train), len(y_test)"
   ]
  },
  {
   "cell_type": "code",
   "execution_count": 34,
   "id": "f0296db3-82f3-4ad1-92b0-bcfda2fb49fb",
   "metadata": {},
   "outputs": [
    {
     "data": {
      "text/plain": [
       "'cpu'"
      ]
     },
     "execution_count": 34,
     "metadata": {},
     "output_type": "execute_result"
    }
   ],
   "source": [
    "device = 'cuda' if torch.cuda.is_available() else 'cpu'\n",
    "device"
   ]
  },
  {
   "cell_type": "code",
   "execution_count": 35,
   "id": "ee3da933-9d3d-4415-ae83-292a93210183",
   "metadata": {},
   "outputs": [],
   "source": [
    "import torch.nn as nn"
   ]
  },
  {
   "cell_type": "code",
   "execution_count": 36,
   "id": "472e24ef-2c26-4f0b-bbbb-09468651f4c7",
   "metadata": {},
   "outputs": [],
   "source": [
    " # Constract a Model that subclasses nn.Model\n",
    "\n",
    "class CircleModelV0(nn.Module):\n",
    "    def __init__(self):\n",
    "        super().__init__()\n",
    "        self.layer_1 = nn.Linear(in_features=2, out_features=5)\n",
    "        self.layer_2 = nn.Linear(in_features=5, out_features=1)\n",
    "\n",
    "    def forward(self, x):\n",
    "        return self.layer_2(self.layer_1(x))"
   ]
  },
  {
   "cell_type": "code",
   "execution_count": 37,
   "id": "cd2a49ce-a231-4ccd-ae38-8bbb2b58b3df",
   "metadata": {},
   "outputs": [
    {
     "data": {
      "text/plain": [
       "CircleModelV0(\n",
       "  (layer_1): Linear(in_features=2, out_features=5, bias=True)\n",
       "  (layer_2): Linear(in_features=5, out_features=1, bias=True)\n",
       ")"
      ]
     },
     "execution_count": 37,
     "metadata": {},
     "output_type": "execute_result"
    }
   ],
   "source": [
    "# Create a instance of the Model\n",
    "model = CircleModelV0().to(device)\n",
    "model"
   ]
  },
  {
   "cell_type": "code",
   "execution_count": 38,
   "id": "10172792-1c98-4cd6-b82e-37ced3ad3f47",
   "metadata": {},
   "outputs": [
    {
     "data": {
      "text/plain": [
       "device(type='cpu')"
      ]
     },
     "execution_count": 38,
     "metadata": {},
     "output_type": "execute_result"
    }
   ],
   "source": [
    "next(model.parameters()).device"
   ]
  },
  {
   "cell_type": "code",
   "execution_count": 39,
   "id": "e36b9417-d739-4574-8398-91ce9c1958db",
   "metadata": {},
   "outputs": [
    {
     "data": {
      "text/plain": [
       "Sequential(\n",
       "  (0): Linear(in_features=2, out_features=5, bias=True)\n",
       "  (1): ReLU()\n",
       "  (2): Linear(in_features=5, out_features=1, bias=True)\n",
       ")"
      ]
     },
     "execution_count": 39,
     "metadata": {},
     "output_type": "execute_result"
    }
   ],
   "source": [
    "# Create Model With Sequential\n",
    "model = nn.Sequential(\n",
    "    nn.Linear(in_features=2, out_features=5),\n",
    "    nn.ReLU(),\n",
    "    nn.Linear(in_features=5, out_features=1)\n",
    ").to(device)\n",
    "\n",
    "model"
   ]
  },
  {
   "cell_type": "code",
   "execution_count": 40,
   "id": "67bfe440-9ddb-4b59-ace9-f09f5a356cb9",
   "metadata": {},
   "outputs": [
    {
     "data": {
      "text/plain": [
       "OrderedDict([('0.weight',\n",
       "              tensor([[-0.0829, -0.2872],\n",
       "                      [ 0.4691, -0.5582],\n",
       "                      [-0.3260, -0.1997],\n",
       "                      [-0.4252,  0.0667],\n",
       "                      [-0.6984,  0.6386]])),\n",
       "             ('0.bias', tensor([-0.6007,  0.5459,  0.1177, -0.2296,  0.4370])),\n",
       "             ('2.weight',\n",
       "              tensor([[ 0.0697,  0.3613,  0.0489, -0.1410,  0.1202]])),\n",
       "             ('2.bias', tensor([-0.1213]))])"
      ]
     },
     "execution_count": 40,
     "metadata": {},
     "output_type": "execute_result"
    }
   ],
   "source": [
    "# Model Paremeters (weights and bias)\n",
    "model.state_dict()"
   ]
  },
  {
   "cell_type": "code",
   "execution_count": 41,
   "id": "1689ada3-a05d-490a-b648-652c99ab11b4",
   "metadata": {},
   "outputs": [],
   "source": [
    "# Loss function\n",
    "loss_fn = nn.BCEWithLogitsLoss()"
   ]
  },
  {
   "cell_type": "code",
   "execution_count": 42,
   "id": "d6cd1803-e340-42f8-8ad9-30ab3541da93",
   "metadata": {},
   "outputs": [],
   "source": [
    "# Optimizer\n",
    "optimizer = torch.optim.Adam(params=model.parameters(), lr=0.1)"
   ]
  },
  {
   "cell_type": "code",
   "execution_count": 43,
   "id": "356d4702-5830-46c3-a686-fc13d8758d41",
   "metadata": {},
   "outputs": [],
   "source": [
    "def accuracy_fn(y_true, y_pred):\n",
    "    correct = torch.eq(y_true, y_pred).sum().item()\n",
    "    accuracy = (correct/len(y_pred))*100\n",
    "    return accuracy"
   ]
  },
  {
   "cell_type": "code",
   "execution_count": 44,
   "id": "faf60fdc-3dc3-4dc0-ad93-5ea434e35a25",
   "metadata": {},
   "outputs": [
    {
     "data": {
      "text/plain": [
       "tensor([0.0202, 0.0098, 0.1209, 0.0302, 0.3008])"
      ]
     },
     "execution_count": 44,
     "metadata": {},
     "output_type": "execute_result"
    }
   ],
   "source": [
    "# Make Prediction\n",
    "model.eval()\n",
    "with torch.inference_mode():\n",
    "    y_logits = model(X_test.to(device))\n",
    "y_logits[:5].squeeze()"
   ]
  },
  {
   "cell_type": "code",
   "execution_count": 45,
   "id": "546c0a89-b918-4077-9b60-c2e48f56009d",
   "metadata": {},
   "outputs": [
    {
     "data": {
      "text/plain": [
       "tensor([1., 0., 1., 0., 1.])"
      ]
     },
     "execution_count": 45,
     "metadata": {},
     "output_type": "execute_result"
    }
   ],
   "source": [
    "y_test[:5]"
   ]
  },
  {
   "cell_type": "code",
   "execution_count": 46,
   "id": "0edb24ed-1788-4c03-b4f6-d982b3054aec",
   "metadata": {},
   "outputs": [
    {
     "data": {
      "text/plain": [
       "tensor([[0.5050],\n",
       "        [0.5025],\n",
       "        [0.5302],\n",
       "        [0.5075],\n",
       "        [0.5746]])"
      ]
     },
     "execution_count": 46,
     "metadata": {},
     "output_type": "execute_result"
    }
   ],
   "source": [
    "y_pred_probs = torch.sigmoid(y_logits)\n",
    "y_pred_probs[:5]"
   ]
  },
  {
   "cell_type": "code",
   "execution_count": 47,
   "id": "b5718d42-a86a-44eb-a866-a5c5e4377e99",
   "metadata": {},
   "outputs": [
    {
     "name": "stdout",
     "output_type": "stream",
     "text": [
      "Epoch: 0 | Loss: 0.70128, Acc: 50.00% | Test Loss: 0.69469, Test Acc: 46.50%\n",
      "Epoch: 1 | Loss: 0.69625, Acc: 45.38% | Test Loss: 0.69408, Test Acc: 50.00%\n",
      "Epoch: 2 | Loss: 0.69446, Acc: 50.00% | Test Loss: 0.69253, Test Acc: 50.00%\n",
      "Epoch: 3 | Loss: 0.69181, Acc: 50.00% | Test Loss: 0.69056, Test Acc: 48.00%\n",
      "Epoch: 4 | Loss: 0.68815, Acc: 50.50% | Test Loss: 0.69051, Test Acc: 50.00%\n",
      "Epoch: 5 | Loss: 0.68541, Acc: 54.75% | Test Loss: 0.69214, Test Acc: 48.50%\n",
      "Epoch: 6 | Loss: 0.68335, Acc: 54.25% | Test Loss: 0.69442, Test Acc: 49.00%\n",
      "Epoch: 7 | Loss: 0.68130, Acc: 53.75% | Test Loss: 0.69706, Test Acc: 48.50%\n",
      "Epoch: 8 | Loss: 0.67994, Acc: 54.62% | Test Loss: 0.69727, Test Acc: 48.00%\n",
      "Epoch: 9 | Loss: 0.67799, Acc: 54.75% | Test Loss: 0.69414, Test Acc: 49.50%\n",
      "Epoch: 10 | Loss: 0.67481, Acc: 54.62% | Test Loss: 0.68908, Test Acc: 50.00%\n",
      "Epoch: 11 | Loss: 0.67130, Acc: 55.12% | Test Loss: 0.68329, Test Acc: 50.00%\n",
      "Epoch: 12 | Loss: 0.66733, Acc: 55.38% | Test Loss: 0.67981, Test Acc: 53.00%\n",
      "Epoch: 13 | Loss: 0.66431, Acc: 60.12% | Test Loss: 0.67585, Test Acc: 56.00%\n",
      "Epoch: 14 | Loss: 0.66007, Acc: 61.75% | Test Loss: 0.67033, Test Acc: 66.00%\n",
      "Epoch: 15 | Loss: 0.65499, Acc: 68.00% | Test Loss: 0.66377, Test Acc: 69.00%\n",
      "Epoch: 16 | Loss: 0.64844, Acc: 72.50% | Test Loss: 0.65790, Test Acc: 69.00%\n",
      "Epoch: 17 | Loss: 0.64140, Acc: 71.50% | Test Loss: 0.65323, Test Acc: 65.50%\n",
      "Epoch: 18 | Loss: 0.63474, Acc: 67.75% | Test Loss: 0.64814, Test Acc: 60.50%\n",
      "Epoch: 19 | Loss: 0.62740, Acc: 66.12% | Test Loss: 0.64231, Test Acc: 60.00%\n",
      "Epoch: 20 | Loss: 0.61947, Acc: 65.62% | Test Loss: 0.63520, Test Acc: 62.50%\n",
      "Epoch: 21 | Loss: 0.61129, Acc: 66.00% | Test Loss: 0.62562, Test Acc: 66.50%\n",
      "Epoch: 22 | Loss: 0.60278, Acc: 69.38% | Test Loss: 0.61692, Test Acc: 70.00%\n",
      "Epoch: 23 | Loss: 0.59358, Acc: 71.75% | Test Loss: 0.60919, Test Acc: 70.50%\n",
      "Epoch: 24 | Loss: 0.58348, Acc: 73.38% | Test Loss: 0.60186, Test Acc: 73.50%\n",
      "Epoch: 25 | Loss: 0.57280, Acc: 74.12% | Test Loss: 0.59558, Test Acc: 73.00%\n",
      "Epoch: 26 | Loss: 0.56288, Acc: 76.62% | Test Loss: 0.58943, Test Acc: 75.50%\n",
      "Epoch: 27 | Loss: 0.55317, Acc: 78.25% | Test Loss: 0.58315, Test Acc: 77.00%\n",
      "Epoch: 28 | Loss: 0.54282, Acc: 79.25% | Test Loss: 0.57483, Test Acc: 78.00%\n",
      "Epoch: 29 | Loss: 0.53207, Acc: 80.12% | Test Loss: 0.56301, Test Acc: 77.50%\n",
      "Epoch: 30 | Loss: 0.52101, Acc: 81.00% | Test Loss: 0.55356, Test Acc: 77.50%\n",
      "Epoch: 31 | Loss: 0.50984, Acc: 80.25% | Test Loss: 0.54404, Test Acc: 75.50%\n",
      "Epoch: 32 | Loss: 0.49892, Acc: 79.62% | Test Loss: 0.53408, Test Acc: 77.50%\n",
      "Epoch: 33 | Loss: 0.48803, Acc: 81.00% | Test Loss: 0.52700, Test Acc: 76.50%\n",
      "Epoch: 34 | Loss: 0.47729, Acc: 80.88% | Test Loss: 0.51892, Test Acc: 78.00%\n",
      "Epoch: 35 | Loss: 0.46609, Acc: 82.75% | Test Loss: 0.51220, Test Acc: 77.00%\n",
      "Epoch: 36 | Loss: 0.45507, Acc: 83.50% | Test Loss: 0.50484, Test Acc: 75.50%\n",
      "Epoch: 37 | Loss: 0.44470, Acc: 83.00% | Test Loss: 0.50197, Test Acc: 75.50%\n",
      "Epoch: 38 | Loss: 0.43519, Acc: 82.88% | Test Loss: 0.49570, Test Acc: 77.00%\n",
      "Epoch: 39 | Loss: 0.42673, Acc: 84.62% | Test Loss: 0.49846, Test Acc: 73.00%\n",
      "Epoch: 40 | Loss: 0.42394, Acc: 81.00% | Test Loss: 0.48447, Test Acc: 76.00%\n",
      "Epoch: 41 | Loss: 0.41670, Acc: 84.50% | Test Loss: 0.47767, Test Acc: 75.00%\n",
      "Epoch: 42 | Loss: 0.40559, Acc: 83.25% | Test Loss: 0.48000, Test Acc: 74.50%\n",
      "Epoch: 43 | Loss: 0.40359, Acc: 82.75% | Test Loss: 0.47105, Test Acc: 77.50%\n",
      "Epoch: 44 | Loss: 0.39752, Acc: 85.38% | Test Loss: 0.46664, Test Acc: 78.50%\n",
      "Epoch: 45 | Loss: 0.39015, Acc: 84.75% | Test Loss: 0.46951, Test Acc: 76.00%\n",
      "Epoch: 46 | Loss: 0.38887, Acc: 83.25% | Test Loss: 0.46313, Test Acc: 77.50%\n",
      "Epoch: 47 | Loss: 0.38201, Acc: 84.75% | Test Loss: 0.46317, Test Acc: 77.50%\n",
      "Epoch: 48 | Loss: 0.37915, Acc: 85.12% | Test Loss: 0.46702, Test Acc: 74.00%\n",
      "Epoch: 49 | Loss: 0.37664, Acc: 83.88% | Test Loss: 0.46391, Test Acc: 75.50%\n",
      "Epoch: 50 | Loss: 0.37107, Acc: 84.62% | Test Loss: 0.46551, Test Acc: 76.00%\n",
      "Epoch: 51 | Loss: 0.37005, Acc: 85.12% | Test Loss: 0.46915, Test Acc: 75.00%\n",
      "Epoch: 52 | Loss: 0.36587, Acc: 85.12% | Test Loss: 0.46984, Test Acc: 74.00%\n",
      "Epoch: 53 | Loss: 0.36268, Acc: 85.75% | Test Loss: 0.46845, Test Acc: 76.00%\n",
      "Epoch: 54 | Loss: 0.36140, Acc: 85.75% | Test Loss: 0.46771, Test Acc: 74.00%\n",
      "Epoch: 55 | Loss: 0.35766, Acc: 85.25% | Test Loss: 0.46669, Test Acc: 73.00%\n",
      "Epoch: 56 | Loss: 0.35594, Acc: 84.62% | Test Loss: 0.46228, Test Acc: 76.00%\n",
      "Epoch: 57 | Loss: 0.35390, Acc: 85.00% | Test Loss: 0.46188, Test Acc: 74.50%\n",
      "Epoch: 58 | Loss: 0.35091, Acc: 84.75% | Test Loss: 0.46323, Test Acc: 72.50%\n",
      "Epoch: 59 | Loss: 0.34984, Acc: 84.75% | Test Loss: 0.45929, Test Acc: 76.50%\n",
      "Epoch: 60 | Loss: 0.34791, Acc: 85.25% | Test Loss: 0.45998, Test Acc: 75.00%\n",
      "Epoch: 61 | Loss: 0.34580, Acc: 85.75% | Test Loss: 0.46361, Test Acc: 73.50%\n",
      "Epoch: 62 | Loss: 0.34525, Acc: 84.38% | Test Loss: 0.46125, Test Acc: 75.00%\n",
      "Epoch: 63 | Loss: 0.34393, Acc: 85.88% | Test Loss: 0.46159, Test Acc: 75.00%\n",
      "Epoch: 64 | Loss: 0.34224, Acc: 85.50% | Test Loss: 0.46433, Test Acc: 74.00%\n",
      "Epoch: 65 | Loss: 0.34178, Acc: 84.62% | Test Loss: 0.46138, Test Acc: 75.00%\n",
      "Epoch: 66 | Loss: 0.34043, Acc: 86.25% | Test Loss: 0.46127, Test Acc: 75.00%\n",
      "Epoch: 67 | Loss: 0.33901, Acc: 85.38% | Test Loss: 0.46072, Test Acc: 74.00%\n",
      "Epoch: 68 | Loss: 0.33844, Acc: 84.62% | Test Loss: 0.45678, Test Acc: 76.00%\n",
      "Epoch: 69 | Loss: 0.33766, Acc: 86.00% | Test Loss: 0.45727, Test Acc: 75.00%\n",
      "Epoch: 70 | Loss: 0.33629, Acc: 84.88% | Test Loss: 0.45798, Test Acc: 74.50%\n",
      "Epoch: 71 | Loss: 0.33566, Acc: 85.00% | Test Loss: 0.45587, Test Acc: 75.50%\n",
      "Epoch: 72 | Loss: 0.33515, Acc: 85.75% | Test Loss: 0.45761, Test Acc: 75.50%\n",
      "Epoch: 73 | Loss: 0.33422, Acc: 84.62% | Test Loss: 0.45713, Test Acc: 75.50%\n",
      "Epoch: 74 | Loss: 0.33342, Acc: 84.75% | Test Loss: 0.45706, Test Acc: 76.00%\n",
      "Epoch: 75 | Loss: 0.33308, Acc: 85.12% | Test Loss: 0.46017, Test Acc: 74.50%\n",
      "Epoch: 76 | Loss: 0.33260, Acc: 84.25% | Test Loss: 0.45845, Test Acc: 76.50%\n",
      "Epoch: 77 | Loss: 0.33184, Acc: 85.12% | Test Loss: 0.45889, Test Acc: 76.00%\n",
      "Epoch: 78 | Loss: 0.33126, Acc: 85.00% | Test Loss: 0.46040, Test Acc: 74.50%\n",
      "Epoch: 79 | Loss: 0.33092, Acc: 84.38% | Test Loss: 0.45854, Test Acc: 76.00%\n",
      "Epoch: 80 | Loss: 0.33050, Acc: 85.12% | Test Loss: 0.46037, Test Acc: 75.00%\n",
      "Epoch: 81 | Loss: 0.32990, Acc: 84.50% | Test Loss: 0.46065, Test Acc: 75.50%\n",
      "Epoch: 82 | Loss: 0.32941, Acc: 85.00% | Test Loss: 0.46120, Test Acc: 76.00%\n",
      "Epoch: 83 | Loss: 0.32911, Acc: 85.25% | Test Loss: 0.46355, Test Acc: 75.00%\n",
      "Epoch: 84 | Loss: 0.32883, Acc: 84.12% | Test Loss: 0.46229, Test Acc: 76.00%\n",
      "Epoch: 85 | Loss: 0.32845, Acc: 85.00% | Test Loss: 0.46373, Test Acc: 75.50%\n",
      "Epoch: 86 | Loss: 0.32806, Acc: 84.88% | Test Loss: 0.46429, Test Acc: 75.50%\n",
      "Epoch: 87 | Loss: 0.32775, Acc: 84.75% | Test Loss: 0.46387, Test Acc: 76.00%\n",
      "Epoch: 88 | Loss: 0.32755, Acc: 85.25% | Test Loss: 0.46518, Test Acc: 75.00%\n",
      "Epoch: 89 | Loss: 0.32734, Acc: 84.38% | Test Loss: 0.46361, Test Acc: 76.00%\n",
      "Epoch: 90 | Loss: 0.32708, Acc: 84.62% | Test Loss: 0.46517, Test Acc: 75.00%\n",
      "Epoch: 91 | Loss: 0.32678, Acc: 84.50% | Test Loss: 0.46525, Test Acc: 75.50%\n",
      "Epoch: 92 | Loss: 0.32652, Acc: 84.75% | Test Loss: 0.46572, Test Acc: 76.00%\n",
      "Epoch: 93 | Loss: 0.32632, Acc: 84.88% | Test Loss: 0.46722, Test Acc: 75.50%\n",
      "Epoch: 94 | Loss: 0.32616, Acc: 84.50% | Test Loss: 0.46650, Test Acc: 76.50%\n",
      "Epoch: 95 | Loss: 0.32601, Acc: 85.12% | Test Loss: 0.46812, Test Acc: 75.00%\n",
      "Epoch: 96 | Loss: 0.32585, Acc: 84.50% | Test Loss: 0.46681, Test Acc: 76.50%\n",
      "Epoch: 97 | Loss: 0.32567, Acc: 85.00% | Test Loss: 0.46817, Test Acc: 75.00%\n",
      "Epoch: 98 | Loss: 0.32549, Acc: 84.25% | Test Loss: 0.46753, Test Acc: 76.00%\n",
      "Epoch: 99 | Loss: 0.32533, Acc: 84.88% | Test Loss: 0.46804, Test Acc: 75.50%\n"
     ]
    }
   ],
   "source": [
    "# Building a training and testing loop\n",
    "torch.manual_seed(42)\n",
    "\n",
    "# Set the number of epochs\n",
    "epochs = 100\n",
    "\n",
    "# Put data to target device\n",
    "X_train, y_train = X_train.to(device), y_train.to(device)\n",
    "X_test, y_test = X_test.to(device), y_test.to(device)\n",
    "\n",
    "for epoch in range(epochs):\n",
    "    # Training\n",
    "    model.train()\n",
    "\n",
    "    # Froward pass\n",
    "    y_logits = model(X_train).squeeze()\n",
    "    y_pred = torch.round(torch.sigmoid(y_logits))\n",
    "\n",
    "    # Calculate loss/accuracy\n",
    "    loss = loss_fn(y_logits, y_train)\n",
    "    acc = accuracy_fn(y_pred=y_pred, y_true=y_train)\n",
    "\n",
    "    # Optimizer zero grand\n",
    "    optimizer.zero_grad()\n",
    "\n",
    "    # Loss backward (backpropagation)\n",
    "    loss.backward()\n",
    "\n",
    "    # Optimizer\n",
    "    optimizer.step()\n",
    "\n",
    "    # Testing\n",
    "    model.eval()\n",
    "    \n",
    "    with torch.inference_mode():\n",
    "        # Forward Pass\n",
    "        test_logits = model(X_test).squeeze()\n",
    "        test_pred = torch.round(torch.sigmoid(test_logits))\n",
    "\n",
    "        # Test loss\n",
    "        test_loss = loss_fn(test_logits, y_test)\n",
    "\n",
    "        # Test accuracy\n",
    "        test_acc = accuracy_fn(y_pred=test_pred, y_true=y_test)\n",
    "\n",
    "    print(f\"Epoch: {epoch} | Loss: {loss:.5f}, Acc: {acc:.2f}% | Test Loss: {test_loss:.5f}, Test Acc: {test_acc:.2f}%\")"
   ]
  },
  {
   "cell_type": "code",
   "execution_count": 48,
   "id": "c87c795e-2725-4c6d-a46a-b3ab06d782e5",
   "metadata": {},
   "outputs": [],
   "source": [
    "class CircleModelV1(nn.Module):\n",
    "    def __init__(self):\n",
    "        super().__init__()\n",
    "        self.layer_1 = nn.Linear(in_features=2, out_features=10)\n",
    "        self.layer_2 = nn.Linear(in_features=10, out_features=10)\n",
    "        self.layer_3 = nn.Linear(in_features=10, out_features=1)\n",
    "    \n",
    "    def forward(self):\n",
    "        z = self.layer_1(x)\n",
    "        z = self.layer_2(z)\n",
    "        z = self.layer_3(z)\n",
    "        return z"
   ]
  },
  {
   "cell_type": "code",
   "execution_count": 49,
   "id": "8dc6f3a5-331a-4c6a-8908-8d73175cc079",
   "metadata": {},
   "outputs": [
    {
     "data": {
      "text/plain": [
       "OrderedDict([('layer_1.weight',\n",
       "              tensor([[ 0.5406,  0.5869],\n",
       "                      [-0.1657,  0.6496],\n",
       "                      [-0.1549,  0.1427],\n",
       "                      [-0.3443,  0.4153],\n",
       "                      [ 0.6233, -0.5188],\n",
       "                      [ 0.6146,  0.1323],\n",
       "                      [ 0.5224,  0.0958],\n",
       "                      [ 0.3410, -0.0998],\n",
       "                      [ 0.5451,  0.1045],\n",
       "                      [-0.3301,  0.1802]])),\n",
       "             ('layer_1.bias',\n",
       "              tensor([-0.3258, -0.0829, -0.2872,  0.4691, -0.5582, -0.3260, -0.1997, -0.4252,\n",
       "                       0.0667, -0.6984])),\n",
       "             ('layer_2.weight',\n",
       "              tensor([[ 0.2856, -0.2686,  0.2441,  0.0526, -0.1027,  0.1954,  0.0493,  0.2555,\n",
       "                        0.0346, -0.0997],\n",
       "                      [ 0.0850, -0.0858,  0.1331,  0.2823,  0.1828, -0.1382,  0.1825,  0.0566,\n",
       "                        0.1606, -0.1927],\n",
       "                      [-0.3130, -0.1222, -0.2426,  0.2595,  0.0911,  0.1310,  0.1000, -0.0055,\n",
       "                        0.2475, -0.2247],\n",
       "                      [ 0.0199, -0.2158,  0.0975, -0.1089,  0.0969, -0.0659,  0.2623, -0.1874,\n",
       "                       -0.1886, -0.1886],\n",
       "                      [ 0.2844,  0.1054,  0.3043, -0.2610, -0.3137, -0.2474, -0.2127,  0.1281,\n",
       "                        0.1132,  0.2628],\n",
       "                      [-0.1633, -0.2156,  0.1678, -0.1278,  0.1919, -0.0750,  0.1809, -0.2457,\n",
       "                       -0.1596,  0.0964],\n",
       "                      [ 0.0669, -0.0806,  0.1885,  0.2150, -0.2293, -0.1688,  0.2896, -0.1067,\n",
       "                       -0.1121, -0.3060],\n",
       "                      [-0.1811,  0.0790, -0.0417, -0.2295,  0.0074, -0.2160, -0.2683, -0.1741,\n",
       "                       -0.2768, -0.2014],\n",
       "                      [ 0.3161,  0.0597,  0.0974, -0.2949, -0.2077, -0.1053,  0.0494, -0.2783,\n",
       "                       -0.1363, -0.1893],\n",
       "                      [ 0.0009, -0.1177, -0.0219, -0.2143, -0.2171, -0.1845, -0.1082, -0.2496,\n",
       "                        0.2651, -0.0628]])),\n",
       "             ('layer_2.bias',\n",
       "              tensor([ 0.2721,  0.0985, -0.2678,  0.2188, -0.0870, -0.1212, -0.2625, -0.3144,\n",
       "                       0.0905, -0.0691])),\n",
       "             ('layer_3.weight',\n",
       "              tensor([[ 0.1231, -0.2595,  0.2348, -0.2321, -0.0546,  0.0661,  0.1633,  0.2553,\n",
       "                        0.2881, -0.2507]])),\n",
       "             ('layer_3.bias', tensor([0.0796]))])"
      ]
     },
     "execution_count": 49,
     "metadata": {},
     "output_type": "execute_result"
    }
   ],
   "source": [
    "model02 = CircleModelV1().to(device)\n",
    "model02.state_dict()"
   ]
  },
  {
   "cell_type": "code",
   "execution_count": 50,
   "id": "46999b6b-9970-4145-baa5-4a8eee85b502",
   "metadata": {},
   "outputs": [],
   "source": [
    "loss_fn = nn.BCEWithLogitsLoss()"
   ]
  },
  {
   "cell_type": "code",
   "execution_count": 51,
   "id": "ab5ac4c3-d8a9-4142-bd00-4b2335f9c754",
   "metadata": {},
   "outputs": [],
   "source": [
    "optimizer = torch.optim.Adam(params=model02.parameters(), lr=0.01)"
   ]
  },
  {
   "cell_type": "code",
   "execution_count": 52,
   "id": "40b5afea-fbc8-45e7-ac40-37a99d19b644",
   "metadata": {},
   "outputs": [
    {
     "ename": "TypeError",
     "evalue": "CircleModelV1.forward() takes 1 positional argument but 2 were given",
     "output_type": "error",
     "traceback": [
      "\u001b[0;31m---------------------------------------------------------------------------\u001b[0m",
      "\u001b[0;31mTypeError\u001b[0m                                 Traceback (most recent call last)",
      "Cell \u001b[0;32mIn[52], line 14\u001b[0m\n\u001b[1;32m     11\u001b[0m model02\u001b[38;5;241m.\u001b[39mtrain()\n\u001b[1;32m     13\u001b[0m \u001b[38;5;66;03m# Forward Pass\u001b[39;00m\n\u001b[0;32m---> 14\u001b[0m y_logits \u001b[38;5;241m=\u001b[39m \u001b[43mmodel02\u001b[49m\u001b[43m(\u001b[49m\u001b[43mX_train\u001b[49m\u001b[43m)\u001b[49m\u001b[38;5;241m.\u001b[39msqueeze()\n\u001b[1;32m     15\u001b[0m y_pred \u001b[38;5;241m=\u001b[39m torch\u001b[38;5;241m.\u001b[39mround(torch\u001b[38;5;241m.\u001b[39msigmoid(y_logits))\n\u001b[1;32m     17\u001b[0m \u001b[38;5;66;03m# Calculate Loss and Accuracy\u001b[39;00m\n",
      "File \u001b[0;32m~/.local/lib/python3.10/site-packages/torch/nn/modules/module.py:1501\u001b[0m, in \u001b[0;36mModule._call_impl\u001b[0;34m(self, *args, **kwargs)\u001b[0m\n\u001b[1;32m   1496\u001b[0m \u001b[38;5;66;03m# If we don't have any hooks, we want to skip the rest of the logic in\u001b[39;00m\n\u001b[1;32m   1497\u001b[0m \u001b[38;5;66;03m# this function, and just call forward.\u001b[39;00m\n\u001b[1;32m   1498\u001b[0m \u001b[38;5;28;01mif\u001b[39;00m \u001b[38;5;129;01mnot\u001b[39;00m (\u001b[38;5;28mself\u001b[39m\u001b[38;5;241m.\u001b[39m_backward_hooks \u001b[38;5;129;01mor\u001b[39;00m \u001b[38;5;28mself\u001b[39m\u001b[38;5;241m.\u001b[39m_backward_pre_hooks \u001b[38;5;129;01mor\u001b[39;00m \u001b[38;5;28mself\u001b[39m\u001b[38;5;241m.\u001b[39m_forward_hooks \u001b[38;5;129;01mor\u001b[39;00m \u001b[38;5;28mself\u001b[39m\u001b[38;5;241m.\u001b[39m_forward_pre_hooks\n\u001b[1;32m   1499\u001b[0m         \u001b[38;5;129;01mor\u001b[39;00m _global_backward_pre_hooks \u001b[38;5;129;01mor\u001b[39;00m _global_backward_hooks\n\u001b[1;32m   1500\u001b[0m         \u001b[38;5;129;01mor\u001b[39;00m _global_forward_hooks \u001b[38;5;129;01mor\u001b[39;00m _global_forward_pre_hooks):\n\u001b[0;32m-> 1501\u001b[0m     \u001b[38;5;28;01mreturn\u001b[39;00m \u001b[43mforward_call\u001b[49m\u001b[43m(\u001b[49m\u001b[38;5;241;43m*\u001b[39;49m\u001b[43margs\u001b[49m\u001b[43m,\u001b[49m\u001b[43m \u001b[49m\u001b[38;5;241;43m*\u001b[39;49m\u001b[38;5;241;43m*\u001b[39;49m\u001b[43mkwargs\u001b[49m\u001b[43m)\u001b[49m\n\u001b[1;32m   1502\u001b[0m \u001b[38;5;66;03m# Do not call functions when jit is used\u001b[39;00m\n\u001b[1;32m   1503\u001b[0m full_backward_hooks, non_full_backward_hooks \u001b[38;5;241m=\u001b[39m [], []\n",
      "\u001b[0;31mTypeError\u001b[0m: CircleModelV1.forward() takes 1 positional argument but 2 were given"
     ]
    }
   ],
   "source": [
    "torch.manual_seed(42)\n",
    "\n",
    "epochs = 1000\n",
    "\n",
    "# Put data to target device\n",
    "# X_train, y_train, X_test, y_test = X_train.to(device), y_train.to(device), X_test.to(device), y_test.to(device)\n",
    "\n",
    "for epoch in range(epochs):\n",
    "\n",
    "    ## ---- Training Process --------\n",
    "    model02.train()\n",
    "\n",
    "    # Forward Pass\n",
    "    y_logits = model02(X_train).squeeze()\n",
    "    y_pred = torch.round(torch.sigmoid(y_logits))\n",
    "\n",
    "    # Calculate Loss and Accuracy\n",
    "    loss = loss_fn(y_logits, y_train)\n",
    "    acc = accuracy_fn(y_pred=y_pred, y_true=y_train)\n",
    "\n",
    "    \n",
    "\n",
    "    ## ---- Testing Process --------\n",
    "    model02.eval()\n",
    "\n",
    "    \n",
    "    "
   ]
  },
  {
   "cell_type": "code",
   "execution_count": null,
   "id": "3588f334-b31c-4510-9cab-851c1d79fc7e",
   "metadata": {},
   "outputs": [],
   "source": [
    "# Create a tensor\n",
    "x = torch.randn(5, 5)\n",
    "x"
   ]
  },
  {
   "cell_type": "code",
   "execution_count": null,
   "id": "bcea6fd9-73fc-43e8-8b4f-0da48912d2bb",
   "metadata": {},
   "outputs": [],
   "source": [
    "# Flatten the tensor\n",
    "x = x.view(x.size(0), -1)\n",
    "x"
   ]
  },
  {
   "cell_type": "code",
   "execution_count": null,
   "id": "33f48cad-b31a-4415-86dc-bb6c9bc54aa4",
   "metadata": {},
   "outputs": [],
   "source": [
    "torch.rand(10).shape"
   ]
  },
  {
   "cell_type": "code",
   "execution_count": null,
   "id": "7d074644-7b67-4f01-9f92-6c0c94628171",
   "metadata": {},
   "outputs": [],
   "source": [
    "torch.rand(10,2).ndim"
   ]
  },
  {
   "cell_type": "code",
   "execution_count": null,
   "id": "bbe9ae80-8f7c-4d32-86bc-e1a2a058cdf1",
   "metadata": {},
   "outputs": [],
   "source": []
  }
 ],
 "metadata": {
  "kernelspec": {
   "display_name": "Python 3 (ipykernel)",
   "language": "python",
   "name": "python3"
  },
  "language_info": {
   "codemirror_mode": {
    "name": "ipython",
    "version": 3
   },
   "file_extension": ".py",
   "mimetype": "text/x-python",
   "name": "python",
   "nbconvert_exporter": "python",
   "pygments_lexer": "ipython3",
   "version": "3.10.12"
  }
 },
 "nbformat": 4,
 "nbformat_minor": 5
}
