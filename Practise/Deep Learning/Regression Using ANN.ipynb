{
 "cells": [
  {
   "cell_type": "markdown",
   "id": "1f05bcbb-9f65-4356-bb6a-83e796b836bf",
   "metadata": {},
   "source": [
    "## Regression Using ANN"
   ]
  },
  {
   "cell_type": "code",
   "execution_count": 1,
   "id": "94121b54-9970-41fe-af73-e5a548db41d6",
   "metadata": {
    "tags": []
   },
   "outputs": [
    {
     "name": "stderr",
     "output_type": "stream",
     "text": [
      "2023-07-31 08:46:21.045574: I tensorflow/tsl/cuda/cudart_stub.cc:28] Could not find cuda drivers on your machine, GPU will not be used.\n",
      "2023-07-31 08:46:21.083270: I tensorflow/tsl/cuda/cudart_stub.cc:28] Could not find cuda drivers on your machine, GPU will not be used.\n",
      "2023-07-31 08:46:21.084107: I tensorflow/core/platform/cpu_feature_guard.cc:182] This TensorFlow binary is optimized to use available CPU instructions in performance-critical operations.\n",
      "To enable the following instructions: AVX2 FMA, in other operations, rebuild TensorFlow with the appropriate compiler flags.\n",
      "2023-07-31 08:46:21.611154: W tensorflow/compiler/tf2tensorrt/utils/py_utils.cc:38] TF-TRT Warning: Could not find TensorRT\n"
     ]
    }
   ],
   "source": [
    "import pandas as pd\n",
    "import tensorflow as tf\n",
    "import matplotlib.pyplot as plt\n",
    "import seaborn as sns\n",
    "from sklearn.datasets import fetch_california_housing\n",
    "from sklearn.model_selection import train_test_split\n",
    "from sklearn.preprocessing import StandardScaler\n",
    "from keras.layers import Dense\n",
    "from keras.models import Sequential\n",
    "from keras.callbacks import EarlyStopping, TensorBoard, ModelCheckpoint"
   ]
  },
  {
   "cell_type": "code",
   "execution_count": 2,
   "id": "8b2fc75f-7269-4bb5-b50f-683f48c4bae0",
   "metadata": {
    "tags": []
   },
   "outputs": [],
   "source": [
    "dataset = fetch_california_housing()"
   ]
  },
  {
   "cell_type": "code",
   "execution_count": 3,
   "id": "d94ce7c4-9fd0-4abe-ad89-73997580f7d7",
   "metadata": {
    "tags": []
   },
   "outputs": [
    {
     "data": {
      "text/plain": [
       "dict_keys(['data', 'target', 'frame', 'target_names', 'feature_names', 'DESCR'])"
      ]
     },
     "execution_count": 3,
     "metadata": {},
     "output_type": "execute_result"
    }
   ],
   "source": [
    "dataset.keys()"
   ]
  },
  {
   "cell_type": "code",
   "execution_count": 4,
   "id": "ee5d1359-c607-419a-98b3-5cc91510e032",
   "metadata": {
    "tags": []
   },
   "outputs": [
    {
     "data": {
      "text/plain": [
       "(20640, 8)"
      ]
     },
     "execution_count": 4,
     "metadata": {},
     "output_type": "execute_result"
    }
   ],
   "source": [
    "dataset.data.shape"
   ]
  },
  {
   "cell_type": "code",
   "execution_count": 5,
   "id": "297cf0f3-273f-4279-b7cc-0252e61cc352",
   "metadata": {
    "tags": []
   },
   "outputs": [
    {
     "data": {
      "text/plain": [
       "['MedInc',\n",
       " 'HouseAge',\n",
       " 'AveRooms',\n",
       " 'AveBedrms',\n",
       " 'Population',\n",
       " 'AveOccup',\n",
       " 'Latitude',\n",
       " 'Longitude']"
      ]
     },
     "execution_count": 5,
     "metadata": {},
     "output_type": "execute_result"
    }
   ],
   "source": [
    "dataset.feature_names"
   ]
  },
  {
   "cell_type": "code",
   "execution_count": 6,
   "id": "ec31183c-db81-406f-8e48-131b41eb802e",
   "metadata": {
    "tags": []
   },
   "outputs": [
    {
     "data": {
      "text/plain": [
       "['MedHouseVal']"
      ]
     },
     "execution_count": 6,
     "metadata": {},
     "output_type": "execute_result"
    }
   ],
   "source": [
    "dataset.target_names"
   ]
  },
  {
   "cell_type": "code",
   "execution_count": 7,
   "id": "fab17293-7b36-43ca-a0a0-f2b2df758b05",
   "metadata": {
    "tags": []
   },
   "outputs": [
    {
     "data": {
      "text/html": [
       "<div>\n",
       "<style scoped>\n",
       "    .dataframe tbody tr th:only-of-type {\n",
       "        vertical-align: middle;\n",
       "    }\n",
       "\n",
       "    .dataframe tbody tr th {\n",
       "        vertical-align: top;\n",
       "    }\n",
       "\n",
       "    .dataframe thead th {\n",
       "        text-align: right;\n",
       "    }\n",
       "</style>\n",
       "<table border=\"1\" class=\"dataframe\">\n",
       "  <thead>\n",
       "    <tr style=\"text-align: right;\">\n",
       "      <th></th>\n",
       "      <th>MedInc</th>\n",
       "      <th>HouseAge</th>\n",
       "      <th>AveRooms</th>\n",
       "      <th>AveBedrms</th>\n",
       "      <th>Population</th>\n",
       "      <th>AveOccup</th>\n",
       "      <th>Latitude</th>\n",
       "      <th>Longitude</th>\n",
       "    </tr>\n",
       "  </thead>\n",
       "  <tbody>\n",
       "    <tr>\n",
       "      <th>0</th>\n",
       "      <td>8.3252</td>\n",
       "      <td>41.0</td>\n",
       "      <td>6.984127</td>\n",
       "      <td>1.023810</td>\n",
       "      <td>322.0</td>\n",
       "      <td>2.555556</td>\n",
       "      <td>37.88</td>\n",
       "      <td>-122.23</td>\n",
       "    </tr>\n",
       "    <tr>\n",
       "      <th>1</th>\n",
       "      <td>8.3014</td>\n",
       "      <td>21.0</td>\n",
       "      <td>6.238137</td>\n",
       "      <td>0.971880</td>\n",
       "      <td>2401.0</td>\n",
       "      <td>2.109842</td>\n",
       "      <td>37.86</td>\n",
       "      <td>-122.22</td>\n",
       "    </tr>\n",
       "    <tr>\n",
       "      <th>2</th>\n",
       "      <td>7.2574</td>\n",
       "      <td>52.0</td>\n",
       "      <td>8.288136</td>\n",
       "      <td>1.073446</td>\n",
       "      <td>496.0</td>\n",
       "      <td>2.802260</td>\n",
       "      <td>37.85</td>\n",
       "      <td>-122.24</td>\n",
       "    </tr>\n",
       "    <tr>\n",
       "      <th>3</th>\n",
       "      <td>5.6431</td>\n",
       "      <td>52.0</td>\n",
       "      <td>5.817352</td>\n",
       "      <td>1.073059</td>\n",
       "      <td>558.0</td>\n",
       "      <td>2.547945</td>\n",
       "      <td>37.85</td>\n",
       "      <td>-122.25</td>\n",
       "    </tr>\n",
       "    <tr>\n",
       "      <th>4</th>\n",
       "      <td>3.8462</td>\n",
       "      <td>52.0</td>\n",
       "      <td>6.281853</td>\n",
       "      <td>1.081081</td>\n",
       "      <td>565.0</td>\n",
       "      <td>2.181467</td>\n",
       "      <td>37.85</td>\n",
       "      <td>-122.25</td>\n",
       "    </tr>\n",
       "  </tbody>\n",
       "</table>\n",
       "</div>"
      ],
      "text/plain": [
       "   MedInc  HouseAge  AveRooms  AveBedrms  Population  AveOccup  Latitude  \\\n",
       "0  8.3252      41.0  6.984127   1.023810       322.0  2.555556     37.88   \n",
       "1  8.3014      21.0  6.238137   0.971880      2401.0  2.109842     37.86   \n",
       "2  7.2574      52.0  8.288136   1.073446       496.0  2.802260     37.85   \n",
       "3  5.6431      52.0  5.817352   1.073059       558.0  2.547945     37.85   \n",
       "4  3.8462      52.0  6.281853   1.081081       565.0  2.181467     37.85   \n",
       "\n",
       "   Longitude  \n",
       "0    -122.23  \n",
       "1    -122.22  \n",
       "2    -122.24  \n",
       "3    -122.25  \n",
       "4    -122.25  "
      ]
     },
     "execution_count": 7,
     "metadata": {},
     "output_type": "execute_result"
    }
   ],
   "source": [
    "independent_features = pd.DataFrame(dataset.data, columns=dataset.feature_names)\n",
    "independent_features.head()"
   ]
  },
  {
   "cell_type": "code",
   "execution_count": 8,
   "id": "63420d5f-f080-4f80-87b2-a3109e726487",
   "metadata": {
    "tags": []
   },
   "outputs": [
    {
     "data": {
      "text/plain": [
       "(20640, 8)"
      ]
     },
     "execution_count": 8,
     "metadata": {},
     "output_type": "execute_result"
    }
   ],
   "source": [
    "independent_features.shape"
   ]
  },
  {
   "cell_type": "code",
   "execution_count": 9,
   "id": "81a87785-1ff1-4321-8fc0-b1b674b1a8cb",
   "metadata": {
    "tags": []
   },
   "outputs": [
    {
     "data": {
      "text/html": [
       "<div>\n",
       "<style scoped>\n",
       "    .dataframe tbody tr th:only-of-type {\n",
       "        vertical-align: middle;\n",
       "    }\n",
       "\n",
       "    .dataframe tbody tr th {\n",
       "        vertical-align: top;\n",
       "    }\n",
       "\n",
       "    .dataframe thead th {\n",
       "        text-align: right;\n",
       "    }\n",
       "</style>\n",
       "<table border=\"1\" class=\"dataframe\">\n",
       "  <thead>\n",
       "    <tr style=\"text-align: right;\">\n",
       "      <th></th>\n",
       "      <th>MedHouseVal</th>\n",
       "    </tr>\n",
       "  </thead>\n",
       "  <tbody>\n",
       "    <tr>\n",
       "      <th>0</th>\n",
       "      <td>4.526</td>\n",
       "    </tr>\n",
       "    <tr>\n",
       "      <th>1</th>\n",
       "      <td>3.585</td>\n",
       "    </tr>\n",
       "    <tr>\n",
       "      <th>2</th>\n",
       "      <td>3.521</td>\n",
       "    </tr>\n",
       "    <tr>\n",
       "      <th>3</th>\n",
       "      <td>3.413</td>\n",
       "    </tr>\n",
       "    <tr>\n",
       "      <th>4</th>\n",
       "      <td>3.422</td>\n",
       "    </tr>\n",
       "    <tr>\n",
       "      <th>...</th>\n",
       "      <td>...</td>\n",
       "    </tr>\n",
       "    <tr>\n",
       "      <th>20635</th>\n",
       "      <td>0.781</td>\n",
       "    </tr>\n",
       "    <tr>\n",
       "      <th>20636</th>\n",
       "      <td>0.771</td>\n",
       "    </tr>\n",
       "    <tr>\n",
       "      <th>20637</th>\n",
       "      <td>0.923</td>\n",
       "    </tr>\n",
       "    <tr>\n",
       "      <th>20638</th>\n",
       "      <td>0.847</td>\n",
       "    </tr>\n",
       "    <tr>\n",
       "      <th>20639</th>\n",
       "      <td>0.894</td>\n",
       "    </tr>\n",
       "  </tbody>\n",
       "</table>\n",
       "<p>20640 rows × 1 columns</p>\n",
       "</div>"
      ],
      "text/plain": [
       "       MedHouseVal\n",
       "0            4.526\n",
       "1            3.585\n",
       "2            3.521\n",
       "3            3.413\n",
       "4            3.422\n",
       "...            ...\n",
       "20635        0.781\n",
       "20636        0.771\n",
       "20637        0.923\n",
       "20638        0.847\n",
       "20639        0.894\n",
       "\n",
       "[20640 rows x 1 columns]"
      ]
     },
     "execution_count": 9,
     "metadata": {},
     "output_type": "execute_result"
    }
   ],
   "source": [
    "dependent_features = pd.DataFrame(dataset.target, columns=dataset.target_names)\n",
    "dependent_features"
   ]
  },
  {
   "cell_type": "code",
   "execution_count": 10,
   "id": "729acc5f-9e8c-4164-87e4-c3dd5b38e1fe",
   "metadata": {
    "tags": []
   },
   "outputs": [
    {
     "data": {
      "text/plain": [
       "(20640, 1)"
      ]
     },
     "execution_count": 10,
     "metadata": {},
     "output_type": "execute_result"
    }
   ],
   "source": [
    "dependent_features.shape"
   ]
  },
  {
   "cell_type": "code",
   "execution_count": 11,
   "id": "0f7f7b31-b30a-4745-91d4-894a866ffb6d",
   "metadata": {
    "tags": []
   },
   "outputs": [
    {
     "data": {
      "text/html": [
       "<div>\n",
       "<style scoped>\n",
       "    .dataframe tbody tr th:only-of-type {\n",
       "        vertical-align: middle;\n",
       "    }\n",
       "\n",
       "    .dataframe tbody tr th {\n",
       "        vertical-align: top;\n",
       "    }\n",
       "\n",
       "    .dataframe thead th {\n",
       "        text-align: right;\n",
       "    }\n",
       "</style>\n",
       "<table border=\"1\" class=\"dataframe\">\n",
       "  <thead>\n",
       "    <tr style=\"text-align: right;\">\n",
       "      <th></th>\n",
       "      <th>MedHouseVal</th>\n",
       "    </tr>\n",
       "  </thead>\n",
       "  <tbody>\n",
       "    <tr>\n",
       "      <th>0</th>\n",
       "      <td>4.526</td>\n",
       "    </tr>\n",
       "    <tr>\n",
       "      <th>1</th>\n",
       "      <td>3.585</td>\n",
       "    </tr>\n",
       "    <tr>\n",
       "      <th>2</th>\n",
       "      <td>3.521</td>\n",
       "    </tr>\n",
       "    <tr>\n",
       "      <th>3</th>\n",
       "      <td>3.413</td>\n",
       "    </tr>\n",
       "    <tr>\n",
       "      <th>4</th>\n",
       "      <td>3.422</td>\n",
       "    </tr>\n",
       "    <tr>\n",
       "      <th>...</th>\n",
       "      <td>...</td>\n",
       "    </tr>\n",
       "    <tr>\n",
       "      <th>20635</th>\n",
       "      <td>0.781</td>\n",
       "    </tr>\n",
       "    <tr>\n",
       "      <th>20636</th>\n",
       "      <td>0.771</td>\n",
       "    </tr>\n",
       "    <tr>\n",
       "      <th>20637</th>\n",
       "      <td>0.923</td>\n",
       "    </tr>\n",
       "    <tr>\n",
       "      <th>20638</th>\n",
       "      <td>0.847</td>\n",
       "    </tr>\n",
       "    <tr>\n",
       "      <th>20639</th>\n",
       "      <td>0.894</td>\n",
       "    </tr>\n",
       "  </tbody>\n",
       "</table>\n",
       "<p>20640 rows × 1 columns</p>\n",
       "</div>"
      ],
      "text/plain": [
       "       MedHouseVal\n",
       "0            4.526\n",
       "1            3.585\n",
       "2            3.521\n",
       "3            3.413\n",
       "4            3.422\n",
       "...            ...\n",
       "20635        0.781\n",
       "20636        0.771\n",
       "20637        0.923\n",
       "20638        0.847\n",
       "20639        0.894\n",
       "\n",
       "[20640 rows x 1 columns]"
      ]
     },
     "execution_count": 11,
     "metadata": {},
     "output_type": "execute_result"
    }
   ],
   "source": [
    "dependent_features"
   ]
  },
  {
   "cell_type": "code",
   "execution_count": 12,
   "id": "22fa45d9-fddd-4d28-9fbf-31adde4767ad",
   "metadata": {
    "tags": []
   },
   "outputs": [],
   "source": [
    "# Feature Selection"
   ]
  },
  {
   "cell_type": "code",
   "execution_count": 13,
   "id": "7c8e3586-3396-4d9e-a6a8-9707fade53c1",
   "metadata": {
    "tags": []
   },
   "outputs": [
    {
     "data": {
      "text/html": [
       "<div>\n",
       "<style scoped>\n",
       "    .dataframe tbody tr th:only-of-type {\n",
       "        vertical-align: middle;\n",
       "    }\n",
       "\n",
       "    .dataframe tbody tr th {\n",
       "        vertical-align: top;\n",
       "    }\n",
       "\n",
       "    .dataframe thead th {\n",
       "        text-align: right;\n",
       "    }\n",
       "</style>\n",
       "<table border=\"1\" class=\"dataframe\">\n",
       "  <thead>\n",
       "    <tr style=\"text-align: right;\">\n",
       "      <th></th>\n",
       "      <th>MedInc</th>\n",
       "      <th>HouseAge</th>\n",
       "      <th>AveRooms</th>\n",
       "      <th>AveBedrms</th>\n",
       "      <th>Population</th>\n",
       "      <th>AveOccup</th>\n",
       "      <th>Latitude</th>\n",
       "      <th>Longitude</th>\n",
       "      <th>MedHouseVal</th>\n",
       "    </tr>\n",
       "  </thead>\n",
       "  <tbody>\n",
       "    <tr>\n",
       "      <th>0</th>\n",
       "      <td>8.3252</td>\n",
       "      <td>41.0</td>\n",
       "      <td>6.984127</td>\n",
       "      <td>1.023810</td>\n",
       "      <td>322.0</td>\n",
       "      <td>2.555556</td>\n",
       "      <td>37.88</td>\n",
       "      <td>-122.23</td>\n",
       "      <td>4.526</td>\n",
       "    </tr>\n",
       "    <tr>\n",
       "      <th>1</th>\n",
       "      <td>8.3014</td>\n",
       "      <td>21.0</td>\n",
       "      <td>6.238137</td>\n",
       "      <td>0.971880</td>\n",
       "      <td>2401.0</td>\n",
       "      <td>2.109842</td>\n",
       "      <td>37.86</td>\n",
       "      <td>-122.22</td>\n",
       "      <td>3.585</td>\n",
       "    </tr>\n",
       "    <tr>\n",
       "      <th>2</th>\n",
       "      <td>7.2574</td>\n",
       "      <td>52.0</td>\n",
       "      <td>8.288136</td>\n",
       "      <td>1.073446</td>\n",
       "      <td>496.0</td>\n",
       "      <td>2.802260</td>\n",
       "      <td>37.85</td>\n",
       "      <td>-122.24</td>\n",
       "      <td>3.521</td>\n",
       "    </tr>\n",
       "    <tr>\n",
       "      <th>3</th>\n",
       "      <td>5.6431</td>\n",
       "      <td>52.0</td>\n",
       "      <td>5.817352</td>\n",
       "      <td>1.073059</td>\n",
       "      <td>558.0</td>\n",
       "      <td>2.547945</td>\n",
       "      <td>37.85</td>\n",
       "      <td>-122.25</td>\n",
       "      <td>3.413</td>\n",
       "    </tr>\n",
       "    <tr>\n",
       "      <th>4</th>\n",
       "      <td>3.8462</td>\n",
       "      <td>52.0</td>\n",
       "      <td>6.281853</td>\n",
       "      <td>1.081081</td>\n",
       "      <td>565.0</td>\n",
       "      <td>2.181467</td>\n",
       "      <td>37.85</td>\n",
       "      <td>-122.25</td>\n",
       "      <td>3.422</td>\n",
       "    </tr>\n",
       "  </tbody>\n",
       "</table>\n",
       "</div>"
      ],
      "text/plain": [
       "   MedInc  HouseAge  AveRooms  AveBedrms  Population  AveOccup  Latitude  \\\n",
       "0  8.3252      41.0  6.984127   1.023810       322.0  2.555556     37.88   \n",
       "1  8.3014      21.0  6.238137   0.971880      2401.0  2.109842     37.86   \n",
       "2  7.2574      52.0  8.288136   1.073446       496.0  2.802260     37.85   \n",
       "3  5.6431      52.0  5.817352   1.073059       558.0  2.547945     37.85   \n",
       "4  3.8462      52.0  6.281853   1.081081       565.0  2.181467     37.85   \n",
       "\n",
       "   Longitude  MedHouseVal  \n",
       "0    -122.23        4.526  \n",
       "1    -122.22        3.585  \n",
       "2    -122.24        3.521  \n",
       "3    -122.25        3.413  \n",
       "4    -122.25        3.422  "
      ]
     },
     "execution_count": 13,
     "metadata": {},
     "output_type": "execute_result"
    }
   ],
   "source": [
    "df = independent_features.copy()\n",
    "df['MedHouseVal'] = dependent_features\n",
    "df.head()"
   ]
  },
  {
   "cell_type": "code",
   "execution_count": 14,
   "id": "16bdc340-7f0f-408e-987b-2420a6d3a47e",
   "metadata": {
    "tags": []
   },
   "outputs": [
    {
     "data": {
      "text/html": [
       "<div>\n",
       "<style scoped>\n",
       "    .dataframe tbody tr th:only-of-type {\n",
       "        vertical-align: middle;\n",
       "    }\n",
       "\n",
       "    .dataframe tbody tr th {\n",
       "        vertical-align: top;\n",
       "    }\n",
       "\n",
       "    .dataframe thead th {\n",
       "        text-align: right;\n",
       "    }\n",
       "</style>\n",
       "<table border=\"1\" class=\"dataframe\">\n",
       "  <thead>\n",
       "    <tr style=\"text-align: right;\">\n",
       "      <th></th>\n",
       "      <th>MedInc</th>\n",
       "      <th>HouseAge</th>\n",
       "      <th>AveRooms</th>\n",
       "      <th>AveBedrms</th>\n",
       "      <th>Population</th>\n",
       "      <th>AveOccup</th>\n",
       "      <th>Latitude</th>\n",
       "      <th>Longitude</th>\n",
       "      <th>MedHouseVal</th>\n",
       "    </tr>\n",
       "  </thead>\n",
       "  <tbody>\n",
       "    <tr>\n",
       "      <th>MedInc</th>\n",
       "      <td>1.000000</td>\n",
       "      <td>-0.119034</td>\n",
       "      <td>0.326895</td>\n",
       "      <td>-0.062040</td>\n",
       "      <td>0.004834</td>\n",
       "      <td>0.018766</td>\n",
       "      <td>-0.079809</td>\n",
       "      <td>-0.015176</td>\n",
       "      <td>0.688075</td>\n",
       "    </tr>\n",
       "    <tr>\n",
       "      <th>HouseAge</th>\n",
       "      <td>-0.119034</td>\n",
       "      <td>1.000000</td>\n",
       "      <td>-0.153277</td>\n",
       "      <td>-0.077747</td>\n",
       "      <td>-0.296244</td>\n",
       "      <td>0.013191</td>\n",
       "      <td>0.011173</td>\n",
       "      <td>-0.108197</td>\n",
       "      <td>0.105623</td>\n",
       "    </tr>\n",
       "    <tr>\n",
       "      <th>AveRooms</th>\n",
       "      <td>0.326895</td>\n",
       "      <td>-0.153277</td>\n",
       "      <td>1.000000</td>\n",
       "      <td>0.847621</td>\n",
       "      <td>-0.072213</td>\n",
       "      <td>-0.004852</td>\n",
       "      <td>0.106389</td>\n",
       "      <td>-0.027540</td>\n",
       "      <td>0.151948</td>\n",
       "    </tr>\n",
       "    <tr>\n",
       "      <th>AveBedrms</th>\n",
       "      <td>-0.062040</td>\n",
       "      <td>-0.077747</td>\n",
       "      <td>0.847621</td>\n",
       "      <td>1.000000</td>\n",
       "      <td>-0.066197</td>\n",
       "      <td>-0.006181</td>\n",
       "      <td>0.069721</td>\n",
       "      <td>0.013344</td>\n",
       "      <td>-0.046701</td>\n",
       "    </tr>\n",
       "    <tr>\n",
       "      <th>Population</th>\n",
       "      <td>0.004834</td>\n",
       "      <td>-0.296244</td>\n",
       "      <td>-0.072213</td>\n",
       "      <td>-0.066197</td>\n",
       "      <td>1.000000</td>\n",
       "      <td>0.069863</td>\n",
       "      <td>-0.108785</td>\n",
       "      <td>0.099773</td>\n",
       "      <td>-0.024650</td>\n",
       "    </tr>\n",
       "    <tr>\n",
       "      <th>AveOccup</th>\n",
       "      <td>0.018766</td>\n",
       "      <td>0.013191</td>\n",
       "      <td>-0.004852</td>\n",
       "      <td>-0.006181</td>\n",
       "      <td>0.069863</td>\n",
       "      <td>1.000000</td>\n",
       "      <td>0.002366</td>\n",
       "      <td>0.002476</td>\n",
       "      <td>-0.023737</td>\n",
       "    </tr>\n",
       "    <tr>\n",
       "      <th>Latitude</th>\n",
       "      <td>-0.079809</td>\n",
       "      <td>0.011173</td>\n",
       "      <td>0.106389</td>\n",
       "      <td>0.069721</td>\n",
       "      <td>-0.108785</td>\n",
       "      <td>0.002366</td>\n",
       "      <td>1.000000</td>\n",
       "      <td>-0.924664</td>\n",
       "      <td>-0.144160</td>\n",
       "    </tr>\n",
       "    <tr>\n",
       "      <th>Longitude</th>\n",
       "      <td>-0.015176</td>\n",
       "      <td>-0.108197</td>\n",
       "      <td>-0.027540</td>\n",
       "      <td>0.013344</td>\n",
       "      <td>0.099773</td>\n",
       "      <td>0.002476</td>\n",
       "      <td>-0.924664</td>\n",
       "      <td>1.000000</td>\n",
       "      <td>-0.045967</td>\n",
       "    </tr>\n",
       "    <tr>\n",
       "      <th>MedHouseVal</th>\n",
       "      <td>0.688075</td>\n",
       "      <td>0.105623</td>\n",
       "      <td>0.151948</td>\n",
       "      <td>-0.046701</td>\n",
       "      <td>-0.024650</td>\n",
       "      <td>-0.023737</td>\n",
       "      <td>-0.144160</td>\n",
       "      <td>-0.045967</td>\n",
       "      <td>1.000000</td>\n",
       "    </tr>\n",
       "  </tbody>\n",
       "</table>\n",
       "</div>"
      ],
      "text/plain": [
       "               MedInc  HouseAge  AveRooms  AveBedrms  Population  AveOccup  \\\n",
       "MedInc       1.000000 -0.119034  0.326895  -0.062040    0.004834  0.018766   \n",
       "HouseAge    -0.119034  1.000000 -0.153277  -0.077747   -0.296244  0.013191   \n",
       "AveRooms     0.326895 -0.153277  1.000000   0.847621   -0.072213 -0.004852   \n",
       "AveBedrms   -0.062040 -0.077747  0.847621   1.000000   -0.066197 -0.006181   \n",
       "Population   0.004834 -0.296244 -0.072213  -0.066197    1.000000  0.069863   \n",
       "AveOccup     0.018766  0.013191 -0.004852  -0.006181    0.069863  1.000000   \n",
       "Latitude    -0.079809  0.011173  0.106389   0.069721   -0.108785  0.002366   \n",
       "Longitude   -0.015176 -0.108197 -0.027540   0.013344    0.099773  0.002476   \n",
       "MedHouseVal  0.688075  0.105623  0.151948  -0.046701   -0.024650 -0.023737   \n",
       "\n",
       "             Latitude  Longitude  MedHouseVal  \n",
       "MedInc      -0.079809  -0.015176     0.688075  \n",
       "HouseAge     0.011173  -0.108197     0.105623  \n",
       "AveRooms     0.106389  -0.027540     0.151948  \n",
       "AveBedrms    0.069721   0.013344    -0.046701  \n",
       "Population  -0.108785   0.099773    -0.024650  \n",
       "AveOccup     0.002366   0.002476    -0.023737  \n",
       "Latitude     1.000000  -0.924664    -0.144160  \n",
       "Longitude   -0.924664   1.000000    -0.045967  \n",
       "MedHouseVal -0.144160  -0.045967     1.000000  "
      ]
     },
     "execution_count": 14,
     "metadata": {},
     "output_type": "execute_result"
    }
   ],
   "source": [
    "df.corr()"
   ]
  },
  {
   "cell_type": "code",
   "execution_count": 15,
   "id": "4dddef37-9142-4171-af4d-11021000adad",
   "metadata": {
    "tags": []
   },
   "outputs": [
    {
     "data": {
      "image/png": "[encoded data removed]",
      "text/plain": [
       "<Figure size 2000x800 with 2 Axes>"
      ]
     },
     "metadata": {},
     "output_type": "display_data"
    }
   ],
   "source": [
    "plt.figure(figsize=(20,8))\n",
    "sns.heatmap(df.corr(), annot=True)\n",
    "plt.show()"
   ]
  },
  {
   "cell_type": "code",
   "execution_count": null,
   "id": "f62fcbd4-4217-4dc1-8554-748b994ac7fb",
   "metadata": {},
   "outputs": [],
   "source": []
  },
  {
   "cell_type": "code",
   "execution_count": 16,
   "id": "5020b9be-67f1-4f42-807d-d053a1ced9e8",
   "metadata": {
    "tags": []
   },
   "outputs": [],
   "source": [
    "independent_features.drop(['Latitude','Longitude'], axis=1, inplace=True)"
   ]
  },
  {
   "cell_type": "code",
   "execution_count": 17,
   "id": "01b8ac8f-9c4a-4e4a-b441-012a4ddc88b2",
   "metadata": {
    "tags": []
   },
   "outputs": [
    {
     "data": {
      "text/html": [
       "<div>\n",
       "<style scoped>\n",
       "    .dataframe tbody tr th:only-of-type {\n",
       "        vertical-align: middle;\n",
       "    }\n",
       "\n",
       "    .dataframe tbody tr th {\n",
       "        vertical-align: top;\n",
       "    }\n",
       "\n",
       "    .dataframe thead th {\n",
       "        text-align: right;\n",
       "    }\n",
       "</style>\n",
       "<table border=\"1\" class=\"dataframe\">\n",
       "  <thead>\n",
       "    <tr style=\"text-align: right;\">\n",
       "      <th></th>\n",
       "      <th>MedInc</th>\n",
       "      <th>HouseAge</th>\n",
       "      <th>AveRooms</th>\n",
       "      <th>AveBedrms</th>\n",
       "      <th>Population</th>\n",
       "      <th>AveOccup</th>\n",
       "    </tr>\n",
       "  </thead>\n",
       "  <tbody>\n",
       "    <tr>\n",
       "      <th>0</th>\n",
       "      <td>8.3252</td>\n",
       "      <td>41.0</td>\n",
       "      <td>6.984127</td>\n",
       "      <td>1.023810</td>\n",
       "      <td>322.0</td>\n",
       "      <td>2.555556</td>\n",
       "    </tr>\n",
       "    <tr>\n",
       "      <th>1</th>\n",
       "      <td>8.3014</td>\n",
       "      <td>21.0</td>\n",
       "      <td>6.238137</td>\n",
       "      <td>0.971880</td>\n",
       "      <td>2401.0</td>\n",
       "      <td>2.109842</td>\n",
       "    </tr>\n",
       "    <tr>\n",
       "      <th>2</th>\n",
       "      <td>7.2574</td>\n",
       "      <td>52.0</td>\n",
       "      <td>8.288136</td>\n",
       "      <td>1.073446</td>\n",
       "      <td>496.0</td>\n",
       "      <td>2.802260</td>\n",
       "    </tr>\n",
       "    <tr>\n",
       "      <th>3</th>\n",
       "      <td>5.6431</td>\n",
       "      <td>52.0</td>\n",
       "      <td>5.817352</td>\n",
       "      <td>1.073059</td>\n",
       "      <td>558.0</td>\n",
       "      <td>2.547945</td>\n",
       "    </tr>\n",
       "    <tr>\n",
       "      <th>4</th>\n",
       "      <td>3.8462</td>\n",
       "      <td>52.0</td>\n",
       "      <td>6.281853</td>\n",
       "      <td>1.081081</td>\n",
       "      <td>565.0</td>\n",
       "      <td>2.181467</td>\n",
       "    </tr>\n",
       "  </tbody>\n",
       "</table>\n",
       "</div>"
      ],
      "text/plain": [
       "   MedInc  HouseAge  AveRooms  AveBedrms  Population  AveOccup\n",
       "0  8.3252      41.0  6.984127   1.023810       322.0  2.555556\n",
       "1  8.3014      21.0  6.238137   0.971880      2401.0  2.109842\n",
       "2  7.2574      52.0  8.288136   1.073446       496.0  2.802260\n",
       "3  5.6431      52.0  5.817352   1.073059       558.0  2.547945\n",
       "4  3.8462      52.0  6.281853   1.081081       565.0  2.181467"
      ]
     },
     "execution_count": 17,
     "metadata": {},
     "output_type": "execute_result"
    }
   ],
   "source": [
    "independent_features.head()"
   ]
  },
  {
   "cell_type": "code",
   "execution_count": 18,
   "id": "14404c75-17f1-4bf5-b4f4-a6a38f3973fe",
   "metadata": {
    "tags": []
   },
   "outputs": [],
   "source": [
    "# Split the Data into Train, Test and Validation Dataset\n",
    "X_train, X_test, y_train, y_test = train_test_split(independent_features, dependent_features, test_size=0.20, random_state=42, shuffle=True)\n",
    "X_train, X_valid, y_train, y_valid = train_test_split(X_train, y_train, test_size=0.20, random_state=42, shuffle=True)"
   ]
  },
  {
   "cell_type": "code",
   "execution_count": 19,
   "id": "12264d6d-8483-4a3f-80e2-c28f905e9c26",
   "metadata": {
    "tags": []
   },
   "outputs": [
    {
     "data": {
      "text/html": [
       "<div>\n",
       "<style scoped>\n",
       "    .dataframe tbody tr th:only-of-type {\n",
       "        vertical-align: middle;\n",
       "    }\n",
       "\n",
       "    .dataframe tbody tr th {\n",
       "        vertical-align: top;\n",
       "    }\n",
       "\n",
       "    .dataframe thead th {\n",
       "        text-align: right;\n",
       "    }\n",
       "</style>\n",
       "<table border=\"1\" class=\"dataframe\">\n",
       "  <thead>\n",
       "    <tr style=\"text-align: right;\">\n",
       "      <th></th>\n",
       "      <th>MedInc</th>\n",
       "      <th>HouseAge</th>\n",
       "      <th>AveRooms</th>\n",
       "      <th>AveBedrms</th>\n",
       "      <th>Population</th>\n",
       "      <th>AveOccup</th>\n",
       "    </tr>\n",
       "  </thead>\n",
       "  <tbody>\n",
       "    <tr>\n",
       "      <th>16490</th>\n",
       "      <td>4.7069</td>\n",
       "      <td>27.0</td>\n",
       "      <td>6.523256</td>\n",
       "      <td>1.116279</td>\n",
       "      <td>873.0</td>\n",
       "      <td>3.383721</td>\n",
       "    </tr>\n",
       "    <tr>\n",
       "      <th>6090</th>\n",
       "      <td>3.8750</td>\n",
       "      <td>15.0</td>\n",
       "      <td>5.058406</td>\n",
       "      <td>1.075770</td>\n",
       "      <td>3359.0</td>\n",
       "      <td>2.651144</td>\n",
       "    </tr>\n",
       "    <tr>\n",
       "      <th>10973</th>\n",
       "      <td>2.8828</td>\n",
       "      <td>26.0</td>\n",
       "      <td>5.290618</td>\n",
       "      <td>1.201373</td>\n",
       "      <td>1273.0</td>\n",
       "      <td>2.913043</td>\n",
       "    </tr>\n",
       "  </tbody>\n",
       "</table>\n",
       "</div>"
      ],
      "text/plain": [
       "       MedInc  HouseAge  AveRooms  AveBedrms  Population  AveOccup\n",
       "16490  4.7069      27.0  6.523256   1.116279       873.0  3.383721\n",
       "6090   3.8750      15.0  5.058406   1.075770      3359.0  2.651144\n",
       "10973  2.8828      26.0  5.290618   1.201373      1273.0  2.913043"
      ]
     },
     "execution_count": 19,
     "metadata": {},
     "output_type": "execute_result"
    }
   ],
   "source": [
    "X_train.head(3)"
   ]
  },
  {
   "cell_type": "code",
   "execution_count": 20,
   "id": "ea51fdc5-fdb9-41bc-974f-2381d62a0d91",
   "metadata": {
    "tags": []
   },
   "outputs": [
    {
     "data": {
      "text/html": [
       "<div>\n",
       "<style scoped>\n",
       "    .dataframe tbody tr th:only-of-type {\n",
       "        vertical-align: middle;\n",
       "    }\n",
       "\n",
       "    .dataframe tbody tr th {\n",
       "        vertical-align: top;\n",
       "    }\n",
       "\n",
       "    .dataframe thead th {\n",
       "        text-align: right;\n",
       "    }\n",
       "</style>\n",
       "<table border=\"1\" class=\"dataframe\">\n",
       "  <thead>\n",
       "    <tr style=\"text-align: right;\">\n",
       "      <th></th>\n",
       "      <th>MedInc</th>\n",
       "      <th>HouseAge</th>\n",
       "      <th>AveRooms</th>\n",
       "      <th>AveBedrms</th>\n",
       "      <th>Population</th>\n",
       "      <th>AveOccup</th>\n",
       "    </tr>\n",
       "  </thead>\n",
       "  <tbody>\n",
       "    <tr>\n",
       "      <th>20046</th>\n",
       "      <td>1.6812</td>\n",
       "      <td>25.0</td>\n",
       "      <td>4.192201</td>\n",
       "      <td>1.022284</td>\n",
       "      <td>1392.0</td>\n",
       "      <td>3.877437</td>\n",
       "    </tr>\n",
       "    <tr>\n",
       "      <th>3024</th>\n",
       "      <td>2.5313</td>\n",
       "      <td>30.0</td>\n",
       "      <td>5.039384</td>\n",
       "      <td>1.193493</td>\n",
       "      <td>1565.0</td>\n",
       "      <td>2.679795</td>\n",
       "    </tr>\n",
       "    <tr>\n",
       "      <th>15663</th>\n",
       "      <td>3.4801</td>\n",
       "      <td>52.0</td>\n",
       "      <td>3.977155</td>\n",
       "      <td>1.185877</td>\n",
       "      <td>1310.0</td>\n",
       "      <td>1.360332</td>\n",
       "    </tr>\n",
       "  </tbody>\n",
       "</table>\n",
       "</div>"
      ],
      "text/plain": [
       "       MedInc  HouseAge  AveRooms  AveBedrms  Population  AveOccup\n",
       "20046  1.6812      25.0  4.192201   1.022284      1392.0  3.877437\n",
       "3024   2.5313      30.0  5.039384   1.193493      1565.0  2.679795\n",
       "15663  3.4801      52.0  3.977155   1.185877      1310.0  1.360332"
      ]
     },
     "execution_count": 20,
     "metadata": {},
     "output_type": "execute_result"
    }
   ],
   "source": [
    "X_test.head(3)"
   ]
  },
  {
   "cell_type": "code",
   "execution_count": 21,
   "id": "11bf14bd-e296-4959-b76f-e705a5905dcb",
   "metadata": {
    "tags": []
   },
   "outputs": [
    {
     "data": {
      "text/html": [
       "<div>\n",
       "<style scoped>\n",
       "    .dataframe tbody tr th:only-of-type {\n",
       "        vertical-align: middle;\n",
       "    }\n",
       "\n",
       "    .dataframe tbody tr th {\n",
       "        vertical-align: top;\n",
       "    }\n",
       "\n",
       "    .dataframe thead th {\n",
       "        text-align: right;\n",
       "    }\n",
       "</style>\n",
       "<table border=\"1\" class=\"dataframe\">\n",
       "  <thead>\n",
       "    <tr style=\"text-align: right;\">\n",
       "      <th></th>\n",
       "      <th>MedInc</th>\n",
       "      <th>HouseAge</th>\n",
       "      <th>AveRooms</th>\n",
       "      <th>AveBedrms</th>\n",
       "      <th>Population</th>\n",
       "      <th>AveOccup</th>\n",
       "    </tr>\n",
       "  </thead>\n",
       "  <tbody>\n",
       "    <tr>\n",
       "      <th>2071</th>\n",
       "      <td>3.5375</td>\n",
       "      <td>35.0</td>\n",
       "      <td>6.543956</td>\n",
       "      <td>1.043956</td>\n",
       "      <td>537.0</td>\n",
       "      <td>2.950549</td>\n",
       "    </tr>\n",
       "    <tr>\n",
       "      <th>2612</th>\n",
       "      <td>2.1726</td>\n",
       "      <td>23.0</td>\n",
       "      <td>4.287179</td>\n",
       "      <td>0.987179</td>\n",
       "      <td>1060.0</td>\n",
       "      <td>2.717949</td>\n",
       "    </tr>\n",
       "    <tr>\n",
       "      <th>10838</th>\n",
       "      <td>4.2071</td>\n",
       "      <td>14.0</td>\n",
       "      <td>3.916929</td>\n",
       "      <td>1.056639</td>\n",
       "      <td>3148.0</td>\n",
       "      <td>1.981120</td>\n",
       "    </tr>\n",
       "  </tbody>\n",
       "</table>\n",
       "</div>"
      ],
      "text/plain": [
       "       MedInc  HouseAge  AveRooms  AveBedrms  Population  AveOccup\n",
       "2071   3.5375      35.0  6.543956   1.043956       537.0  2.950549\n",
       "2612   2.1726      23.0  4.287179   0.987179      1060.0  2.717949\n",
       "10838  4.2071      14.0  3.916929   1.056639      3148.0  1.981120"
      ]
     },
     "execution_count": 21,
     "metadata": {},
     "output_type": "execute_result"
    }
   ],
   "source": [
    "X_valid.head(3)"
   ]
  },
  {
   "cell_type": "code",
   "execution_count": null,
   "id": "6898f163-7cfb-4031-8361-544c9a65fd2f",
   "metadata": {},
   "outputs": [],
   "source": []
  },
  {
   "cell_type": "code",
   "execution_count": 22,
   "id": "eeaf4f67-bab2-4dfa-9361-d1f52712c92b",
   "metadata": {
    "tags": []
   },
   "outputs": [],
   "source": [
    "# Scaling the Train, Test and Validation Dataset\n",
    "scaler = StandardScaler()\n",
    "X_train = scaler.fit_transform(X_train)\n",
    "X_test = scaler.transform(X_test)\n",
    "X_valid = scaler.transform(X_valid)"
   ]
  },
  {
   "cell_type": "code",
   "execution_count": 23,
   "id": "e2616591-29b7-476b-a7ea-8963bbb86fb2",
   "metadata": {
    "tags": []
   },
   "outputs": [
    {
     "data": {
      "text/plain": [
       "array([[ 0.44340968, -0.12449485,  0.5204714 ,  0.05758629, -0.48710064,\n",
       "         0.05165771],\n",
       "       [ 0.00321001, -1.07770852, -0.17083875, -0.04872181,  1.69902706,\n",
       "        -0.05515937],\n",
       "       [-0.52181236, -0.20392932, -0.06125032,  0.28089603, -0.13535041,\n",
       "        -0.01697183],\n",
       "       ...,\n",
       "       [ 0.061099  , -0.8394051 ,  0.06108211, -0.20832847,  0.46174561,\n",
       "         0.0310699 ],\n",
       "       [ 0.33985508, -0.99827405, -0.47481979, -0.2175701 , -0.61285135,\n",
       "        -0.13760481],\n",
       "       [ 0.17518368,  0.51098093, -0.49473189, -0.46726841, -0.69199516,\n",
       "        -0.00768362]])"
      ]
     },
     "execution_count": 23,
     "metadata": {},
     "output_type": "execute_result"
    }
   ],
   "source": [
    "X_train"
   ]
  },
  {
   "cell_type": "code",
   "execution_count": 24,
   "id": "ee9bb805-970f-4e74-bda3-e4d47cd6d375",
   "metadata": {
    "tags": []
   },
   "outputs": [
    {
     "data": {
      "text/plain": [
       "array([[-1.15763869, -0.28336379, -0.57962896, -0.18908216, -0.03070471,\n",
       "         0.12364657],\n",
       "       [-0.70780849,  0.11380857, -0.17981591,  0.26021715,  0.12142726,\n",
       "        -0.05098189],\n",
       "       [-0.20575122,  1.86136697, -0.68111604,  0.24023151, -0.10281351,\n",
       "        -0.24337286],\n",
       "       ...,\n",
       "       [ 2.83670105, -0.28336379,  0.85762941, -0.38616779,  0.13901477,\n",
       "        -0.03484094],\n",
       "       [-0.5735632 ,  0.59041541, -0.0619999 , -0.29185333, -0.17580169,\n",
       "        -0.06427787],\n",
       "       [-0.16765244, -0.91883958, -0.67560172, -0.15969549,  0.21464107,\n",
       "         0.10213569]])"
      ]
     },
     "execution_count": 24,
     "metadata": {},
     "output_type": "execute_result"
    }
   ],
   "source": [
    "X_test"
   ]
  },
  {
   "cell_type": "code",
   "execution_count": 25,
   "id": "91c961f5-5dea-45c6-9f72-dec34a561667",
   "metadata": {
    "tags": []
   },
   "outputs": [
    {
     "data": {
      "text/plain": [
       "array([[-0.17537802,  0.51098093,  0.5302405 , -0.13220911, -0.78257084,\n",
       "        -0.01150308],\n",
       "       [-0.8976145 , -0.44223274, -0.53480533, -0.28120633, -0.32265741,\n",
       "        -0.04541862],\n",
       "       [ 0.17894064, -1.15714299, -0.70953856, -0.09892453,  1.51347882,\n",
       "        -0.15285569],\n",
       "       ...,\n",
       "       [-0.14680394, -0.60110169, -0.39618305,  0.03555485, -0.00344407,\n",
       "        -0.01125043],\n",
       "       [-0.12907742, -0.28336379, -0.04307203, -0.26644146, -0.2329611 ,\n",
       "        -0.1369904 ],\n",
       "       [-0.11997604, -0.75997063, -0.50789414, -0.48526773, -0.61285135,\n",
       "        -0.05606585]])"
      ]
     },
     "execution_count": 25,
     "metadata": {},
     "output_type": "execute_result"
    }
   ],
   "source": [
    "X_valid"
   ]
  },
  {
   "cell_type": "code",
   "execution_count": 26,
   "id": "fee68b40-5858-4c68-9bf5-2280706b0fdf",
   "metadata": {
    "tags": []
   },
   "outputs": [
    {
     "data": {
      "text/plain": [
       "(6,)"
      ]
     },
     "execution_count": 26,
     "metadata": {},
     "output_type": "execute_result"
    }
   ],
   "source": [
    "X_train.shape[1:]"
   ]
  },
  {
   "cell_type": "code",
   "execution_count": 27,
   "id": "d05bb743-10cd-49a4-a729-1436c6e9a5ce",
   "metadata": {
    "tags": []
   },
   "outputs": [],
   "source": [
    "# Make the Architecture Layers of The Model\n",
    "\n",
    "layers = [\n",
    "    Dense(30, activation='relu', input_shape=X_train.shape[1:], name='first_layer'),\n",
    "    Dense(10, activation='relu', name='hidden_layer1'),\n",
    "    Dense(5, activation='relu', name='hidden_layer2'),\n",
    "    Dense(1, name='output_layer'),\n",
    "\n",
    "]"
   ]
  },
  {
   "cell_type": "code",
   "execution_count": 28,
   "id": "d68afc70-d0d8-4ff5-8718-e2fc42cc4839",
   "metadata": {
    "tags": []
   },
   "outputs": [],
   "source": [
    "model = Sequential(layers)"
   ]
  },
  {
   "cell_type": "code",
   "execution_count": 29,
   "id": "0dfc4449-1925-44e1-b0fe-fde282c8501d",
   "metadata": {
    "tags": []
   },
   "outputs": [
    {
     "name": "stdout",
     "output_type": "stream",
     "text": [
      "Model: \"sequential\"\n",
      "_________________________________________________________________\n",
      " Layer (type)                Output Shape              Param #   \n",
      "=================================================================\n",
      " first_layer (Dense)         (None, 30)                210       \n",
      "                                                                 \n",
      " hidden_layer1 (Dense)       (None, 10)                310       \n",
      "                                                                 \n",
      " hidden_layer2 (Dense)       (None, 5)                 55        \n",
      "                                                                 \n",
      " output_layer (Dense)        (None, 1)                 6         \n",
      "                                                                 \n",
      "=================================================================\n",
      "Total params: 581\n",
      "Trainable params: 581\n",
      "Non-trainable params: 0\n",
      "_________________________________________________________________\n"
     ]
    }
   ],
   "source": [
    "# Compile the Model\n",
    "model.compile(loss='mse', optimizer='sgd', metrics=['mse'])\n",
    "model.summary()"
   ]
  },
  {
   "cell_type": "code",
   "execution_count": null,
   "id": "2cf40f0c-7652-44c7-ab6b-5214e0eb4d46",
   "metadata": {
    "tags": []
   },
   "outputs": [],
   "source": []
  },
  {
   "cell_type": "code",
   "execution_count": 30,
   "id": "c6dd8305-9a95-4793-825b-6c9325584483",
   "metadata": {
    "tags": []
   },
   "outputs": [],
   "source": [
    "# Fit the Model \n",
    "\n",
    "# Callback Functions\n",
    "\n",
    "# EarlyStopping Callback\n",
    "early_stop_clb = EarlyStopping(monitor='loss', mode=\"min\", min_delta=0.001, patience=3)\n",
    "\n",
    "# Tensorboard Callback\n",
    "tensorb_clb = TensorBoard(log_dir='logs', histogram_freq=1)\n",
    "\n",
    "# ModelCheckpoint Callback\n",
    "mode_check_clb = ModelCheckpoint(filepath='artifacts/ann_regression.h5', monitor= \"loss\", mode='min', save_best_only=True, save_weights_only=False)"
   ]
  },
  {
   "cell_type": "code",
   "execution_count": 31,
   "id": "e961304b-1e5e-42fd-84b9-2fb76825be86",
   "metadata": {
    "tags": []
   },
   "outputs": [
    {
     "name": "stdout",
     "output_type": "stream",
     "text": [
      "Epoch 1/30\n",
      "413/413 [==============================] - 1s 2ms/step - loss: 0.7073 - mse: 0.7073 - val_loss: 0.5866 - val_mse: 0.5866\n",
      "Epoch 2/30\n",
      "413/413 [==============================] - 1s 2ms/step - loss: 0.5319 - mse: 0.5319 - val_loss: 0.5244 - val_mse: 0.5244\n",
      "Epoch 3/30\n",
      "413/413 [==============================] - 1s 2ms/step - loss: 0.4947 - mse: 0.4947 - val_loss: 0.5008 - val_mse: 0.5008\n",
      "Epoch 4/30\n",
      "413/413 [==============================] - 1s 2ms/step - loss: 0.4758 - mse: 0.4758 - val_loss: 0.4894 - val_mse: 0.4894\n",
      "Epoch 5/30\n",
      "413/413 [==============================] - 1s 2ms/step - loss: 0.4636 - mse: 0.4636 - val_loss: 0.4715 - val_mse: 0.4715\n",
      "Epoch 6/30\n",
      "413/413 [==============================] - 1s 2ms/step - loss: 0.4532 - mse: 0.4532 - val_loss: 0.5050 - val_mse: 0.5050\n",
      "Epoch 7/30\n",
      "413/413 [==============================] - 1s 2ms/step - loss: 0.4466 - mse: 0.4466 - val_loss: 0.4634 - val_mse: 0.4634\n",
      "Epoch 8/30\n",
      "413/413 [==============================] - 1s 2ms/step - loss: 0.4407 - mse: 0.4407 - val_loss: 0.4709 - val_mse: 0.4709\n",
      "Epoch 9/30\n",
      "413/413 [==============================] - 1s 2ms/step - loss: 0.4347 - mse: 0.4347 - val_loss: 0.4504 - val_mse: 0.4504\n",
      "Epoch 10/30\n",
      "413/413 [==============================] - 1s 2ms/step - loss: 0.4333 - mse: 0.4333 - val_loss: 0.4568 - val_mse: 0.4568\n",
      "Epoch 11/30\n",
      "413/413 [==============================] - 1s 2ms/step - loss: 0.4297 - mse: 0.4297 - val_loss: 0.4658 - val_mse: 0.4658\n",
      "Epoch 12/30\n",
      "413/413 [==============================] - 1s 2ms/step - loss: 0.4268 - mse: 0.4268 - val_loss: 0.4464 - val_mse: 0.4464\n",
      "Epoch 13/30\n",
      "413/413 [==============================] - 1s 2ms/step - loss: 0.4244 - mse: 0.4244 - val_loss: 0.4473 - val_mse: 0.4473\n",
      "Epoch 14/30\n",
      "413/413 [==============================] - 1s 2ms/step - loss: 0.4236 - mse: 0.4236 - val_loss: 0.4476 - val_mse: 0.4476\n",
      "Epoch 15/30\n",
      "413/413 [==============================] - 1s 2ms/step - loss: 0.4207 - mse: 0.4207 - val_loss: 0.4508 - val_mse: 0.4508\n",
      "Epoch 16/30\n",
      "413/413 [==============================] - 1s 2ms/step - loss: 0.4192 - mse: 0.4192 - val_loss: 0.4379 - val_mse: 0.4379\n",
      "Epoch 17/30\n",
      "413/413 [==============================] - 1s 2ms/step - loss: 0.4193 - mse: 0.4193 - val_loss: 0.4355 - val_mse: 0.4355\n",
      "Epoch 18/30\n",
      "413/413 [==============================] - 1s 2ms/step - loss: 0.4185 - mse: 0.4185 - val_loss: 0.4426 - val_mse: 0.4426\n",
      "Epoch 19/30\n",
      "413/413 [==============================] - 1s 2ms/step - loss: 0.4163 - mse: 0.4163 - val_loss: 0.4596 - val_mse: 0.4596\n",
      "Epoch 20/30\n",
      "413/413 [==============================] - 1s 2ms/step - loss: 0.4152 - mse: 0.4152 - val_loss: 0.4508 - val_mse: 0.4508\n",
      "Epoch 21/30\n",
      "413/413 [==============================] - 1s 2ms/step - loss: 0.4130 - mse: 0.4130 - val_loss: 0.4435 - val_mse: 0.4435\n",
      "Epoch 22/30\n",
      "413/413 [==============================] - 1s 2ms/step - loss: 0.4115 - mse: 0.4115 - val_loss: 0.4637 - val_mse: 0.4637\n",
      "Epoch 23/30\n",
      "413/413 [==============================] - 1s 2ms/step - loss: 0.4133 - mse: 0.4133 - val_loss: 0.4483 - val_mse: 0.4483\n",
      "Epoch 24/30\n",
      "413/413 [==============================] - 1s 2ms/step - loss: 0.4101 - mse: 0.4101 - val_loss: 0.4343 - val_mse: 0.4343\n",
      "Epoch 25/30\n",
      "413/413 [==============================] - 1s 2ms/step - loss: 0.4099 - mse: 0.4099 - val_loss: 0.4388 - val_mse: 0.4388\n",
      "Epoch 26/30\n",
      "413/413 [==============================] - 1s 2ms/step - loss: 0.4092 - mse: 0.4092 - val_loss: 0.4401 - val_mse: 0.4401\n",
      "Epoch 27/30\n",
      "413/413 [==============================] - 1s 2ms/step - loss: 0.4078 - mse: 0.4078 - val_loss: 0.4371 - val_mse: 0.4371\n",
      "Epoch 28/30\n",
      "413/413 [==============================] - 1s 2ms/step - loss: 0.4060 - mse: 0.4060 - val_loss: 0.4284 - val_mse: 0.4284\n",
      "Epoch 29/30\n",
      "413/413 [==============================] - 1s 2ms/step - loss: 0.4048 - mse: 0.4048 - val_loss: 0.4289 - val_mse: 0.4289\n",
      "Epoch 30/30\n",
      "413/413 [==============================] - 1s 2ms/step - loss: 0.4053 - mse: 0.4053 - val_loss: 0.4307 - val_mse: 0.4307\n"
     ]
    }
   ],
   "source": [
    "valid_data = (X_valid, y_valid)\n",
    "history = model.fit(X_train, y_train, epochs=30, validation_data=valid_data, callbacks=[early_stop_clb, tensorb_clb, mode_check_clb])"
   ]
  },
  {
   "cell_type": "code",
   "execution_count": null,
   "id": "9134aaaf-2adc-4e5f-ad36-c3df177d6aa0",
   "metadata": {},
   "outputs": [],
   "source": []
  },
  {
   "cell_type": "code",
   "execution_count": 32,
   "id": "9bc8818c-9a7d-40af-928c-3bc670361e38",
   "metadata": {
    "tags": []
   },
   "outputs": [
    {
     "data": {
      "text/html": [
       "<div>\n",
       "<style scoped>\n",
       "    .dataframe tbody tr th:only-of-type {\n",
       "        vertical-align: middle;\n",
       "    }\n",
       "\n",
       "    .dataframe tbody tr th {\n",
       "        vertical-align: top;\n",
       "    }\n",
       "\n",
       "    .dataframe thead th {\n",
       "        text-align: right;\n",
       "    }\n",
       "</style>\n",
       "<table border=\"1\" class=\"dataframe\">\n",
       "  <thead>\n",
       "    <tr style=\"text-align: right;\">\n",
       "      <th></th>\n",
       "      <th>loss</th>\n",
       "      <th>mse</th>\n",
       "      <th>val_loss</th>\n",
       "      <th>val_mse</th>\n",
       "    </tr>\n",
       "  </thead>\n",
       "  <tbody>\n",
       "    <tr>\n",
       "      <th>0</th>\n",
       "      <td>0.707253</td>\n",
       "      <td>0.707253</td>\n",
       "      <td>0.586576</td>\n",
       "      <td>0.586576</td>\n",
       "    </tr>\n",
       "    <tr>\n",
       "      <th>1</th>\n",
       "      <td>0.531861</td>\n",
       "      <td>0.531861</td>\n",
       "      <td>0.524369</td>\n",
       "      <td>0.524369</td>\n",
       "    </tr>\n",
       "    <tr>\n",
       "      <th>2</th>\n",
       "      <td>0.494740</td>\n",
       "      <td>0.494740</td>\n",
       "      <td>0.500767</td>\n",
       "      <td>0.500767</td>\n",
       "    </tr>\n",
       "    <tr>\n",
       "      <th>3</th>\n",
       "      <td>0.475800</td>\n",
       "      <td>0.475800</td>\n",
       "      <td>0.489379</td>\n",
       "      <td>0.489379</td>\n",
       "    </tr>\n",
       "    <tr>\n",
       "      <th>4</th>\n",
       "      <td>0.463578</td>\n",
       "      <td>0.463578</td>\n",
       "      <td>0.471536</td>\n",
       "      <td>0.471536</td>\n",
       "    </tr>\n",
       "    <tr>\n",
       "      <th>5</th>\n",
       "      <td>0.453191</td>\n",
       "      <td>0.453191</td>\n",
       "      <td>0.505016</td>\n",
       "      <td>0.505016</td>\n",
       "    </tr>\n",
       "    <tr>\n",
       "      <th>6</th>\n",
       "      <td>0.446561</td>\n",
       "      <td>0.446561</td>\n",
       "      <td>0.463430</td>\n",
       "      <td>0.463430</td>\n",
       "    </tr>\n",
       "    <tr>\n",
       "      <th>7</th>\n",
       "      <td>0.440704</td>\n",
       "      <td>0.440704</td>\n",
       "      <td>0.470866</td>\n",
       "      <td>0.470866</td>\n",
       "    </tr>\n",
       "    <tr>\n",
       "      <th>8</th>\n",
       "      <td>0.434670</td>\n",
       "      <td>0.434670</td>\n",
       "      <td>0.450411</td>\n",
       "      <td>0.450411</td>\n",
       "    </tr>\n",
       "    <tr>\n",
       "      <th>9</th>\n",
       "      <td>0.433311</td>\n",
       "      <td>0.433311</td>\n",
       "      <td>0.456760</td>\n",
       "      <td>0.456760</td>\n",
       "    </tr>\n",
       "    <tr>\n",
       "      <th>10</th>\n",
       "      <td>0.429653</td>\n",
       "      <td>0.429653</td>\n",
       "      <td>0.465773</td>\n",
       "      <td>0.465773</td>\n",
       "    </tr>\n",
       "    <tr>\n",
       "      <th>11</th>\n",
       "      <td>0.426811</td>\n",
       "      <td>0.426811</td>\n",
       "      <td>0.446372</td>\n",
       "      <td>0.446372</td>\n",
       "    </tr>\n",
       "    <tr>\n",
       "      <th>12</th>\n",
       "      <td>0.424367</td>\n",
       "      <td>0.424367</td>\n",
       "      <td>0.447317</td>\n",
       "      <td>0.447317</td>\n",
       "    </tr>\n",
       "    <tr>\n",
       "      <th>13</th>\n",
       "      <td>0.423598</td>\n",
       "      <td>0.423598</td>\n",
       "      <td>0.447595</td>\n",
       "      <td>0.447595</td>\n",
       "    </tr>\n",
       "    <tr>\n",
       "      <th>14</th>\n",
       "      <td>0.420660</td>\n",
       "      <td>0.420660</td>\n",
       "      <td>0.450772</td>\n",
       "      <td>0.450772</td>\n",
       "    </tr>\n",
       "    <tr>\n",
       "      <th>15</th>\n",
       "      <td>0.419150</td>\n",
       "      <td>0.419150</td>\n",
       "      <td>0.437913</td>\n",
       "      <td>0.437913</td>\n",
       "    </tr>\n",
       "    <tr>\n",
       "      <th>16</th>\n",
       "      <td>0.419348</td>\n",
       "      <td>0.419348</td>\n",
       "      <td>0.435503</td>\n",
       "      <td>0.435503</td>\n",
       "    </tr>\n",
       "    <tr>\n",
       "      <th>17</th>\n",
       "      <td>0.418499</td>\n",
       "      <td>0.418499</td>\n",
       "      <td>0.442564</td>\n",
       "      <td>0.442564</td>\n",
       "    </tr>\n",
       "    <tr>\n",
       "      <th>18</th>\n",
       "      <td>0.416345</td>\n",
       "      <td>0.416345</td>\n",
       "      <td>0.459554</td>\n",
       "      <td>0.459554</td>\n",
       "    </tr>\n",
       "    <tr>\n",
       "      <th>19</th>\n",
       "      <td>0.415245</td>\n",
       "      <td>0.415245</td>\n",
       "      <td>0.450753</td>\n",
       "      <td>0.450753</td>\n",
       "    </tr>\n",
       "    <tr>\n",
       "      <th>20</th>\n",
       "      <td>0.413024</td>\n",
       "      <td>0.413024</td>\n",
       "      <td>0.443482</td>\n",
       "      <td>0.443482</td>\n",
       "    </tr>\n",
       "    <tr>\n",
       "      <th>21</th>\n",
       "      <td>0.411499</td>\n",
       "      <td>0.411499</td>\n",
       "      <td>0.463727</td>\n",
       "      <td>0.463727</td>\n",
       "    </tr>\n",
       "    <tr>\n",
       "      <th>22</th>\n",
       "      <td>0.413329</td>\n",
       "      <td>0.413329</td>\n",
       "      <td>0.448312</td>\n",
       "      <td>0.448312</td>\n",
       "    </tr>\n",
       "    <tr>\n",
       "      <th>23</th>\n",
       "      <td>0.410099</td>\n",
       "      <td>0.410099</td>\n",
       "      <td>0.434263</td>\n",
       "      <td>0.434263</td>\n",
       "    </tr>\n",
       "    <tr>\n",
       "      <th>24</th>\n",
       "      <td>0.409935</td>\n",
       "      <td>0.409935</td>\n",
       "      <td>0.438784</td>\n",
       "      <td>0.438784</td>\n",
       "    </tr>\n",
       "    <tr>\n",
       "      <th>25</th>\n",
       "      <td>0.409194</td>\n",
       "      <td>0.409194</td>\n",
       "      <td>0.440093</td>\n",
       "      <td>0.440093</td>\n",
       "    </tr>\n",
       "    <tr>\n",
       "      <th>26</th>\n",
       "      <td>0.407810</td>\n",
       "      <td>0.407810</td>\n",
       "      <td>0.437112</td>\n",
       "      <td>0.437112</td>\n",
       "    </tr>\n",
       "    <tr>\n",
       "      <th>27</th>\n",
       "      <td>0.406040</td>\n",
       "      <td>0.406040</td>\n",
       "      <td>0.428377</td>\n",
       "      <td>0.428377</td>\n",
       "    </tr>\n",
       "    <tr>\n",
       "      <th>28</th>\n",
       "      <td>0.404821</td>\n",
       "      <td>0.404821</td>\n",
       "      <td>0.428948</td>\n",
       "      <td>0.428948</td>\n",
       "    </tr>\n",
       "    <tr>\n",
       "      <th>29</th>\n",
       "      <td>0.405313</td>\n",
       "      <td>0.405313</td>\n",
       "      <td>0.430699</td>\n",
       "      <td>0.430699</td>\n",
       "    </tr>\n",
       "  </tbody>\n",
       "</table>\n",
       "</div>"
      ],
      "text/plain": [
       "        loss       mse  val_loss   val_mse\n",
       "0   0.707253  0.707253  0.586576  0.586576\n",
       "1   0.531861  0.531861  0.524369  0.524369\n",
       "2   0.494740  0.494740  0.500767  0.500767\n",
       "3   0.475800  0.475800  0.489379  0.489379\n",
       "4   0.463578  0.463578  0.471536  0.471536\n",
       "5   0.453191  0.453191  0.505016  0.505016\n",
       "6   0.446561  0.446561  0.463430  0.463430\n",
       "7   0.440704  0.440704  0.470866  0.470866\n",
       "8   0.434670  0.434670  0.450411  0.450411\n",
       "9   0.433311  0.433311  0.456760  0.456760\n",
       "10  0.429653  0.429653  0.465773  0.465773\n",
       "11  0.426811  0.426811  0.446372  0.446372\n",
       "12  0.424367  0.424367  0.447317  0.447317\n",
       "13  0.423598  0.423598  0.447595  0.447595\n",
       "14  0.420660  0.420660  0.450772  0.450772\n",
       "15  0.419150  0.419150  0.437913  0.437913\n",
       "16  0.419348  0.419348  0.435503  0.435503\n",
       "17  0.418499  0.418499  0.442564  0.442564\n",
       "18  0.416345  0.416345  0.459554  0.459554\n",
       "19  0.415245  0.415245  0.450753  0.450753\n",
       "20  0.413024  0.413024  0.443482  0.443482\n",
       "21  0.411499  0.411499  0.463727  0.463727\n",
       "22  0.413329  0.413329  0.448312  0.448312\n",
       "23  0.410099  0.410099  0.434263  0.434263\n",
       "24  0.409935  0.409935  0.438784  0.438784\n",
       "25  0.409194  0.409194  0.440093  0.440093\n",
       "26  0.407810  0.407810  0.437112  0.437112\n",
       "27  0.406040  0.406040  0.428377  0.428377\n",
       "28  0.404821  0.404821  0.428948  0.428948\n",
       "29  0.405313  0.405313  0.430699  0.430699"
      ]
     },
     "execution_count": 32,
     "metadata": {},
     "output_type": "execute_result"
    }
   ],
   "source": [
    "# Draw the Plot of Model Train and Validation Loss\n",
    "history_df = pd.DataFrame(history.history)\n",
    "history_df"
   ]
  },
  {
   "cell_type": "code",
   "execution_count": 33,
   "id": "ca9389b5-ebe6-412c-afaa-29c4677f1e0a",
   "metadata": {
    "tags": []
   },
   "outputs": [
    {
     "data": {
      "image/png": "[encoded data removed]",
      "text/plain": [
       "<Figure size 2000x800 with 1 Axes>"
      ]
     },
     "metadata": {},
     "output_type": "display_data"
    }
   ],
   "source": [
    "plt.figure(figsize=(20,8))\n",
    "plt.plot(history_df)\n",
    "plt.legend(['loss', 'mse', 'val_loss', 'val_mse'])\n",
    "plt.show()"
   ]
  },
  {
   "cell_type": "code",
   "execution_count": 45,
   "id": "35bfc0bf-ec14-406d-8ac3-70b978ab9bed",
   "metadata": {
    "tags": []
   },
   "outputs": [],
   "source": [
    "# Tensorboard"
   ]
  },
  {
   "cell_type": "code",
   "execution_count": 43,
   "id": "de5a4b05-b822-445b-9252-73d980d31350",
   "metadata": {},
   "outputs": [],
   "source": [
    "%reload_ext tensorboard"
   ]
  },
  {
   "cell_type": "code",
   "execution_count": 44,
   "id": "1b7ee6d0-72aa-4a16-9327-09923968439e",
   "metadata": {
    "tags": []
   },
   "outputs": [
    {
     "data": {
      "text/html": [
       "\n",
       "      <iframe id=\"tensorboard-frame-490cc2f88dc05f57\" width=\"100%\" height=\"800\" frameborder=\"0\">\n",
       "      </iframe>\n",
       "      <script>\n",
       "        (function() {\n",
       "          const frame = document.getElementById(\"tensorboard-frame-490cc2f88dc05f57\");\n",
       "          const url = new URL(\"/\", window.location);\n",
       "          const port = 6006;\n",
       "          if (port) {\n",
       "            url.port = port;\n",
       "          }\n",
       "          frame.src = url;\n",
       "        })();\n",
       "      </script>\n",
       "    "
      ],
      "text/plain": [
       "<IPython.core.display.HTML object>"
      ]
     },
     "metadata": {},
     "output_type": "display_data"
    }
   ],
   "source": [
    "%tensorboard --logdir=\"logs\""
   ]
  },
  {
   "cell_type": "code",
   "execution_count": null,
   "id": "a71c9eb7-9518-48b9-9452-4a88c80c21ed",
   "metadata": {},
   "outputs": [],
   "source": []
  },
  {
   "cell_type": "code",
   "execution_count": 34,
   "id": "1eda1134-284d-4bf9-be86-a9f16e90b8ff",
   "metadata": {
    "tags": []
   },
   "outputs": [
    {
     "name": "stdout",
     "output_type": "stream",
     "text": [
      "129/129 [==============================] - 0s 993us/step - loss: 0.4187 - mse: 0.4187\n"
     ]
    },
    {
     "data": {
      "text/plain": [
       "[0.41874051094055176, 0.41874051094055176]"
      ]
     },
     "execution_count": 34,
     "metadata": {},
     "output_type": "execute_result"
    }
   ],
   "source": [
    "# Evaluate the Model\n",
    "model.evaluate(X_test, y_test)"
   ]
  },
  {
   "cell_type": "code",
   "execution_count": 35,
   "id": "1cf3275f-f887-4656-8a18-d3920cf771d5",
   "metadata": {},
   "outputs": [
    {
     "data": {
      "text/plain": [
       "(4128, 6)"
      ]
     },
     "execution_count": 35,
     "metadata": {},
     "output_type": "execute_result"
    }
   ],
   "source": [
    "X_test.shape"
   ]
  },
  {
   "cell_type": "code",
   "execution_count": 36,
   "id": "e1309626-b3c6-4809-bda1-ced349c263d0",
   "metadata": {
    "tags": []
   },
   "outputs": [],
   "source": [
    "# Predict the Model\n",
    "X_act = X_test[0]\n",
    "y_act = y_test.iloc[1]"
   ]
  },
  {
   "cell_type": "code",
   "execution_count": 37,
   "id": "211f0db0-ae81-40a7-807c-b9a40eeeebf0",
   "metadata": {
    "tags": []
   },
   "outputs": [
    {
     "data": {
      "text/plain": [
       "array([-1.15763869, -0.28336379, -0.57962896, -0.18908216, -0.03070471,\n",
       "        0.12364657])"
      ]
     },
     "execution_count": 37,
     "metadata": {},
     "output_type": "execute_result"
    }
   ],
   "source": [
    "X_act"
   ]
  },
  {
   "cell_type": "code",
   "execution_count": 39,
   "id": "c657482a-4cb4-445b-a65e-706d368f70b9",
   "metadata": {
    "tags": []
   },
   "outputs": [
    {
     "data": {
      "text/plain": [
       "array([[-1.15763869, -0.28336379, -0.57962896, -0.18908216, -0.03070471,\n",
       "         0.12364657]])"
      ]
     },
     "execution_count": 39,
     "metadata": {},
     "output_type": "execute_result"
    }
   ],
   "source": [
    "X_act.reshape(1,6)"
   ]
  },
  {
   "cell_type": "code",
   "execution_count": 40,
   "id": "d8365c6f-436a-4d51-9bb7-eb7f24aea12c",
   "metadata": {
    "tags": []
   },
   "outputs": [
    {
     "data": {
      "text/plain": [
       "MedHouseVal    0.458\n",
       "Name: 3024, dtype: float64"
      ]
     },
     "execution_count": 40,
     "metadata": {},
     "output_type": "execute_result"
    }
   ],
   "source": [
    "y_act"
   ]
  },
  {
   "cell_type": "code",
   "execution_count": 41,
   "id": "1e832f0e-631a-474a-8ef0-8ff5977d9fd4",
   "metadata": {
    "tags": []
   },
   "outputs": [
    {
     "name": "stdout",
     "output_type": "stream",
     "text": [
      "1/1 [==============================] - 0s 54ms/step\n"
     ]
    }
   ],
   "source": [
    "y_pred = model.predict(X_act.reshape(1,6))"
   ]
  },
  {
   "cell_type": "code",
   "execution_count": 42,
   "id": "7a2118d6-d544-4709-9168-cd22f7c04838",
   "metadata": {
    "tags": []
   },
   "outputs": [
    {
     "data": {
      "text/plain": [
       "array([[0.8774187]], dtype=float32)"
      ]
     },
     "execution_count": 42,
     "metadata": {},
     "output_type": "execute_result"
    }
   ],
   "source": [
    "y_pred"
   ]
  },
  {
   "cell_type": "code",
   "execution_count": null,
   "id": "b19006b6-d472-4736-b32d-77ff2582849b",
   "metadata": {},
   "outputs": [],
   "source": []
  }
 ],
 "metadata": {
  "kernelspec": {
   "display_name": "Python 3 (ipykernel)",
   "language": "python",
   "name": "python3"
  },
  "language_info": {
   "codemirror_mode": {
    "name": "ipython",
    "version": 3
   },
   "file_extension": ".py",
   "mimetype": "text/x-python",
   "name": "python",
   "nbconvert_exporter": "python",
   "pygments_lexer": "ipython3",
   "version": "3.10.12"
  }
 },
 "nbformat": 4,
 "nbformat_minor": 5
}
