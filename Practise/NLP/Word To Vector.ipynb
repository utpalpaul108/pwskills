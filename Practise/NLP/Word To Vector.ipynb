{
 "cells": [
  {
   "cell_type": "markdown",
   "id": "c6d68510-ef34-4dd2-a87c-d7ac07a34ee1",
   "metadata": {},
   "source": [
    "## World To Vector"
   ]
  },
  {
   "cell_type": "code",
   "execution_count": 2,
   "id": "3b44cadd-3bf6-4fc4-a446-c6e16be81825",
   "metadata": {},
   "outputs": [],
   "source": [
    "import nltk\n",
    "from nltk.stem import PorterStemmer\n",
    "from nltk.stem import WordNetLemmatizer\n",
    "from nltk.corpus import stopwords\n"
   ]
  },
  {
   "cell_type": "code",
   "execution_count": 3,
   "id": "6f3b0c3f-bd61-4d6d-9a77-d4abb08cff86",
   "metadata": {},
   "outputs": [],
   "source": [
    "paragraph = \"\"\"\n",
    "Millennia ago, the island used to be an extension of the Teknaf peninsula, but at a later time some portion of this peninsula got submerged and thus the southernmost part of the aforementioned peninsula became an island, and was disconnected from the Bangladesh mainland. The island was first settled in the 18th century by Arabian merchants, who named it \"Jazira\". During British occupation the island was named after the then Deputy Commissioner of Chittagong Mr. Martin as St. Martin Island.[3] Local names of the island are \"Narikel Jinjira\"[4] which means \"Coconut Island\", and \"Daruchini Dwip\" which means \"Cinnamon Island\". It is the only coral island in Bangladesh.\n",
    "\"\"\""
   ]
  },
  {
   "cell_type": "code",
   "execution_count": 4,
   "id": "b693a903-2471-4b50-bc65-592a4f98f703",
   "metadata": {},
   "outputs": [
    {
     "data": {
      "text/plain": [
       "'\\nMillennia ago, the island used to be an extension of the Teknaf peninsula, but at a later time some portion of this peninsula got submerged and thus the southernmost part of the aforementioned peninsula became an island, and was disconnected from the Bangladesh mainland. The island was first settled in the 18th century by Arabian merchants, who named it \"Jazira\". During British occupation the island was named after the then Deputy Commissioner of Chittagong Mr. Martin as St. Martin Island.[3] Local names of the island are \"Narikel Jinjira\"[4] which means \"Coconut Island\", and \"Daruchini Dwip\" which means \"Cinnamon Island\". It is the only coral island in Bangladesh.\\n'"
      ]
     },
     "execution_count": 4,
     "metadata": {},
     "output_type": "execute_result"
    }
   ],
   "source": [
    "paragraph"
   ]
  },
  {
   "cell_type": "code",
   "execution_count": 4,
   "id": "bc5ff5ad",
   "metadata": {},
   "outputs": [],
   "source": [
    "import spacy"
   ]
  },
  {
   "cell_type": "code",
   "execution_count": 5,
   "id": "b12166df",
   "metadata": {},
   "outputs": [
    {
     "name": "stdout",
     "output_type": "stream",
     "text": [
      "Collecting en-core-web-sm==3.7.1\n",
      "  Using cached https://github.com/explosion/spacy-models/releases/download/en_core_web_sm-3.7.1/en_core_web_sm-3.7.1-py3-none-any.whl (12.8 MB)\n",
      "Requirement already satisfied: spacy<3.8.0,>=3.7.2 in ./venv/lib/python3.10/site-packages (from en-core-web-sm==3.7.1) (3.7.2)\n",
      "Requirement already satisfied: spacy-legacy<3.1.0,>=3.0.11 in ./venv/lib/python3.10/site-packages (from spacy<3.8.0,>=3.7.2->en-core-web-sm==3.7.1) (3.0.12)\n",
      "Requirement already satisfied: spacy-loggers<2.0.0,>=1.0.0 in ./venv/lib/python3.10/site-packages (from spacy<3.8.0,>=3.7.2->en-core-web-sm==3.7.1) (1.0.5)\n",
      "Requirement already satisfied: murmurhash<1.1.0,>=0.28.0 in ./venv/lib/python3.10/site-packages (from spacy<3.8.0,>=3.7.2->en-core-web-sm==3.7.1) (1.0.10)\n",
      "Requirement already satisfied: cymem<2.1.0,>=2.0.2 in ./venv/lib/python3.10/site-packages (from spacy<3.8.0,>=3.7.2->en-core-web-sm==3.7.1) (2.0.8)\n",
      "Requirement already satisfied: preshed<3.1.0,>=3.0.2 in ./venv/lib/python3.10/site-packages (from spacy<3.8.0,>=3.7.2->en-core-web-sm==3.7.1) (3.0.9)\n",
      "Requirement already satisfied: thinc<8.3.0,>=8.1.8 in ./venv/lib/python3.10/site-packages (from spacy<3.8.0,>=3.7.2->en-core-web-sm==3.7.1) (8.2.2)\n",
      "Requirement already satisfied: wasabi<1.2.0,>=0.9.1 in ./venv/lib/python3.10/site-packages (from spacy<3.8.0,>=3.7.2->en-core-web-sm==3.7.1) (1.1.2)\n",
      "Requirement already satisfied: srsly<3.0.0,>=2.4.3 in ./venv/lib/python3.10/site-packages (from spacy<3.8.0,>=3.7.2->en-core-web-sm==3.7.1) (2.4.8)\n",
      "Requirement already satisfied: catalogue<2.1.0,>=2.0.6 in ./venv/lib/python3.10/site-packages (from spacy<3.8.0,>=3.7.2->en-core-web-sm==3.7.1) (2.0.10)\n",
      "Requirement already satisfied: weasel<0.4.0,>=0.1.0 in ./venv/lib/python3.10/site-packages (from spacy<3.8.0,>=3.7.2->en-core-web-sm==3.7.1) (0.3.4)\n",
      "Requirement already satisfied: typer<0.10.0,>=0.3.0 in ./venv/lib/python3.10/site-packages (from spacy<3.8.0,>=3.7.2->en-core-web-sm==3.7.1) (0.9.0)\n",
      "Requirement already satisfied: smart-open<7.0.0,>=5.2.1 in ./venv/lib/python3.10/site-packages (from spacy<3.8.0,>=3.7.2->en-core-web-sm==3.7.1) (6.4.0)\n",
      "Requirement already satisfied: tqdm<5.0.0,>=4.38.0 in ./venv/lib/python3.10/site-packages (from spacy<3.8.0,>=3.7.2->en-core-web-sm==3.7.1) (4.66.1)\n",
      "Requirement already satisfied: requests<3.0.0,>=2.13.0 in ./venv/lib/python3.10/site-packages (from spacy<3.8.0,>=3.7.2->en-core-web-sm==3.7.1) (2.31.0)\n",
      "Requirement already satisfied: pydantic!=1.8,!=1.8.1,<3.0.0,>=1.7.4 in ./venv/lib/python3.10/site-packages (from spacy<3.8.0,>=3.7.2->en-core-web-sm==3.7.1) (2.5.3)\n",
      "Requirement already satisfied: jinja2 in ./venv/lib/python3.10/site-packages (from spacy<3.8.0,>=3.7.2->en-core-web-sm==3.7.1) (3.1.3)\n",
      "Requirement already satisfied: setuptools in ./venv/lib/python3.10/site-packages (from spacy<3.8.0,>=3.7.2->en-core-web-sm==3.7.1) (69.0.3)\n",
      "Requirement already satisfied: packaging>=20.0 in ./venv/lib/python3.10/site-packages (from spacy<3.8.0,>=3.7.2->en-core-web-sm==3.7.1) (23.2)\n",
      "Requirement already satisfied: langcodes<4.0.0,>=3.2.0 in ./venv/lib/python3.10/site-packages (from spacy<3.8.0,>=3.7.2->en-core-web-sm==3.7.1) (3.3.0)\n",
      "Requirement already satisfied: numpy>=1.19.0 in ./venv/lib/python3.10/site-packages (from spacy<3.8.0,>=3.7.2->en-core-web-sm==3.7.1) (1.26.3)\n",
      "Requirement already satisfied: annotated-types>=0.4.0 in ./venv/lib/python3.10/site-packages (from pydantic!=1.8,!=1.8.1,<3.0.0,>=1.7.4->spacy<3.8.0,>=3.7.2->en-core-web-sm==3.7.1) (0.6.0)\n",
      "Requirement already satisfied: pydantic-core==2.14.6 in ./venv/lib/python3.10/site-packages (from pydantic!=1.8,!=1.8.1,<3.0.0,>=1.7.4->spacy<3.8.0,>=3.7.2->en-core-web-sm==3.7.1) (2.14.6)\n",
      "Requirement already satisfied: typing-extensions>=4.6.1 in ./venv/lib/python3.10/site-packages (from pydantic!=1.8,!=1.8.1,<3.0.0,>=1.7.4->spacy<3.8.0,>=3.7.2->en-core-web-sm==3.7.1) (4.9.0)\n",
      "Requirement already satisfied: charset-normalizer<4,>=2 in ./venv/lib/python3.10/site-packages (from requests<3.0.0,>=2.13.0->spacy<3.8.0,>=3.7.2->en-core-web-sm==3.7.1) (3.3.2)\n",
      "Requirement already satisfied: idna<4,>=2.5 in ./venv/lib/python3.10/site-packages (from requests<3.0.0,>=2.13.0->spacy<3.8.0,>=3.7.2->en-core-web-sm==3.7.1) (3.6)\n",
      "Requirement already satisfied: urllib3<3,>=1.21.1 in ./venv/lib/python3.10/site-packages (from requests<3.0.0,>=2.13.0->spacy<3.8.0,>=3.7.2->en-core-web-sm==3.7.1) (2.1.0)\n",
      "Requirement already satisfied: certifi>=2017.4.17 in ./venv/lib/python3.10/site-packages (from requests<3.0.0,>=2.13.0->spacy<3.8.0,>=3.7.2->en-core-web-sm==3.7.1) (2023.11.17)\n",
      "Requirement already satisfied: blis<0.8.0,>=0.7.8 in ./venv/lib/python3.10/site-packages (from thinc<8.3.0,>=8.1.8->spacy<3.8.0,>=3.7.2->en-core-web-sm==3.7.1) (0.7.11)\n",
      "Requirement already satisfied: confection<1.0.0,>=0.0.1 in ./venv/lib/python3.10/site-packages (from thinc<8.3.0,>=8.1.8->spacy<3.8.0,>=3.7.2->en-core-web-sm==3.7.1) (0.1.4)\n",
      "Requirement already satisfied: click<9.0.0,>=7.1.1 in ./venv/lib/python3.10/site-packages (from typer<0.10.0,>=0.3.0->spacy<3.8.0,>=3.7.2->en-core-web-sm==3.7.1) (8.1.7)\n",
      "Requirement already satisfied: cloudpathlib<0.17.0,>=0.7.0 in ./venv/lib/python3.10/site-packages (from weasel<0.4.0,>=0.1.0->spacy<3.8.0,>=3.7.2->en-core-web-sm==3.7.1) (0.16.0)\n",
      "Requirement already satisfied: MarkupSafe>=2.0 in ./venv/lib/python3.10/site-packages (from jinja2->spacy<3.8.0,>=3.7.2->en-core-web-sm==3.7.1) (2.1.4)\n",
      "\u001b[38;5;2m✔ Download and installation successful\u001b[0m\n",
      "You can now load the package via spacy.load('en_core_web_sm')\n"
     ]
    }
   ],
   "source": [
    "!python -m spacy download en_core_web_sm"
   ]
  },
  {
   "cell_type": "code",
   "execution_count": 6,
   "id": "6d766836-ca29-4406-bb14-8ba24a8fe16e",
   "metadata": {},
   "outputs": [],
   "source": [
    "nlp = spacy.load('en_core_web_sm')"
   ]
  },
  {
   "cell_type": "markdown",
   "id": "11a06092-d984-4c93-ba5e-c00a12b806d9",
   "metadata": {},
   "source": [
    "### Praragraph to Word\n",
    "- Paragraph to sentences\n",
    "- Sentence to word\n",
    "- We have to use tokenization"
   ]
  },
  {
   "cell_type": "code",
   "execution_count": 5,
   "id": "bc0949c1-2241-4184-979a-f3b30042541b",
   "metadata": {},
   "outputs": [
    {
     "name": "stderr",
     "output_type": "stream",
     "text": [
      "[nltk_data] Downloading package punkt to /home/utpal108/nltk_data...\n",
      "[nltk_data]   Package punkt is already up-to-date!\n"
     ]
    },
    {
     "data": {
      "text/plain": [
       "['\\nMillennia ago, the island used to be an extension of the Teknaf peninsula, but at a later time some portion of this peninsula got submerged and thus the southernmost part of the aforementioned peninsula became an island, and was disconnected from the Bangladesh mainland.',\n",
       " 'The island was first settled in the 18th century by Arabian merchants, who named it \"Jazira\".',\n",
       " 'During British occupation the island was named after the then Deputy Commissioner of Chittagong Mr. Martin as St. Martin Island.',\n",
       " '[3] Local names of the island are \"Narikel Jinjira\"[4] which means \"Coconut Island\", and \"Daruchini Dwip\" which means \"Cinnamon Island\".',\n",
       " 'It is the only coral island in Bangladesh.']"
      ]
     },
     "execution_count": 5,
     "metadata": {},
     "output_type": "execute_result"
    }
   ],
   "source": [
    "nltk.download('punkt')\n",
    "sentences = nltk.sent_tokenize(paragraph)\n",
    "sentences"
   ]
  },
  {
   "cell_type": "code",
   "execution_count": 6,
   "id": "9200e736-4de4-4ddc-bde6-db8e8f844221",
   "metadata": {},
   "outputs": [
    {
     "data": {
      "text/plain": [
       "5"
      ]
     },
     "execution_count": 6,
     "metadata": {},
     "output_type": "execute_result"
    }
   ],
   "source": [
    "len(sentences)"
   ]
  },
  {
   "cell_type": "markdown",
   "id": "703531d4-6afb-4b63-9e63-252ff27cf158",
   "metadata": {},
   "source": [
    "#### Stemmer"
   ]
  },
  {
   "cell_type": "code",
   "execution_count": 7,
   "id": "a56385f2-ecca-488e-a4a8-24b05131b449",
   "metadata": {},
   "outputs": [],
   "source": [
    "stemmer = PorterStemmer()"
   ]
  },
  {
   "cell_type": "code",
   "execution_count": 8,
   "id": "68b4643f-528e-4fdb-a762-5bd9fd7b6d74",
   "metadata": {},
   "outputs": [
    {
     "data": {
      "text/plain": [
       "'goe'"
      ]
     },
     "execution_count": 8,
     "metadata": {},
     "output_type": "execute_result"
    }
   ],
   "source": [
    "stemmer.stem('goes')"
   ]
  },
  {
   "cell_type": "markdown",
   "id": "43d5a612-792a-4b34-b5ee-0b329d452e05",
   "metadata": {},
   "source": [
    "#### Lemmatizer"
   ]
  },
  {
   "cell_type": "code",
   "execution_count": 9,
   "id": "007de7c3-46b2-48cd-9149-4c915c0d9d38",
   "metadata": {},
   "outputs": [
    {
     "name": "stderr",
     "output_type": "stream",
     "text": [
      "[nltk_data] Downloading package wordnet to /home/utpal108/nltk_data...\n",
      "[nltk_data]   Package wordnet is already up-to-date!\n"
     ]
    }
   ],
   "source": [
    "nltk.download('wordnet')\n",
    "lemmatizer = WordNetLemmatizer()"
   ]
  },
  {
   "cell_type": "code",
   "execution_count": 10,
   "id": "c75d1b59-60f8-4447-8762-1df8f3c73379",
   "metadata": {},
   "outputs": [
    {
     "data": {
      "text/plain": [
       "'go'"
      ]
     },
     "execution_count": 10,
     "metadata": {},
     "output_type": "execute_result"
    }
   ],
   "source": [
    "lemmatizer.lemmatize('goes')"
   ]
  },
  {
   "cell_type": "code",
   "execution_count": null,
   "id": "f3cec157-dec5-4cb5-bb2a-640db51f5dc7",
   "metadata": {},
   "outputs": [],
   "source": []
  },
  {
   "cell_type": "markdown",
   "id": "35b4ad94-fd51-4cc7-be13-51b37c245e92",
   "metadata": {},
   "source": [
    "## Remove unnecessary words"
   ]
  },
  {
   "cell_type": "code",
   "execution_count": 1,
   "id": "25a1659d-0dfd-4502-a6ca-4837386772b7",
   "metadata": {},
   "outputs": [],
   "source": [
    "import re"
   ]
  },
  {
   "cell_type": "code",
   "execution_count": 2,
   "id": "c59709e7",
   "metadata": {},
   "outputs": [
    {
     "data": {
      "text/plain": [
       "re.compile(r'<.*?>', re.UNICODE)"
      ]
     },
     "execution_count": 2,
     "metadata": {},
     "output_type": "execute_result"
    }
   ],
   "source": [
    "pattern = re.compile('<.*?>')\n",
    "pattern"
   ]
  },
  {
   "cell_type": "code",
   "execution_count": 12,
   "id": "0e965106-6662-4e21-9a87-d47b1bf9b5b0",
   "metadata": {},
   "outputs": [],
   "source": [
    "corpus = []\n",
    "for sentence in sentences:\n",
    "    review = re.sub('[^a-zA-Z]', ' ', sentence)\n",
    "    review = review.lower().strip()\n",
    "    corpus.append(review)"
   ]
  },
  {
   "cell_type": "code",
   "execution_count": 13,
   "id": "b5131bf0-f0dc-47ab-a961-5b514295e7cb",
   "metadata": {},
   "outputs": [
    {
     "data": {
      "text/plain": [
       "['millennia ago  the island used to be an extension of the teknaf peninsula  but at a later time some portion of this peninsula got submerged and thus the southernmost part of the aforementioned peninsula became an island  and was disconnected from the bangladesh mainland',\n",
       " 'the island was first settled in the   th century by arabian merchants  who named it  jazira',\n",
       " 'during british occupation the island was named after the then deputy commissioner of chittagong mr  martin as st  martin island',\n",
       " 'local names of the island are  narikel jinjira     which means  coconut island   and  daruchini dwip  which means  cinnamon island',\n",
       " 'it is the only coral island in bangladesh']"
      ]
     },
     "execution_count": 13,
     "metadata": {},
     "output_type": "execute_result"
    }
   ],
   "source": [
    "corpus"
   ]
  },
  {
   "cell_type": "code",
   "execution_count": 14,
   "id": "ef2dcd3b-3c10-4071-a1b8-9f03ee1d40b0",
   "metadata": {},
   "outputs": [
    {
     "data": {
      "text/plain": [
       "['hello', 'my', 'name', 'is', 'hdhd']"
      ]
     },
     "execution_count": 14,
     "metadata": {},
     "output_type": "execute_result"
    }
   ],
   "source": [
    "nltk.word_tokenize('   hello    my name is hdhd')"
   ]
  },
  {
   "cell_type": "code",
   "execution_count": 15,
   "id": "d6700b35-bd7c-4f58-8f90-c9d31d9caad9",
   "metadata": {},
   "outputs": [
    {
     "name": "stderr",
     "output_type": "stream",
     "text": [
      "[nltk_data] Downloading package stopwords to\n",
      "[nltk_data]     /home/utpal108/nltk_data...\n",
      "[nltk_data]   Package stopwords is already up-to-date!\n"
     ]
    },
    {
     "data": {
      "text/plain": [
       "True"
      ]
     },
     "execution_count": 15,
     "metadata": {},
     "output_type": "execute_result"
    }
   ],
   "source": [
    "nltk.download('stopwords')"
   ]
  },
  {
   "cell_type": "code",
   "execution_count": 16,
   "id": "e37ad14b-eb85-4d83-8fc3-6e3168c7f781",
   "metadata": {
    "scrolled": true
   },
   "outputs": [
    {
     "data": {
      "text/plain": [
       "['i',\n",
       " 'me',\n",
       " 'my',\n",
       " 'myself',\n",
       " 'we',\n",
       " 'our',\n",
       " 'ours',\n",
       " 'ourselves',\n",
       " 'you',\n",
       " \"you're\",\n",
       " \"you've\",\n",
       " \"you'll\",\n",
       " \"you'd\",\n",
       " 'your',\n",
       " 'yours',\n",
       " 'yourself',\n",
       " 'yourselves',\n",
       " 'he',\n",
       " 'him',\n",
       " 'his',\n",
       " 'himself',\n",
       " 'she',\n",
       " \"she's\",\n",
       " 'her',\n",
       " 'hers',\n",
       " 'herself',\n",
       " 'it',\n",
       " \"it's\",\n",
       " 'its',\n",
       " 'itself',\n",
       " 'they',\n",
       " 'them',\n",
       " 'their',\n",
       " 'theirs',\n",
       " 'themselves',\n",
       " 'what',\n",
       " 'which',\n",
       " 'who',\n",
       " 'whom',\n",
       " 'this',\n",
       " 'that',\n",
       " \"that'll\",\n",
       " 'these',\n",
       " 'those',\n",
       " 'am',\n",
       " 'is',\n",
       " 'are',\n",
       " 'was',\n",
       " 'were',\n",
       " 'be',\n",
       " 'been',\n",
       " 'being',\n",
       " 'have',\n",
       " 'has',\n",
       " 'had',\n",
       " 'having',\n",
       " 'do',\n",
       " 'does',\n",
       " 'did',\n",
       " 'doing',\n",
       " 'a',\n",
       " 'an',\n",
       " 'the',\n",
       " 'and',\n",
       " 'but',\n",
       " 'if',\n",
       " 'or',\n",
       " 'because',\n",
       " 'as',\n",
       " 'until',\n",
       " 'while',\n",
       " 'of',\n",
       " 'at',\n",
       " 'by',\n",
       " 'for',\n",
       " 'with',\n",
       " 'about',\n",
       " 'against',\n",
       " 'between',\n",
       " 'into',\n",
       " 'through',\n",
       " 'during',\n",
       " 'before',\n",
       " 'after',\n",
       " 'above',\n",
       " 'below',\n",
       " 'to',\n",
       " 'from',\n",
       " 'up',\n",
       " 'down',\n",
       " 'in',\n",
       " 'out',\n",
       " 'on',\n",
       " 'off',\n",
       " 'over',\n",
       " 'under',\n",
       " 'again',\n",
       " 'further',\n",
       " 'then',\n",
       " 'once',\n",
       " 'here',\n",
       " 'there',\n",
       " 'when',\n",
       " 'where',\n",
       " 'why',\n",
       " 'how',\n",
       " 'all',\n",
       " 'any',\n",
       " 'both',\n",
       " 'each',\n",
       " 'few',\n",
       " 'more',\n",
       " 'most',\n",
       " 'other',\n",
       " 'some',\n",
       " 'such',\n",
       " 'no',\n",
       " 'nor',\n",
       " 'not',\n",
       " 'only',\n",
       " 'own',\n",
       " 'same',\n",
       " 'so',\n",
       " 'than',\n",
       " 'too',\n",
       " 'very',\n",
       " 's',\n",
       " 't',\n",
       " 'can',\n",
       " 'will',\n",
       " 'just',\n",
       " 'don',\n",
       " \"don't\",\n",
       " 'should',\n",
       " \"should've\",\n",
       " 'now',\n",
       " 'd',\n",
       " 'll',\n",
       " 'm',\n",
       " 'o',\n",
       " 're',\n",
       " 've',\n",
       " 'y',\n",
       " 'ain',\n",
       " 'aren',\n",
       " \"aren't\",\n",
       " 'couldn',\n",
       " \"couldn't\",\n",
       " 'didn',\n",
       " \"didn't\",\n",
       " 'doesn',\n",
       " \"doesn't\",\n",
       " 'hadn',\n",
       " \"hadn't\",\n",
       " 'hasn',\n",
       " \"hasn't\",\n",
       " 'haven',\n",
       " \"haven't\",\n",
       " 'isn',\n",
       " \"isn't\",\n",
       " 'ma',\n",
       " 'mightn',\n",
       " \"mightn't\",\n",
       " 'mustn',\n",
       " \"mustn't\",\n",
       " 'needn',\n",
       " \"needn't\",\n",
       " 'shan',\n",
       " \"shan't\",\n",
       " 'shouldn',\n",
       " \"shouldn't\",\n",
       " 'wasn',\n",
       " \"wasn't\",\n",
       " 'weren',\n",
       " \"weren't\",\n",
       " 'won',\n",
       " \"won't\",\n",
       " 'wouldn',\n",
       " \"wouldn't\"]"
      ]
     },
     "execution_count": 16,
     "metadata": {},
     "output_type": "execute_result"
    }
   ],
   "source": [
    "stopwords.words('english')"
   ]
  },
  {
   "cell_type": "code",
   "execution_count": 17,
   "id": "f4edd935-8e98-491d-baa6-4faa779ad5cf",
   "metadata": {},
   "outputs": [],
   "source": [
    "# Streamming\n",
    "streammed = []\n",
    "for sentence in corpus:\n",
    "    words = nltk.word_tokenize(sentence)\n",
    "    for word in words:\n",
    "        if word not in stopwords.words('english'):\n",
    "            streammed_word = stemmer.stem(word)\n",
    "            streammed.append(streammed_word)"
   ]
  },
  {
   "cell_type": "code",
   "execution_count": 18,
   "id": "93e251e7-e820-4188-bb67-62b509046e04",
   "metadata": {},
   "outputs": [
    {
     "data": {
      "text/plain": [
       "['millennia',\n",
       " 'ago',\n",
       " 'island',\n",
       " 'use',\n",
       " 'extens',\n",
       " 'teknaf',\n",
       " 'peninsula',\n",
       " 'later',\n",
       " 'time',\n",
       " 'portion',\n",
       " 'peninsula',\n",
       " 'got',\n",
       " 'submerg',\n",
       " 'thu',\n",
       " 'southernmost',\n",
       " 'part',\n",
       " 'aforement',\n",
       " 'peninsula',\n",
       " 'becam',\n",
       " 'island',\n",
       " 'disconnect',\n",
       " 'bangladesh',\n",
       " 'mainland',\n",
       " 'island',\n",
       " 'first',\n",
       " 'settl',\n",
       " 'th',\n",
       " 'centuri',\n",
       " 'arabian',\n",
       " 'merchant',\n",
       " 'name',\n",
       " 'jazira',\n",
       " 'british',\n",
       " 'occup',\n",
       " 'island',\n",
       " 'name',\n",
       " 'deputi',\n",
       " 'commission',\n",
       " 'chittagong',\n",
       " 'mr',\n",
       " 'martin',\n",
       " 'st',\n",
       " 'martin',\n",
       " 'island',\n",
       " 'local',\n",
       " 'name',\n",
       " 'island',\n",
       " 'narikel',\n",
       " 'jinjira',\n",
       " 'mean',\n",
       " 'coconut',\n",
       " 'island',\n",
       " 'daruchini',\n",
       " 'dwip',\n",
       " 'mean',\n",
       " 'cinnamon',\n",
       " 'island',\n",
       " 'coral',\n",
       " 'island',\n",
       " 'bangladesh']"
      ]
     },
     "execution_count": 18,
     "metadata": {},
     "output_type": "execute_result"
    }
   ],
   "source": [
    "streammed"
   ]
  },
  {
   "cell_type": "code",
   "execution_count": 19,
   "id": "ebbd8ba6-089c-4c75-b417-627b256dfc01",
   "metadata": {},
   "outputs": [],
   "source": [
    "# Lemmatization\n",
    "lemmatized = []\n",
    "for sentence in corpus:\n",
    "    words = nltk.word_tokenize(sentence)\n",
    "    for word in words:\n",
    "        if word not in stopwords.words('english'):\n",
    "            lemmatized_word = lemmatizer.lemmatize(word)\n",
    "            lemmatized.append(lemmatized_word)"
   ]
  },
  {
   "cell_type": "code",
   "execution_count": 20,
   "id": "4b0ae0e0-9c9a-4085-ab2d-3bec7ac6bb31",
   "metadata": {},
   "outputs": [
    {
     "data": {
      "text/plain": [
       "['millennium',\n",
       " 'ago',\n",
       " 'island',\n",
       " 'used',\n",
       " 'extension',\n",
       " 'teknaf',\n",
       " 'peninsula',\n",
       " 'later',\n",
       " 'time',\n",
       " 'portion',\n",
       " 'peninsula',\n",
       " 'got',\n",
       " 'submerged',\n",
       " 'thus',\n",
       " 'southernmost',\n",
       " 'part',\n",
       " 'aforementioned',\n",
       " 'peninsula',\n",
       " 'became',\n",
       " 'island',\n",
       " 'disconnected',\n",
       " 'bangladesh',\n",
       " 'mainland',\n",
       " 'island',\n",
       " 'first',\n",
       " 'settled',\n",
       " 'th',\n",
       " 'century',\n",
       " 'arabian',\n",
       " 'merchant',\n",
       " 'named',\n",
       " 'jazira',\n",
       " 'british',\n",
       " 'occupation',\n",
       " 'island',\n",
       " 'named',\n",
       " 'deputy',\n",
       " 'commissioner',\n",
       " 'chittagong',\n",
       " 'mr',\n",
       " 'martin',\n",
       " 'st',\n",
       " 'martin',\n",
       " 'island',\n",
       " 'local',\n",
       " 'name',\n",
       " 'island',\n",
       " 'narikel',\n",
       " 'jinjira',\n",
       " 'mean',\n",
       " 'coconut',\n",
       " 'island',\n",
       " 'daruchini',\n",
       " 'dwip',\n",
       " 'mean',\n",
       " 'cinnamon',\n",
       " 'island',\n",
       " 'coral',\n",
       " 'island',\n",
       " 'bangladesh']"
      ]
     },
     "execution_count": 20,
     "metadata": {},
     "output_type": "execute_result"
    }
   ],
   "source": [
    "lemmatized"
   ]
  },
  {
   "cell_type": "code",
   "execution_count": null,
   "id": "7a30c53b-9f09-4dc4-b277-d02f3e6c0d6c",
   "metadata": {},
   "outputs": [],
   "source": []
  },
  {
   "cell_type": "markdown",
   "id": "b2733be0-61da-4259-a118-b4fb6774bf74",
   "metadata": {},
   "source": [
    "### Text to vectorization Using Bag of Words"
   ]
  },
  {
   "cell_type": "code",
   "execution_count": 21,
   "id": "d74b3a9c-5c90-4739-800d-8e03f68cdb17",
   "metadata": {},
   "outputs": [],
   "source": [
    "from sklearn.feature_extraction.text import CountVectorizer\n",
    "cv = CountVectorizer(binary=True)"
   ]
  },
  {
   "cell_type": "code",
   "execution_count": 22,
   "id": "78ae866d-6725-40cb-81ef-8107cff3813d",
   "metadata": {},
   "outputs": [],
   "source": [
    "## Apply Stopword with Lemmatization\n",
    "new_corpus = []\n",
    "for sentence in corpus:\n",
    "    words = nltk.word_tokenize(sentence)\n",
    "    words = [lemmatizer.lemmatize(word) for word in words if word not in stopwords.words('english')]\n",
    "    new_sentence = ' '.join(words)\n",
    "    new_corpus.append(new_sentence)"
   ]
  },
  {
   "cell_type": "code",
   "execution_count": 23,
   "id": "0163c06e-10dc-49b1-b8a0-11cb0bcb331a",
   "metadata": {},
   "outputs": [
    {
     "data": {
      "text/plain": [
       "'millennium ago island used extension teknaf peninsula later time portion peninsula got submerged thus southernmost part aforementioned peninsula became island disconnected bangladesh mainland'"
      ]
     },
     "execution_count": 23,
     "metadata": {},
     "output_type": "execute_result"
    }
   ],
   "source": [
    "new_corpus[0]"
   ]
  },
  {
   "cell_type": "code",
   "execution_count": 24,
   "id": "85aaa36f-1443-4b6e-91fc-7107043fd642",
   "metadata": {},
   "outputs": [
    {
     "data": {
      "text/plain": [
       "'millennia ago  the island used to be an extension of the teknaf peninsula  but at a later time some portion of this peninsula got submerged and thus the southernmost part of the aforementioned peninsula became an island  and was disconnected from the bangladesh mainland'"
      ]
     },
     "execution_count": 24,
     "metadata": {},
     "output_type": "execute_result"
    }
   ],
   "source": [
    "corpus[0]"
   ]
  },
  {
   "cell_type": "code",
   "execution_count": 25,
   "id": "63d74626-753d-4ebe-82cd-93eb0735e48f",
   "metadata": {},
   "outputs": [],
   "source": [
    "X = cv.fit_transform(new_corpus)"
   ]
  },
  {
   "cell_type": "code",
   "execution_count": 26,
   "id": "34510757-6aca-432a-b9bb-155341673e2e",
   "metadata": {},
   "outputs": [
    {
     "data": {
      "text/plain": [
       "array([[1, 1, 0, 1, 1, 0, 0, 0, 0, 0, 0, 0, 0, 0, 1, 0, 1, 0, 1, 1, 0, 0,\n",
       "        1, 0, 1, 0, 0, 0, 1, 0, 0, 0, 0, 0, 1, 1, 1, 0, 1, 0, 1, 1, 0, 1,\n",
       "        1, 1]])"
      ]
     },
     "execution_count": 26,
     "metadata": {},
     "output_type": "execute_result"
    }
   ],
   "source": [
    "X[0].toarray()"
   ]
  },
  {
   "cell_type": "code",
   "execution_count": 27,
   "id": "a3b3cbcc-1fbf-4526-bd1c-d021c8bb9a0b",
   "metadata": {},
   "outputs": [
    {
     "data": {
      "text/plain": [
       "{'millennium': 28,\n",
       " 'ago': 1,\n",
       " 'island': 19,\n",
       " 'used': 45,\n",
       " 'extension': 16,\n",
       " 'teknaf': 41,\n",
       " 'peninsula': 35,\n",
       " 'later': 22,\n",
       " 'time': 44,\n",
       " 'portion': 36,\n",
       " 'got': 18,\n",
       " 'submerged': 40,\n",
       " 'thus': 43,\n",
       " 'southernmost': 38,\n",
       " 'part': 34,\n",
       " 'aforementioned': 0,\n",
       " 'became': 4,\n",
       " 'disconnected': 14,\n",
       " 'bangladesh': 3,\n",
       " 'mainland': 24,\n",
       " 'first': 17,\n",
       " 'settled': 37,\n",
       " 'th': 42,\n",
       " 'century': 6,\n",
       " 'arabian': 2,\n",
       " 'merchant': 27,\n",
       " 'named': 31,\n",
       " 'jazira': 20,\n",
       " 'british': 5,\n",
       " 'occupation': 33,\n",
       " 'deputy': 13,\n",
       " 'commissioner': 10,\n",
       " 'chittagong': 7,\n",
       " 'mr': 29,\n",
       " 'martin': 25,\n",
       " 'st': 39,\n",
       " 'local': 23,\n",
       " 'name': 30,\n",
       " 'narikel': 32,\n",
       " 'jinjira': 21,\n",
       " 'mean': 26,\n",
       " 'coconut': 9,\n",
       " 'daruchini': 12,\n",
       " 'dwip': 15,\n",
       " 'cinnamon': 8,\n",
       " 'coral': 11}"
      ]
     },
     "execution_count": 27,
     "metadata": {},
     "output_type": "execute_result"
    }
   ],
   "source": [
    "cv.vocabulary_"
   ]
  },
  {
   "cell_type": "code",
   "execution_count": null,
   "id": "fd265215-e886-46d9-a8d0-3622a5bb6a74",
   "metadata": {},
   "outputs": [],
   "source": []
  },
  {
   "cell_type": "markdown",
   "id": "e2b7ed70-ebf9-4599-b7e1-1ceb7f365522",
   "metadata": {},
   "source": [
    "### Text to vectorization Using TF IDF"
   ]
  },
  {
   "cell_type": "code",
   "execution_count": 28,
   "id": "728b6e77-4371-4942-a113-220c0ba54a50",
   "metadata": {},
   "outputs": [],
   "source": [
    "from sklearn.feature_extraction.text import TfidfVectorizer\n",
    "cv = TfidfVectorizer()\n",
    "X = cv.fit_transform(new_corpus)"
   ]
  },
  {
   "cell_type": "code",
   "execution_count": 29,
   "id": "5cb47891-9135-4c7a-9cb2-9b4795b198a0",
   "metadata": {},
   "outputs": [
    {
     "data": {
      "text/plain": [
       "'millennium ago island used extension teknaf peninsula later time portion peninsula got submerged thus southernmost part aforementioned peninsula became island disconnected bangladesh mainland'"
      ]
     },
     "execution_count": 29,
     "metadata": {},
     "output_type": "execute_result"
    }
   ],
   "source": [
    "new_corpus[0]"
   ]
  },
  {
   "cell_type": "code",
   "execution_count": 30,
   "id": "09930ba5-a831-4ad6-bef3-eb2e7263e613",
   "metadata": {},
   "outputs": [
    {
     "data": {
      "text/plain": [
       "array([[0.19048778, 0.19048778, 0.        , 0.15368434, 0.19048778,\n",
       "        0.        , 0.        , 0.        , 0.        , 0.        ,\n",
       "        0.        , 0.        , 0.        , 0.        , 0.19048778,\n",
       "        0.        , 0.19048778, 0.        , 0.19048778, 0.1815369 ,\n",
       "        0.        , 0.        , 0.19048778, 0.        , 0.19048778,\n",
       "        0.        , 0.        , 0.        , 0.19048778, 0.        ,\n",
       "        0.        , 0.        , 0.        , 0.        , 0.19048778,\n",
       "        0.57146335, 0.19048778, 0.        , 0.19048778, 0.        ,\n",
       "        0.19048778, 0.19048778, 0.        , 0.19048778, 0.19048778,\n",
       "        0.19048778]])"
      ]
     },
     "execution_count": 30,
     "metadata": {},
     "output_type": "execute_result"
    }
   ],
   "source": [
    "X[0].toarray()"
   ]
  },
  {
   "cell_type": "code",
   "execution_count": null,
   "id": "8f763c42-42d3-4ca7-b7a4-47329a853572",
   "metadata": {},
   "outputs": [],
   "source": []
  }
 ],
 "metadata": {
  "kernelspec": {
   "display_name": "Python 3 (ipykernel)",
   "language": "python",
   "name": "python3"
  },
  "language_info": {
   "codemirror_mode": {
    "name": "ipython",
    "version": 3
   },
   "file_extension": ".py",
   "mimetype": "text/x-python",
   "name": "python",
   "nbconvert_exporter": "python",
   "pygments_lexer": "ipython3",
   "version": "3.10.12"
  }
 },
 "nbformat": 4,
 "nbformat_minor": 5
}
