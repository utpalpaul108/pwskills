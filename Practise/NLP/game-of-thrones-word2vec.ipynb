{
 "cells": [
  {
   "cell_type": "markdown",
   "metadata": {},
   "source": [
    "## Word2vec on game of thrones dataset"
   ]
  },
  {
   "cell_type": "code",
   "execution_count": 1,
   "metadata": {},
   "outputs": [],
   "source": [
    "import os\n",
    "import gensim\n",
    "from nltk import sent_tokenize\n",
    "from gensim.utils import simple_preprocess\n",
    "from nltk.corpus import stopwords"
   ]
  },
  {
   "cell_type": "code",
   "execution_count": 2,
   "metadata": {},
   "outputs": [],
   "source": [
    "story = []\n",
    "\n",
    "for file_name in os.listdir('dataset/gameOfThrones'):\n",
    "    file_path = os.path.join('dataset/gameOfThrones', file_name)\n",
    "    \n",
    "    with open(file_path,  encoding='latin-1') as file:\n",
    "        contents = file.read()\n",
    "        sentences = sent_tokenize(contents)\n",
    "        for sentence in sentences:\n",
    "            words = simple_preprocess(sentence)\n",
    "            words = [word for word in words if word not in stopwords.words('english')]\n",
    "            story.append(words)"
   ]
  },
  {
   "cell_type": "code",
   "execution_count": 3,
   "metadata": {},
   "outputs": [
    {
     "data": {
      "text/plain": [
       "145020"
      ]
     },
     "execution_count": 3,
     "metadata": {},
     "output_type": "execute_result"
    }
   ],
   "source": [
    "len(story)"
   ]
  },
  {
   "cell_type": "code",
   "execution_count": 4,
   "metadata": {},
   "outputs": [
    {
     "data": {
      "text/plain": [
       "['george',\n",
       " 'martin',\n",
       " 'dance',\n",
       " 'dragons',\n",
       " 'book',\n",
       " 'five',\n",
       " 'song',\n",
       " 'ice',\n",
       " 'fire',\n",
       " 'dedication',\n",
       " 'one',\n",
       " 'fans',\n",
       " 'lodey',\n",
       " 'trebla',\n",
       " 'stego',\n",
       " 'pod',\n",
       " 'caress',\n",
       " 'yags',\n",
       " 'ray',\n",
       " 'mr',\n",
       " 'kate',\n",
       " 'chataya',\n",
       " 'mormont',\n",
       " 'mich',\n",
       " 'jamie',\n",
       " 'vanessa',\n",
       " 'ro',\n",
       " 'stubby',\n",
       " 'louise',\n",
       " 'agravaine',\n",
       " 'wert',\n",
       " 'malt',\n",
       " 'jo',\n",
       " 'mouse',\n",
       " 'telisiane',\n",
       " 'blackfyre',\n",
       " 'bronn',\n",
       " 'stone',\n",
       " 'coyote',\n",
       " 'daughter',\n",
       " 'rest',\n",
       " 'madmen',\n",
       " 'wild',\n",
       " 'women',\n",
       " 'brotherhood',\n",
       " 'without',\n",
       " 'banners',\n",
       " 'website',\n",
       " 'wizards',\n",
       " 'elio',\n",
       " 'linda',\n",
       " 'lords',\n",
       " 'westeros',\n",
       " 'winter',\n",
       " 'fabio',\n",
       " 'wic',\n",
       " 'gibbs',\n",
       " 'dragonstone',\n",
       " 'started',\n",
       " 'men',\n",
       " 'women',\n",
       " 'asshai',\n",
       " 'spain',\n",
       " 'sang',\n",
       " 'us',\n",
       " 'bear',\n",
       " 'maiden',\n",
       " 'fair',\n",
       " 'fabulous',\n",
       " 'fans',\n",
       " 'italy',\n",
       " 'gave',\n",
       " 'much',\n",
       " 'wine',\n",
       " 'readers',\n",
       " 'finland',\n",
       " 'germany',\n",
       " 'brazil',\n",
       " 'portugal',\n",
       " 'france',\n",
       " 'netherlands',\n",
       " 'distant',\n",
       " 'lands',\n",
       " 'waiting',\n",
       " 'dance',\n",
       " 'friends',\n",
       " 'fans',\n",
       " 'yet',\n",
       " 'meet',\n",
       " 'thanks',\n",
       " 'patience',\n",
       " 'contents',\n",
       " 'dedication',\n",
       " 'cavil',\n",
       " 'chronology',\n",
       " 'prologue',\n",
       " 'tyrion',\n",
       " 'daenerys',\n",
       " 'jon',\n",
       " 'bran',\n",
       " 'tyrion',\n",
       " 'merchant',\n",
       " 'man',\n",
       " 'jon',\n",
       " 'tyrion',\n",
       " 'davos',\n",
       " 'jon',\n",
       " 'daenerys',\n",
       " 'reek',\n",
       " 'bran',\n",
       " 'tyrion',\n",
       " 'davos',\n",
       " 'daenerys',\n",
       " 'jon',\n",
       " 'tyrion',\n",
       " 'davos',\n",
       " 'reek',\n",
       " 'jon',\n",
       " 'tyrion',\n",
       " 'daenerys',\n",
       " 'lost',\n",
       " 'lord',\n",
       " 'windblown',\n",
       " 'wayward',\n",
       " 'bride',\n",
       " 'tyrion',\n",
       " 'jon',\n",
       " 'davos',\n",
       " 'daenerys',\n",
       " 'melisandre',\n",
       " 'reek',\n",
       " 'tyrion',\n",
       " 'bran',\n",
       " 'jon',\n",
       " 'daenerys',\n",
       " 'prince',\n",
       " 'winterfell',\n",
       " 'watcher',\n",
       " 'jon',\n",
       " 'tyrion',\n",
       " 'turncloak',\n",
       " 'king',\n",
       " 'prize',\n",
       " 'daenerys',\n",
       " 'jon',\n",
       " 'blind',\n",
       " 'girl',\n",
       " 'ghost',\n",
       " 'winterfell',\n",
       " 'tyrion',\n",
       " 'jaime',\n",
       " 'jon',\n",
       " 'daenerys',\n",
       " 'theon',\n",
       " 'daenerys',\n",
       " 'jon',\n",
       " 'cersei',\n",
       " 'queensguard',\n",
       " 'iron',\n",
       " 'suitor',\n",
       " 'tyrion',\n",
       " 'jon',\n",
       " 'discarded',\n",
       " 'knight',\n",
       " 'spurned',\n",
       " 'suitor',\n",
       " 'griffin',\n",
       " 'reborn',\n",
       " 'sacrifice',\n",
       " 'victarion',\n",
       " 'ugly',\n",
       " 'little',\n",
       " 'girl',\n",
       " 'cersei',\n",
       " 'tyrion',\n",
       " 'kingbreaker',\n",
       " 'dragontamer',\n",
       " 'jon',\n",
       " 'queen',\n",
       " 'hand',\n",
       " 'daenerys',\n",
       " 'epilogue',\n",
       " 'westeros',\n",
       " 'boy',\n",
       " 'king',\n",
       " 'king',\n",
       " 'wall',\n",
       " 'king',\n",
       " 'isles',\n",
       " 'north',\n",
       " 'houses',\n",
       " 'great',\n",
       " 'small',\n",
       " 'house',\n",
       " 'arryn',\n",
       " 'house',\n",
       " 'baratheon',\n",
       " 'house',\n",
       " 'frey',\n",
       " 'house',\n",
       " 'lannister',\n",
       " 'house',\n",
       " 'martell',\n",
       " 'house',\n",
       " 'stark',\n",
       " 'house',\n",
       " 'tully',\n",
       " 'house',\n",
       " 'tyrell',\n",
       " 'sworn',\n",
       " 'brothers',\n",
       " 'night',\n",
       " 'watch',\n",
       " 'wildlings',\n",
       " 'free',\n",
       " 'folk',\n",
       " 'beyond',\n",
       " 'wall',\n",
       " 'essos',\n",
       " 'beyond',\n",
       " 'narrow',\n",
       " 'sea',\n",
       " 'braavos',\n",
       " 'old',\n",
       " 'volantis',\n",
       " 'slaver',\n",
       " 'bay',\n",
       " 'queen',\n",
       " 'across',\n",
       " 'water',\n",
       " 'sellswords',\n",
       " 'men',\n",
       " 'women',\n",
       " 'free',\n",
       " 'companies',\n",
       " 'acknowledgments',\n",
       " 'author',\n",
       " 'type',\n",
       " 'george',\n",
       " 'martin',\n",
       " 'copyright',\n",
       " 'cavil',\n",
       " 'chronology',\n",
       " 'books',\n",
       " 'know']"
      ]
     },
     "execution_count": 4,
     "metadata": {},
     "output_type": "execute_result"
    }
   ],
   "source": [
    "story[0]"
   ]
  },
  {
   "cell_type": "code",
   "execution_count": 5,
   "metadata": {},
   "outputs": [],
   "source": [
    "model = gensim.models.Word2Vec(\n",
    "    window=10,\n",
    "    min_count=2,\n",
    "    vector_size=300\n",
    ")"
   ]
  },
  {
   "cell_type": "code",
   "execution_count": 6,
   "metadata": {},
   "outputs": [],
   "source": [
    "model.build_vocab(story)"
   ]
  },
  {
   "cell_type": "code",
   "execution_count": 7,
   "metadata": {},
   "outputs": [
    {
     "name": "stdout",
     "output_type": "stream",
     "text": [
      "145020\n",
      "5\n"
     ]
    }
   ],
   "source": [
    "print(model.corpus_count)\n",
    "print(model.epochs)"
   ]
  },
  {
   "cell_type": "code",
   "execution_count": 8,
   "metadata": {},
   "outputs": [
    {
     "data": {
      "text/plain": [
       "(4396871, 4579390)"
      ]
     },
     "execution_count": 8,
     "metadata": {},
     "output_type": "execute_result"
    }
   ],
   "source": [
    "model.train(story, total_examples=model.corpus_count, epochs=model.epochs)"
   ]
  },
  {
   "cell_type": "code",
   "execution_count": 9,
   "metadata": {},
   "outputs": [
    {
     "data": {
      "text/plain": [
       "[('stormborn', 0.9317414164543152),\n",
       " ('unburnt', 0.9066680669784546),\n",
       " ('targaryen', 0.8551686406135559),\n",
       " ('court', 0.8439016342163086),\n",
       " ('rhaella', 0.8395536541938782),\n",
       " ('viserys', 0.8382883071899414),\n",
       " ('elia', 0.837653398513794),\n",
       " ('dorne', 0.8321992754936218),\n",
       " ('myrcella', 0.8296521902084351),\n",
       " ('beloved', 0.8265693783760071)]"
      ]
     },
     "execution_count": 9,
     "metadata": {},
     "output_type": "execute_result"
    }
   ],
   "source": [
    "model.wv.most_similar('daenerys')"
   ]
  },
  {
   "cell_type": "code",
   "execution_count": 10,
   "metadata": {},
   "outputs": [
    {
     "data": {
      "text/plain": [
       "'jon'"
      ]
     },
     "execution_count": 10,
     "metadata": {},
     "output_type": "execute_result"
    }
   ],
   "source": [
    "model.wv.doesnt_match(['jon', 'rikon', 'robb', 'arya', 'sansa', 'bran'])"
   ]
  },
  {
   "cell_type": "code",
   "execution_count": 11,
   "metadata": {},
   "outputs": [
    {
     "data": {
      "text/plain": [
       "(300,)"
      ]
     },
     "execution_count": 11,
     "metadata": {},
     "output_type": "execute_result"
    }
   ],
   "source": [
    "model.wv['jon'].shape"
   ]
  },
  {
   "cell_type": "code",
   "execution_count": 12,
   "metadata": {},
   "outputs": [
    {
     "data": {
      "text/plain": [
       "(17310, 300)"
      ]
     },
     "execution_count": 12,
     "metadata": {},
     "output_type": "execute_result"
    }
   ],
   "source": [
    "model.wv.get_normed_vectors().shape"
   ]
  },
  {
   "cell_type": "code",
   "execution_count": 13,
   "metadata": {},
   "outputs": [
    {
     "data": {
      "text/plain": [
       "17310"
      ]
     },
     "execution_count": 13,
     "metadata": {},
     "output_type": "execute_result"
    }
   ],
   "source": [
    "y = model.wv.index_to_key\n",
    "len(y)"
   ]
  },
  {
   "cell_type": "code",
   "execution_count": 14,
   "metadata": {},
   "outputs": [
    {
     "data": {
      "text/plain": [
       "['said',\n",
       " 'lord',\n",
       " 'would',\n",
       " 'one',\n",
       " 'ser',\n",
       " 'could',\n",
       " 'man',\n",
       " 'king',\n",
       " 'men',\n",
       " 'back',\n",
       " 'well',\n",
       " 'like',\n",
       " 'jon',\n",
       " 'father',\n",
       " 'old',\n",
       " 'hand',\n",
       " 'even',\n",
       " 'tyrion',\n",
       " 'never',\n",
       " 'know',\n",
       " 'see',\n",
       " 'made',\n",
       " 'eyes',\n",
       " 'black',\n",
       " 'told',\n",
       " 'lady',\n",
       " 'thought',\n",
       " 'time',\n",
       " 'long',\n",
       " 'might',\n",
       " 'us',\n",
       " 'come',\n",
       " 'face',\n",
       " 'still',\n",
       " 'head',\n",
       " 'red',\n",
       " 'way',\n",
       " 'boy',\n",
       " 'page',\n",
       " 'must',\n",
       " 'queen',\n",
       " 'good',\n",
       " 'two',\n",
       " 'brother',\n",
       " 'night',\n",
       " 'little',\n",
       " 'took',\n",
       " 'came',\n",
       " 'though',\n",
       " 'say',\n",
       " 'three',\n",
       " 'away',\n",
       " 'dead',\n",
       " 'son',\n",
       " 'blood',\n",
       " 'take',\n",
       " 'go',\n",
       " 'half',\n",
       " 'make',\n",
       " 'arya',\n",
       " 'saw',\n",
       " 'day',\n",
       " 'white',\n",
       " 'jaime',\n",
       " 'first',\n",
       " 'look',\n",
       " 'want',\n",
       " 'much',\n",
       " 'enough',\n",
       " 'sword',\n",
       " 'tell',\n",
       " 'girl',\n",
       " 'bran',\n",
       " 'great',\n",
       " 'looked',\n",
       " 'left',\n",
       " 'knew',\n",
       " 'asked',\n",
       " 'gave',\n",
       " 'maester',\n",
       " 'called',\n",
       " 'wall',\n",
       " 'every',\n",
       " 'heard',\n",
       " 'sansa',\n",
       " 'let',\n",
       " 'yet',\n",
       " 'went',\n",
       " 'turned',\n",
       " 'dany',\n",
       " 'behind',\n",
       " 'need',\n",
       " 'around',\n",
       " 'woman',\n",
       " 'another',\n",
       " 'snow',\n",
       " 'beneath',\n",
       " 'across',\n",
       " 'knight',\n",
       " 'keep',\n",
       " 'grace',\n",
       " 'found',\n",
       " 'gold',\n",
       " 'last',\n",
       " 'cersei',\n",
       " 'castle',\n",
       " 'stark',\n",
       " 'gods',\n",
       " 'think',\n",
       " 'hair',\n",
       " 'many',\n",
       " 'feet',\n",
       " 'hands',\n",
       " 'stannis',\n",
       " 'mother',\n",
       " 'catelyn',\n",
       " 'robert',\n",
       " 'seemed',\n",
       " 'prince',\n",
       " 'may',\n",
       " 'ever',\n",
       " 'robb',\n",
       " 'done',\n",
       " 'find',\n",
       " 'lannister',\n",
       " 'hear',\n",
       " 'name',\n",
       " 'grey',\n",
       " 'horse',\n",
       " 'high',\n",
       " 'put',\n",
       " 'stone',\n",
       " 'wine',\n",
       " 'hard',\n",
       " 'water',\n",
       " 'upon',\n",
       " 'fire',\n",
       " 'iron',\n",
       " 'voice',\n",
       " 'gone',\n",
       " 'give',\n",
       " 'sam',\n",
       " 'seen',\n",
       " 'better',\n",
       " 'shall',\n",
       " 'ned',\n",
       " 'always',\n",
       " 'years',\n",
       " 'dark',\n",
       " 'place',\n",
       " 'small',\n",
       " 'cold',\n",
       " 'winterfell',\n",
       " 'hundred',\n",
       " 'stood',\n",
       " 'end',\n",
       " 'sister',\n",
       " 'words',\n",
       " 'sea',\n",
       " 'right',\n",
       " 'nothing',\n",
       " 'walls',\n",
       " 'fingers',\n",
       " 'house',\n",
       " 'cloak',\n",
       " 'young',\n",
       " 'beside',\n",
       " 'get',\n",
       " 'seven',\n",
       " 'mouth',\n",
       " 'watch',\n",
       " 'door',\n",
       " 'joffrey',\n",
       " 'green',\n",
       " 'big',\n",
       " 'sent',\n",
       " 'perhaps',\n",
       " 'almost',\n",
       " 'wanted',\n",
       " 'daughter',\n",
       " 'true',\n",
       " 'leave',\n",
       " 'city',\n",
       " 'wind',\n",
       " 'light',\n",
       " 'arms',\n",
       " 'children',\n",
       " 'sweet',\n",
       " 'others',\n",
       " 'lost',\n",
       " 'theon',\n",
       " 'felt',\n",
       " 'side',\n",
       " 'yes',\n",
       " 'brothers',\n",
       " 'best',\n",
       " 'die',\n",
       " 'brought',\n",
       " 'soon',\n",
       " 'died',\n",
       " 'far',\n",
       " 'north',\n",
       " 'fear',\n",
       " 'child',\n",
       " 'along',\n",
       " 'word',\n",
       " 'brienne',\n",
       " 'taken',\n",
       " 'battle',\n",
       " 'help',\n",
       " 'new',\n",
       " 'tywin',\n",
       " 'davos',\n",
       " 'lords',\n",
       " 'something',\n",
       " 'mean',\n",
       " 'wife',\n",
       " 'hall',\n",
       " 'rest',\n",
       " 'kill',\n",
       " 'steel',\n",
       " 'strong',\n",
       " 'began',\n",
       " 'sound',\n",
       " 'dragon',\n",
       " 'past',\n",
       " 'life',\n",
       " 'tower',\n",
       " 'killed',\n",
       " 'arm',\n",
       " 'free',\n",
       " 'sons',\n",
       " 'tried',\n",
       " 'thing',\n",
       " 'bear',\n",
       " 'days',\n",
       " 'bloody',\n",
       " 'heart',\n",
       " 'pale',\n",
       " 'love',\n",
       " 'moment',\n",
       " 'sat',\n",
       " 'bring',\n",
       " 'bed',\n",
       " 'close',\n",
       " 'knights',\n",
       " 'cut',\n",
       " 'wolf',\n",
       " 'horses',\n",
       " 'death',\n",
       " 'smile',\n",
       " 'inside',\n",
       " 'four',\n",
       " 'brown',\n",
       " 'hot',\n",
       " 'dragons',\n",
       " 'silver',\n",
       " 'part',\n",
       " 'bastard',\n",
       " 'open',\n",
       " 'thousand',\n",
       " 'landing',\n",
       " 'uncle',\n",
       " 'going',\n",
       " 'blue',\n",
       " 'air',\n",
       " 'captain',\n",
       " 'please',\n",
       " 'laughed',\n",
       " 'river',\n",
       " 'rose',\n",
       " 'sun',\n",
       " 'fell',\n",
       " 'war',\n",
       " 'golden',\n",
       " 'sleep',\n",
       " 'swords',\n",
       " 'without',\n",
       " 'speak',\n",
       " 'renly',\n",
       " 'certain',\n",
       " 'fool',\n",
       " 'full',\n",
       " 'beyond',\n",
       " 'feel',\n",
       " 'send',\n",
       " 'tongue',\n",
       " 'got',\n",
       " 'fight',\n",
       " 'set',\n",
       " 'rode',\n",
       " 'thick',\n",
       " 'throat',\n",
       " 'world',\n",
       " 'deep',\n",
       " 'legs',\n",
       " 'call',\n",
       " 'honor',\n",
       " 'trees',\n",
       " 'rock',\n",
       " 'tall',\n",
       " 'table',\n",
       " 'pulled',\n",
       " 'women',\n",
       " 'broken',\n",
       " 'mormont',\n",
       " 'steps',\n",
       " 'things',\n",
       " 'next',\n",
       " 'hodor',\n",
       " 'heavy',\n",
       " 'burned',\n",
       " 'oh',\n",
       " 'toward',\n",
       " 'together',\n",
       " 'given',\n",
       " 'skin',\n",
       " 'since',\n",
       " 'smiled',\n",
       " 'moved',\n",
       " 'dwarf',\n",
       " 'alone',\n",
       " 'storm',\n",
       " 'raised',\n",
       " 'ask',\n",
       " 'ride',\n",
       " 'hope',\n",
       " 'eye',\n",
       " 'soft',\n",
       " 'reached',\n",
       " 'frey',\n",
       " 'second',\n",
       " 'remember',\n",
       " 'someone',\n",
       " 'remembered',\n",
       " 'coming',\n",
       " 'meant',\n",
       " 'cannot',\n",
       " 'hold',\n",
       " 'morning',\n",
       " 'ten',\n",
       " 'else',\n",
       " 'teeth',\n",
       " 'throne',\n",
       " 'command',\n",
       " 'fat',\n",
       " 'truth',\n",
       " 'walder',\n",
       " 'commander',\n",
       " 'ground',\n",
       " 'doubt',\n",
       " 'jorah',\n",
       " 'cup',\n",
       " 'outside',\n",
       " 'known',\n",
       " 'wore',\n",
       " 'ran',\n",
       " 'gate',\n",
       " 'held',\n",
       " 'room',\n",
       " 'closed',\n",
       " 'home',\n",
       " 'matter',\n",
       " 'wood',\n",
       " 'sky',\n",
       " 'south',\n",
       " 'wed',\n",
       " 'people',\n",
       " 'dozen',\n",
       " 'neck',\n",
       " 'food',\n",
       " 'riverrun',\n",
       " 'instead',\n",
       " 'near',\n",
       " 'talk',\n",
       " 'turn',\n",
       " 'none',\n",
       " 'ships',\n",
       " 'tyrell',\n",
       " 'moon',\n",
       " 'shadow',\n",
       " 'summer',\n",
       " 'lips',\n",
       " 'bolton',\n",
       " 'watched',\n",
       " 'times',\n",
       " 'leather',\n",
       " 'varys',\n",
       " 'shoulder',\n",
       " 'septon',\n",
       " 'warm',\n",
       " 'caught',\n",
       " 'believe',\n",
       " 'least',\n",
       " 'guards',\n",
       " 'answer',\n",
       " 'blade',\n",
       " 'god',\n",
       " 'ice',\n",
       " 'wondered',\n",
       " 'opened',\n",
       " 'mine',\n",
       " 'shield',\n",
       " 'barristan',\n",
       " 'armor',\n",
       " 'safe',\n",
       " 'six',\n",
       " 'kept',\n",
       " 'wish',\n",
       " 'return',\n",
       " 'tommen',\n",
       " 'used',\n",
       " 'smell',\n",
       " 'less',\n",
       " 'foot',\n",
       " 'floor',\n",
       " 'squire',\n",
       " 'eddard',\n",
       " 'empty',\n",
       " 'run',\n",
       " 'followed',\n",
       " 'friends',\n",
       " 'serve',\n",
       " 'boys',\n",
       " 'beard',\n",
       " 'cloaks',\n",
       " 'baratheon',\n",
       " 'wedding',\n",
       " 'wrong',\n",
       " 'eat',\n",
       " 'daenerys',\n",
       " 'ghost',\n",
       " 'sight',\n",
       " 'five',\n",
       " 'hound',\n",
       " 'flesh',\n",
       " 'ship',\n",
       " 'strength',\n",
       " 'returned',\n",
       " 'bones',\n",
       " 'nose',\n",
       " 'crown',\n",
       " 'yellow',\n",
       " 'chest',\n",
       " 'covered',\n",
       " 'says',\n",
       " 'commanded',\n",
       " 'petyr',\n",
       " 'aemon',\n",
       " 'filled',\n",
       " 'sometimes',\n",
       " 'friend',\n",
       " 'led',\n",
       " 'aye',\n",
       " 'common',\n",
       " 'flames',\n",
       " 'fighting',\n",
       " 'show',\n",
       " 'spoke',\n",
       " 'aside',\n",
       " 'asha',\n",
       " 'lysa',\n",
       " 'huge',\n",
       " 'crow',\n",
       " 'belly',\n",
       " 'master',\n",
       " 'seem',\n",
       " 'breath',\n",
       " 'yard',\n",
       " 'gates',\n",
       " 'waiting',\n",
       " 'within',\n",
       " 'looking',\n",
       " 'wet',\n",
       " 'wooden',\n",
       " 'realm',\n",
       " 'thin',\n",
       " 'work',\n",
       " 'use',\n",
       " 'bad',\n",
       " 'promised',\n",
       " 'tree',\n",
       " 'husband',\n",
       " 'later',\n",
       " 'grew',\n",
       " 'onto',\n",
       " 'wildlings',\n",
       " 'loved',\n",
       " 'girls',\n",
       " 'greyjoy',\n",
       " 'afraid',\n",
       " 'rain',\n",
       " 'shoulders',\n",
       " 'shouted',\n",
       " 'walked',\n",
       " 'maid',\n",
       " 'mance',\n",
       " 'remained',\n",
       " 'guard',\n",
       " 'late',\n",
       " 'fall',\n",
       " 'liked',\n",
       " 'meereen',\n",
       " 'littlefinger',\n",
       " 'margaery',\n",
       " 'dog',\n",
       " 'year',\n",
       " 'hurt',\n",
       " 'passed',\n",
       " 'balon',\n",
       " 'taste',\n",
       " 'dothraki',\n",
       " 'lay',\n",
       " 'drew',\n",
       " 'song',\n",
       " 'realized',\n",
       " 'spear',\n",
       " 'pushed',\n",
       " 'named',\n",
       " 'sure',\n",
       " 'stand',\n",
       " 'whispered',\n",
       " 'reach',\n",
       " 'brave',\n",
       " 'finally',\n",
       " 'different',\n",
       " 'suddenly',\n",
       " 'wolves',\n",
       " 'poor',\n",
       " 'stay',\n",
       " 'kingsguard',\n",
       " 'drogo',\n",
       " 'arryn',\n",
       " 'kingdoms',\n",
       " 'stop',\n",
       " 'broke',\n",
       " 'ears',\n",
       " 'edmure',\n",
       " 'princess',\n",
       " 'burning',\n",
       " 'faces',\n",
       " 'lannisters',\n",
       " 'dream',\n",
       " 'direwolf',\n",
       " 'axe',\n",
       " 'tears',\n",
       " 'heir',\n",
       " 'west',\n",
       " 'drink',\n",
       " 'clegane',\n",
       " 'darkness',\n",
       " 'either',\n",
       " 'raven',\n",
       " 'pointed',\n",
       " 'try',\n",
       " 'hill',\n",
       " 'pain',\n",
       " 'sworn',\n",
       " 'forward',\n",
       " 'khal',\n",
       " 'lie',\n",
       " 'kings',\n",
       " 'truly',\n",
       " 'dagger',\n",
       " 'grown',\n",
       " 'seat',\n",
       " 'born',\n",
       " 'road',\n",
       " 'harrenhal',\n",
       " 'care',\n",
       " 'bronn',\n",
       " 'helm',\n",
       " 'round',\n",
       " 'feast',\n",
       " 'understand',\n",
       " 'pycelle',\n",
       " 'meat',\n",
       " 'quick',\n",
       " 'amongst',\n",
       " 'lifted',\n",
       " 'longer',\n",
       " 'whilst',\n",
       " 'reminded',\n",
       " 'maybe',\n",
       " 'short',\n",
       " 'mountain',\n",
       " 'step',\n",
       " 'rodrik',\n",
       " 'melisandre',\n",
       " 'pretty',\n",
       " 'ones',\n",
       " 'third',\n",
       " 'stopped',\n",
       " 'worse',\n",
       " 'bit',\n",
       " 'lands',\n",
       " 'aegon',\n",
       " 'sit',\n",
       " 'victarion',\n",
       " 'sharp',\n",
       " 'save',\n",
       " 'knows',\n",
       " 'live',\n",
       " 'smoke',\n",
       " 'whose',\n",
       " 'horn',\n",
       " 'window',\n",
       " 'pray',\n",
       " 'leg',\n",
       " 'younger',\n",
       " 'westeros',\n",
       " 'heads',\n",
       " 'twenty',\n",
       " 'silk',\n",
       " 'pie',\n",
       " 'ago',\n",
       " 'slaves',\n",
       " 'septa',\n",
       " 'peace',\n",
       " 'low',\n",
       " 'hizdahr',\n",
       " 'mind',\n",
       " 'laugh',\n",
       " 'bread',\n",
       " 'wants',\n",
       " 'blind',\n",
       " 'east',\n",
       " 'reek',\n",
       " 'sooner',\n",
       " 'towers',\n",
       " 'bright',\n",
       " 'mad',\n",
       " 'coin',\n",
       " 'slain',\n",
       " 'making',\n",
       " 'camp',\n",
       " 'older',\n",
       " 'point',\n",
       " 'walk',\n",
       " 'narrow',\n",
       " 'salt',\n",
       " 'drowned',\n",
       " 'wait',\n",
       " 'served',\n",
       " 'glanced',\n",
       " 'cousin',\n",
       " 'luwin',\n",
       " 'cheeks',\n",
       " 'knife',\n",
       " 'touched',\n",
       " 'shook',\n",
       " 'riding',\n",
       " 'stepped',\n",
       " 'targaryen',\n",
       " 'quiet',\n",
       " 'sort',\n",
       " 'often',\n",
       " 'twisted',\n",
       " 'naked',\n",
       " 'loras',\n",
       " 'choice',\n",
       " 'forgotten',\n",
       " 'fish',\n",
       " 'silence',\n",
       " 'kevan',\n",
       " 'lion',\n",
       " 'ramsay',\n",
       " 'read',\n",
       " 'hung',\n",
       " 'gift',\n",
       " 'running',\n",
       " 'replied',\n",
       " 'fallen',\n",
       " 'knees',\n",
       " 'large',\n",
       " 'silent',\n",
       " 'fought',\n",
       " 'ahead',\n",
       " 'cat',\n",
       " 'company',\n",
       " 'beautiful',\n",
       " 'sept',\n",
       " 'rhaegar',\n",
       " 'dawn',\n",
       " 'dogs',\n",
       " 'needs',\n",
       " 'knee',\n",
       " 'casterly',\n",
       " 'dorne',\n",
       " 'pass',\n",
       " 'mud',\n",
       " 'tully',\n",
       " 'court',\n",
       " 'singer',\n",
       " 'gregor',\n",
       " 'body',\n",
       " 'stupid',\n",
       " 'age',\n",
       " 'meera',\n",
       " 'trying',\n",
       " 'top',\n",
       " 'kind',\n",
       " 'swear',\n",
       " 'gendry',\n",
       " 'offered',\n",
       " 'closer',\n",
       " 'clothes',\n",
       " 'leaves',\n",
       " 'whole',\n",
       " 'kiss',\n",
       " 'anything',\n",
       " 'agreed',\n",
       " 'threw',\n",
       " 'pay',\n",
       " 'whatever',\n",
       " 'wonder',\n",
       " 'answered',\n",
       " 'climbed',\n",
       " 'wide',\n",
       " 'saddle',\n",
       " 'saying',\n",
       " 'comes',\n",
       " 'stars',\n",
       " 'stones',\n",
       " 'host',\n",
       " 'trust',\n",
       " 'chain',\n",
       " 'pleased',\n",
       " 'trident',\n",
       " 'fair',\n",
       " 'ear',\n",
       " 'yunkai',\n",
       " 'dry',\n",
       " 'dying',\n",
       " 'hour',\n",
       " 'insisted',\n",
       " 'spears',\n",
       " 'eight',\n",
       " 'fast',\n",
       " 'carried',\n",
       " 'service',\n",
       " 'doors',\n",
       " 'ought',\n",
       " 'fist',\n",
       " 'woods',\n",
       " 'mail',\n",
       " 'council',\n",
       " 'needed',\n",
       " 'join',\n",
       " 'crossed',\n",
       " 'thank',\n",
       " 'fine',\n",
       " 'wildling',\n",
       " 'milk',\n",
       " 'finger',\n",
       " 'quentyn',\n",
       " 'gilly',\n",
       " 'shadows',\n",
       " 'tent',\n",
       " 'land',\n",
       " 'bird',\n",
       " 'win',\n",
       " 'helped',\n",
       " 'boots',\n",
       " 'imp',\n",
       " 'crows',\n",
       " 'somehow',\n",
       " 'names',\n",
       " 'folk',\n",
       " 'letter',\n",
       " 'banners',\n",
       " 'winter',\n",
       " 'kissed',\n",
       " 'pink',\n",
       " 'screamed',\n",
       " 'angry',\n",
       " 'frightened',\n",
       " 'torch',\n",
       " 'alive',\n",
       " 'learn',\n",
       " 'chair',\n",
       " 'eunuch',\n",
       " 'daughters',\n",
       " 'watching',\n",
       " 'fires',\n",
       " 'harm',\n",
       " 'tarly',\n",
       " 'dragonstone',\n",
       " 'easy',\n",
       " 'nine',\n",
       " 'standing',\n",
       " 'learned',\n",
       " 'serving',\n",
       " 'neither',\n",
       " 'question',\n",
       " 'wings',\n",
       " 'drunk',\n",
       " 'sisters',\n",
       " 'sail',\n",
       " 'myrcella',\n",
       " 'priest',\n",
       " 'nodded',\n",
       " 'forth',\n",
       " 'giant',\n",
       " 'bone',\n",
       " 'warned',\n",
       " 'harbor',\n",
       " 'slipped',\n",
       " 'slow',\n",
       " 'field',\n",
       " 'slid',\n",
       " 'falling',\n",
       " 'bronze',\n",
       " 'dreams',\n",
       " 'slowly',\n",
       " 'promise',\n",
       " 'atop',\n",
       " 'slave',\n",
       " 'whore',\n",
       " 'line',\n",
       " 'illyrio',\n",
       " 'move',\n",
       " 'rise',\n",
       " 'pyke',\n",
       " 'makes',\n",
       " 'laughter',\n",
       " 'flowers',\n",
       " 'bay',\n",
       " 'earth',\n",
       " 'faced',\n",
       " 'loose',\n",
       " 'declared',\n",
       " 'grass',\n",
       " 'twice',\n",
       " 'lived',\n",
       " 'viserys',\n",
       " 'front',\n",
       " 'power',\n",
       " 'play',\n",
       " 'happened',\n",
       " 'cell',\n",
       " 'break',\n",
       " 'chains',\n",
       " 'dance',\n",
       " 'oldtown',\n",
       " 'clean',\n",
       " 'aerys',\n",
       " 'surely',\n",
       " 'jeyne',\n",
       " 'claim',\n",
       " 'eyrie',\n",
       " 'unless',\n",
       " 'fresh',\n",
       " 'cried',\n",
       " 'pair',\n",
       " 'tormund',\n",
       " 'quite',\n",
       " 'craster',\n",
       " 'laid',\n",
       " 'morrow',\n",
       " 'met',\n",
       " 'sad',\n",
       " 'shouting',\n",
       " 'game',\n",
       " 'already',\n",
       " 'touch',\n",
       " 'rule',\n",
       " 'softly',\n",
       " 'count',\n",
       " 'afterward',\n",
       " 'started',\n",
       " 'sense',\n",
       " 'steward',\n",
       " 'mounted',\n",
       " 'woke',\n",
       " 'sudden',\n",
       " 'hide',\n",
       " 'highgarden',\n",
       " 'captive',\n",
       " 'jojen',\n",
       " 'waters',\n",
       " 'cheek',\n",
       " 'ravens',\n",
       " 'course',\n",
       " 'means',\n",
       " 'among',\n",
       " 'however',\n",
       " 'follow',\n",
       " 'anyone',\n",
       " 'purple',\n",
       " 'taking',\n",
       " 'wench',\n",
       " 'carved',\n",
       " 'noble',\n",
       " 'bare',\n",
       " 'rickon',\n",
       " 'waited',\n",
       " 'grenn',\n",
       " 'rising',\n",
       " 'cruel',\n",
       " 'vale',\n",
       " 'murdered',\n",
       " 'weak',\n",
       " 'thinking',\n",
       " 'roose',\n",
       " 'roof',\n",
       " 'hidden',\n",
       " 'eyed',\n",
       " 'arrow',\n",
       " 'town',\n",
       " 'blow',\n",
       " 'forest',\n",
       " 'grand',\n",
       " 'wise',\n",
       " 'growing',\n",
       " 'today',\n",
       " 'hungry',\n",
       " 'voices',\n",
       " 'sorry',\n",
       " 'army',\n",
       " 'cry',\n",
       " 'wound',\n",
       " 'protect',\n",
       " 'griff',\n",
       " 'tale',\n",
       " 'twins',\n",
       " 'beric',\n",
       " 'weight',\n",
       " 'ugly',\n",
       " 'inn',\n",
       " 'hoped',\n",
       " 'knelt',\n",
       " 'ygritte',\n",
       " 'sick',\n",
       " 'climb',\n",
       " 'forget',\n",
       " 'enemies',\n",
       " 'dressed',\n",
       " 'rolled',\n",
       " 'chance',\n",
       " 'marry',\n",
       " 'fur',\n",
       " 'daario',\n",
       " 'courage',\n",
       " 'seems',\n",
       " 'lad',\n",
       " 'grow',\n",
       " 'laughing',\n",
       " 'fleet',\n",
       " 'whether',\n",
       " 'freys',\n",
       " 'smiling',\n",
       " 'bride',\n",
       " 'marriage',\n",
       " 'meet',\n",
       " 'breasts',\n",
       " 'square',\n",
       " 'appeared',\n",
       " 'corpse',\n",
       " 'unsullied',\n",
       " 'showed',\n",
       " 'drank',\n",
       " 'kingslayer',\n",
       " 'wool',\n",
       " 'trouble',\n",
       " 'alayne',\n",
       " 'mercy',\n",
       " 'frozen',\n",
       " 'march',\n",
       " 'edge',\n",
       " 'mountains',\n",
       " 'slynt',\n",
       " 'wear',\n",
       " 'ragged',\n",
       " 'arrows',\n",
       " 'shae',\n",
       " 'recall',\n",
       " 'sing',\n",
       " 'decided',\n",
       " 'swore',\n",
       " 'welcome',\n",
       " 'offer',\n",
       " 'allowed',\n",
       " 'bound',\n",
       " 'spread',\n",
       " 'ill',\n",
       " 'everything',\n",
       " 'seated',\n",
       " 'mace',\n",
       " 'slept',\n",
       " 'quickly',\n",
       " 'tales',\n",
       " 'moving',\n",
       " 'sounded',\n",
       " 'wake',\n",
       " 'ancient',\n",
       " 'bowed',\n",
       " 'flew',\n",
       " 'dare',\n",
       " 'talking',\n",
       " ...]"
      ]
     },
     "execution_count": 14,
     "metadata": {},
     "output_type": "execute_result"
    }
   ],
   "source": [
    "y"
   ]
  },
  {
   "cell_type": "code",
   "execution_count": 15,
   "metadata": {},
   "outputs": [],
   "source": [
    "# Reduce the dimension from 300 to 3 using PCA\n",
    "from sklearn.decomposition import PCA\n",
    "pca = PCA(n_components=3)\n",
    "X = pca.fit_transform(model.wv.get_normed_vectors())"
   ]
  },
  {
   "cell_type": "code",
   "execution_count": 16,
   "metadata": {},
   "outputs": [
    {
     "data": {
      "text/plain": [
       "(17310, 3)"
      ]
     },
     "execution_count": 16,
     "metadata": {},
     "output_type": "execute_result"
    }
   ],
   "source": [
    "X.shape"
   ]
  },
  {
   "cell_type": "code",
   "execution_count": 18,
   "metadata": {},
   "outputs": [
    {
     "data": {
      "application/vnd.plotly.v1+json": {
       "config": {
        "plotlyServerURL": "https://plot.ly"
       },
       "data": [
        {
         "hovertemplate": "color=said<br>0=%{x}<br>1=%{y}<br>2=%{z}<extra></extra>",
         "legendgroup": "said",
         "marker": {
          "color": "#636efa",
          "symbol": "circle"
         },
         "mode": "markers",
         "name": "said",
         "scene": "scene",
         "showlegend": true,
         "type": "scatter3d",
         "x": [
          0.4889008402824402
         ],
         "y": [
          0.021529298275709152
         ],
         "z": [
          0.21584013104438782
         ]
        },
        {
         "hovertemplate": "color=lord<br>0=%{x}<br>1=%{y}<br>2=%{z}<extra></extra>",
         "legendgroup": "lord",
         "marker": {
          "color": "#EF553B",
          "symbol": "circle"
         },
         "mode": "markers",
         "name": "lord",
         "scene": "scene",
         "showlegend": true,
         "type": "scatter3d",
         "x": [
          0.39834433794021606
         ],
         "y": [
          0.6109399795532227
         ],
         "z": [
          0.3780249059200287
         ]
        },
        {
         "hovertemplate": "color=would<br>0=%{x}<br>1=%{y}<br>2=%{z}<extra></extra>",
         "legendgroup": "would",
         "marker": {
          "color": "#00cc96",
          "symbol": "circle"
         },
         "mode": "markers",
         "name": "would",
         "scene": "scene",
         "showlegend": true,
         "type": "scatter3d",
         "x": [
          0.5259511470794678
         ],
         "y": [
          -0.06460721045732498
         ],
         "z": [
          -0.31343790888786316
         ]
        },
        {
         "hovertemplate": "color=one<br>0=%{x}<br>1=%{y}<br>2=%{z}<extra></extra>",
         "legendgroup": "one",
         "marker": {
          "color": "#ab63fa",
          "symbol": "circle"
         },
         "mode": "markers",
         "name": "one",
         "scene": "scene",
         "showlegend": true,
         "type": "scatter3d",
         "x": [
          -0.005541431251913309
         ],
         "y": [
          0.13059833645820618
         ],
         "z": [
          -0.02808794565498829
         ]
        },
        {
         "hovertemplate": "color=ser<br>0=%{x}<br>1=%{y}<br>2=%{z}<extra></extra>",
         "legendgroup": "ser",
         "marker": {
          "color": "#FFA15A",
          "symbol": "circle"
         },
         "mode": "markers",
         "name": "ser",
         "scene": "scene",
         "showlegend": true,
         "type": "scatter3d",
         "x": [
          0.24940502643585205
         ],
         "y": [
          0.5639625787734985
         ],
         "z": [
          0.551356315612793
         ]
        },
        {
         "hovertemplate": "color=could<br>0=%{x}<br>1=%{y}<br>2=%{z}<extra></extra>",
         "legendgroup": "could",
         "marker": {
          "color": "#19d3f3",
          "symbol": "circle"
         },
         "mode": "markers",
         "name": "could",
         "scene": "scene",
         "showlegend": true,
         "type": "scatter3d",
         "x": [
          0.030478719621896744
         ],
         "y": [
          -0.13381333649158478
         ],
         "z": [
          -0.26940590143203735
         ]
        },
        {
         "hovertemplate": "color=man<br>0=%{x}<br>1=%{y}<br>2=%{z}<extra></extra>",
         "legendgroup": "man",
         "marker": {
          "color": "#FF6692",
          "symbol": "circle"
         },
         "mode": "markers",
         "name": "man",
         "scene": "scene",
         "showlegend": true,
         "type": "scatter3d",
         "x": [
          0.05385003238916397
         ],
         "y": [
          0.10844779759645462
         ],
         "z": [
          0.14875850081443787
         ]
        },
        {
         "hovertemplate": "color=king<br>0=%{x}<br>1=%{y}<br>2=%{z}<extra></extra>",
         "legendgroup": "king",
         "marker": {
          "color": "#B6E880",
          "symbol": "circle"
         },
         "mode": "markers",
         "name": "king",
         "scene": "scene",
         "showlegend": true,
         "type": "scatter3d",
         "x": [
          0.3613174855709076
         ],
         "y": [
          0.5391849875450134
         ],
         "z": [
          0.1389550268650055
         ]
        },
        {
         "hovertemplate": "color=men<br>0=%{x}<br>1=%{y}<br>2=%{z}<extra></extra>",
         "legendgroup": "men",
         "marker": {
          "color": "#FF97FF",
          "symbol": "circle"
         },
         "mode": "markers",
         "name": "men",
         "scene": "scene",
         "showlegend": true,
         "type": "scatter3d",
         "x": [
          0.07417050749063492
         ],
         "y": [
          0.5465909838676453
         ],
         "z": [
          -0.36523333191871643
         ]
        },
        {
         "hovertemplate": "color=back<br>0=%{x}<br>1=%{y}<br>2=%{z}<extra></extra>",
         "legendgroup": "back",
         "marker": {
          "color": "#FECB52",
          "symbol": "circle"
         },
         "mode": "markers",
         "name": "back",
         "scene": "scene",
         "showlegend": true,
         "type": "scatter3d",
         "x": [
          -0.24942244589328766
         ],
         "y": [
          0.03707849979400635
         ],
         "z": [
          0.02780396305024624
         ]
        },
        {
         "hovertemplate": "color=well<br>0=%{x}<br>1=%{y}<br>2=%{z}<extra></extra>",
         "legendgroup": "well",
         "marker": {
          "color": "#636efa",
          "symbol": "circle"
         },
         "mode": "markers",
         "name": "well",
         "scene": "scene",
         "showlegend": true,
         "type": "scatter3d",
         "x": [
          0.470074862241745
         ],
         "y": [
          0.17152005434036255
         ],
         "z": [
          -0.18962325155735016
         ]
        },
        {
         "hovertemplate": "color=like<br>0=%{x}<br>1=%{y}<br>2=%{z}<extra></extra>",
         "legendgroup": "like",
         "marker": {
          "color": "#EF553B",
          "symbol": "circle"
         },
         "mode": "markers",
         "name": "like",
         "scene": "scene",
         "showlegend": true,
         "type": "scatter3d",
         "x": [
          -0.28048139810562134
         ],
         "y": [
          -0.1957019567489624
         ],
         "z": [
          -0.2279098927974701
         ]
        },
        {
         "hovertemplate": "color=jon<br>0=%{x}<br>1=%{y}<br>2=%{z}<extra></extra>",
         "legendgroup": "jon",
         "marker": {
          "color": "#00cc96",
          "symbol": "circle"
         },
         "mode": "markers",
         "name": "jon",
         "scene": "scene",
         "showlegend": true,
         "type": "scatter3d",
         "x": [
          0.01101970300078392
         ],
         "y": [
          0.006676065269857645
         ],
         "z": [
          0.10697990655899048
         ]
        },
        {
         "hovertemplate": "color=father<br>0=%{x}<br>1=%{y}<br>2=%{z}<extra></extra>",
         "legendgroup": "father",
         "marker": {
          "color": "#ab63fa",
          "symbol": "circle"
         },
         "mode": "markers",
         "name": "father",
         "scene": "scene",
         "showlegend": true,
         "type": "scatter3d",
         "x": [
          0.6304986476898193
         ],
         "y": [
          0.3559221923351288
         ],
         "z": [
          0.1709492951631546
         ]
        },
        {
         "hovertemplate": "color=old<br>0=%{x}<br>1=%{y}<br>2=%{z}<extra></extra>",
         "legendgroup": "old",
         "marker": {
          "color": "#FFA15A",
          "symbol": "circle"
         },
         "mode": "markers",
         "name": "old",
         "scene": "scene",
         "showlegend": true,
         "type": "scatter3d",
         "x": [
          -0.005440491251647472
         ],
         "y": [
          0.3007722496986389
         ],
         "z": [
          0.037461891770362854
         ]
        },
        {
         "hovertemplate": "color=hand<br>0=%{x}<br>1=%{y}<br>2=%{z}<extra></extra>",
         "legendgroup": "hand",
         "marker": {
          "color": "#19d3f3",
          "symbol": "circle"
         },
         "mode": "markers",
         "name": "hand",
         "scene": "scene",
         "showlegend": true,
         "type": "scatter3d",
         "x": [
          -0.12631003558635712
         ],
         "y": [
          0.09366905689239502
         ],
         "z": [
          0.4235558807849884
         ]
        },
        {
         "hovertemplate": "color=even<br>0=%{x}<br>1=%{y}<br>2=%{z}<extra></extra>",
         "legendgroup": "even",
         "marker": {
          "color": "#FF6692",
          "symbol": "circle"
         },
         "mode": "markers",
         "name": "even",
         "scene": "scene",
         "showlegend": true,
         "type": "scatter3d",
         "x": [
          0.1010667085647583
         ],
         "y": [
          -0.08838418871164322
         ],
         "z": [
          -0.4347398579120636
         ]
        },
        {
         "hovertemplate": "color=tyrion<br>0=%{x}<br>1=%{y}<br>2=%{z}<extra></extra>",
         "legendgroup": "tyrion",
         "marker": {
          "color": "#B6E880",
          "symbol": "circle"
         },
         "mode": "markers",
         "name": "tyrion",
         "scene": "scene",
         "showlegend": true,
         "type": "scatter3d",
         "x": [
          0.05784672871232033
         ],
         "y": [
          -0.20705720782279968
         ],
         "z": [
          0.3098869025707245
         ]
        },
        {
         "hovertemplate": "color=never<br>0=%{x}<br>1=%{y}<br>2=%{z}<extra></extra>",
         "legendgroup": "never",
         "marker": {
          "color": "#FF97FF",
          "symbol": "circle"
         },
         "mode": "markers",
         "name": "never",
         "scene": "scene",
         "showlegend": true,
         "type": "scatter3d",
         "x": [
          0.46572181582450867
         ],
         "y": [
          -0.19860294461250305
         ],
         "z": [
          -0.18260516226291656
         ]
        },
        {
         "hovertemplate": "color=know<br>0=%{x}<br>1=%{y}<br>2=%{z}<extra></extra>",
         "legendgroup": "know",
         "marker": {
          "color": "#FECB52",
          "symbol": "circle"
         },
         "mode": "markers",
         "name": "know",
         "scene": "scene",
         "showlegend": true,
         "type": "scatter3d",
         "x": [
          0.667007327079773
         ],
         "y": [
          -0.059575535356998444
         ],
         "z": [
          -0.19911743700504303
         ]
        },
        {
         "hovertemplate": "color=see<br>0=%{x}<br>1=%{y}<br>2=%{z}<extra></extra>",
         "legendgroup": "see",
         "marker": {
          "color": "#636efa",
          "symbol": "circle"
         },
         "mode": "markers",
         "name": "see",
         "scene": "scene",
         "showlegend": true,
         "type": "scatter3d",
         "x": [
          0.05012733116745949
         ],
         "y": [
          -0.05851185694336891
         ],
         "z": [
          -0.1755935251712799
         ]
        },
        {
         "hovertemplate": "color=made<br>0=%{x}<br>1=%{y}<br>2=%{z}<extra></extra>",
         "legendgroup": "made",
         "marker": {
          "color": "#EF553B",
          "symbol": "circle"
         },
         "mode": "markers",
         "name": "made",
         "scene": "scene",
         "showlegend": true,
         "type": "scatter3d",
         "x": [
          -0.1040312722325325
         ],
         "y": [
          -0.1530180275440216
         ],
         "z": [
          -0.13149394094944
         ]
        },
        {
         "hovertemplate": "color=eyes<br>0=%{x}<br>1=%{y}<br>2=%{z}<extra></extra>",
         "legendgroup": "eyes",
         "marker": {
          "color": "#00cc96",
          "symbol": "circle"
         },
         "mode": "markers",
         "name": "eyes",
         "scene": "scene",
         "showlegend": true,
         "type": "scatter3d",
         "x": [
          -0.3168347477912903
         ],
         "y": [
          -0.22447338700294495
         ],
         "z": [
          0.20418913662433624
         ]
        },
        {
         "hovertemplate": "color=black<br>0=%{x}<br>1=%{y}<br>2=%{z}<extra></extra>",
         "legendgroup": "black",
         "marker": {
          "color": "#ab63fa",
          "symbol": "circle"
         },
         "mode": "markers",
         "name": "black",
         "scene": "scene",
         "showlegend": true,
         "type": "scatter3d",
         "x": [
          -0.47592076659202576
         ],
         "y": [
          0.45557472109794617
         ],
         "z": [
          0.05014355480670929
         ]
        },
        {
         "hovertemplate": "color=told<br>0=%{x}<br>1=%{y}<br>2=%{z}<extra></extra>",
         "legendgroup": "told",
         "marker": {
          "color": "#FFA15A",
          "symbol": "circle"
         },
         "mode": "markers",
         "name": "told",
         "scene": "scene",
         "showlegend": true,
         "type": "scatter3d",
         "x": [
          0.5173795819282532
         ],
         "y": [
          -0.028934357687830925
         ],
         "z": [
          -0.0856601819396019
         ]
        },
        {
         "hovertemplate": "color=lady<br>0=%{x}<br>1=%{y}<br>2=%{z}<extra></extra>",
         "legendgroup": "lady",
         "marker": {
          "color": "#19d3f3",
          "symbol": "circle"
         },
         "mode": "markers",
         "name": "lady",
         "scene": "scene",
         "showlegend": true,
         "type": "scatter3d",
         "x": [
          0.43905746936798096
         ],
         "y": [
          0.43432381749153137
         ],
         "z": [
          0.4828023612499237
         ]
        },
        {
         "hovertemplate": "color=thought<br>0=%{x}<br>1=%{y}<br>2=%{z}<extra></extra>",
         "legendgroup": "thought",
         "marker": {
          "color": "#FF6692",
          "symbol": "circle"
         },
         "mode": "markers",
         "name": "thought",
         "scene": "scene",
         "showlegend": true,
         "type": "scatter3d",
         "x": [
          0.2807888090610504
         ],
         "y": [
          -0.2375163584947586
         ],
         "z": [
          -0.14083009958267212
         ]
        },
        {
         "hovertemplate": "color=time<br>0=%{x}<br>1=%{y}<br>2=%{z}<extra></extra>",
         "legendgroup": "time",
         "marker": {
          "color": "#B6E880",
          "symbol": "circle"
         },
         "mode": "markers",
         "name": "time",
         "scene": "scene",
         "showlegend": true,
         "type": "scatter3d",
         "x": [
          0.007938951253890991
         ],
         "y": [
          -0.03822610527276993
         ],
         "z": [
          -0.213304340839386
         ]
        },
        {
         "hovertemplate": "color=long<br>0=%{x}<br>1=%{y}<br>2=%{z}<extra></extra>",
         "legendgroup": "long",
         "marker": {
          "color": "#FF97FF",
          "symbol": "circle"
         },
         "mode": "markers",
         "name": "long",
         "scene": "scene",
         "showlegend": true,
         "type": "scatter3d",
         "x": [
          -0.3275327980518341
         ],
         "y": [
          0.26524218916893005
         ],
         "z": [
          -0.2806846499443054
         ]
        },
        {
         "hovertemplate": "color=might<br>0=%{x}<br>1=%{y}<br>2=%{z}<extra></extra>",
         "legendgroup": "might",
         "marker": {
          "color": "#FECB52",
          "symbol": "circle"
         },
         "mode": "markers",
         "name": "might",
         "scene": "scene",
         "showlegend": true,
         "type": "scatter3d",
         "x": [
          0.6078767776489258
         ],
         "y": [
          -0.06912834942340851
         ],
         "z": [
          -0.24301253259181976
         ]
        },
        {
         "hovertemplate": "color=us<br>0=%{x}<br>1=%{y}<br>2=%{z}<extra></extra>",
         "legendgroup": "us",
         "marker": {
          "color": "#636efa",
          "symbol": "circle"
         },
         "mode": "markers",
         "name": "us",
         "scene": "scene",
         "showlegend": true,
         "type": "scatter3d",
         "x": [
          0.5311704874038696
         ],
         "y": [
          0.1758873015642166
         ],
         "z": [
          -0.3025011122226715
         ]
        },
        {
         "hovertemplate": "color=come<br>0=%{x}<br>1=%{y}<br>2=%{z}<extra></extra>",
         "legendgroup": "come",
         "marker": {
          "color": "#EF553B",
          "symbol": "circle"
         },
         "mode": "markers",
         "name": "come",
         "scene": "scene",
         "showlegend": true,
         "type": "scatter3d",
         "x": [
          0.3520343601703644
         ],
         "y": [
          0.1094154641032219
         ],
         "z": [
          -0.4435124397277832
         ]
        },
        {
         "hovertemplate": "color=face<br>0=%{x}<br>1=%{y}<br>2=%{z}<extra></extra>",
         "legendgroup": "face",
         "marker": {
          "color": "#00cc96",
          "symbol": "circle"
         },
         "mode": "markers",
         "name": "face",
         "scene": "scene",
         "showlegend": true,
         "type": "scatter3d",
         "x": [
          -0.38829997181892395
         ],
         "y": [
          -0.2704832851886749
         ],
         "z": [
          0.3735484778881073
         ]
        },
        {
         "hovertemplate": "color=still<br>0=%{x}<br>1=%{y}<br>2=%{z}<extra></extra>",
         "legendgroup": "still",
         "marker": {
          "color": "#ab63fa",
          "symbol": "circle"
         },
         "mode": "markers",
         "name": "still",
         "scene": "scene",
         "showlegend": true,
         "type": "scatter3d",
         "x": [
          -0.13729605078697205
         ],
         "y": [
          0.07197414338588715
         ],
         "z": [
          -0.3923904299736023
         ]
        },
        {
         "hovertemplate": "color=head<br>0=%{x}<br>1=%{y}<br>2=%{z}<extra></extra>",
         "legendgroup": "head",
         "marker": {
          "color": "#FFA15A",
          "symbol": "circle"
         },
         "mode": "markers",
         "name": "head",
         "scene": "scene",
         "showlegend": true,
         "type": "scatter3d",
         "x": [
          -0.37595292925834656
         ],
         "y": [
          -0.04220717400312424
         ],
         "z": [
          0.574488639831543
         ]
        },
        {
         "hovertemplate": "color=red<br>0=%{x}<br>1=%{y}<br>2=%{z}<extra></extra>",
         "legendgroup": "red",
         "marker": {
          "color": "#19d3f3",
          "symbol": "circle"
         },
         "mode": "markers",
         "name": "red",
         "scene": "scene",
         "showlegend": true,
         "type": "scatter3d",
         "x": [
          -0.37125763297080994
         ],
         "y": [
          0.3684055209159851
         ],
         "z": [
          0.2497437298297882
         ]
        },
        {
         "hovertemplate": "color=way<br>0=%{x}<br>1=%{y}<br>2=%{z}<extra></extra>",
         "legendgroup": "way",
         "marker": {
          "color": "#FF6692",
          "symbol": "circle"
         },
         "mode": "markers",
         "name": "way",
         "scene": "scene",
         "showlegend": true,
         "type": "scatter3d",
         "x": [
          -0.1022288054227829
         ],
         "y": [
          -0.010134969837963581
         ],
         "z": [
          -0.35382789373397827
         ]
        },
        {
         "hovertemplate": "color=boy<br>0=%{x}<br>1=%{y}<br>2=%{z}<extra></extra>",
         "legendgroup": "boy",
         "marker": {
          "color": "#B6E880",
          "symbol": "circle"
         },
         "mode": "markers",
         "name": "boy",
         "scene": "scene",
         "showlegend": true,
         "type": "scatter3d",
         "x": [
          0.29050400853157043
         ],
         "y": [
          0.2178761065006256
         ],
         "z": [
          0.38918906450271606
         ]
        },
        {
         "hovertemplate": "color=page<br>0=%{x}<br>1=%{y}<br>2=%{z}<extra></extra>",
         "legendgroup": "page",
         "marker": {
          "color": "#FF97FF",
          "symbol": "circle"
         },
         "mode": "markers",
         "name": "page",
         "scene": "scene",
         "showlegend": true,
         "type": "scatter3d",
         "x": [
          0.15093129873275757
         ],
         "y": [
          0.15898960828781128
         ],
         "z": [
          0.2980695068836212
         ]
        },
        {
         "hovertemplate": "color=must<br>0=%{x}<br>1=%{y}<br>2=%{z}<extra></extra>",
         "legendgroup": "must",
         "marker": {
          "color": "#FECB52",
          "symbol": "circle"
         },
         "mode": "markers",
         "name": "must",
         "scene": "scene",
         "showlegend": true,
         "type": "scatter3d",
         "x": [
          0.6041861772537231
         ],
         "y": [
          0.028183825314044952
         ],
         "z": [
          -0.2720288336277008
         ]
        },
        {
         "hovertemplate": "color=queen<br>0=%{x}<br>1=%{y}<br>2=%{z}<extra></extra>",
         "legendgroup": "queen",
         "marker": {
          "color": "#636efa",
          "symbol": "circle"
         },
         "mode": "markers",
         "name": "queen",
         "scene": "scene",
         "showlegend": true,
         "type": "scatter3d",
         "x": [
          0.4844875633716583
         ],
         "y": [
          0.3490254282951355
         ],
         "z": [
          0.2591550052165985
         ]
        },
        {
         "hovertemplate": "color=good<br>0=%{x}<br>1=%{y}<br>2=%{z}<extra></extra>",
         "legendgroup": "good",
         "marker": {
          "color": "#EF553B",
          "symbol": "circle"
         },
         "mode": "markers",
         "name": "good",
         "scene": "scene",
         "showlegend": true,
         "type": "scatter3d",
         "x": [
          0.5053931474685669
         ],
         "y": [
          -0.09157789498567581
         ],
         "z": [
          -0.15147535502910614
         ]
        },
        {
         "hovertemplate": "color=two<br>0=%{x}<br>1=%{y}<br>2=%{z}<extra></extra>",
         "legendgroup": "two",
         "marker": {
          "color": "#00cc96",
          "symbol": "circle"
         },
         "mode": "markers",
         "name": "two",
         "scene": "scene",
         "showlegend": true,
         "type": "scatter3d",
         "x": [
          -0.1724594235420227
         ],
         "y": [
          0.641177237033844
         ],
         "z": [
          -0.15452173352241516
         ]
        },
        {
         "hovertemplate": "color=brother<br>0=%{x}<br>1=%{y}<br>2=%{z}<extra></extra>",
         "legendgroup": "brother",
         "marker": {
          "color": "#ab63fa",
          "symbol": "circle"
         },
         "mode": "markers",
         "name": "brother",
         "scene": "scene",
         "showlegend": true,
         "type": "scatter3d",
         "x": [
          0.5374438166618347
         ],
         "y": [
          0.5104811787605286
         ],
         "z": [
          0.3429129719734192
         ]
        },
        {
         "hovertemplate": "color=night<br>0=%{x}<br>1=%{y}<br>2=%{z}<extra></extra>",
         "legendgroup": "night",
         "marker": {
          "color": "#FFA15A",
          "symbol": "circle"
         },
         "mode": "markers",
         "name": "night",
         "scene": "scene",
         "showlegend": true,
         "type": "scatter3d",
         "x": [
          -0.032750509679317474
         ],
         "y": [
          0.1659015268087387
         ],
         "z": [
          -0.325331449508667
         ]
        },
        {
         "hovertemplate": "color=little<br>0=%{x}<br>1=%{y}<br>2=%{z}<extra></extra>",
         "legendgroup": "little",
         "marker": {
          "color": "#19d3f3",
          "symbol": "circle"
         },
         "mode": "markers",
         "name": "little",
         "scene": "scene",
         "showlegend": true,
         "type": "scatter3d",
         "x": [
          0.09803891181945801
         ],
         "y": [
          -0.16030031442642212
         ],
         "z": [
          0.06137898191809654
         ]
        },
        {
         "hovertemplate": "color=took<br>0=%{x}<br>1=%{y}<br>2=%{z}<extra></extra>",
         "legendgroup": "took",
         "marker": {
          "color": "#FF6692",
          "symbol": "circle"
         },
         "mode": "markers",
         "name": "took",
         "scene": "scene",
         "showlegend": true,
         "type": "scatter3d",
         "x": [
          -0.028476638719439507
         ],
         "y": [
          0.20671346783638
         ],
         "z": [
          0.18010284006595612
         ]
        },
        {
         "hovertemplate": "color=came<br>0=%{x}<br>1=%{y}<br>2=%{z}<extra></extra>",
         "legendgroup": "came",
         "marker": {
          "color": "#B6E880",
          "symbol": "circle"
         },
         "mode": "markers",
         "name": "came",
         "scene": "scene",
         "showlegend": true,
         "type": "scatter3d",
         "x": [
          -0.30329808592796326
         ],
         "y": [
          0.1918971836566925
         ],
         "z": [
          -0.36616531014442444
         ]
        },
        {
         "hovertemplate": "color=though<br>0=%{x}<br>1=%{y}<br>2=%{z}<extra></extra>",
         "legendgroup": "though",
         "marker": {
          "color": "#FF97FF",
          "symbol": "circle"
         },
         "mode": "markers",
         "name": "though",
         "scene": "scene",
         "showlegend": true,
         "type": "scatter3d",
         "x": [
          0.1852506697177887
         ],
         "y": [
          -0.21625927090644836
         ],
         "z": [
          -0.2406539022922516
         ]
        },
        {
         "hovertemplate": "color=say<br>0=%{x}<br>1=%{y}<br>2=%{z}<extra></extra>",
         "legendgroup": "say",
         "marker": {
          "color": "#FECB52",
          "symbol": "circle"
         },
         "mode": "markers",
         "name": "say",
         "scene": "scene",
         "showlegend": true,
         "type": "scatter3d",
         "x": [
          0.6298961043357849
         ],
         "y": [
          -0.18860147893428802
         ],
         "z": [
          -0.06068296357989311
         ]
        },
        {
         "hovertemplate": "color=three<br>0=%{x}<br>1=%{y}<br>2=%{z}<extra></extra>",
         "legendgroup": "three",
         "marker": {
          "color": "#636efa",
          "symbol": "circle"
         },
         "mode": "markers",
         "name": "three",
         "scene": "scene",
         "showlegend": true,
         "type": "scatter3d",
         "x": [
          -0.11474774777889252
         ],
         "y": [
          0.7300298810005188
         ],
         "z": [
          -0.19315382838249207
         ]
        },
        {
         "hovertemplate": "color=away<br>0=%{x}<br>1=%{y}<br>2=%{z}<extra></extra>",
         "legendgroup": "away",
         "marker": {
          "color": "#EF553B",
          "symbol": "circle"
         },
         "mode": "markers",
         "name": "away",
         "scene": "scene",
         "showlegend": true,
         "type": "scatter3d",
         "x": [
          -0.2914767861366272
         ],
         "y": [
          -0.1737987995147705
         ],
         "z": [
          -0.06439650803804398
         ]
        },
        {
         "hovertemplate": "color=dead<br>0=%{x}<br>1=%{y}<br>2=%{z}<extra></extra>",
         "legendgroup": "dead",
         "marker": {
          "color": "#00cc96",
          "symbol": "circle"
         },
         "mode": "markers",
         "name": "dead",
         "scene": "scene",
         "showlegend": true,
         "type": "scatter3d",
         "x": [
          0.043562151491642
         ],
         "y": [
          0.18162600696086884
         ],
         "z": [
          -0.24973812699317932
         ]
        },
        {
         "hovertemplate": "color=son<br>0=%{x}<br>1=%{y}<br>2=%{z}<extra></extra>",
         "legendgroup": "son",
         "marker": {
          "color": "#ab63fa",
          "symbol": "circle"
         },
         "mode": "markers",
         "name": "son",
         "scene": "scene",
         "showlegend": true,
         "type": "scatter3d",
         "x": [
          0.4219595789909363
         ],
         "y": [
          0.7282002568244934
         ],
         "z": [
          0.4499625265598297
         ]
        },
        {
         "hovertemplate": "color=blood<br>0=%{x}<br>1=%{y}<br>2=%{z}<extra></extra>",
         "legendgroup": "blood",
         "marker": {
          "color": "#FFA15A",
          "symbol": "circle"
         },
         "mode": "markers",
         "name": "blood",
         "scene": "scene",
         "showlegend": true,
         "type": "scatter3d",
         "x": [
          -0.25661271810531616
         ],
         "y": [
          -0.17189060151576996
         ],
         "z": [
          0.000638539728242904
         ]
        },
        {
         "hovertemplate": "color=take<br>0=%{x}<br>1=%{y}<br>2=%{z}<extra></extra>",
         "legendgroup": "take",
         "marker": {
          "color": "#19d3f3",
          "symbol": "circle"
         },
         "mode": "markers",
         "name": "take",
         "scene": "scene",
         "showlegend": true,
         "type": "scatter3d",
         "x": [
          0.4695742726325989
         ],
         "y": [
          0.17150625586509705
         ],
         "z": [
          -0.12948624789714813
         ]
        },
        {
         "hovertemplate": "color=go<br>0=%{x}<br>1=%{y}<br>2=%{z}<extra></extra>",
         "legendgroup": "go",
         "marker": {
          "color": "#FF6692",
          "symbol": "circle"
         },
         "mode": "markers",
         "name": "go",
         "scene": "scene",
         "showlegend": true,
         "type": "scatter3d",
         "x": [
          0.2543160021305084
         ],
         "y": [
          -0.18535169959068298
         ],
         "z": [
          -0.3614455759525299
         ]
        },
        {
         "hovertemplate": "color=half<br>0=%{x}<br>1=%{y}<br>2=%{z}<extra></extra>",
         "legendgroup": "half",
         "marker": {
          "color": "#B6E880",
          "symbol": "circle"
         },
         "mode": "markers",
         "name": "half",
         "scene": "scene",
         "showlegend": true,
         "type": "scatter3d",
         "x": [
          -0.2975878417491913
         ],
         "y": [
          0.24564392864704132
         ],
         "z": [
          -0.3191779851913452
         ]
        },
        {
         "hovertemplate": "color=make<br>0=%{x}<br>1=%{y}<br>2=%{z}<extra></extra>",
         "legendgroup": "make",
         "marker": {
          "color": "#FF97FF",
          "symbol": "circle"
         },
         "mode": "markers",
         "name": "make",
         "scene": "scene",
         "showlegend": true,
         "type": "scatter3d",
         "x": [
          0.45234087109565735
         ],
         "y": [
          -0.22199290990829468
         ],
         "z": [
          -0.25805914402008057
         ]
        },
        {
         "hovertemplate": "color=arya<br>0=%{x}<br>1=%{y}<br>2=%{z}<extra></extra>",
         "legendgroup": "arya",
         "marker": {
          "color": "#FECB52",
          "symbol": "circle"
         },
         "mode": "markers",
         "name": "arya",
         "scene": "scene",
         "showlegend": true,
         "type": "scatter3d",
         "x": [
          -0.1352703720331192
         ],
         "y": [
          -0.3872120678424835
         ],
         "z": [
          -0.029753530398011208
         ]
        },
        {
         "hovertemplate": "color=saw<br>0=%{x}<br>1=%{y}<br>2=%{z}<extra></extra>",
         "legendgroup": "saw",
         "marker": {
          "color": "#636efa",
          "symbol": "circle"
         },
         "mode": "markers",
         "name": "saw",
         "scene": "scene",
         "showlegend": true,
         "type": "scatter3d",
         "x": [
          -0.3571224808692932
         ],
         "y": [
          0.11040876805782318
         ],
         "z": [
          -0.01415238343179226
         ]
        },
        {
         "hovertemplate": "color=day<br>0=%{x}<br>1=%{y}<br>2=%{z}<extra></extra>",
         "legendgroup": "day",
         "marker": {
          "color": "#EF553B",
          "symbol": "circle"
         },
         "mode": "markers",
         "name": "day",
         "scene": "scene",
         "showlegend": true,
         "type": "scatter3d",
         "x": [
          0.0745142325758934
         ],
         "y": [
          0.24321065843105316
         ],
         "z": [
          -0.38744187355041504
         ]
        },
        {
         "hovertemplate": "color=white<br>0=%{x}<br>1=%{y}<br>2=%{z}<extra></extra>",
         "legendgroup": "white",
         "marker": {
          "color": "#00cc96",
          "symbol": "circle"
         },
         "mode": "markers",
         "name": "white",
         "scene": "scene",
         "showlegend": true,
         "type": "scatter3d",
         "x": [
          -0.4114931523799896
         ],
         "y": [
          0.5345578193664551
         ],
         "z": [
          0.31837451457977295
         ]
        },
        {
         "hovertemplate": "color=jaime<br>0=%{x}<br>1=%{y}<br>2=%{z}<extra></extra>",
         "legendgroup": "jaime",
         "marker": {
          "color": "#ab63fa",
          "symbol": "circle"
         },
         "mode": "markers",
         "name": "jaime",
         "scene": "scene",
         "showlegend": true,
         "type": "scatter3d",
         "x": [
          0.19950224459171295
         ],
         "y": [
          0.06866028904914856
         ],
         "z": [
          0.3993068039417267
         ]
        },
        {
         "hovertemplate": "color=first<br>0=%{x}<br>1=%{y}<br>2=%{z}<extra></extra>",
         "legendgroup": "first",
         "marker": {
          "color": "#FFA15A",
          "symbol": "circle"
         },
         "mode": "markers",
         "name": "first",
         "scene": "scene",
         "showlegend": true,
         "type": "scatter3d",
         "x": [
          0.18888907134532928
         ],
         "y": [
          0.40466657280921936
         ],
         "z": [
          -0.2091846913099289
         ]
        },
        {
         "hovertemplate": "color=look<br>0=%{x}<br>1=%{y}<br>2=%{z}<extra></extra>",
         "legendgroup": "look",
         "marker": {
          "color": "#19d3f3",
          "symbol": "circle"
         },
         "mode": "markers",
         "name": "look",
         "scene": "scene",
         "showlegend": true,
         "type": "scatter3d",
         "x": [
          -0.0013174593914300203
         ],
         "y": [
          -0.2825353741645813
         ],
         "z": [
          0.14665281772613525
         ]
        },
        {
         "hovertemplate": "color=want<br>0=%{x}<br>1=%{y}<br>2=%{z}<extra></extra>",
         "legendgroup": "want",
         "marker": {
          "color": "#FF6692",
          "symbol": "circle"
         },
         "mode": "markers",
         "name": "want",
         "scene": "scene",
         "showlegend": true,
         "type": "scatter3d",
         "x": [
          0.5261272192001343
         ],
         "y": [
          -0.20073837041854858
         ],
         "z": [
          -0.18140073120594025
         ]
        },
        {
         "hovertemplate": "color=much<br>0=%{x}<br>1=%{y}<br>2=%{z}<extra></extra>",
         "legendgroup": "much",
         "marker": {
          "color": "#B6E880",
          "symbol": "circle"
         },
         "mode": "markers",
         "name": "much",
         "scene": "scene",
         "showlegend": true,
         "type": "scatter3d",
         "x": [
          0.4947562515735626
         ],
         "y": [
          -0.24886298179626465
         ],
         "z": [
          -0.23691698908805847
         ]
        },
        {
         "hovertemplate": "color=enough<br>0=%{x}<br>1=%{y}<br>2=%{z}<extra></extra>",
         "legendgroup": "enough",
         "marker": {
          "color": "#FF97FF",
          "symbol": "circle"
         },
         "mode": "markers",
         "name": "enough",
         "scene": "scene",
         "showlegend": true,
         "type": "scatter3d",
         "x": [
          0.18490004539489746
         ],
         "y": [
          -0.12355547398328781
         ],
         "z": [
          -0.3925999402999878
         ]
        },
        {
         "hovertemplate": "color=sword<br>0=%{x}<br>1=%{y}<br>2=%{z}<extra></extra>",
         "legendgroup": "sword",
         "marker": {
          "color": "#FECB52",
          "symbol": "circle"
         },
         "mode": "markers",
         "name": "sword",
         "scene": "scene",
         "showlegend": true,
         "type": "scatter3d",
         "x": [
          -0.16067129373550415
         ],
         "y": [
          0.14982888102531433
         ],
         "z": [
          0.32591545581817627
         ]
        },
        {
         "hovertemplate": "color=tell<br>0=%{x}<br>1=%{y}<br>2=%{z}<extra></extra>",
         "legendgroup": "tell",
         "marker": {
          "color": "#636efa",
          "symbol": "circle"
         },
         "mode": "markers",
         "name": "tell",
         "scene": "scene",
         "showlegend": true,
         "type": "scatter3d",
         "x": [
          0.6503832936286926
         ],
         "y": [
          -0.18278226256370544
         ],
         "z": [
          -0.1385418176651001
         ]
        },
        {
         "hovertemplate": "color=girl<br>0=%{x}<br>1=%{y}<br>2=%{z}<extra></extra>",
         "legendgroup": "girl",
         "marker": {
          "color": "#EF553B",
          "symbol": "circle"
         },
         "mode": "markers",
         "name": "girl",
         "scene": "scene",
         "showlegend": true,
         "type": "scatter3d",
         "x": [
          0.2233009785413742
         ],
         "y": [
          0.013092931360006332
         ],
         "z": [
          0.2741132974624634
         ]
        },
        {
         "hovertemplate": "color=bran<br>0=%{x}<br>1=%{y}<br>2=%{z}<extra></extra>",
         "legendgroup": "bran",
         "marker": {
          "color": "#00cc96",
          "symbol": "circle"
         },
         "mode": "markers",
         "name": "bran",
         "scene": "scene",
         "showlegend": true,
         "type": "scatter3d",
         "x": [
          -0.08054247498512268
         ],
         "y": [
          -0.3326491415500641
         ],
         "z": [
          -0.12299191951751709
         ]
        },
        {
         "hovertemplate": "color=great<br>0=%{x}<br>1=%{y}<br>2=%{z}<extra></extra>",
         "legendgroup": "great",
         "marker": {
          "color": "#ab63fa",
          "symbol": "circle"
         },
         "mode": "markers",
         "name": "great",
         "scene": "scene",
         "showlegend": true,
         "type": "scatter3d",
         "x": [
          -0.16001032292842865
         ],
         "y": [
          0.807775616645813
         ],
         "z": [
          -0.1904163956642151
         ]
        },
        {
         "hovertemplate": "color=looked<br>0=%{x}<br>1=%{y}<br>2=%{z}<extra></extra>",
         "legendgroup": "looked",
         "marker": {
          "color": "#FFA15A",
          "symbol": "circle"
         },
         "mode": "markers",
         "name": "looked",
         "scene": "scene",
         "showlegend": true,
         "type": "scatter3d",
         "x": [
          -0.21727211773395538
         ],
         "y": [
          -0.062254730612039566
         ],
         "z": [
          0.1877695471048355
         ]
        },
        {
         "hovertemplate": "color=left<br>0=%{x}<br>1=%{y}<br>2=%{z}<extra></extra>",
         "legendgroup": "left",
         "marker": {
          "color": "#19d3f3",
          "symbol": "circle"
         },
         "mode": "markers",
         "name": "left",
         "scene": "scene",
         "showlegend": true,
         "type": "scatter3d",
         "x": [
          -0.2497410625219345
         ],
         "y": [
          0.2924997806549072
         ],
         "z": [
          0.00833368580788374
         ]
        },
        {
         "hovertemplate": "color=knew<br>0=%{x}<br>1=%{y}<br>2=%{z}<extra></extra>",
         "legendgroup": "knew",
         "marker": {
          "color": "#FF6692",
          "symbol": "circle"
         },
         "mode": "markers",
         "name": "knew",
         "scene": "scene",
         "showlegend": true,
         "type": "scatter3d",
         "x": [
          0.3508773148059845
         ],
         "y": [
          -0.184711754322052
         ],
         "z": [
          -0.3210183084011078
         ]
        },
        {
         "hovertemplate": "color=asked<br>0=%{x}<br>1=%{y}<br>2=%{z}<extra></extra>",
         "legendgroup": "asked",
         "marker": {
          "color": "#B6E880",
          "symbol": "circle"
         },
         "mode": "markers",
         "name": "asked",
         "scene": "scene",
         "showlegend": true,
         "type": "scatter3d",
         "x": [
          0.49128443002700806
         ],
         "y": [
          0.0063904025591909885
         ],
         "z": [
          0.3294771909713745
         ]
        },
        {
         "hovertemplate": "color=gave<br>0=%{x}<br>1=%{y}<br>2=%{z}<extra></extra>",
         "legendgroup": "gave",
         "marker": {
          "color": "#FF97FF",
          "symbol": "circle"
         },
         "mode": "markers",
         "name": "gave",
         "scene": "scene",
         "showlegend": true,
         "type": "scatter3d",
         "x": [
          0.059729743748903275
         ],
         "y": [
          -0.1783977746963501
         ],
         "z": [
          0.524741530418396
         ]
        },
        {
         "hovertemplate": "color=maester<br>0=%{x}<br>1=%{y}<br>2=%{z}<extra></extra>",
         "legendgroup": "maester",
         "marker": {
          "color": "#FECB52",
          "symbol": "circle"
         },
         "mode": "markers",
         "name": "maester",
         "scene": "scene",
         "showlegend": true,
         "type": "scatter3d",
         "x": [
          0.16501428186893463
         ],
         "y": [
          0.26215261220932007
         ],
         "z": [
          0.34267839789390564
         ]
        },
        {
         "hovertemplate": "color=called<br>0=%{x}<br>1=%{y}<br>2=%{z}<extra></extra>",
         "legendgroup": "called",
         "marker": {
          "color": "#636efa",
          "symbol": "circle"
         },
         "mode": "markers",
         "name": "called",
         "scene": "scene",
         "showlegend": true,
         "type": "scatter3d",
         "x": [
          0.19781655073165894
         ],
         "y": [
          0.7208431363105774
         ],
         "z": [
          0.4025375247001648
         ]
        },
        {
         "hovertemplate": "color=wall<br>0=%{x}<br>1=%{y}<br>2=%{z}<extra></extra>",
         "legendgroup": "wall",
         "marker": {
          "color": "#EF553B",
          "symbol": "circle"
         },
         "mode": "markers",
         "name": "wall",
         "scene": "scene",
         "showlegend": true,
         "type": "scatter3d",
         "x": [
          -0.25092408061027527
         ],
         "y": [
          0.3421088755130768
         ],
         "z": [
          -0.49364274740219116
         ]
        },
        {
         "hovertemplate": "color=every<br>0=%{x}<br>1=%{y}<br>2=%{z}<extra></extra>",
         "legendgroup": "every",
         "marker": {
          "color": "#00cc96",
          "symbol": "circle"
         },
         "mode": "markers",
         "name": "every",
         "scene": "scene",
         "showlegend": true,
         "type": "scatter3d",
         "x": [
          -0.12981292605400085
         ],
         "y": [
          0.2160792052745819
         ],
         "z": [
          -0.35136428475379944
         ]
        },
        {
         "hovertemplate": "color=heard<br>0=%{x}<br>1=%{y}<br>2=%{z}<extra></extra>",
         "legendgroup": "heard",
         "marker": {
          "color": "#ab63fa",
          "symbol": "circle"
         },
         "mode": "markers",
         "name": "heard",
         "scene": "scene",
         "showlegend": true,
         "type": "scatter3d",
         "x": [
          0.009418930858373642
         ],
         "y": [
          -0.14293800294399261
         ],
         "z": [
          -0.2107784003019333
         ]
        },
        {
         "hovertemplate": "color=sansa<br>0=%{x}<br>1=%{y}<br>2=%{z}<extra></extra>",
         "legendgroup": "sansa",
         "marker": {
          "color": "#FFA15A",
          "symbol": "circle"
         },
         "mode": "markers",
         "name": "sansa",
         "scene": "scene",
         "showlegend": true,
         "type": "scatter3d",
         "x": [
          0.16397318243980408
         ],
         "y": [
          -0.2969323396682739
         ],
         "z": [
          0.305574893951416
         ]
        },
        {
         "hovertemplate": "color=let<br>0=%{x}<br>1=%{y}<br>2=%{z}<extra></extra>",
         "legendgroup": "let",
         "marker": {
          "color": "#19d3f3",
          "symbol": "circle"
         },
         "mode": "markers",
         "name": "let",
         "scene": "scene",
         "showlegend": true,
         "type": "scatter3d",
         "x": [
          0.23673030734062195
         ],
         "y": [
          -0.24226772785186768
         ],
         "z": [
          -0.1288103461265564
         ]
        },
        {
         "hovertemplate": "color=yet<br>0=%{x}<br>1=%{y}<br>2=%{z}<extra></extra>",
         "legendgroup": "yet",
         "marker": {
          "color": "#FF6692",
          "symbol": "circle"
         },
         "mode": "markers",
         "name": "yet",
         "scene": "scene",
         "showlegend": true,
         "type": "scatter3d",
         "x": [
          0.2666827440261841
         ],
         "y": [
          -0.05369623750448227
         ],
         "z": [
          -0.4335375428199768
         ]
        },
        {
         "hovertemplate": "color=went<br>0=%{x}<br>1=%{y}<br>2=%{z}<extra></extra>",
         "legendgroup": "went",
         "marker": {
          "color": "#B6E880",
          "symbol": "circle"
         },
         "mode": "markers",
         "name": "went",
         "scene": "scene",
         "showlegend": true,
         "type": "scatter3d",
         "x": [
          -0.37547022104263306
         ],
         "y": [
          0.06848995387554169
         ],
         "z": [
          -0.11169128119945526
         ]
        },
        {
         "hovertemplate": "color=turned<br>0=%{x}<br>1=%{y}<br>2=%{z}<extra></extra>",
         "legendgroup": "turned",
         "marker": {
          "color": "#FF97FF",
          "symbol": "circle"
         },
         "mode": "markers",
         "name": "turned",
         "scene": "scene",
         "showlegend": true,
         "type": "scatter3d",
         "x": [
          -0.2986457347869873
         ],
         "y": [
          0.08615387231111526
         ],
         "z": [
          0.22252090275287628
         ]
        },
        {
         "hovertemplate": "color=dany<br>0=%{x}<br>1=%{y}<br>2=%{z}<extra></extra>",
         "legendgroup": "dany",
         "marker": {
          "color": "#FECB52",
          "symbol": "circle"
         },
         "mode": "markers",
         "name": "dany",
         "scene": "scene",
         "showlegend": true,
         "type": "scatter3d",
         "x": [
          -0.09711642563343048
         ],
         "y": [
          -0.19712480902671814
         ],
         "z": [
          -0.017732584848999977
         ]
        },
        {
         "hovertemplate": "color=behind<br>0=%{x}<br>1=%{y}<br>2=%{z}<extra></extra>",
         "legendgroup": "behind",
         "marker": {
          "color": "#636efa",
          "symbol": "circle"
         },
         "mode": "markers",
         "name": "behind",
         "scene": "scene",
         "showlegend": true,
         "type": "scatter3d",
         "x": [
          -0.5780019760131836
         ],
         "y": [
          0.41996100544929504
         ],
         "z": [
          -0.09569203108549118
         ]
        },
        {
         "hovertemplate": "color=need<br>0=%{x}<br>1=%{y}<br>2=%{z}<extra></extra>",
         "legendgroup": "need",
         "marker": {
          "color": "#EF553B",
          "symbol": "circle"
         },
         "mode": "markers",
         "name": "need",
         "scene": "scene",
         "showlegend": true,
         "type": "scatter3d",
         "x": [
          0.4563959836959839
         ],
         "y": [
          0.013072339817881584
         ],
         "z": [
          -0.3121325671672821
         ]
        },
        {
         "hovertemplate": "color=around<br>0=%{x}<br>1=%{y}<br>2=%{z}<extra></extra>",
         "legendgroup": "around",
         "marker": {
          "color": "#00cc96",
          "symbol": "circle"
         },
         "mode": "markers",
         "name": "around",
         "scene": "scene",
         "showlegend": true,
         "type": "scatter3d",
         "x": [
          -0.7753247022628784
         ],
         "y": [
          0.11662266403436661
         ],
         "z": [
          -0.053681131452322006
         ]
        },
        {
         "hovertemplate": "color=woman<br>0=%{x}<br>1=%{y}<br>2=%{z}<extra></extra>",
         "legendgroup": "woman",
         "marker": {
          "color": "#ab63fa",
          "symbol": "circle"
         },
         "mode": "markers",
         "name": "woman",
         "scene": "scene",
         "showlegend": true,
         "type": "scatter3d",
         "x": [
          0.0855323076248169
         ],
         "y": [
          -0.09226502478122711
         ],
         "z": [
          0.2171018123626709
         ]
        },
        {
         "hovertemplate": "color=another<br>0=%{x}<br>1=%{y}<br>2=%{z}<extra></extra>",
         "legendgroup": "another",
         "marker": {
          "color": "#FFA15A",
          "symbol": "circle"
         },
         "mode": "markers",
         "name": "another",
         "scene": "scene",
         "showlegend": true,
         "type": "scatter3d",
         "x": [
          -0.001904187840409577
         ],
         "y": [
          0.0659099668264389
         ],
         "z": [
          -0.12672416865825653
         ]
        },
        {
         "hovertemplate": "color=snow<br>0=%{x}<br>1=%{y}<br>2=%{z}<extra></extra>",
         "legendgroup": "snow",
         "marker": {
          "color": "#19d3f3",
          "symbol": "circle"
         },
         "mode": "markers",
         "name": "snow",
         "scene": "scene",
         "showlegend": true,
         "type": "scatter3d",
         "x": [
          -0.2871125340461731
         ],
         "y": [
          0.036813098937273026
         ],
         "z": [
          -0.06267755478620529
         ]
        },
        {
         "hovertemplate": "color=beneath<br>0=%{x}<br>1=%{y}<br>2=%{z}<extra></extra>",
         "legendgroup": "beneath",
         "marker": {
          "color": "#FF6692",
          "symbol": "circle"
         },
         "mode": "markers",
         "name": "beneath",
         "scene": "scene",
         "showlegend": true,
         "type": "scatter3d",
         "x": [
          -0.773236870765686
         ],
         "y": [
          0.3314957022666931
         ],
         "z": [
          -0.12978948652744293
         ]
        },
        {
         "hovertemplate": "color=across<br>0=%{x}<br>1=%{y}<br>2=%{z}<extra></extra>",
         "legendgroup": "across",
         "marker": {
          "color": "#B6E880",
          "symbol": "circle"
         },
         "mode": "markers",
         "name": "across",
         "scene": "scene",
         "showlegend": true,
         "type": "scatter3d",
         "x": [
          -0.7093605399131775
         ],
         "y": [
          0.29745033383369446
         ],
         "z": [
          -0.09484182298183441
         ]
        },
        {
         "hovertemplate": "color=knight<br>0=%{x}<br>1=%{y}<br>2=%{z}<extra></extra>",
         "legendgroup": "knight",
         "marker": {
          "color": "#FF97FF",
          "symbol": "circle"
         },
         "mode": "markers",
         "name": "knight",
         "scene": "scene",
         "showlegend": true,
         "type": "scatter3d",
         "x": [
          0.2586522698402405
         ],
         "y": [
          0.5264553427696228
         ],
         "z": [
          0.5719349980354309
         ]
        },
        {
         "hovertemplate": "color=keep<br>0=%{x}<br>1=%{y}<br>2=%{z}<extra></extra>",
         "legendgroup": "keep",
         "marker": {
          "color": "#FECB52",
          "symbol": "circle"
         },
         "mode": "markers",
         "name": "keep",
         "scene": "scene",
         "showlegend": true,
         "type": "scatter3d",
         "x": [
          0.06380962580442429
         ],
         "y": [
          0.17633655667304993
         ],
         "z": [
          -0.3750453293323517
         ]
        }
       ],
       "layout": {
        "legend": {
         "title": {
          "text": "color"
         },
         "tracegroupgap": 0
        },
        "margin": {
         "t": 60
        },
        "scene": {
         "domain": {
          "x": [
           0,
           1
          ],
          "y": [
           0,
           1
          ]
         },
         "xaxis": {
          "title": {
           "text": "0"
          }
         },
         "yaxis": {
          "title": {
           "text": "1"
          }
         },
         "zaxis": {
          "title": {
           "text": "2"
          }
         }
        },
        "template": {
         "data": {
          "bar": [
           {
            "error_x": {
             "color": "#2a3f5f"
            },
            "error_y": {
             "color": "#2a3f5f"
            },
            "marker": {
             "line": {
              "color": "#E5ECF6",
              "width": 0.5
             },
             "pattern": {
              "fillmode": "overlay",
              "size": 10,
              "solidity": 0.2
             }
            },
            "type": "bar"
           }
          ],
          "barpolar": [
           {
            "marker": {
             "line": {
              "color": "#E5ECF6",
              "width": 0.5
             },
             "pattern": {
              "fillmode": "overlay",
              "size": 10,
              "solidity": 0.2
             }
            },
            "type": "barpolar"
           }
          ],
          "carpet": [
           {
            "aaxis": {
             "endlinecolor": "#2a3f5f",
             "gridcolor": "white",
             "linecolor": "white",
             "minorgridcolor": "white",
             "startlinecolor": "#2a3f5f"
            },
            "baxis": {
             "endlinecolor": "#2a3f5f",
             "gridcolor": "white",
             "linecolor": "white",
             "minorgridcolor": "white",
             "startlinecolor": "#2a3f5f"
            },
            "type": "carpet"
           }
          ],
          "choropleth": [
           {
            "colorbar": {
             "outlinewidth": 0,
             "ticks": ""
            },
            "type": "choropleth"
           }
          ],
          "contour": [
           {
            "colorbar": {
             "outlinewidth": 0,
             "ticks": ""
            },
            "colorscale": [
             [
              0,
              "#0d0887"
             ],
             [
              0.1111111111111111,
              "#46039f"
             ],
             [
              0.2222222222222222,
              "#7201a8"
             ],
             [
              0.3333333333333333,
              "#9c179e"
             ],
             [
              0.4444444444444444,
              "#bd3786"
             ],
             [
              0.5555555555555556,
              "#d8576b"
             ],
             [
              0.6666666666666666,
              "#ed7953"
             ],
             [
              0.7777777777777778,
              "#fb9f3a"
             ],
             [
              0.8888888888888888,
              "#fdca26"
             ],
             [
              1,
              "#f0f921"
             ]
            ],
            "type": "contour"
           }
          ],
          "contourcarpet": [
           {
            "colorbar": {
             "outlinewidth": 0,
             "ticks": ""
            },
            "type": "contourcarpet"
           }
          ],
          "heatmap": [
           {
            "colorbar": {
             "outlinewidth": 0,
             "ticks": ""
            },
            "colorscale": [
             [
              0,
              "#0d0887"
             ],
             [
              0.1111111111111111,
              "#46039f"
             ],
             [
              0.2222222222222222,
              "#7201a8"
             ],
             [
              0.3333333333333333,
              "#9c179e"
             ],
             [
              0.4444444444444444,
              "#bd3786"
             ],
             [
              0.5555555555555556,
              "#d8576b"
             ],
             [
              0.6666666666666666,
              "#ed7953"
             ],
             [
              0.7777777777777778,
              "#fb9f3a"
             ],
             [
              0.8888888888888888,
              "#fdca26"
             ],
             [
              1,
              "#f0f921"
             ]
            ],
            "type": "heatmap"
           }
          ],
          "heatmapgl": [
           {
            "colorbar": {
             "outlinewidth": 0,
             "ticks": ""
            },
            "colorscale": [
             [
              0,
              "#0d0887"
             ],
             [
              0.1111111111111111,
              "#46039f"
             ],
             [
              0.2222222222222222,
              "#7201a8"
             ],
             [
              0.3333333333333333,
              "#9c179e"
             ],
             [
              0.4444444444444444,
              "#bd3786"
             ],
             [
              0.5555555555555556,
              "#d8576b"
             ],
             [
              0.6666666666666666,
              "#ed7953"
             ],
             [
              0.7777777777777778,
              "#fb9f3a"
             ],
             [
              0.8888888888888888,
              "#fdca26"
             ],
             [
              1,
              "#f0f921"
             ]
            ],
            "type": "heatmapgl"
           }
          ],
          "histogram": [
           {
            "marker": {
             "pattern": {
              "fillmode": "overlay",
              "size": 10,
              "solidity": 0.2
             }
            },
            "type": "histogram"
           }
          ],
          "histogram2d": [
           {
            "colorbar": {
             "outlinewidth": 0,
             "ticks": ""
            },
            "colorscale": [
             [
              0,
              "#0d0887"
             ],
             [
              0.1111111111111111,
              "#46039f"
             ],
             [
              0.2222222222222222,
              "#7201a8"
             ],
             [
              0.3333333333333333,
              "#9c179e"
             ],
             [
              0.4444444444444444,
              "#bd3786"
             ],
             [
              0.5555555555555556,
              "#d8576b"
             ],
             [
              0.6666666666666666,
              "#ed7953"
             ],
             [
              0.7777777777777778,
              "#fb9f3a"
             ],
             [
              0.8888888888888888,
              "#fdca26"
             ],
             [
              1,
              "#f0f921"
             ]
            ],
            "type": "histogram2d"
           }
          ],
          "histogram2dcontour": [
           {
            "colorbar": {
             "outlinewidth": 0,
             "ticks": ""
            },
            "colorscale": [
             [
              0,
              "#0d0887"
             ],
             [
              0.1111111111111111,
              "#46039f"
             ],
             [
              0.2222222222222222,
              "#7201a8"
             ],
             [
              0.3333333333333333,
              "#9c179e"
             ],
             [
              0.4444444444444444,
              "#bd3786"
             ],
             [
              0.5555555555555556,
              "#d8576b"
             ],
             [
              0.6666666666666666,
              "#ed7953"
             ],
             [
              0.7777777777777778,
              "#fb9f3a"
             ],
             [
              0.8888888888888888,
              "#fdca26"
             ],
             [
              1,
              "#f0f921"
             ]
            ],
            "type": "histogram2dcontour"
           }
          ],
          "mesh3d": [
           {
            "colorbar": {
             "outlinewidth": 0,
             "ticks": ""
            },
            "type": "mesh3d"
           }
          ],
          "parcoords": [
           {
            "line": {
             "colorbar": {
              "outlinewidth": 0,
              "ticks": ""
             }
            },
            "type": "parcoords"
           }
          ],
          "pie": [
           {
            "automargin": true,
            "type": "pie"
           }
          ],
          "scatter": [
           {
            "fillpattern": {
             "fillmode": "overlay",
             "size": 10,
             "solidity": 0.2
            },
            "type": "scatter"
           }
          ],
          "scatter3d": [
           {
            "line": {
             "colorbar": {
              "outlinewidth": 0,
              "ticks": ""
             }
            },
            "marker": {
             "colorbar": {
              "outlinewidth": 0,
              "ticks": ""
             }
            },
            "type": "scatter3d"
           }
          ],
          "scattercarpet": [
           {
            "marker": {
             "colorbar": {
              "outlinewidth": 0,
              "ticks": ""
             }
            },
            "type": "scattercarpet"
           }
          ],
          "scattergeo": [
           {
            "marker": {
             "colorbar": {
              "outlinewidth": 0,
              "ticks": ""
             }
            },
            "type": "scattergeo"
           }
          ],
          "scattergl": [
           {
            "marker": {
             "colorbar": {
              "outlinewidth": 0,
              "ticks": ""
             }
            },
            "type": "scattergl"
           }
          ],
          "scattermapbox": [
           {
            "marker": {
             "colorbar": {
              "outlinewidth": 0,
              "ticks": ""
             }
            },
            "type": "scattermapbox"
           }
          ],
          "scatterpolar": [
           {
            "marker": {
             "colorbar": {
              "outlinewidth": 0,
              "ticks": ""
             }
            },
            "type": "scatterpolar"
           }
          ],
          "scatterpolargl": [
           {
            "marker": {
             "colorbar": {
              "outlinewidth": 0,
              "ticks": ""
             }
            },
            "type": "scatterpolargl"
           }
          ],
          "scatterternary": [
           {
            "marker": {
             "colorbar": {
              "outlinewidth": 0,
              "ticks": ""
             }
            },
            "type": "scatterternary"
           }
          ],
          "surface": [
           {
            "colorbar": {
             "outlinewidth": 0,
             "ticks": ""
            },
            "colorscale": [
             [
              0,
              "#0d0887"
             ],
             [
              0.1111111111111111,
              "#46039f"
             ],
             [
              0.2222222222222222,
              "#7201a8"
             ],
             [
              0.3333333333333333,
              "#9c179e"
             ],
             [
              0.4444444444444444,
              "#bd3786"
             ],
             [
              0.5555555555555556,
              "#d8576b"
             ],
             [
              0.6666666666666666,
              "#ed7953"
             ],
             [
              0.7777777777777778,
              "#fb9f3a"
             ],
             [
              0.8888888888888888,
              "#fdca26"
             ],
             [
              1,
              "#f0f921"
             ]
            ],
            "type": "surface"
           }
          ],
          "table": [
           {
            "cells": {
             "fill": {
              "color": "#EBF0F8"
             },
             "line": {
              "color": "white"
             }
            },
            "header": {
             "fill": {
              "color": "#C8D4E3"
             },
             "line": {
              "color": "white"
             }
            },
            "type": "table"
           }
          ]
         },
         "layout": {
          "annotationdefaults": {
           "arrowcolor": "#2a3f5f",
           "arrowhead": 0,
           "arrowwidth": 1
          },
          "autotypenumbers": "strict",
          "coloraxis": {
           "colorbar": {
            "outlinewidth": 0,
            "ticks": ""
           }
          },
          "colorscale": {
           "diverging": [
            [
             0,
             "#8e0152"
            ],
            [
             0.1,
             "#c51b7d"
            ],
            [
             0.2,
             "#de77ae"
            ],
            [
             0.3,
             "#f1b6da"
            ],
            [
             0.4,
             "#fde0ef"
            ],
            [
             0.5,
             "#f7f7f7"
            ],
            [
             0.6,
             "#e6f5d0"
            ],
            [
             0.7,
             "#b8e186"
            ],
            [
             0.8,
             "#7fbc41"
            ],
            [
             0.9,
             "#4d9221"
            ],
            [
             1,
             "#276419"
            ]
           ],
           "sequential": [
            [
             0,
             "#0d0887"
            ],
            [
             0.1111111111111111,
             "#46039f"
            ],
            [
             0.2222222222222222,
             "#7201a8"
            ],
            [
             0.3333333333333333,
             "#9c179e"
            ],
            [
             0.4444444444444444,
             "#bd3786"
            ],
            [
             0.5555555555555556,
             "#d8576b"
            ],
            [
             0.6666666666666666,
             "#ed7953"
            ],
            [
             0.7777777777777778,
             "#fb9f3a"
            ],
            [
             0.8888888888888888,
             "#fdca26"
            ],
            [
             1,
             "#f0f921"
            ]
           ],
           "sequentialminus": [
            [
             0,
             "#0d0887"
            ],
            [
             0.1111111111111111,
             "#46039f"
            ],
            [
             0.2222222222222222,
             "#7201a8"
            ],
            [
             0.3333333333333333,
             "#9c179e"
            ],
            [
             0.4444444444444444,
             "#bd3786"
            ],
            [
             0.5555555555555556,
             "#d8576b"
            ],
            [
             0.6666666666666666,
             "#ed7953"
            ],
            [
             0.7777777777777778,
             "#fb9f3a"
            ],
            [
             0.8888888888888888,
             "#fdca26"
            ],
            [
             1,
             "#f0f921"
            ]
           ]
          },
          "colorway": [
           "#636efa",
           "#EF553B",
           "#00cc96",
           "#ab63fa",
           "#FFA15A",
           "#19d3f3",
           "#FF6692",
           "#B6E880",
           "#FF97FF",
           "#FECB52"
          ],
          "font": {
           "color": "#2a3f5f"
          },
          "geo": {
           "bgcolor": "white",
           "lakecolor": "white",
           "landcolor": "#E5ECF6",
           "showlakes": true,
           "showland": true,
           "subunitcolor": "white"
          },
          "hoverlabel": {
           "align": "left"
          },
          "hovermode": "closest",
          "mapbox": {
           "style": "light"
          },
          "paper_bgcolor": "white",
          "plot_bgcolor": "#E5ECF6",
          "polar": {
           "angularaxis": {
            "gridcolor": "white",
            "linecolor": "white",
            "ticks": ""
           },
           "bgcolor": "#E5ECF6",
           "radialaxis": {
            "gridcolor": "white",
            "linecolor": "white",
            "ticks": ""
           }
          },
          "scene": {
           "xaxis": {
            "backgroundcolor": "#E5ECF6",
            "gridcolor": "white",
            "gridwidth": 2,
            "linecolor": "white",
            "showbackground": true,
            "ticks": "",
            "zerolinecolor": "white"
           },
           "yaxis": {
            "backgroundcolor": "#E5ECF6",
            "gridcolor": "white",
            "gridwidth": 2,
            "linecolor": "white",
            "showbackground": true,
            "ticks": "",
            "zerolinecolor": "white"
           },
           "zaxis": {
            "backgroundcolor": "#E5ECF6",
            "gridcolor": "white",
            "gridwidth": 2,
            "linecolor": "white",
            "showbackground": true,
            "ticks": "",
            "zerolinecolor": "white"
           }
          },
          "shapedefaults": {
           "line": {
            "color": "#2a3f5f"
           }
          },
          "ternary": {
           "aaxis": {
            "gridcolor": "white",
            "linecolor": "white",
            "ticks": ""
           },
           "baxis": {
            "gridcolor": "white",
            "linecolor": "white",
            "ticks": ""
           },
           "bgcolor": "#E5ECF6",
           "caxis": {
            "gridcolor": "white",
            "linecolor": "white",
            "ticks": ""
           }
          },
          "title": {
           "x": 0.05
          },
          "xaxis": {
           "automargin": true,
           "gridcolor": "white",
           "linecolor": "white",
           "ticks": "",
           "title": {
            "standoff": 15
           },
           "zerolinecolor": "white",
           "zerolinewidth": 2
          },
          "yaxis": {
           "automargin": true,
           "gridcolor": "white",
           "linecolor": "white",
           "ticks": "",
           "title": {
            "standoff": 15
           },
           "zerolinecolor": "white",
           "zerolinewidth": 2
          }
         }
        }
       }
      }
     },
     "metadata": {},
     "output_type": "display_data"
    }
   ],
   "source": [
    "# Draw the relationship of the first 50 words in 3D dimensions\n",
    "import plotly.express as px\n",
    "fig = px.scatter_3d(X[:100], x=0, y=1, z=2, color=y[:100])\n",
    "fig.show()"
   ]
  },
  {
   "cell_type": "code",
   "execution_count": null,
   "metadata": {},
   "outputs": [],
   "source": []
  }
 ],
 "metadata": {
  "kernelspec": {
   "display_name": "venv",
   "language": "python",
   "name": "python3"
  },
  "language_info": {
   "codemirror_mode": {
    "name": "ipython",
    "version": 3
   },
   "file_extension": ".py",
   "mimetype": "text/x-python",
   "name": "python",
   "nbconvert_exporter": "python",
   "pygments_lexer": "ipython3",
   "version": "3.10.12"
  }
 },
 "nbformat": 4,
 "nbformat_minor": 2
}
