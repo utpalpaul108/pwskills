{
 "cells": [
  {
   "cell_type": "markdown",
   "id": "0afff737-5ba8-443d-b417-22f9839b80bc",
   "metadata": {},
   "source": [
    "## Python Lists\n",
    "* List items are ordered, changeable, and allow duplicate values."
   ]
  },
  {
   "cell_type": "markdown",
   "id": "8c150cd8-de2c-43e9-b2a1-94a1ec5ae81f",
   "metadata": {},
   "source": [
    "#### The list() Constructor"
   ]
  },
  {
   "cell_type": "code",
   "execution_count": 2,
   "id": "22b8787b-7b50-479d-9018-202181397001",
   "metadata": {},
   "outputs": [
    {
     "name": "stdout",
     "output_type": "stream",
     "text": [
      "['Apple', 'Mango', 'Orange']\n"
     ]
    }
   ],
   "source": [
    "myList = list((\"Apple\", \"Mango\", \"Orange\"))\n",
    "print(myList)"
   ]
  },
  {
   "cell_type": "code",
   "execution_count": 3,
   "id": "6bbda3f4-707f-42cb-8193-484709f541a2",
   "metadata": {},
   "outputs": [
    {
     "name": "stdout",
     "output_type": "stream",
     "text": [
      "['Apple', 'Mango', 'Orange']\n"
     ]
    }
   ],
   "source": [
    "myList = list({\"Apple\", \"Mango\", \"Orange\"})\n",
    "print(myList)"
   ]
  },
  {
   "cell_type": "code",
   "execution_count": 5,
   "id": "51597152-73ee-4c46-9453-0ab85ac9476c",
   "metadata": {},
   "outputs": [
    {
     "name": "stdout",
     "output_type": "stream",
     "text": [
      "['name', 'email']\n"
     ]
    }
   ],
   "source": [
    "myList = list({\"name\":\"Utpal\", \"email\":\"utpalseu@gmail.com\"})\n",
    "print(myList)"
   ]
  },
  {
   "cell_type": "markdown",
   "id": "8970f4a6-07dd-42e8-88a4-6a704318a319",
   "metadata": {},
   "source": [
    "#### Range of Indexes"
   ]
  },
  {
   "cell_type": "code",
   "execution_count": 48,
   "id": "8528f6f4-a43a-471f-a64f-b90dd3caf1e6",
   "metadata": {},
   "outputs": [
    {
     "name": "stdout",
     "output_type": "stream",
     "text": [
      "['Grape', 'Jackfruit', 'Guava', 'Pineapple', 'Orange', 'Mango', 'Banana', 'Apple']\n"
     ]
    }
   ],
   "source": [
    "fruits = [\"Apple\", \"Banana\", \"Mango\", \"Orange\", \"Pineapple\", \"Guava\", \"Jackfruit\", \"Grape\"]\n",
    "print(fruits[::-1])"
   ]
  },
  {
   "cell_type": "code",
   "execution_count": 8,
   "id": "425ce6eb-46ce-4e2e-8021-cb3f9d6e4b6f",
   "metadata": {},
   "outputs": [
    {
     "name": "stdout",
     "output_type": "stream",
     "text": [
      "['Apple', 'Banana', 'Mango', 'Orange']\n"
     ]
    }
   ],
   "source": [
    "print(fruits[:4])"
   ]
  },
  {
   "cell_type": "code",
   "execution_count": 11,
   "id": "9c3a6393-3bb3-4095-9861-eedccf2b9277",
   "metadata": {},
   "outputs": [
    {
     "name": "stdout",
     "output_type": "stream",
     "text": [
      "['Pineapple', 'Guava', 'Jackfruit']\n"
     ]
    }
   ],
   "source": [
    "print(fruits[-4:-1])"
   ]
  },
  {
   "cell_type": "markdown",
   "id": "c0eeacc5-2704-429f-b420-f71aef5f21ce",
   "metadata": {},
   "source": [
    "#### Check if Item Exists"
   ]
  },
  {
   "cell_type": "code",
   "execution_count": 12,
   "id": "c21e4c35-1b77-480e-b2cf-53e9be0f9842",
   "metadata": {},
   "outputs": [
    {
     "data": {
      "text/plain": [
       "True"
      ]
     },
     "execution_count": 12,
     "metadata": {},
     "output_type": "execute_result"
    }
   ],
   "source": [
    "\"Banana\" in fruits"
   ]
  },
  {
   "cell_type": "markdown",
   "id": "6f9fd0d0-be5d-4744-8fe5-84a687efbe0c",
   "metadata": {},
   "source": [
    "#### Change Item Value"
   ]
  },
  {
   "cell_type": "code",
   "execution_count": 15,
   "id": "6c4b0f9e-5034-43f3-8118-15ab395a26e7",
   "metadata": {},
   "outputs": [
    {
     "name": "stdout",
     "output_type": "stream",
     "text": [
      "['Apple', 'Lychee', 'Mango', 'Orange', 'Pineapple', 'Guava', 'Jackfruit', 'Grape']\n"
     ]
    }
   ],
   "source": [
    "fruits[1]=\"Lychee\"\n",
    "print(fruits)"
   ]
  },
  {
   "cell_type": "markdown",
   "id": "55579c6d-2b30-447b-8fd5-337967bf59f4",
   "metadata": {},
   "source": [
    "#### Change a Range of Item Values"
   ]
  },
  {
   "cell_type": "code",
   "execution_count": 24,
   "id": "a8f748fd-189d-4633-8875-d5aa6f9a2ff9",
   "metadata": {},
   "outputs": [
    {
     "data": {
      "text/plain": [
       "['Apple',\n",
       " 'Stawbery',\n",
       " 'Mango',\n",
       " 'Orange',\n",
       " 'Pineapple',\n",
       " 'Guava',\n",
       " 'Jackfruit',\n",
       " 'Grape']"
      ]
     },
     "execution_count": 24,
     "metadata": {},
     "output_type": "execute_result"
    }
   ],
   "source": [
    "fruits[1:3] = [\"Stawbery\"]\n",
    "fruits"
   ]
  },
  {
   "cell_type": "markdown",
   "id": "8858d182-7974-46f8-acc1-55d1fcb1291e",
   "metadata": {},
   "source": [
    "#### Insert Items\n",
    "* The **insert()** method inserts an item at the specified index."
   ]
  },
  {
   "cell_type": "code",
   "execution_count": 25,
   "id": "00d80c2e-064e-4c8e-b13e-413155bbc095",
   "metadata": {},
   "outputs": [
    {
     "name": "stdout",
     "output_type": "stream",
     "text": [
      "Before: Stawbery\n",
      "After: Mango\n"
     ]
    }
   ],
   "source": [
    "print(\"Before:\",fruits[1])\n",
    "fruits.insert(1, \"Mango\")\n",
    "print(\"After:\",fruits[1])"
   ]
  },
  {
   "cell_type": "markdown",
   "id": "0a6e812f-69ed-4455-9065-ac2210108e12",
   "metadata": {},
   "source": [
    "#### Append Items\n",
    "* To add an item to the end of the list, use the **append()** method"
   ]
  },
  {
   "cell_type": "code",
   "execution_count": 27,
   "id": "765e741c-754b-4c2d-b529-2ff4c30043a6",
   "metadata": {},
   "outputs": [
    {
     "name": "stdout",
     "output_type": "stream",
     "text": [
      "['Apple', 'Mango', 'Stawbery', 'Mango', 'Orange', 'Pineapple', 'Guava', 'Jackfruit', 'Grape']\n",
      "['Apple', 'Mango', 'Stawbery', 'Mango', 'Orange', 'Pineapple', 'Guava', 'Jackfruit', 'Grape', 'Cherry']\n"
     ]
    }
   ],
   "source": [
    "print(fruits)\n",
    "fruits.append(\"Cherry\")\n",
    "print(fruits)"
   ]
  },
  {
   "cell_type": "markdown",
   "id": "adf0767d-a455-432d-b07a-878f7f1af869",
   "metadata": {},
   "source": [
    "#### Extend List\n",
    "* To append elements from another list to the current list, we hae to use the **extend()** method\n",
    "* The extend() method does not have to append lists, we can add any iterable object (tuples, sets, dictionaries etc.)"
   ]
  },
  {
   "cell_type": "code",
   "execution_count": 31,
   "id": "0abf7e24-9089-4e19-a72e-84a960e6673a",
   "metadata": {},
   "outputs": [
    {
     "name": "stdout",
     "output_type": "stream",
     "text": [
      "['Apple', 'Mango', 'Banana']\n",
      "2337964625280\n",
      "['Apple', 'Mango', 'Banana', 'Lychee', 'Cherry', 'Banana']\n",
      "2337964625280\n"
     ]
    }
   ],
   "source": [
    "fruits_listA = [\"Apple\", \"Mango\", \"Banana\"]\n",
    "fruits_listB = [\"Lychee\", \"Cherry\", \"Banana\"]\n",
    "print(fruits_listA)\n",
    "print(id(fruits_listA))\n",
    "\n",
    "fruits_listA += fruits_listB\n",
    "\n",
    "print(fruits_listA)\n",
    "print(id(fruits_listA))\n"
   ]
  },
  {
   "cell_type": "code",
   "execution_count": 30,
   "id": "f38eba71-9721-4b25-97c4-b0ed17ad5f29",
   "metadata": {},
   "outputs": [
    {
     "name": "stdout",
     "output_type": "stream",
     "text": [
      "['Apple', 'Mango', 'Banana']\n",
      "2337964592128\n",
      "['Apple', 'Mango', 'Banana', 'Lychee', 'Cherry', 'Banana']\n",
      "2337964592128\n"
     ]
    }
   ],
   "source": [
    "fruits_listA = [\"Apple\", \"Mango\", \"Banana\"]\n",
    "fruits_listB = [\"Lychee\", \"Cherry\", \"Banana\"]\n",
    "print(fruits_listA)\n",
    "print(id(fruits_listA))\n",
    "\n",
    "fruits_listA.extend(fruits_listB)\n",
    "\n",
    "print(fruits_listA)\n",
    "print(id(fruits_listA))\n"
   ]
  },
  {
   "cell_type": "code",
   "execution_count": 34,
   "id": "62a24d36-a2e7-48a8-871b-964787604417",
   "metadata": {},
   "outputs": [
    {
     "name": "stdout",
     "output_type": "stream",
     "text": [
      "['Apple', 'Mango', 'Banana']\n",
      "2337964592128\n",
      "['Apple', 'Mango', 'Banana', 'Lychee', 'Cherry', 'Banana']\n",
      "2337964592128\n"
     ]
    }
   ],
   "source": [
    "fruits_listA = [\"Apple\", \"Mango\", \"Banana\"]\n",
    "fruits_listB = (\"Lychee\", \"Cherry\", \"Banana\")\n",
    "print(fruits_listA)\n",
    "print(id(fruits_listA))\n",
    "\n",
    "fruits_listA.extend(fruits_listB)\n",
    "\n",
    "print(fruits_listA)\n",
    "print(id(fruits_listA))\n"
   ]
  },
  {
   "cell_type": "code",
   "execution_count": 35,
   "id": "bbae4b46-14d7-4698-aeb6-1ac01dea9b76",
   "metadata": {},
   "outputs": [
    {
     "name": "stdout",
     "output_type": "stream",
     "text": [
      "['Apple', 'Mango', 'Banana']\n",
      "2337967710016\n",
      "['Apple', 'Mango', 'Banana', 'Banana', 'Lychee', 'Cherry']\n",
      "2337967710016\n"
     ]
    }
   ],
   "source": [
    "fruits_listA = [\"Apple\", \"Mango\", \"Banana\"]\n",
    "fruits_listB = {\"Lychee\", \"Cherry\", \"Banana\"}\n",
    "print(fruits_listA)\n",
    "print(id(fruits_listA))\n",
    "\n",
    "fruits_listA.extend(fruits_listB)\n",
    "\n",
    "print(fruits_listA)\n",
    "print(id(fruits_listA))\n"
   ]
  },
  {
   "cell_type": "markdown",
   "id": "99cec298-6982-4781-9668-5c0195cf56d8",
   "metadata": {},
   "source": [
    "#### Remove Specified Item"
   ]
  },
  {
   "cell_type": "code",
   "execution_count": 37,
   "id": "848d6bdc-eae3-419b-b79d-18b5c6caf2e5",
   "metadata": {},
   "outputs": [
    {
     "name": "stdout",
     "output_type": "stream",
     "text": [
      "['Apple', 'Mango', 'Stawbery', 'Mango', 'Orange', 'Pineapple', 'Guava', 'Jackfruit', 'Grape', 'Cherry']\n",
      "['Apple', 'Stawbery', 'Mango', 'Orange', 'Pineapple', 'Guava', 'Jackfruit', 'Grape', 'Cherry']\n"
     ]
    }
   ],
   "source": [
    "print(fruits)\n",
    "fruits.remove(\"Mango\")\n",
    "print(fruits)"
   ]
  },
  {
   "cell_type": "markdown",
   "id": "6f3f6a6c-dc3f-4789-873f-160189b18ef3",
   "metadata": {},
   "source": [
    "#### Remove Specified Index\n",
    "* The pop() method removes the specified index.\n",
    "* If we do not specify the index, the pop() method removes the last item."
   ]
  },
  {
   "cell_type": "code",
   "execution_count": 39,
   "id": "1c9750b2-f83a-4d1a-b500-19cb6c446857",
   "metadata": {},
   "outputs": [
    {
     "name": "stdout",
     "output_type": "stream",
     "text": [
      "['Apple', 'Stawbery', 'Mango', 'Orange', 'Pineapple', 'Guava', 'Jackfruit', 'Grape', 'Cherry']\n",
      "['Apple', 'Mango', 'Orange', 'Pineapple', 'Guava', 'Jackfruit', 'Grape', 'Cherry']\n"
     ]
    }
   ],
   "source": [
    "print(fruits)\n",
    "fruits.pop(1)\n",
    "print(fruits)"
   ]
  },
  {
   "cell_type": "code",
   "execution_count": 40,
   "id": "ceecea97-01f6-4358-b8a3-89d8bef613ac",
   "metadata": {},
   "outputs": [
    {
     "name": "stdout",
     "output_type": "stream",
     "text": [
      "['Apple', 'Mango', 'Orange', 'Pineapple', 'Guava', 'Jackfruit', 'Grape', 'Cherry']\n",
      "['Apple', 'Mango', 'Orange', 'Pineapple', 'Guava', 'Jackfruit', 'Grape']\n"
     ]
    }
   ],
   "source": [
    "print(fruits)\n",
    "fruits.pop()\n",
    "print(fruits)"
   ]
  },
  {
   "cell_type": "markdown",
   "id": "c6e1294a-b3f2-481a-a491-ddf78a4fbc92",
   "metadata": {},
   "source": [
    "The **del** keyword also removes the specified index"
   ]
  },
  {
   "cell_type": "code",
   "execution_count": 41,
   "id": "a17d9de3-0f92-4d75-b1f9-5ec1dd8a37ae",
   "metadata": {},
   "outputs": [
    {
     "name": "stdout",
     "output_type": "stream",
     "text": [
      "['Apple', 'Mango', 'Orange', 'Pineapple', 'Guava', 'Jackfruit', 'Grape']\n",
      "['Apple', 'Mango', 'Pineapple', 'Guava', 'Jackfruit', 'Grape']\n"
     ]
    }
   ],
   "source": [
    "print(fruits)\n",
    "del fruits[2]\n",
    "print(fruits)"
   ]
  },
  {
   "cell_type": "markdown",
   "id": "5a64f17b-8be8-4c08-8ccf-d957d1ac5504",
   "metadata": {},
   "source": [
    "The **del** keyword can also delete the list completely."
   ]
  },
  {
   "cell_type": "code",
   "execution_count": 45,
   "id": "17a4bf63-c7b8-4ba2-97e8-c030719b9964",
   "metadata": {},
   "outputs": [
    {
     "ename": "NameError",
     "evalue": "name 'fruits' is not defined",
     "output_type": "error",
     "traceback": [
      "\u001b[1;31m---------------------------------------------------------------------------\u001b[0m",
      "\u001b[1;31mNameError\u001b[0m                                 Traceback (most recent call last)",
      "Cell \u001b[1;32mIn[45], line 2\u001b[0m\n\u001b[0;32m      1\u001b[0m \u001b[38;5;28;01mdel\u001b[39;00m fruits\n\u001b[1;32m----> 2\u001b[0m \u001b[38;5;28mprint\u001b[39m(\u001b[43mfruits\u001b[49m)\n",
      "\u001b[1;31mNameError\u001b[0m: name 'fruits' is not defined"
     ]
    }
   ],
   "source": [
    "del fruits\n",
    "print(fruits)"
   ]
  },
  {
   "cell_type": "markdown",
   "id": "50edccb2-06b7-49b3-bbc8-c03249d8cba7",
   "metadata": {},
   "source": [
    "#### Clear the List"
   ]
  },
  {
   "cell_type": "code",
   "execution_count": 47,
   "id": "491852fa-246b-40b7-9330-efdb0805c3fe",
   "metadata": {},
   "outputs": [
    {
     "name": "stdout",
     "output_type": "stream",
     "text": [
      "['Apple', 'Banana', 'Mango', 'Orange', 'Pineapple', 'Guava', 'Jackfruit', 'Grape']\n",
      "[]\n"
     ]
    }
   ],
   "source": [
    "print(fruits)\n",
    "fruits.clear()\n",
    "print(fruits)"
   ]
  },
  {
   "cell_type": "markdown",
   "id": "b9ab4978-df69-4a00-ad30-2e07f0f9a60c",
   "metadata": {},
   "source": [
    "#### For Loop"
   ]
  },
  {
   "cell_type": "code",
   "execution_count": 49,
   "id": "c5409911-631d-4f52-a903-205cea799aed",
   "metadata": {},
   "outputs": [
    {
     "name": "stdout",
     "output_type": "stream",
     "text": [
      "Apple\n",
      "Banana\n",
      "Mango\n",
      "Orange\n",
      "Pineapple\n",
      "Guava\n",
      "Jackfruit\n",
      "Grape\n"
     ]
    }
   ],
   "source": [
    "for fruit in fruits:\n",
    "    print(fruit)"
   ]
  },
  {
   "cell_type": "code",
   "execution_count": 50,
   "id": "00b59610-cb78-4cfa-8237-78b85c6f9284",
   "metadata": {},
   "outputs": [
    {
     "name": "stdout",
     "output_type": "stream",
     "text": [
      "Apple\n",
      "Banana\n",
      "Mango\n",
      "Orange\n",
      "Pineapple\n",
      "Guava\n",
      "Jackfruit\n",
      "Grape\n"
     ]
    }
   ],
   "source": [
    "for i in range(len(fruits)):\n",
    "    print(fruits[i])"
   ]
  },
  {
   "cell_type": "markdown",
   "id": "d10b9c06-0da3-4916-9df7-c8a3653c84c1",
   "metadata": {},
   "source": [
    "#### While Loop"
   ]
  },
  {
   "cell_type": "code",
   "execution_count": 51,
   "id": "06437aa4-5917-4b3e-9d06-87e46e1ba6df",
   "metadata": {},
   "outputs": [
    {
     "name": "stdout",
     "output_type": "stream",
     "text": [
      "Apple\n",
      "Banana\n",
      "Mango\n",
      "Orange\n",
      "Pineapple\n",
      "Guava\n",
      "Jackfruit\n",
      "Grape\n"
     ]
    }
   ],
   "source": [
    "i=0\n",
    "while(i<len(fruits)):\n",
    "    print(fruits[i])\n",
    "    i+=1"
   ]
  },
  {
   "cell_type": "markdown",
   "id": "bc54c140-e50c-4413-b1d4-e4c5dfc81d47",
   "metadata": {},
   "source": [
    "#### List Comprehension\n",
    "* List comprehension offers a shorter syntax when you want to create a new list based on the values of an existing list."
   ]
  },
  {
   "cell_type": "code",
   "execution_count": 58,
   "id": "678500e5-a1f6-4ce4-91f9-a5f53580505e",
   "metadata": {},
   "outputs": [
    {
     "name": "stdout",
     "output_type": "stream",
     "text": [
      "[1, 2, 3, 4, 5, 6, 7, 8]\n",
      "2337969388160\n",
      "[1, 4, 9, 16, 25, 36, 49, 64]\n",
      "2337969386240\n"
     ]
    }
   ],
   "source": [
    "myList = [1,2,3,4,5,6,7,8]\n",
    "print(myList)\n",
    "print(id(myList))\n",
    "\n",
    "newList = [x**2 for x in myList]\n",
    "\n",
    "print(newList)\n",
    "print(id(newList))"
   ]
  },
  {
   "cell_type": "code",
   "execution_count": 61,
   "id": "621a3bcb-a34e-4815-8afd-772a489a58e0",
   "metadata": {},
   "outputs": [
    {
     "name": "stdout",
     "output_type": "stream",
     "text": [
      "[1, 2, 3, 4, 5, 6, 7, 8]\n",
      "2337969453760\n",
      "['ODD', 'EVEN', 'ODD', 'EVEN', 'ODD', 'EVEN', 'ODD']\n",
      "2337968864192\n"
     ]
    }
   ],
   "source": [
    "myList = [1,2,3,4,5,6,7,8]\n",
    "print(myList)\n",
    "print(id(myList))\n",
    "\n",
    "newList = [\"EVEN\" if x%2==0 else \"ODD\" for x in myList if x<=7]\n",
    "\n",
    "print(newList)\n",
    "print(id(newList))"
   ]
  },
  {
   "cell_type": "markdown",
   "id": "e396c0b0-1ef9-4ac0-93eb-9c0200934d1b",
   "metadata": {},
   "source": [
    "#### Sort List Alphanumerically\n",
    "* List objects have a **sort()** method that will sort the list alphanumerically, ascending, by default."
   ]
  },
  {
   "cell_type": "code",
   "execution_count": 72,
   "id": "bf40d262-e63d-4f7f-9a7c-3a09499f171a",
   "metadata": {},
   "outputs": [
    {
     "name": "stdout",
     "output_type": "stream",
     "text": [
      "['Apple', 'Banana', 'Cherry', 'Grape', 'Guava', 'Jackfruit', 'Mango', 'Orange', 'Pineapple', 'pepaya', 'nut']\n",
      "['Apple', 'Banana', 'Cherry', 'Grape', 'Guava', 'Jackfruit', 'Mango', 'Orange', 'Pineapple', 'nut', 'pepaya']\n"
     ]
    }
   ],
   "source": [
    "print(fruits)\n",
    "fruits.sort()\n",
    "print(fruits)"
   ]
  },
  {
   "cell_type": "code",
   "execution_count": 73,
   "id": "dc4acee5-0b64-4fe5-ab9b-9ac29579110d",
   "metadata": {},
   "outputs": [
    {
     "name": "stdout",
     "output_type": "stream",
     "text": [
      "[10, 100, 20, 5, 200, 150, 40]\n",
      "[5, 10, 20, 40, 100, 150, 200]\n"
     ]
    }
   ],
   "source": [
    "myList = [10,100,20,5,200,150,40]\n",
    "print(myList)\n",
    "myList.sort()\n",
    "print(myList)"
   ]
  },
  {
   "cell_type": "code",
   "execution_count": 74,
   "id": "4cd2185c-4f35-4481-98f1-f3e3524aa680",
   "metadata": {},
   "outputs": [
    {
     "name": "stdout",
     "output_type": "stream",
     "text": [
      "['Apple', 'Banana', 'Cherry', 'Grape', 'Guava', 'Jackfruit', 'Mango', 'Orange', 'Pineapple', 'nut', 'pepaya']\n",
      "['pepaya', 'nut', 'Pineapple', 'Orange', 'Mango', 'Jackfruit', 'Guava', 'Grape', 'Cherry', 'Banana', 'Apple']\n"
     ]
    }
   ],
   "source": [
    "print(fruits)\n",
    "fruits.sort(reverse=True)\n",
    "print(fruits)"
   ]
  },
  {
   "cell_type": "code",
   "execution_count": 75,
   "id": "67cc89e4-6112-424c-b563-051d9dac73bb",
   "metadata": {},
   "outputs": [
    {
     "name": "stdout",
     "output_type": "stream",
     "text": [
      "[10, 100, 20, 5, 200, 150, 40]\n",
      "[200, 150, 100, 40, 20, 10, 5]\n"
     ]
    }
   ],
   "source": [
    "myList = [10,100,20,5,200,150,40]\n",
    "print(myList)\n",
    "myList.sort(reverse=True)\n",
    "print(myList)"
   ]
  },
  {
   "cell_type": "markdown",
   "id": "3f09ec55-264d-48f4-a5e7-938524178a5e",
   "metadata": {},
   "source": [
    "#### Case Insensitive Sort\n",
    "* By default the **sort()** method is case sensitive, resulting in all capital letters being sorted before lower case letters."
   ]
  },
  {
   "cell_type": "code",
   "execution_count": 81,
   "id": "1c012660-0adf-4f7e-910d-5b3d4f2bccdc",
   "metadata": {},
   "outputs": [
    {
     "name": "stdout",
     "output_type": "stream",
     "text": [
      "['pepaya', 'nut', 'Pineapple', 'orange', 'Mango', 'Jackfruit', 'Guava', 'Grape', 'cherry', 'Banana', 'Apple']\n",
      "['Apple', 'Banana', 'cherry', 'Grape', 'Guava', 'Jackfruit', 'Mango', 'nut', 'orange', 'pepaya', 'Pineapple']\n"
     ]
    }
   ],
   "source": [
    "print(fruits)\n",
    "fruits.sort(key = str.lower)\n",
    "print(fruits)"
   ]
  },
  {
   "cell_type": "markdown",
   "id": "56cd4cd6-6806-4085-9318-3a854b2f370c",
   "metadata": {},
   "source": [
    "#### Customize Sort Function\n",
    "* We can also customize your own function by using the keyword argument **key = function**"
   ]
  },
  {
   "cell_type": "code",
   "execution_count": 89,
   "id": "b9a69962-5193-44d1-9d8b-26242979c27a",
   "metadata": {},
   "outputs": [
    {
     "name": "stdout",
     "output_type": "stream",
     "text": [
      "['Apple', 'Banana', 'cherry', 'Grape', 'Guava', 'Jackfruit', 'Mango', 'nut', 'orange', 'pepaya', 'Pineapple']\n",
      "['Apple', 'Banana', 'cherry', 'Grape', 'Guava', 'Jackfruit', 'Mango', 'nut', 'orange', 'pepaya', 'Pineapple']\n"
     ]
    }
   ],
   "source": [
    "print(fruits)\n",
    "fruits.sort(key = str.upper)\n",
    "print(fruits)"
   ]
  },
  {
   "cell_type": "code",
   "execution_count": 93,
   "id": "100dd413-12fe-466b-8db4-008f24bce4bc",
   "metadata": {},
   "outputs": [
    {
     "name": "stdout",
     "output_type": "stream",
     "text": [
      "[50, 100, -40, 30, -30, 150]\n",
      "[50, -40, 30, -30, 100, 150]\n"
     ]
    }
   ],
   "source": [
    "myList = [50,100, -40, 30, -30, 150]\n",
    "print(myList)\n",
    "def myFunc(n):\n",
    "    return abs(abs(n)-50)\n",
    "myList.sort(key = myFunc)\n",
    "print(myList)"
   ]
  },
  {
   "cell_type": "markdown",
   "id": "cd70de9e-35a3-41ec-914b-c6d859103658",
   "metadata": {},
   "source": [
    "#### Reverse Order"
   ]
  },
  {
   "cell_type": "code",
   "execution_count": 83,
   "id": "73fc28a6-fcd2-4984-9640-857f4fcd38c5",
   "metadata": {},
   "outputs": [
    {
     "name": "stdout",
     "output_type": "stream",
     "text": [
      "['Apple', 'Banana', 'cherry', 'Grape', 'Guava', 'Jackfruit', 'Mango', 'nut', 'orange', 'pepaya', 'Pineapple']\n",
      "['Pineapple', 'pepaya', 'orange', 'nut', 'Mango', 'Jackfruit', 'Guava', 'Grape', 'cherry', 'Banana', 'Apple']\n"
     ]
    }
   ],
   "source": [
    "print(fruits)\n",
    "fruits.reverse()\n",
    "print(fruits)"
   ]
  },
  {
   "cell_type": "markdown",
   "id": "e7d74e8a-907b-4896-acf3-6da404f29e4c",
   "metadata": {},
   "source": [
    "#### Copy a List"
   ]
  },
  {
   "cell_type": "code",
   "execution_count": 96,
   "id": "534ab250-6eb3-4dfb-928f-b6365cbe272d",
   "metadata": {},
   "outputs": [
    {
     "name": "stdout",
     "output_type": "stream",
     "text": [
      "['Apple', 'Banana', 'cherry', 'Grape', 'Guava', 'Jackfruit', 'Mango', 'nut', 'orange', 'pepaya', 'Pineapple']\n",
      "2337964959040\n",
      "['Apple', 'Banana', 'cherry', 'Grape', 'Guava', 'Jackfruit', 'Mango', 'nut', 'orange', 'pepaya', 'Pineapple']\n",
      "2337966125696\n"
     ]
    }
   ],
   "source": [
    "print(fruits)\n",
    "print(id(fruits))\n",
    "\n",
    "new_fruits = fruits.copy()\n",
    "\n",
    "print(new_fruits)\n",
    "print(id(new_fruits))"
   ]
  },
  {
   "cell_type": "markdown",
   "id": "ba43dccd-e892-412e-9478-46923d2af785",
   "metadata": {},
   "source": [
    "Another way to make a copy is to use the built-in method **list()**"
   ]
  },
  {
   "cell_type": "code",
   "execution_count": 97,
   "id": "cbcfdd47-d85b-4145-8325-62f65ceb98e7",
   "metadata": {},
   "outputs": [
    {
     "name": "stdout",
     "output_type": "stream",
     "text": [
      "['Apple', 'Banana', 'cherry', 'Grape', 'Guava', 'Jackfruit', 'Mango', 'nut', 'orange', 'pepaya', 'Pineapple']\n",
      "2337964959040\n",
      "['Apple', 'Banana', 'cherry', 'Grape', 'Guava', 'Jackfruit', 'Mango', 'nut', 'orange', 'pepaya', 'Pineapple']\n",
      "2337969624960\n"
     ]
    }
   ],
   "source": [
    "print(fruits)\n",
    "print(id(fruits))\n",
    "\n",
    "new_fruits = list(fruits)\n",
    "\n",
    "print(new_fruits)\n",
    "print(id(new_fruits))"
   ]
  },
  {
   "cell_type": "markdown",
   "id": "b63b86c5-98e0-4cfc-8755-d0d598796789",
   "metadata": {},
   "source": [
    "#### Join Two Lists"
   ]
  },
  {
   "cell_type": "code",
   "execution_count": 98,
   "id": "f984f8a9-87f0-406c-86b5-35ec0a9ff559",
   "metadata": {},
   "outputs": [
    {
     "name": "stdout",
     "output_type": "stream",
     "text": [
      "['Apple', 'Mango', 'Banana', 'Lychee', 'Cherry', 'Banana']\n"
     ]
    }
   ],
   "source": [
    "fruits_listA = [\"Apple\", \"Mango\", \"Banana\"]\n",
    "fruits_listB = [\"Lychee\", \"Cherry\", \"Banana\"]\n",
    "\n",
    "all_fruits = fruits_listA + fruits_listB\n",
    "print(all_fruits)"
   ]
  },
  {
   "cell_type": "code",
   "execution_count": 99,
   "id": "41f9579c-20f6-4425-a875-f34bdcf37a6b",
   "metadata": {},
   "outputs": [
    {
     "name": "stdout",
     "output_type": "stream",
     "text": [
      "['Lychee', 'Cherry', 'Banana']\n",
      "['Lychee', 'Cherry', 'Banana', 'Apple', 'Mango', 'Banana']\n"
     ]
    }
   ],
   "source": [
    "print(fruits_listB)\n",
    "for fruit in fruits_listA:\n",
    "    fruits_listB.append(fruit)\n",
    "print(fruits_listB)"
   ]
  },
  {
   "cell_type": "code",
   "execution_count": 100,
   "id": "7f48a40c-950a-4b86-ac75-aeba5d84508e",
   "metadata": {},
   "outputs": [
    {
     "name": "stdout",
     "output_type": "stream",
     "text": [
      "['Apple', 'Mango', 'Banana']\n",
      "['Apple', 'Mango', 'Banana', 'Lychee', 'Cherry', 'Banana']\n"
     ]
    }
   ],
   "source": [
    "fruits_listA = [\"Apple\", \"Mango\", \"Banana\"]\n",
    "fruits_listB = [\"Lychee\", \"Cherry\", \"Banana\"]\n",
    "print(fruits_listA)\n",
    "fruits_listA.extend(fruits_listB)\n",
    "print(fruits_listA)"
   ]
  },
  {
   "cell_type": "markdown",
   "id": "49199da9-6449-493f-828d-453286796dd0",
   "metadata": {},
   "source": [
    "#### List Methods"
   ]
  },
  {
   "cell_type": "markdown",
   "id": "a70c478b-10cc-4d6a-93e6-bcdbc283c1d2",
   "metadata": {},
   "source": [
    "**append()** : Adds an element at the end of the list"
   ]
  },
  {
   "cell_type": "code",
   "execution_count": 102,
   "id": "4ca28246-ff98-4be1-bad3-9774b5787f5e",
   "metadata": {},
   "outputs": [
    {
     "name": "stdout",
     "output_type": "stream",
     "text": [
      "['Apple', 'Mango', 'Banana', 'Orange']\n"
     ]
    }
   ],
   "source": [
    "fruits= [\"Apple\", \"Mango\", \"Banana\"]\n",
    "fruits.append(\"Orange\")\n",
    "print(fruits)"
   ]
  },
  {
   "cell_type": "markdown",
   "id": "e9e24ebe-eab2-4cb5-aa5b-977ccc15f2fd",
   "metadata": {},
   "source": [
    "**clear()** : Removes all the elements from the list"
   ]
  },
  {
   "cell_type": "code",
   "execution_count": 103,
   "id": "56ac8dfb-360b-42e0-a4ee-88bd670fd02e",
   "metadata": {},
   "outputs": [
    {
     "name": "stdout",
     "output_type": "stream",
     "text": [
      "['Apple', 'Mango', 'Banana']\n",
      "[]\n"
     ]
    }
   ],
   "source": [
    "fruits= [\"Apple\", \"Mango\", \"Banana\"]\n",
    "print(fruits)\n",
    "fruits.clear()\n",
    "print(fruits)"
   ]
  },
  {
   "cell_type": "markdown",
   "id": "116c07f9-a842-47b3-a7fd-e65adbb4f534",
   "metadata": {},
   "source": [
    "**copy()** : Returns a copy of the list"
   ]
  },
  {
   "cell_type": "code",
   "execution_count": 104,
   "id": "e3be7769-8856-4722-9e27-40d77d9adad3",
   "metadata": {},
   "outputs": [
    {
     "name": "stdout",
     "output_type": "stream",
     "text": [
      "['Apple', 'Mango', 'Banana']\n",
      "2337969451328\n",
      "['Apple', 'Mango', 'Banana']\n",
      "2337965951616\n"
     ]
    }
   ],
   "source": [
    "fruits= [\"Apple\", \"Mango\", \"Banana\"]\n",
    "new_fruits = fruits.copy()\n",
    "print(fruits)\n",
    "print(id(fruits))\n",
    "print(new_fruits)\n",
    "print(id(new_fruits))"
   ]
  },
  {
   "cell_type": "markdown",
   "id": "ac5407ad-f4e9-4cfc-8fc3-826fc51011b8",
   "metadata": {},
   "source": [
    "**count()** : Returns the number of elements with the specified value"
   ]
  },
  {
   "cell_type": "code",
   "execution_count": 106,
   "id": "780103f1-ab8b-47f2-815d-48ab47d5d2ee",
   "metadata": {},
   "outputs": [
    {
     "name": "stdout",
     "output_type": "stream",
     "text": [
      "2\n"
     ]
    }
   ],
   "source": [
    "fruits= [\"Apple\", \"Mango\", \"Banana\", \"Mango\"]\n",
    "print(fruits.count(\"Mango\"))"
   ]
  },
  {
   "cell_type": "markdown",
   "id": "ce1da71d-e44b-4094-b917-bf113c4914c9",
   "metadata": {},
   "source": [
    "**extend()** : Add the elements of a list (or any iterable), to the end of the current list"
   ]
  },
  {
   "cell_type": "code",
   "execution_count": 107,
   "id": "453eea88-ef80-4e16-8a30-0987db4180fc",
   "metadata": {},
   "outputs": [
    {
     "name": "stdout",
     "output_type": "stream",
     "text": [
      "['Apple', 'Mango', 'Banana']\n",
      "['Apple', 'Mango', 'Banana', 'Lychee', 'Cherry', 'Banana']\n"
     ]
    }
   ],
   "source": [
    "fruits_listA = [\"Apple\", \"Mango\", \"Banana\"]\n",
    "fruits_listB = [\"Lychee\", \"Cherry\", \"Banana\"]\n",
    "print(fruits_listA)\n",
    "fruits_listA.extend(fruits_listB)\n",
    "print(fruits_listA)"
   ]
  },
  {
   "cell_type": "markdown",
   "id": "b5edbe53-320e-4934-ac55-c549235679f0",
   "metadata": {},
   "source": [
    "**index()** : Returns the index of the first element with the specified value"
   ]
  },
  {
   "cell_type": "code",
   "execution_count": 108,
   "id": "775fc1d1-e0ee-4955-8f89-151159a362bb",
   "metadata": {},
   "outputs": [
    {
     "name": "stdout",
     "output_type": "stream",
     "text": [
      "1\n"
     ]
    }
   ],
   "source": [
    "fruits= [\"Apple\", \"Mango\", \"Banana\", \"Mango\"]\n",
    "print(fruits.index(\"Mango\"))"
   ]
  },
  {
   "cell_type": "markdown",
   "id": "8200f3e4-a727-4c8c-8499-037edd8ef3b8",
   "metadata": {},
   "source": [
    "**insert()** : Adds an element at the specified position"
   ]
  },
  {
   "cell_type": "code",
   "execution_count": 109,
   "id": "565a5040-8775-4ffb-b96d-f6150ed746c4",
   "metadata": {},
   "outputs": [
    {
     "name": "stdout",
     "output_type": "stream",
     "text": [
      "['Lemon', 'Apple', 'Mango', 'Banana', 'Mango']\n"
     ]
    }
   ],
   "source": [
    "fruits= [\"Apple\", \"Mango\", \"Banana\", \"Mango\"]\n",
    "fruits.insert(0, \"Lemon\")\n",
    "print(fruits)"
   ]
  },
  {
   "cell_type": "markdown",
   "id": "879a561b-d1bc-444d-8314-dff7b1c8f233",
   "metadata": {},
   "source": [
    "**pop()** : Removes the element at the specified position"
   ]
  },
  {
   "cell_type": "code",
   "execution_count": 111,
   "id": "b550114d-fc94-4015-a025-88443899a2a4",
   "metadata": {},
   "outputs": [
    {
     "name": "stdout",
     "output_type": "stream",
     "text": [
      "['Apple', 'Mango', 'Banana', 'Mango', 'Pineapple']\n",
      "['Apple', 'Banana', 'Mango', 'Pineapple']\n",
      "['Apple', 'Banana', 'Mango']\n"
     ]
    }
   ],
   "source": [
    "fruits= [\"Apple\", \"Mango\", \"Banana\", \"Mango\",\"Pineapple\"]\n",
    "print(fruits)\n",
    "fruits.pop(1)\n",
    "print(fruits)\n",
    "fruits.pop()\n",
    "print(fruits)"
   ]
  },
  {
   "cell_type": "markdown",
   "id": "dd6cfb9f-39c9-4b01-ab3c-17beca2bd844",
   "metadata": {},
   "source": [
    "**remove()** : Removes the item with the specified value"
   ]
  },
  {
   "cell_type": "code",
   "execution_count": 114,
   "id": "c2d88a6b-4adf-4733-81cb-52bab9174609",
   "metadata": {},
   "outputs": [
    {
     "name": "stdout",
     "output_type": "stream",
     "text": [
      "['Apple', 'Mango', 'Banana', 'Mango', 'Pineapple']\n",
      "['Apple', 'Banana', 'Mango', 'Pineapple']\n"
     ]
    }
   ],
   "source": [
    "fruits= [\"Apple\", \"Mango\", \"Banana\", \"Mango\",\"Pineapple\"]\n",
    "print(fruits)\n",
    "fruits.remove(\"Mango\")\n",
    "print(fruits)"
   ]
  },
  {
   "cell_type": "markdown",
   "id": "d0505ab0-d0f2-4b62-85b9-ce873838e6fc",
   "metadata": {},
   "source": [
    "**reverse()** : Reverses the order of the list"
   ]
  },
  {
   "cell_type": "code",
   "execution_count": 116,
   "id": "b0bfe289-1fe8-429d-955f-348fba55f751",
   "metadata": {},
   "outputs": [
    {
     "name": "stdout",
     "output_type": "stream",
     "text": [
      "['Pineapple', 'Mango', 'Banana', 'Mango', 'Apple']\n"
     ]
    }
   ],
   "source": [
    "fruits= [\"Apple\", \"Mango\", \"Banana\", \"Mango\",\"Pineapple\"]\n",
    "fruits.reverse()\n",
    "print(fruits)"
   ]
  },
  {
   "cell_type": "markdown",
   "id": "dad64c6c-aa0e-4353-aca7-97ad54d1134a",
   "metadata": {},
   "source": [
    "**sort()** : Sorts the list"
   ]
  },
  {
   "cell_type": "code",
   "execution_count": 117,
   "id": "8ad6313c-ee07-47d8-83e6-c8f898fa3ee1",
   "metadata": {},
   "outputs": [
    {
     "name": "stdout",
     "output_type": "stream",
     "text": [
      "['Apple', 'banana', 'Mango', 'Mango', 'Pineapple']\n"
     ]
    }
   ],
   "source": [
    "fruits= [\"Apple\", \"Mango\", \"banana\", \"Mango\",\"Pineapple\"]\n",
    "fruits.sort(key=str.lower)\n",
    "print(fruits)"
   ]
  },
  {
   "cell_type": "code",
   "execution_count": 118,
   "id": "b150f79d-e569-4cbc-a375-5030e9dc9777",
   "metadata": {},
   "outputs": [
    {
     "name": "stdout",
     "output_type": "stream",
     "text": [
      "['Pineapple', 'Mango', 'Mango', 'banana', 'Apple']\n"
     ]
    }
   ],
   "source": [
    "fruits= [\"Apple\", \"Mango\", \"banana\", \"Mango\",\"Pineapple\"]\n",
    "fruits.sort(reverse=True,key=str.lower)\n",
    "print(fruits)"
   ]
  },
  {
   "cell_type": "code",
   "execution_count": null,
   "id": "d65e3e56-1c83-4a09-97b8-a8fa1b734e63",
   "metadata": {},
   "outputs": [],
   "source": []
  }
 ],
 "metadata": {
  "kernelspec": {
   "display_name": "Python 3 (ipykernel)",
   "language": "python",
   "name": "python3"
  },
  "language_info": {
   "codemirror_mode": {
    "name": "ipython",
    "version": 3
   },
   "file_extension": ".py",
   "mimetype": "text/x-python",
   "name": "python",
   "nbconvert_exporter": "python",
   "pygments_lexer": "ipython3",
   "version": "3.10.9"
  }
 },
 "nbformat": 4,
 "nbformat_minor": 5
}
