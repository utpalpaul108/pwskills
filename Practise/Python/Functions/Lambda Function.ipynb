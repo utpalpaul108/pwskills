{
 "cells": [
  {
   "cell_type": "markdown",
   "id": "d6af02aa-d198-4036-babd-171784d3ba97",
   "metadata": {},
   "source": [
    "## **Lambda / Anonymous Function**"
   ]
  },
  {
   "cell_type": "code",
   "execution_count": 2,
   "id": "1ec0706f-154c-4c59-baa5-31ac9abcba6b",
   "metadata": {},
   "outputs": [
    {
     "name": "stdout",
     "output_type": "stream",
     "text": [
      "15\n"
     ]
    }
   ],
   "source": [
    "x = lambda x: x+10\n",
    "print(x(5))"
   ]
  },
  {
   "cell_type": "code",
   "execution_count": 4,
   "id": "0e4c30a8-0f7c-4259-b8fc-da92a79f7d23",
   "metadata": {},
   "outputs": [
    {
     "name": "stdout",
     "output_type": "stream",
     "text": [
      "50\n"
     ]
    }
   ],
   "source": [
    "x = lambda x,y: x*y\n",
    "print(x(10,5))"
   ]
  },
  {
   "cell_type": "code",
   "execution_count": 43,
   "id": "10b845a9-73a7-4218-b6a7-2bd6985de556",
   "metadata": {},
   "outputs": [
    {
     "data": {
      "text/plain": [
       "20"
      ]
     },
     "execution_count": 43,
     "metadata": {},
     "output_type": "execute_result"
    }
   ],
   "source": [
    "max_of_two = lambda x,y: x if x>y else y\n",
    "max_of_two(10,20)"
   ]
  },
  {
   "cell_type": "markdown",
   "id": "de6d9e86-e36a-449c-8e59-51a4c897d04b",
   "metadata": {},
   "source": [
    "#### Function inside another function"
   ]
  },
  {
   "cell_type": "code",
   "execution_count": 12,
   "id": "13764f1b-3e03-463b-af6a-27c665e2d64c",
   "metadata": {},
   "outputs": [
    {
     "name": "stdout",
     "output_type": "stream",
     "text": [
      "20\n",
      "30\n"
     ]
    }
   ],
   "source": [
    "def myFunc(n):\n",
    "    return lambda a: a*n\n",
    "\n",
    "myDoubler = myFunc(2)\n",
    "myTripler = myFunc(3)\n",
    "\n",
    "print(myDoubler(10))\n",
    "print(myTripler(10))"
   ]
  },
  {
   "cell_type": "markdown",
   "id": "88fc38e0-bdb5-4929-adde-1d21abc59226",
   "metadata": {},
   "source": [
    "## **Map Function**"
   ]
  },
  {
   "cell_type": "code",
   "execution_count": 46,
   "id": "6e721969-ac45-4446-a9ca-75b707a452ca",
   "metadata": {},
   "outputs": [
    {
     "name": "stdout",
     "output_type": "stream",
     "text": [
      "[100, 400, 900, 1600, 2500]\n"
     ]
    }
   ],
   "source": [
    "def multiply_num(num):\n",
    "    return num**2\n",
    "\n",
    "list01 = [10,20,30,40,50]\n",
    "\n",
    "list02 = list(map(multiply_num, list01))\n",
    "print(list02)\n",
    "    "
   ]
  },
  {
   "cell_type": "code",
   "execution_count": 41,
   "id": "9d01d501-9eab-4aa4-a38d-f66ca64b6436",
   "metadata": {},
   "outputs": [
    {
     "data": {
      "text/plain": [
       "['Mango-Orange', 'Apple-Pineaple', 'Banana-Jackfruit']"
      ]
     },
     "execution_count": 41,
     "metadata": {},
     "output_type": "execute_result"
    }
   ],
   "source": [
    "fruit01 = [\"Mango\", \"Apple\", \"Banana\"]\n",
    "fruit02 = [\"Orange\", \"Pineaple\", \"Jackfruit\"]\n",
    "\n",
    "result = list(map((lambda x,y: x+\"-\"+y), fruit01, fruit02))\n",
    "result"
   ]
  },
  {
   "cell_type": "code",
   "execution_count": 48,
   "id": "85383a00-9a06-4db4-8c12-6945c5c80737",
   "metadata": {},
   "outputs": [
    {
     "name": "stdout",
     "output_type": "stream",
     "text": [
      "[7, 9, 11, 13, 15]\n"
     ]
    }
   ],
   "source": [
    "list01 = [1,2,3,4,5]\n",
    "list02 = [6,7,8,9,10]\n",
    "\n",
    "result = list(map((lambda x,y: x+y), list01, list02))\n",
    "print(result)"
   ]
  },
  {
   "cell_type": "code",
   "execution_count": 51,
   "id": "55048616-f298-4246-8412-37e5a0006615",
   "metadata": {},
   "outputs": [
    {
     "name": "stdout",
     "output_type": "stream",
     "text": [
      "['U', 'T', 'P', 'A', 'L']\n"
     ]
    }
   ],
   "source": [
    "name = \"utpal\"\n",
    "\n",
    "name_list = list(map((lambda x: x.upper()), name))\n",
    "print(name_list)"
   ]
  },
  {
   "cell_type": "markdown",
   "id": "2cd06e52-0461-4bf8-8711-3dad50f06b61",
   "metadata": {},
   "source": [
    "## **Filter Function**"
   ]
  },
  {
   "cell_type": "code",
   "execution_count": 21,
   "id": "1bec1a8c-7bd1-4ae4-8c7d-44255157ea03",
   "metadata": {},
   "outputs": [
    {
     "name": "stdout",
     "output_type": "stream",
     "text": [
      "[2, 4, 6, 8, 10]\n"
     ]
    }
   ],
   "source": [
    "list01 = [1,2,3,4,5,6,7,8,9,10]\n",
    "\n",
    "list02 = list(filter((lambda x: not x%2), list01))\n",
    "print(list02)"
   ]
  },
  {
   "cell_type": "code",
   "execution_count": 25,
   "id": "3ac55c04-1247-4266-b1c8-7d05c246f9ae",
   "metadata": {},
   "outputs": [
    {
     "data": {
      "text/plain": [
       "[2, 4, 6, 8, 10]"
      ]
     },
     "execution_count": 25,
     "metadata": {},
     "output_type": "execute_result"
    }
   ],
   "source": [
    "def myFunction(num):\n",
    "    if num%2 == 0:\n",
    "        return True\n",
    "    else:\n",
    "        return False\n",
    "list02 = list(filter(myFunction, list01))\n",
    "list02"
   ]
  },
  {
   "cell_type": "code",
   "execution_count": 62,
   "id": "5fa850b1-6ec5-4768-b46c-297e95108802",
   "metadata": {},
   "outputs": [
    {
     "name": "stdout",
     "output_type": "stream",
     "text": [
      "[2, 4, 6]\n"
     ]
    }
   ],
   "source": [
    "list01=[1,2,3,4,5,6,7]\n",
    "\n",
    "result = list(filter((lambda x: x%2==0), list01))\n",
    "print(result)"
   ]
  },
  {
   "cell_type": "code",
   "execution_count": 64,
   "id": "e838e2f0-033a-464e-a943-6e34657507c5",
   "metadata": {},
   "outputs": [
    {
     "name": "stdout",
     "output_type": "stream",
     "text": [
      "['Banana', 'Pineapple']\n"
     ]
    }
   ],
   "source": [
    "fruits = [\"Apple\", \"Banana\", \"Pineapple\"]\n",
    "\n",
    "result = list(filter((lambda x: len(x)>5), fruits))\n",
    "print(result)"
   ]
  },
  {
   "cell_type": "markdown",
   "id": "ee8d7b1a-d723-4032-8abe-455faebca2a8",
   "metadata": {},
   "source": [
    "## **Reduce Function**"
   ]
  },
  {
   "cell_type": "code",
   "execution_count": 33,
   "id": "4e576110-32f9-4684-bd2b-0b5b89bc26df",
   "metadata": {},
   "outputs": [
    {
     "name": "stdout",
     "output_type": "stream",
     "text": [
      "6\n"
     ]
    }
   ],
   "source": [
    "import functools\n",
    "list01 = [1,2,3]\n",
    "\n",
    "list02 = functools.reduce((lambda x,y: x+y), list01)\n",
    "print(list02)"
   ]
  },
  {
   "cell_type": "code",
   "execution_count": 42,
   "id": "e471865c-7812-48bb-b13d-07df1da9c4fb",
   "metadata": {},
   "outputs": [
    {
     "data": {
      "text/plain": [
       "60"
      ]
     },
     "execution_count": 42,
     "metadata": {},
     "output_type": "execute_result"
    }
   ],
   "source": [
    "list01 = [10,60,20,40,30,10,20]\n",
    "\n",
    "result = functools.reduce((lambda x,y: x if x>y else y),list01)\n",
    "result"
   ]
  },
  {
   "cell_type": "code",
   "execution_count": 59,
   "id": "3220f23f-1aa4-4ff5-bcea-c72b5c27b12b",
   "metadata": {},
   "outputs": [
    {
     "name": "stdout",
     "output_type": "stream",
     "text": [
      "5\n"
     ]
    }
   ],
   "source": [
    "from functools import reduce\n",
    "list01 = [1,2,3,4,5,6,7,8]\n",
    "result = reduce((lambda x,y: x/y), [5])\n",
    "print(result)"
   ]
  },
  {
   "cell_type": "code",
   "execution_count": null,
   "id": "2ed9a150-1a19-46ac-aaeb-b32529f9b8ea",
   "metadata": {},
   "outputs": [],
   "source": []
  }
 ],
 "metadata": {
  "kernelspec": {
   "display_name": "Python 3 (ipykernel)",
   "language": "python",
   "name": "python3"
  },
  "language_info": {
   "codemirror_mode": {
    "name": "ipython",
    "version": 3
   },
   "file_extension": ".py",
   "mimetype": "text/x-python",
   "name": "python",
   "nbconvert_exporter": "python",
   "pygments_lexer": "ipython3",
   "version": "3.10.9"
  }
 },
 "nbformat": 4,
 "nbformat_minor": 5
}
