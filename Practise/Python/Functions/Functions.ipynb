{
 "cells": [
  {
   "cell_type": "markdown",
   "id": "c5fcbe84-3ab1-4b93-a5db-cae3d9b94ea7",
   "metadata": {},
   "source": [
    "## **Functions**"
   ]
  },
  {
   "cell_type": "markdown",
   "id": "94cb3fee-edcb-428d-8257-f3c294edbbb2",
   "metadata": {},
   "source": [
    "#### Multiple Return"
   ]
  },
  {
   "cell_type": "code",
   "execution_count": 51,
   "id": "0b1b1663-0b59-4f2b-889e-a3bb8006cdd1",
   "metadata": {},
   "outputs": [],
   "source": [
    "def myFunc():\n",
    "    return (1,2,3,\"Hello\")"
   ]
  },
  {
   "cell_type": "code",
   "execution_count": 54,
   "id": "74d245c8-b030-4f89-adc5-0bb8422afeb1",
   "metadata": {},
   "outputs": [
    {
     "name": "stdout",
     "output_type": "stream",
     "text": [
      "1\n",
      "2\n",
      "3\n",
      "Hello\n"
     ]
    }
   ],
   "source": [
    "a,b,c,d = myFunc()\n",
    "print(a)\n",
    "print(b)\n",
    "print(c)\n",
    "print(d)"
   ]
  },
  {
   "cell_type": "code",
   "execution_count": 58,
   "id": "81ba3227-a073-4aa3-a764-72aaab797743",
   "metadata": {},
   "outputs": [
    {
     "name": "stdout",
     "output_type": "stream",
     "text": [
      "[1, 2, 3, 4, 5]\n"
     ]
    }
   ],
   "source": [
    "list01 = [1,2,3,4,5,\"Utpal\",\"Paul\", [10,20,30,40,50]]\n",
    "result = list(filter((lambda x: str(x).isnumeric()), list01))\n",
    "print(result)"
   ]
  },
  {
   "cell_type": "code",
   "execution_count": 60,
   "id": "c42d0588-b1c3-47f2-aae0-9389a5d7e55e",
   "metadata": {},
   "outputs": [
    {
     "data": {
      "text/plain": [
       "[1, 2, 3, 4, 5]"
      ]
     },
     "execution_count": 60,
     "metadata": {},
     "output_type": "execute_result"
    }
   ],
   "source": [
    "def myFunc(items):\n",
    "    result = []\n",
    "    for item in items:\n",
    "        if type(item)==int or type(item)==float:\n",
    "            result.append(item)\n",
    "    return result\n",
    "\n",
    "list01 = [1,2,3,4,5,\"Utpal\",\"Paul\", [10,20,30,40,50]]\n",
    "myFunc(list01)\n",
    "        "
   ]
  },
  {
   "cell_type": "code",
   "execution_count": 61,
   "id": "38ab0baf-b0f3-4dfd-8826-b41521ea2041",
   "metadata": {},
   "outputs": [
    {
     "name": "stdout",
     "output_type": "stream",
     "text": [
      "[1, 2, 3, 4, 5]\n"
     ]
    }
   ],
   "source": [
    "list01 = [1,2,3,4,5,\"Utpal\",\"Paul\", [10,20,30,40,50]]\n",
    "result = list(filter((lambda x: type(x)==int or type(x)==float), list01))\n",
    "print(result)"
   ]
  },
  {
   "cell_type": "code",
   "execution_count": 63,
   "id": "011ee3b9-7b2c-49e8-ba91-887ab45c749f",
   "metadata": {},
   "outputs": [
    {
     "data": {
      "text/plain": [
       "[1, 2, 3, 4, 5, 10, 20, 30, 40, 50]"
      ]
     },
     "execution_count": 63,
     "metadata": {},
     "output_type": "execute_result"
    }
   ],
   "source": [
    "def myFunc(items):\n",
    "    result = []\n",
    "    for item in items:\n",
    "        if type(item)==int or type(item)==float:\n",
    "            result.append(item)\n",
    "        elif type(item)==list:\n",
    "            for x in item:\n",
    "                if type(x)==int or type(x)==float:\n",
    "                    result.append(x)\n",
    "    return result\n",
    "\n",
    "list01 = [1,2,3,4,5,\"Utpal\",\"Paul\", [10,20,30,40,50]]\n",
    "myFunc(list01)   "
   ]
  },
  {
   "cell_type": "markdown",
   "id": "2efbeca7-a1de-4acd-a311-754d9b851375",
   "metadata": {},
   "source": [
    "#### Arbitrary Arguments, *args\n",
    "* If we do not know how many arguments that will be passed into our function, we have to add a * before the parameter name in the function definition."
   ]
  },
  {
   "cell_type": "code",
   "execution_count": 8,
   "id": "96d5b8c0-4177-4857-bb8c-20a5018e65a5",
   "metadata": {},
   "outputs": [
    {
     "name": "stdout",
     "output_type": "stream",
     "text": [
      "I have a Bananna tree\n"
     ]
    }
   ],
   "source": [
    "def myFunc(*fruits_name):\n",
    "    return(\"I have a {} tree\".format(fruits_name[1]))\n",
    "\n",
    "result = myFunc(\"Apple\", \"Bananna\", \"Mango\")\n",
    "print(result)"
   ]
  },
  {
   "cell_type": "code",
   "execution_count": 73,
   "id": "5bbbceb4-ab54-4713-a23f-0b1bf61d947f",
   "metadata": {},
   "outputs": [
    {
     "data": {
      "text/plain": [
       "(1, 2, 3, 4, 5)"
      ]
     },
     "execution_count": 73,
     "metadata": {},
     "output_type": "execute_result"
    }
   ],
   "source": [
    "def myFunc(*items, x):\n",
    "    return(x,items)\n",
    "\n",
    "myItems=myFunc(1,2,3,4,5,x=2)\n",
    "myItems[1]"
   ]
  },
  {
   "cell_type": "code",
   "execution_count": 80,
   "id": "7c9c6fd8-cc31-420c-bcea-43b51977345f",
   "metadata": {},
   "outputs": [
    {
     "name": "stdout",
     "output_type": "stream",
     "text": [
      "[[1, 2, 3, 4, 5], [50, 60, 70, 80]]\n"
     ]
    }
   ],
   "source": [
    "def myFunc(*items, x):\n",
    "    result=[]\n",
    "    for item in items:\n",
    "        if type(item)==list:\n",
    "            result.append(item)\n",
    "    return result\n",
    "\n",
    "myItems=myFunc([1,2,3,4,5],\"Utpal\",\"Paul\",[50,60,70,80],x=2)\n",
    "type(myItems)\n",
    "print(myItems)"
   ]
  },
  {
   "cell_type": "markdown",
   "id": "b50d460b-df16-4e80-96e6-c584ca56d4e5",
   "metadata": {},
   "source": [
    "#### Keyword Argument"
   ]
  },
  {
   "cell_type": "code",
   "execution_count": 10,
   "id": "e7daa78f-3ed1-4668-9660-2429a696b419",
   "metadata": {},
   "outputs": [
    {
     "name": "stdout",
     "output_type": "stream",
     "text": [
      "My name is Utpal Paul and I am from Bangladesh\n"
     ]
    }
   ],
   "source": [
    "def myFunc(firstname, lastname, country):\n",
    "    return(f\"My name is {firstname} {lastname} and I am from {country}\")\n",
    "    \n",
    "result = myFunc(lastname=\"Paul\", country=\"Bangladesh\", firstname=\"Utpal\")\n",
    "print(result)"
   ]
  },
  {
   "cell_type": "markdown",
   "id": "230aa056-a6ee-4708-83e8-80ab112c131c",
   "metadata": {},
   "source": [
    "#### Arbitrary Keyword Arguments, **kwargs\n",
    "* If we do not know how many keyword arguments that will be passed into our function, we have to add two asterisk: ** before the parameter name in the function definition."
   ]
  },
  {
   "cell_type": "code",
   "execution_count": 13,
   "id": "2834e1bb-3478-4dc0-9d57-dc8f252d0503",
   "metadata": {},
   "outputs": [
    {
     "name": "stdout",
     "output_type": "stream",
     "text": [
      "My name is Utpal Paul and I am from Bangladesh\n"
     ]
    }
   ],
   "source": [
    "def myFunc(**userInfo):\n",
    "    return(f\"My name is {userInfo['firstname']} {userInfo['lastname']} and I am from {userInfo['country']}\")\n",
    "result = myFunc(lastname=\"Paul\", country=\"Bangladesh\", firstname=\"Utpal\")\n",
    "print(result)"
   ]
  },
  {
   "cell_type": "code",
   "execution_count": 91,
   "id": "cf40b148-dadf-4527-8489-df12b4d149dc",
   "metadata": {},
   "outputs": [
    {
     "data": {
      "text/plain": [
       "[['utpalseu@gmail.com', 'utpal2@gamil.com'], [1, 2, 3, 4, 5, 6]]"
      ]
     },
     "execution_count": 91,
     "metadata": {},
     "output_type": "execute_result"
    }
   ],
   "source": [
    "def myFunc(**userInfo):\n",
    "    result=[]\n",
    "    for user in userInfo.values():\n",
    "        if type(user)==list:\n",
    "            result.append(user)\n",
    "    return result\n",
    "\n",
    "myFunc(name=\"Utpal\", email=[\"utpalseu@gmail.com\",\"utpal2@gamil.com\"],uname=\"utpal108\", marks=[1,2,3,4,5,6])"
   ]
  },
  {
   "cell_type": "code",
   "execution_count": 102,
   "id": "ee5ea8b7-0b36-434d-888d-d98426850050",
   "metadata": {},
   "outputs": [
    {
     "data": {
      "text/plain": [
       "(1, 2, 3)"
      ]
     },
     "execution_count": 102,
     "metadata": {},
     "output_type": "execute_result"
    }
   ],
   "source": [
    "def myFunc(*user,**userInfo):\n",
    "    return user\n",
    "\n",
    "myFunc(1,2,3, name=\"Utpal\", email=\"test@test.com\")\n"
   ]
  },
  {
   "cell_type": "markdown",
   "id": "10c6d02d-e39b-4b7b-94da-ee5237a65416",
   "metadata": {},
   "source": [
    "#### Default Parameter Value"
   ]
  },
  {
   "cell_type": "code",
   "execution_count": 18,
   "id": "38eb47ed-6014-400a-9e1d-a1fff5f0c49e",
   "metadata": {},
   "outputs": [
    {
     "name": "stdout",
     "output_type": "stream",
     "text": [
      "I am from INDIA\n",
      "I am from USA\n",
      "I am from BANGLADESH\n"
     ]
    }
   ],
   "source": [
    "def myCountry(country_name=\"Bangladesh\"):\n",
    "    return(f\"I am from {country_name.upper()}\")\n",
    "\n",
    "print(myCountry(\"India\"))\n",
    "print(myCountry(\"usa\"))\n",
    "print(myCountry())"
   ]
  },
  {
   "cell_type": "markdown",
   "id": "13468178-808c-4136-b646-d28d076470ca",
   "metadata": {},
   "source": [
    "#### Passing a List as an Argument"
   ]
  },
  {
   "cell_type": "code",
   "execution_count": 19,
   "id": "3dc69329-d5f4-43bd-9e8e-f790a9c66a02",
   "metadata": {},
   "outputs": [
    {
     "name": "stdout",
     "output_type": "stream",
     "text": [
      "Apple\n",
      "Banana\n",
      "Mango\n",
      "Jackfruit\n"
     ]
    }
   ],
   "source": [
    "def myFruits(friuts_list):\n",
    "    for friut in friuts_list:\n",
    "        print(friut)\n",
    "fruits = [\"Apple\", \"Banana\", \"Mango\", \"Jackfruit\"]\n",
    "\n",
    "myFruits(fruits)"
   ]
  },
  {
   "cell_type": "markdown",
   "id": "670f0a1a-6f2a-40b4-8ad2-aa09225a5b39",
   "metadata": {},
   "source": [
    "#### Pass Statement\n",
    "* function definitions cannot be empty, but if you for some reason have a function definition with no content, put in the pass statement to avoid getting an error."
   ]
  },
  {
   "cell_type": "code",
   "execution_count": 23,
   "id": "3d9c44c0-2315-478e-bb88-94b8479e3af8",
   "metadata": {},
   "outputs": [],
   "source": [
    "def myFunc(name):\n",
    "    pass"
   ]
  },
  {
   "cell_type": "markdown",
   "id": "2739dd77-c92c-4aa7-89b9-28f83e3e78be",
   "metadata": {},
   "source": [
    "#### Recursion"
   ]
  },
  {
   "cell_type": "code",
   "execution_count": 25,
   "id": "fa4f78e7-0ba9-4d18-8e20-76d0cd704279",
   "metadata": {},
   "outputs": [
    {
     "name": "stdout",
     "output_type": "stream",
     "text": [
      "1\n",
      "3\n",
      "6\n"
     ]
    },
    {
     "data": {
      "text/plain": [
       "6"
      ]
     },
     "execution_count": 25,
     "metadata": {},
     "output_type": "execute_result"
    }
   ],
   "source": [
    "def myFunction(k):\n",
    "    if k>0:\n",
    "        result = k+myFunction(k-1)\n",
    "        print(result)\n",
    "    else:\n",
    "        result = 0\n",
    "    return result\n",
    "\n",
    "myFunction(3)"
   ]
  },
  {
   "cell_type": "markdown",
   "id": "3991f79a-3f37-4ca0-b79d-6a099c65f584",
   "metadata": {},
   "source": [
    "## **Iterator**"
   ]
  },
  {
   "cell_type": "code",
   "execution_count": 121,
   "id": "ccb19fd0-2c44-4be7-b888-bedd857bf8f3",
   "metadata": {},
   "outputs": [],
   "source": [
    "list01 = [1,2,3,4,5]\n",
    "iterItem = iter(list01)"
   ]
  },
  {
   "cell_type": "code",
   "execution_count": 123,
   "id": "fc237a25-39eb-42c6-a998-3d2da9908302",
   "metadata": {},
   "outputs": [
    {
     "name": "stdout",
     "output_type": "stream",
     "text": [
      "2\n"
     ]
    }
   ],
   "source": [
    "try:\n",
    "    print(next(iterItem))\n",
    "except StopIteration:\n",
    "    print(\"Iterator is End\")"
   ]
  },
  {
   "cell_type": "markdown",
   "id": "6bed6623-b38c-4a0f-9924-c22a34afee88",
   "metadata": {},
   "source": [
    "## **Generator Functions**"
   ]
  },
  {
   "cell_type": "code",
   "execution_count": 132,
   "id": "c6ede84e-a24e-455d-9028-b21c5c85379b",
   "metadata": {},
   "outputs": [],
   "source": [
    "def myGen(items):\n",
    "    for item in items:\n",
    "        yield(item**2)\n",
    "    \n",
    "gen = myGen([1,2,3,4,5])"
   ]
  },
  {
   "cell_type": "code",
   "execution_count": 134,
   "id": "9a212c01-77de-40ab-824f-11953328e266",
   "metadata": {},
   "outputs": [
    {
     "name": "stdout",
     "output_type": "stream",
     "text": [
      "4\n"
     ]
    }
   ],
   "source": [
    "try:\n",
    "    print(next(gen))\n",
    "except StopIteration:\n",
    "    print(\"Iteration is Edded\")"
   ]
  },
  {
   "cell_type": "code",
   "execution_count": 135,
   "id": "fe777f90-852e-422e-be2d-15586a6e7d8f",
   "metadata": {},
   "outputs": [
    {
     "data": {
      "text/plain": [
       "range"
      ]
     },
     "execution_count": 135,
     "metadata": {},
     "output_type": "execute_result"
    }
   ],
   "source": [
    "a = range(1,20)\n",
    "type(a)"
   ]
  },
  {
   "cell_type": "code",
   "execution_count": 137,
   "id": "b242a12a-ab85-498c-b2d1-3d75590d6c10",
   "metadata": {},
   "outputs": [
    {
     "data": {
      "text/plain": [
       "<generator object intGen at 0x000001F947B2D8C0>"
      ]
     },
     "execution_count": 137,
     "metadata": {},
     "output_type": "execute_result"
    }
   ],
   "source": [
    "def intGen(*items):\n",
    "    for item in items:\n",
    "        if type(item) == int:\n",
    "            yield(item)\n",
    "\n",
    "gen = intGen(1,5,6,7,8,\"Hello\",\"World\")\n",
    "gen"
   ]
  },
  {
   "cell_type": "code",
   "execution_count": 141,
   "id": "2ff1b18a-a5a6-4469-b05b-cd10050644d2",
   "metadata": {},
   "outputs": [
    {
     "name": "stdout",
     "output_type": "stream",
     "text": [
      "7\n"
     ]
    }
   ],
   "source": [
    "print(next(gen))"
   ]
  },
  {
   "cell_type": "code",
   "execution_count": 208,
   "id": "d39bb36a-e43e-4d73-b1b6-b34d06d01311",
   "metadata": {},
   "outputs": [],
   "source": [
    "## Fibonacci Series : 0,1,1,2,3,5,8,13,21,34\n",
    "\n",
    "def genFibonacci(num):   \n",
    "    prev_num = 0\n",
    "    curr_num = 1\n",
    "    for i in range(num):\n",
    "        yield(prev_num)\n",
    "        prev_num,curr_num = curr_num,prev_num+curr_num\n",
    "\n",
    "fibonacci = genFibonacci(10)"
   ]
  },
  {
   "cell_type": "code",
   "execution_count": 207,
   "id": "27f611dd-4ab8-476f-92f7-aa72a1cf90fd",
   "metadata": {},
   "outputs": [
    {
     "name": "stdout",
     "output_type": "stream",
     "text": [
      "3\n"
     ]
    }
   ],
   "source": [
    "print(next(fibonacci))"
   ]
  },
  {
   "cell_type": "code",
   "execution_count": null,
   "id": "6a24004b-3220-4f76-9e52-47ab35d4de44",
   "metadata": {},
   "outputs": [],
   "source": []
  },
  {
   "cell_type": "code",
   "execution_count": null,
   "id": "0a544ba3-35eb-4b23-9b78-bfe6f5a88481",
   "metadata": {},
   "outputs": [],
   "source": []
  }
 ],
 "metadata": {
  "kernelspec": {
   "display_name": "Python 3 (ipykernel)",
   "language": "python",
   "name": "python3"
  },
  "language_info": {
   "codemirror_mode": {
    "name": "ipython",
    "version": 3
   },
   "file_extension": ".py",
   "mimetype": "text/x-python",
   "name": "python",
   "nbconvert_exporter": "python",
   "pygments_lexer": "ipython3",
   "version": "3.10.9"
  }
 },
 "nbformat": 4,
 "nbformat_minor": 5
}
