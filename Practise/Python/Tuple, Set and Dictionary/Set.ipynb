{
 "cells": [
  {
   "cell_type": "markdown",
   "id": "fbd6c030-cc3a-48f2-b445-47af26d8afff",
   "metadata": {},
   "source": [
    "## SET\n",
    "* Set items are unordered, unchangeable, and do not allow duplicate values.\n",
    "* The values True and 1 are considered the same value in sets, and are treated as duplicates."
   ]
  },
  {
   "cell_type": "code",
   "execution_count": 14,
   "id": "da71b962-1a7d-42eb-8f5d-3e415d081ec8",
   "metadata": {},
   "outputs": [
    {
     "name": "stdout",
     "output_type": "stream",
     "text": [
      "{True, 2, 3, 'Hello', 4, 'World'}\n"
     ]
    }
   ],
   "source": [
    "setItems = {\"Hello\", \"World\", True, 2,3,4,1}\n",
    "print(setItems)"
   ]
  },
  {
   "cell_type": "code",
   "execution_count": 3,
   "id": "205579ff-84f2-45ce-91fa-006556bd6765",
   "metadata": {},
   "outputs": [],
   "source": [
    "list01 = [1,2,3,4,5]\n",
    "tuple01 = (1,2,3,4,5)"
   ]
  },
  {
   "cell_type": "code",
   "execution_count": 7,
   "id": "795e8d1a-a11c-4d7a-b965-153af3e8f1b4",
   "metadata": {},
   "outputs": [
    {
     "name": "stdout",
     "output_type": "stream",
     "text": [
      "<class 'set'>\n",
      "{1, 2, 4, 5, (1, 2, 3, 4, 5)}\n"
     ]
    }
   ],
   "source": [
    "set01 = {1,2,4,5,4,tuple01}\n",
    "print(type(set01))\n",
    "print(set01)"
   ]
  },
  {
   "cell_type": "markdown",
   "id": "21cf3fac-7e49-49cd-ac20-c2593abdc805",
   "metadata": {},
   "source": [
    "##### We can't add list item as set element because it makes it's element as hashabe to make it items Unique and List is Unhashable"
   ]
  },
  {
   "cell_type": "code",
   "execution_count": 9,
   "id": "bfdb39a7-bbff-4fea-94bb-32f3f8ce2941",
   "metadata": {},
   "outputs": [
    {
     "ename": "TypeError",
     "evalue": "unhashable type: 'list'",
     "output_type": "error",
     "traceback": [
      "\u001b[1;31m---------------------------------------------------------------------------\u001b[0m",
      "\u001b[1;31mTypeError\u001b[0m                                 Traceback (most recent call last)",
      "Cell \u001b[1;32mIn[9], line 1\u001b[0m\n\u001b[1;32m----> 1\u001b[0m set01 \u001b[38;5;241m=\u001b[39m {\u001b[38;5;241m1\u001b[39m,\u001b[38;5;241m2\u001b[39m,\u001b[38;5;241m4\u001b[39m,\u001b[38;5;241m5\u001b[39m,\u001b[38;5;241m4\u001b[39m,list01}\n\u001b[0;32m      2\u001b[0m \u001b[38;5;28mprint\u001b[39m(\u001b[38;5;28mtype\u001b[39m(set01))\n\u001b[0;32m      3\u001b[0m \u001b[38;5;28mprint\u001b[39m(\u001b[38;5;28mtype\u001b[39m(set01))\n",
      "\u001b[1;31mTypeError\u001b[0m: unhashable type: 'list'"
     ]
    }
   ],
   "source": [
    "set01 = {1,2,4,5,4,list01}\n",
    "print(type(set01))\n",
    "print(type(set01))"
   ]
  },
  {
   "cell_type": "markdown",
   "id": "26800674-d508-4380-af6b-2ada583e4dfe",
   "metadata": {},
   "source": [
    "#### The set() Constructor"
   ]
  },
  {
   "cell_type": "code",
   "execution_count": 17,
   "id": "c054b735-240d-4d30-9376-6e727d9fa872",
   "metadata": {},
   "outputs": [
    {
     "name": "stdout",
     "output_type": "stream",
     "text": [
      "{'Mango', 'Apple', 'Orange'}\n"
     ]
    }
   ],
   "source": [
    "fruits = (\"Apple\", \"Mango\", \"Orange\")\n",
    "newFruits = set(fruits)\n",
    "print(newFruits)"
   ]
  },
  {
   "cell_type": "code",
   "execution_count": 18,
   "id": "3634c526-0f07-4041-b1aa-fec1d9e7be9e",
   "metadata": {},
   "outputs": [
    {
     "name": "stdout",
     "output_type": "stream",
     "text": [
      "{'Mango', 'Apple', 'Orange'}\n"
     ]
    }
   ],
   "source": [
    "fruits = [\"Apple\", \"Mango\", \"Orange\"]\n",
    "newFruits = set(fruits)\n",
    "print(newFruits)"
   ]
  },
  {
   "cell_type": "markdown",
   "id": "c60f547b-36c0-4ef9-acfe-746eac1edd02",
   "metadata": {},
   "source": [
    "#### Access Items\n",
    "* We cannot access items in a set by referring to an index or a key. But we can loop through the set items using a for loop, or ask if a specified value is present in a set, by using the in keyword."
   ]
  },
  {
   "cell_type": "code",
   "execution_count": 21,
   "id": "de009d90-1af3-4077-ae29-c8f5309b47fb",
   "metadata": {},
   "outputs": [
    {
     "name": "stdout",
     "output_type": "stream",
     "text": [
      "Mango\n",
      "Apple\n",
      "Orange\n"
     ]
    }
   ],
   "source": [
    "fruits = {\"Apple\", \"Mango\", \"Orange\"}\n",
    "for furit in fruits:\n",
    "    print(furit)"
   ]
  },
  {
   "cell_type": "code",
   "execution_count": 24,
   "id": "55ebfc19-f2bc-4041-a06d-e2054f44b7c9",
   "metadata": {},
   "outputs": [
    {
     "data": {
      "text/plain": [
       "True"
      ]
     },
     "execution_count": 24,
     "metadata": {},
     "output_type": "execute_result"
    }
   ],
   "source": [
    "fruits = {\"Apple\", \"Mango\", \"Orange\"}\n",
    "\"Mango\" in fruits"
   ]
  },
  {
   "cell_type": "markdown",
   "id": "ae2f2e0b-ca06-4f00-adbf-50055f22ff09",
   "metadata": {},
   "source": [
    "#### Add Items\n",
    "* Once a set is created, we cannot change its items, but we can add new items. To add one item to a set we use the **add()** method."
   ]
  },
  {
   "cell_type": "code",
   "execution_count": 25,
   "id": "076ad3b9-e461-4ab2-b3fb-26792a47935c",
   "metadata": {},
   "outputs": [
    {
     "name": "stdout",
     "output_type": "stream",
     "text": [
      "{'Mango', 'Apple', 'Pineapple', 'Orange'}\n"
     ]
    }
   ],
   "source": [
    "fruits = {\"Apple\", \"Mango\", \"Orange\"}\n",
    "fruits.add(\"Pineapple\")\n",
    "print(fruits)"
   ]
  },
  {
   "cell_type": "markdown",
   "id": "e53be44d-f83f-4a82-83b8-34f310c0a11a",
   "metadata": {},
   "source": [
    "#### Add Sets\n",
    "* To add items from another set into the current set, we have to use the **update()** method.\n",
    "* The object in the update() method does not have to be a set, it can be any iterable object (tuples, lists, dictionaries etc.)."
   ]
  },
  {
   "cell_type": "code",
   "execution_count": 32,
   "id": "7d87dfed-ae98-4c53-a595-8df3d3a39021",
   "metadata": {},
   "outputs": [
    {
     "name": "stdout",
     "output_type": "stream",
     "text": [
      "{'Mango', 'Pineapple', 'Apple', 'Graph', 'Orange', 'Lemon'}\n",
      "{'Pineapple', 'Lemon', 'Graph'}\n"
     ]
    }
   ],
   "source": [
    "fruits_listA = {\"Apple\", \"Mango\", \"Orange\"}\n",
    "fruits_listB = {\"Graph\", \"Lemon\", \"Pineapple\"}\n",
    "\n",
    "fruits_listA.update(fruits_listB)\n",
    "\n",
    "print(fruits_listA)\n",
    "print(fruits_listB)"
   ]
  },
  {
   "cell_type": "code",
   "execution_count": 33,
   "id": "ba0797ca-50b9-4857-a7d3-3b012b031ea2",
   "metadata": {},
   "outputs": [
    {
     "name": "stdout",
     "output_type": "stream",
     "text": [
      "{'Mango', 'Pineapple', 'Apple', 'Graph', 'Orange', 'Lemon'}\n",
      "['Graph', 'Lemon', 'Pineapple']\n"
     ]
    }
   ],
   "source": [
    "fruits_listA = {\"Apple\", \"Mango\", \"Orange\"}\n",
    "fruits_listB = [\"Graph\", \"Lemon\", \"Pineapple\"]\n",
    "\n",
    "fruits_listA.update(fruits_listB)\n",
    "\n",
    "print(fruits_listA)\n",
    "print(fruits_listB)"
   ]
  },
  {
   "cell_type": "markdown",
   "id": "dc897f7c-6da9-4fd2-9c73-792e49dbe75a",
   "metadata": {},
   "source": [
    "## Remove Item\n",
    "* To remove an item in a set, we have to use the **remove()**, or the **discard()** method."
   ]
  },
  {
   "cell_type": "markdown",
   "id": "11952a8f-4fe7-4fda-8c74-41272b9a5f30",
   "metadata": {},
   "source": [
    "If the item to remove does not exist, **remove()** will raise an error."
   ]
  },
  {
   "cell_type": "code",
   "execution_count": 38,
   "id": "ff3bb784-f19d-4208-902f-39ad4bd1ed14",
   "metadata": {},
   "outputs": [
    {
     "name": "stdout",
     "output_type": "stream",
     "text": [
      "{'Apple', 'Orange'}\n"
     ]
    }
   ],
   "source": [
    "fruits = {\"Apple\", \"Mango\", \"Orange\"}\n",
    "fruits.remove(\"Mango\")\n",
    "print(fruits)"
   ]
  },
  {
   "cell_type": "markdown",
   "id": "17f40b6d-3d30-45a3-ac3f-615ebd6ab59b",
   "metadata": {},
   "source": [
    "If the item to remove does not exist, **discard()** will NOT raise an error."
   ]
  },
  {
   "cell_type": "code",
   "execution_count": 42,
   "id": "df071991-cf47-4065-ae08-1ee5b6e45f0c",
   "metadata": {},
   "outputs": [
    {
     "name": "stdout",
     "output_type": "stream",
     "text": [
      "{'Mango', 'Apple', 'Orange'}\n"
     ]
    }
   ],
   "source": [
    "fruits = {\"Apple\", \"Mango\", \"Orange\"}\n",
    "fruits.discard(\"Banana\")\n",
    "print(fruits)"
   ]
  },
  {
   "cell_type": "markdown",
   "id": "15e0d98f-da5f-4015-8731-7788ce488e23",
   "metadata": {},
   "source": [
    "We can also use the **pop()** method to remove an item, but this method will remove a random item, so we cannot be sure what item that gets removed."
   ]
  },
  {
   "cell_type": "code",
   "execution_count": 46,
   "id": "baff57a5-520e-46e4-b238-38d48befdd89",
   "metadata": {},
   "outputs": [
    {
     "name": "stdout",
     "output_type": "stream",
     "text": [
      "Mango\n",
      "{'Apple', 'Orange'}\n"
     ]
    }
   ],
   "source": [
    "fruits = {\"Apple\", \"Mango\", \"Orange\"}\n",
    "x=fruits.pop()\n",
    "print(x)\n",
    "print(fruits)"
   ]
  },
  {
   "cell_type": "markdown",
   "id": "83ddae4d-43bb-4fa7-9b1e-ff5a49473e72",
   "metadata": {},
   "source": [
    "The **clear()** method empties the set."
   ]
  },
  {
   "cell_type": "code",
   "execution_count": 47,
   "id": "120126dd-604c-4fee-bfe4-6eb51517fd8f",
   "metadata": {},
   "outputs": [
    {
     "name": "stdout",
     "output_type": "stream",
     "text": [
      "set()\n"
     ]
    }
   ],
   "source": [
    "fruits = {\"Apple\", \"Mango\", \"Orange\"}\n",
    "fruits.clear()\n",
    "print(fruits)"
   ]
  },
  {
   "cell_type": "markdown",
   "id": "c22f9f71-0e97-423e-8dca-3addefe42002",
   "metadata": {},
   "source": [
    "The **del** keyword will delete the set completely."
   ]
  },
  {
   "cell_type": "code",
   "execution_count": 51,
   "id": "ad5a1711-e0b8-4efc-9db1-0f99a36ba89f",
   "metadata": {},
   "outputs": [
    {
     "ename": "NameError",
     "evalue": "name 'fruits' is not defined",
     "output_type": "error",
     "traceback": [
      "\u001b[1;31m---------------------------------------------------------------------------\u001b[0m",
      "\u001b[1;31mNameError\u001b[0m                                 Traceback (most recent call last)",
      "Cell \u001b[1;32mIn[51], line 1\u001b[0m\n\u001b[1;32m----> 1\u001b[0m \u001b[38;5;28;01mdel\u001b[39;00m fruits\n\u001b[0;32m      2\u001b[0m \u001b[38;5;28mprint\u001b[39m(fruits)\n",
      "\u001b[1;31mNameError\u001b[0m: name 'fruits' is not defined"
     ]
    }
   ],
   "source": [
    "del fruits\n",
    "print(fruits)"
   ]
  },
  {
   "cell_type": "markdown",
   "id": "ff9b80cc-e9eb-41fe-a69b-bd9da7f7c554",
   "metadata": {},
   "source": [
    "#### Join Two Sets"
   ]
  },
  {
   "cell_type": "code",
   "execution_count": 61,
   "id": "fc54dd2b-9d4d-4b2d-8038-149487d07869",
   "metadata": {},
   "outputs": [
    {
     "name": "stdout",
     "output_type": "stream",
     "text": [
      "{'Mango', 'Pineapple', 'Apple', 'Graph', 'Orange', 'Lemon'}\n",
      "['Graph', 'Lemon', 'Pineapple']\n"
     ]
    }
   ],
   "source": [
    "fruits_listA = {\"Apple\", \"Mango\", \"Orange\"}\n",
    "fruits_listB = [\"Graph\", \"Lemon\", \"Pineapple\"]\n",
    "\n",
    "fruits_listA.update(fruits_listB)\n",
    "\n",
    "print(fruits_listA)\n",
    "print(fruits_listB)"
   ]
  },
  {
   "cell_type": "code",
   "execution_count": 53,
   "id": "8bc9ab67-c25e-4b36-811e-9058d7625d01",
   "metadata": {},
   "outputs": [
    {
     "name": "stdout",
     "output_type": "stream",
     "text": [
      "{'Mango', 'Apple', 'Orange'}\n",
      "['Graph', 'Lemon', 'Pineapple']\n",
      "{'Mango', 'Pineapple', 'Apple', 'Graph', 'Orange', 'Lemon'}\n"
     ]
    }
   ],
   "source": [
    "fruits_listA = {\"Apple\", \"Mango\", \"Orange\"}\n",
    "fruits_listB = [\"Graph\", \"Lemon\", \"Pineapple\"]\n",
    "\n",
    "all_fruits = fruits_listA.union(fruits_listB)\n",
    "\n",
    "print(fruits_listA)\n",
    "print(fruits_listB)\n",
    "print(all_fruits)"
   ]
  },
  {
   "cell_type": "markdown",
   "id": "acee0a1c-b893-481a-904d-0ad61ed306bd",
   "metadata": {},
   "source": [
    "#### Keep ONLY the Duplicates\n",
    "* The **intersection_update()** method will keep only the items that are present in both sets."
   ]
  },
  {
   "cell_type": "code",
   "execution_count": 54,
   "id": "8930be69-11cd-496a-9b59-c2ddccd9bbf3",
   "metadata": {},
   "outputs": [
    {
     "name": "stdout",
     "output_type": "stream",
     "text": [
      "{'Orange'}\n"
     ]
    }
   ],
   "source": [
    "fruits_listA = {\"Apple\", \"Mango\", \"Orange\"}\n",
    "fruits_listB = [\"Graph\", \"Orange\", \"Pineapple\"]\n",
    "\n",
    "fruits_listA.intersection_update(fruits_listB)\n",
    "\n",
    "print(fruits_listA)\n"
   ]
  },
  {
   "cell_type": "markdown",
   "id": "0a65e46e-dc2e-4308-bab6-769fc985efe1",
   "metadata": {},
   "source": [
    "The intersection() method will return a new set, that only contains the items that are present in both sets."
   ]
  },
  {
   "cell_type": "code",
   "execution_count": 58,
   "id": "2bf27202-e507-40c9-810d-0d66ecd901b1",
   "metadata": {},
   "outputs": [
    {
     "name": "stdout",
     "output_type": "stream",
     "text": [
      "{'Mango', 'Apple', 'Orange'}\n",
      "['Graph', 'Orange', 'Pineapple']\n",
      "{'Orange'}\n"
     ]
    }
   ],
   "source": [
    "fruits_listA = {\"Apple\", \"Mango\", \"Orange\"}\n",
    "fruits_listB = [\"Graph\", \"Orange\", \"Pineapple\"]\n",
    "\n",
    "fruits_listC = fruits_listA.intersection(fruits_listB)\n",
    "\n",
    "print(fruits_listA)\n",
    "print(fruits_listB)\n",
    "print(fruits_listC)"
   ]
  },
  {
   "cell_type": "markdown",
   "id": "ab72e681-9da1-4b8b-9f6a-45ca3a34be92",
   "metadata": {},
   "source": [
    "#### Keep All, But NOT the Duplicates\n",
    "* The **symmetric_difference_update()** method will keep only the elements that are NOT present in both sets."
   ]
  },
  {
   "cell_type": "code",
   "execution_count": 59,
   "id": "0e9d2fa1-e18e-4d24-9823-792f43434ad3",
   "metadata": {},
   "outputs": [
    {
     "name": "stdout",
     "output_type": "stream",
     "text": [
      "{'Mango', 'Pineapple', 'Apple', 'Graph'}\n"
     ]
    }
   ],
   "source": [
    "fruits_listA = {\"Apple\", \"Mango\", \"Orange\"}\n",
    "fruits_listB = [\"Graph\", \"Orange\", \"Pineapple\"]\n",
    "\n",
    "fruits_listA.symmetric_difference_update(fruits_listB)\n",
    "\n",
    "print(fruits_listA)\n"
   ]
  },
  {
   "cell_type": "markdown",
   "id": "5c8ad4f7-1043-48de-b237-0c4bd1aac93b",
   "metadata": {},
   "source": [
    "The **symmetric_difference()** method will return a new set, that contains only the elements that are NOT present in both sets."
   ]
  },
  {
   "cell_type": "code",
   "execution_count": 60,
   "id": "86e14ce1-e96a-41e1-9c5d-7da9fe53f62a",
   "metadata": {},
   "outputs": [
    {
     "name": "stdout",
     "output_type": "stream",
     "text": [
      "{'Mango', 'Apple', 'Orange'}\n",
      "['Graph', 'Orange', 'Pineapple']\n",
      "{'Pineapple', 'Mango', 'Apple', 'Graph'}\n"
     ]
    }
   ],
   "source": [
    "fruits_listA = {\"Apple\", \"Mango\", \"Orange\"}\n",
    "fruits_listB = [\"Graph\", \"Orange\", \"Pineapple\"]\n",
    "\n",
    "fruits_listC = fruits_listA.symmetric_difference(fruits_listB)\n",
    "\n",
    "print(fruits_listA)\n",
    "print(fruits_listB)\n",
    "print(fruits_listC)"
   ]
  },
  {
   "cell_type": "markdown",
   "id": "38915198-aab9-4924-8ef2-669a6d3a5dbe",
   "metadata": {},
   "source": [
    "## Set Methods"
   ]
  },
  {
   "cell_type": "markdown",
   "id": "46d830be-1b5b-4f29-808b-2e314ab5f403",
   "metadata": {},
   "source": [
    "**add()** : Adds an element to the set"
   ]
  },
  {
   "cell_type": "code",
   "execution_count": 65,
   "id": "fee427bc-be5b-4ff7-8b08-f2460bbc3c0e",
   "metadata": {},
   "outputs": [
    {
     "name": "stdout",
     "output_type": "stream",
     "text": [
      "{'Mango', 'Apple', 'Orange'}\n"
     ]
    }
   ],
   "source": [
    "fruits = {\"Apple\", \"Mango\", \"Orange\"}\n",
    "fruits.add(\"Orange\")\n",
    "print(fruits)"
   ]
  },
  {
   "cell_type": "markdown",
   "id": "40743df7-a2b4-48ff-9f96-0cabd9a2db27",
   "metadata": {},
   "source": [
    "**clear()** : Removes all the elements from the set"
   ]
  },
  {
   "cell_type": "code",
   "execution_count": 67,
   "id": "2316ad04-f7d0-49ee-a5d3-530c08d84e4f",
   "metadata": {},
   "outputs": [
    {
     "name": "stdout",
     "output_type": "stream",
     "text": [
      "set()\n"
     ]
    }
   ],
   "source": [
    "fruits = {\"Apple\", \"Mango\", \"Orange\"}\n",
    "fruits.clear()\n",
    "print(fruits)"
   ]
  },
  {
   "cell_type": "markdown",
   "id": "ac19f653-bbc2-4ac7-b207-3b621ca3cd85",
   "metadata": {},
   "source": [
    "**copy()** : Returns a copy of the set"
   ]
  },
  {
   "cell_type": "code",
   "execution_count": 68,
   "id": "e8199ffa-5f4c-4c5c-b072-244af01ead25",
   "metadata": {},
   "outputs": [
    {
     "name": "stdout",
     "output_type": "stream",
     "text": [
      "{'Mango', 'Apple', 'Orange'}\n",
      "{'Mango', 'Apple', 'Orange'}\n",
      "1863266965696\n",
      "1863266965472\n"
     ]
    }
   ],
   "source": [
    "fruits_listA = {\"Apple\", \"Mango\", \"Orange\"}\n",
    "fruits_listB = fruits_listA.copy()\n",
    "print(fruits_listA)\n",
    "print(fruits_listB)\n",
    "print(id(fruits_listA))\n",
    "print(id(fruits_listB))"
   ]
  },
  {
   "cell_type": "markdown",
   "id": "bd4c7fbc-80c6-4ec0-b584-1f8277dd6621",
   "metadata": {},
   "source": [
    "**difference()** : Returns a set containing the difference between two or more sets"
   ]
  },
  {
   "cell_type": "code",
   "execution_count": 71,
   "id": "3c0f5d0d-cf67-4b62-8719-64c1ed48e7d7",
   "metadata": {},
   "outputs": [
    {
     "name": "stdout",
     "output_type": "stream",
     "text": [
      "{'Apple', 'Orange'}\n"
     ]
    }
   ],
   "source": [
    "fruits_listA = {\"Apple\", \"Mango\", \"Orange\"}\n",
    "fruits_listB = {\"Graph\", \"Pineapple\", \"Mango\"}\n",
    "\n",
    "fruits_listC = fruits_listA.difference(fruits_listB)\n",
    "print(fruits_listC)"
   ]
  },
  {
   "cell_type": "markdown",
   "id": "b243c966-b890-4f36-83bf-fb9c280a1b2a",
   "metadata": {},
   "source": [
    "**difference_update()** : Removes the items in this set that are also included in another, specified set"
   ]
  },
  {
   "cell_type": "code",
   "execution_count": 70,
   "id": "f5662056-2622-4b12-a972-e4f79f08e136",
   "metadata": {},
   "outputs": [
    {
     "name": "stdout",
     "output_type": "stream",
     "text": [
      "{'Apple', 'Orange'}\n"
     ]
    }
   ],
   "source": [
    "fruits_listA = {\"Apple\", \"Mango\", \"Orange\"}\n",
    "fruits_listB = {\"Graph\", \"Pineapple\", \"Mango\"}\n",
    "\n",
    "fruits_listA.difference_update(fruits_listB)\n",
    "print(fruits_listA)"
   ]
  },
  {
   "cell_type": "markdown",
   "id": "38aab05c-9f76-4d55-85e3-2041cc8fc8f1",
   "metadata": {},
   "source": [
    "**discard()** : Remove the specified item"
   ]
  },
  {
   "cell_type": "code",
   "execution_count": 72,
   "id": "ff5eaf51-f539-4329-bb65-7f1e6df532fd",
   "metadata": {},
   "outputs": [
    {
     "name": "stdout",
     "output_type": "stream",
     "text": [
      "{'Mango', 'Apple', 'Orange'}\n"
     ]
    }
   ],
   "source": [
    "fruits_listA = {\"Apple\", \"Mango\", \"Orange\"}\n",
    "\n",
    "fruits_listA.discard(\"Banana\")\n",
    "print(fruits_listA)"
   ]
  },
  {
   "cell_type": "markdown",
   "id": "e49d5e22-916a-4a8b-af9c-a99f13122e72",
   "metadata": {},
   "source": [
    "**intersection()** : Returns a set, that is the intersection of two other sets"
   ]
  },
  {
   "cell_type": "code",
   "execution_count": 76,
   "id": "641f3fa5-9b34-4c8f-a196-701b373c255f",
   "metadata": {},
   "outputs": [
    {
     "name": "stdout",
     "output_type": "stream",
     "text": [
      "{'Mango'}\n"
     ]
    }
   ],
   "source": [
    "fruits_listA = {\"Apple\", \"Mango\", \"Orange\"}\n",
    "fruits_listB = {\"Graph\", \"Pineapple\", \"Mango\"}\n",
    "\n",
    "fruits_listC = fruits_listA.intersection(fruits_listB)\n",
    "print(fruits_listC)"
   ]
  },
  {
   "cell_type": "code",
   "execution_count": 77,
   "id": "7c931975-535e-4193-9b6e-5176ea659e6d",
   "metadata": {},
   "outputs": [
    {
     "name": "stdout",
     "output_type": "stream",
     "text": [
      "{'Mango'}\n"
     ]
    }
   ],
   "source": [
    "fruits_listA = {\"Apple\", \"Mango\", \"Orange\"}\n",
    "fruits_listB = {\"Graph\", \"Pineapple\", \"Mango\"}\n",
    "fruits_listC = {\"Graph\", \"Banana\", \"Mango\"}\n",
    "\n",
    "fruits_listD = fruits_listA.intersection(fruits_listB, fruits_listC)\n",
    "print(fruits_listD)"
   ]
  },
  {
   "cell_type": "markdown",
   "id": "b1071941-a743-427d-afbf-1dff71bca74e",
   "metadata": {},
   "source": [
    "**intersection_update()** : Removes the items in this set that are not present in other, specified set(s)"
   ]
  },
  {
   "cell_type": "code",
   "execution_count": 74,
   "id": "e226e7a3-96b8-4573-a0bb-81cd90ae782c",
   "metadata": {},
   "outputs": [
    {
     "name": "stdout",
     "output_type": "stream",
     "text": [
      "{'Mango'}\n"
     ]
    }
   ],
   "source": [
    "fruits_listA = {\"Apple\", \"Mango\", \"Orange\"}\n",
    "fruits_listB = {\"Graph\", \"Pineapple\", \"Mango\"}\n",
    "\n",
    "fruits_listA.intersection_update(fruits_listB)\n",
    "print(fruits_listA)"
   ]
  },
  {
   "cell_type": "markdown",
   "id": "83aa1fcc-a93f-4893-aae6-376d8dfbb706",
   "metadata": {},
   "source": [
    "**isdisjoint()** : Returns whether two sets have a intersection or not"
   ]
  },
  {
   "cell_type": "code",
   "execution_count": 80,
   "id": "4288126a-7b7d-4d99-9608-d62afa50d9fe",
   "metadata": {},
   "outputs": [
    {
     "data": {
      "text/plain": [
       "True"
      ]
     },
     "execution_count": 80,
     "metadata": {},
     "output_type": "execute_result"
    }
   ],
   "source": [
    "fruits_listA = {\"Apple\", \"Mango\", \"Orange\"}\n",
    "fruits_listB = {\"Graph\", \"Pineapple\", \"Banana\"}\n",
    "\n",
    "fruits_listA.isdisjoint(fruits_listB)"
   ]
  },
  {
   "cell_type": "markdown",
   "id": "a5d23d21-1fae-4101-8a44-8cfa26ed1903",
   "metadata": {},
   "source": [
    "**issubset()** : Returns whether another set contains this set or not"
   ]
  },
  {
   "cell_type": "code",
   "execution_count": 89,
   "id": "0fb9d0b8-a6d7-4789-99e6-0087ab8070ee",
   "metadata": {},
   "outputs": [
    {
     "data": {
      "text/plain": [
       "True"
      ]
     },
     "execution_count": 89,
     "metadata": {},
     "output_type": "execute_result"
    }
   ],
   "source": [
    "fruits_listA = {\"Apple\", \"Mango\", \"Orange\"}\n",
    "fruits_listB = {\"Apple\", \"Mango\"}\n",
    "\n",
    "fruits_listB.issubset(fruits_listA)"
   ]
  },
  {
   "cell_type": "markdown",
   "id": "adc7b953-7be6-4dd3-9a92-dd60e552275a",
   "metadata": {},
   "source": [
    "**issuperset()** : Returns whether this set contains another set or not"
   ]
  },
  {
   "cell_type": "code",
   "execution_count": 91,
   "id": "452c9651-e068-41c3-a098-22aeca52c6d6",
   "metadata": {},
   "outputs": [
    {
     "data": {
      "text/plain": [
       "True"
      ]
     },
     "execution_count": 91,
     "metadata": {},
     "output_type": "execute_result"
    }
   ],
   "source": [
    "fruits_listA = {\"Apple\", \"Mango\", \"Orange\"}\n",
    "fruits_listB = {\"Apple\", \"Mango\"}\n",
    "\n",
    "fruits_listA.issuperset(fruits_listB)"
   ]
  },
  {
   "cell_type": "markdown",
   "id": "bc4a59ad-46cf-4981-aefb-42ee659fe248",
   "metadata": {},
   "source": [
    "**pop()** : Removes an element from the set"
   ]
  },
  {
   "cell_type": "code",
   "execution_count": 81,
   "id": "b6b013ac-5864-4507-802a-fd7b01f694a8",
   "metadata": {},
   "outputs": [
    {
     "name": "stdout",
     "output_type": "stream",
     "text": [
      "Mango\n",
      "{'Apple', 'Orange'}\n"
     ]
    }
   ],
   "source": [
    "fruits_listA = {\"Apple\", \"Mango\", \"Orange\"}\n",
    "x = fruits_listA.pop()\n",
    "\n",
    "print(x)\n",
    "print(fruits_listA)"
   ]
  },
  {
   "cell_type": "markdown",
   "id": "a0a18ebf-4fc2-4db2-9049-ceec14bcc7a9",
   "metadata": {},
   "source": [
    "**remove()** : Removes the specified element"
   ]
  },
  {
   "cell_type": "code",
   "execution_count": 82,
   "id": "6fa66aa5-8c91-48fd-98b1-78f1068debcc",
   "metadata": {},
   "outputs": [
    {
     "name": "stdout",
     "output_type": "stream",
     "text": [
      "{'Mango', 'Orange'}\n"
     ]
    }
   ],
   "source": [
    "fruits_listA = {\"Apple\", \"Mango\", \"Orange\"}\n",
    "fruits_listA.remove(\"Apple\")\n",
    "\n",
    "print(fruits_listA)"
   ]
  },
  {
   "cell_type": "markdown",
   "id": "bd049b2f-61d6-46d9-b2ce-cf1e6b46038f",
   "metadata": {},
   "source": [
    "**symmetric_difference()** : Returns a set with the symmetric differences of two sets"
   ]
  },
  {
   "cell_type": "code",
   "execution_count": 84,
   "id": "b7000df7-2f4c-4429-aed7-1b6ae20cc4cc",
   "metadata": {},
   "outputs": [
    {
     "name": "stdout",
     "output_type": "stream",
     "text": [
      "{'Pineapple', 'Apple', 'Graph', 'Orange'}\n"
     ]
    }
   ],
   "source": [
    "fruits_listA = {\"Apple\", \"Mango\", \"Orange\"}\n",
    "fruits_listB = {\"Graph\", \"Pineapple\", \"Mango\"}\n",
    "\n",
    "fruits_listC = fruits_listA.symmetric_difference(fruits_listB)\n",
    "print(fruits_listC)"
   ]
  },
  {
   "cell_type": "markdown",
   "id": "b71a21c8-eec7-4379-a6cd-8dd1bfeb8118",
   "metadata": {},
   "source": [
    "**symmetric_difference_update()** : inserts the symmetric differences from this set and another"
   ]
  },
  {
   "cell_type": "code",
   "execution_count": 85,
   "id": "1f5fbf65-2ec5-4720-a818-ecfa8aa74934",
   "metadata": {},
   "outputs": [
    {
     "name": "stdout",
     "output_type": "stream",
     "text": [
      "{'Pineapple', 'Apple', 'Graph', 'Orange'}\n"
     ]
    }
   ],
   "source": [
    "fruits_listA = {\"Apple\", \"Mango\", \"Orange\"}\n",
    "fruits_listB = {\"Graph\", \"Pineapple\", \"Mango\"}\n",
    "\n",
    "fruits_listA.symmetric_difference_update(fruits_listB)\n",
    "print(fruits_listA)"
   ]
  },
  {
   "cell_type": "markdown",
   "id": "30b96c2b-db42-4b62-afc4-0dcf89175456",
   "metadata": {},
   "source": [
    "**union()** : Return a set containing the union of sets"
   ]
  },
  {
   "cell_type": "code",
   "execution_count": 86,
   "id": "e10c9fc4-19a8-4b84-a2c8-7fb9306fa384",
   "metadata": {},
   "outputs": [
    {
     "name": "stdout",
     "output_type": "stream",
     "text": [
      "{'Mango', 'Pineapple', 'Apple', 'Graph', 'Orange'}\n"
     ]
    }
   ],
   "source": [
    "fruits_listA = {\"Apple\", \"Mango\", \"Orange\"}\n",
    "fruits_listB = {\"Graph\", \"Pineapple\", \"Mango\"}\n",
    "\n",
    "fruits_listC = fruits_listA.union(fruits_listB)\n",
    "print(fruits_listC)"
   ]
  },
  {
   "cell_type": "code",
   "execution_count": 93,
   "id": "ff81c798-8a59-45c9-a7d2-15470b9450e3",
   "metadata": {},
   "outputs": [
    {
     "name": "stdout",
     "output_type": "stream",
     "text": [
      "{'Mango', 'Pineapple', 'Apple', 'Graph', 'Orange', 'Jackfruit'}\n"
     ]
    }
   ],
   "source": [
    "fruits_listA = {\"Apple\", \"Mango\", \"Orange\"}\n",
    "fruits_listB = {\"Graph\", \"Pineapple\", \"Mango\"}\n",
    "fruits_listC = {\"Apple\", \"Jackfruit\", \"Mango\"}\n",
    "\n",
    "fruits_listD = fruits_listA.union(fruits_listB, fruits_listC)\n",
    "print(fruits_listD)"
   ]
  },
  {
   "cell_type": "markdown",
   "id": "920522c7-e96c-48c4-ba62-d55212fff162",
   "metadata": {},
   "source": [
    "**update()** : Update the set with the union of this set and others"
   ]
  },
  {
   "cell_type": "code",
   "execution_count": 87,
   "id": "5d4a7cfd-562a-4c17-b0d4-b6d1a5155cb6",
   "metadata": {},
   "outputs": [
    {
     "name": "stdout",
     "output_type": "stream",
     "text": [
      "{'Mango', 'Pineapple', 'Apple', 'Graph', 'Orange'}\n"
     ]
    }
   ],
   "source": [
    "fruits_listA = {\"Apple\", \"Mango\", \"Orange\"}\n",
    "fruits_listB = {\"Graph\", \"Pineapple\", \"Mango\"}\n",
    "\n",
    "fruits_listA.update(fruits_listB)\n",
    "print(fruits_listA)"
   ]
  },
  {
   "cell_type": "code",
   "execution_count": null,
   "id": "8e9a2f0f-c59e-4c76-9418-51c25b8c6f2d",
   "metadata": {},
   "outputs": [],
   "source": []
  }
 ],
 "metadata": {
  "kernelspec": {
   "display_name": "Python 3 (ipykernel)",
   "language": "python",
   "name": "python3"
  },
  "language_info": {
   "codemirror_mode": {
    "name": "ipython",
    "version": 3
   },
   "file_extension": ".py",
   "mimetype": "text/x-python",
   "name": "python",
   "nbconvert_exporter": "python",
   "pygments_lexer": "ipython3",
   "version": "3.10.9"
  }
 },
 "nbformat": 4,
 "nbformat_minor": 5
}
