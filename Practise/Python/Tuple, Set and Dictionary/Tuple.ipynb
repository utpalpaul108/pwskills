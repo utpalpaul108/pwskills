{
 "cells": [
  {
   "cell_type": "markdown",
   "id": "0afcaa9b-95c6-4793-9e79-98e4e813a458",
   "metadata": {},
   "source": [
    "## **Tuple**\n",
    "* Tuple items are ordered, unchangeable, and allow duplicate values."
   ]
  },
  {
   "cell_type": "code",
   "execution_count": 114,
   "id": "443932a9-7673-4eed-a958-810578b94641",
   "metadata": {},
   "outputs": [
    {
     "data": {
      "text/plain": [
       "tuple"
      ]
     },
     "execution_count": 114,
     "metadata": {},
     "output_type": "execute_result"
    }
   ],
   "source": [
    "fruits=(\"Apple\",\"Banana\",\"Mango\",\"Apple\")\n",
    "type(fruits)"
   ]
  },
  {
   "cell_type": "code",
   "execution_count": 105,
   "id": "739c9412-2e02-411f-8fac-4826beee426e",
   "metadata": {},
   "outputs": [
    {
     "name": "stdout",
     "output_type": "stream",
     "text": [
      "Mango\n"
     ]
    }
   ],
   "source": [
    "print(fruits[-1])"
   ]
  },
  {
   "cell_type": "code",
   "execution_count": 106,
   "id": "1e15825b-8e2b-4f66-aba1-82b425fcfcf5",
   "metadata": {},
   "outputs": [
    {
     "name": "stdout",
     "output_type": "stream",
     "text": [
      "('Mango', 'Banana', 'Apple')\n"
     ]
    }
   ],
   "source": [
    "print(fruits[::-1])"
   ]
  },
  {
   "cell_type": "code",
   "execution_count": 111,
   "id": "aaf76f7d-a9cd-48c7-a9c9-2729a822628e",
   "metadata": {},
   "outputs": [
    {
     "name": "stdout",
     "output_type": "stream",
     "text": [
      "('Apple', 'Banana')\n"
     ]
    }
   ],
   "source": [
    "print(fruits[:2])"
   ]
  },
  {
   "cell_type": "code",
   "execution_count": 115,
   "id": "8ca8e3cb-1878-4443-9f15-21a2054f739a",
   "metadata": {},
   "outputs": [
    {
     "name": "stdout",
     "output_type": "stream",
     "text": [
      "2\n"
     ]
    }
   ],
   "source": [
    "print(fruits.count(\"Apple\"))"
   ]
  },
  {
   "cell_type": "code",
   "execution_count": 132,
   "id": "e1aff4fb-189f-4d90-b6ba-86c08b68654c",
   "metadata": {},
   "outputs": [
    {
     "name": "stdout",
     "output_type": "stream",
     "text": [
      "Max Value: 399\n",
      "Min Value: 20\n"
     ]
    }
   ],
   "source": [
    "list01 = (85,20,200,399,100,50)\n",
    "print(\"Max Value:\",max(list01))\n",
    "print(\"Min Value:\",min(list01))"
   ]
  },
  {
   "cell_type": "markdown",
   "id": "340ddf84-dd46-42fc-8f06-f18b4f38fb11",
   "metadata": {},
   "source": [
    "#### Create Tuple With One Item\n",
    "* To create a tuple with only one item, you have to add a comma after the item, otherwise Python will not recognize it as a tuple."
   ]
  },
  {
   "cell_type": "code",
   "execution_count": 2,
   "id": "feabbf2d-6ed6-49cc-8c29-03e47156a3b9",
   "metadata": {},
   "outputs": [
    {
     "data": {
      "text/plain": [
       "str"
      ]
     },
     "execution_count": 2,
     "metadata": {},
     "output_type": "execute_result"
    }
   ],
   "source": [
    "fruits =(\"Mango\")\n",
    "type(fruits)"
   ]
  },
  {
   "cell_type": "code",
   "execution_count": 4,
   "id": "da44f296-49e3-4542-a46c-9d535ceef872",
   "metadata": {},
   "outputs": [
    {
     "name": "stdout",
     "output_type": "stream",
     "text": [
      "<class 'tuple'>\n"
     ]
    }
   ],
   "source": [
    "fruits =(\"Mango\",)\n",
    "print(type(fruits))"
   ]
  },
  {
   "cell_type": "markdown",
   "id": "7e76765e-a01b-455a-bb15-44c6918e4d3c",
   "metadata": {},
   "source": [
    "#### The tuple() Constructor"
   ]
  },
  {
   "cell_type": "code",
   "execution_count": 6,
   "id": "20c6df4c-5a68-4b0e-947e-f7b69a0bcf54",
   "metadata": {},
   "outputs": [
    {
     "name": "stdout",
     "output_type": "stream",
     "text": [
      "<class 'tuple'>\n"
     ]
    }
   ],
   "source": [
    "fruits =tuple((\"Apple\", \"Mango\", \"Banana\"))\n",
    "print(type(fruits))"
   ]
  },
  {
   "cell_type": "code",
   "execution_count": 7,
   "id": "bb14ccec-d58c-4e2c-a2fb-d69bb823e72c",
   "metadata": {},
   "outputs": [
    {
     "name": "stdout",
     "output_type": "stream",
     "text": [
      "<class 'tuple'>\n"
     ]
    }
   ],
   "source": [
    "fruits =tuple([\"Apple\", \"Mango\", \"Banana\"])\n",
    "print(type(fruits))"
   ]
  },
  {
   "cell_type": "code",
   "execution_count": 2,
   "id": "3bfc429e-bed9-4955-a7a6-ecb067605297",
   "metadata": {},
   "outputs": [
    {
     "name": "stdout",
     "output_type": "stream",
     "text": [
      "<class 'tuple'>\n"
     ]
    }
   ],
   "source": [
    "fruits =tuple({\"Apple\", \"Mango\", \"Banana\"})\n",
    "print(type(fruits))"
   ]
  },
  {
   "cell_type": "markdown",
   "id": "301326c9-9a9f-49d0-b706-717543bdc2a8",
   "metadata": {},
   "source": [
    "#### Access Tuple Items"
   ]
  },
  {
   "cell_type": "code",
   "execution_count": 3,
   "id": "e18dae34-ab00-4889-bbba-0ef43474ad38",
   "metadata": {},
   "outputs": [
    {
     "data": {
      "text/plain": [
       "'Mango'"
      ]
     },
     "execution_count": 3,
     "metadata": {},
     "output_type": "execute_result"
    }
   ],
   "source": [
    "fruits[0]"
   ]
  },
  {
   "cell_type": "code",
   "execution_count": 4,
   "id": "878e80d8-c593-4074-8f32-dc843a523e2a",
   "metadata": {},
   "outputs": [
    {
     "data": {
      "text/plain": [
       "'Banana'"
      ]
     },
     "execution_count": 4,
     "metadata": {},
     "output_type": "execute_result"
    }
   ],
   "source": [
    "fruits[-1]"
   ]
  },
  {
   "cell_type": "markdown",
   "id": "f5eb8f1e-6a02-40d9-a3ef-7604c870148d",
   "metadata": {},
   "source": [
    "#### Range of Indexes"
   ]
  },
  {
   "cell_type": "code",
   "execution_count": 9,
   "id": "b24424bc-e17d-45ad-a8fa-1cde9b5a1355",
   "metadata": {},
   "outputs": [
    {
     "data": {
      "text/plain": [
       "('Mango', 'Apple')"
      ]
     },
     "execution_count": 9,
     "metadata": {},
     "output_type": "execute_result"
    }
   ],
   "source": [
    "fruits[:2]"
   ]
  },
  {
   "cell_type": "markdown",
   "id": "f7876c3d-082b-4522-914a-71a7a7c05142",
   "metadata": {},
   "source": [
    "#### Check if Item Exists"
   ]
  },
  {
   "cell_type": "code",
   "execution_count": 11,
   "id": "723dc74a-66d0-4f97-a92c-58df0c39cf01",
   "metadata": {},
   "outputs": [
    {
     "data": {
      "text/plain": [
       "True"
      ]
     },
     "execution_count": 11,
     "metadata": {},
     "output_type": "execute_result"
    }
   ],
   "source": [
    "\"Mango\" in fruits"
   ]
  },
  {
   "cell_type": "markdown",
   "id": "878e98ec-85af-4ad0-8aaf-b1b4624e6649",
   "metadata": {},
   "source": [
    "#### Change Tuple Values\n",
    "* Once a tuple is created, we cannot change its values. Tuples are unchangeable, or immutable as it also is called. But there is a workaround. We can convert the tuple into a list, change the list, and convert the list back into a tuple."
   ]
  },
  {
   "cell_type": "code",
   "execution_count": 15,
   "id": "f7999fde-5e0a-43e0-b6a0-bfaff276dd13",
   "metadata": {},
   "outputs": [
    {
     "data": {
      "text/plain": [
       "('Mango', 'Apple', 'Pineapple')"
      ]
     },
     "execution_count": 15,
     "metadata": {},
     "output_type": "execute_result"
    }
   ],
   "source": [
    "fruits = list(fruits)\n",
    "fruits[2] = \"Pineapple\"\n",
    "fruits = tuple(fruits)\n",
    "fruits"
   ]
  },
  {
   "cell_type": "markdown",
   "id": "b7bf5c4d-201b-43e4-863c-efae60d32a3b",
   "metadata": {},
   "source": [
    "#### Add Items\n",
    "* Since tuples are immutable, they do not have a build-in append() method, but there are other ways to add items to a tuple."
   ]
  },
  {
   "cell_type": "markdown",
   "id": "b5c8705a-3972-46ca-9b9f-3c4bc0480588",
   "metadata": {},
   "source": [
    "**1. Convert into a list:** Just like the workaround for changing a tuple, we can convert it into a list, add your item(s), and convert it back into a tuple."
   ]
  },
  {
   "cell_type": "code",
   "execution_count": 17,
   "id": "a0bc8cee-4a16-4a22-818e-a043a8827dfb",
   "metadata": {},
   "outputs": [
    {
     "data": {
      "text/plain": [
       "('Mango', 'Apple', 'Pineapple', 'Lemon')"
      ]
     },
     "execution_count": 17,
     "metadata": {},
     "output_type": "execute_result"
    }
   ],
   "source": [
    "fruits = list(fruits)\n",
    "fruits.append(\"Lemon\")\n",
    "fruits = tuple(fruits)\n",
    "fruits"
   ]
  },
  {
   "cell_type": "markdown",
   "id": "f478ad69-4512-42ba-a9be-249ee7e23dde",
   "metadata": {},
   "source": [
    "**2. Add tuple to a tuple.** You are allowed to add tuples to tuples, so if you want to add one item, (or many), create a new tuple with the item(s), and add it to the existing tuple:"
   ]
  },
  {
   "cell_type": "code",
   "execution_count": 20,
   "id": "35b4e296-1bde-4ce9-8485-24849743b335",
   "metadata": {},
   "outputs": [
    {
     "data": {
      "text/plain": [
       "('Mango', 'Orange', 'Banana', 'Apple')"
      ]
     },
     "execution_count": 20,
     "metadata": {},
     "output_type": "execute_result"
    }
   ],
   "source": [
    "fruits=(\"Mango\", \"Orange\", \"Banana\")\n",
    "newFruits=(\"Apple\",)\n",
    "fruits += newFruits\n",
    "fruits"
   ]
  },
  {
   "cell_type": "markdown",
   "id": "4635eda3-74ac-4765-be88-f854bd863c8d",
   "metadata": {},
   "source": [
    "#### Remove Items\n",
    "* Tuples are unchangeable, so we cannot remove items from it, but we can use the same workaround as we used for changing and adding tuple items."
   ]
  },
  {
   "cell_type": "code",
   "execution_count": 22,
   "id": "92aaa8d5-8fb1-485a-b428-2d9ffed9c859",
   "metadata": {},
   "outputs": [
    {
     "data": {
      "text/plain": [
       "('Mango', 'Banana')"
      ]
     },
     "execution_count": 22,
     "metadata": {},
     "output_type": "execute_result"
    }
   ],
   "source": [
    "fruits=(\"Mango\", \"Orange\", \"Banana\")\n",
    "fruits=list(fruits)\n",
    "fruits.remove(\"Orange\")\n",
    "fruits=tuple(fruits)\n",
    "fruits"
   ]
  },
  {
   "cell_type": "markdown",
   "id": "cd8392b4-dbeb-4a0d-a555-f7a9f8253a57",
   "metadata": {},
   "source": [
    "#### Delete Tuple"
   ]
  },
  {
   "cell_type": "code",
   "execution_count": 23,
   "id": "4637a795-9f8f-437a-acb8-47e58bfc388a",
   "metadata": {},
   "outputs": [
    {
     "name": "stdout",
     "output_type": "stream",
     "text": [
      "('Mango', 'Banana')\n"
     ]
    },
    {
     "ename": "NameError",
     "evalue": "name 'fruits' is not defined",
     "output_type": "error",
     "traceback": [
      "\u001b[1;31m---------------------------------------------------------------------------\u001b[0m",
      "\u001b[1;31mNameError\u001b[0m                                 Traceback (most recent call last)",
      "Cell \u001b[1;32mIn[23], line 3\u001b[0m\n\u001b[0;32m      1\u001b[0m \u001b[38;5;28mprint\u001b[39m(fruits)\n\u001b[0;32m      2\u001b[0m \u001b[38;5;28;01mdel\u001b[39;00m fruits\n\u001b[1;32m----> 3\u001b[0m \u001b[38;5;28mprint\u001b[39m(\u001b[43mfruits\u001b[49m)\n",
      "\u001b[1;31mNameError\u001b[0m: name 'fruits' is not defined"
     ]
    }
   ],
   "source": [
    "print(fruits)\n",
    "del fruits\n",
    "print(fruits)"
   ]
  },
  {
   "cell_type": "markdown",
   "id": "1dab7861-81d7-470f-aabf-6f72cf0c4443",
   "metadata": {},
   "source": [
    "#### Unpacking a Tuple"
   ]
  },
  {
   "cell_type": "code",
   "execution_count": 24,
   "id": "6dafe19a-edf8-47f8-a4e9-beccafcbf9f9",
   "metadata": {},
   "outputs": [
    {
     "name": "stdout",
     "output_type": "stream",
     "text": [
      "Apple\n",
      "Banana\n",
      "Mango\n"
     ]
    }
   ],
   "source": [
    "fruits = (\"Apple\", \"Banana\", \"Mango\")\n",
    "fruit1,fruit2,fruit3 = fruits\n",
    "print(fruit1)\n",
    "print(fruit2)\n",
    "print(fruit3)"
   ]
  },
  {
   "cell_type": "markdown",
   "id": "6873d84d-abb3-407a-9f3d-19c99e01c47f",
   "metadata": {},
   "source": [
    "#### Using Asterisk*\n",
    "* If the number of variables is less than the number of values, we can add an * to the variable name and the values will be assigned to the variable as a list"
   ]
  },
  {
   "cell_type": "code",
   "execution_count": 28,
   "id": "3f8fde0e-9fc5-41ef-8b91-ad3edb4ef7dc",
   "metadata": {},
   "outputs": [
    {
     "name": "stdout",
     "output_type": "stream",
     "text": [
      "apple\n",
      "banana\n",
      "['cherry', 'strawberry', 'raspberry']\n"
     ]
    }
   ],
   "source": [
    "fruits = (\"apple\", \"banana\", \"cherry\", \"strawberry\", \"raspberry\")\n",
    "fruit1,fruit2,*others = fruits\n",
    "print(fruit1)\n",
    "print(fruit2)\n",
    "print(others)"
   ]
  },
  {
   "cell_type": "code",
   "execution_count": 2,
   "id": "80666c11-c446-49ed-bbdc-1486485b2069",
   "metadata": {},
   "outputs": [
    {
     "name": "stdout",
     "output_type": "stream",
     "text": [
      "apple\n",
      "['banana', 'cherry', 'strawberry']\n",
      "raspberry\n"
     ]
    }
   ],
   "source": [
    "fruits = (\"apple\", \"banana\", \"cherry\", \"strawberry\", \"raspberry\")\n",
    "fruit1,*fruit2,others = fruits\n",
    "print(fruit1)\n",
    "print(fruit2)\n",
    "print(others)"
   ]
  },
  {
   "cell_type": "markdown",
   "id": "feba31cb-6059-483d-810b-33b61d381139",
   "metadata": {},
   "source": [
    "## For Loop"
   ]
  },
  {
   "cell_type": "code",
   "execution_count": 33,
   "id": "d2ad60e9-53ad-4bf0-9cf8-2c4b98a278b6",
   "metadata": {},
   "outputs": [
    {
     "name": "stdout",
     "output_type": "stream",
     "text": [
      "Apple\n",
      "Banana\n",
      "Cherry\n",
      "Strawberry\n",
      "Raspberry\n"
     ]
    }
   ],
   "source": [
    "for fruit in fruits:\n",
    "    print(fruit.title())"
   ]
  },
  {
   "cell_type": "code",
   "execution_count": 31,
   "id": "dadca363-6483-4402-bb4b-b49d8e50dfd0",
   "metadata": {},
   "outputs": [
    {
     "name": "stdout",
     "output_type": "stream",
     "text": [
      "Apple\n",
      "Banana\n",
      "Cherry\n",
      "Strawberry\n",
      "Raspberry\n"
     ]
    }
   ],
   "source": [
    "for i in range(len(fruits)):\n",
    "    print(fruits[i].title())"
   ]
  },
  {
   "cell_type": "markdown",
   "id": "4cf2b4e9-9e27-4a7e-9f09-2d6168d60733",
   "metadata": {},
   "source": [
    "## While Loop"
   ]
  },
  {
   "cell_type": "code",
   "execution_count": 4,
   "id": "e571e67a-e02d-4ad9-80e5-21eed8c83610",
   "metadata": {},
   "outputs": [
    {
     "name": "stdout",
     "output_type": "stream",
     "text": [
      "apple\n",
      "banana\n",
      "cherry\n",
      "strawberry\n",
      "raspberry\n"
     ]
    }
   ],
   "source": [
    "i=0\n",
    "while(i<len(fruits)):\n",
    "    print(fruits[i])\n",
    "    i+=1"
   ]
  },
  {
   "cell_type": "markdown",
   "id": "e438d81c-c946-440f-bd98-5477122dd116",
   "metadata": {},
   "source": [
    "## Join Two Tuples\n",
    "* To join two or more tuples we can use the + operator"
   ]
  },
  {
   "cell_type": "code",
   "execution_count": 5,
   "id": "2c5befe1-7e2a-4eab-a8c2-8dd58eed2f21",
   "metadata": {},
   "outputs": [
    {
     "data": {
      "text/plain": [
       "('Apple', 'Banana', 'Mango', 'Orange', 'Pineapple')"
      ]
     },
     "execution_count": 5,
     "metadata": {},
     "output_type": "execute_result"
    }
   ],
   "source": [
    "fruit_list1 = (\"Apple\",\"Banana\",\"Mango\")\n",
    "fruit_list2 = (\"Orange\",\"Pineapple\")\n",
    "all_fruits = fruit_list1 + fruit_list2\n",
    "all_fruits"
   ]
  },
  {
   "cell_type": "markdown",
   "id": "5b73c4a2-29d5-47be-9210-1f8c1b247663",
   "metadata": {},
   "source": [
    "## Multiply Tuples\n",
    "* If we want to multiply the content of a tuple a given number of times, you can use the * operator"
   ]
  },
  {
   "cell_type": "code",
   "execution_count": 8,
   "id": "e127f9ab-eeaf-4e43-ba74-59063a060206",
   "metadata": {},
   "outputs": [
    {
     "data": {
      "text/plain": [
       "('Orange', 'Pineapple', 'Orange', 'Pineapple', 'Orange', 'Pineapple')"
      ]
     },
     "execution_count": 8,
     "metadata": {},
     "output_type": "execute_result"
    }
   ],
   "source": [
    "newList=fruit_list2*3\n",
    "newList"
   ]
  },
  {
   "cell_type": "markdown",
   "id": "09e52673-a091-4f84-9d22-a63a92f87929",
   "metadata": {},
   "source": [
    "## Nested Tuple"
   ]
  },
  {
   "cell_type": "code",
   "execution_count": 138,
   "id": "d887bebc-270d-4ece-8a35-e185ac31cd3d",
   "metadata": {},
   "outputs": [
    {
     "name": "stdout",
     "output_type": "stream",
     "text": [
      "(('Apple', 'Mango', 'Jackfruit'), ['Lemon', 'Orange'], {'Pineapple', 'Banana'}, {'frt01': 'Guava', 'frt02': 'Liche'})\n",
      "(('Apple', 'Mango', 'Jackfruit'), ['Lemon', 'Orange'], {'Pineapple', 'Banana'}, {'frt01': 'Guava', 'frt02': 'Liche'})\n"
     ]
    }
   ],
   "source": [
    "tuple01 = (\"Apple\", \"Mango\", \"Jackfruit\")\n",
    "list01 = [\"Lemon\", \"Orange\"]\n",
    "set01 = {\"Pineapple\", \"Banana\"}\n",
    "dict01 = {\"frt01\":\"Guava\", \"frt02\":\"Liche\"}\n",
    "\n",
    "myTuple1 = (tuple01,list01,set01,dict01)\n",
    "myTuple2 = tuple((tuple01,list01,set01,dict01))\n",
    "\n",
    "print(myTuple1)\n",
    "print(myTuple2)"
   ]
  },
  {
   "cell_type": "markdown",
   "id": "d03d80fe-ca08-43ad-86ec-255d3c0b2799",
   "metadata": {},
   "source": [
    "## Tuple Methods"
   ]
  },
  {
   "cell_type": "markdown",
   "id": "3788c185-5673-4a09-8c4b-2919cfc722a9",
   "metadata": {},
   "source": [
    "#### count\n",
    "* Returns the number of times a specified value occurs in a tuple"
   ]
  },
  {
   "cell_type": "code",
   "execution_count": 9,
   "id": "a9641977-2ce4-4a3f-a0b6-0abed2f6fd69",
   "metadata": {},
   "outputs": [
    {
     "data": {
      "text/plain": [
       "3"
      ]
     },
     "execution_count": 9,
     "metadata": {},
     "output_type": "execute_result"
    }
   ],
   "source": [
    "newList.count(\"Orange\")"
   ]
  },
  {
   "cell_type": "markdown",
   "id": "e74a9e7b-ca5c-4b3c-93fa-a8203ce230bf",
   "metadata": {},
   "source": [
    "#### index\n",
    "* Searches the tuple for a specified value and returns the position of where it was found"
   ]
  },
  {
   "cell_type": "code",
   "execution_count": 11,
   "id": "e6d43b19-62bb-43f1-bc37-6b240e2bf731",
   "metadata": {},
   "outputs": [
    {
     "data": {
      "text/plain": [
       "1"
      ]
     },
     "execution_count": 11,
     "metadata": {},
     "output_type": "execute_result"
    }
   ],
   "source": [
    "newList.index(\"Pineapple\")"
   ]
  },
  {
   "cell_type": "code",
   "execution_count": null,
   "id": "aeaa28ab-2f08-4cde-9574-d4edd996592f",
   "metadata": {},
   "outputs": [],
   "source": []
  }
 ],
 "metadata": {
  "kernelspec": {
   "display_name": "Python 3 (ipykernel)",
   "language": "python",
   "name": "python3"
  },
  "language_info": {
   "codemirror_mode": {
    "name": "ipython",
    "version": 3
   },
   "file_extension": ".py",
   "mimetype": "text/x-python",
   "name": "python",
   "nbconvert_exporter": "python",
   "pygments_lexer": "ipython3",
   "version": "3.10.9"
  }
 },
 "nbformat": 4,
 "nbformat_minor": 5
}
