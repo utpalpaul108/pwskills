{
 "cells": [
  {
   "cell_type": "markdown",
   "id": "5774d3e7-304d-49a8-b4f8-9139413533f7",
   "metadata": {},
   "source": [
    "## Dictionaries"
   ]
  },
  {
   "cell_type": "code",
   "execution_count": 43,
   "id": "df6c9002-e99d-41bb-9d67-a419564c9a45",
   "metadata": {},
   "outputs": [
    {
     "name": "stdout",
     "output_type": "stream",
     "text": [
      "Utpal Paul\n"
     ]
    }
   ],
   "source": [
    "userInfo = {\"name\":\"Utpal Paul\", \"email\":\"utpalseu@gmail.com\", \"country\":\"Bangladesh\"}\n",
    "print(userInfo[\"name\"])"
   ]
  },
  {
   "cell_type": "markdown",
   "id": "ffad8e48-a6ed-4c8a-a3a7-2b0f38f5fa52",
   "metadata": {},
   "source": [
    "#### The dict() Constructor"
   ]
  },
  {
   "cell_type": "code",
   "execution_count": 6,
   "id": "4365c97f-b735-4486-ad85-36c9b9dab619",
   "metadata": {},
   "outputs": [
    {
     "name": "stdout",
     "output_type": "stream",
     "text": [
      "{'name': 'Utpal Paul', 'email': 'utpalseu@gmail.com'}\n"
     ]
    }
   ],
   "source": [
    "userInfo = dict(name=\"Utpal Paul\",email=\"utpalseu@gmail.com\")\n",
    "print(userInfo)"
   ]
  },
  {
   "cell_type": "markdown",
   "id": "a932b2cd-599c-4919-9da0-19b65470d28b",
   "metadata": {},
   "source": [
    "#### Accessing Items"
   ]
  },
  {
   "cell_type": "code",
   "execution_count": 7,
   "id": "af467865-cf6c-4a4d-a683-98e3b35a5549",
   "metadata": {},
   "outputs": [
    {
     "data": {
      "text/plain": [
       "'Utpal Paul'"
      ]
     },
     "execution_count": 7,
     "metadata": {},
     "output_type": "execute_result"
    }
   ],
   "source": [
    "userInfo[\"name\"]"
   ]
  },
  {
   "cell_type": "markdown",
   "id": "d9ff5ffb-5005-4de0-a2ee-62e0bd8a770d",
   "metadata": {},
   "source": [
    "There is also a method called **get()** that will give us the same result"
   ]
  },
  {
   "cell_type": "code",
   "execution_count": 8,
   "id": "c1193b4c-03b7-484f-a467-58620c75327f",
   "metadata": {},
   "outputs": [
    {
     "name": "stdout",
     "output_type": "stream",
     "text": [
      "Utpal Paul\n"
     ]
    }
   ],
   "source": [
    "name = userInfo.get(\"name\")\n",
    "print(name)"
   ]
  },
  {
   "cell_type": "code",
   "execution_count": 83,
   "id": "e1743487-219d-4caf-a15f-5a3cecbcf619",
   "metadata": {},
   "outputs": [
    {
     "data": {
      "text/plain": [
       "2500"
      ]
     },
     "execution_count": 83,
     "metadata": {},
     "output_type": "execute_result"
    }
   ],
   "source": [
    "userInfo.get(\"age\",2500)"
   ]
  },
  {
   "cell_type": "markdown",
   "id": "7358366f-53d6-48d0-9f1e-479b7974b759",
   "metadata": {},
   "source": [
    "#### Get Keys"
   ]
  },
  {
   "cell_type": "code",
   "execution_count": 9,
   "id": "48a658aa-9538-4d75-acab-acf9e9293127",
   "metadata": {},
   "outputs": [
    {
     "name": "stdout",
     "output_type": "stream",
     "text": [
      "dict_keys(['name', 'email'])\n"
     ]
    }
   ],
   "source": [
    "userKeys = userInfo.keys()\n",
    "print(userKeys)"
   ]
  },
  {
   "cell_type": "markdown",
   "id": "16321018-dcb4-4ea4-884b-13c5c5a23754",
   "metadata": {},
   "source": [
    "#### Get Values"
   ]
  },
  {
   "cell_type": "code",
   "execution_count": 10,
   "id": "02b7b867-96c8-411b-9138-144e37f4becb",
   "metadata": {},
   "outputs": [
    {
     "name": "stdout",
     "output_type": "stream",
     "text": [
      "dict_values(['Utpal Paul', 'utpalseu@gmail.com'])\n"
     ]
    }
   ],
   "source": [
    "userValues = userInfo.values()\n",
    "print(userValues)"
   ]
  },
  {
   "cell_type": "markdown",
   "id": "d92731ca-f400-4884-a6cf-637a73d63455",
   "metadata": {},
   "source": [
    "#### Get Items"
   ]
  },
  {
   "cell_type": "code",
   "execution_count": 11,
   "id": "8e3fb4d7-8956-413c-8ff6-46a0347d4843",
   "metadata": {},
   "outputs": [
    {
     "name": "stdout",
     "output_type": "stream",
     "text": [
      "dict_items([('name', 'Utpal Paul'), ('email', 'utpalseu@gmail.com')])\n"
     ]
    }
   ],
   "source": [
    "userItems = userInfo.items()\n",
    "print(userItems)"
   ]
  },
  {
   "cell_type": "code",
   "execution_count": 14,
   "id": "6633e88f-8c4a-4f09-a9e0-589f723a3610",
   "metadata": {},
   "outputs": [
    {
     "name": "stdout",
     "output_type": "stream",
     "text": [
      "('name', 'Utpal Paul')\n",
      "('email', 'utpalseu@gmail.com')\n"
     ]
    }
   ],
   "source": [
    "for userItem in userItems:\n",
    "    print(userItem)"
   ]
  },
  {
   "cell_type": "code",
   "execution_count": 18,
   "id": "cbaa7cdf-b306-4349-9ab1-75168ffd4124",
   "metadata": {},
   "outputs": [],
   "source": [
    "userInfo[\"address\"]=\"Bagerhat\""
   ]
  },
  {
   "cell_type": "code",
   "execution_count": 19,
   "id": "225deb39-398e-4dd5-9a23-6a1d013621ba",
   "metadata": {},
   "outputs": [
    {
     "name": "stdout",
     "output_type": "stream",
     "text": [
      "dict_items([('name', 'Utpal Paul'), ('email', 'utpalseu@gmail.com'), ('country', 'Bangladesh'), ('address', 'Bagerhat')])\n"
     ]
    }
   ],
   "source": [
    "userItems = userInfo.items()\n",
    "print(userItems)"
   ]
  },
  {
   "cell_type": "markdown",
   "id": "6de1037c-c386-4212-8296-9e1a277d1f40",
   "metadata": {},
   "source": [
    "#### Check if Key Exists"
   ]
  },
  {
   "cell_type": "code",
   "execution_count": 21,
   "id": "6414d108-29b6-447c-af86-a8604bdb2ca4",
   "metadata": {},
   "outputs": [
    {
     "name": "stdout",
     "output_type": "stream",
     "text": [
      "True\n",
      "False\n"
     ]
    }
   ],
   "source": [
    "print(\"name\" in userInfo)\n",
    "print(\"age\" in userInfo)"
   ]
  },
  {
   "cell_type": "markdown",
   "id": "f2e259cd-394e-4530-a08f-6ec8d8898495",
   "metadata": {},
   "source": [
    "#### Change Values"
   ]
  },
  {
   "cell_type": "code",
   "execution_count": 22,
   "id": "86db8b80-bb6d-454a-a7b2-63b822e5ff37",
   "metadata": {},
   "outputs": [
    {
     "name": "stdout",
     "output_type": "stream",
     "text": [
      "{'name': 'Utpal Paul', 'email': 'utpalseu@gmail.com', 'country': 'India', 'address': 'Bagerhat'}\n"
     ]
    }
   ],
   "source": [
    "userInfo[\"country\"]=\"India\"\n",
    "print(userInfo)"
   ]
  },
  {
   "cell_type": "markdown",
   "id": "b591173b-b17b-4c04-a14e-1130619c94d7",
   "metadata": {},
   "source": [
    "#### Update Dictionary\n",
    "* The **update()** method will update the dictionary with the items from a given argument. If the item does not exist, the item will be added."
   ]
  },
  {
   "cell_type": "code",
   "execution_count": 24,
   "id": "97c706ac-611f-45f0-bb3b-6b8ef81b5bac",
   "metadata": {},
   "outputs": [
    {
     "name": "stdout",
     "output_type": "stream",
     "text": [
      "{'name': 'Rajesh', 'email': 'rajesh@gmail.com', 'country': 'India', 'address': 'Bagerhat', 'location': 'Hawra'}\n"
     ]
    }
   ],
   "source": [
    "userInfo.update({\"name\":\"Rajesh\", \"email\":\"rajesh@gmail.com\", \"location\":\"Hawra\"})\n",
    "print(userInfo)"
   ]
  },
  {
   "cell_type": "markdown",
   "id": "a7084299-25d7-4bfb-ab2a-1f1f0fb0bee6",
   "metadata": {},
   "source": [
    "#### Adding Items"
   ]
  },
  {
   "cell_type": "code",
   "execution_count": 25,
   "id": "13ae1c64-2c34-4613-abb1-7eee4fe1d6d4",
   "metadata": {},
   "outputs": [
    {
     "name": "stdout",
     "output_type": "stream",
     "text": [
      "{'name': 'Rajesh', 'email': 'rajesh@gmail.com', 'country': 'India', 'address': 'Bagerhat', 'location': 'Hawra', 'age': 20}\n"
     ]
    }
   ],
   "source": [
    "userInfo[\"age\"]=20\n",
    "print(userInfo)"
   ]
  },
  {
   "cell_type": "markdown",
   "id": "27b1b5e0-0504-44d4-b81a-3a93c0e7db36",
   "metadata": {},
   "source": [
    "#### Removing Items"
   ]
  },
  {
   "cell_type": "markdown",
   "id": "ab6c2e33-9fca-4296-81f3-2b6cdf01ae04",
   "metadata": {},
   "source": [
    "The **pop()** method removes the item with the specified key name"
   ]
  },
  {
   "cell_type": "code",
   "execution_count": 36,
   "id": "15408f46-3588-4b9f-9c1d-9137ca860e48",
   "metadata": {},
   "outputs": [
    {
     "name": "stdout",
     "output_type": "stream",
     "text": [
      "{'name': 'Utpal Paul', 'country': 'Bangladesh'}\n"
     ]
    }
   ],
   "source": [
    "userInfo.pop(\"email\")\n",
    "print(userInfo)"
   ]
  },
  {
   "cell_type": "markdown",
   "id": "cd13d27b-cead-4c1a-acfe-a45569247ef5",
   "metadata": {},
   "source": [
    "The **popitem()** method removes the last inserted item (in versions before 3.7, a random item is removed instead)"
   ]
  },
  {
   "cell_type": "code",
   "execution_count": 28,
   "id": "56c7b992-25ab-4edc-bbac-0f4a6c4d8c36",
   "metadata": {},
   "outputs": [
    {
     "name": "stdout",
     "output_type": "stream",
     "text": [
      "{'name': 'Rajesh', 'email': 'rajesh@gmail.com', 'country': 'India', 'address': 'Bagerhat'}\n"
     ]
    }
   ],
   "source": [
    "userInfo.popitem()\n",
    "print(userInfo)"
   ]
  },
  {
   "cell_type": "markdown",
   "id": "f2a5637a-f1c5-445c-93f2-639b644419d7",
   "metadata": {},
   "source": [
    "The **del** keyword removes the item with the specified key name"
   ]
  },
  {
   "cell_type": "code",
   "execution_count": 39,
   "id": "60d7ab56-8e3d-4412-a39e-2410a8ceffb9",
   "metadata": {},
   "outputs": [
    {
     "name": "stdout",
     "output_type": "stream",
     "text": [
      "{'name': 'Utpal Paul', 'country': 'Bangladesh'}\n"
     ]
    }
   ],
   "source": [
    "del userInfo[\"email\"]\n",
    "print(userInfo)"
   ]
  },
  {
   "cell_type": "markdown",
   "id": "acfd2a11-208b-42a8-8a90-4a26e5797f86",
   "metadata": {},
   "source": [
    "The **del** keyword can also delete the dictionary completely"
   ]
  },
  {
   "cell_type": "code",
   "execution_count": 30,
   "id": "01857296-692c-49dc-9f04-6121bb3571bc",
   "metadata": {},
   "outputs": [
    {
     "ename": "NameError",
     "evalue": "name 'userInfo' is not defined",
     "output_type": "error",
     "traceback": [
      "\u001b[1;31m---------------------------------------------------------------------------\u001b[0m",
      "\u001b[1;31mNameError\u001b[0m                                 Traceback (most recent call last)",
      "Cell \u001b[1;32mIn[30], line 2\u001b[0m\n\u001b[0;32m      1\u001b[0m \u001b[38;5;28;01mdel\u001b[39;00m userInfo\n\u001b[1;32m----> 2\u001b[0m \u001b[38;5;28mprint\u001b[39m(\u001b[43muserInfo\u001b[49m)\n",
      "\u001b[1;31mNameError\u001b[0m: name 'userInfo' is not defined"
     ]
    }
   ],
   "source": [
    "del userInfo\n",
    "print(userInfo)"
   ]
  },
  {
   "cell_type": "markdown",
   "id": "7bc04cdf-38e8-4862-a5a4-e92374d3c229",
   "metadata": {},
   "source": [
    "The **clear()** method empties the dictionary"
   ]
  },
  {
   "cell_type": "code",
   "execution_count": 32,
   "id": "81f9470f-6f0d-4b9a-8d9d-153e0a1cd76f",
   "metadata": {},
   "outputs": [
    {
     "name": "stdout",
     "output_type": "stream",
     "text": [
      "{'name': 'Utpal Paul', 'email': 'utpalseu@gmail.com', 'country': 'Bangladesh'}\n",
      "{}\n"
     ]
    }
   ],
   "source": [
    "print(userInfo)\n",
    "userInfo.clear()\n",
    "print(userInfo)"
   ]
  },
  {
   "cell_type": "markdown",
   "id": "e1dfa775-a30b-4c26-9db4-570dc67ea069",
   "metadata": {},
   "source": [
    "#### For Loop"
   ]
  },
  {
   "cell_type": "code",
   "execution_count": 44,
   "id": "f6cb0695-6164-4a55-8f71-d8bf388c9606",
   "metadata": {},
   "outputs": [
    {
     "name": "stdout",
     "output_type": "stream",
     "text": [
      "Utpal Paul\n",
      "utpalseu@gmail.com\n",
      "Bangladesh\n"
     ]
    }
   ],
   "source": [
    "for userKey in userInfo:\n",
    "    print(userInfo[userKey])"
   ]
  },
  {
   "cell_type": "code",
   "execution_count": 45,
   "id": "4fea8c29-7f1d-4849-829d-dc24f042e88d",
   "metadata": {},
   "outputs": [
    {
     "name": "stdout",
     "output_type": "stream",
     "text": [
      "Utpal Paul\n",
      "utpalseu@gmail.com\n",
      "Bangladesh\n"
     ]
    }
   ],
   "source": [
    "for user in userInfo.values():\n",
    "    print(user)"
   ]
  },
  {
   "cell_type": "code",
   "execution_count": 46,
   "id": "81f79b39-419f-476f-89f3-5891c40195ad",
   "metadata": {},
   "outputs": [
    {
     "name": "stdout",
     "output_type": "stream",
     "text": [
      "('name', 'Utpal Paul')\n",
      "('email', 'utpalseu@gmail.com')\n",
      "('country', 'Bangladesh')\n"
     ]
    }
   ],
   "source": [
    "for user in userInfo.items():\n",
    "    print(user)"
   ]
  },
  {
   "cell_type": "markdown",
   "id": "bd82d663-9614-4618-ad70-0321b176a1c4",
   "metadata": {},
   "source": [
    "#### Copy a Dictionary"
   ]
  },
  {
   "cell_type": "code",
   "execution_count": 47,
   "id": "55245fb9-b690-4d10-b97e-a073f156051b",
   "metadata": {},
   "outputs": [
    {
     "name": "stdout",
     "output_type": "stream",
     "text": [
      "{'name': 'Utpal Paul', 'email': 'utpalseu@gmail.com', 'country': 'Bangladesh'}\n"
     ]
    }
   ],
   "source": [
    "userList2 = userInfo.copy()\n",
    "print(userList2)"
   ]
  },
  {
   "cell_type": "code",
   "execution_count": 48,
   "id": "f9468584-8fd4-49ae-aade-e1c0a983579d",
   "metadata": {},
   "outputs": [
    {
     "name": "stdout",
     "output_type": "stream",
     "text": [
      "2808460032384\n",
      "2808460113600\n"
     ]
    }
   ],
   "source": [
    "print(id(userInfo))\n",
    "print(id(userList2))"
   ]
  },
  {
   "cell_type": "markdown",
   "id": "3f62d5d9-23e4-4540-af88-1d4158e4c158",
   "metadata": {},
   "source": [
    "Another way to make a copy is to use the built-in function **dict()**"
   ]
  },
  {
   "cell_type": "code",
   "execution_count": 49,
   "id": "58a63e9d-7102-40c7-8e22-0bb7f00ff82a",
   "metadata": {},
   "outputs": [
    {
     "name": "stdout",
     "output_type": "stream",
     "text": [
      "{'name': 'Utpal Paul', 'email': 'utpalseu@gmail.com', 'country': 'Bangladesh'}\n"
     ]
    }
   ],
   "source": [
    "userList3 = dict(userInfo)\n",
    "print(userList3)"
   ]
  },
  {
   "cell_type": "code",
   "execution_count": 50,
   "id": "73cb8bb0-f56e-48a8-8521-48639e800c87",
   "metadata": {},
   "outputs": [
    {
     "name": "stdout",
     "output_type": "stream",
     "text": [
      "2808460032384\n",
      "2808460021696\n"
     ]
    }
   ],
   "source": [
    "print(id(userInfo))\n",
    "print(id(userList3))"
   ]
  },
  {
   "cell_type": "markdown",
   "id": "9d42cd1b-3965-4dca-91d7-b7395b253582",
   "metadata": {},
   "source": [
    "#### Nested Dictionaries"
   ]
  },
  {
   "cell_type": "code",
   "execution_count": 51,
   "id": "596327f2-10e9-4960-9f36-46c7ad46bc6c",
   "metadata": {},
   "outputs": [
    {
     "name": "stdout",
     "output_type": "stream",
     "text": [
      "{'user1': {'name': 'Hasan', 'email': 'hasan@gmail.com', 'country': 'Bangladesh'}, 'user2': {'name': 'Rakib', 'email': 'rakib@gmail.com', 'country': 'India'}, 'user3': {'name': 'Rony', 'email': 'rony@gmail.com', 'country': 'USA'}}\n"
     ]
    }
   ],
   "source": [
    "user01 = dict(name=\"Hasan\", email=\"hasan@gmail.com\", country=\"Bangladesh\")\n",
    "user02 = dict(name=\"Rakib\", email=\"rakib@gmail.com\", country=\"India\")\n",
    "user03 = dict(name=\"Rony\", email=\"rony@gmail.com\", country=\"USA\")\n",
    "\n",
    "allUsers = dict(user1=user01, user2=user02, user3=user03)\n",
    "print(allUsers)"
   ]
  },
  {
   "cell_type": "code",
   "execution_count": 52,
   "id": "d73de272-bb50-436c-ab14-d3e36ecd0da1",
   "metadata": {},
   "outputs": [
    {
     "name": "stdout",
     "output_type": "stream",
     "text": [
      "Hasan\n"
     ]
    }
   ],
   "source": [
    "print(allUsers[\"user1\"][\"name\"])"
   ]
  },
  {
   "cell_type": "markdown",
   "id": "d513a6aa-bb0e-46c9-af07-d1a1be202414",
   "metadata": {},
   "source": [
    "#### Dictionary Comprehension"
   ]
  },
  {
   "cell_type": "code",
   "execution_count": 96,
   "id": "189e424f-2940-4496-b509-507492aa5c4e",
   "metadata": {},
   "outputs": [
    {
     "data": {
      "text/plain": [
       "{1: 1, 2: 4, 3: 9, 4: 16, 5: 25, 6: 36, 7: 49, 8: 64, 9: 81, 10: 100}"
      ]
     },
     "execution_count": 96,
     "metadata": {},
     "output_type": "execute_result"
    }
   ],
   "source": [
    "myDict = {x:x**2 for x in range(1,11)}\n",
    "myDict"
   ]
  },
  {
   "cell_type": "code",
   "execution_count": 100,
   "id": "1c84d2ca-0af3-4f5c-a638-e73ff4c12360",
   "metadata": {},
   "outputs": [
    {
     "name": "stdout",
     "output_type": "stream",
     "text": [
      "{'milk': 1.596, 'coffee': 1.1400000000000001, 'bread': 1.9}\n"
     ]
    }
   ],
   "source": [
    "old_price = {\"milk\":2.10, \"coffee\":1.50, \"bread\":2.5}\n",
    "dolar_to_pound = 0.76\n",
    "\n",
    "new_price = {item:price*dolar_to_pound for (item,price) in old_price.items()}\n",
    "print(new_price)"
   ]
  },
  {
   "cell_type": "code",
   "execution_count": 105,
   "id": "0dcfa3d4-a5c2-4a82-a6e9-ed9599951011",
   "metadata": {},
   "outputs": [
    {
     "name": "stdout",
     "output_type": "stream",
     "text": [
      "{'michael': 48, 'guido': 57}\n"
     ]
    }
   ],
   "source": [
    "original_dict = {'jack': 38, 'michael': 48, 'guido': 57, 'john': 33}\n",
    "\n",
    "new_dict = { name:age for (name,age) in original_dict.items() if age>40 }\n",
    "print(new_dict)"
   ]
  },
  {
   "cell_type": "code",
   "execution_count": 108,
   "id": "bed20118-bfdb-4a9c-a538-557587035267",
   "metadata": {},
   "outputs": [
    {
     "name": "stdout",
     "output_type": "stream",
     "text": [
      "{'michael': 48}\n"
     ]
    }
   ],
   "source": [
    "original_dict = {'jack': 38, 'michael': 48, 'guido': 57, 'john': 33}\n",
    "\n",
    "new_dict = { name:age for (name,age) in original_dict.items() if age>40 and age%2==0}\n",
    "print(new_dict)"
   ]
  },
  {
   "cell_type": "code",
   "execution_count": 111,
   "id": "9804cfad-dad5-404c-9416-22e5494ff4aa",
   "metadata": {},
   "outputs": [
    {
     "name": "stdout",
     "output_type": "stream",
     "text": [
      "{'jack': 'old', 'michael': 'old', 'guido': 'old', 'john': 'young'}\n"
     ]
    }
   ],
   "source": [
    "original_dict = {'jack': 38, 'michael': 48, 'guido': 57, 'john': 33}\n",
    "\n",
    "new_dict = { name:(\"young\" if age<=35 else \"old\") for (name,age) in original_dict.items()}\n",
    "print(new_dict)"
   ]
  },
  {
   "cell_type": "code",
   "execution_count": 113,
   "id": "2c4d0938-057a-4115-9d1f-fa5d21260269",
   "metadata": {},
   "outputs": [
    {
     "data": {
      "text/plain": [
       "{1: 1, 2: 4, 3: 9, 4: 16, 5: 25, 6: 36, 7: 49, 8: 64, 9: 81, 10: 100}"
      ]
     },
     "execution_count": 113,
     "metadata": {},
     "output_type": "execute_result"
    }
   ],
   "source": [
    "myDict = {x:x**2 for x in range(1,11)}\n",
    "myDict"
   ]
  },
  {
   "cell_type": "code",
   "execution_count": 123,
   "id": "dfb2e45b-262e-427c-b5c0-c35c3efa6589",
   "metadata": {},
   "outputs": [],
   "source": [
    "def getmyList(items):\n",
    "    for (key,value) in items.items():\n",
    "        if key%2==0:\n",
    "            yield (key,value)"
   ]
  },
  {
   "cell_type": "code",
   "execution_count": 124,
   "id": "2292ba4b-1348-45d9-b1b4-ade79fdde96e",
   "metadata": {},
   "outputs": [
    {
     "data": {
      "text/plain": [
       "<generator object getmyList at 0x0000028DE558C890>"
      ]
     },
     "execution_count": 124,
     "metadata": {},
     "output_type": "execute_result"
    }
   ],
   "source": [
    "x = getmyList(myDict)\n",
    "x"
   ]
  },
  {
   "cell_type": "code",
   "execution_count": 125,
   "id": "29d5c7fc-d0b7-40d4-929a-89f3083c50cc",
   "metadata": {},
   "outputs": [
    {
     "name": "stdout",
     "output_type": "stream",
     "text": [
      "(2, 4)\n",
      "(4, 16)\n",
      "(6, 36)\n",
      "(8, 64)\n",
      "(10, 100)\n"
     ]
    }
   ],
   "source": [
    "for i in x:\n",
    "    print(i)"
   ]
  },
  {
   "cell_type": "markdown",
   "id": "0e0f504a-9fc3-4052-8f62-e15351b4a882",
   "metadata": {},
   "source": [
    "#### Dictionary Methods"
   ]
  },
  {
   "cell_type": "markdown",
   "id": "27f2ba46-0342-4a4c-97a1-9116e6f0569d",
   "metadata": {},
   "source": [
    "**cear()** : Removes all the elements from the dictionary"
   ]
  },
  {
   "cell_type": "code",
   "execution_count": 55,
   "id": "e538fab0-2ed7-4e52-8033-b640bb415036",
   "metadata": {},
   "outputs": [
    {
     "name": "stdout",
     "output_type": "stream",
     "text": [
      "{'name': 'Utpal Paul', 'email': 'utpalseu@gmail.com'}\n",
      "{}\n"
     ]
    }
   ],
   "source": [
    "myDic = dict(name=\"Utpal Paul\", email=\"utpalseu@gmail.com\")\n",
    "print(myDic)\n",
    "myDic.clear()\n",
    "print(myDic)"
   ]
  },
  {
   "cell_type": "markdown",
   "id": "e6e89a8e-9dad-47fc-aa1e-08717ec999ad",
   "metadata": {},
   "source": [
    "**copy()** : Returns a copy of the dictionary"
   ]
  },
  {
   "cell_type": "code",
   "execution_count": 58,
   "id": "18424e52-4d8c-46af-897e-e626ff85d848",
   "metadata": {},
   "outputs": [
    {
     "name": "stdout",
     "output_type": "stream",
     "text": [
      "{'name': 'Utpal Paul', 'email': 'utpalseu@gmail.com'}\n"
     ]
    }
   ],
   "source": [
    "myDic = dict(name=\"Utpal Paul\", email=\"utpalseu@gmail.com\")\n",
    "myDic2 = myDic.copy()\n",
    "print(myDic2)"
   ]
  },
  {
   "cell_type": "markdown",
   "id": "8b2e87bb-ad54-4b08-ae74-cc479f9eb346",
   "metadata": {},
   "source": [
    "**fromkeys()** : Returns a dictionary with the specified keys and value"
   ]
  },
  {
   "cell_type": "code",
   "execution_count": 77,
   "id": "cba06c41-d16a-4106-966d-61a0f2e7aea0",
   "metadata": {},
   "outputs": [
    {
     "name": "stdout",
     "output_type": "stream",
     "text": [
      "{'name': 0, 'age': 0, 'country': 0}\n"
     ]
    }
   ],
   "source": [
    "myKeys = (\"name\",\"age\",\"country\")\n",
    "myValue = 0\n",
    "myDict = dict.fromkeys(myKeys,myValue)\n",
    "print(myDict)"
   ]
  },
  {
   "cell_type": "markdown",
   "id": "e71e739b-d2ee-41e7-9549-383e8c2cfc2c",
   "metadata": {},
   "source": [
    "**get()** : Returns the value of the specified key"
   ]
  },
  {
   "cell_type": "code",
   "execution_count": 69,
   "id": "3b74df2e-2689-4461-93a7-66ce3acd573d",
   "metadata": {},
   "outputs": [
    {
     "name": "stdout",
     "output_type": "stream",
     "text": [
      "Utpal Paul\n"
     ]
    }
   ],
   "source": [
    "userInfo = {\"name\":\"Utpal Paul\", \"email\":\"utpalseu@gmail.com\", \"country\":\"Bangladesh\"}\n",
    "print(userInfo.get(\"name\"))"
   ]
  },
  {
   "cell_type": "markdown",
   "id": "e382b3f2-26ce-4a8e-8a63-64d0dad39cef",
   "metadata": {},
   "source": [
    "if the specified key does not exist, Default value None"
   ]
  },
  {
   "cell_type": "code",
   "execution_count": 81,
   "id": "b26a3660-d260-4562-a5b8-21a621c36d7a",
   "metadata": {},
   "outputs": [
    {
     "data": {
      "text/plain": [
       "25"
      ]
     },
     "execution_count": 81,
     "metadata": {},
     "output_type": "execute_result"
    }
   ],
   "source": [
    "userInfo.get(\"age\",25)"
   ]
  },
  {
   "cell_type": "markdown",
   "id": "edf2e2c3-d949-4485-af49-3c9567292e49",
   "metadata": {},
   "source": [
    "**items()** : Returns a list containing a tuple for each key value pair"
   ]
  },
  {
   "cell_type": "code",
   "execution_count": 71,
   "id": "fce256be-dd35-4959-bb5a-476ec834615e",
   "metadata": {},
   "outputs": [
    {
     "name": "stdout",
     "output_type": "stream",
     "text": [
      "dict_items([('name', 'Utpal Paul'), ('email', 'utpalseu@gmail.com'), ('country', 'Bangladesh')])\n"
     ]
    }
   ],
   "source": [
    "userInfo = {\"name\":\"Utpal Paul\", \"email\":\"utpalseu@gmail.com\", \"country\":\"Bangladesh\"}\n",
    "print(userInfo.items())"
   ]
  },
  {
   "cell_type": "markdown",
   "id": "cd506f02-79d6-479d-a1bd-b504094e41d9",
   "metadata": {},
   "source": [
    "**keys()** : Returns a list containing the dictionary's keys"
   ]
  },
  {
   "cell_type": "code",
   "execution_count": 72,
   "id": "6ffd5fdc-f079-45ba-9c8f-9e0757f3a36f",
   "metadata": {},
   "outputs": [
    {
     "name": "stdout",
     "output_type": "stream",
     "text": [
      "dict_keys(['name', 'email', 'country'])\n"
     ]
    }
   ],
   "source": [
    "userInfo = {\"name\":\"Utpal Paul\", \"email\":\"utpalseu@gmail.com\", \"country\":\"Bangladesh\"}\n",
    "print(userInfo.keys())"
   ]
  },
  {
   "cell_type": "markdown",
   "id": "cba7568c-f4c3-49f6-88b4-af37e61ec696",
   "metadata": {},
   "source": [
    "**pop()** : Removes the element with the specified key"
   ]
  },
  {
   "cell_type": "code",
   "execution_count": 94,
   "id": "7ad0953a-444c-46ec-a82b-700f90623450",
   "metadata": {},
   "outputs": [
    {
     "name": "stdout",
     "output_type": "stream",
     "text": [
      "Utpal Paul\n",
      "{'email': 'utpalseu@gmail.com', 'country': 'Bangladesh'}\n"
     ]
    }
   ],
   "source": [
    "userInfo = {\"name\":\"Utpal Paul\", \"email\":\"utpalseu@gmail.com\", \"country\":\"Bangladesh\"}\n",
    "x=userInfo.pop(\"name\")\n",
    "print(x)\n",
    "print(userInfo)"
   ]
  },
  {
   "cell_type": "markdown",
   "id": "86645373-85cc-4c16-9da1-b34968ca10a8",
   "metadata": {},
   "source": [
    "**popitem()** : Removes the last inserted key-value pair"
   ]
  },
  {
   "cell_type": "code",
   "execution_count": 93,
   "id": "aec3aa7c-2b96-46ae-9c61-b9f4f221b4b7",
   "metadata": {},
   "outputs": [
    {
     "name": "stdout",
     "output_type": "stream",
     "text": [
      "('country', 'Bangladesh')\n",
      "{'name': 'Utpal Paul', 'email': 'utpalseu@gmail.com'}\n"
     ]
    }
   ],
   "source": [
    "userInfo = {\"name\":\"Utpal Paul\", \"email\":\"utpalseu@gmail.com\", \"country\":\"Bangladesh\"}\n",
    "x=userInfo.popitem()\n",
    "print(x)\n",
    "print(userInfo)"
   ]
  },
  {
   "cell_type": "markdown",
   "id": "8d22fb3c-e43a-4ecf-9f6b-39e1c9771183",
   "metadata": {},
   "source": [
    "**setdefault()** : Returns the value of the specified key. If the key does not exist: insert the key, with the specified value"
   ]
  },
  {
   "cell_type": "code",
   "execution_count": 91,
   "id": "f76ff82c-8c7c-4169-89af-9fd6bec772c2",
   "metadata": {},
   "outputs": [
    {
     "name": "stdout",
     "output_type": "stream",
     "text": [
      "{'name': 'Rajesh', 'email': 'utpalseu@gmail.com', 'country': 'India'}\n",
      "{'name': 'Rajesh', 'email': 'utpalseu@gmail.com', 'country': 'India', 'location': 'hawra'}\n"
     ]
    }
   ],
   "source": [
    "print(userInfo)\n",
    "userInfo.setdefault(\"location\",\"hawra\")\n",
    "print(userInfo)"
   ]
  },
  {
   "cell_type": "markdown",
   "id": "ab32cbb4-2b9e-49c1-925d-e65bd96e8c6c",
   "metadata": {},
   "source": [
    "**update()** : Updates the dictionary with the specified key-value pairs"
   ]
  },
  {
   "cell_type": "code",
   "execution_count": 95,
   "id": "f8c50fc2-7478-49be-a8ca-6dba751b0903",
   "metadata": {},
   "outputs": [
    {
     "name": "stdout",
     "output_type": "stream",
     "text": [
      "{'name': 'Rajesh', 'email': 'utpalseu@gmail.com', 'country': 'India', 'location': 'Hawra'}\n"
     ]
    }
   ],
   "source": [
    "userInfo = {\"name\":\"Utpal Paul\", \"email\":\"utpalseu@gmail.com\", \"country\":\"Bangladesh\"}\n",
    "userInfo.update({\"name\":\"Rajesh\",\"country\":\"India\", \"location\":\"Hawra\"})\n",
    "print(userInfo)"
   ]
  },
  {
   "cell_type": "markdown",
   "id": "06cb795f-7261-4095-ade8-799fc729f4d0",
   "metadata": {},
   "source": [
    "**values()** : Returns a list of all the values in the dictionary"
   ]
  },
  {
   "cell_type": "code",
   "execution_count": 75,
   "id": "057241fe-f54b-4107-8226-eb1fc57659fd",
   "metadata": {},
   "outputs": [
    {
     "name": "stdout",
     "output_type": "stream",
     "text": [
      "dict_values(['Utpal Paul', 'utpalseu@gmail.com', 'Bangladesh'])\n"
     ]
    }
   ],
   "source": [
    "userInfo = {\"name\":\"Utpal Paul\", \"email\":\"utpalseu@gmail.com\", \"country\":\"Bangladesh\"}\n",
    "v=userInfo.values()\n",
    "print(v)"
   ]
  },
  {
   "cell_type": "code",
   "execution_count": null,
   "id": "2ca507ea-c85c-4f0e-8505-49ed4577cb09",
   "metadata": {},
   "outputs": [],
   "source": []
  },
  {
   "cell_type": "code",
   "execution_count": null,
   "id": "fa98a57d-9adc-4eb7-835f-70003fb8d0b0",
   "metadata": {},
   "outputs": [],
   "source": []
  },
  {
   "cell_type": "code",
   "execution_count": 129,
   "id": "103643d3-66ed-4864-9ef5-fa5fed707345",
   "metadata": {},
   "outputs": [
    {
     "name": "stdout",
     "output_type": "stream",
     "text": [
      "2808359476656\n"
     ]
    }
   ],
   "source": [
    "x=\"abc\"\n",
    "print(id(x))"
   ]
  },
  {
   "cell_type": "code",
   "execution_count": 130,
   "id": "5d023f56-a2b0-43c3-8603-677e33557ed4",
   "metadata": {},
   "outputs": [
    {
     "data": {
      "text/plain": [
       "'abcdef'"
      ]
     },
     "execution_count": 130,
     "metadata": {},
     "output_type": "execute_result"
    }
   ],
   "source": [
    "x+=\"def\"\n",
    "x"
   ]
  },
  {
   "cell_type": "code",
   "execution_count": 131,
   "id": "2b178908-87d0-4b95-aef4-fbdaa35a2a90",
   "metadata": {},
   "outputs": [
    {
     "name": "stdout",
     "output_type": "stream",
     "text": [
      "2808461167856\n"
     ]
    }
   ],
   "source": [
    "print(id(x))"
   ]
  },
  {
   "cell_type": "code",
   "execution_count": null,
   "id": "392ca368-8582-4344-9e35-55b5b7b1f944",
   "metadata": {},
   "outputs": [],
   "source": []
  }
 ],
 "metadata": {
  "kernelspec": {
   "display_name": "Python 3 (ipykernel)",
   "language": "python",
   "name": "python3"
  },
  "language_info": {
   "codemirror_mode": {
    "name": "ipython",
    "version": 3
   },
   "file_extension": ".py",
   "mimetype": "text/x-python",
   "name": "python",
   "nbconvert_exporter": "python",
   "pygments_lexer": "ipython3",
   "version": "3.10.9"
  }
 },
 "nbformat": 4,
 "nbformat_minor": 5
}
