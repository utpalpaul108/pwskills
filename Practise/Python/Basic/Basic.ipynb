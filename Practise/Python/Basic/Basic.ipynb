{
 "cells": [
  {
   "cell_type": "code",
   "execution_count": 1,
   "id": "275d6dfe-e27c-4011-9c1b-39aa0b24a57e",
   "metadata": {},
   "outputs": [
    {
     "name": "stdout",
     "output_type": "stream",
     "text": [
      "The Zen of Python, by Tim Peters\n",
      "\n",
      "Beautiful is better than ugly.\n",
      "Explicit is better than implicit.\n",
      "Simple is better than complex.\n",
      "Complex is better than complicated.\n",
      "Flat is better than nested.\n",
      "Sparse is better than dense.\n",
      "Readability counts.\n",
      "Special cases aren't special enough to break the rules.\n",
      "Although practicality beats purity.\n",
      "Errors should never pass silently.\n",
      "Unless explicitly silenced.\n",
      "In the face of ambiguity, refuse the temptation to guess.\n",
      "There should be one-- and preferably only one --obvious way to do it.\n",
      "Although that way may not be obvious at first unless you're Dutch.\n",
      "Now is better than never.\n",
      "Although never is often better than *right* now.\n",
      "If the implementation is hard to explain, it's a bad idea.\n",
      "If the implementation is easy to explain, it may be a good idea.\n",
      "Namespaces are one honking great idea -- let's do more of those!\n"
     ]
    }
   ],
   "source": [
    "import this"
   ]
  },
  {
   "cell_type": "markdown",
   "id": "00702785-f9c8-4f1f-97de-a613e38f91ed",
   "metadata": {},
   "source": [
    "## **Comments**"
   ]
  },
  {
   "cell_type": "markdown",
   "id": "240362bc-fdc3-4bc0-94de-d5de318d0adb",
   "metadata": {},
   "source": [
    "#### Single Line"
   ]
  },
  {
   "cell_type": "code",
   "execution_count": 3,
   "id": "eb5de06f-8dc7-45fb-b519-b2584ecad23e",
   "metadata": {},
   "outputs": [
    {
     "name": "stdout",
     "output_type": "stream",
     "text": [
      "Hello World\n"
     ]
    }
   ],
   "source": [
    "# Single line Comment \n",
    "print(\"Hello World\")"
   ]
  },
  {
   "cell_type": "markdown",
   "id": "a85616ab-5136-4c7c-a1d7-2c820c0ebe9a",
   "metadata": {},
   "source": [
    "#### Comment at the end of statement"
   ]
  },
  {
   "cell_type": "code",
   "execution_count": 8,
   "id": "08771a8b-e08d-43d7-83a2-4fd7dce94324",
   "metadata": {},
   "outputs": [
    {
     "name": "stdout",
     "output_type": "stream",
     "text": [
      "Hello World\n"
     ]
    }
   ],
   "source": [
    "print(\"Hello World\") #Comment at the End"
   ]
  },
  {
   "cell_type": "markdown",
   "id": "83e44d16-faae-46d9-b679-d200abdfd2cb",
   "metadata": {},
   "source": [
    "#### Multiline Comments"
   ]
  },
  {
   "cell_type": "code",
   "execution_count": 9,
   "id": "56e53783-9d91-42a1-abf1-c131e4ebb8f9",
   "metadata": {},
   "outputs": [
    {
     "name": "stdout",
     "output_type": "stream",
     "text": [
      "Hello World\n"
     ]
    }
   ],
   "source": [
    "\"\"\"\n",
    "Hello World 01\n",
    "Hello World 02\n",
    "Hello World 03 \n",
    "\"\"\"\n",
    "print(\"Hello World\")"
   ]
  },
  {
   "cell_type": "markdown",
   "id": "a649dc9a-974f-4d53-a629-05fae7a3f747",
   "metadata": {},
   "source": [
    "# Hello\n",
    "## Hello\n",
    "### Hello\n",
    "\n",
    "1. Hello Guyes"
   ]
  },
  {
   "cell_type": "markdown",
   "id": "6e5769bb-bf4a-4b42-af6e-7758b861e1b1",
   "metadata": {},
   "source": [
    "## **Print Statement**"
   ]
  },
  {
   "cell_type": "markdown",
   "id": "400350a2-af45-447f-bcbe-b083e38b71ba",
   "metadata": {},
   "source": [
    "#### Seperator"
   ]
  },
  {
   "cell_type": "code",
   "execution_count": 4,
   "id": "805449be-1a7a-451d-95d9-a259d9916c4e",
   "metadata": {},
   "outputs": [
    {
     "name": "stdout",
     "output_type": "stream",
     "text": [
      "His Age is: 20\n"
     ]
    }
   ],
   "source": [
    "age = 20\n",
    "print(\"His Age is:\",age)"
   ]
  },
  {
   "cell_type": "code",
   "execution_count": 11,
   "id": "d0b798ac-358b-4f12-9311-cd72d57651fa",
   "metadata": {},
   "outputs": [
    {
     "name": "stdout",
     "output_type": "stream",
     "text": [
      "His Age is: 20 Hello World\n"
     ]
    }
   ],
   "source": [
    "age = 20\n",
    "print(\"His Age is:\",age, \"Hello World\", sep=\" \")"
   ]
  },
  {
   "cell_type": "code",
   "execution_count": 5,
   "id": "05ee80fc-4f83-4b42-a7e3-2e034d138b27",
   "metadata": {},
   "outputs": [
    {
     "name": "stdout",
     "output_type": "stream",
     "text": [
      "Hello---how are you?\n"
     ]
    }
   ],
   "source": [
    "print(\"Hello\", \"how are you?\", sep=\"---\")"
   ]
  },
  {
   "cell_type": "markdown",
   "id": "ea2b1711-bef7-4710-b2c2-e2b5a54000a5",
   "metadata": {},
   "source": [
    "#### End"
   ]
  },
  {
   "cell_type": "code",
   "execution_count": 13,
   "id": "752d7d17-bd0d-49ec-8691-278c53cde1b4",
   "metadata": {},
   "outputs": [
    {
     "name": "stdout",
     "output_type": "stream",
     "text": [
      "Hello World\n",
      "Hello World\n"
     ]
    }
   ],
   "source": [
    "print(\"Hello World\")\n",
    "print(\"Hello World\")"
   ]
  },
  {
   "cell_type": "code",
   "execution_count": 15,
   "id": "6e6de73d-fb56-4dd3-a1bd-42e728d3d5b5",
   "metadata": {},
   "outputs": [
    {
     "name": "stdout",
     "output_type": "stream",
     "text": [
      "Hello World Hello World\n"
     ]
    }
   ],
   "source": [
    "print(\"Hello World\",end=\" \")\n",
    "print(\"Hello World\")"
   ]
  },
  {
   "cell_type": "markdown",
   "id": "2a93ad0f-be12-4f7f-9db7-fddc52e076e4",
   "metadata": {},
   "source": [
    "#### File"
   ]
  },
  {
   "cell_type": "code",
   "execution_count": 26,
   "id": "6de99016-081c-4a52-9163-86d413f56c73",
   "metadata": {},
   "outputs": [],
   "source": [
    "sourceFile = open('text1.txt', 'w')\n",
    "print(\"Hello World\" ,file = sourceFile)\n",
    "sourceFile.close()"
   ]
  },
  {
   "cell_type": "markdown",
   "id": "960f6a6f-0c6b-4bb8-a5b2-2b305ceaccaa",
   "metadata": {},
   "source": [
    "#### + operator to output multiple variables\n",
    "* We can't use **+** operator for number and string"
   ]
  },
  {
   "cell_type": "code",
   "execution_count": 41,
   "id": "d23f9e2c-f689-4455-a64f-2366ec60c588",
   "metadata": {},
   "outputs": [
    {
     "name": "stdout",
     "output_type": "stream",
     "text": [
      "My Name is Utpal\n"
     ]
    }
   ],
   "source": [
    "a=\"My Name \"\n",
    "b=\"is \"\n",
    "c=\"Utpal\"\n",
    "print(a+b+c)"
   ]
  },
  {
   "cell_type": "markdown",
   "id": "0921622b-156b-4a3c-99cd-f8b9e46d0007",
   "metadata": {},
   "source": [
    "## **Variable**"
   ]
  },
  {
   "cell_type": "markdown",
   "id": "e4302bde-e351-4d16-af1f-48410a21d882",
   "metadata": {},
   "source": [
    "#### Casting"
   ]
  },
  {
   "cell_type": "code",
   "execution_count": 10,
   "id": "c3860e08-97e1-4019-b4d8-c3942eaedc8d",
   "metadata": {},
   "outputs": [
    {
     "data": {
      "text/plain": [
       "int"
      ]
     },
     "execution_count": 10,
     "metadata": {},
     "output_type": "execute_result"
    }
   ],
   "source": [
    "a=20\n",
    "type(a)"
   ]
  },
  {
   "cell_type": "code",
   "execution_count": 14,
   "id": "c4410d38-870a-4ba4-a4f1-b57ec33185f3",
   "metadata": {},
   "outputs": [
    {
     "data": {
      "text/plain": [
       "float"
      ]
     },
     "execution_count": 14,
     "metadata": {},
     "output_type": "execute_result"
    }
   ],
   "source": [
    "b=float(a)\n",
    "type(b)"
   ]
  },
  {
   "cell_type": "code",
   "execution_count": 18,
   "id": "5d0f5a29-03a6-4860-a16e-30ced929cc26",
   "metadata": {},
   "outputs": [
    {
     "data": {
      "text/plain": [
       "str"
      ]
     },
     "execution_count": 18,
     "metadata": {},
     "output_type": "execute_result"
    }
   ],
   "source": [
    "c=str(b)\n",
    "type(c)"
   ]
  },
  {
   "cell_type": "markdown",
   "id": "f49a5a74-d1cf-4b3b-ae94-d718b0d5ad94",
   "metadata": {},
   "source": [
    "#### Multi Words Variable Names"
   ]
  },
  {
   "cell_type": "code",
   "execution_count": 19,
   "id": "873dbfe8-d10d-4181-a17b-1c74df6dc9ba",
   "metadata": {},
   "outputs": [],
   "source": [
    "## Camel Case\n",
    "myVariableName = \"Test\"\n",
    "\n",
    "## Pascal Case\n",
    "MyVariableName = \"Test\"\n",
    "\n",
    "## Snake Case\n",
    "my_variable_name = \"Test\""
   ]
  },
  {
   "cell_type": "markdown",
   "id": "a5adb148-fa54-4a96-915b-451959bab75d",
   "metadata": {},
   "source": [
    "## **Assign Multiple Values**"
   ]
  },
  {
   "cell_type": "markdown",
   "id": "038e7494-a5ba-401a-841b-3ee01a67a059",
   "metadata": {},
   "source": [
    "#### Many Values to Multiple Variables"
   ]
  },
  {
   "cell_type": "code",
   "execution_count": 22,
   "id": "2bc08c58-3559-4161-be15-8894899903d6",
   "metadata": {},
   "outputs": [
    {
     "name": "stdout",
     "output_type": "stream",
     "text": [
      "Orange\n",
      "Banana\n",
      "Cherry\n"
     ]
    }
   ],
   "source": [
    "x, y, z = \"Orange\", \"Banana\", \"Cherry\"\n",
    "print(x)\n",
    "print(y)\n",
    "print(z)"
   ]
  },
  {
   "cell_type": "markdown",
   "id": "a56c7343-6c80-4bae-a8a8-0cc3cf82b18e",
   "metadata": {},
   "source": [
    "#### One Value to Multiple Variables"
   ]
  },
  {
   "cell_type": "code",
   "execution_count": 24,
   "id": "3d27ffad-9282-4a5e-b581-f654d09c2f04",
   "metadata": {},
   "outputs": [
    {
     "name": "stdout",
     "output_type": "stream",
     "text": [
      "Orange\n",
      "Orange\n",
      "Orange\n"
     ]
    }
   ],
   "source": [
    "x = y = z = \"Orange\"\n",
    "print(x)\n",
    "print(y)\n",
    "print(z)"
   ]
  },
  {
   "cell_type": "markdown",
   "id": "a80a6c47-397c-46da-9185-19cbda963efc",
   "metadata": {},
   "source": [
    "#### Unpack a Collection"
   ]
  },
  {
   "cell_type": "code",
   "execution_count": 34,
   "id": "16df7932-a773-49a7-bf31-2510ed2dde19",
   "metadata": {},
   "outputs": [
    {
     "name": "stdout",
     "output_type": "stream",
     "text": [
      "Orange\n",
      "Banana\n",
      "Cherry\n"
     ]
    }
   ],
   "source": [
    "## Fro List\n",
    "x, y, z = [\"Orange\", \"Banana\", \"Cherry\"]\n",
    "print(x)\n",
    "print(y)\n",
    "print(z)"
   ]
  },
  {
   "cell_type": "code",
   "execution_count": 35,
   "id": "e1290575-c36f-4e0c-a9cb-105a96070486",
   "metadata": {},
   "outputs": [
    {
     "name": "stdout",
     "output_type": "stream",
     "text": [
      "Orange\n",
      "Banana\n",
      "Cherry\n"
     ]
    }
   ],
   "source": [
    "## For Tuple\n",
    "x, y, z = (\"Orange\", \"Banana\", \"Cherry\")\n",
    "print(x)\n",
    "print(y)\n",
    "print(z)"
   ]
  },
  {
   "cell_type": "code",
   "execution_count": 36,
   "id": "5af29494-16eb-41c3-af25-3448eb2d455b",
   "metadata": {},
   "outputs": [
    {
     "name": "stdout",
     "output_type": "stream",
     "text": [
      "Banana\n",
      "Orange\n",
      "Cherry\n"
     ]
    }
   ],
   "source": [
    "## For Set\n",
    "x, y, z = {\"Orange\", \"Banana\", \"Cherry\"}\n",
    "print(x)\n",
    "print(y)\n",
    "print(z)"
   ]
  },
  {
   "cell_type": "code",
   "execution_count": 37,
   "id": "17bdf922-5282-428e-bb19-8bf600fc35ae",
   "metadata": {},
   "outputs": [
    {
     "name": "stdout",
     "output_type": "stream",
     "text": [
      "name\n",
      "email\n",
      "address\n"
     ]
    }
   ],
   "source": [
    "## For Dictionary\n",
    "x, y, z = {\"name\":\"Utpal\", \"email\":\"utpalseu@gmail.com\", \"address\":\"Bangladesh\"}\n",
    "print(x)\n",
    "print(y)\n",
    "print(z)"
   ]
  },
  {
   "cell_type": "markdown",
   "id": "3b56613f-c53f-4e7a-a74e-e5a6cdb0576f",
   "metadata": {},
   "source": [
    "#### Global Variable"
   ]
  },
  {
   "cell_type": "code",
   "execution_count": 44,
   "id": "42ea72bf-c098-4e5d-9972-331e91c39c3d",
   "metadata": {},
   "outputs": [
    {
     "name": "stdout",
     "output_type": "stream",
     "text": [
      "Python is  awesome\n",
      "Python is  Easy to Use\n"
     ]
    }
   ],
   "source": [
    "x= \"awesome\"\n",
    "\n",
    "def myFunc(msg):\n",
    "    global x\n",
    "    x=msg\n",
    "print(\"Python is \",x)\n",
    "\n",
    "myFunc(\"Easy to Use\")\n",
    "\n",
    "print(\"Python is \",x)"
   ]
  },
  {
   "cell_type": "markdown",
   "id": "e401b715-7f0e-4fc7-bf6a-0dde8727cb25",
   "metadata": {},
   "source": [
    "## **Built-in Data Types**"
   ]
  },
  {
   "cell_type": "code",
   "execution_count": 56,
   "id": "91fe80f8-0d41-45d5-a1a4-28fcb5753df0",
   "metadata": {},
   "outputs": [],
   "source": [
    "## String\n",
    "x=\"Hello World\"\n",
    "\n",
    "## Int\n",
    "x=20\n",
    "\n",
    "## Float\n",
    "x=20.5\n",
    "\n",
    "## Complex\n",
    "x=1J\n",
    "\n",
    "## List\n",
    "x=[\"Apple\",\"Banana\",\"Jackfruit\"]\n",
    "\n",
    "## Tuple\n",
    "x=(\"Apple\", \"Banana\", \"Jackfruit\")\n",
    "   \n",
    "## Set\n",
    "x={\"Apple\", \"Banana\", \"Jackfruit\"}\n",
    "\n",
    "## Frozenset\n",
    "x = frozenset({\"apple\", \"banana\", \"cherry\"})\n",
    "\n",
    "## Dictionary / Dict\n",
    "x={\"name\":\"Utpal\", \"email\":\"utpalseu@gmail.com\"}\n",
    "\n",
    "## Range\n",
    "x=range(10)\n",
    "\n",
    "## Boolean\n",
    "x=True\n",
    "\n",
    "## Bytes\n",
    "x = b\"Hello\"\n",
    "\n",
    "## Bytearray\n",
    "x = bytearray(5)\n",
    "\n",
    "## Memoryview\n",
    "x = memoryview(bytes(5))\n",
    "\n",
    "## NoneType\n",
    "x = None"
   ]
  },
  {
   "cell_type": "markdown",
   "id": "eb08987f-3e12-4727-954a-b8139daf51f4",
   "metadata": {},
   "source": [
    "#### Scientific Float Numbers"
   ]
  },
  {
   "cell_type": "code",
   "execution_count": 62,
   "id": "9274f808-55cc-4552-bd62-1be45ff2b31c",
   "metadata": {},
   "outputs": [
    {
     "name": "stdout",
     "output_type": "stream",
     "text": [
      "35000.0\n",
      "120000.0\n",
      "-8.77e+101\n"
     ]
    }
   ],
   "source": [
    "x = 35e3\n",
    "y = 12E4\n",
    "z = -87.7e100\n",
    "\n",
    "print(x)\n",
    "print(y)\n",
    "print(z)"
   ]
  },
  {
   "cell_type": "markdown",
   "id": "312a347f-7a51-4ba5-b65c-66f62058dc38",
   "metadata": {},
   "source": [
    "#### Random Number"
   ]
  },
  {
   "cell_type": "code",
   "execution_count": 67,
   "id": "781e25d8-10f6-48a6-989c-d85478485295",
   "metadata": {},
   "outputs": [
    {
     "name": "stdout",
     "output_type": "stream",
     "text": [
      "5\n"
     ]
    }
   ],
   "source": [
    "import random\n",
    "x=random.randrange(1,10)\n",
    "print(x)"
   ]
  },
  {
   "cell_type": "markdown",
   "id": "57aee003-19d1-4a98-97c2-ccf60a905b1b",
   "metadata": {},
   "source": [
    "#### Multiline Strings"
   ]
  },
  {
   "cell_type": "code",
   "execution_count": 71,
   "id": "2bc6f80a-e38f-4e01-ab3e-653c45673937",
   "metadata": {},
   "outputs": [
    {
     "name": "stdout",
     "output_type": "stream",
     "text": [
      "Hello World 1\n",
      "Hello World 2\n",
      "Hello World 3 \n"
     ]
    }
   ],
   "source": [
    "x = \"\"\"Hello World 1\n",
    "Hello World 2\n",
    "Hello World 3 \"\"\"\n",
    "print(x)"
   ]
  },
  {
   "cell_type": "markdown",
   "id": "82641198-a3bb-4f2b-acea-131eaaea1281",
   "metadata": {},
   "source": [
    "#### String Length"
   ]
  },
  {
   "cell_type": "code",
   "execution_count": 72,
   "id": "32a0726e-dbf5-44c0-bed8-a98bd8687f3b",
   "metadata": {},
   "outputs": [
    {
     "name": "stdout",
     "output_type": "stream",
     "text": [
      "11\n"
     ]
    }
   ],
   "source": [
    "x = \"Hello World\"\n",
    "print(len(x))"
   ]
  },
  {
   "cell_type": "markdown",
   "id": "7c7b0bf0-104c-4c38-b0a4-eddcbd698b75",
   "metadata": {},
   "source": [
    "#### Check a certain phrase or character is present in a string"
   ]
  },
  {
   "cell_type": "code",
   "execution_count": 77,
   "id": "d07715a4-3af8-448c-a956-ce7085f89635",
   "metadata": {},
   "outputs": [
    {
     "name": "stdout",
     "output_type": "stream",
     "text": [
      "True\n"
     ]
    }
   ],
   "source": [
    "x = \"Hello World\"\n",
    "print(\"He\" in x)"
   ]
  },
  {
   "cell_type": "code",
   "execution_count": 78,
   "id": "47d0b9f9-2b82-4e20-b210-031698c56e2f",
   "metadata": {},
   "outputs": [
    {
     "name": "stdout",
     "output_type": "stream",
     "text": [
      "Yes, Exist\n"
     ]
    }
   ],
   "source": [
    "if \"He\" in x:\n",
    "    print(\"Yes, Exist\")"
   ]
  },
  {
   "cell_type": "markdown",
   "id": "8dfb5d33-4899-4366-98b5-3327c8d9a7a9",
   "metadata": {},
   "source": [
    "#### Check if NOT"
   ]
  },
  {
   "cell_type": "code",
   "execution_count": 80,
   "id": "3967dc47-cd2c-446d-9fe3-b25b03bb6c84",
   "metadata": {},
   "outputs": [
    {
     "name": "stdout",
     "output_type": "stream",
     "text": [
      "Not Exist\n"
     ]
    }
   ],
   "source": [
    "if \"Hev\" not in x:\n",
    "    print(\"Not Exist\")\n",
    "else:\n",
    "    print(\"Exist\")"
   ]
  },
  {
   "cell_type": "markdown",
   "id": "7d194fc9-94c6-475a-b9e6-085b043e7387",
   "metadata": {},
   "source": [
    "#### Slicing String"
   ]
  },
  {
   "cell_type": "code",
   "execution_count": 82,
   "id": "7e2819b7-b52f-4ee5-a8db-e63fda96a29f",
   "metadata": {},
   "outputs": [
    {
     "name": "stdout",
     "output_type": "stream",
     "text": [
      "Hello\n"
     ]
    }
   ],
   "source": [
    "print(x[0:5])"
   ]
  },
  {
   "cell_type": "markdown",
   "id": "f6f069d4-9c45-4ceb-8069-5e1b50c33eda",
   "metadata": {},
   "source": [
    "#### Slice From the Start"
   ]
  },
  {
   "cell_type": "code",
   "execution_count": 84,
   "id": "adb97e54-b7ab-435b-9a4d-e2874f273633",
   "metadata": {},
   "outputs": [
    {
     "name": "stdout",
     "output_type": "stream",
     "text": [
      "Hello\n"
     ]
    }
   ],
   "source": [
    "print(x[:5])"
   ]
  },
  {
   "cell_type": "markdown",
   "id": "753ba966-b035-4607-a5a8-c49fbb8e297f",
   "metadata": {},
   "source": [
    "#### Slice To the End"
   ]
  },
  {
   "cell_type": "code",
   "execution_count": 85,
   "id": "ace87e27-4ad1-470b-b939-22e46acb5669",
   "metadata": {},
   "outputs": [
    {
     "name": "stdout",
     "output_type": "stream",
     "text": [
      "World\n"
     ]
    }
   ],
   "source": [
    "print(x[6:])"
   ]
  },
  {
   "cell_type": "markdown",
   "id": "0749f059-89a3-4759-b5cb-c455c958fa56",
   "metadata": {},
   "source": [
    "#### Negative Indexing"
   ]
  },
  {
   "cell_type": "code",
   "execution_count": 93,
   "id": "24bb66b6-f919-4e47-a2ec-dd07eeb29d03",
   "metadata": {},
   "outputs": [
    {
     "name": "stdout",
     "output_type": "stream",
     "text": [
      "Worl\n"
     ]
    }
   ],
   "source": [
    "print(x[-5:-1])"
   ]
  },
  {
   "cell_type": "markdown",
   "id": "1940a640-e3fe-4fa5-bec2-a5b69fd12b04",
   "metadata": {},
   "source": [
    "## **Modify Strings**\n"
   ]
  },
  {
   "cell_type": "markdown",
   "id": "1b33cca9-d9cd-475e-8923-f747bd315932",
   "metadata": {},
   "source": [
    "#### Upper Case"
   ]
  },
  {
   "cell_type": "code",
   "execution_count": 94,
   "id": "5a119061-8fcd-4320-870b-ac8faf4f8422",
   "metadata": {},
   "outputs": [
    {
     "data": {
      "text/plain": [
       "'HELLO WORLD'"
      ]
     },
     "execution_count": 94,
     "metadata": {},
     "output_type": "execute_result"
    }
   ],
   "source": [
    "x.upper()"
   ]
  },
  {
   "cell_type": "markdown",
   "id": "669c5d6a-ef03-4f47-abe3-2701349c6b39",
   "metadata": {},
   "source": [
    "#### Lower Case"
   ]
  },
  {
   "cell_type": "code",
   "execution_count": 95,
   "id": "604b1354-d671-4ec0-aa8e-0fd4dc107c8b",
   "metadata": {},
   "outputs": [
    {
     "data": {
      "text/plain": [
       "'hello world'"
      ]
     },
     "execution_count": 95,
     "metadata": {},
     "output_type": "execute_result"
    }
   ],
   "source": [
    "x.lower()"
   ]
  },
  {
   "cell_type": "markdown",
   "id": "336e7ce1-4962-4592-9362-e7caa1ba0c04",
   "metadata": {},
   "source": [
    "#### Remove Whitespace"
   ]
  },
  {
   "cell_type": "code",
   "execution_count": 96,
   "id": "be6e36e0-059f-4a87-90ac-1b79996577f2",
   "metadata": {},
   "outputs": [
    {
     "name": "stdout",
     "output_type": "stream",
     "text": [
      " Hello World \n"
     ]
    }
   ],
   "source": [
    "x = \" Hello World \"\n",
    "print(x)"
   ]
  },
  {
   "cell_type": "code",
   "execution_count": 97,
   "id": "6c0a5e60-d71b-4ebb-984a-952fe7a80691",
   "metadata": {},
   "outputs": [
    {
     "name": "stdout",
     "output_type": "stream",
     "text": [
      "Hello World\n"
     ]
    }
   ],
   "source": [
    "print(x.strip())"
   ]
  },
  {
   "cell_type": "markdown",
   "id": "f43d7325-5ea8-4dc4-8d06-b4d41ac4717d",
   "metadata": {},
   "source": [
    "#### Replace String"
   ]
  },
  {
   "cell_type": "code",
   "execution_count": 101,
   "id": "9c5b1368-2c58-4c72-beed-5ae97c56739f",
   "metadata": {},
   "outputs": [
    {
     "data": {
      "text/plain": [
       "'HelloWorld'"
      ]
     },
     "execution_count": 101,
     "metadata": {},
     "output_type": "execute_result"
    }
   ],
   "source": [
    "x.replace(\"H\", \"\")"
   ]
  },
  {
   "cell_type": "markdown",
   "id": "a69bb5e1-cb1d-43b4-9759-9a1174f89347",
   "metadata": {},
   "source": [
    "#### Split String"
   ]
  },
  {
   "cell_type": "code",
   "execution_count": 106,
   "id": "86206e7a-490b-4863-a3b5-7c4a45d54a02",
   "metadata": {},
   "outputs": [
    {
     "data": {
      "text/plain": [
       "['Hello', 'World']"
      ]
     },
     "execution_count": 106,
     "metadata": {},
     "output_type": "execute_result"
    }
   ],
   "source": [
    "y=x.strip().split(\" \")\n",
    "y"
   ]
  },
  {
   "cell_type": "markdown",
   "id": "2f4779a4-69d6-4e5e-84e0-ec170964eac7",
   "metadata": {},
   "source": [
    "#### String Concatenation"
   ]
  },
  {
   "cell_type": "code",
   "execution_count": 128,
   "id": "377397ff-00b2-4a2e-9297-4c5835de0fb7",
   "metadata": {},
   "outputs": [
    {
     "name": "stdout",
     "output_type": "stream",
     "text": [
      "Hello World \n"
     ]
    }
   ],
   "source": [
    "x=\"Hello\"\n",
    "y=\"World\"\n",
    "z=x + \" \" + y +\" \"\n",
    "print(z)"
   ]
  },
  {
   "cell_type": "code",
   "execution_count": 130,
   "id": "bd8c3fa8-b37d-4391-9a51-5da764e484c5",
   "metadata": {},
   "outputs": [
    {
     "data": {
      "text/plain": [
       "'HelloHelloHello'"
      ]
     },
     "execution_count": 130,
     "metadata": {},
     "output_type": "execute_result"
    }
   ],
   "source": [
    "x*3"
   ]
  },
  {
   "cell_type": "markdown",
   "id": "b0efcc6b-0a87-4a1a-9bb4-5812630e7e08",
   "metadata": {},
   "source": [
    "#### String Format"
   ]
  },
  {
   "cell_type": "code",
   "execution_count": 113,
   "id": "4459ac9f-37f0-4ed3-9cf2-e9fca86b7932",
   "metadata": {},
   "outputs": [
    {
     "name": "stdout",
     "output_type": "stream",
     "text": [
      "His name is John and he is 20 years old\n"
     ]
    }
   ],
   "source": [
    "y = \"His name is {} and he is {} years old\".format(\"John\",20)\n",
    "print(y)"
   ]
  },
  {
   "cell_type": "code",
   "execution_count": 114,
   "id": "3d94827f-4469-4c23-8318-75b3ce4d5f87",
   "metadata": {},
   "outputs": [
    {
     "name": "stdout",
     "output_type": "stream",
     "text": [
      "His name is 20 and he is John years old\n"
     ]
    }
   ],
   "source": [
    "y = \"His name is {1} and he is {0} years old\".format(\"John\",20)\n",
    "print(y)"
   ]
  },
  {
   "cell_type": "code",
   "execution_count": 116,
   "id": "f0f2b601-dd35-417a-83b6-4a1a549e48cb",
   "metadata": {},
   "outputs": [
    {
     "name": "stdout",
     "output_type": "stream",
     "text": [
      "His name is John and he is 20 years old\n"
     ]
    }
   ],
   "source": [
    "y = \"His name is {name} and he is {age} years old\".format(name=\"John\",age=20)\n",
    "print(y)"
   ]
  },
  {
   "cell_type": "markdown",
   "id": "73d9d320-1eeb-41ee-9a5f-469e400f20b1",
   "metadata": {},
   "source": [
    "#### Escape Character"
   ]
  },
  {
   "cell_type": "code",
   "execution_count": 121,
   "id": "4d974fe2-e05e-4f17-8135-948124da758a",
   "metadata": {},
   "outputs": [
    {
     "name": "stdout",
     "output_type": "stream",
     "text": [
      "He Said that, \"He is from USA\"\n"
     ]
    }
   ],
   "source": [
    "x = \"He Said that, \\\"He is from USA\\\"\"\n",
    "print(x)"
   ]
  },
  {
   "cell_type": "markdown",
   "id": "9158e5e3-af2b-400b-a192-b0f27340f029",
   "metadata": {},
   "source": [
    "#### Boolean Function"
   ]
  },
  {
   "cell_type": "code",
   "execution_count": 124,
   "id": "0ac825b7-bc21-4a1f-b744-7d89193d656c",
   "metadata": {},
   "outputs": [
    {
     "name": "stdout",
     "output_type": "stream",
     "text": [
      "True\n",
      "False\n",
      "False\n",
      "False\n",
      "False\n",
      "False\n",
      "False\n",
      "False\n"
     ]
    }
   ],
   "source": [
    "print(bool(-1))\n",
    "print(bool(False))\n",
    "print(bool(None))\n",
    "print(bool(0))\n",
    "print(bool(\"\"))\n",
    "print(bool(()))\n",
    "print(bool([]))\n",
    "print(bool({}))"
   ]
  }
 ],
 "metadata": {
  "kernelspec": {
   "display_name": "Python 3 (ipykernel)",
   "language": "python",
   "name": "python3"
  },
  "language_info": {
   "codemirror_mode": {
    "name": "ipython",
    "version": 3
   },
   "file_extension": ".py",
   "mimetype": "text/x-python",
   "name": "python",
   "nbconvert_exporter": "python",
   "pygments_lexer": "ipython3",
   "version": "3.10.9"
  }
 },
 "nbformat": 4,
 "nbformat_minor": 5
}
