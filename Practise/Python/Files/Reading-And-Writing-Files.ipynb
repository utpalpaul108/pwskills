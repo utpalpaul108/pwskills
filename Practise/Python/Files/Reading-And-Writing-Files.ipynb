{
 "cells": [
  {
   "cell_type": "markdown",
   "id": "baadbcd3-0e7f-41b1-9baa-db3c427b1e22",
   "metadata": {},
   "source": [
    "## Reading And Writing Files"
   ]
  },
  {
   "cell_type": "markdown",
   "id": "e444536b-106d-4b6b-b811-4f57461f7a5b",
   "metadata": {},
   "source": [
    "#### Work on Json File"
   ]
  },
  {
   "cell_type": "code",
   "execution_count": 29,
   "id": "966ca51d-9289-4653-90e7-0c6143bbbf5a",
   "metadata": {},
   "outputs": [],
   "source": [
    "data = { \n",
    "    \"name\" : \"Utpal Paul\",\n",
    "    \"email\" : \"utpalseu@gmail.com\",\n",
    "    \"country\" : \"Bangladesh\",\n",
    "    \"locations\" : [\"Bangerhat\", \"Khulna\", \"Dhaka\", \"Jessore\"]\n",
    "    }"
   ]
  },
  {
   "cell_type": "code",
   "execution_count": 25,
   "id": "54925967-ef9b-4b69-9073-6438911e361d",
   "metadata": {},
   "outputs": [],
   "source": [
    "import json\n",
    "f = open(\"test.json\", \"w\")\n",
    "json.dump(data, f)\n",
    "f.close()"
   ]
  },
  {
   "cell_type": "code",
   "execution_count": 31,
   "id": "209c2e6b-10f7-4163-bf32-4a52d80274b8",
   "metadata": {},
   "outputs": [
    {
     "data": {
      "text/plain": [
       "{'name': 'Utpal Paul',\n",
       " 'email': 'utpalseu@gmail.com',\n",
       " 'country': 'Bangladesh',\n",
       " 'locations': ['Bangerhat', 'Khulna', 'Dhaka', 'Jessore']}"
      ]
     },
     "execution_count": 31,
     "metadata": {},
     "output_type": "execute_result"
    }
   ],
   "source": [
    "f = open(\"test.json\", \"r\")\n",
    "data = json.load(f)\n",
    "data"
   ]
  },
  {
   "cell_type": "code",
   "execution_count": null,
   "id": "9d2d1be4-66ee-42d8-9312-10ba1e7e7ebd",
   "metadata": {},
   "outputs": [],
   "source": []
  },
  {
   "cell_type": "markdown",
   "id": "508f4020-466c-4d9f-93cc-c209438adc33",
   "metadata": {},
   "source": [
    "#### Work on CSV File"
   ]
  },
  {
   "cell_type": "code",
   "execution_count": 62,
   "id": "f65ae3da-935c-4555-b12d-7d6778e7e8e2",
   "metadata": {},
   "outputs": [],
   "source": [
    "data = [\n",
    "    [\"Name\", \"Email\", \"Country\"],\n",
    "    [\"Utpal Paul\", \"utpalseu@gmail.com\", \"Bangladesh\"],\n",
    "    [\"Vikash Kumar\", \"vikash@gmail.com\", \"India\"],\n",
    "    [\"Hasan\", \"hasan@yahoo.com\", \"Iran\"]\n",
    "]"
   ]
  },
  {
   "cell_type": "code",
   "execution_count": 63,
   "id": "2251ab9d-8a12-4f38-ab73-09ac5c7e1a63",
   "metadata": {},
   "outputs": [],
   "source": [
    "f = open(\"test.csv\", \"w\")"
   ]
  },
  {
   "cell_type": "code",
   "execution_count": 64,
   "id": "afad4991-7407-400b-8648-95aafbc2ab22",
   "metadata": {},
   "outputs": [],
   "source": [
    "import csv\n",
    "csv_file = csv.writer(f)\n",
    "for i in data:\n",
    "    csv_file.writerow(i)"
   ]
  },
  {
   "cell_type": "code",
   "execution_count": null,
   "id": "f75af779-b855-4e65-8605-3cc276593a14",
   "metadata": {},
   "outputs": [],
   "source": []
  },
  {
   "cell_type": "code",
   "execution_count": 65,
   "id": "119c60ab-46f7-4f77-81fa-a5bc8a867a38",
   "metadata": {},
   "outputs": [
    {
     "name": "stdout",
     "output_type": "stream",
     "text": [
      "['Name', 'Email', 'Country']\n",
      "[]\n",
      "['Utpal Paul', 'utpalseu@gmail.com', 'Bangladesh']\n",
      "[]\n",
      "['Vikash Kumar', 'vikash@gmail.com', 'India']\n",
      "[]\n",
      "['Hasan', 'hasan@yahoo.com', 'Iran']\n",
      "[]\n"
     ]
    }
   ],
   "source": [
    "f = open(\"test.csv\", \"r\")\n",
    "data = csv.reader(f)\n",
    "\n",
    "for i in data:\n",
    "    print(i)"
   ]
  },
  {
   "cell_type": "code",
   "execution_count": null,
   "id": "d0568b61-1c7f-4198-8c46-a8512ca21e3e",
   "metadata": {},
   "outputs": [],
   "source": []
  },
  {
   "cell_type": "markdown",
   "id": "00296b3b-3c31-423a-974c-c964e46bf587",
   "metadata": {},
   "source": [
    "#### Binary Data"
   ]
  },
  {
   "cell_type": "code",
   "execution_count": 67,
   "id": "be391757-e37c-4cb0-9e03-a9190bab4cd3",
   "metadata": {},
   "outputs": [],
   "source": [
    "f = open(\"test.bin\",\"wb\")\n",
    "f.write(b\"01101000\")\n",
    "f.close()"
   ]
  },
  {
   "cell_type": "code",
   "execution_count": 70,
   "id": "685a9da3-b0c6-44c9-83e9-377b197dccae",
   "metadata": {},
   "outputs": [
    {
     "name": "stdout",
     "output_type": "stream",
     "text": [
      "b'01101000'\n"
     ]
    }
   ],
   "source": [
    "f = open(\"test.bin\",\"rb\")\n",
    "print(f.read())\n",
    "f.close()"
   ]
  },
  {
   "cell_type": "code",
   "execution_count": null,
   "id": "1008a4bc-f369-4972-baf2-564e4e3934f8",
   "metadata": {},
   "outputs": [],
   "source": []
  }
 ],
 "metadata": {
  "kernelspec": {
   "display_name": "Python 3 (ipykernel)",
   "language": "python",
   "name": "python3"
  },
  "language_info": {
   "codemirror_mode": {
    "name": "ipython",
    "version": 3
   },
   "file_extension": ".py",
   "mimetype": "text/x-python",
   "name": "python",
   "nbconvert_exporter": "python",
   "pygments_lexer": "ipython3",
   "version": "3.10.9"
  }
 },
 "nbformat": 4,
 "nbformat_minor": 5
}
