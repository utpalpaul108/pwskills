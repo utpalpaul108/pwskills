{
 "cells": [
  {
   "cell_type": "markdown",
   "id": "baadbcd3-0e7f-41b1-9baa-db3c427b1e22",
   "metadata": {},
   "source": [
    "## File Handling"
   ]
  },
  {
   "cell_type": "markdown",
   "id": "67f593f4-39f0-49ff-82ae-35e0626c0a7c",
   "metadata": {},
   "source": [
    "The key function for working with files in Python is the **open()** function.\n",
    "The **open()** function takes two parameters: **filename**, and **mode.**\n",
    "There are four different methods (modes) for opening a file:\n",
    "\n",
    "* **\"r\"** - Read - Default value. Opens a file for reading, error if the file does not exist\n",
    "* **\"a\"** - Append - Opens a file for appending, creates the file if it does not exist\n",
    "* **\"w\"** - Write - Opens a file for writing, creates the file if it does not exist\n",
    "* **\"x\"** - Create - Creates the specified file, returns an error if the file exists\n",
    "\n",
    "In addition you can specify if the file should be handled as binary or text mode\n",
    "\n",
    "* **\"t\"** - Text - Default value. Text mode \n",
    "* **\"b\"** - Binary - Binary mode (e.g. images)"
   ]
  },
  {
   "cell_type": "markdown",
   "id": "64ed9257-6c4b-4acb-910a-6e5970add743",
   "metadata": {},
   "source": [
    "#### Read File"
   ]
  },
  {
   "cell_type": "code",
   "execution_count": 46,
   "id": "da94e1d2-6c1d-45b0-96af-8ae7aebc9e6a",
   "metadata": {},
   "outputs": [
    {
     "data": {
      "text/plain": [
       "'C:\\\\Users\\\\hp\\\\dev\\\\Python\\\\PW Skills\\\\Practise\\\\Day-11'"
      ]
     },
     "execution_count": 46,
     "metadata": {},
     "output_type": "execute_result"
    }
   ],
   "source": [
    "pwd"
   ]
  },
  {
   "cell_type": "code",
   "execution_count": 21,
   "id": "ddf62dd1-96c8-4571-b3c4-77cc9fa726ab",
   "metadata": {},
   "outputs": [
    {
     "name": "stdout",
     "output_type": "stream",
     "text": [
      "Hello! Welcome to demofile\n",
      "This file is for testing purposes.\n",
      "Good Luck!\n"
     ]
    }
   ],
   "source": [
    "myFile = open(\"text.txt\",\"r\")\n",
    "print(myFile.read())"
   ]
  },
  {
   "cell_type": "code",
   "execution_count": 9,
   "id": "30594a68-6dd6-43a5-9d6d-9f0def722713",
   "metadata": {},
   "outputs": [
    {
     "name": "stdout",
     "output_type": "stream",
     "text": [
      "Hello\n"
     ]
    }
   ],
   "source": [
    "myFile = open(\"text.txt\",\"r\")\n",
    "print(myFile.read(5))"
   ]
  },
  {
   "cell_type": "code",
   "execution_count": 27,
   "id": "bc7fcb77-a76c-47ee-9fab-1d6100df1288",
   "metadata": {},
   "outputs": [
    {
     "name": "stdout",
     "output_type": "stream",
     "text": [
      "Hello! Welcome to demofile\n",
      "This file is for testing purposes.\n",
      "\n"
     ]
    }
   ],
   "source": [
    "myFile = open(\"text.txt\",\"r\")\n",
    "print(myFile.readline(),end=\"\")\n",
    "print(myFile.readline())"
   ]
  },
  {
   "cell_type": "code",
   "execution_count": 23,
   "id": "5c2e1c1f-5fd3-4bc8-a764-8018f0cde329",
   "metadata": {},
   "outputs": [
    {
     "name": "stdout",
     "output_type": "stream",
     "text": [
      "Hello! Welcome to demofile\n",
      "\n",
      "This file is for testing purposes.\n",
      "\n",
      "Good Luck!\n"
     ]
    }
   ],
   "source": [
    "myFile = open(\"text.txt\", \"r\")\n",
    "for x in myFile:\n",
    "    print(x)"
   ]
  },
  {
   "cell_type": "code",
   "execution_count": 33,
   "id": "72e64452-d888-40b5-8e39-38cbad5f04d7",
   "metadata": {},
   "outputs": [
    {
     "name": "stdout",
     "output_type": "stream",
     "text": [
      "Hello! Welcome to demofile\n",
      "This file is for testing purposes.\n",
      "Good Luck!"
     ]
    }
   ],
   "source": [
    "myFile = open(\"text.txt\", \"r\")\n",
    "for x in myFile:\n",
    "    print(x, end=\"\")\n",
    "myFile.close()"
   ]
  },
  {
   "cell_type": "code",
   "execution_count": null,
   "id": "a0c6663c-19cb-47c5-96bd-d1b71465255d",
   "metadata": {},
   "outputs": [],
   "source": []
  },
  {
   "cell_type": "code",
   "execution_count": 68,
   "id": "96e99c81-84f3-4782-b16c-ade72923e96e",
   "metadata": {},
   "outputs": [
    {
     "name": "stdout",
     "output_type": "stream",
     "text": [
      "Hello WorldBest of Luck\n",
      "Best of Luck\n",
      "\n"
     ]
    }
   ],
   "source": [
    "with open(\"text.txt\", \"r\") as f:\n",
    "    print(f.read())"
   ]
  },
  {
   "cell_type": "code",
   "execution_count": null,
   "id": "40e1f453-2ea2-4524-b5b5-deacb9ce3474",
   "metadata": {},
   "outputs": [],
   "source": []
  },
  {
   "cell_type": "markdown",
   "id": "103375f2-f55b-473b-b3a3-5bb78bfab761",
   "metadata": {},
   "source": [
    "#### Write File\n",
    "* **\"a\"** - Append - will append to the end of the file\n",
    "* **\"w\"** - Write - will overwrite any existing content"
   ]
  },
  {
   "cell_type": "code",
   "execution_count": 49,
   "id": "ca44f86e-ccf5-48f2-b371-6db51dc8abde",
   "metadata": {},
   "outputs": [],
   "source": [
    "myFile = open(\"text.txt\", \"a\")\n",
    "myFile.write(\"Best of Luck\\n\")\n",
    "myFile.close()"
   ]
  },
  {
   "cell_type": "code",
   "execution_count": 53,
   "id": "3920345a-6cee-45a4-a35a-9f128c308ef3",
   "metadata": {},
   "outputs": [
    {
     "name": "stdout",
     "output_type": "stream",
     "text": [
      "Hello WorldBest of Luck\n",
      "Best of Luck\n",
      "\n"
     ]
    }
   ],
   "source": [
    "myFile = open(\"text.txt\", \"r\")\n",
    "print(myFile.read())"
   ]
  },
  {
   "cell_type": "code",
   "execution_count": 54,
   "id": "9e44c1d1-1c6b-47ce-97a0-7e9f434e954b",
   "metadata": {},
   "outputs": [
    {
     "name": "stdout",
     "output_type": "stream",
     "text": [
      "\n"
     ]
    }
   ],
   "source": [
    "print(myFile.read())"
   ]
  },
  {
   "cell_type": "code",
   "execution_count": 56,
   "id": "68d642f5-ad3d-4761-94af-a5ac583823ef",
   "metadata": {},
   "outputs": [
    {
     "data": {
      "text/plain": [
       "0"
      ]
     },
     "execution_count": 56,
     "metadata": {},
     "output_type": "execute_result"
    }
   ],
   "source": [
    "## Reset Courser Position\n",
    "myFile.seek(0)"
   ]
  },
  {
   "cell_type": "code",
   "execution_count": 57,
   "id": "bf37a4eb-21f5-40bc-b4ba-b3aaff380145",
   "metadata": {},
   "outputs": [
    {
     "name": "stdout",
     "output_type": "stream",
     "text": [
      "Hello WorldBest of Luck\n",
      "Best of Luck\n",
      "\n"
     ]
    }
   ],
   "source": [
    "print(myFile.read())"
   ]
  },
  {
   "cell_type": "code",
   "execution_count": 63,
   "id": "bb9327b4-28ae-449c-88d1-8b304fc0ba6f",
   "metadata": {},
   "outputs": [
    {
     "data": {
      "text/plain": [
       "6"
      ]
     },
     "execution_count": 63,
     "metadata": {},
     "output_type": "execute_result"
    }
   ],
   "source": [
    "## Reset Courser Position After 6 Charecter\n",
    "myFile.seek(6)"
   ]
  },
  {
   "cell_type": "code",
   "execution_count": 62,
   "id": "584a7b56-fbfc-4641-b8c2-3304ff53944c",
   "metadata": {},
   "outputs": [
    {
     "name": "stdout",
     "output_type": "stream",
     "text": [
      "WorldBest of Luck\n",
      "Best of Luck\n",
      "\n"
     ]
    }
   ],
   "source": [
    "print(myFile.read())"
   ]
  },
  {
   "cell_type": "code",
   "execution_count": null,
   "id": "d34d637c-b8f7-4f89-a89f-245dab32da29",
   "metadata": {},
   "outputs": [],
   "source": [
    "myFile.close()"
   ]
  },
  {
   "cell_type": "code",
   "execution_count": 36,
   "id": "664962d4-8723-4679-9a06-e08b2e4f8cc7",
   "metadata": {},
   "outputs": [],
   "source": [
    "myFile = open(\"text.txt\", \"w\")\n",
    "myFile.write(\"Hello World\")\n",
    "myFile.close()"
   ]
  },
  {
   "cell_type": "code",
   "execution_count": 37,
   "id": "b9b942ea-6cd1-4729-9393-894a97e931d5",
   "metadata": {},
   "outputs": [
    {
     "name": "stdout",
     "output_type": "stream",
     "text": [
      "Hello World\n"
     ]
    }
   ],
   "source": [
    "myFile = open(\"text.txt\", \"r\")\n",
    "print(myFile.read())\n",
    "myFile.close()"
   ]
  },
  {
   "cell_type": "code",
   "execution_count": null,
   "id": "3bf25543-082a-476d-b30d-df27620e9041",
   "metadata": {},
   "outputs": [],
   "source": []
  },
  {
   "cell_type": "markdown",
   "id": "839f5994-8236-4fef-9d41-513afb457173",
   "metadata": {},
   "source": [
    "#### Get File Size"
   ]
  },
  {
   "cell_type": "code",
   "execution_count": 65,
   "id": "b7d38317-5650-46d6-9720-6b7c2f9077a6",
   "metadata": {},
   "outputs": [
    {
     "data": {
      "text/plain": [
       "39"
      ]
     },
     "execution_count": 65,
     "metadata": {},
     "output_type": "execute_result"
    }
   ],
   "source": [
    "import os\n",
    "os.path.getsize(\"text.txt\")"
   ]
  },
  {
   "cell_type": "code",
   "execution_count": null,
   "id": "eb118538-1731-40d7-ba75-dd980339eca7",
   "metadata": {},
   "outputs": [],
   "source": []
  },
  {
   "cell_type": "markdown",
   "id": "5e7b1d00-9c2a-4e6b-9023-de6b985d68b4",
   "metadata": {},
   "source": [
    "#### Copy File to a New File"
   ]
  },
  {
   "cell_type": "code",
   "execution_count": 66,
   "id": "224def11-593f-470e-b1fe-76e1ae4ca266",
   "metadata": {},
   "outputs": [
    {
     "data": {
      "text/plain": [
       "'new_text.txt'"
      ]
     },
     "execution_count": 66,
     "metadata": {},
     "output_type": "execute_result"
    }
   ],
   "source": [
    "import shutil\n",
    "shutil.copy(\"text.txt\", \"new_text.txt\")"
   ]
  },
  {
   "cell_type": "markdown",
   "id": "7adf141c-95fe-4b6c-85eb-cbaf5a60eea2",
   "metadata": {},
   "source": [
    "#### Rename a File"
   ]
  },
  {
   "cell_type": "code",
   "execution_count": 71,
   "id": "87b95808-f333-44fc-9d75-9e23765d5eec",
   "metadata": {},
   "outputs": [],
   "source": [
    "import os\n",
    "os.rename(\"new_text.txt\", \"test.txt\")"
   ]
  },
  {
   "cell_type": "markdown",
   "id": "6f7f82a0-6f6b-4d9c-8d7a-6f6642930fb0",
   "metadata": {},
   "source": [
    "#### Delete a File\n",
    "\n",
    "To delete a file, we must have to import the OS module, and than we have to run its **os.remove()** function."
   ]
  },
  {
   "cell_type": "code",
   "execution_count": 39,
   "id": "d4450135-d3f7-43a7-80e7-6919c096df5a",
   "metadata": {
    "jp-MarkdownHeadingCollapsed": true,
    "tags": []
   },
   "outputs": [
    {
     "ename": "PermissionError",
     "evalue": "[WinError 32] The process cannot access the file because it is being used by another process: 'text.txt'",
     "output_type": "error",
     "traceback": [
      "\u001b[1;31m---------------------------------------------------------------------------\u001b[0m",
      "\u001b[1;31mPermissionError\u001b[0m                           Traceback (most recent call last)",
      "Cell \u001b[1;32mIn[39], line 2\u001b[0m\n\u001b[0;32m      1\u001b[0m \u001b[38;5;28;01mimport\u001b[39;00m \u001b[38;5;21;01mos\u001b[39;00m\n\u001b[1;32m----> 2\u001b[0m \u001b[43mos\u001b[49m\u001b[38;5;241;43m.\u001b[39;49m\u001b[43mremove\u001b[49m\u001b[43m(\u001b[49m\u001b[38;5;124;43m\"\u001b[39;49m\u001b[38;5;124;43mtext.txt\u001b[39;49m\u001b[38;5;124;43m\"\u001b[39;49m\u001b[43m)\u001b[49m\n",
      "\u001b[1;31mPermissionError\u001b[0m: [WinError 32] The process cannot access the file because it is being used by another process: 'text.txt'"
     ]
    }
   ],
   "source": [
    "import os\n",
    "os.remove(\"text.txt\")"
   ]
  },
  {
   "cell_type": "markdown",
   "id": "304632c1-d906-49b5-9dda-d4914c05926d",
   "metadata": {},
   "source": [
    "#### Check if File exist"
   ]
  },
  {
   "cell_type": "code",
   "execution_count": 40,
   "id": "a9d9f72a-51f1-4f11-a34c-90a6e0ddf233",
   "metadata": {},
   "outputs": [
    {
     "ename": "PermissionError",
     "evalue": "[WinError 32] The process cannot access the file because it is being used by another process: 'text.txt'",
     "output_type": "error",
     "traceback": [
      "\u001b[1;31m---------------------------------------------------------------------------\u001b[0m",
      "\u001b[1;31mPermissionError\u001b[0m                           Traceback (most recent call last)",
      "Cell \u001b[1;32mIn[40], line 4\u001b[0m\n\u001b[0;32m      1\u001b[0m \u001b[38;5;28;01mimport\u001b[39;00m \u001b[38;5;21;01mos\u001b[39;00m\n\u001b[0;32m      3\u001b[0m \u001b[38;5;28;01mif\u001b[39;00m os\u001b[38;5;241m.\u001b[39mpath\u001b[38;5;241m.\u001b[39mexists(\u001b[38;5;124m\"\u001b[39m\u001b[38;5;124mtext.txt\u001b[39m\u001b[38;5;124m\"\u001b[39m):\n\u001b[1;32m----> 4\u001b[0m     \u001b[43mos\u001b[49m\u001b[38;5;241;43m.\u001b[39;49m\u001b[43mremove\u001b[49m\u001b[43m(\u001b[49m\u001b[38;5;124;43m\"\u001b[39;49m\u001b[38;5;124;43mtext.txt\u001b[39;49m\u001b[38;5;124;43m\"\u001b[39;49m\u001b[43m)\u001b[49m\n\u001b[0;32m      5\u001b[0m \u001b[38;5;28;01melse\u001b[39;00m:\n\u001b[0;32m      6\u001b[0m     \u001b[38;5;28mprint\u001b[39m(\u001b[38;5;124m\"\u001b[39m\u001b[38;5;124mThe File does\u001b[39m\u001b[38;5;124m'\u001b[39m\u001b[38;5;124mt EXIST\u001b[39m\u001b[38;5;124m\"\u001b[39m)\n",
      "\u001b[1;31mPermissionError\u001b[0m: [WinError 32] The process cannot access the file because it is being used by another process: 'text.txt'"
     ]
    }
   ],
   "source": [
    "import os\n",
    "\n",
    "if os.path.exists(\"text.txt\"):\n",
    "    os.remove(\"text.txt\")\n",
    "else:\n",
    "    print(\"The File does't EXIST\")"
   ]
  },
  {
   "cell_type": "markdown",
   "id": "6a809cd5-296d-4037-b494-4b45b8bc1b68",
   "metadata": {},
   "source": [
    "## Delete Folder\n",
    "To delete an entire folder, we have to use the **os.rmdir()** method."
   ]
  },
  {
   "cell_type": "code",
   "execution_count": 45,
   "id": "d8ff684b-8de0-4bf2-946e-5c16bccc8be1",
   "metadata": {},
   "outputs": [],
   "source": [
    "import os\n",
    "os.rmdir(\"temp\")"
   ]
  },
  {
   "cell_type": "code",
   "execution_count": null,
   "id": "290c9e9e-b354-46e0-a5c9-f521d3f00a00",
   "metadata": {},
   "outputs": [],
   "source": []
  }
 ],
 "metadata": {
  "kernelspec": {
   "display_name": "Python 3 (ipykernel)",
   "language": "python",
   "name": "python3"
  },
  "language_info": {
   "codemirror_mode": {
    "name": "ipython",
    "version": 3
   },
   "file_extension": ".py",
   "mimetype": "text/x-python",
   "name": "python",
   "nbconvert_exporter": "python",
   "pygments_lexer": "ipython3",
   "version": "3.10.9"
  }
 },
 "nbformat": 4,
 "nbformat_minor": 5
}
