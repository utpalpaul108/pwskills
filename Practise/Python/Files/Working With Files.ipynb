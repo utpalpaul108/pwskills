{
 "cells": [
  {
   "cell_type": "markdown",
   "id": "28d6fed8-cfb5-4b66-a551-8560a87af672",
   "metadata": {},
   "source": [
    "## Working With Files"
   ]
  },
  {
   "cell_type": "code",
   "execution_count": 16,
   "id": "cf0f74fc-bcfc-4fee-9b33-afc4030a0613",
   "metadata": {
    "tags": []
   },
   "outputs": [
    {
     "data": {
      "text/plain": [
       "'/home/utpal/dev/Python/PW Skills/Practise/Files'"
      ]
     },
     "execution_count": 16,
     "metadata": {},
     "output_type": "execute_result"
    }
   ],
   "source": [
    "pwd"
   ]
  },
  {
   "cell_type": "code",
   "execution_count": 17,
   "id": "207e9815-135c-408c-ae71-1d408064d3e6",
   "metadata": {
    "tags": []
   },
   "outputs": [
    {
     "name": "stdout",
     "output_type": "stream",
     "text": [
      " test.txt  'Working With Files.ipynb'\n"
     ]
    }
   ],
   "source": [
    "ls"
   ]
  },
  {
   "cell_type": "code",
   "execution_count": 31,
   "id": "e35dc0c5-f4b2-4b88-882f-56dd25718ca4",
   "metadata": {},
   "outputs": [],
   "source": [
    "f = open('test.txt', 'a')\n",
    "f.write(\"Hello World 2\")\n",
    "f.close()"
   ]
  },
  {
   "cell_type": "code",
   "execution_count": 32,
   "id": "f4cf042c-bc6a-4cbf-a307-097a8dc24a01",
   "metadata": {
    "tags": []
   },
   "outputs": [
    {
     "data": {
      "text/plain": [
       "'Hello World 2Hello World 2Hello World 2Hello World 2'"
      ]
     },
     "execution_count": 32,
     "metadata": {},
     "output_type": "execute_result"
    }
   ],
   "source": [
    "data = open('test.txt', 'r')\n",
    "data.read()"
   ]
  },
  {
   "cell_type": "code",
   "execution_count": 33,
   "id": "5d14919f-c9b4-4966-8167-41108e67737a",
   "metadata": {
    "tags": []
   },
   "outputs": [
    {
     "data": {
      "text/plain": [
       "''"
      ]
     },
     "execution_count": 33,
     "metadata": {},
     "output_type": "execute_result"
    }
   ],
   "source": [
    "data.read()"
   ]
  },
  {
   "cell_type": "code",
   "execution_count": 41,
   "id": "ba0d5201-6eac-4fce-a215-b13d08aa9404",
   "metadata": {
    "tags": []
   },
   "outputs": [
    {
     "data": {
      "text/plain": [
       "0"
      ]
     },
     "execution_count": 41,
     "metadata": {},
     "output_type": "execute_result"
    }
   ],
   "source": [
    "data.seek(0)"
   ]
  },
  {
   "cell_type": "code",
   "execution_count": 39,
   "id": "2e0fb977-ff06-4f2b-ab79-fde37ec966e4",
   "metadata": {
    "tags": []
   },
   "outputs": [
    {
     "data": {
      "text/plain": [
       "''"
      ]
     },
     "execution_count": 39,
     "metadata": {},
     "output_type": "execute_result"
    }
   ],
   "source": [
    "data.read()"
   ]
  },
  {
   "cell_type": "code",
   "execution_count": 40,
   "id": "311d8434-18f8-4af5-b953-17b901375ff9",
   "metadata": {
    "tags": []
   },
   "outputs": [
    {
     "data": {
      "text/plain": [
       "10"
      ]
     },
     "execution_count": 40,
     "metadata": {},
     "output_type": "execute_result"
    }
   ],
   "source": [
    "data.seek(10)"
   ]
  },
  {
   "cell_type": "code",
   "execution_count": 38,
   "id": "3812040e-73ef-4f69-8d9c-ad13f1e526fe",
   "metadata": {
    "tags": []
   },
   "outputs": [
    {
     "data": {
      "text/plain": [
       "'d 2Hello World 2Hello World 2Hello World 2'"
      ]
     },
     "execution_count": 38,
     "metadata": {},
     "output_type": "execute_result"
    }
   ],
   "source": [
    "data.read()"
   ]
  },
  {
   "cell_type": "code",
   "execution_count": 42,
   "id": "df0bb405-1dfd-46f2-a4e2-6edde618470c",
   "metadata": {
    "tags": []
   },
   "outputs": [
    {
     "name": "stdout",
     "output_type": "stream",
     "text": [
      "Hello World 2Hello World 2Hello World 2Hello World 2\n"
     ]
    }
   ],
   "source": [
    "for i in data:\n",
    "    print(i)"
   ]
  },
  {
   "cell_type": "code",
   "execution_count": 43,
   "id": "4774178c-6941-422a-8fa8-1a0ca00e4a39",
   "metadata": {
    "tags": []
   },
   "outputs": [
    {
     "data": {
      "text/plain": [
       "52"
      ]
     },
     "execution_count": 43,
     "metadata": {},
     "output_type": "execute_result"
    }
   ],
   "source": [
    "# Get File Size\n",
    "import os\n",
    "os.path.getsize('test.txt')"
   ]
  },
  {
   "cell_type": "code",
   "execution_count": 44,
   "id": "ca2ea051-4cc5-4f60-9193-f1be72016975",
   "metadata": {
    "tags": []
   },
   "outputs": [
    {
     "data": {
      "text/plain": [
       "'new_test.txt'"
      ]
     },
     "execution_count": 44,
     "metadata": {},
     "output_type": "execute_result"
    }
   ],
   "source": [
    "# Make a copy of the file\n",
    "import shutil\n",
    "shutil.copy('test.txt', 'new_test.txt')"
   ]
  },
  {
   "cell_type": "code",
   "execution_count": 45,
   "id": "41d00c6a-603c-477b-b6a0-f61cd98b45a9",
   "metadata": {
    "tags": []
   },
   "outputs": [],
   "source": [
    "# Delete a file\n",
    "os.remove('new_test.txt')"
   ]
  },
  {
   "cell_type": "code",
   "execution_count": 47,
   "id": "f31e7d53-4586-4242-bcbd-52d6d7488b50",
   "metadata": {
    "tags": []
   },
   "outputs": [
    {
     "name": "stdout",
     "output_type": "stream",
     "text": [
      "Hello World 2Hello World 2Hello World 2Hello World 2\n"
     ]
    }
   ],
   "source": [
    "with open('test.txt', 'r') as f:\n",
    "    print(f.read())"
   ]
  },
  {
   "cell_type": "code",
   "execution_count": 49,
   "id": "b86ed51d-2f74-454a-8b23-1a679920603e",
   "metadata": {
    "tags": []
   },
   "outputs": [],
   "source": [
    "# Rename a file\n",
    "os.rename('test2.txt', 'test.txt')"
   ]
  }
 ],
 "metadata": {
  "kernelspec": {
   "display_name": "Python 3 (ipykernel)",
   "language": "python",
   "name": "python3"
  },
  "language_info": {
   "codemirror_mode": {
    "name": "ipython",
    "version": 3
   },
   "file_extension": ".py",
   "mimetype": "text/x-python",
   "name": "python",
   "nbconvert_exporter": "python",
   "pygments_lexer": "ipython3",
   "version": "3.10.6"
  }
 },
 "nbformat": 4,
 "nbformat_minor": 5
}
