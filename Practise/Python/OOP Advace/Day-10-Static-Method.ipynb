{
 "cells": [
  {
   "cell_type": "markdown",
   "id": "baadbcd3-0e7f-41b1-9baa-db3c427b1e22",
   "metadata": {},
   "source": [
    "## Static Methods"
   ]
  },
  {
   "cell_type": "code",
   "execution_count": 36,
   "id": "b3131af1-a5f9-4fd6-9986-0ea19bb8a8c4",
   "metadata": {},
   "outputs": [],
   "source": [
    "class Student:\n",
    "    school_name =\"Test School\"\n",
    "    \n",
    "    def __init__(self, school_name, school_address):\n",
    "        self.school_name = school_name\n",
    "        self.school_address = school_address\n",
    "        \n",
    "    def student_details(self, name, email):\n",
    "        print(name, email)\n",
    "    \n",
    "    @staticmethod\n",
    "    def class_mentors(mentors_list, school_name):\n",
    "        print(mentors_list)\n",
    "        Student.school_name = school_name\n",
    "    \n",
    "    @classmethod\n",
    "    def school_details(cls, name, address):\n",
    "        cls.school_address = address\n",
    "        cls.class_mentors([\"Mentor 01\", \"Mentor 02\"], name)\n",
    "        print(cls.school_name, \" - \", cls.school_address)\n",
    "        "
   ]
  },
  {
   "cell_type": "code",
   "execution_count": 38,
   "id": "6ec46a52-ab5d-4128-88c7-b84340ba5087",
   "metadata": {
    "tags": []
   },
   "outputs": [],
   "source": [
    "student01 = Student(\"BAF Sheen\", \"Bijoy Sharene\")"
   ]
  },
  {
   "cell_type": "code",
   "execution_count": 39,
   "id": "c3c922e8-8b13-4aad-9bbf-9e92df0e020b",
   "metadata": {
    "tags": []
   },
   "outputs": [
    {
     "data": {
      "text/plain": [
       "'BAF Sheen'"
      ]
     },
     "execution_count": 39,
     "metadata": {},
     "output_type": "execute_result"
    }
   ],
   "source": [
    "student01.school_name"
   ]
  },
  {
   "cell_type": "code",
   "execution_count": 14,
   "id": "0c62c0f8-61b4-486e-8a0d-77123fb6a23b",
   "metadata": {
    "tags": []
   },
   "outputs": [
    {
     "name": "stdout",
     "output_type": "stream",
     "text": [
      "Utpal utpal@gmail.com\n"
     ]
    }
   ],
   "source": [
    "student01.student_details(\"Utpal\", \"utpal@gmail.com\")"
   ]
  },
  {
   "cell_type": "code",
   "execution_count": 44,
   "id": "7616d515-d51e-45d3-8761-7e806ba07ef5",
   "metadata": {
    "tags": []
   },
   "outputs": [
    {
     "name": "stdout",
     "output_type": "stream",
     "text": [
      "['Krish', 'Sudh']\n"
     ]
    }
   ],
   "source": [
    "Student.class_mentors([\"Krish\", \"Sudh\"], \"Ideal School\")"
   ]
  },
  {
   "cell_type": "code",
   "execution_count": 40,
   "id": "dde83df6-5dcc-4eeb-95bf-71befe55da72",
   "metadata": {
    "tags": []
   },
   "outputs": [
    {
     "name": "stdout",
     "output_type": "stream",
     "text": [
      "['Mentor 01', 'Mentor 02']\n",
      "Holly Cross  -  Framegate\n"
     ]
    }
   ],
   "source": [
    "Student.school_details(\"Holly Cross\", \"Framegate\")"
   ]
  },
  {
   "cell_type": "code",
   "execution_count": 41,
   "id": "f017a510-8739-4af3-9eeb-f8a445be6f29",
   "metadata": {
    "tags": []
   },
   "outputs": [
    {
     "data": {
      "text/plain": [
       "'BAF Sheen'"
      ]
     },
     "execution_count": 41,
     "metadata": {},
     "output_type": "execute_result"
    }
   ],
   "source": [
    "student01.school_name"
   ]
  },
  {
   "cell_type": "code",
   "execution_count": null,
   "id": "017f9ab7-4f30-43e1-9678-04c877b8c659",
   "metadata": {},
   "outputs": [],
   "source": []
  }
 ],
 "metadata": {
  "kernelspec": {
   "display_name": "Python 3 (ipykernel)",
   "language": "python",
   "name": "python3"
  },
  "language_info": {
   "codemirror_mode": {
    "name": "ipython",
    "version": 3
   },
   "file_extension": ".py",
   "mimetype": "text/x-python",
   "name": "python",
   "nbconvert_exporter": "python",
   "pygments_lexer": "ipython3",
   "version": "3.10.6"
  }
 },
 "nbformat": 4,
 "nbformat_minor": 5
}
