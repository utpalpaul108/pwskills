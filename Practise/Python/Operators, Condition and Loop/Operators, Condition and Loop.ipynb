{
 "cells": [
  {
   "cell_type": "markdown",
   "id": "167630d2-043c-45e2-a53b-ba48044bc31c",
   "metadata": {},
   "source": [
    "## **Python Operators**"
   ]
  },
  {
   "cell_type": "markdown",
   "id": "8c0e4ea7-5a3d-418c-9a70-6bb74796c969",
   "metadata": {},
   "source": [
    "#### Arithmetic operators"
   ]
  },
  {
   "cell_type": "code",
   "execution_count": 11,
   "id": "f2ba4078-0873-4649-afd6-a84d24687b32",
   "metadata": {},
   "outputs": [
    {
     "name": "stdout",
     "output_type": "stream",
     "text": [
      "Addition: 30\n",
      "Subtraction: -10\n",
      "Multiplication: 200\n",
      "Division: 2.0\n",
      "Modulus: 0\n",
      "Exponentiation: 10240000000000\n",
      "Floor division: 2\n"
     ]
    }
   ],
   "source": [
    "x=10\n",
    "y=20\n",
    "\n",
    "## Addition\n",
    "print(\"Addition:\", x+y)\n",
    "\n",
    "## Subtraction\n",
    "print(\"Subtraction:\", x-y)\n",
    "\n",
    "## Multiplication\n",
    "print(\"Multiplication:\", x*y)\n",
    "\n",
    "## Division\n",
    "print(\"Division:\", y/x)\n",
    "\n",
    "## Modulus\n",
    "print(\"Modulus:\", y%x)\n",
    "\n",
    "## Exponentiation\n",
    "print(\"Exponentiation:\", y**x)\n",
    "\n",
    "## Floor division\n",
    "print(\"Floor division:\", y//x)"
   ]
  },
  {
   "cell_type": "markdown",
   "id": "c8d701f3-3d88-4c4e-830f-e714b402f0e2",
   "metadata": {},
   "source": [
    "#### Assignment Operators\n",
    "* Assignment operators are used to assign values to variables"
   ]
  },
  {
   "cell_type": "code",
   "execution_count": 62,
   "id": "f8423dfa-18d9-4d55-83c4-8b1fc6fc2cb7",
   "metadata": {},
   "outputs": [],
   "source": [
    "x = 5\n",
    "x &= 3\n",
    "x |= 3\n",
    "x ^= 3\n",
    "x <<=2\n",
    "x >>=2\n",
    "x += 3\n",
    "x -= 3\n",
    "x *= 3\n",
    "x /= 3\n",
    "x //= 3\n",
    "x **= 3"
   ]
  },
  {
   "cell_type": "markdown",
   "id": "6c954515-eec2-4454-bd6e-070e8a5fadea",
   "metadata": {},
   "source": [
    "#### Bitwise Operators"
   ]
  },
  {
   "cell_type": "code",
   "execution_count": 29,
   "id": "c7109732-96ca-4c9a-8964-335cf7ca8056",
   "metadata": {},
   "outputs": [
    {
     "name": "stdout",
     "output_type": "stream",
     "text": [
      "2\n",
      "7\n",
      "5\n",
      "-7\n",
      "12\n",
      "1\n"
     ]
    }
   ],
   "source": [
    "x=6\n",
    "y=3\n",
    "## AND\n",
    "print(x&y)\n",
    "\n",
    "## OR\n",
    "print(x|y)\n",
    "\n",
    "## XOR\n",
    "print(x^y)\n",
    "\n",
    "## NOT / Compliment\n",
    "print(~x)\n",
    "\n",
    "## Left Shift\n",
    "print(y<<2)\n",
    "\n",
    "## Right Shift\n",
    "print(x>>2)"
   ]
  },
  {
   "cell_type": "markdown",
   "id": "e0a6da61-ea5f-4c14-8d56-a4fc517a2044",
   "metadata": {},
   "source": [
    "#### Membership Operators\n",
    "* Used to test if a sequence is presented in an object"
   ]
  },
  {
   "cell_type": "code",
   "execution_count": 32,
   "id": "0ad33e4d-a643-44da-a7e0-3419606b44ed",
   "metadata": {},
   "outputs": [
    {
     "name": "stdout",
     "output_type": "stream",
     "text": [
      "True\n",
      "False\n"
     ]
    }
   ],
   "source": [
    "x = \"Hello World\"\n",
    "print(\"Hello\" in x) \n",
    "\n",
    "print(\"Hello\" not in x)"
   ]
  },
  {
   "cell_type": "markdown",
   "id": "c10603d3-0bc6-4011-aad7-4d82e63ccda8",
   "metadata": {},
   "source": [
    "#### Identity Operators\n",
    "* Used to compare the objects, not if they are equal, but if they are actually the same object, with the same memory location"
   ]
  },
  {
   "cell_type": "code",
   "execution_count": 46,
   "id": "a41f6659-ce00-40a8-9093-b62795c13a54",
   "metadata": {},
   "outputs": [
    {
     "name": "stdout",
     "output_type": "stream",
     "text": [
      "ID of X: 2002195288960\n",
      "ID of Y: 2002195367104\n",
      "ID of Z: 2002195288960\n",
      "ID of K: 2002195284224\n",
      "False\n",
      "True\n",
      "True\n"
     ]
    }
   ],
   "source": [
    "x = [\"Apple\", \"Banana\"]\n",
    "y = [\"Apple\", \"Banana\"]\n",
    "z = x\n",
    "k = x.copy()\n",
    "\n",
    "print(\"ID of X:\",id(x))\n",
    "print(\"ID of Y:\",id(y))\n",
    "print(\"ID of Z:\",id(z))\n",
    "print(\"ID of K:\",id(k))\n",
    "\n",
    "print(x is y)\n",
    "print(x is z)\n",
    "print(x is not k)"
   ]
  },
  {
   "cell_type": "markdown",
   "id": "d547fff3-c49c-4663-ba16-e2b815744749",
   "metadata": {},
   "source": [
    "#### Logical Operators"
   ]
  },
  {
   "cell_type": "code",
   "execution_count": 51,
   "id": "3ee439aa-1906-417f-883d-914ae4b9f79d",
   "metadata": {},
   "outputs": [
    {
     "name": "stdout",
     "output_type": "stream",
     "text": [
      "False\n",
      "True\n",
      "True\n"
     ]
    }
   ],
   "source": [
    "x=20\n",
    "\n",
    "## and\n",
    "print(x>20 and x<25)\n",
    "\n",
    "## or\n",
    "print(x>20 or x<25)\n",
    "\n",
    "## not\n",
    "print(not(x>20 and x<25))"
   ]
  },
  {
   "cell_type": "markdown",
   "id": "a44e4248-832a-46bd-84a8-94d78cb6b680",
   "metadata": {},
   "source": [
    "#### Comparison Operators"
   ]
  },
  {
   "cell_type": "code",
   "execution_count": 55,
   "id": "4cca229e-d50a-4486-b5cf-29d7a95660bf",
   "metadata": {},
   "outputs": [
    {
     "name": "stdout",
     "output_type": "stream",
     "text": [
      "False\n",
      "True\n",
      "False\n",
      "True\n",
      "False\n",
      "True\n"
     ]
    }
   ],
   "source": [
    "x=10\n",
    "y=20\n",
    "\n",
    "## Equal\n",
    "print(x == y)\n",
    "\n",
    "## Not equal\n",
    "print(x != y)\n",
    "\n",
    "## Greater than\n",
    "print(x > y)\n",
    "\n",
    "## Less than\n",
    "print(x < y)\n",
    "\n",
    "## Greater than or equal to\n",
    "print(x >= y)\n",
    "\n",
    "## Less than or equal to\n",
    "print(x <= y)"
   ]
  },
  {
   "cell_type": "markdown",
   "id": "d47647fb-bf17-419f-80c5-8741c4868708",
   "metadata": {},
   "source": [
    "## If ... Else"
   ]
  },
  {
   "cell_type": "code",
   "execution_count": 64,
   "id": "55eec2e2-a63e-4c77-99c9-03a7b2606e75",
   "metadata": {},
   "outputs": [
    {
     "name": "stdout",
     "output_type": "stream",
     "text": [
      "Y is Greater\n"
     ]
    }
   ],
   "source": [
    "x=10\n",
    "y=20\n",
    "\n",
    "if x > y:\n",
    "    print(\"X is Greater\")\n",
    "elif x < y:\n",
    "    print(\"Y is Greater\")\n",
    "else:\n",
    "    print(\"Both are Equal\")"
   ]
  },
  {
   "cell_type": "markdown",
   "id": "130caafd-f97a-4641-a88e-0cacbe391504",
   "metadata": {},
   "source": [
    "#### Short Hand If"
   ]
  },
  {
   "cell_type": "code",
   "execution_count": 65,
   "id": "dc8e2489-3ec4-4dea-8d74-a64c36bb923d",
   "metadata": {},
   "outputs": [
    {
     "name": "stdout",
     "output_type": "stream",
     "text": [
      "Y is greater than X\n"
     ]
    }
   ],
   "source": [
    "if y>x: print(\"Y is greater than X\")"
   ]
  },
  {
   "cell_type": "markdown",
   "id": "200293a4-57c7-4e92-9c4b-96df00cae6b6",
   "metadata": {},
   "source": [
    "#### Short Hand If ... Else"
   ]
  },
  {
   "cell_type": "code",
   "execution_count": 66,
   "id": "70a7e781-5e95-420f-86cb-e243a11b7143",
   "metadata": {},
   "outputs": [
    {
     "name": "stdout",
     "output_type": "stream",
     "text": [
      "Y is Greater\n"
     ]
    }
   ],
   "source": [
    "print(\"X is Greater\") if x>y else print(\"Y is Greater\")"
   ]
  },
  {
   "cell_type": "code",
   "execution_count": 67,
   "id": "122be7c1-cb23-47db-9806-836d5af3a565",
   "metadata": {},
   "outputs": [
    {
     "name": "stdout",
     "output_type": "stream",
     "text": [
      "Y is Greater\n"
     ]
    }
   ],
   "source": [
    "print(\"X is Greater\") if x>y else print(\"Y is Greater\") if y>x else print(\"Both are Equal\")"
   ]
  },
  {
   "cell_type": "markdown",
   "id": "b3c9e85a-316f-45c7-88a8-be3c9cc78705",
   "metadata": {},
   "source": [
    "#### Pass Statement\n",
    "* if statements cannot be empty, but if for some reason have an if statement with no content, put in the pass statement to avoid getting an error."
   ]
  },
  {
   "cell_type": "code",
   "execution_count": 69,
   "id": "db8d9c5f-ae2e-4153-9d8b-b02de89cbe5e",
   "metadata": {},
   "outputs": [],
   "source": [
    "if x>y:\n",
    "    pass"
   ]
  },
  {
   "cell_type": "markdown",
   "id": "27f4ccc6-2256-4631-8914-a24a2f8af3c2",
   "metadata": {},
   "source": [
    "## While Loop\n",
    "* The else block will NOT be executed if the loop is stopped by a break statement."
   ]
  },
  {
   "cell_type": "code",
   "execution_count": 4,
   "id": "a6566f27-4d40-4d61-92c2-458fee7e86ff",
   "metadata": {},
   "outputs": [
    {
     "name": "stdout",
     "output_type": "stream",
     "text": [
      "5\n",
      "6\n",
      "7\n",
      "9\n",
      "10\n",
      "11\n",
      "Process Completed\n"
     ]
    }
   ],
   "source": [
    "x=4\n",
    "\n",
    "while (x<=10):\n",
    "    x+=1\n",
    "    if x==8:\n",
    "        continue\n",
    "    # if x==11:\n",
    "    #     break\n",
    "    print(x)\n",
    "else:\n",
    "    print(\"Process Completed\")"
   ]
  },
  {
   "cell_type": "markdown",
   "id": "5b4fdbdd-7051-40a6-bf2a-f3b47789bba8",
   "metadata": {},
   "source": [
    "## For Loop"
   ]
  },
  {
   "cell_type": "code",
   "execution_count": 7,
   "id": "2d6bf609-7016-49fd-b572-397879cfde5d",
   "metadata": {},
   "outputs": [
    {
     "name": "stdout",
     "output_type": "stream",
     "text": [
      "Apple\n",
      "Mango\n",
      "Process Completed\n"
     ]
    }
   ],
   "source": [
    "fruits = [\"Apple\", \"Banana\", \"Mango\"]\n",
    "\n",
    "for x in fruits:\n",
    "    if x == \"Banana\":\n",
    "        continue\n",
    "    print(x)\n",
    "else:\n",
    "    print(\"Process Completed\")"
   ]
  },
  {
   "cell_type": "markdown",
   "id": "c6fdaf0f-eba7-4064-8273-406fa2f7f4ec",
   "metadata": {},
   "source": [
    "#### range() Function"
   ]
  },
  {
   "cell_type": "code",
   "execution_count": 8,
   "id": "237781ed-61a4-45ef-ac1e-1bfdb48ced42",
   "metadata": {},
   "outputs": [
    {
     "name": "stdout",
     "output_type": "stream",
     "text": [
      "1\n",
      "3\n",
      "5\n",
      "7\n",
      "9\n"
     ]
    }
   ],
   "source": [
    "for x in range(1,10,2):\n",
    "    print(x)"
   ]
  },
  {
   "cell_type": "markdown",
   "id": "ceed4ad1-7f70-459a-8432-a64ba9e2551e",
   "metadata": {},
   "source": [
    "#### pass Statement\n",
    "* for loops cannot be empty, but if you for some reason have a for loop with no content, put in the pass statement to avoid getting an error."
   ]
  },
  {
   "cell_type": "code",
   "execution_count": 10,
   "id": "234ac8f2-8398-4bf1-9edd-c69d99f2bf30",
   "metadata": {},
   "outputs": [],
   "source": [
    "for x in range(1,10,2):\n",
    "    pass"
   ]
  },
  {
   "cell_type": "code",
   "execution_count": null,
   "id": "0b332b17-b46f-40d3-a6f3-cdf5bb6eb629",
   "metadata": {},
   "outputs": [],
   "source": []
  },
  {
   "cell_type": "markdown",
   "id": "4e9d2dad-9598-437e-ae08-24b51941f934",
   "metadata": {},
   "source": [
    "#### Assignment - Star Pyramid"
   ]
  },
  {
   "cell_type": "code",
   "execution_count": 41,
   "id": "154dc35e-56ed-4c1e-8e6d-23b4e81ac72c",
   "metadata": {},
   "outputs": [
    {
     "name": "stdin",
     "output_type": "stream",
     "text": [
      "No of Levels :  10\n"
     ]
    },
    {
     "name": "stdout",
     "output_type": "stream",
     "text": [
      "         *         \n",
      "        ***        \n",
      "       *****       \n",
      "      *******      \n",
      "     *********     \n",
      "    ***********    \n",
      "   *************   \n",
      "  ***************  \n",
      " ***************** \n",
      "*******************\n"
     ]
    }
   ],
   "source": [
    "levels = int(input(\"No of Levels : \"))\n",
    "items = [x+(x+1) for x in range(levels)]\n",
    "\n",
    "for item in items:\n",
    "    all_stars=\"*\"*item\n",
    "    print(all_stars.center(max(items)))"
   ]
  },
  {
   "cell_type": "code",
   "execution_count": null,
   "id": "2b3b27fa-8583-40c1-9534-68e66385ab5e",
   "metadata": {},
   "outputs": [],
   "source": []
  }
 ],
 "metadata": {
  "kernelspec": {
   "display_name": "Python 3 (ipykernel)",
   "language": "python",
   "name": "python3"
  },
  "language_info": {
   "codemirror_mode": {
    "name": "ipython",
    "version": 3
   },
   "file_extension": ".py",
   "mimetype": "text/x-python",
   "name": "python",
   "nbconvert_exporter": "python",
   "pygments_lexer": "ipython3",
   "version": "3.10.9"
  }
 },
 "nbformat": 4,
 "nbformat_minor": 5
}
