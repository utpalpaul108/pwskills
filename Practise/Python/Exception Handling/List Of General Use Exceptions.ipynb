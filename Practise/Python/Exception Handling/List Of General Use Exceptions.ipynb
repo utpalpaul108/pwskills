{
 "cells": [
  {
   "cell_type": "markdown",
   "id": "c5650b66-2e95-4e68-81f1-8ebfab4188dc",
   "metadata": {},
   "source": [
    "## List Of General Use Exceptions"
   ]
  },
  {
   "cell_type": "code",
   "execution_count": 23,
   "id": "2693bed2-4aad-45ea-902a-00fbf366452e",
   "metadata": {
    "tags": []
   },
   "outputs": [
    {
     "name": "stdout",
     "output_type": "stream",
     "text": [
      "division by zero\n"
     ]
    }
   ],
   "source": [
    "# ZeroDivisionError\n",
    "\n",
    "try:\n",
    "    a = 10\n",
    "    a/0\n",
    "except ZeroDivisionError as e:\n",
    "    print(e)"
   ]
  },
  {
   "cell_type": "code",
   "execution_count": 6,
   "id": "7cbdb91a-99b7-4e3e-81a1-ba4b7c242de9",
   "metadata": {
    "tags": []
   },
   "outputs": [],
   "source": [
    "## e.__class__.__name__ get the type of the error"
   ]
  },
  {
   "cell_type": "code",
   "execution_count": 24,
   "id": "978a0f4f-0940-49f4-a960-b97fd443a791",
   "metadata": {
    "tags": []
   },
   "outputs": [
    {
     "name": "stdout",
     "output_type": "stream",
     "text": [
      "name 'b' is not defined\n"
     ]
    }
   ],
   "source": [
    "# NameError\n",
    "\n",
    "try:\n",
    "    a = b/10\n",
    "except NameError as e:\n",
    "    print(e)"
   ]
  },
  {
   "cell_type": "code",
   "execution_count": null,
   "id": "95d98d98-7d7f-46dc-98b3-62248bb69eb8",
   "metadata": {},
   "outputs": [],
   "source": []
  },
  {
   "cell_type": "code",
   "execution_count": 25,
   "id": "8e63a525-655f-4a55-b119-74f0972fa681",
   "metadata": {
    "tags": []
   },
   "outputs": [
    {
     "name": "stdout",
     "output_type": "stream",
     "text": [
      "invalid literal for int() with base 10: 'Utpal'\n"
     ]
    }
   ],
   "source": [
    "# ValueError\n",
    "\n",
    "try:\n",
    "    int(\"Utpal\")\n",
    "except ValueError as e:\n",
    "    print(e)"
   ]
  },
  {
   "cell_type": "code",
   "execution_count": null,
   "id": "147871a7-0520-444f-9b0f-090ac6b1af69",
   "metadata": {},
   "outputs": [],
   "source": []
  },
  {
   "cell_type": "code",
   "execution_count": 26,
   "id": "94f39fc2-ef23-424b-b5e7-bd82b71da977",
   "metadata": {
    "tags": []
   },
   "outputs": [
    {
     "name": "stdout",
     "output_type": "stream",
     "text": [
      "invalid literal for int() with base 10: 'Utpal'\n"
     ]
    }
   ],
   "source": [
    "# We can use Multiple Error at a time\n",
    "\n",
    "try:\n",
    "    int(\"Utpal\")\n",
    "    100/0\n",
    "    \n",
    "except (ZeroDivisionError, ValueError) as e:\n",
    "    print(e)"
   ]
  },
  {
   "cell_type": "code",
   "execution_count": null,
   "id": "ee1a9824-960a-4268-9312-330238b298cb",
   "metadata": {},
   "outputs": [],
   "source": []
  },
  {
   "cell_type": "code",
   "execution_count": 27,
   "id": "fbe79cf5-3b27-42ff-8f50-64ee9efb5bb6",
   "metadata": {
    "tags": []
   },
   "outputs": [
    {
     "name": "stdout",
     "output_type": "stream",
     "text": [
      "No module named 'utpal'\n"
     ]
    }
   ],
   "source": [
    "# ImportError\n",
    "\n",
    "try:\n",
    "    import utpal\n",
    "    \n",
    "except ImportError as e:\n",
    "    print(e)"
   ]
  },
  {
   "cell_type": "code",
   "execution_count": null,
   "id": "04633a63-6644-4c16-8571-034586d0ea1d",
   "metadata": {},
   "outputs": [],
   "source": []
  },
  {
   "cell_type": "code",
   "execution_count": 28,
   "id": "82733988-728d-4614-a8c0-9e9ee96247b9",
   "metadata": {
    "tags": []
   },
   "outputs": [],
   "source": [
    "# KeyError\n",
    "\n",
    "try:\n",
    "    data = {\"name\":\"Utpal\", \"email\":\"utpalpaul108@gmail.com\"}\n",
    "    data[\"name\"]\n",
    "except KeyError as e:\n",
    "    print(e)"
   ]
  },
  {
   "cell_type": "code",
   "execution_count": null,
   "id": "cc0516fc-a58f-4d27-9ee4-c6617ac841db",
   "metadata": {},
   "outputs": [],
   "source": []
  },
  {
   "cell_type": "code",
   "execution_count": 29,
   "id": "dd6f012c-4348-4dc7-a282-8b7e4a364864",
   "metadata": {
    "tags": []
   },
   "outputs": [
    {
     "name": "stdout",
     "output_type": "stream",
     "text": [
      "'str' object has no attribute 'test'\n"
     ]
    }
   ],
   "source": [
    "# AttributeError\n",
    "\n",
    "try:\n",
    "    \"utpal\".test()\n",
    "except AttributeError as e:\n",
    "    print(e)"
   ]
  },
  {
   "cell_type": "code",
   "execution_count": null,
   "id": "e426eccb-18dd-4eff-8241-78c12ebc599b",
   "metadata": {},
   "outputs": [],
   "source": []
  },
  {
   "cell_type": "code",
   "execution_count": 30,
   "id": "57f6f66d-be8e-42c3-91ae-fe09a4b97e83",
   "metadata": {
    "tags": []
   },
   "outputs": [
    {
     "name": "stdout",
     "output_type": "stream",
     "text": [
      "list index out of range\n"
     ]
    }
   ],
   "source": [
    "# IndexError\n",
    "\n",
    "try:\n",
    "    data = [1,2,3]\n",
    "    data[5]\n",
    "except IndexError as e:\n",
    "    print(e)"
   ]
  },
  {
   "cell_type": "code",
   "execution_count": null,
   "id": "4b320631-c95f-471c-8bd7-e78243e7f94d",
   "metadata": {},
   "outputs": [],
   "source": []
  },
  {
   "cell_type": "code",
   "execution_count": 31,
   "id": "7b7e7008-42f3-4095-b657-86953f394e6c",
   "metadata": {
    "tags": []
   },
   "outputs": [
    {
     "name": "stdout",
     "output_type": "stream",
     "text": [
      "unsupported operand type(s) for +: 'int' and 'str'\n"
     ]
    }
   ],
   "source": [
    "# TypeError\n",
    "\n",
    "try:\n",
    "    123 + \"Utpal\"\n",
    "except TypeError as e:\n",
    "    print(e)"
   ]
  },
  {
   "cell_type": "code",
   "execution_count": null,
   "id": "1b4c5c3b-68ff-4940-a351-cc583f3f4505",
   "metadata": {},
   "outputs": [],
   "source": []
  },
  {
   "cell_type": "code",
   "execution_count": 32,
   "id": "c98067ba-b9cf-4e6e-9f24-2df8ac6cf959",
   "metadata": {
    "tags": []
   },
   "outputs": [
    {
     "name": "stdout",
     "output_type": "stream",
     "text": [
      "[Errno 2] No such file or directory: 'test.txt'\n"
     ]
    }
   ],
   "source": [
    "# FileNotFoundError\n",
    "\n",
    "try:\n",
    "    with open(\"test.txt\", \"r\") as f:\n",
    "        f.read()\n",
    "except FileNotFoundError as e:\n",
    "    print(e)"
   ]
  },
  {
   "cell_type": "code",
   "execution_count": null,
   "id": "e6bcec65-79a7-41eb-b43a-8548f180570b",
   "metadata": {},
   "outputs": [],
   "source": []
  },
  {
   "cell_type": "code",
   "execution_count": 19,
   "id": "39a664fc-8bfe-481e-928e-5fb72a545ee7",
   "metadata": {
    "tags": []
   },
   "outputs": [
    {
     "name": "stdout",
     "output_type": "stream",
     "text": [
      "Super Class\n"
     ]
    }
   ],
   "source": [
    "# Using Supe Exception First Is NOT a GOOD practise\n",
    "\n",
    "try:\n",
    "    with open(\"test.txt\", \"r\") as f:\n",
    "        f.read()\n",
    "except Exception as e:\n",
    "    print(\"Super Class\")\n",
    "except FileNotFoundError as e:\n",
    "    print(e)"
   ]
  },
  {
   "cell_type": "code",
   "execution_count": null,
   "id": "d08a17c6-991b-45a0-bb62-973fcd28ff46",
   "metadata": {},
   "outputs": [],
   "source": []
  },
  {
   "cell_type": "code",
   "execution_count": 20,
   "id": "bdc91a3c-e499-4958-a942-fe5cb48a5733",
   "metadata": {
    "tags": []
   },
   "outputs": [
    {
     "name": "stdout",
     "output_type": "stream",
     "text": [
      "[Errno 2] No such file or directory: 'test.txt'\n"
     ]
    }
   ],
   "source": [
    "# We should use Supe Exception at last position, because it consist of all sub-error classes\n",
    "\n",
    "try:\n",
    "    with open(\"test.txt\", \"r\") as f:\n",
    "        f.read()\n",
    "except FileNotFoundError as e:\n",
    "    print(e)\n",
    "except Exception as e:\n",
    "    print(e)"
   ]
  },
  {
   "cell_type": "code",
   "execution_count": null,
   "id": "09ad43db-6470-4900-9fc1-48cd2c369fea",
   "metadata": {},
   "outputs": [],
   "source": []
  },
  {
   "cell_type": "code",
   "execution_count": 22,
   "id": "877cdfd1-142b-4d1c-bfe3-65a19ef805f1",
   "metadata": {
    "tags": []
   },
   "outputs": [
    {
     "name": "stdout",
     "output_type": "stream",
     "text": [
      "[Errno 2] No such file or directory: 'test.txt'\n"
     ]
    }
   ],
   "source": [
    "def readFile(file):\n",
    "    try:\n",
    "        with open(file, \"r\") as f:\n",
    "            f.read()\n",
    "    except FileNotFoundError as e:\n",
    "        print(e)\n",
    "    except Exception as e:\n",
    "        print(e)\n",
    "        \n",
    "readFile(\"test.txt\")"
   ]
  }
 ],
 "metadata": {
  "kernelspec": {
   "display_name": "Python 3 (ipykernel)",
   "language": "python",
   "name": "python3"
  },
  "language_info": {
   "codemirror_mode": {
    "name": "ipython",
    "version": 3
   },
   "file_extension": ".py",
   "mimetype": "text/x-python",
   "name": "python",
   "nbconvert_exporter": "python",
   "pygments_lexer": "ipython3",
   "version": "3.10.6"
  }
 },
 "nbformat": 4,
 "nbformat_minor": 5
}
