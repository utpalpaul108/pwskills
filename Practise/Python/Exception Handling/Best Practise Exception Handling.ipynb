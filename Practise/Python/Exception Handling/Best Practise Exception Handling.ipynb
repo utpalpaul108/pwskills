{
 "cells": [
  {
   "cell_type": "markdown",
   "id": "383cd5ce-ec0b-4a10-a793-28ce8e61696e",
   "metadata": {},
   "source": [
    "## Best Practise Exception Handling"
   ]
  },
  {
   "cell_type": "code",
   "execution_count": 3,
   "id": "02401128-31d3-4059-933f-4a12ca59e388",
   "metadata": {},
   "outputs": [
    {
     "name": "stdout",
     "output_type": "stream",
     "text": [
      "division by zero\n"
     ]
    }
   ],
   "source": [
    "# We always should use specific exception\n",
    "\n",
    "try:\n",
    "    10/0\n",
    "except ZeroDivisionError as e:\n",
    "    print(e)\n",
    "except Exception as e:\n",
    "    print(e)"
   ]
  },
  {
   "cell_type": "code",
   "execution_count": null,
   "id": "eac3719d-e7a0-4674-8327-ec8f0e3a0324",
   "metadata": {},
   "outputs": [],
   "source": []
  },
  {
   "cell_type": "code",
   "execution_count": 5,
   "id": "7f2335f2-6040-4044-b1ff-528d6013b47a",
   "metadata": {
    "tags": []
   },
   "outputs": [
    {
     "name": "stdout",
     "output_type": "stream",
     "text": [
      "Division by ZERO is not Valid\n"
     ]
    }
   ],
   "source": [
    "# We always should use some valid error message\n",
    "\n",
    "try:\n",
    "    10/0\n",
    "except ZeroDivisionError as e:\n",
    "    print(\"Division by ZERO is not Valid\")\n",
    "except Exception as e:\n",
    "    print(e)"
   ]
  },
  {
   "cell_type": "code",
   "execution_count": null,
   "id": "4214d1b6-7a19-4dbf-851b-447346609f9c",
   "metadata": {},
   "outputs": [],
   "source": []
  },
  {
   "cell_type": "code",
   "execution_count": 8,
   "id": "0c3df8e4-a883-4805-80a1-91669e120a63",
   "metadata": {
    "tags": []
   },
   "outputs": [],
   "source": [
    "# We always should use logging insted of using print statement\n",
    "import logging\n",
    "logging.basicConfig(filename=\"error.log\", level=logging.DEBUG, format=\"%(asctime)s %(name)s %(levelname)s %(message)s\")\n",
    "\n",
    "try:\n",
    "    10/0\n",
    "except ZeroDivisionError as e:\n",
    "    logging.error(\"Division by ZERO is not Valid\")\n",
    "except Exception as e:\n",
    "    logging.error(e)"
   ]
  },
  {
   "cell_type": "code",
   "execution_count": null,
   "id": "0c88cb76-1ee9-4736-8e95-786e9c386645",
   "metadata": {},
   "outputs": [],
   "source": []
  },
  {
   "cell_type": "code",
   "execution_count": 9,
   "id": "d38d7fd3-4548-40cb-bcc9-1667b94fe9b9",
   "metadata": {},
   "outputs": [],
   "source": [
    "# We should avoid to write multiple exception handling\n",
    "import logging\n",
    "logging.basicConfig(filename=\"error.log\", level=logging.DEBUG, format=\"%(asctime)s %(name)s %(levelname)s %(message)s\")\n",
    "\n",
    "try:\n",
    "    10/0\n",
    "except ZeroDivisionError as e:\n",
    "    logging.error(\"Division by ZERO is not Valid\")\n",
    "except AttributeError as e:\n",
    "    logging.error(e)\n",
    "except Exception as e:\n",
    "    logging.error(e)"
   ]
  },
  {
   "cell_type": "code",
   "execution_count": null,
   "id": "bc7ab29a-bcc8-445d-9646-a31c1652cf1d",
   "metadata": {},
   "outputs": [],
   "source": []
  },
  {
   "cell_type": "code",
   "execution_count": 10,
   "id": "2e1e8436-a04d-4f83-b057-1cbaa61a027b",
   "metadata": {
    "tags": []
   },
   "outputs": [],
   "source": [
    "# Prepare a proper documentation"
   ]
  },
  {
   "cell_type": "code",
   "execution_count": null,
   "id": "bdf0da7c-ad30-4444-82bb-7e0c8a3ae719",
   "metadata": {},
   "outputs": [],
   "source": []
  },
  {
   "cell_type": "code",
   "execution_count": 13,
   "id": "c592d9cf-cadc-4f31-bc92-b3d50d66176e",
   "metadata": {
    "tags": []
   },
   "outputs": [],
   "source": [
    "# Cleanup all the resources\n",
    "\n",
    "try:\n",
    "    with open(\"test.txt\", \"w\") as f:\n",
    "        f.read()\n",
    "except FileNotFoundError as e:\n",
    "    logging.error(\"test.txt File not found\")\n",
    "except Exception as e:\n",
    "    logging.error(e)\n",
    "finally:\n",
    "    f.close()"
   ]
  }
 ],
 "metadata": {
  "kernelspec": {
   "display_name": "Python 3 (ipykernel)",
   "language": "python",
   "name": "python3"
  },
  "language_info": {
   "codemirror_mode": {
    "name": "ipython",
    "version": 3
   },
   "file_extension": ".py",
   "mimetype": "text/x-python",
   "name": "python",
   "nbconvert_exporter": "python",
   "pygments_lexer": "ipython3",
   "version": "3.10.6"
  }
 },
 "nbformat": 4,
 "nbformat_minor": 5
}
