{
 "cells": [
  {
   "cell_type": "markdown",
   "id": "58b4469c-3243-42d2-87c0-48d1e4e515fc",
   "metadata": {},
   "source": [
    "## Exceptions Handling With Try Except\n",
    "* The **try** block lets us test a block of code for errors.\n",
    "* The **except** block lets us handle the error.\n",
    "* The **else** block lets us execute code when there is no error.\n",
    "* The **finally** block lets us execute code, regardless of the result of the try- and except blocks."
   ]
  },
  {
   "cell_type": "markdown",
   "id": "ed7706b9-3f39-42f0-a8fa-e1793c584891",
   "metadata": {},
   "source": [
    "#### **try** and **except**"
   ]
  },
  {
   "cell_type": "code",
   "execution_count": 1,
   "id": "b3131af1-a5f9-4fd6-9986-0ea19bb8a8c4",
   "metadata": {},
   "outputs": [
    {
     "name": "stdout",
     "output_type": "stream",
     "text": [
      "The issue is: [Errno 2] No such file or directory: 'text2.txt'\n"
     ]
    }
   ],
   "source": [
    "try:\n",
    "    myFile = open(\"text2.txt\",\"r\")\n",
    "except Exception as e:\n",
    "    print(\"The issue is:\", e)"
   ]
  },
  {
   "cell_type": "markdown",
   "id": "7d406b15-f64d-4919-a95c-980ed376df16",
   "metadata": {},
   "source": [
    "#### **except** block"
   ]
  },
  {
   "cell_type": "code",
   "execution_count": 2,
   "id": "b70ce9ad-2181-4a3a-945d-d4cd6f8819f5",
   "metadata": {},
   "outputs": [
    {
     "name": "stdout",
     "output_type": "stream",
     "text": [
      "There is no Error.\n"
     ]
    }
   ],
   "source": [
    "try:\n",
    "    myFile = open(\"text.txt\",\"w\")\n",
    "except Exception as e:\n",
    "    print(\"The issue is:\", e)\n",
    "else:\n",
    "    print(\"There is no Error.\")"
   ]
  },
  {
   "cell_type": "markdown",
   "id": "fcc94d4c-10de-484a-85d1-2f7a4a9eb9d5",
   "metadata": {},
   "source": [
    "#### **finally** block"
   ]
  },
  {
   "cell_type": "code",
   "execution_count": 3,
   "id": "7a1fe5ac-0bb8-4374-aea2-df254744e7b7",
   "metadata": {},
   "outputs": [
    {
     "name": "stdout",
     "output_type": "stream",
     "text": [
      "The issue is: [Errno 2] No such file or directory: 'text2.txt'\n",
      "Process Completed\n"
     ]
    }
   ],
   "source": [
    "try:\n",
    "    myFile = open(\"text2.txt\",\"r\")\n",
    "except Exception as e:\n",
    "    print(\"The issue is:\", e)\n",
    "else:\n",
    "    print(\"There is no Error.\")\n",
    "finally:\n",
    "    print(\"Process Completed\")"
   ]
  },
  {
   "cell_type": "markdown",
   "id": "e77edf86-cb59-44ed-b8ff-cafdeef595b9",
   "metadata": {},
   "source": [
    "#### Many Exceptions\n",
    "* We can define as many exception blocks as we want, e.g. if we want to execute a special block of code for a special kind of error."
   ]
  },
  {
   "cell_type": "code",
   "execution_count": 4,
   "id": "3e1cea2a-1629-4be2-85d7-b32a9a5dbdad",
   "metadata": {},
   "outputs": [
    {
     "name": "stdout",
     "output_type": "stream",
     "text": [
      "File Not Found\n"
     ]
    }
   ],
   "source": [
    "try:\n",
    "    myFile = open(\"text2.txt\",\"r\")\n",
    "except NameError as e:\n",
    "    print(\"Variable name is not defined\")\n",
    "except FileNotFoundError as e:\n",
    "    print(\"File Not Found\")\n",
    "except Exception as e:\n",
    "    print(e)"
   ]
  },
  {
   "cell_type": "markdown",
   "id": "5ec3cedf-7beb-4484-94ba-9639fdea067a",
   "metadata": {},
   "source": [
    "#### Raise an exception\n",
    "* We can choose to throw an exception if a condition occurs. To throw (or raise) an exception, we can use the **raise** keyword."
   ]
  },
  {
   "cell_type": "code",
   "execution_count": 5,
   "id": "ce256ae7-b9a8-405d-8b5e-75e7e70a1020",
   "metadata": {},
   "outputs": [
    {
     "ename": "TypeError",
     "evalue": "exceptions must derive from BaseException",
     "output_type": "error",
     "traceback": [
      "\u001b[0;31m---------------------------------------------------------------------------\u001b[0m",
      "\u001b[0;31mTypeError\u001b[0m                                 Traceback (most recent call last)",
      "Cell \u001b[0;32mIn[5], line 4\u001b[0m\n\u001b[1;32m      1\u001b[0m x \u001b[38;5;241m=\u001b[39m \u001b[38;5;241m10\u001b[39m\n\u001b[1;32m      3\u001b[0m \u001b[38;5;28;01mif\u001b[39;00m x\u001b[38;5;241m<\u001b[39m\u001b[38;5;241m20\u001b[39m:\n\u001b[0;32m----> 4\u001b[0m     \u001b[38;5;28;01mraise\u001b[39;00m(\u001b[38;5;124m\"\u001b[39m\u001b[38;5;124mException, Number Less Than 20\u001b[39m\u001b[38;5;124m\"\u001b[39m)\n",
      "\u001b[0;31mTypeError\u001b[0m: exceptions must derive from BaseException"
     ]
    }
   ],
   "source": [
    "x = 10\n",
    "\n",
    "if x<20:\n",
    "    raise(\"Exception, Number Less Than 20\")"
   ]
  },
  {
   "cell_type": "markdown",
   "id": "380f1c8e-8881-460b-b281-8a1774ce74d1",
   "metadata": {},
   "source": [
    "****We can define what kind of error to raise, and the text to print to the user.****"
   ]
  },
  {
   "cell_type": "code",
   "execution_count": null,
   "id": "702b28d1-0f8b-402a-b5b5-0b3d69155ecd",
   "metadata": {},
   "outputs": [],
   "source": [
    "x = \"hello\"\n",
    "\n",
    "if type(x) != int:\n",
    "    raise TypeError(\"Only Integer is allowed\")"
   ]
  },
  {
   "cell_type": "markdown",
   "id": "319f4339-c13a-4aec-aebe-1bddbf7b39b8",
   "metadata": {},
   "source": [
    "**Own custom validation**"
   ]
  },
  {
   "cell_type": "code",
   "execution_count": null,
   "id": "f1c665dc-4f53-4028-ba93-89bd4afde7bf",
   "metadata": {},
   "outputs": [],
   "source": [
    "class validate(Exception):\n",
    "    def __init__(self,msg):\n",
    "        self.msg = msg"
   ]
  },
  {
   "cell_type": "code",
   "execution_count": null,
   "id": "23783657-9f33-4b94-b27e-e5930ea240bc",
   "metadata": {},
   "outputs": [],
   "source": [
    "def validate_age(age):\n",
    "    if age<=0 :\n",
    "        raise validate(\"Age should be greater than ZERO\")\n",
    "    elif age>100 :\n",
    "        raise validate(\"Age is too HIGH\")\n",
    "    else:\n",
    "        print(\"Age is VALID\")"
   ]
  },
  {
   "cell_type": "code",
   "execution_count": null,
   "id": "fe014bdf-488a-4ec7-833a-6756f1ea840f",
   "metadata": {},
   "outputs": [],
   "source": [
    "try:\n",
    "    age = int(input(\"Enter Your Age\"))\n",
    "    validate_age(age)\n",
    "except validate as e:\n",
    "    print(e)"
   ]
  }
 ],
 "metadata": {
  "kernelspec": {
   "display_name": "Python 3 (ipykernel)",
   "language": "python",
   "name": "python3"
  },
  "language_info": {
   "codemirror_mode": {
    "name": "ipython",
    "version": 3
   },
   "file_extension": ".py",
   "mimetype": "text/x-python",
   "name": "python",
   "nbconvert_exporter": "python",
   "pygments_lexer": "ipython3",
   "version": "3.10.6"
  }
 },
 "nbformat": 4,
 "nbformat_minor": 5
}
