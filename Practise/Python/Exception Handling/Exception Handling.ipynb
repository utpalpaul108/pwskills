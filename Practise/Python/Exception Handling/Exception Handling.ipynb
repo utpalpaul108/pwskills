{
 "cells": [
  {
   "cell_type": "markdown",
   "id": "de637e6c-f5dc-40bd-9e89-57a71eb26e1c",
   "metadata": {},
   "source": [
    "## **OOP**"
   ]
  },
  {
   "cell_type": "markdown",
   "id": "a8867452-67af-442c-9cf2-cb9fc0b06a00",
   "metadata": {},
   "source": [
    "#### Create a Class"
   ]
  },
  {
   "cell_type": "code",
   "execution_count": 2,
   "id": "e6962def-e81a-4b66-b039-e69d1ea8b4fd",
   "metadata": {},
   "outputs": [],
   "source": [
    "class myCalss:\n",
    "    x=50"
   ]
  },
  {
   "cell_type": "markdown",
   "id": "a60a85e3-2fd5-4032-a22d-9b8cdf8b2f8b",
   "metadata": {},
   "source": [
    "#### Create Object"
   ]
  },
  {
   "cell_type": "code",
   "execution_count": 3,
   "id": "ff4c8e8e-39ca-4a36-b0fb-98104a4cadbe",
   "metadata": {},
   "outputs": [
    {
     "data": {
      "text/plain": [
       "50"
      ]
     },
     "execution_count": 3,
     "metadata": {},
     "output_type": "execute_result"
    }
   ],
   "source": [
    "myObj = myCalss()\n",
    "myObj.x"
   ]
  },
  {
   "cell_type": "markdown",
   "id": "0acc3f34-8b42-4d03-b1ce-d0bc902e656d",
   "metadata": {},
   "source": [
    "#### __init__() Function"
   ]
  },
  {
   "cell_type": "code",
   "execution_count": 8,
   "id": "f86557da-6d5e-473a-986f-8460ed981b89",
   "metadata": {},
   "outputs": [
    {
     "data": {
      "text/plain": [
       "250"
      ]
     },
     "execution_count": 8,
     "metadata": {},
     "output_type": "execute_result"
    }
   ],
   "source": [
    "class carClass:\n",
    "    def __init__(self, brand, speed):\n",
    "        self.brand=brand\n",
    "        self.speed=speed\n",
    "        \n",
    "carObj = carClass(\"Toyota\", 250)\n",
    "carObj.speed      "
   ]
  },
  {
   "cell_type": "markdown",
   "id": "89e64c27-5ffb-46a8-81d7-7ffd7d8b377b",
   "metadata": {},
   "source": [
    "#### __str__() Function"
   ]
  },
  {
   "cell_type": "code",
   "execution_count": 16,
   "id": "d1403441-2900-4857-b8b2-6ff54f0c1aa9",
   "metadata": {},
   "outputs": [
    {
     "name": "stdout",
     "output_type": "stream",
     "text": [
      "Hello World\n",
      "Toyota\n"
     ]
    }
   ],
   "source": [
    "class carClass:\n",
    "    def __init__(self, brand, speed):\n",
    "        self.brand=brand\n",
    "        self.speed=speed\n",
    "    def __str__(self):\n",
    "        return \"Hello World\"\n",
    "        \n",
    "carObj = carClass(\"Toyota\", 250)\n",
    "print(carObj)\n",
    "print(carObj.brand)"
   ]
  },
  {
   "cell_type": "markdown",
   "id": "3b7667e3-1917-4d09-b946-7fe0226c8ab8",
   "metadata": {},
   "source": [
    "#### Object Methods"
   ]
  },
  {
   "cell_type": "code",
   "execution_count": 59,
   "id": "f6df8c5e-66d6-45db-8b49-72f247403bcd",
   "metadata": {},
   "outputs": [],
   "source": [
    "class userInfo:\n",
    "    def __init__(self,*info):\n",
    "        self.fname=info[0]\n",
    "        self.lname=info[1]\n",
    "    def fullName(self,email):\n",
    "        return (f\"User Name: {self.fname} {self.lname} | Email: {email}\")"
   ]
  },
  {
   "cell_type": "code",
   "execution_count": 60,
   "id": "c52630ba-c9d3-45d7-abd7-fcab4c5e7edc",
   "metadata": {},
   "outputs": [
    {
     "data": {
      "text/plain": [
       "'User Name: Utpal Paul | Email: utpalseu@gmail.com'"
      ]
     },
     "execution_count": 60,
     "metadata": {},
     "output_type": "execute_result"
    }
   ],
   "source": [
    "myInfo = userInfo(\"Utpal\",\"Paul\")\n",
    "myInfo.fullName(\"utpalseu@gmail.com\")"
   ]
  },
  {
   "cell_type": "markdown",
   "id": "e57f0989-f5b0-455e-b366-713550f9a894",
   "metadata": {},
   "source": [
    "#### Modify Object Properties"
   ]
  },
  {
   "cell_type": "code",
   "execution_count": 51,
   "id": "129a5f24-9e02-4060-880d-75d49a2ab0eb",
   "metadata": {},
   "outputs": [
    {
     "data": {
      "text/plain": [
       "'User Name: Rajesh Paul | Email: rajesh@gmail.com'"
      ]
     },
     "execution_count": 51,
     "metadata": {},
     "output_type": "execute_result"
    }
   ],
   "source": [
    "myInfo.fname = \"Rajesh\"\n",
    "myInfo.fullName(\"rajesh@gmail.com\")"
   ]
  },
  {
   "cell_type": "markdown",
   "id": "71b3a671-5e56-4c41-aabd-fdb1e0ab09d3",
   "metadata": {},
   "source": [
    "#### Delete Object Properties"
   ]
  },
  {
   "cell_type": "code",
   "execution_count": 36,
   "id": "6b7b55c5-7926-4432-8ab6-3c31b18bb950",
   "metadata": {},
   "outputs": [],
   "source": [
    "del myInfo.fname"
   ]
  },
  {
   "cell_type": "markdown",
   "id": "79550334-f5f0-47c4-acee-7660ea3b7a77",
   "metadata": {},
   "source": [
    "#### Delete Objects"
   ]
  },
  {
   "cell_type": "code",
   "execution_count": 38,
   "id": "78535514-c0f7-46ad-b43c-47790cdf654c",
   "metadata": {},
   "outputs": [],
   "source": [
    "del myInfo"
   ]
  },
  {
   "cell_type": "markdown",
   "id": "6760d809-c831-493a-af32-551a7da905f6",
   "metadata": {},
   "source": [
    "#### Pass Statement"
   ]
  },
  {
   "cell_type": "code",
   "execution_count": 44,
   "id": "224c8e73-abf1-4588-ad34-67e7c4cbfd23",
   "metadata": {},
   "outputs": [],
   "source": [
    "class myCalss:\n",
    "    pass"
   ]
  },
  {
   "cell_type": "code",
   "execution_count": null,
   "id": "1c13259b-bf44-40f9-896f-e247485d3794",
   "metadata": {},
   "outputs": [],
   "source": []
  }
 ],
 "metadata": {
  "kernelspec": {
   "display_name": "Python 3 (ipykernel)",
   "language": "python",
   "name": "python3"
  },
  "language_info": {
   "codemirror_mode": {
    "name": "ipython",
    "version": 3
   },
   "file_extension": ".py",
   "mimetype": "text/x-python",
   "name": "python",
   "nbconvert_exporter": "python",
   "pygments_lexer": "ipython3",
   "version": "3.10.9"
  }
 },
 "nbformat": 4,
 "nbformat_minor": 5
}
