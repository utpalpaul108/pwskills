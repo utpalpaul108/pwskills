{
 "cells": [
  {
   "cell_type": "markdown",
   "id": "c3677c1e-ce5f-4acc-be99-43752362d3d5",
   "metadata": {},
   "source": [
    "## Encapsulation"
   ]
  },
  {
   "cell_type": "code",
   "execution_count": 1,
   "id": "dca3c347-6c2a-4c49-b5a3-646bcab4f802",
   "metadata": {},
   "outputs": [],
   "source": [
    "class car:\n",
    "    def __init__(self, brand, model, speed):\n",
    "        self.__brand = brand\n",
    "        self.__model = model\n",
    "        self.__speed = speed\n",
    "    \n",
    "    def set_speed(self, speed):\n",
    "        self.__speed = speed\n",
    "        \n",
    "    def get_speed(self):\n",
    "        return self.__speed\n",
    "        "
   ]
  },
  {
   "cell_type": "code",
   "execution_count": 2,
   "id": "7d6f5afd-3fa4-4404-b0ff-3570b0e6a867",
   "metadata": {},
   "outputs": [],
   "source": [
    "myCar = car(\"Toyota\", \"NOHA\", 120)"
   ]
  },
  {
   "cell_type": "code",
   "execution_count": 9,
   "id": "ac82d33b-fd32-460c-8839-8f3b567646c6",
   "metadata": {},
   "outputs": [],
   "source": [
    "myCar.set_speed(200)"
   ]
  },
  {
   "cell_type": "code",
   "execution_count": 10,
   "id": "5a2473f9-5376-4b3e-b53b-665104bf1fda",
   "metadata": {},
   "outputs": [
    {
     "data": {
      "text/plain": [
       "200"
      ]
     },
     "execution_count": 10,
     "metadata": {},
     "output_type": "execute_result"
    }
   ],
   "source": [
    "myCar.get_speed()"
   ]
  },
  {
   "cell_type": "code",
   "execution_count": 5,
   "id": "5d158f87-9969-404f-b82d-da8c6231bd47",
   "metadata": {},
   "outputs": [
    {
     "data": {
      "text/plain": [
       "120"
      ]
     },
     "execution_count": 5,
     "metadata": {},
     "output_type": "execute_result"
    }
   ],
   "source": [
    "myCar._car__speed"
   ]
  },
  {
   "cell_type": "code",
   "execution_count": 6,
   "id": "ef86d97c-a2eb-437b-b01d-4ca95c2fdd21",
   "metadata": {},
   "outputs": [],
   "source": [
    "myCar._car__speed = 100"
   ]
  },
  {
   "cell_type": "code",
   "execution_count": null,
   "id": "f067e42e-5cf9-4062-8729-209695b70875",
   "metadata": {},
   "outputs": [],
   "source": []
  },
  {
   "cell_type": "code",
   "execution_count": 11,
   "id": "01fd26a7-ef42-4d61-8410-15b22e9f87ff",
   "metadata": {},
   "outputs": [],
   "source": [
    "class bank_account:\n",
    "    def __init__(self, initial_amount):\n",
    "        self.__balance = initial_amount\n",
    "        \n",
    "    def deposite(self, amount):\n",
    "        if amount>0:\n",
    "            self.__balance += amount\n",
    "            \n",
    "    def withdraw(self, amount):\n",
    "        if amount<= self.__balance:\n",
    "            self.__balance -= amount\n",
    "            return True\n",
    "        else:\n",
    "            return False\n",
    "    \n",
    "    def get_balance(self):\n",
    "        return self.__balance"
   ]
  },
  {
   "cell_type": "code",
   "execution_count": 13,
   "id": "b14acb23-38f9-4ea4-9164-d3c090e7c8e1",
   "metadata": {},
   "outputs": [],
   "source": [
    "myAccount = bank_account(1000)"
   ]
  },
  {
   "cell_type": "code",
   "execution_count": 16,
   "id": "9545cec5-e58c-4abb-8b01-04f3b137e164",
   "metadata": {},
   "outputs": [
    {
     "data": {
      "text/plain": [
       "1000"
      ]
     },
     "execution_count": 16,
     "metadata": {},
     "output_type": "execute_result"
    }
   ],
   "source": [
    "myAccount.get_balance()"
   ]
  },
  {
   "cell_type": "code",
   "execution_count": 17,
   "id": "0b9638d5-d47a-465f-a506-31dec72ea7de",
   "metadata": {},
   "outputs": [],
   "source": [
    "myAccount.deposite(5000)"
   ]
  },
  {
   "cell_type": "code",
   "execution_count": 18,
   "id": "a2d0a04f-19e2-40ea-b197-096974b9fa86",
   "metadata": {},
   "outputs": [
    {
     "data": {
      "text/plain": [
       "6000"
      ]
     },
     "execution_count": 18,
     "metadata": {},
     "output_type": "execute_result"
    }
   ],
   "source": [
    "myAccount.get_balance()"
   ]
  },
  {
   "cell_type": "code",
   "execution_count": 21,
   "id": "9df71f4e-a857-4630-b2f4-5c14bbac6bd4",
   "metadata": {},
   "outputs": [
    {
     "data": {
      "text/plain": [
       "True"
      ]
     },
     "execution_count": 21,
     "metadata": {},
     "output_type": "execute_result"
    }
   ],
   "source": [
    "myAccount.withdraw(4000)"
   ]
  },
  {
   "cell_type": "code",
   "execution_count": 22,
   "id": "ecd8275f-64b9-421c-8636-3c06daddc899",
   "metadata": {},
   "outputs": [
    {
     "data": {
      "text/plain": [
       "2000"
      ]
     },
     "execution_count": 22,
     "metadata": {},
     "output_type": "execute_result"
    }
   ],
   "source": [
    "myAccount.get_balance()"
   ]
  },
  {
   "cell_type": "code",
   "execution_count": 24,
   "id": "71187e3b-cecc-4b3f-bcba-7359459c44fb",
   "metadata": {},
   "outputs": [
    {
     "data": {
      "text/plain": [
       "2000"
      ]
     },
     "execution_count": 24,
     "metadata": {},
     "output_type": "execute_result"
    }
   ],
   "source": [
    "myAccount._bank_account__balance"
   ]
  },
  {
   "cell_type": "code",
   "execution_count": 25,
   "id": "d3c5ecf9-1c11-4c2b-a455-1e71a24854ea",
   "metadata": {},
   "outputs": [],
   "source": [
    "myAccount._bank_account__balance = 10000"
   ]
  },
  {
   "cell_type": "code",
   "execution_count": 26,
   "id": "b4392b5b-bba7-4417-a497-a55c8dc2b56f",
   "metadata": {},
   "outputs": [
    {
     "data": {
      "text/plain": [
       "10000"
      ]
     },
     "execution_count": 26,
     "metadata": {},
     "output_type": "execute_result"
    }
   ],
   "source": [
    "myAccount.get_balance()"
   ]
  },
  {
   "cell_type": "code",
   "execution_count": null,
   "id": "a61aac8f-67fb-4671-87b3-d6e18fe4151a",
   "metadata": {},
   "outputs": [],
   "source": []
  }
 ],
 "metadata": {
  "kernelspec": {
   "display_name": "Python 3 (ipykernel)",
   "language": "python",
   "name": "python3"
  },
  "language_info": {
   "codemirror_mode": {
    "name": "ipython",
    "version": 3
   },
   "file_extension": ".py",
   "mimetype": "text/x-python",
   "name": "python",
   "nbconvert_exporter": "python",
   "pygments_lexer": "ipython3",
   "version": "3.10.9"
  }
 },
 "nbformat": 4,
 "nbformat_minor": 5
}
