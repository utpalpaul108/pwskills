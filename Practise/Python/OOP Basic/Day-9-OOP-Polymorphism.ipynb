{
 "cells": [
  {
   "cell_type": "markdown",
   "id": "79305bd9-3044-4409-b8e7-f1a0da186d92",
   "metadata": {},
   "source": [
    "## Polymorphism"
   ]
  },
  {
   "cell_type": "code",
   "execution_count": 7,
   "id": "a24a4920-ab4d-4367-8938-20fb3742bac6",
   "metadata": {},
   "outputs": [
    {
     "name": "stdout",
     "output_type": "stream",
     "text": [
      "DataScience Syllabus\n",
      "Deep Learning Syllabus\n"
     ]
    }
   ],
   "source": [
    "class data_science:\n",
    "    def syllabus(self):\n",
    "        return \"DataScience Syllabus\"\n",
    "    \n",
    "class deep_learning:\n",
    "    def syllabus(self):\n",
    "        return \"Deep Learning Syllabus\"\n",
    "    \n",
    "def parseObj(allObj):\n",
    "    for i in allObj:\n",
    "        print(i.syllabus())\n",
    "        \n",
    "obj_data_science = data_science()\n",
    "obj_deep_learning = deep_learning()\n",
    "\n",
    "all_obj = [obj_data_science, obj_deep_learning]\n",
    "\n",
    "parseObj(all_obj)"
   ]
  },
  {
   "cell_type": "code",
   "execution_count": null,
   "id": "6acec880-08ba-4f42-944b-16a6afd8a20c",
   "metadata": {},
   "outputs": [],
   "source": []
  }
 ],
 "metadata": {
  "kernelspec": {
   "display_name": "Python 3 (ipykernel)",
   "language": "python",
   "name": "python3"
  },
  "language_info": {
   "codemirror_mode": {
    "name": "ipython",
    "version": 3
   },
   "file_extension": ".py",
   "mimetype": "text/x-python",
   "name": "python",
   "nbconvert_exporter": "python",
   "pygments_lexer": "ipython3",
   "version": "3.10.6"
  }
 },
 "nbformat": 4,
 "nbformat_minor": 5
}
