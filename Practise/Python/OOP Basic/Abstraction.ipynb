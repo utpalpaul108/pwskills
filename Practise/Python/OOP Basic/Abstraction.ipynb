{
 "cells": [
  {
   "cell_type": "markdown",
   "id": "21fae924-d4a7-4188-b4dc-a19ae574effd",
   "metadata": {},
   "source": [
    "## Abstraction"
   ]
  },
  {
   "cell_type": "code",
   "execution_count": 11,
   "id": "ebcd6d42-9888-441b-917e-fba3d1beada0",
   "metadata": {
    "tags": []
   },
   "outputs": [],
   "source": [
    "from abc import ABC, abstractmethod"
   ]
  },
  {
   "cell_type": "code",
   "execution_count": 35,
   "id": "db89ac2f-8faa-4d04-abae-e35cc767f291",
   "metadata": {
    "tags": []
   },
   "outputs": [],
   "source": [
    "class PWS(ABC):\n",
    "    \n",
    "    @abstractmethod\n",
    "    def student_details(self):\n",
    "        pass\n",
    "    \n",
    "    def student_assignment(self):\n",
    "        return \"Student Assignment Section\"\n",
    "    \n",
    "    @abstractmethod\n",
    "    def student_marks(self):\n",
    "        pass"
   ]
  },
  {
   "cell_type": "code",
   "execution_count": 36,
   "id": "6fb311d6-c376-48fb-a5bf-1d402a013bf9",
   "metadata": {
    "tags": []
   },
   "outputs": [],
   "source": [
    "class DataScience(PWS):\n",
    "    def student_details(self):\n",
    "        return \"Here is the student details\"\n",
    "    \n",
    "    def student_marks(self):\n",
    "        return \"Here is the Marks of the students\""
   ]
  },
  {
   "cell_type": "code",
   "execution_count": 37,
   "id": "29b6206c-1dfc-47d4-8a3e-faaf2f518f4a",
   "metadata": {
    "tags": []
   },
   "outputs": [
    {
     "data": {
      "text/plain": [
       "'Here is the student details'"
      ]
     },
     "execution_count": 37,
     "metadata": {},
     "output_type": "execute_result"
    }
   ],
   "source": [
    "data_science = DataScience()\n",
    "data_science.student_details()"
   ]
  },
  {
   "cell_type": "code",
   "execution_count": 38,
   "id": "b9adc61f-f3da-48e5-89e8-b833a5d2b579",
   "metadata": {
    "tags": []
   },
   "outputs": [
    {
     "data": {
      "text/plain": [
       "'Student Assignment Section'"
      ]
     },
     "execution_count": 38,
     "metadata": {},
     "output_type": "execute_result"
    }
   ],
   "source": [
    "data_science.student_assignment()"
   ]
  },
  {
   "cell_type": "code",
   "execution_count": 39,
   "id": "6ad065e2-4210-4922-a21c-0a646d4329bf",
   "metadata": {
    "tags": []
   },
   "outputs": [
    {
     "data": {
      "text/plain": [
       "'Here is the Marks of the students'"
      ]
     },
     "execution_count": 39,
     "metadata": {},
     "output_type": "execute_result"
    }
   ],
   "source": [
    "data_science.student_marks()"
   ]
  }
 ],
 "metadata": {
  "kernelspec": {
   "display_name": "Python 3 (ipykernel)",
   "language": "python",
   "name": "python3"
  },
  "language_info": {
   "codemirror_mode": {
    "name": "ipython",
    "version": 3
   },
   "file_extension": ".py",
   "mimetype": "text/x-python",
   "name": "python",
   "nbconvert_exporter": "python",
   "pygments_lexer": "ipython3",
   "version": "3.10.6"
  }
 },
 "nbformat": 4,
 "nbformat_minor": 5
}
