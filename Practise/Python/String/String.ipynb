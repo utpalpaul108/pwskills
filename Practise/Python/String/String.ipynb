{
 "cells": [
  {
   "cell_type": "markdown",
   "id": "d2df75a2-3144-4ae4-8620-4cd32f219d24",
   "metadata": {},
   "source": [
    "## Python Strings"
   ]
  },
  {
   "cell_type": "markdown",
   "id": "ac04392d-428d-4758-aafc-e62d17d5e3ca",
   "metadata": {},
   "source": [
    "#### Multiline Strings\n",
    "* We can assign a multiline string to a variable by using three quotes."
   ]
  },
  {
   "cell_type": "code",
   "execution_count": 5,
   "id": "2e00b745-2c42-4378-b5fb-7afb8b5015bc",
   "metadata": {},
   "outputs": [],
   "source": [
    "a = \"\"\" First Lile\n",
    " Second Line\n",
    " Third Line \"\"\""
   ]
  },
  {
   "cell_type": "code",
   "execution_count": 6,
   "id": "2ea545ac-c60b-42bb-ba10-3c14efef79b1",
   "metadata": {},
   "outputs": [
    {
     "name": "stdout",
     "output_type": "stream",
     "text": [
      " First Lile\n",
      " Second Line\n",
      " Third Line \n"
     ]
    }
   ],
   "source": [
    "print(a)"
   ]
  },
  {
   "cell_type": "code",
   "execution_count": 7,
   "id": "1567b07f-ac9b-4243-956b-b7769aac5837",
   "metadata": {},
   "outputs": [],
   "source": [
    "a = ''' First Lile\n",
    " Second Line\n",
    " Third Line '''"
   ]
  },
  {
   "cell_type": "code",
   "execution_count": 8,
   "id": "31cf5725-2521-4874-bcf1-b0cbb41fa44b",
   "metadata": {},
   "outputs": [
    {
     "name": "stdout",
     "output_type": "stream",
     "text": [
      " First Lile\n",
      " Second Line\n",
      " Third Line \n"
     ]
    }
   ],
   "source": [
    "print(a)"
   ]
  },
  {
   "cell_type": "markdown",
   "id": "6a73e692-51ae-4b1d-a6f8-45aad0b46bcd",
   "metadata": {},
   "source": [
    "#### Looping Through a String"
   ]
  },
  {
   "cell_type": "code",
   "execution_count": 10,
   "id": "006df2f5-0f0a-497c-802c-40cf889e9286",
   "metadata": {},
   "outputs": [
    {
     "name": "stdout",
     "output_type": "stream",
     "text": [
      "M\n",
      "a\n",
      "n\n",
      "g\n",
      "o\n"
     ]
    }
   ],
   "source": [
    "fruit = \"Mango\"\n",
    "\n",
    "for x in fruit:\n",
    "    print(x)"
   ]
  },
  {
   "cell_type": "markdown",
   "id": "8f0863e6-17fd-41b3-a05e-c0b0cc15ad4f",
   "metadata": {},
   "source": [
    "#### Check String"
   ]
  },
  {
   "cell_type": "code",
   "execution_count": 12,
   "id": "37653de7-2084-425e-88aa-0b8e4519ad81",
   "metadata": {},
   "outputs": [
    {
     "name": "stdout",
     "output_type": "stream",
     "text": [
      "True\n"
     ]
    }
   ],
   "source": [
    "x = \"Hello World\"\n",
    "print(\"World\" in x)"
   ]
  },
  {
   "cell_type": "markdown",
   "id": "301fb2c1-d3b9-4c3f-9ecb-838a0202fc5a",
   "metadata": {},
   "source": [
    "#### Slicing\n",
    "* We can return a range of characters by using the slice syntax."
   ]
  },
  {
   "cell_type": "code",
   "execution_count": 14,
   "id": "76213ce6-eb2f-47d9-9842-e831c5437867",
   "metadata": {},
   "outputs": [
    {
     "name": "stdout",
     "output_type": "stream",
     "text": [
      "Hello\n"
     ]
    }
   ],
   "source": [
    "x = \"Hello World\"\n",
    "print(x[0:5])"
   ]
  },
  {
   "cell_type": "code",
   "execution_count": 15,
   "id": "eaa85077-6e0f-4890-b336-1cc562b8f68d",
   "metadata": {},
   "outputs": [
    {
     "name": "stdout",
     "output_type": "stream",
     "text": [
      "Hello\n"
     ]
    }
   ],
   "source": [
    "print(x[:5])"
   ]
  },
  {
   "cell_type": "code",
   "execution_count": 16,
   "id": "884192ad-e6c1-44ce-8a29-6010cec35b75",
   "metadata": {},
   "outputs": [
    {
     "name": "stdout",
     "output_type": "stream",
     "text": [
      "World\n"
     ]
    }
   ],
   "source": [
    "print(x[6:])"
   ]
  },
  {
   "cell_type": "code",
   "execution_count": 19,
   "id": "744b307d-4e5b-48bc-a936-585cfdb184d0",
   "metadata": {},
   "outputs": [
    {
     "name": "stdout",
     "output_type": "stream",
     "text": [
      "Worl\n"
     ]
    }
   ],
   "source": [
    "print(x[-5:-1])"
   ]
  },
  {
   "cell_type": "markdown",
   "id": "589adf17-8814-4999-b0ca-babae28feba7",
   "metadata": {},
   "source": [
    "#### Remove Whitespace"
   ]
  },
  {
   "cell_type": "code",
   "execution_count": 22,
   "id": "7403f3cb-7f17-41ec-9b6b-d714c633ce23",
   "metadata": {},
   "outputs": [
    {
     "name": "stdout",
     "output_type": "stream",
     "text": [
      "Hello World\n"
     ]
    }
   ],
   "source": [
    "x = \" Hello World \"\n",
    "print(x.strip())"
   ]
  },
  {
   "cell_type": "markdown",
   "id": "a9575d5c-c9c8-45c0-8bc1-228476b23f25",
   "metadata": {},
   "source": [
    "#### Replace String"
   ]
  },
  {
   "cell_type": "code",
   "execution_count": 25,
   "id": "4602a0a4-0d0d-46b6-8da3-aa2986bf499f",
   "metadata": {},
   "outputs": [
    {
     "name": "stdout",
     "output_type": "stream",
     "text": [
      "Uello World\n",
      "Hello World\n"
     ]
    }
   ],
   "source": [
    "x = \"Hello World\"\n",
    "print(x.replace(\"H\",\"U\"))\n",
    "print(x)"
   ]
  },
  {
   "cell_type": "markdown",
   "id": "1005b4ff-c5ab-4c3f-8ded-bac3cba43134",
   "metadata": {},
   "source": [
    "#### Split String"
   ]
  },
  {
   "cell_type": "code",
   "execution_count": 28,
   "id": "67f98a49-eb13-4297-bf95-49e7e110ecff",
   "metadata": {},
   "outputs": [
    {
     "name": "stdout",
     "output_type": "stream",
     "text": [
      "['Hello', 'World']\n"
     ]
    }
   ],
   "source": [
    "a = \"Hello World\"\n",
    "print(a.split(\" \"))"
   ]
  },
  {
   "cell_type": "markdown",
   "id": "bfd9fb02-3800-482c-b812-0a87bf57424d",
   "metadata": {},
   "source": [
    "#### String Concatenation"
   ]
  },
  {
   "cell_type": "code",
   "execution_count": 29,
   "id": "047a9763-e8e1-4529-9a5a-74a09b67f40a",
   "metadata": {},
   "outputs": [
    {
     "name": "stdout",
     "output_type": "stream",
     "text": [
      "Hello World\n"
     ]
    }
   ],
   "source": [
    "a = \"Hello \"\n",
    "b = \"World\"\n",
    "c = a+b\n",
    "print(c)"
   ]
  },
  {
   "cell_type": "markdown",
   "id": "04a000a1-bc68-4887-aadd-f03a2c2cc8ab",
   "metadata": {},
   "source": [
    "#### String Format"
   ]
  },
  {
   "cell_type": "code",
   "execution_count": 34,
   "id": "eb730f62-6b14-4c01-9835-6a1723cbda77",
   "metadata": {},
   "outputs": [
    {
     "name": "stdout",
     "output_type": "stream",
     "text": [
      "My Name is : Utpal\n"
     ]
    }
   ],
   "source": [
    "name=\"Utpal\"\n",
    "print(\"My Name is :\", name)"
   ]
  },
  {
   "cell_type": "code",
   "execution_count": 41,
   "id": "76089ba7-1e85-4c33-9a3f-ff77ef1fa474",
   "metadata": {},
   "outputs": [
    {
     "name": "stdout",
     "output_type": "stream",
     "text": [
      "My Name is :Utpal\n"
     ]
    }
   ],
   "source": [
    "print(\"My Name is :\", name, sep='')"
   ]
  },
  {
   "cell_type": "code",
   "execution_count": 45,
   "id": "036b888f-e24e-4349-b64e-abbe3018120c",
   "metadata": {},
   "outputs": [
    {
     "name": "stdout",
     "output_type": "stream",
     "text": [
      "My Name is : Utpal\n"
     ]
    }
   ],
   "source": [
    "print(f\"My Name is : {name}\")"
   ]
  },
  {
   "cell_type": "code",
   "execution_count": 47,
   "id": "9601a747-944d-405a-8383-08580b037517",
   "metadata": {},
   "outputs": [
    {
     "name": "stdout",
     "output_type": "stream",
     "text": [
      "My Name is : Utpal\n"
     ]
    }
   ],
   "source": [
    "name = \"Utpal\"\n",
    "userInfo = \"My Name is : {}\".format(name)\n",
    "print(userInfo)"
   ]
  },
  {
   "cell_type": "code",
   "execution_count": 52,
   "id": "8d2afc6a-457b-41d6-be27-a6f5e4f8c713",
   "metadata": {},
   "outputs": [
    {
     "name": "stdout",
     "output_type": "stream",
     "text": [
      "I am Utpal and I am from Bangladesh\n"
     ]
    }
   ],
   "source": [
    "name = \"Utpal\"\n",
    "country = \"Bangladesh\"\n",
    "myData = \"I am {0} and I am from {1}\".format(name,country)\n",
    "print(myData)"
   ]
  },
  {
   "cell_type": "code",
   "execution_count": 53,
   "id": "69999acc-24f5-42ac-b202-2b091234427c",
   "metadata": {},
   "outputs": [
    {
     "name": "stdout",
     "output_type": "stream",
     "text": [
      "I am Utpal and I am from Bangladesh\n"
     ]
    }
   ],
   "source": [
    "name = \"Utpal\"\n",
    "country = \"Bangladesh\"\n",
    "myData = \"I am {name} and I am from {country}\".format(name=name,country=country)\n",
    "print(myData)"
   ]
  },
  {
   "cell_type": "markdown",
   "id": "2af720a3-44fa-48d7-ba72-05e98d39f623",
   "metadata": {},
   "source": [
    "#### Escape Character"
   ]
  },
  {
   "cell_type": "code",
   "execution_count": 54,
   "id": "687028a6-8767-4dde-abbc-a16200d2d90b",
   "metadata": {},
   "outputs": [
    {
     "name": "stdout",
     "output_type": "stream",
     "text": [
      "It's a beautyful bird\n"
     ]
    }
   ],
   "source": [
    "text = 'It\\'s a beautyful bird'\n",
    "print(text)"
   ]
  },
  {
   "cell_type": "markdown",
   "id": "ab7b9002-eb2a-4321-a7d1-46e65eb82e19",
   "metadata": {},
   "source": [
    "#### Boolean Operations"
   ]
  },
  {
   "cell_type": "code",
   "execution_count": 255,
   "id": "8f000eef-ca78-4599-a02d-0d766051898c",
   "metadata": {},
   "outputs": [
    {
     "data": {
      "text/plain": [
       "0"
      ]
     },
     "execution_count": 255,
     "metadata": {},
     "output_type": "execute_result"
    }
   ],
   "source": [
    "True * False"
   ]
  },
  {
   "cell_type": "code",
   "execution_count": 256,
   "id": "c56e9240-caa3-4c8b-961c-8bfb1eadf753",
   "metadata": {},
   "outputs": [
    {
     "data": {
      "text/plain": [
       "1"
      ]
     },
     "execution_count": 256,
     "metadata": {},
     "output_type": "execute_result"
    }
   ],
   "source": [
    "True * True"
   ]
  },
  {
   "cell_type": "code",
   "execution_count": 257,
   "id": "4c881b49-6704-4a44-a63c-74e0991e0165",
   "metadata": {},
   "outputs": [
    {
     "data": {
      "text/plain": [
       "0"
      ]
     },
     "execution_count": 257,
     "metadata": {},
     "output_type": "execute_result"
    }
   ],
   "source": [
    "False * False"
   ]
  },
  {
   "cell_type": "code",
   "execution_count": 258,
   "id": "357b6f43-e39f-472a-bf3e-0b00ef7f7cb6",
   "metadata": {},
   "outputs": [
    {
     "data": {
      "text/plain": [
       "True"
      ]
     },
     "execution_count": 258,
     "metadata": {},
     "output_type": "execute_result"
    }
   ],
   "source": [
    "not False * False"
   ]
  },
  {
   "cell_type": "markdown",
   "id": "207565fc-976c-4482-8590-2b5b80033208",
   "metadata": {},
   "source": [
    "#### String Methods"
   ]
  },
  {
   "cell_type": "markdown",
   "id": "e212bdab-a84e-4598-8604-f5bcde6449a0",
   "metadata": {},
   "source": [
    "**capitalize()** : Converts the first character to upper case"
   ]
  },
  {
   "cell_type": "code",
   "execution_count": 62,
   "id": "469140ce-08d8-4467-9d66-98e0071df302",
   "metadata": {},
   "outputs": [
    {
     "data": {
      "text/plain": [
       "'Hello world'"
      ]
     },
     "execution_count": 62,
     "metadata": {},
     "output_type": "execute_result"
    }
   ],
   "source": [
    "x = \"hello WORLD\"\n",
    "x.capitalize()"
   ]
  },
  {
   "cell_type": "code",
   "execution_count": 72,
   "id": "0bde43e2-287a-4f89-8dec-f4327e38dccf",
   "metadata": {},
   "outputs": [
    {
     "data": {
      "text/plain": [
       "'36 west kafrul'"
      ]
     },
     "execution_count": 72,
     "metadata": {},
     "output_type": "execute_result"
    }
   ],
   "source": [
    "x = \"36 West Kafrul\"\n",
    "x.capitalize()"
   ]
  },
  {
   "cell_type": "markdown",
   "id": "313fe90a-aec5-4607-8a85-ea47413f2b47",
   "metadata": {},
   "source": [
    "**casefold()** : Converts string into lower case"
   ]
  },
  {
   "cell_type": "code",
   "execution_count": 74,
   "id": "28c0b6d6-0da0-4b64-b74d-d3e2ce4d4bb2",
   "metadata": {},
   "outputs": [
    {
     "data": {
      "text/plain": [
       "'rampura, west kafrul'"
      ]
     },
     "execution_count": 74,
     "metadata": {},
     "output_type": "execute_result"
    }
   ],
   "source": [
    "x = \"Rampura, West Kafrul\"\n",
    "x.casefold()"
   ]
  },
  {
   "cell_type": "markdown",
   "id": "a8cfab08-07f5-4532-9cba-1169a44e6cda",
   "metadata": {},
   "source": [
    "**center()** : Returns a centered string"
   ]
  },
  {
   "cell_type": "code",
   "execution_count": 90,
   "id": "6296dc9b-2ca0-42f2-a3ea-b110b9d38466",
   "metadata": {},
   "outputs": [
    {
     "data": {
      "text/plain": [
       "'***Mango***'"
      ]
     },
     "execution_count": 90,
     "metadata": {},
     "output_type": "execute_result"
    }
   ],
   "source": [
    "x = \"Mango\"\n",
    "x.center(11,\"*\")"
   ]
  },
  {
   "cell_type": "markdown",
   "id": "dc52b98b-5f6f-4afb-adef-2445c46e48bb",
   "metadata": {},
   "source": [
    "**count()** : Returns the number of times a specified value occurs in a string"
   ]
  },
  {
   "cell_type": "code",
   "execution_count": 63,
   "id": "801cb101-195c-4dad-8ea6-0e292f05af1b",
   "metadata": {},
   "outputs": [
    {
     "data": {
      "text/plain": [
       "2"
      ]
     },
     "execution_count": 63,
     "metadata": {},
     "output_type": "execute_result"
    }
   ],
   "source": [
    "x = \"Hello World\"\n",
    "x.count(\"o\")"
   ]
  },
  {
   "cell_type": "code",
   "execution_count": 95,
   "id": "40aa903a-c6ce-403f-8e89-890141e84f67",
   "metadata": {},
   "outputs": [
    {
     "data": {
      "text/plain": [
       "2"
      ]
     },
     "execution_count": 95,
     "metadata": {},
     "output_type": "execute_result"
    }
   ],
   "source": [
    "x = \"Hello World\"\n",
    "x.count(\"o\",4,8)"
   ]
  },
  {
   "cell_type": "markdown",
   "id": "df6b0d44-ef75-47e7-a1b0-c49fa384e946",
   "metadata": {},
   "source": [
    "**encode()** : Returns an encoded version of the string"
   ]
  },
  {
   "cell_type": "code",
   "execution_count": 97,
   "id": "4c7cc953-5a42-4dda-b6d1-c29054c1ef30",
   "metadata": {},
   "outputs": [
    {
     "data": {
      "text/plain": [
       "b'My name is St\\xc3\\xa5le'"
      ]
     },
     "execution_count": 97,
     "metadata": {},
     "output_type": "execute_result"
    }
   ],
   "source": [
    "txt = \"My name is Ståle\"\n",
    "txt.encode()"
   ]
  },
  {
   "cell_type": "code",
   "execution_count": 99,
   "id": "06bb2f33-3a94-4bda-9036-2784479ff5fa",
   "metadata": {},
   "outputs": [
    {
     "data": {
      "text/plain": [
       "b'My name is St?le'"
      ]
     },
     "execution_count": 99,
     "metadata": {},
     "output_type": "execute_result"
    }
   ],
   "source": [
    "txt = \"My name is Ståle\"\n",
    "txt.encode(encoding='ascii', errors='replace')"
   ]
  },
  {
   "cell_type": "markdown",
   "id": "38bd3425-c943-46c9-86ce-87867f573761",
   "metadata": {},
   "source": [
    "**endswith()** : Returns true if the string ends with the specified value"
   ]
  },
  {
   "cell_type": "code",
   "execution_count": 101,
   "id": "3f2b9718-504b-4b25-8f4b-7c8895bb7eba",
   "metadata": {},
   "outputs": [
    {
     "data": {
      "text/plain": [
       "True"
      ]
     },
     "execution_count": 101,
     "metadata": {},
     "output_type": "execute_result"
    }
   ],
   "source": [
    "x = \"Hello World\"\n",
    "x.endswith(\"d\")"
   ]
  },
  {
   "cell_type": "code",
   "execution_count": 106,
   "id": "e2dfba90-5d2c-4267-9bcc-ae4e82425b53",
   "metadata": {},
   "outputs": [
    {
     "data": {
      "text/plain": [
       "True"
      ]
     },
     "execution_count": 106,
     "metadata": {},
     "output_type": "execute_result"
    }
   ],
   "source": [
    "x = \"Hello World\"\n",
    "x.endswith(\"o\",1,5)"
   ]
  },
  {
   "cell_type": "markdown",
   "id": "b35ef688-d7b1-4edd-81f8-0f29f92dd1f8",
   "metadata": {},
   "source": [
    "**expandtabs()** : Sets the tab size of the string"
   ]
  },
  {
   "cell_type": "code",
   "execution_count": 111,
   "id": "93e6679c-aee6-40db-af21-0a0ea4a084fa",
   "metadata": {},
   "outputs": [
    {
     "name": "stdout",
     "output_type": "stream",
     "text": [
      "H E L L O\n",
      "H E L L O\n",
      "H  E  L  L  O\n",
      "H   E   L   L   O\n",
      "H    E    L    L    O\n",
      "H     E     L     L     O\n",
      "H      E      L      L      O\n",
      "H       E       L       L       O\n",
      "H       E       L       L       O\n"
     ]
    }
   ],
   "source": [
    "x = \"H\\tE\\tL\\tL\\tO\"\n",
    "print(x.expandtabs(1))\n",
    "print(x.expandtabs(2))\n",
    "print(x.expandtabs(3))\n",
    "print(x.expandtabs(4))\n",
    "print(x.expandtabs(5))\n",
    "print(x.expandtabs(6))\n",
    "print(x.expandtabs(7))\n",
    "print(x.expandtabs(8))\n",
    "\n",
    "# Default Tab Size is 8\n",
    "print(x.expandtabs())"
   ]
  },
  {
   "cell_type": "markdown",
   "id": "8ef533e6-4824-4646-a1af-20642a522dc4",
   "metadata": {},
   "source": [
    "**format()** : Formats specified values in a string"
   ]
  },
  {
   "cell_type": "code",
   "execution_count": 254,
   "id": "fbf22da1-1efa-4bfe-ae45-9a494db9ed11",
   "metadata": {},
   "outputs": [
    {
     "name": "stdout",
     "output_type": "stream",
     "text": [
      "My name is Utpal\n"
     ]
    }
   ],
   "source": [
    "x = \"My name is {}\".format(\"Utpal\")\n",
    "print(x)"
   ]
  },
  {
   "cell_type": "markdown",
   "id": "dd2d5d49-e2c6-4b6a-aa05-a537d6254578",
   "metadata": {},
   "source": [
    "**find()** : Searches the string for a specified value and returns the position of where it was found"
   ]
  },
  {
   "cell_type": "code",
   "execution_count": 119,
   "id": "b0de02c1-9ca2-401e-a0a0-09a9ec45235e",
   "metadata": {},
   "outputs": [
    {
     "data": {
      "text/plain": [
       "2"
      ]
     },
     "execution_count": 119,
     "metadata": {},
     "output_type": "execute_result"
    }
   ],
   "source": [
    "x = \"Hello World\"\n",
    "x.find(\"llo\",2,10)"
   ]
  },
  {
   "cell_type": "markdown",
   "id": "73e9a210-dc91-42f5-b017-ab9621214b50",
   "metadata": {},
   "source": [
    "**index()** : Searches the string for a specified value and returns the position of where it was found"
   ]
  },
  {
   "cell_type": "code",
   "execution_count": 120,
   "id": "c76b6066-8f57-468d-97ea-6342ad018830",
   "metadata": {},
   "outputs": [
    {
     "data": {
      "text/plain": [
       "4"
      ]
     },
     "execution_count": 120,
     "metadata": {},
     "output_type": "execute_result"
    }
   ],
   "source": [
    "x = \"Hello World\"\n",
    "x.index(\"o\")"
   ]
  },
  {
   "cell_type": "markdown",
   "id": "a4bd39d8-d084-4482-a31c-915d2df1b44f",
   "metadata": {},
   "source": [
    "**isalnum()** : Returns True if all characters in the string are alphanumeric"
   ]
  },
  {
   "cell_type": "code",
   "execution_count": 121,
   "id": "11ecdead-cb3d-4092-9443-09078ee36ccb",
   "metadata": {},
   "outputs": [
    {
     "data": {
      "text/plain": [
       "False"
      ]
     },
     "execution_count": 121,
     "metadata": {},
     "output_type": "execute_result"
    }
   ],
   "source": [
    "x = \"Hello World 123\"\n",
    "x.isalnum()"
   ]
  },
  {
   "cell_type": "code",
   "execution_count": 126,
   "id": "83c3950c-2aef-440c-ac93-398d42415269",
   "metadata": {},
   "outputs": [
    {
     "data": {
      "text/plain": [
       "False"
      ]
     },
     "execution_count": 126,
     "metadata": {},
     "output_type": "execute_result"
    }
   ],
   "source": [
    "x = \"123 56\"\n",
    "x.isalnum()"
   ]
  },
  {
   "cell_type": "code",
   "execution_count": 127,
   "id": "ef3561f1-d026-477c-9082-c918d827f8cb",
   "metadata": {},
   "outputs": [
    {
     "data": {
      "text/plain": [
       "True"
      ]
     },
     "execution_count": 127,
     "metadata": {},
     "output_type": "execute_result"
    }
   ],
   "source": [
    "x = \"123\"\n",
    "x.isalnum()"
   ]
  },
  {
   "cell_type": "code",
   "execution_count": 125,
   "id": "a956d536-271a-438e-a64b-7f163de421cf",
   "metadata": {},
   "outputs": [
    {
     "data": {
      "text/plain": [
       "True"
      ]
     },
     "execution_count": 125,
     "metadata": {},
     "output_type": "execute_result"
    }
   ],
   "source": [
    "x = \"Hello\"\n",
    "x.isalnum()"
   ]
  },
  {
   "cell_type": "markdown",
   "id": "0b1a2999-2c2b-4243-86f7-85d09beda61b",
   "metadata": {},
   "source": [
    "**isalpha()** : Returns True if all characters in the string are in the alphabet"
   ]
  },
  {
   "cell_type": "code",
   "execution_count": 132,
   "id": "8c7b3cb3-ebc4-4a38-85b2-c0968ca131b9",
   "metadata": {},
   "outputs": [
    {
     "data": {
      "text/plain": [
       "True"
      ]
     },
     "execution_count": 132,
     "metadata": {},
     "output_type": "execute_result"
    }
   ],
   "source": [
    "x = \"Hello\"\n",
    "x.isalpha()"
   ]
  },
  {
   "cell_type": "code",
   "execution_count": 134,
   "id": "837712d5-10cc-4fe9-b43d-bf1fa06f592e",
   "metadata": {},
   "outputs": [
    {
     "data": {
      "text/plain": [
       "False"
      ]
     },
     "execution_count": 134,
     "metadata": {},
     "output_type": "execute_result"
    }
   ],
   "source": [
    "x = \"Hello World\"\n",
    "x.isalpha()"
   ]
  },
  {
   "cell_type": "code",
   "execution_count": 135,
   "id": "af56ca74-dda9-4bd8-9e93-df73a1dc703b",
   "metadata": {},
   "outputs": [
    {
     "data": {
      "text/plain": [
       "False"
      ]
     },
     "execution_count": 135,
     "metadata": {},
     "output_type": "execute_result"
    }
   ],
   "source": [
    "x = \"Hello123\"\n",
    "x.isalpha()"
   ]
  },
  {
   "cell_type": "code",
   "execution_count": 136,
   "id": "f2143255-2e80-4a68-b277-a5c61c9782da",
   "metadata": {},
   "outputs": [
    {
     "data": {
      "text/plain": [
       "False"
      ]
     },
     "execution_count": 136,
     "metadata": {},
     "output_type": "execute_result"
    }
   ],
   "source": [
    "x = \"123\"\n",
    "x.isalpha()"
   ]
  },
  {
   "cell_type": "markdown",
   "id": "77323dd8-9710-4b9c-af19-cce9930676fc",
   "metadata": {},
   "source": [
    "**isdecimal()** : Returns True if all characters in the string are decimals"
   ]
  },
  {
   "cell_type": "code",
   "execution_count": 140,
   "id": "c27349bb-4038-4795-9d57-067e0541578b",
   "metadata": {},
   "outputs": [
    {
     "data": {
      "text/plain": [
       "True"
      ]
     },
     "execution_count": 140,
     "metadata": {},
     "output_type": "execute_result"
    }
   ],
   "source": [
    "x = \"20\"\n",
    "x.isdecimal()"
   ]
  },
  {
   "cell_type": "markdown",
   "id": "2c003017-9388-4e4f-ad14-fbb81d81eb6f",
   "metadata": {},
   "source": [
    "**isdigit()** : Returns True if all characters in the string are digits"
   ]
  },
  {
   "cell_type": "code",
   "execution_count": 143,
   "id": "5bd85473-ad8f-4a53-a894-ea41c41cbfff",
   "metadata": {},
   "outputs": [
    {
     "data": {
      "text/plain": [
       "False"
      ]
     },
     "execution_count": 143,
     "metadata": {},
     "output_type": "execute_result"
    }
   ],
   "source": [
    "x = \"20.12\"\n",
    "x.isdigit()"
   ]
  },
  {
   "cell_type": "code",
   "execution_count": 145,
   "id": "aff8cf71-a513-4ebd-b097-269cae26cc89",
   "metadata": {},
   "outputs": [
    {
     "data": {
      "text/plain": [
       "False"
      ]
     },
     "execution_count": 145,
     "metadata": {},
     "output_type": "execute_result"
    }
   ],
   "source": [
    "x = \"Hello\"\n",
    "x.isdigit()"
   ]
  },
  {
   "cell_type": "markdown",
   "id": "4d287e6b-b7c6-4925-af09-0a55a025665a",
   "metadata": {},
   "source": [
    "**isidentifier()** : Returns True if the string is an identifier"
   ]
  },
  {
   "cell_type": "code",
   "execution_count": 146,
   "id": "7c8c44dc-0714-4f2b-91b4-3d8554950c93",
   "metadata": {},
   "outputs": [
    {
     "name": "stdout",
     "output_type": "stream",
     "text": [
      "True\n",
      "True\n",
      "False\n",
      "False\n"
     ]
    }
   ],
   "source": [
    "a = \"MyFolder\"\n",
    "b = \"Demo002\"\n",
    "c = \"2bring\"\n",
    "d = \"my demo\"\n",
    "\n",
    "print(a.isidentifier())\n",
    "print(b.isidentifier())\n",
    "print(c.isidentifier())\n",
    "print(d.isidentifier())"
   ]
  },
  {
   "cell_type": "markdown",
   "id": "4cf0aabd-2c2a-42c7-bd6b-f23e0b0d053b",
   "metadata": {},
   "source": [
    "**islower()** : Returns True if all characters in the string are lower case"
   ]
  },
  {
   "cell_type": "code",
   "execution_count": 150,
   "id": "32999599-8eca-485f-ba50-faac6831f52e",
   "metadata": {},
   "outputs": [
    {
     "name": "stdout",
     "output_type": "stream",
     "text": [
      "False\n",
      "True\n",
      "False\n"
     ]
    }
   ],
   "source": [
    "a = \"Hello world!\"\n",
    "b = \"hello! 123\"\n",
    "c = \"mynameisPeter\"\n",
    "\n",
    "print(a.islower())\n",
    "print(b.islower())\n",
    "print(c.islower())"
   ]
  },
  {
   "cell_type": "markdown",
   "id": "07ef716d-9f38-4c85-a007-c2f733919662",
   "metadata": {},
   "source": [
    "**isnumeric()** : Returns True if all characters in the string are numeric"
   ]
  },
  {
   "cell_type": "code",
   "execution_count": 153,
   "id": "e5f6c5dd-f2a0-48ac-a258-f79bb55b33ff",
   "metadata": {},
   "outputs": [
    {
     "name": "stdout",
     "output_type": "stream",
     "text": [
      "True\n",
      "True\n",
      "False\n",
      "False\n",
      "False\n",
      "True\n"
     ]
    }
   ],
   "source": [
    "a = \"\\u0030\" #unicode for 0\n",
    "b = \"\\u00B2\" #unicode for &sup2;\n",
    "c = \"10km2\"\n",
    "d = \"-1\"\n",
    "e = \"1.5\"\n",
    "f = \"20\"\n",
    "\n",
    "print(a.isnumeric())\n",
    "print(b.isnumeric())\n",
    "print(c.isnumeric())\n",
    "print(d.isnumeric())\n",
    "print(e.isnumeric())\n",
    "print(f.isnumeric())"
   ]
  },
  {
   "cell_type": "markdown",
   "id": "e09bf6ee-fad5-4c19-8aff-6e8472b50a5f",
   "metadata": {},
   "source": [
    "**isprintable()** : Returns True if all characters in the string are printable"
   ]
  },
  {
   "cell_type": "code",
   "execution_count": 160,
   "id": "d4f3ba6c-bb15-4587-9f20-5f317ae6c55d",
   "metadata": {},
   "outputs": [
    {
     "name": "stdout",
     "output_type": "stream",
     "text": [
      "True\n"
     ]
    }
   ],
   "source": [
    "x = \"Hello #@\\~ World\"\n",
    "print(x.isprintable())"
   ]
  },
  {
   "cell_type": "code",
   "execution_count": 161,
   "id": "5c841b7f-e25a-44e7-8645-ce70f8af6104",
   "metadata": {},
   "outputs": [
    {
     "name": "stdout",
     "output_type": "stream",
     "text": [
      "False\n"
     ]
    }
   ],
   "source": [
    "x = \"Hello \\n World\"\n",
    "print(x.isprintable())"
   ]
  },
  {
   "cell_type": "markdown",
   "id": "fb6888dd-af58-4d0a-be9c-250dbf002f49",
   "metadata": {},
   "source": [
    "**isspace()** : Returns True if all characters in the string are whitespaces"
   ]
  },
  {
   "cell_type": "code",
   "execution_count": 162,
   "id": "74f26828-c040-464e-b2d3-65575968e6d6",
   "metadata": {},
   "outputs": [
    {
     "name": "stdout",
     "output_type": "stream",
     "text": [
      "True\n"
     ]
    }
   ],
   "source": [
    "x = \"    \"\n",
    "print(x.isspace())"
   ]
  },
  {
   "cell_type": "code",
   "execution_count": 163,
   "id": "14f1dea4-d51a-46d4-9977-7a0976c96c9c",
   "metadata": {},
   "outputs": [
    {
     "name": "stdout",
     "output_type": "stream",
     "text": [
      "False\n"
     ]
    }
   ],
   "source": [
    "x = \"  s  \"\n",
    "print(x.isspace())"
   ]
  },
  {
   "cell_type": "markdown",
   "id": "3718c781-093f-4574-b950-8e2db171d79b",
   "metadata": {},
   "source": [
    "**istitle()** : Returns True if the string follows the rules of a title"
   ]
  },
  {
   "cell_type": "code",
   "execution_count": 167,
   "id": "7a6d0a04-1a4f-4638-a179-c3a16e2435c5",
   "metadata": {},
   "outputs": [
    {
     "name": "stdout",
     "output_type": "stream",
     "text": [
      "False\n",
      "True\n",
      "True\n",
      "True\n",
      "False\n",
      "True\n"
     ]
    }
   ],
   "source": [
    "a = \"HELLO, AND WELCOME TO MY WORLD\"\n",
    "b = \"Hello\"\n",
    "c = \"22 Names\"\n",
    "d = \"This Is %'!?\"\n",
    "e = \"Hello world\"\n",
    "f = \"Hello World\"\n",
    "\n",
    "print(a.istitle())\n",
    "print(b.istitle())\n",
    "print(c.istitle())\n",
    "print(d.istitle())\n",
    "print(e.istitle())\n",
    "print(f.istitle())"
   ]
  },
  {
   "cell_type": "markdown",
   "id": "eb3d7dcd-5447-4310-b7df-b5e508b00511",
   "metadata": {},
   "source": [
    "**isupper()** : Returns True if all characters in the string are upper case"
   ]
  },
  {
   "cell_type": "code",
   "execution_count": 168,
   "id": "9486d926-d9ad-423d-b508-2c9013ab3fbd",
   "metadata": {},
   "outputs": [
    {
     "name": "stdout",
     "output_type": "stream",
     "text": [
      "False\n",
      "False\n",
      "True\n"
     ]
    }
   ],
   "source": [
    "a = \"Hello World!\"\n",
    "b = \"hello 123\"\n",
    "c = \"MY NAME IS PETER\"\n",
    "\n",
    "print(a.isupper())\n",
    "print(b.isupper())\n",
    "print(c.isupper())"
   ]
  },
  {
   "cell_type": "markdown",
   "id": "c6d72cc7-e808-4d69-a167-f8a7e75a732a",
   "metadata": {},
   "source": [
    "**join()** : Joins the elements of an iterable to the end of the string"
   ]
  },
  {
   "cell_type": "code",
   "execution_count": 173,
   "id": "5757f200-73cf-42a4-9e44-f8fe482335d9",
   "metadata": {},
   "outputs": [
    {
     "data": {
      "text/plain": [
       "'Apple # Mango # Jackfruit'"
      ]
     },
     "execution_count": 173,
     "metadata": {},
     "output_type": "execute_result"
    }
   ],
   "source": [
    "x = \" # \"\n",
    "x.join([\"Apple\", \"Mango\", \"Jackfruit\"])"
   ]
  },
  {
   "cell_type": "code",
   "execution_count": 177,
   "id": "f32c70d4-5c9f-47fc-8e2b-ba0668bd6a4e",
   "metadata": {},
   "outputs": [
    {
     "data": {
      "text/plain": [
       "'name # email'"
      ]
     },
     "execution_count": 177,
     "metadata": {},
     "output_type": "execute_result"
    }
   ],
   "source": [
    "x = \" # \"\n",
    "x.join({\"name\":\"Utpal Paul\", \"email\":\"utpalseu@gmail.com\"})"
   ]
  },
  {
   "cell_type": "markdown",
   "id": "e1fbcced-5cab-4927-ad6b-d6c8e344f9e9",
   "metadata": {},
   "source": [
    "**ljust()** : Returns a left justified version of the string"
   ]
  },
  {
   "cell_type": "code",
   "execution_count": 180,
   "id": "d5117461-26bb-46a6-883f-4e86fc3abbfe",
   "metadata": {},
   "outputs": [
    {
     "data": {
      "text/plain": [
       "'Mango*****'"
      ]
     },
     "execution_count": 180,
     "metadata": {},
     "output_type": "execute_result"
    }
   ],
   "source": [
    "x = \"Mango\"\n",
    "x.ljust(10,\"*\")"
   ]
  },
  {
   "cell_type": "markdown",
   "id": "1a50a06c-a0fd-4c47-87b2-f102d949a73e",
   "metadata": {},
   "source": [
    "**lower()** : Converts a string into lower case"
   ]
  },
  {
   "cell_type": "code",
   "execution_count": 65,
   "id": "a169cc9d-4941-46b7-a229-97e32e5d85ae",
   "metadata": {},
   "outputs": [
    {
     "data": {
      "text/plain": [
       "'hello world'"
      ]
     },
     "execution_count": 65,
     "metadata": {},
     "output_type": "execute_result"
    }
   ],
   "source": [
    "x = \"HELLO WORLD\"\n",
    "x.lower()"
   ]
  },
  {
   "cell_type": "markdown",
   "id": "f3046b20-945d-419a-9cd8-e534136b7508",
   "metadata": {},
   "source": [
    "**lstrip()** : Returns a left trim version of the string"
   ]
  },
  {
   "cell_type": "code",
   "execution_count": 181,
   "id": "e20d5514-1229-409c-b8a7-2498e3e50469",
   "metadata": {},
   "outputs": [
    {
     "data": {
      "text/plain": [
       "'Mango    '"
      ]
     },
     "execution_count": 181,
     "metadata": {},
     "output_type": "execute_result"
    }
   ],
   "source": [
    "x = \"     Mango    \"\n",
    "x.lstrip()"
   ]
  },
  {
   "cell_type": "code",
   "execution_count": 185,
   "id": "07dd238f-5e9b-4391-8fe2-8b57d028188b",
   "metadata": {},
   "outputs": [
    {
     "data": {
      "text/plain": [
       "'Mango    '"
      ]
     },
     "execution_count": 185,
     "metadata": {},
     "output_type": "execute_result"
    }
   ],
   "source": [
    "x = \"****Mango    \"\n",
    "x.lstrip(\"*\")"
   ]
  },
  {
   "cell_type": "markdown",
   "id": "849dc71d-19b4-44f7-8eea-debc16ad14bb",
   "metadata": {},
   "source": [
    "**maketrans()** : Returns a translation table to be used in translations"
   ]
  },
  {
   "cell_type": "code",
   "execution_count": 252,
   "id": "079a9454-6547-4f46-9c19-a681f117c23c",
   "metadata": {},
   "outputs": [
    {
     "data": {
      "text/plain": [
       "'Uello Iorld'"
      ]
     },
     "execution_count": 252,
     "metadata": {},
     "output_type": "execute_result"
    }
   ],
   "source": [
    "text = \"Hello World\"\n",
    "x = \"HW\"\n",
    "y = \"UI\"\n",
    "\n",
    "z = str.maketrans(x,y)\n",
    "text.translate(z)"
   ]
  },
  {
   "cell_type": "code",
   "execution_count": 253,
   "id": "ffc860ce-6360-4476-b25e-8302059ac851",
   "metadata": {},
   "outputs": [
    {
     "name": "stdout",
     "output_type": "stream",
     "text": [
      "{72: 85, 87: 73, 108: None, 111: None}\n",
      "Ue Ird\n"
     ]
    }
   ],
   "source": [
    "text = \"Hello World\"\n",
    "x = \"HW\"\n",
    "y = \"UI\"\n",
    "z = \"lo\"\n",
    "\n",
    "myTrans = str.maketrans(x,y,z)\n",
    "print(myTrans)\n",
    "\n",
    "print(text.translate(myTrans))"
   ]
  },
  {
   "cell_type": "markdown",
   "id": "950402d6-1442-486c-b987-107390b2af33",
   "metadata": {},
   "source": [
    "**partition()** : Returns a tuple where the string is parted into three parts\n",
    "\n",
    "The **partition()** method searches for a specified string, and splits the string into a tuple containing three elements.\n",
    "\n",
    "* The first element contains the part before the specified string.\n",
    "* The second element contains the specified string.\n",
    "* The third element contains the part after the string.\n",
    "\n"
   ]
  },
  {
   "cell_type": "code",
   "execution_count": 249,
   "id": "d3fa73fa-2770-433f-b1df-3a29887192a0",
   "metadata": {},
   "outputs": [
    {
     "data": {
      "text/plain": [
       "('I like ',\n",
       " 'mango',\n",
       " ', but this mango is sour. Please plant another mango tree.')"
      ]
     },
     "execution_count": 249,
     "metadata": {},
     "output_type": "execute_result"
    }
   ],
   "source": [
    "x = \"I like mango, but this mango is sour. Please plant another mango tree.\"\n",
    "x.partition(\"mango\")"
   ]
  },
  {
   "cell_type": "code",
   "execution_count": 250,
   "id": "bc429e2d-2479-4177-bcd0-6f7e3d1fc065",
   "metadata": {},
   "outputs": [
    {
     "data": {
      "text/plain": [
       "('I like mango, but this mango is sour. Please plant another mango tree.',\n",
       " '',\n",
       " '')"
      ]
     },
     "execution_count": 250,
     "metadata": {},
     "output_type": "execute_result"
    }
   ],
   "source": [
    "x = \"I like mango, but this mango is sour. Please plant another mango tree.\"\n",
    "x.partition(\"banana\")"
   ]
  },
  {
   "cell_type": "markdown",
   "id": "635c0843-c566-4715-91c4-1ece6ce40285",
   "metadata": {},
   "source": [
    "**replace()** : Returns a string where a specified value is replaced with a specified value"
   ]
  },
  {
   "cell_type": "code",
   "execution_count": 189,
   "id": "1755322a-d596-4e37-888f-589618984b3a",
   "metadata": {},
   "outputs": [
    {
     "data": {
      "text/plain": [
       "'HellU WUrld'"
      ]
     },
     "execution_count": 189,
     "metadata": {},
     "output_type": "execute_result"
    }
   ],
   "source": [
    "x = \"Hello World\"\n",
    "x.replace(\"o\",\"U\")"
   ]
  },
  {
   "cell_type": "code",
   "execution_count": 190,
   "id": "0714c803-ff6e-4a67-b1cf-af78d2ad570f",
   "metadata": {},
   "outputs": [
    {
     "data": {
      "text/plain": [
       "'HellU World'"
      ]
     },
     "execution_count": 190,
     "metadata": {},
     "output_type": "execute_result"
    }
   ],
   "source": [
    "x = \"Hello World\"\n",
    "x.replace(\"o\",\"U\",1)"
   ]
  },
  {
   "cell_type": "markdown",
   "id": "007d8b74-382c-4bbb-8a41-282f2539ab8c",
   "metadata": {},
   "source": [
    "**rfind()** : Searches the string for a specified value and returns the last position of where it was found"
   ]
  },
  {
   "cell_type": "code",
   "execution_count": 191,
   "id": "e70f555b-dafc-4b36-8ff4-58b1f2f2d4f4",
   "metadata": {},
   "outputs": [
    {
     "data": {
      "text/plain": [
       "7"
      ]
     },
     "execution_count": 191,
     "metadata": {},
     "output_type": "execute_result"
    }
   ],
   "source": [
    "x = \"Hello World\"\n",
    "x.rfind(\"o\")"
   ]
  },
  {
   "cell_type": "code",
   "execution_count": 192,
   "id": "872f25d9-dd1f-4cba-a403-5c4fb0e79f17",
   "metadata": {},
   "outputs": [
    {
     "data": {
      "text/plain": [
       "4"
      ]
     },
     "execution_count": 197,
     "metadata": {},
     "output_type": "execute_result"
    }
   ],
   "source": [
    "x = \"Hello World\"\n",
    "x.rfind(\"o\",1,5)"
   ]
  },
  {
   "cell_type": "markdown",
   "id": "32b9402d-3aa7-4f6c-88f2-75c6e578316d",
   "metadata": {},
   "source": [
    "**rindex()** : Searches the string for a specified value and returns the last position of where it was found"
   ]
  },
  {
   "cell_type": "code",
   "execution_count": 193,
   "id": "654d6709-7c8a-4101-bfdf-40dd8c2a9d2a",
   "metadata": {},
   "outputs": [
    {
     "data": {
      "text/plain": [
       "7"
      ]
     },
     "execution_count": 193,
     "metadata": {},
     "output_type": "execute_result"
    }
   ],
   "source": [
    "x = \"Hello World\"\n",
    "x.rindex(\"o\")"
   ]
  },
  {
   "cell_type": "code",
   "execution_count": 198,
   "id": "c2ddc421-a675-4184-9541-42f64ed4eaee",
   "metadata": {},
   "outputs": [
    {
     "data": {
      "text/plain": [
       "4"
      ]
     },
     "execution_count": 198,
     "metadata": {},
     "output_type": "execute_result"
    }
   ],
   "source": [
    "x = \"Hello World\"\n",
    "x.rindex(\"o\",1,5)"
   ]
  },
  {
   "cell_type": "markdown",
   "id": "841e6661-4f80-4d1a-b4f2-cefe3c09189d",
   "metadata": {},
   "source": [
    "**rjust()** : Returns a right justified version of the string"
   ]
  },
  {
   "cell_type": "code",
   "execution_count": 204,
   "id": "77f2e71c-7ef1-4f08-ac66-809db2b8f950",
   "metadata": {},
   "outputs": [
    {
     "data": {
      "text/plain": [
       "'*****Hello'"
      ]
     },
     "execution_count": 204,
     "metadata": {},
     "output_type": "execute_result"
    }
   ],
   "source": [
    "x = \"Hello\"\n",
    "x.rjust(10, \"*\")"
   ]
  },
  {
   "cell_type": "code",
   "execution_count": 203,
   "id": "806c5666-52a9-4d84-a452-1dc79e9cda46",
   "metadata": {},
   "outputs": [
    {
     "data": {
      "text/plain": [
       "'Hello*****'"
      ]
     },
     "execution_count": 203,
     "metadata": {},
     "output_type": "execute_result"
    }
   ],
   "source": [
    "x = \"Hello\"\n",
    "x.ljust(10, \"*\")"
   ]
  },
  {
   "cell_type": "markdown",
   "id": "ebfe643c-c40b-41fd-98af-cc4658ac4d84",
   "metadata": {},
   "source": [
    "**rpartition()** : Returns a tuple where the string is parted into three parts\n",
    "\n",
    "The **rpartition()** method searches for the last occurrence of a specified string, and splits the string into a tuple containing three elements.\n",
    "* The first element contains the part before the specified string.\n",
    "* The second element contains the specified string.\n",
    "* The third element contains the part after the string."
   ]
  },
  {
   "cell_type": "code",
   "execution_count": 248,
   "id": "acbf7918-4924-42a9-bce4-805e3ccb8915",
   "metadata": {},
   "outputs": [
    {
     "data": {
      "text/plain": [
       "('I like ',\n",
       " 'mango',\n",
       " ', but this mango is sour. Please plant another mango tree.')"
      ]
     },
     "execution_count": 248,
     "metadata": {},
     "output_type": "execute_result"
    }
   ],
   "source": [
    "x = \"I like mango, but this mango is sour. Please plant another mango tree.\"\n",
    "x.partition(\"mango\")"
   ]
  },
  {
   "cell_type": "code",
   "execution_count": 205,
   "id": "d001ffa8-fc26-444e-a036-9584c952feff",
   "metadata": {},
   "outputs": [
    {
     "data": {
      "text/plain": [
       "('I like mango, but this mango is sour. Please plant another ',\n",
       " 'mango',\n",
       " ' tree.')"
      ]
     },
     "execution_count": 205,
     "metadata": {},
     "output_type": "execute_result"
    }
   ],
   "source": [
    "x = \"I like mango, but this mango is sour. Please plant another mango tree.\"\n",
    "x.rpartition(\"mango\")"
   ]
  },
  {
   "cell_type": "code",
   "execution_count": 206,
   "id": "bfe931b3-9ee2-4540-92e5-63486fd41a45",
   "metadata": {},
   "outputs": [
    {
     "data": {
      "text/plain": [
       "('',\n",
       " '',\n",
       " 'I like mango, but this mango is sour. Please plant another mango tree.')"
      ]
     },
     "execution_count": 206,
     "metadata": {},
     "output_type": "execute_result"
    }
   ],
   "source": [
    "x = \"I like mango, but this mango is sour. Please plant another mango tree.\"\n",
    "x.rpartition(\"banana\")"
   ]
  },
  {
   "cell_type": "markdown",
   "id": "cc774be0-f138-405c-8e55-ff0a0c9b43f3",
   "metadata": {},
   "source": [
    "**rsplit()** : Splits the string at the specified separator, and returns a list"
   ]
  },
  {
   "cell_type": "code",
   "execution_count": 207,
   "id": "106f9db5-17ac-459b-aefb-8094537b7ae2",
   "metadata": {},
   "outputs": [
    {
     "data": {
      "text/plain": [
       "['Welcome', 'to', 'all', 'in', 'our', 'new', 'campus']"
      ]
     },
     "execution_count": 207,
     "metadata": {},
     "output_type": "execute_result"
    }
   ],
   "source": [
    "x = \"Welcome to all in our new campus\"\n",
    "x.split(\" \")"
   ]
  },
  {
   "cell_type": "code",
   "execution_count": 210,
   "id": "740d9f77-8cfd-47fd-a879-3943bf82e1db",
   "metadata": {},
   "outputs": [
    {
     "data": {
      "text/plain": [
       "['Welcome', 'to all in our new campus']"
      ]
     },
     "execution_count": 210,
     "metadata": {},
     "output_type": "execute_result"
    }
   ],
   "source": [
    "x = \"Welcome to all in our new campus\"\n",
    "x.split(\" \",1)"
   ]
  },
  {
   "cell_type": "code",
   "execution_count": 208,
   "id": "6081cd75-3ba3-4042-90b8-580f5a033500",
   "metadata": {},
   "outputs": [
    {
     "data": {
      "text/plain": [
       "['Welcome', 'to', 'all', 'in', 'our', 'new', 'campus']"
      ]
     },
     "execution_count": 208,
     "metadata": {},
     "output_type": "execute_result"
    }
   ],
   "source": [
    "x = \"Welcome to all in our new campus\"\n",
    "x.rsplit(\" \")"
   ]
  },
  {
   "cell_type": "code",
   "execution_count": 211,
   "id": "feee99fd-6dec-487f-a2ad-900e6754f63f",
   "metadata": {},
   "outputs": [
    {
     "data": {
      "text/plain": [
       "['Welcome to all in our new', 'campus']"
      ]
     },
     "execution_count": 211,
     "metadata": {},
     "output_type": "execute_result"
    }
   ],
   "source": [
    "x = \"Welcome to all in our new campus\"\n",
    "x.rsplit(\" \",1)"
   ]
  },
  {
   "cell_type": "markdown",
   "id": "07d6002b-0ed0-4f07-b939-14b680939a9d",
   "metadata": {},
   "source": [
    "**splitlines()** : Splits the string at line breaks and returns a list"
   ]
  },
  {
   "cell_type": "code",
   "execution_count": 217,
   "id": "91b972a7-b548-4335-a9d8-208fe0e8a562",
   "metadata": {},
   "outputs": [
    {
     "data": {
      "text/plain": [
       "['Hello ', 'World']"
      ]
     },
     "execution_count": 217,
     "metadata": {},
     "output_type": "execute_result"
    }
   ],
   "source": [
    "x = \"Hello \\nWorld\"\n",
    "x.splitlines()"
   ]
  },
  {
   "cell_type": "code",
   "execution_count": 216,
   "id": "096450f6-94c0-4736-ad8e-604e3c61783a",
   "metadata": {},
   "outputs": [
    {
     "data": {
      "text/plain": [
       "[' Line 01', '    Line 02', '    Line 03']"
      ]
     },
     "execution_count": 216,
     "metadata": {},
     "output_type": "execute_result"
    }
   ],
   "source": [
    "x = \"\"\" Line 01\n",
    "    Line 02\n",
    "    Line 03\"\"\"\n",
    "x.splitlines()"
   ]
  },
  {
   "cell_type": "markdown",
   "id": "9ec38679-89a6-444d-b3bf-c224f0503f67",
   "metadata": {},
   "source": [
    "**startswith()** : Returns true if the string starts with the specified value"
   ]
  },
  {
   "cell_type": "code",
   "execution_count": 222,
   "id": "a89e5902-dd5f-4439-826b-6d881be115e1",
   "metadata": {},
   "outputs": [
    {
     "data": {
      "text/plain": [
       "True"
      ]
     },
     "execution_count": 222,
     "metadata": {},
     "output_type": "execute_result"
    }
   ],
   "source": [
    "x = \"Hello World\"\n",
    "x.startswith(\"H\")"
   ]
  },
  {
   "cell_type": "code",
   "execution_count": 224,
   "id": "137592c6-74c5-4567-bc54-d494fb2f29f5",
   "metadata": {},
   "outputs": [
    {
     "data": {
      "text/plain": [
       "True"
      ]
     },
     "execution_count": 224,
     "metadata": {},
     "output_type": "execute_result"
    }
   ],
   "source": [
    "x = \"Hello World\"\n",
    "x.startswith(\"ello\",1,5)"
   ]
  },
  {
   "cell_type": "markdown",
   "id": "22f68dd6-9c4b-474a-b234-0a29d70d08cb",
   "metadata": {},
   "source": [
    "**strip()** : Returns a trimmed version of the string"
   ]
  },
  {
   "cell_type": "code",
   "execution_count": 70,
   "id": "65e026c0-aed5-467f-9a02-eed627da1fb2",
   "metadata": {},
   "outputs": [
    {
     "data": {
      "text/plain": [
       "'Hello World'"
      ]
     },
     "execution_count": 70,
     "metadata": {},
     "output_type": "execute_result"
    }
   ],
   "source": [
    "x = \" Hello World  \"\n",
    "x.strip()"
   ]
  },
  {
   "cell_type": "markdown",
   "id": "b4965f76-18eb-49c3-9aa7-ae6fb601816a",
   "metadata": {},
   "source": [
    "**rstrip()** : Returns a right trim version of the string"
   ]
  },
  {
   "cell_type": "code",
   "execution_count": 71,
   "id": "75ae271a-8d2f-41af-ab3a-1e0d9c7aed84",
   "metadata": {},
   "outputs": [
    {
     "data": {
      "text/plain": [
       "'  Hello world'"
      ]
     },
     "execution_count": 71,
     "metadata": {},
     "output_type": "execute_result"
    }
   ],
   "source": [
    "x = \"  Hello world   \"\n",
    "x.rstrip()"
   ]
  },
  {
   "cell_type": "markdown",
   "id": "60048827-eb23-468f-bb74-825ecbce757b",
   "metadata": {},
   "source": [
    "**swapcase()** : Swaps cases, lower case becomes upper case and vice versa"
   ]
  },
  {
   "cell_type": "code",
   "execution_count": 66,
   "id": "0b8725a7-62bb-4976-a614-aeebcd020218",
   "metadata": {},
   "outputs": [
    {
     "data": {
      "text/plain": [
       "'hELLO wOrLd'"
      ]
     },
     "execution_count": 66,
     "metadata": {},
     "output_type": "execute_result"
    }
   ],
   "source": [
    "x = \"Hello WoRlD\"\n",
    "x.swapcase()"
   ]
  },
  {
   "cell_type": "markdown",
   "id": "bfd19808-b12b-4db8-8d9e-c05c4ec69b46",
   "metadata": {},
   "source": [
    "**title()** : Converts the first character of each word to upper case"
   ]
  },
  {
   "cell_type": "code",
   "execution_count": 68,
   "id": "75628ae5-8072-4196-a0d8-04a5a8e0362a",
   "metadata": {},
   "outputs": [
    {
     "data": {
      "text/plain": [
       "'Hello World'"
      ]
     },
     "execution_count": 68,
     "metadata": {},
     "output_type": "execute_result"
    }
   ],
   "source": [
    "x = \"Hello WORLD\"\n",
    "x.title()"
   ]
  },
  {
   "cell_type": "code",
   "execution_count": 247,
   "id": "3cf256ae-7ec7-448e-8999-6fb06396d4ef",
   "metadata": {},
   "outputs": [
    {
     "data": {
      "text/plain": [
       "'Hello B2B2B2 And 3G3G3G'"
      ]
     },
     "execution_count": 247,
     "metadata": {},
     "output_type": "execute_result"
    }
   ],
   "source": [
    "txt = \"hello b2b2b2 and 3g3g3g\"\n",
    "txt.title()"
   ]
  },
  {
   "cell_type": "markdown",
   "id": "7ef0291d-fc5d-4a8f-88bb-994da107faf6",
   "metadata": {},
   "source": [
    "**translate()** : Returns a translated string"
   ]
  },
  {
   "cell_type": "code",
   "execution_count": 237,
   "id": "3a80f2ec-0db6-4d81-bc3c-972596c767ae",
   "metadata": {},
   "outputs": [
    {
     "data": {
      "text/plain": [
       "'Uello, Ielcome to all'"
      ]
     },
     "execution_count": 237,
     "metadata": {},
     "output_type": "execute_result"
    }
   ],
   "source": [
    "text = \"Hello, Welcome to all\"\n",
    "x= \"HW\"\n",
    "y = \"UI\"\n",
    "\n",
    "myTrans = str.maketrans(x,y)\n",
    "# print(myTrans)\n",
    "\n",
    "text.translate(myTrans)"
   ]
  },
  {
   "cell_type": "code",
   "execution_count": 243,
   "id": "98dabcb8-4d05-4258-b5d8-e45493b437d5",
   "metadata": {},
   "outputs": [
    {
     "name": "stdout",
     "output_type": "stream",
     "text": [
      "{72: 85, 87: 73, 108: None, 111: None}\n"
     ]
    },
    {
     "data": {
      "text/plain": [
       "'Ue, Iecme t a'"
      ]
     },
     "execution_count": 243,
     "metadata": {},
     "output_type": "execute_result"
    }
   ],
   "source": [
    "text = \"Hello, Welcome to all\"\n",
    "x= \"HW\"\n",
    "y = \"UI\"\n",
    "z = \"lo\"\n",
    "\n",
    "myTrans = str.maketrans(x,y,z)\n",
    "print(myTrans)\n",
    "\n",
    "text.translate(myTrans)"
   ]
  },
  {
   "cell_type": "code",
   "execution_count": 242,
   "id": "dc70cb45-0f53-43a4-bff0-9e9c93c5f47a",
   "metadata": {},
   "outputs": [
    {
     "name": "stdout",
     "output_type": "stream",
     "text": [
      "{109: 101, 83: 74, 97: 111, 111: None, 100: None, 110: None, 103: None, 104: None, 116: None}\n",
      "Hel\n"
     ]
    }
   ],
   "source": [
    "txt = \"Hel\"\n",
    "x = \"mSa\"\n",
    "y = \"eJo\"\n",
    "z = \"odnght\"\n",
    "mytable = str.maketrans(x, y, z)\n",
    "print(mytable)\n",
    "print(txt.translate(mytable))"
   ]
  },
  {
   "cell_type": "markdown",
   "id": "2ec52c3b-353c-4297-9c4f-a617185b9347",
   "metadata": {},
   "source": [
    "**upper()** : Converts a string into upper case"
   ]
  },
  {
   "cell_type": "code",
   "execution_count": 69,
   "id": "474f0f05-1c5e-4f65-9e5d-99683716d48b",
   "metadata": {},
   "outputs": [
    {
     "data": {
      "text/plain": [
       "'HELLO WORLD'"
      ]
     },
     "execution_count": 69,
     "metadata": {},
     "output_type": "execute_result"
    }
   ],
   "source": [
    "x = \"hello World\"\n",
    "x.upper()"
   ]
  },
  {
   "cell_type": "markdown",
   "id": "1bdb0428-9a04-428f-90a6-b27bcc5c1a7a",
   "metadata": {},
   "source": [
    "**zfill()** : Fills the string with a specified number of 0 values at the beginning"
   ]
  },
  {
   "cell_type": "code",
   "execution_count": 233,
   "id": "7a690c74-9102-4809-bba1-40c08fbfce61",
   "metadata": {},
   "outputs": [
    {
     "name": "stdout",
     "output_type": "stream",
     "text": [
      "00000hello\n",
      "00000hello\n",
      "welcome to the jungle\n",
      "000010.000\n",
      "000010.000\n"
     ]
    }
   ],
   "source": [
    "a = \"hello\"\n",
    "b = \"welcome to the jungle\"\n",
    "c = \"10.000\"\n",
    "\n",
    "print(a.zfill(10))\n",
    "print(a.rjust(10,\"0\"))\n",
    "\n",
    "print(b.zfill(10))\n",
    "\n",
    "print(c.zfill(10))\n",
    "print(c.rjust(10,\"0\"))"
   ]
  },
  {
   "cell_type": "code",
   "execution_count": null,
   "id": "24adcc86-4d34-42f3-8c46-3e373d10f97d",
   "metadata": {},
   "outputs": [],
   "source": []
  }
 ],
 "metadata": {
  "kernelspec": {
   "display_name": "Python 3 (ipykernel)",
   "language": "python",
   "name": "python3"
  },
  "language_info": {
   "codemirror_mode": {
    "name": "ipython",
    "version": 3
   },
   "file_extension": ".py",
   "mimetype": "text/x-python",
   "name": "python",
   "nbconvert_exporter": "python",
   "pygments_lexer": "ipython3",
   "version": "3.10.9"
  }
 },
 "nbformat": 4,
 "nbformat_minor": 5
}
