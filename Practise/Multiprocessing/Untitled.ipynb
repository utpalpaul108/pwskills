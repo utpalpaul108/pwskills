{
 "cells": [
  {
   "cell_type": "markdown",
   "id": "03d61a2e-3ea4-4a69-8cd7-3744557d90c4",
   "metadata": {},
   "source": [
    "## Multiprocessing"
   ]
  },
  {
   "cell_type": "code",
   "execution_count": 1,
   "id": "f0605531-0bdb-4be3-99cc-9c45021426dc",
   "metadata": {
    "tags": []
   },
   "outputs": [
    {
     "name": "stdout",
     "output_type": "stream",
     "text": [
      "Processed Started by : Utpal\n",
      "Processed Started by : Hasan\n",
      "All process END\n"
     ]
    }
   ],
   "source": [
    "import multiprocessing\n",
    "\n",
    "def test(name):\n",
    "    print(f\"Processed Started by : {name}\")\n",
    "\n",
    "if __name__ == \"__main__\":\n",
    "    p1 = multiprocessing.Process(target=test, args=(\"Utpal\", ))\n",
    "    p2 = multiprocessing.Process(target=test, args=(\"Hasan\", ))\n",
    "    \n",
    "    p1.start()\n",
    "    p2.start()\n",
    "    \n",
    "    p1.join()\n",
    "    p2.join()\n",
    "    print(\"All process END\")"
   ]
  },
  {
   "cell_type": "code",
   "execution_count": null,
   "id": "532c1048-78d0-4b92-814a-becfed68587d",
   "metadata": {},
   "outputs": [],
   "source": []
  },
  {
   "cell_type": "code",
   "execution_count": 10,
   "id": "510a6d65-9eac-49c8-a3b8-28e85f45e65c",
   "metadata": {
    "tags": []
   },
   "outputs": [
    {
     "name": "stdout",
     "output_type": "stream",
     "text": [
      "[1, 4, 9, 16, 25]\n"
     ]
    }
   ],
   "source": [
    "# Create Multiple Process\n",
    "# Distributes the Data and Functions \n",
    "# Pool Accumulate the Outputs\n",
    "\n",
    "def square(n):\n",
    "    return n**2\n",
    "\n",
    "if __name__ == \"__main__\":\n",
    "    with multiprocessing.Pool(processes=5) as pool:\n",
    "        out = pool.map(square, [1,2,3,4,5])\n",
    "        print(out)\n",
    "    "
   ]
  },
  {
   "cell_type": "code",
   "execution_count": null,
   "id": "da145189-177b-4f8d-b1e6-5baa16e14ce5",
   "metadata": {},
   "outputs": [],
   "source": []
  },
  {
   "cell_type": "code",
   "execution_count": null,
   "id": "0e546491-ab98-4e97-b59b-f03f965658a6",
   "metadata": {
    "tags": []
   },
   "outputs": [],
   "source": [
    "# Multiprocessing Queue\n",
    "import multiprocessing\n",
    "\n",
    "def producer(q):\n",
    "    for x in [\"Utpal\", \"Hasan\", \"Rony\", \"Kamal\"]:\n",
    "        q.put(x)\n",
    "\n",
    "def consumer(q):\n",
    "    while True:\n",
    "        item = q.get()\n",
    "        if item is None:\n",
    "            break\n",
    "        print(item)"
   ]
  },
  {
   "cell_type": "code",
   "execution_count": null,
   "id": "8a080c9a-3043-4d83-a03f-db4c870067ee",
   "metadata": {
    "tags": []
   },
   "outputs": [],
   "source": [
    "\n",
    "if __name__ == \"__main__\":\n",
    "    q = multiprocessing.Queue()\n",
    "    \n",
    "    p1 = multiprocessing.Process(target=producer, args=(q,))\n",
    "    p2 = multiprocessing.Process(target=consumer, args=(q,))\n",
    "    \n",
    "    p1.start()\n",
    "    p2.start()\n",
    "    \n",
    "    q.put(\"Masud\")\n",
    "    \n",
    "    p1.join()\n",
    "    p2.join()"
   ]
  },
  {
   "cell_type": "code",
   "execution_count": null,
   "id": "c6f7f825-9cb8-465d-bd25-5f7ab9747c3b",
   "metadata": {},
   "outputs": [],
   "source": []
  },
  {
   "cell_type": "code",
   "execution_count": 5,
   "id": "e92209ee-247e-4546-808c-26fb6d0e9300",
   "metadata": {
    "tags": []
   },
   "outputs": [
    {
     "name": "stdout",
     "output_type": "stream",
     "text": [
      "[4, 4, 4, 4, 4, 4, 4, 4]\n"
     ]
    }
   ],
   "source": [
    "# Multiprocessing for Array\n",
    "\n",
    "import multiprocessing\n",
    "\n",
    "def update_array(shared_array, process_id):\n",
    "    for i in range(len(shared_array)):\n",
    "        shared_array[i] += process_id\n",
    "    \n",
    "if __name__ == \"__main__\":\n",
    "    # Create the shared Array\n",
    "    shared_array = multiprocessing.Array('i', [1,1,1,1,1,1,1,1])\n",
    "    \n",
    "    # Create the process\n",
    "    p1 = multiprocessing.Process(target=update_array, args=(shared_array,1))\n",
    "    p2 = multiprocessing.Process(target=update_array, args=(shared_array,2))\n",
    "    \n",
    "    # Start both process\n",
    "    p1.start()\n",
    "    p2.start()\n",
    "    \n",
    "    # Wait for both process to end\n",
    "    p1.join()\n",
    "    p2.join()\n",
    "    \n",
    "    # Prit the Updated Shared Array\n",
    "    print(shared_array[:])\n",
    "    "
   ]
  },
  {
   "cell_type": "code",
   "execution_count": null,
   "id": "3dc70aaf-d360-40ea-86f4-80acb6029b93",
   "metadata": {},
   "outputs": [],
   "source": []
  },
  {
   "cell_type": "code",
   "execution_count": 1,
   "id": "a4f7351b-4ceb-4345-9beb-80eab2ba4420",
   "metadata": {
    "tags": []
   },
   "outputs": [
    {
     "name": "stdout",
     "output_type": "stream",
     "text": [
      "Hi, Utpal\n"
     ]
    }
   ],
   "source": [
    "# Pipe on Multiprocessing\n",
    "\n",
    "import multiprocessing\n",
    "\n",
    "def send_message(conn, msg):\n",
    "    conn.send(msg)\n",
    "\n",
    "# Create a Pipe between two process\n",
    "parent_conn, child_conn = multiprocessing.Pipe()\n",
    "\n",
    "# Create a Process to send the message\n",
    "parent_process = multiprocessing.Process(target=send_message, args=(parent_conn,\"Hi, Utpal\"))\n",
    "parent_process.start()\n",
    "\n",
    "# Wait for the message to complete the message sending\n",
    "parent_process.join()\n",
    "\n",
    "# Receive the message\n",
    "message = child_conn.recv()\n",
    "print(message)"
   ]
  },
  {
   "cell_type": "code",
   "execution_count": null,
   "id": "6d50e321-b5b8-4601-879f-98a1ad610955",
   "metadata": {},
   "outputs": [],
   "source": []
  },
  {
   "cell_type": "code",
   "execution_count": null,
   "id": "18362442-0388-4f39-af53-9255fb3fe503",
   "metadata": {
    "tags": []
   },
   "outputs": [],
   "source": [
    "# Pipe on Multiprocessing\n",
    "\n",
    "import multiprocessing\n",
    "\n",
    "def send_message(conn, messages):\n",
    "    for msg in messages:\n",
    "        conn.send(msg)\n",
    "    conn.close()\n",
    "    \n",
    "def receive_message(conn):\n",
    "    while True:\n",
    "        try:\n",
    "            message = conn.recv()\n",
    "        except Exception as e:\n",
    "            print(e)\n",
    "            break\n",
    "            \n",
    "        print(message)\n",
    "        \n",
    "\n",
    "if __name__ == \"__main__\":\n",
    "\n",
    "    # Create a Pipe between two process\n",
    "    parent_conn, child_conn = multiprocessing.Pipe()\n",
    "\n",
    "    # Create a Process to send the message\n",
    "    parent_process = multiprocessing.Process(target=send_message, args=(parent_conn,[\"Hi, Utpal\",\"How Are You\", \"Hope You are Fine\", \"When are you comming ?\"]))\n",
    "    child_process = multiprocessing.Process(target=receive_message, args=(parent_conn,))\n",
    "\n",
    "    parent_process.start()\n",
    "    child_process.start()\n",
    "\n",
    "    # Wait for the message to complete the message sending\n",
    "    parent_process.join()\n",
    "    parent_conn.close()\n",
    "    child_process.join()\n",
    "    child_conn.close()"
   ]
  },
  {
   "cell_type": "code",
   "execution_count": null,
   "id": "0006ab49-a9e9-4b26-9b6e-be2e9848894e",
   "metadata": {},
   "outputs": [],
   "source": []
  },
  {
   "cell_type": "code",
   "execution_count": null,
   "id": "f1523d47-79ec-48f0-93c3-a9000552a198",
   "metadata": {
    "tags": []
   },
   "outputs": [
    {
     "name": "stdout",
     "output_type": "stream",
     "text": [
      "my name is sudh\n",
      "this is my msg  to my students \n",
      "i am taking class for dsm \n",
      "try to practice all the code \n"
     ]
    }
   ],
   "source": [
    "import multiprocessing\n",
    "\n",
    "def sender(conn , msg):\n",
    "    for i in msg:\n",
    "        conn.send(i)\n",
    "    conn.close()\n",
    "    \n",
    "def receive(conn) :\n",
    "    while True:\n",
    "        try:\n",
    "            msg = conn.recv()\n",
    "        except Exception as e :\n",
    "            print(e)\n",
    "            break\n",
    "        print(msg)\n",
    "\n",
    "if __name__ == '__main__':\n",
    "    msg = [\"my name is sudh\" , \"this is my msg  to my students \" , \"i am taking class for dsm \" , \"try to practice all the code \"]\n",
    "    parent_conn , child_conn = multiprocessing.Pipe()\n",
    "    m1 = multiprocessing.Process(target=sender , args = (child_conn , msg))\n",
    "    m2 = multiprocessing.Process(target=receive , args = (parent_conn,))\n",
    "    m1.start()\n",
    "    m2.start()\n",
    "    m1.join()\n",
    "    child_conn.close()\n",
    "    m2.join()\n",
    "    parent_conn.close()\n",
    "    "
   ]
  },
  {
   "cell_type": "code",
   "execution_count": null,
   "id": "a5fb4b3e-b9d7-4ced-936b-792fbd6daabb",
   "metadata": {},
   "outputs": [],
   "source": []
  }
 ],
 "metadata": {
  "kernelspec": {
   "display_name": "Python 3 (ipykernel)",
   "language": "python",
   "name": "python3"
  },
  "language_info": {
   "codemirror_mode": {
    "name": "ipython",
    "version": 3
   },
   "file_extension": ".py",
   "mimetype": "text/x-python",
   "name": "python",
   "nbconvert_exporter": "python",
   "pygments_lexer": "ipython3",
   "version": "3.10.6"
  }
 },
 "nbformat": 4,
 "nbformat_minor": 5
}
