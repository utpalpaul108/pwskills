{
 "cells": [
  {
   "cell_type": "markdown",
   "id": "03d61a2e-3ea4-4a69-8cd7-3744557d90c4",
   "metadata": {},
   "source": [
    "## Multiprocessing"
   ]
  },
  {
   "cell_type": "code",
   "execution_count": 1,
   "id": "f0605531-0bdb-4be3-99cc-9c45021426dc",
   "metadata": {},
   "outputs": [],
   "source": [
    "import multiprocessing\n",
    "\n",
    "def cal_square(numbers):\n",
    "    for n in numbers:\n",
    "        print(f\"Square : {n**2}\")\n",
    "\n",
    "my_numbers = [1,2,3,4,5,6,7,8,9,10]\n",
    "\n",
    "if __name__ == \"__main__\":\n",
    "    p1 = multiprocessing.Process(target=cal_square, args=(my_numbers,))\n",
    "    \n",
    "    p1.start()\n",
    "    p1.join()"
   ]
  },
  {
   "cell_type": "code",
   "execution_count": 2,
   "id": "510a6d65-9eac-49c8-a3b8-28e85f45e65c",
   "metadata": {},
   "outputs": [
    {
     "name": "stdout",
     "output_type": "stream",
     "text": [
      "This is my main program\n"
     ]
    }
   ],
   "source": [
    "def test():\n",
    "    print(\"This is my multiprocessing program\")\n",
    "\n",
    "if __name__ == \"__main__\":\n",
    "    m = multiprocessing.Process(target=test)\n",
    "    print(\"This is my main program\")\n",
    "    m.start()\n",
    "    m.join()"
   ]
  },
  {
   "cell_type": "code",
   "execution_count": null,
   "id": "3a8ecd1e-8de0-47f7-b15d-5779b14812f8",
   "metadata": {},
   "outputs": [],
   "source": []
  },
  {
   "cell_type": "code",
   "execution_count": 1,
   "id": "ebca106a-4920-492b-afea-8dd2829017a1",
   "metadata": {},
   "outputs": [
    {
     "name": "stdout",
     "output_type": "stream",
     "text": [
      "Total Time Taken : 0.40296149253845215\n"
     ]
    }
   ],
   "source": [
    "import time\n",
    "\n",
    "def cal_square(number):\n",
    "    return number**2\n",
    "\n",
    "my_numbers = range(1000000)\n",
    "\n",
    "start = time.time()\n",
    "\n",
    "x = map(cal_square, my_numbers)\n",
    "list(x)\n",
    "\n",
    "end = time.time()\n",
    "\n",
    "print(f\"Total Time Taken : {end-start}\")"
   ]
  },
  {
   "cell_type": "code",
   "execution_count": null,
   "id": "abd757ab-abaa-4e29-9cca-b790106dd74c",
   "metadata": {},
   "outputs": [],
   "source": []
  },
  {
   "cell_type": "code",
   "execution_count": null,
   "id": "ac4459bb-5647-445d-bd34-8e4299dcfcaf",
   "metadata": {},
   "outputs": [],
   "source": [
    "import time\n",
    "import multiprocessing\n",
    "\n",
    "def cal_square(number):\n",
    "    return number**2\n",
    "\n",
    "my_numbers = range(10000000)\n",
    "\n",
    "start = time.time()\n",
    "\n",
    "if __name__ == '__main__':\n",
    "    with multiprocessing.Pool(processes=8) as pool:\n",
    "        results = pool.map(cal_square, my_numbers)\n",
    "    # print(results)\n",
    "\n",
    "end = time.time()\n",
    "\n",
    "print(f\"Total Time Taken : {end-start}\")"
   ]
  },
  {
   "cell_type": "code",
   "execution_count": null,
   "id": "c718a475-a2c3-4264-8d27-51b663de1718",
   "metadata": {},
   "outputs": [],
   "source": []
  },
  {
   "cell_type": "code",
   "execution_count": 3,
   "id": "c2836169-af80-4a50-96e9-f7eb648d75f6",
   "metadata": {},
   "outputs": [],
   "source": [
    "import multiprocessing\n",
    "\n",
    "def producer(q):\n",
    "    for x in [\"Apple\", \"Banana\", \"Mango\", \"Jackfruit\"]:\n",
    "        q.put(x)\n",
    "        \n",
    "def consumer(q):\n",
    "    while True:\n",
    "        item = q.get()\n",
    "        if item is None:\n",
    "            break"
   ]
  },
  {
   "cell_type": "code",
   "execution_count": null,
   "id": "6d0c42a4-36ee-4f26-9e0b-3078c3eb76f5",
   "metadata": {},
   "outputs": [],
   "source": []
  },
  {
   "cell_type": "code",
   "execution_count": null,
   "id": "a8d345bb-e2cf-4ea5-a7e1-7efc9f7928eb",
   "metadata": {},
   "outputs": [],
   "source": []
  },
  {
   "cell_type": "code",
   "execution_count": null,
   "id": "488cd9e8-a1d7-48ad-acd2-f235b2b33268",
   "metadata": {},
   "outputs": [],
   "source": []
  }
 ],
 "metadata": {
  "kernelspec": {
   "display_name": "Python 3 (ipykernel)",
   "language": "python",
   "name": "python3"
  },
  "language_info": {
   "codemirror_mode": {
    "name": "ipython",
    "version": 3
   },
   "file_extension": ".py",
   "mimetype": "text/x-python",
   "name": "python",
   "nbconvert_exporter": "python",
   "pygments_lexer": "ipython3",
   "version": "3.10.6"
  }
 },
 "nbformat": 4,
 "nbformat_minor": 5
}
